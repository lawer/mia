{
 "cells": [
  {
   "cell_type": "markdown",
   "source": [
    "# Exercicis búsqueda local"
   ],
   "metadata": {
    "collapsed": false
   },
   "id": "87f31fc3c37d8898"
  },
  {
   "cell_type": "markdown",
   "source": [
    "## Preguntes curtes"
   ],
   "metadata": {
    "collapsed": false
   },
   "id": "2896d89bd2f99eb5"
  },
  {
   "cell_type": "markdown",
   "source": [],
   "metadata": {
    "collapsed": false
   },
   "id": "54bb326826fd4211"
  },
  {
   "cell_type": "markdown",
   "source": [],
   "metadata": {
    "collapsed": false
   },
   "id": "2742c5bb5094d797"
  },
  {
   "cell_type": "markdown",
   "source": [
    "1. Què és una solució factible?"
   ],
   "metadata": {
    "collapsed": false
   },
   "id": "bfaef723fc3c6f70"
  },
  {
   "cell_type": "markdown",
   "source": [
    "R: Una solució factible és aquella que compleix amb les restriccions del problema."
   ],
   "metadata": {
    "collapsed": false
   },
   "id": "b8293161b7a7a6d1"
  },
  {
   "cell_type": "markdown",
   "source": [
    "2. Què és una solució òptima?"
   ],
   "metadata": {
    "collapsed": false
   },
   "id": "b9db2c574a328c4f"
  },
  {
   "cell_type": "markdown",
   "source": [
    "R: Una solució òptima és aquella que té el valor més alt de la funció objectiu."
   ],
   "metadata": {
    "collapsed": false
   },
   "id": "5f6ee9f567ce7f6f"
  },
  {
   "cell_type": "markdown",
   "source": [
    "3. Què és una solució òptima local?"
   ],
   "metadata": {
    "collapsed": false
   },
   "id": "70495a303eaaf180"
  },
  {
   "cell_type": "markdown",
   "source": [
    "R: Una solució òptima local és aquella que té el valor més alt de la funció objectiu d'entre les solucions veïnes."
   ],
   "metadata": {
    "collapsed": false
   },
   "id": "462a10bef5a5be18"
  },
  {
   "cell_type": "markdown",
   "source": [
    "4. Què és una solució òptima global?"
   ],
   "metadata": {
    "collapsed": false
   },
   "id": "affa9954d5c3bff8"
  },
  {
   "cell_type": "markdown",
   "source": [
    "R: Una solució òptima global és aquella que té el valor més alt de la funció objectiu d'entre totes les solucions."
   ],
   "metadata": {
    "collapsed": false
   },
   "id": "28ea7de84203f897"
  },
  {
   "cell_type": "markdown",
   "source": [
    "5. Quin problema ens trobem amb els algoritmes de cerca local?"
   ],
   "metadata": {
    "collapsed": false
   },
   "id": "cee09807867fb93e"
  },
  {
   "cell_type": "markdown",
   "source": [
    "R: Els algoritmes de cerca local poden quedar atrapats en òptims locals."
   ],
   "metadata": {
    "collapsed": false
   },
   "id": "b90ba9667664b56f"
  },
  {
   "cell_type": "markdown",
   "source": [
    "6. Quina solució podem aplicar per tal de resoldre el problema anterior?"
   ],
   "metadata": {
    "collapsed": false
   },
   "id": "455f9ae6b109259e"
  },
  {
   "cell_type": "markdown",
   "source": [
    "R: Podem aplicar técniques estocàstiques, com ara el recuit simulat."
   ],
   "metadata": {
    "collapsed": false
   },
   "id": "c908a816de7b1777"
  },
  {
   "cell_type": "markdown",
   "source": [],
   "metadata": {
    "collapsed": false
   },
   "id": "7a9e0c4c20383d34"
  },
  {
   "cell_type": "markdown",
   "source": [
    "## Exercici 1\n",
    "\n",
    "Implementa l'algoritme de cerca local Hill Climbing per resoldre el problema de la motxilla. Utilitzarem la classe `ProblemaBusquedaLocal` que ja hem vist a teoria."
   ],
   "metadata": {
    "collapsed": false
   },
   "id": "132b045c8e0a43f1"
  },
  {
   "cell_type": "code",
   "execution_count": 13,
   "outputs": [],
   "source": [
    "import numpy as np\n",
    "\n",
    "\n",
    "class ProblemaBusquedaLocal(object):\n",
    "    \"\"\"Aquesta és la classe abstracta per a un problema de cerca local.\n",
    "    Per a implementar un problema de cerca local, subclassejar aquesta classe i\n",
    "    implementar els mètodes estats_successors, funcio_avaluacio i es_solucio.\n",
    "    \"\"\"\n",
    "\n",
    "    def __init__(self, inicial=None, **kwds):\n",
    "        self.__dict__.update(inicial=inicial, **kwds)\n",
    "\n",
    "    def estats_successors(self, estat):    raise NotImplementedError\n",
    "\n",
    "    def es_solucio(self, estat):           raise NotImplementedError\n",
    "\n",
    "    def funcio_avaluacio(self, state):     return NotImplementedError\n",
    "\n",
    "    def __repr__(self):\n",
    "        return '{}({!r})'.format(\n",
    "            type(self).__name__, self.inicial)"
   ],
   "metadata": {
    "collapsed": false,
    "ExecuteTime": {
     "end_time": "2023-11-27T18:42:57.974597Z",
     "start_time": "2023-11-27T18:42:57.786937Z"
    }
   },
   "id": "e1c9f2cfef445a70"
  },
  {
   "cell_type": "markdown",
   "source": [
    "Haurás de definir una classe `ProblemaMotxilla` que hereti de `ProblemaBusquedaLocal` i implementi els mètodes necessaris per a la cerca local."
   ],
   "metadata": {
    "collapsed": false
   },
   "id": "bbbc16e0a23f36ec"
  },
  {
   "cell_type": "markdown",
   "source": [],
   "metadata": {
    "collapsed": false
   },
   "id": "6c7ea2ae60e1f351"
  },
  {
   "cell_type": "markdown",
   "source": [
    "## Exercici 2\n",
    "\n",
    "Utilitza un algorisme genétic per resoldre el següent problema de cerca local:\n",
    "\n",
    "Donada una llista de nombres enters positius i un nombre enter positiu, trobar una subllista de nombres consecutius que sumin aquest nombre. Per exemple, donada la llista [4, 6, 3, 5, 2] i el nombre 10, la solució seria [3, 5, 2]. Busquem la solució amb el menor nombre d'elements.\n",
    "\n",
    "Per a implementar l'algorisme genètic pots utilitzar l'exemple vist a teoria o bé la llibreria [pyGAD](https://pygad.readthedocs.io/en/latest/README_pygad_ReadTheDocs.html)."
   ],
   "metadata": {
    "collapsed": false
   },
   "id": "ff5088519857b59c"
  },
  {
   "cell_type": "code",
   "execution_count": 14,
   "outputs": [
    {
     "name": "stdout",
     "output_type": "stream",
     "text": [
      "Target = 157\n",
      "Generation = 1\n",
      "Fitness    = 0.007194244604316547\n",
      "Target     = 157\n",
      "Nums       = [5, 6, 5, 9, 3, 4, 7, 2, 10, 3, 6, 4, 4, 7, 8, 3, 1, 7, 7, 5, 4, 7, 10, 1, 7, 9, 2, 3, 3, 9, 6, 6, 6, 6, 1, 3, 1, 4, 1, 7, 6, 3, 7, 1, 9, 2, 2, 6, 8, 2, 2, 4, 9, 8, 9, 1, 9, 2, 10, 3, 4, 1, 10, 10, 8, 2, 7, 4, 4, 1, 9, 10, 2, 10, 8, 7, 9, 7, 10, 9, 4, 9, 2, 5, 3, 8, 7, 9, 9, 1, 1, 7, 9, 2, 7, 3, 1, 4, 10, 4]\n",
      "Solution   = [1. 1. 0. 1. 1. 0. 0. 1. 1. 1. 0. 1. 0. 0. 1. 0. 1. 0. 0. 0. 0. 1. 0. 0.\n",
      " 0. 0. 0. 1. 0. 0. 0. 0. 0. 0. 0. 0. 1. 0. 1. 0. 0. 0. 1. 1. 0. 1. 1. 1.\n",
      " 1. 1. 0. 1. 0. 0. 0. 0. 0. 1. 0. 1. 1. 1. 0. 0. 0. 0. 0. 0. 0. 1. 0. 1.\n",
      " 1. 0. 0. 1. 1. 0. 1. 0. 1. 0. 0. 0. 0. 1. 1. 1. 0. 1. 1. 0. 1. 0. 0. 1.\n",
      " 1. 1. 0. 1.]\n",
      "Sum        = 195.0\n",
      "\n",
      "Generation = 2\n",
      "Fitness    = 0.008403361344537815\n",
      "Target     = 157\n",
      "Nums       = [5, 6, 5, 9, 3, 4, 7, 2, 10, 3, 6, 4, 4, 7, 8, 3, 1, 7, 7, 5, 4, 7, 10, 1, 7, 9, 2, 3, 3, 9, 6, 6, 6, 6, 1, 3, 1, 4, 1, 7, 6, 3, 7, 1, 9, 2, 2, 6, 8, 2, 2, 4, 9, 8, 9, 1, 9, 2, 10, 3, 4, 1, 10, 10, 8, 2, 7, 4, 4, 1, 9, 10, 2, 10, 8, 7, 9, 7, 10, 9, 4, 9, 2, 5, 3, 8, 7, 9, 9, 1, 1, 7, 9, 2, 7, 3, 1, 4, 10, 4]\n",
      "Solution   = [1. 0. 1. 0. 0. 0. 0. 1. 0. 0. 0. 1. 1. 0. 0. 0. 0. 0. 1. 0. 1. 0. 1. 1.\n",
      " 0. 0. 0. 0. 0. 0. 0. 0. 1. 0. 1. 0. 0. 1. 1. 0. 1. 0. 1. 1. 1. 1. 0. 0.\n",
      " 1. 1. 0. 1. 0. 1. 0. 1. 1. 1. 0. 0. 0. 1. 0. 1. 0. 1. 1. 1. 0. 0. 0. 1.\n",
      " 0. 0. 0. 0. 1. 0. 0. 0. 0. 0. 1. 0. 1. 0. 0. 0. 0. 0. 1. 0. 1. 0. 0. 1.\n",
      " 1. 0. 0. 0.]\n",
      "Sum        = 175.0\n",
      "\n",
      "Generation = 3\n",
      "Fitness    = 0.00847457627118644\n",
      "Target     = 157\n",
      "Nums       = [5, 6, 5, 9, 3, 4, 7, 2, 10, 3, 6, 4, 4, 7, 8, 3, 1, 7, 7, 5, 4, 7, 10, 1, 7, 9, 2, 3, 3, 9, 6, 6, 6, 6, 1, 3, 1, 4, 1, 7, 6, 3, 7, 1, 9, 2, 2, 6, 8, 2, 2, 4, 9, 8, 9, 1, 9, 2, 10, 3, 4, 1, 10, 10, 8, 2, 7, 4, 4, 1, 9, 10, 2, 10, 8, 7, 9, 7, 10, 9, 4, 9, 2, 5, 3, 8, 7, 9, 9, 1, 1, 7, 9, 2, 7, 3, 1, 4, 10, 4]\n",
      "Solution   = [1. 1. 0. 0. 0. 0. 0. 0. 1. 0. 1. 0. 0. 0. 0. 1. 1. 1. 0. 0. 0. 0. 0. 0.\n",
      " 0. 0. 1. 0. 0. 1. 1. 1. 1. 0. 1. 1. 0. 1. 1. 1. 0. 0. 0. 1. 0. 0. 1. 0.\n",
      " 0. 0. 0. 1. 0. 0. 0. 1. 0. 1. 0. 0. 1. 1. 0. 0. 0. 1. 1. 0. 0. 0. 1. 0.\n",
      " 1. 0. 1. 0. 0. 0. 0. 1. 0. 0. 1. 0. 1. 0. 1. 1. 0. 1. 0. 1. 0. 0. 0. 0.\n",
      " 0. 0. 1. 0.]\n",
      "Sum        = 174.0\n",
      "Generation = 4\n",
      "Fitness    = 0.009259259259259259\n",
      "Target     = 157\n",
      "Nums       = [5, 6, 5, 9, 3, 4, 7, 2, 10, 3, 6, 4, 4, 7, 8, 3, 1, 7, 7, 5, 4, 7, 10, 1, 7, 9, 2, 3, 3, 9, 6, 6, 6, 6, 1, 3, 1, 4, 1, 7, 6, 3, 7, 1, 9, 2, 2, 6, 8, 2, 2, 4, 9, 8, 9, 1, 9, 2, 10, 3, 4, 1, 10, 10, 8, 2, 7, 4, 4, 1, 9, 10, 2, 10, 8, 7, 9, 7, 10, 9, 4, 9, 2, 5, 3, 8, 7, 9, 9, 1, 1, 7, 9, 2, 7, 3, 1, 4, 10, 4]\n",
      "Solution   = [0. 0. 1. 1. 0. 0. 1. 0. 0. 0. 1. 0. 0. 0. 0. 0. 1. 0. 0. 1. 1. 0. 1. 0.\n",
      " 0. 0. 0. 0. 1. 0. 1. 0. 0. 0. 1. 1. 1. 0. 1. 0. 0. 0. 0. 0. 0. 0. 0. 0.\n",
      " 1. 0. 1. 0. 0. 0. 0. 0. 0. 0. 0. 0. 1. 0. 0. 1. 0. 0. 0. 1. 0. 1. 1. 0.\n",
      " 0. 0. 1. 0. 0. 0. 0. 1. 0. 1. 1. 0. 1. 0. 0. 0. 1. 0. 0. 0. 0. 0. 1. 1.\n",
      " 0. 0. 0. 0.]\n",
      "Sum        = 150.0\n",
      "\n",
      "Generation = 5\n",
      "Fitness    = 0.009523809523809525\n",
      "Target     = 157\n",
      "Nums       = [5, 6, 5, 9, 3, 4, 7, 2, 10, 3, 6, 4, 4, 7, 8, 3, 1, 7, 7, 5, 4, 7, 10, 1, 7, 9, 2, 3, 3, 9, 6, 6, 6, 6, 1, 3, 1, 4, 1, 7, 6, 3, 7, 1, 9, 2, 2, 6, 8, 2, 2, 4, 9, 8, 9, 1, 9, 2, 10, 3, 4, 1, 10, 10, 8, 2, 7, 4, 4, 1, 9, 10, 2, 10, 8, 7, 9, 7, 10, 9, 4, 9, 2, 5, 3, 8, 7, 9, 9, 1, 1, 7, 9, 2, 7, 3, 1, 4, 10, 4]\n",
      "Solution   = [0. 0. 0. 0. 0. 1. 1. 0. 0. 0. 0. 0. 0. 0. 0. 1. 1. 1. 0. 0. 1. 1. 0. 1.\n",
      " 0. 0. 0. 1. 0. 1. 0. 0. 0. 0. 1. 0. 1. 0. 0. 1. 1. 1. 0. 1. 0. 0. 0. 0.\n",
      " 0. 1. 0. 1. 0. 1. 1. 0. 0. 0. 0. 0. 0. 0. 0. 0. 0. 0. 1. 1. 0. 1. 0. 0.\n",
      " 0. 0. 0. 1. 0. 1. 0. 0. 1. 0. 0. 0. 0. 1. 0. 0. 1. 1. 0. 1. 0. 0. 1. 1.\n",
      " 0. 1. 0. 1.]\n",
      "Sum        = 161.0\n",
      "\n",
      "Generation = 6\n",
      "Fitness    = 0.009900990099009901\n",
      "Target     = 157\n",
      "Nums       = [5, 6, 5, 9, 3, 4, 7, 2, 10, 3, 6, 4, 4, 7, 8, 3, 1, 7, 7, 5, 4, 7, 10, 1, 7, 9, 2, 3, 3, 9, 6, 6, 6, 6, 1, 3, 1, 4, 1, 7, 6, 3, 7, 1, 9, 2, 2, 6, 8, 2, 2, 4, 9, 8, 9, 1, 9, 2, 10, 3, 4, 1, 10, 10, 8, 2, 7, 4, 4, 1, 9, 10, 2, 10, 8, 7, 9, 7, 10, 9, 4, 9, 2, 5, 3, 8, 7, 9, 9, 1, 1, 7, 9, 2, 7, 3, 1, 4, 10, 4]\n",
      "Solution   = [1. 0. 1. 0. 0. 0. 1. 0. 0. 0. 0. 0. 0. 1. 1. 1. 0. 0. 0. 0. 0. 0. 0. 0.\n",
      " 0. 0. 0. 1. 1. 0. 0. 1. 1. 0. 1. 1. 1. 1. 1. 0. 0. 1. 0. 1. 0. 1. 1. 1.\n",
      " 0. 0. 0. 0. 0. 1. 1. 1. 1. 0. 0. 0. 0. 1. 0. 0. 0. 1. 0. 1. 1. 0. 0. 1.\n",
      " 0. 0. 0. 0. 0. 0. 0. 0. 0. 0. 0. 1. 1. 1. 0. 0. 0. 1. 0. 0. 0. 0. 0. 0.\n",
      " 1. 0. 1. 1.]\n",
      "Sum        = 157.0\n",
      "Generation = 7\n",
      "Fitness    = 0.009900990099009901\n",
      "Target     = 157\n",
      "Nums       = [5, 6, 5, 9, 3, 4, 7, 2, 10, 3, 6, 4, 4, 7, 8, 3, 1, 7, 7, 5, 4, 7, 10, 1, 7, 9, 2, 3, 3, 9, 6, 6, 6, 6, 1, 3, 1, 4, 1, 7, 6, 3, 7, 1, 9, 2, 2, 6, 8, 2, 2, 4, 9, 8, 9, 1, 9, 2, 10, 3, 4, 1, 10, 10, 8, 2, 7, 4, 4, 1, 9, 10, 2, 10, 8, 7, 9, 7, 10, 9, 4, 9, 2, 5, 3, 8, 7, 9, 9, 1, 1, 7, 9, 2, 7, 3, 1, 4, 10, 4]\n",
      "Solution   = [1. 0. 1. 0. 0. 0. 1. 0. 0. 0. 0. 0. 0. 1. 1. 1. 0. 0. 0. 0. 0. 0. 0. 0.\n",
      " 0. 0. 0. 1. 1. 0. 0. 1. 1. 0. 1. 1. 1. 1. 1. 0. 0. 1. 0. 1. 0. 1. 1. 1.\n",
      " 0. 0. 0. 0. 0. 1. 1. 1. 1. 0. 0. 0. 0. 1. 0. 0. 0. 1. 0. 1. 1. 0. 0. 1.\n",
      " 0. 0. 0. 0. 0. 0. 0. 0. 0. 0. 0. 1. 1. 1. 0. 0. 0. 1. 0. 0. 0. 0. 0. 0.\n",
      " 1. 0. 1. 1.]\n",
      "Sum        = 157.0\n",
      "\n",
      "Generation = 8\n",
      "Fitness    = 0.009900990099009901\n",
      "Target     = 157\n",
      "Nums       = [5, 6, 5, 9, 3, 4, 7, 2, 10, 3, 6, 4, 4, 7, 8, 3, 1, 7, 7, 5, 4, 7, 10, 1, 7, 9, 2, 3, 3, 9, 6, 6, 6, 6, 1, 3, 1, 4, 1, 7, 6, 3, 7, 1, 9, 2, 2, 6, 8, 2, 2, 4, 9, 8, 9, 1, 9, 2, 10, 3, 4, 1, 10, 10, 8, 2, 7, 4, 4, 1, 9, 10, 2, 10, 8, 7, 9, 7, 10, 9, 4, 9, 2, 5, 3, 8, 7, 9, 9, 1, 1, 7, 9, 2, 7, 3, 1, 4, 10, 4]\n",
      "Solution   = [1. 0. 1. 0. 0. 0. 1. 0. 0. 0. 0. 0. 0. 1. 1. 1. 0. 0. 0. 0. 0. 0. 0. 0.\n",
      " 0. 0. 0. 1. 1. 0. 0. 1. 1. 0. 1. 1. 1. 1. 1. 0. 0. 1. 0. 1. 0. 1. 1. 1.\n",
      " 0. 0. 0. 0. 0. 1. 1. 1. 1. 0. 0. 0. 0. 1. 0. 0. 0. 1. 0. 1. 1. 0. 0. 1.\n",
      " 0. 0. 0. 0. 0. 0. 0. 0. 0. 0. 0. 1. 1. 1. 0. 0. 0. 1. 0. 0. 0. 0. 0. 0.\n",
      " 1. 0. 1. 1.]\n",
      "Sum        = 157.0\n",
      "\n",
      "Generation = 9\n",
      "Fitness    = 0.009900990099009901\n",
      "Target     = 157\n",
      "Nums       = [5, 6, 5, 9, 3, 4, 7, 2, 10, 3, 6, 4, 4, 7, 8, 3, 1, 7, 7, 5, 4, 7, 10, 1, 7, 9, 2, 3, 3, 9, 6, 6, 6, 6, 1, 3, 1, 4, 1, 7, 6, 3, 7, 1, 9, 2, 2, 6, 8, 2, 2, 4, 9, 8, 9, 1, 9, 2, 10, 3, 4, 1, 10, 10, 8, 2, 7, 4, 4, 1, 9, 10, 2, 10, 8, 7, 9, 7, 10, 9, 4, 9, 2, 5, 3, 8, 7, 9, 9, 1, 1, 7, 9, 2, 7, 3, 1, 4, 10, 4]\n",
      "Solution   = [1. 0. 1. 0. 0. 0. 1. 1. 0. 0. 0. 0. 0. 1. 0. 0. 0. 0. 0. 0. 0. 0. 0. 1.\n",
      " 0. 0. 0. 0. 1. 0. 1. 1. 0. 0. 0. 1. 1. 0. 0. 0. 1. 1. 0. 0. 0. 0. 0. 1.\n",
      " 1. 0. 0. 0. 1. 0. 0. 0. 0. 0. 0. 1. 1. 0. 0. 0. 1. 0. 0. 1. 0. 0. 1. 0.\n",
      " 1. 0. 1. 0. 1. 1. 0. 0. 0. 1. 0. 0. 1. 0. 0. 0. 0. 1. 0. 0. 1. 1. 0. 0.\n",
      " 1. 0. 0. 0.]\n",
      "Sum        = 157.0\n",
      "\n",
      "Generation = 10\n",
      "Fitness    = 0.009900990099009901\n",
      "Target     = 157\n",
      "Nums       = [5, 6, 5, 9, 3, 4, 7, 2, 10, 3, 6, 4, 4, 7, 8, 3, 1, 7, 7, 5, 4, 7, 10, 1, 7, 9, 2, 3, 3, 9, 6, 6, 6, 6, 1, 3, 1, 4, 1, 7, 6, 3, 7, 1, 9, 2, 2, 6, 8, 2, 2, 4, 9, 8, 9, 1, 9, 2, 10, 3, 4, 1, 10, 10, 8, 2, 7, 4, 4, 1, 9, 10, 2, 10, 8, 7, 9, 7, 10, 9, 4, 9, 2, 5, 3, 8, 7, 9, 9, 1, 1, 7, 9, 2, 7, 3, 1, 4, 10, 4]\n",
      "Solution   = [0. 0. 0. 0. 1. 0. 1. 0. 0. 0. 0. 1. 0. 0. 0. 1. 0. 0. 1. 0. 0. 0. 0. 0.\n",
      " 1. 0. 0. 0. 1. 1. 0. 0. 0. 0. 0. 0. 0. 0. 0. 1. 1. 0. 0. 1. 0. 1. 1. 0.\n",
      " 1. 0. 0. 0. 1. 0. 0. 1. 0. 1. 0. 0. 0. 1. 0. 1. 0. 1. 1. 0. 0. 1. 1. 1.\n",
      " 0. 0. 1. 0. 0. 0. 0. 0. 0. 1. 1. 0. 0. 0. 0. 0. 1. 0. 1. 0. 0. 0. 0. 1.\n",
      " 0. 1. 0. 0.]\n",
      "Sum        = 157.0\n",
      "\n",
      "Generation = 11\n",
      "Fitness    = 0.009900990099009901\n",
      "Target     = 157\n",
      "Nums       = [5, 6, 5, 9, 3, 4, 7, 2, 10, 3, 6, 4, 4, 7, 8, 3, 1, 7, 7, 5, 4, 7, 10, 1, 7, 9, 2, 3, 3, 9, 6, 6, 6, 6, 1, 3, 1, 4, 1, 7, 6, 3, 7, 1, 9, 2, 2, 6, 8, 2, 2, 4, 9, 8, 9, 1, 9, 2, 10, 3, 4, 1, 10, 10, 8, 2, 7, 4, 4, 1, 9, 10, 2, 10, 8, 7, 9, 7, 10, 9, 4, 9, 2, 5, 3, 8, 7, 9, 9, 1, 1, 7, 9, 2, 7, 3, 1, 4, 10, 4]\n",
      "Solution   = [0. 0. 0. 0. 1. 0. 1. 0. 0. 0. 0. 1. 0. 0. 0. 1. 0. 0. 1. 0. 0. 0. 0. 0.\n",
      " 1. 0. 0. 0. 1. 1. 0. 0. 0. 0. 0. 0. 0. 0. 0. 1. 1. 0. 0. 1. 0. 1. 1. 0.\n",
      " 1. 0. 0. 0. 1. 0. 0. 1. 0. 1. 0. 0. 0. 1. 0. 1. 0. 1. 1. 0. 0. 1. 1. 1.\n",
      " 0. 0. 1. 0. 0. 0. 0. 0. 0. 1. 1. 0. 0. 0. 0. 0. 1. 0. 1. 0. 0. 0. 0. 1.\n",
      " 0. 1. 0. 0.]\n",
      "Sum        = 157.0\n",
      "\n",
      "Generation = 12\n",
      "Fitness    = 0.009900990099009901\n",
      "Target     = 157\n",
      "Nums       = [5, 6, 5, 9, 3, 4, 7, 2, 10, 3, 6, 4, 4, 7, 8, 3, 1, 7, 7, 5, 4, 7, 10, 1, 7, 9, 2, 3, 3, 9, 6, 6, 6, 6, 1, 3, 1, 4, 1, 7, 6, 3, 7, 1, 9, 2, 2, 6, 8, 2, 2, 4, 9, 8, 9, 1, 9, 2, 10, 3, 4, 1, 10, 10, 8, 2, 7, 4, 4, 1, 9, 10, 2, 10, 8, 7, 9, 7, 10, 9, 4, 9, 2, 5, 3, 8, 7, 9, 9, 1, 1, 7, 9, 2, 7, 3, 1, 4, 10, 4]\n",
      "Solution   = [0. 0. 0. 0. 1. 0. 1. 0. 0. 0. 0. 1. 0. 0. 0. 1. 0. 0. 1. 0. 0. 0. 0. 0.\n",
      " 1. 0. 0. 0. 1. 1. 0. 0. 0. 0. 0. 0. 0. 0. 0. 1. 1. 0. 0. 1. 0. 1. 1. 0.\n",
      " 1. 0. 0. 0. 1. 0. 0. 1. 0. 1. 0. 0. 0. 1. 0. 1. 0. 1. 1. 0. 0. 1. 1. 1.\n",
      " 0. 0. 1. 0. 0. 0. 0. 0. 0. 1. 1. 0. 0. 0. 0. 0. 1. 0. 1. 0. 0. 0. 0. 1.\n",
      " 0. 1. 0. 0.]\n",
      "Sum        = 157.0\n",
      "\n",
      "Generation = 13\n",
      "Fitness    = 0.009900990099009901\n",
      "Target     = 157\n",
      "Nums       = [5, 6, 5, 9, 3, 4, 7, 2, 10, 3, 6, 4, 4, 7, 8, 3, 1, 7, 7, 5, 4, 7, 10, 1, 7, 9, 2, 3, 3, 9, 6, 6, 6, 6, 1, 3, 1, 4, 1, 7, 6, 3, 7, 1, 9, 2, 2, 6, 8, 2, 2, 4, 9, 8, 9, 1, 9, 2, 10, 3, 4, 1, 10, 10, 8, 2, 7, 4, 4, 1, 9, 10, 2, 10, 8, 7, 9, 7, 10, 9, 4, 9, 2, 5, 3, 8, 7, 9, 9, 1, 1, 7, 9, 2, 7, 3, 1, 4, 10, 4]\n",
      "Solution   = [1. 0. 1. 0. 0. 0. 0. 1. 0. 0. 0. 0. 0. 0. 0. 0. 0. 0. 0. 0. 0. 0. 0. 1.\n",
      " 0. 0. 1. 0. 0. 0. 0. 0. 0. 0. 1. 0. 1. 0. 1. 0. 0. 1. 1. 0. 0. 0. 1. 1.\n",
      " 0. 0. 1. 0. 0. 1. 1. 1. 0. 0. 1. 0. 1. 1. 0. 0. 0. 1. 1. 1. 1. 0. 0. 0.\n",
      " 0. 0. 0. 1. 1. 0. 1. 0. 0. 1. 0. 1. 1. 1. 1. 0. 0. 1. 0. 1. 0. 1. 0. 0.\n",
      " 1. 0. 0. 0.]\n",
      "Sum        = 157.0\n",
      "\n",
      "Generation = 14\n",
      "Fitness    = 0.009900990099009901\n",
      "Target     = 157\n",
      "Nums       = [5, 6, 5, 9, 3, 4, 7, 2, 10, 3, 6, 4, 4, 7, 8, 3, 1, 7, 7, 5, 4, 7, 10, 1, 7, 9, 2, 3, 3, 9, 6, 6, 6, 6, 1, 3, 1, 4, 1, 7, 6, 3, 7, 1, 9, 2, 2, 6, 8, 2, 2, 4, 9, 8, 9, 1, 9, 2, 10, 3, 4, 1, 10, 10, 8, 2, 7, 4, 4, 1, 9, 10, 2, 10, 8, 7, 9, 7, 10, 9, 4, 9, 2, 5, 3, 8, 7, 9, 9, 1, 1, 7, 9, 2, 7, 3, 1, 4, 10, 4]\n",
      "Solution   = [0. 1. 0. 0. 0. 0. 0. 0. 0. 1. 0. 0. 0. 1. 0. 1. 1. 0. 1. 0. 1. 1. 0. 1.\n",
      " 1. 1. 0. 0. 0. 1. 0. 0. 0. 0. 1. 1. 1. 0. 0. 0. 0. 1. 0. 0. 0. 1. 0. 1.\n",
      " 0. 0. 1. 0. 0. 1. 0. 0. 1. 0. 0. 0. 0. 0. 0. 1. 0. 1. 0. 0. 0. 1. 0. 0.\n",
      " 0. 1. 0. 0. 0. 1. 0. 0. 0. 1. 0. 0. 0. 0. 0. 0. 1. 1. 1. 0. 0. 0. 0. 0.\n",
      " 0. 1. 0. 1.]\n",
      "Sum        = 157.0\n",
      "\n",
      "Generation = 15\n",
      "Fitness    = 0.009900990099009901\n",
      "Target     = 157\n",
      "Nums       = [5, 6, 5, 9, 3, 4, 7, 2, 10, 3, 6, 4, 4, 7, 8, 3, 1, 7, 7, 5, 4, 7, 10, 1, 7, 9, 2, 3, 3, 9, 6, 6, 6, 6, 1, 3, 1, 4, 1, 7, 6, 3, 7, 1, 9, 2, 2, 6, 8, 2, 2, 4, 9, 8, 9, 1, 9, 2, 10, 3, 4, 1, 10, 10, 8, 2, 7, 4, 4, 1, 9, 10, 2, 10, 8, 7, 9, 7, 10, 9, 4, 9, 2, 5, 3, 8, 7, 9, 9, 1, 1, 7, 9, 2, 7, 3, 1, 4, 10, 4]\n",
      "Solution   = [0. 1. 0. 0. 0. 0. 0. 0. 0. 1. 0. 0. 0. 1. 0. 1. 1. 0. 1. 0. 1. 1. 0. 1.\n",
      " 1. 1. 0. 0. 0. 1. 0. 0. 0. 0. 1. 1. 1. 0. 0. 0. 0. 1. 0. 0. 0. 1. 0. 1.\n",
      " 0. 0. 1. 0. 0. 1. 0. 0. 1. 0. 0. 0. 0. 0. 0. 1. 0. 1. 0. 0. 0. 1. 0. 0.\n",
      " 0. 1. 0. 0. 0. 1. 0. 0. 0. 1. 0. 0. 0. 0. 0. 0. 1. 1. 1. 0. 0. 0. 0. 0.\n",
      " 0. 1. 0. 1.]\n",
      "Sum        = 157.0\n",
      "\n",
      "Generation = 16\n",
      "Fitness    = 0.009900990099009901\n",
      "Target     = 157\n",
      "Nums       = [5, 6, 5, 9, 3, 4, 7, 2, 10, 3, 6, 4, 4, 7, 8, 3, 1, 7, 7, 5, 4, 7, 10, 1, 7, 9, 2, 3, 3, 9, 6, 6, 6, 6, 1, 3, 1, 4, 1, 7, 6, 3, 7, 1, 9, 2, 2, 6, 8, 2, 2, 4, 9, 8, 9, 1, 9, 2, 10, 3, 4, 1, 10, 10, 8, 2, 7, 4, 4, 1, 9, 10, 2, 10, 8, 7, 9, 7, 10, 9, 4, 9, 2, 5, 3, 8, 7, 9, 9, 1, 1, 7, 9, 2, 7, 3, 1, 4, 10, 4]\n",
      "Solution   = [0. 0. 0. 0. 1. 1. 0. 0. 0. 1. 0. 0. 0. 1. 0. 0. 0. 0. 0. 0. 1. 0. 0. 0.\n",
      " 0. 0. 1. 1. 1. 1. 0. 1. 1. 1. 0. 0. 1. 1. 1. 0. 0. 0. 1. 1. 0. 1. 1. 0.\n",
      " 1. 0. 0. 0. 0. 0. 0. 1. 0. 1. 0. 1. 0. 0. 0. 0. 0. 1. 1. 0. 0. 0. 0. 1.\n",
      " 1. 0. 0. 0. 1. 0. 0. 0. 1. 0. 0. 0. 1. 0. 0. 0. 0. 1. 1. 0. 1. 0. 1. 0.\n",
      " 0. 0. 1. 1.]\n",
      "Sum        = 157.0\n"
     ]
    }
   ],
   "source": [
    "import random\n",
    "\n",
    "\n",
    "def fitness_func(ga_instance, solution, sol_idx):\n",
    "    global nums, target\n",
    "    sum = 0\n",
    "    for i in range(len(solution)):\n",
    "        sum += solution[i] * nums[i]\n",
    "    delta = abs(sum - target)\n",
    "    delta += len(solution)\n",
    "    return 1 / (delta + 1)\n",
    "\n",
    "def on_generation(ga_instance):\n",
    "    global nums, target\n",
    "    print(\"Generation = {generation}\".format(generation=ga_instance.generations_completed))\n",
    "    print(\"Fitness    = {fitness}\".format(fitness=ga_instance.best_solution()[1]))\n",
    "    print(\"Target     = {target}\".format(target=target))\n",
    "    print(\"Nums       = {nums}\".format(nums=nums))\n",
    "    print(\"Solution   = {solution}\".format(solution=ga_instance.best_solution()[0]))\n",
    "    solu = ga_instance.best_solution()[0] * nums\n",
    "    print(\"Sum        = {sum}\".format(sum=sum(solu)))\n",
    "    print(\"\")\n",
    "\n",
    "\n",
    "import pygad\n",
    "import numpy\n",
    "\n",
    "nums = [random.randint(1, 10) for i in range(100)]\n",
    "target = random.randint(1, 200)\n",
    "print(\"Target = {target}\".format(target=target))\n",
    "\n",
    "ga_instance = pygad.GA(num_generations=100,\n",
    "                       num_parents_mating=50,\n",
    "                       fitness_func=fitness_func,\n",
    "                       sol_per_pop=100,\n",
    "                       gene_space=[0, 1],\n",
    "                       num_genes=len(nums),\n",
    "                       on_generation=on_generation,\n",
    "                       stop_criteria=\"saturate_10\")\n",
    "\n",
    "ga_instance.run()\n",
    "    "
   ],
   "metadata": {
    "collapsed": false,
    "ExecuteTime": {
     "end_time": "2023-11-27T18:42:58.867003Z",
     "start_time": "2023-11-27T18:42:57.850658Z"
    }
   },
   "id": "916c5fdb5c732c6b"
  },
  {
   "cell_type": "markdown",
   "source": [],
   "metadata": {
    "collapsed": false
   },
   "id": "68db09a7006e5e48"
  }
 ],
 "metadata": {
  "kernelspec": {
   "display_name": "Python 3",
   "language": "python",
   "name": "python3"
  },
  "language_info": {
   "codemirror_mode": {
    "name": "ipython",
    "version": 2
   },
   "file_extension": ".py",
   "mimetype": "text/x-python",
   "name": "python",
   "nbconvert_exporter": "python",
   "pygments_lexer": "ipython2",
   "version": "2.7.6"
  }
 },
 "nbformat": 4,
 "nbformat_minor": 5
}
