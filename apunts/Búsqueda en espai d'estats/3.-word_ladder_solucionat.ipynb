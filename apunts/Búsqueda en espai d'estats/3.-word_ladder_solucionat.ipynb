{
 "cells": [
  {
   "cell_type": "code",
   "execution_count": 1,
   "outputs": [],
   "source": [
    "import collections\n",
    "import gzip\n",
    "import heapq\n",
    "import string"
   ],
   "metadata": {
    "collapsed": false,
    "ExecuteTime": {
     "end_time": "2023-10-04T20:21:48.412626Z",
     "start_time": "2023-10-04T20:21:48.390208Z"
    }
   },
   "id": "5fd71ba699151a0f"
  },
  {
   "cell_type": "markdown",
   "source": [
    "# Búsquedes\n",
    "\n",
    "En aquesta pràctica posarem en pràctica el vist referent a les búsquedes.\n",
    "\n",
    "## Word Ladder\n",
    "\n",
    "En el primer lloc implementarem un joc senzill anomenat Word Ladder, amb les següents regles:\n",
    "\n",
    "Se't donen dues paraules amb el mateix nombre de lletres (utilitzarem paraules de tres i quatre lletres), per exemple, DOG i CAT. El teu objectiu és transformar la primera paraula en la segona substituint una lletra de cada vegada per qualsevol altra lletra, sempre que el resultat sigui una paraula anglesa correcta. Per exemple, podríem canviar DOG per FOG, però no per GOG (no és una paraula anglesa correcta) o per GOD (es van canviar dues lletres). Per tant, una manera d'anar de DOG a CAT podria ser:\n",
    "\n",
    "**DOG => COG => COT => CAT**\n",
    "\n",
    " Hi ha moltes maneres de fer-ho, una altra seria:\n",
    " \n",
    "**DOG => HOG => HOT => HAT => CAT**\n",
    "\n",
    "El joc consisteix a trobar la seqüència més curta de canvis que transformen la primera paraula en la segona. En aquest exercici, utilitzarem un diccionari anglès per comprovar si una paraula és correcta o no. El diccionari el tenim en el fitxer words34.txt.gz, que conté totes les paraules angleses de tres i quatre lletres, una per línia.\n",
    "\n",
    "El joc es pot generalitzar a paraules de qualsevol longitud, però en aquest exercici ens limitarem a paraules de tres i quatre lletres.\n",
    "\n",
    "Definirem tres mesures cost per a l'algorisme de cerca:\n",
    "\n",
    "* **Distància**: el nombre de canvis de lletres que s'han fet fins ara: 0 per a la paraula inicial, 1 per a la segona paraula, etc.\n",
    "    * El cost de **DOG => COG => COT => CAT** és 3.\n",
    "* **Scrabble**: Associem a cada lletra un valor enter, que és el seu valor en el joc Scrabble\n",
    "    * El cost d'utilitzar A, E, I, O, U, L, N, S, T o R és 1\n",
    "    * El cost de D o G és 2\n",
    "    * El cost de B, C, M o P és 3\n",
    "    * El cost de F, H, V, W o Y és 4\n",
    "    * El cost de K és 5\n",
    "    * El cost de J o X és 8\n",
    "    * El cost de Q o Z és 10.    \n",
    "    * El cost de **DOG => COG => COT => CAT** és 3 + 1 + 1 = 5.\n",
    "* **Raresa**: El tercer cost està basat en com de comú és una paraula després de la primera. La idea es que passar a una paraula molt rara deuria ser més car que passar a una molt comuna. Proporcionarem una llista de les paraules en anglès més frequents i la seva **freqüència relativa.**\n",
    "    * El cost de la seqüència **DOG => JOG => JOT => COT => CAT** es calcula com 1+R per a cada pas on R és la mesura de com de rara és la paraula introduïda pel pas. Mirant el words34.txt.gz amb la comanda Unix zmore trobem entrades incloent les següents:\n",
    "        ```\n",
    "        jog  10.052741\n",
    "        jot  11.177437\n",
    "        cot  10.071238\n",
    "        cat   6.886906\n",
    "        ```\n",
    "        així que el cost és 4 més la suma dels punts, o 42.188322."
   ],
   "metadata": {
    "collapsed": false
   },
   "id": "47facd32f1502b6d"
  },
  {
   "cell_type": "markdown",
   "source": [
    "### Que hem de fer?\n",
    "\n",
    "#### Funcions de suport\n",
    "\n",
    "1. Implementar una funció **read_words(filename)** que llegeixi el fitxer de paraules i retorni un conjunt Python amb les paraules que hi ha al fitxer i la seva freqüència relativa.\n",
    "\n",
    "\n",
    "    Crea un conjunt anomenat `words` amb les paraules de `words34.txt.gz`\n"
   ],
   "metadata": {
    "collapsed": false
   },
   "id": "ff34282202f666ef"
  },
  {
   "cell_type": "code",
   "execution_count": 2,
   "outputs": [],
   "source": [
    "def read_words(filename):\n",
    "    \"\"\"Return a set of all words in filename.\"\"\"\n",
    "\n",
    "    paraules = []\n",
    "    with gzip.open(filename, 'rt') as f:\n",
    "        for line in f:\n",
    "            paraula, freq = line.split()\n",
    "            paraules.append((paraula, float(freq)))\n",
    "\n",
    "    return set(paraules)\n"
   ],
   "metadata": {
    "collapsed": false,
    "ExecuteTime": {
     "end_time": "2023-09-16T21:40:07.423870Z",
     "start_time": "2023-09-16T21:40:07.408667Z"
    }
   },
   "id": "a2d698798ea95ef0"
  },
  {
   "cell_type": "code",
   "execution_count": 3,
   "outputs": [],
   "source": [
    "words = read_words('words34.txt.gz')"
   ],
   "metadata": {
    "collapsed": false,
    "ExecuteTime": {
     "end_time": "2023-09-16T21:40:07.477768Z",
     "start_time": "2023-09-16T21:40:07.423364Z"
    }
   },
   "id": "252ec1ff00a721f5"
  },
  {
   "cell_type": "markdown",
   "source": [
    "2. Implementar una funció **word2key(word)** que retorni una cadena de caràcters que serveixi com a clau per a la paraula word. La clau ha de ser una cadena de caràcters que tingui el mateix nombre de caràcters que word, però amb els caràcters ordenats alfabèticament. Per exemple, la clau de \"cat\" és \"act\" i la clau de \"dog\" és \"dgo\". Aquesta funció ens permetrà agrupar les paraules en el diccionari segons la seva clau, i així només caldrà comprovar si una paraula és correcta o no amb les paraules que tenen la mateixa clau."
   ],
   "metadata": {
    "collapsed": false
   },
   "id": "9a7ce33f68223ccf"
  },
  {
   "cell_type": "code",
   "execution_count": 4,
   "outputs": [
    {
     "data": {
      "text/plain": "'act'"
     },
     "execution_count": 4,
     "metadata": {},
     "output_type": "execute_result"
    }
   ],
   "source": [
    "def word2key(word):\n",
    "    \"\"\"Return a key for word that can be used to group all anagrams of word.\"\"\"\n",
    "    return ''.join(sorted(word))\n",
    "\n",
    "\n",
    "word2key('cat')"
   ],
   "metadata": {
    "collapsed": false,
    "ExecuteTime": {
     "end_time": "2023-09-16T21:40:07.499036Z",
     "start_time": "2023-09-16T21:40:07.485127Z"
    }
   },
   "id": "4e602bf746b207b8"
  },
  {
   "cell_type": "markdown",
   "source": [
    "3. Implementar una funció **build_dict(words)** que construeixi un diccionari Python que contingui com a clau les claus de les paraules i com a valor un conjunt Python amb les paraules que tenen aquesta clau. Per exemple, si el diccionari té la clau \"act\", el seu valor serà el conjunt amb les paraules \"act\", \"cat\" i \"tac\" i les seves respectives freqüències.\n",
    "\n",
    "    Crea un diccionari de paraules i freqüències anomenat `words_dict`"
   ],
   "metadata": {
    "collapsed": false
   },
   "id": "40c96e62175d78"
  },
  {
   "cell_type": "code",
   "execution_count": 5,
   "outputs": [],
   "source": [
    "def build_dict(words):\n",
    "    \"\"\"Return a dictionary that groups words by their key.\"\"\"\n",
    "    words_dict = collections.defaultdict(list)\n",
    "\n",
    "    for word, freq in words:\n",
    "        words_dict[word2key(word)].append((word, freq))\n",
    "\n",
    "    return words_dict\n",
    "\n",
    "\n",
    "words_dict = build_dict(words)"
   ],
   "metadata": {
    "collapsed": false,
    "ExecuteTime": {
     "end_time": "2023-09-16T21:40:07.521424Z",
     "start_time": "2023-09-16T21:40:07.513390Z"
    }
   },
   "id": "5fb2729f24ab49be"
  },
  {
   "cell_type": "markdown",
   "source": [
    "#### Definició del problema\n",
    "\n",
    "4. Utilitzem la classe `Problema` per implementar la classe de problema `WordLadderDistancia`, definint els métodes necessaris per a fer-ho funcionar.\n",
    "    Crea una instància del problema anomenada `wordladder_distancia`"
   ],
   "metadata": {
    "collapsed": false
   },
   "id": "731bad796f68eeec"
  },
  {
   "cell_type": "code",
   "execution_count": 6,
   "outputs": [],
   "source": [
    "class Problema(object):\n",
    "    \"\"\"Aquesta és la classe abstracta per a un problema formal. Una nova àrea crea una subclasse d'aquesta, sobrescrivint `accions` i `accio`, i potser altres mètodes.\n",
    "    L'heurística per defecte és 0 i el cost d'acció per defecte és 1 per a tots els estats.\n",
    "    Quan crees una instància d'una subclasse, especifica els estats `inicial` i `final`\n",
    "    (o proporciona un mètode `es_resultat`) i potser altres arguments de paraula clau per a la subclasse.\"\"\"\n",
    "\n",
    "    def __init__(self, inicial=None, final=None, **kwds):\n",
    "        self.__dict__.update(inicial=inicial, final=final, **kwds)\n",
    "\n",
    "    def accions(self, state):         raise NotImplementedError\n",
    "\n",
    "    def accio(self, state, action):   raise NotImplementedError\n",
    "\n",
    "    def es_resultat(self, state):     return state == self.final\n",
    "\n",
    "    def cost_accio(self, s, a, s1):   return 1\n",
    "\n",
    "    def h(self, estat):               return 0\n",
    "\n",
    "    def __str__(self):\n",
    "        return '{}({!r}, {!r})'.format(\n",
    "            type(self).__name__, self.inicial, self.final)"
   ],
   "metadata": {
    "collapsed": false,
    "ExecuteTime": {
     "end_time": "2023-09-16T21:40:07.539421Z",
     "start_time": "2023-09-16T21:40:07.527841Z"
    }
   },
   "id": "245177338574e49b"
  },
  {
   "cell_type": "code",
   "execution_count": 7,
   "outputs": [],
   "source": [
    "class WordLadderDistancia(Problema):\n",
    "    def accions(self, state):\n",
    "        for pos, orig_letter in enumerate(state):\n",
    "            for letter in string.ascii_lowercase:\n",
    "                opc = state[:pos] + letter + state[pos + 1:]\n",
    "                if word2key(opc) in words_dict:\n",
    "                    yield pos, letter, opc\n",
    "\n",
    "    def cost_accio(self, s, a, s1):\n",
    "        return 1"
   ],
   "metadata": {
    "collapsed": false,
    "ExecuteTime": {
     "end_time": "2023-09-16T21:40:07.651118Z",
     "start_time": "2023-09-16T21:40:07.545913Z"
    }
   },
   "id": "c581fd75fcfb37c6"
  },
  {
   "cell_type": "markdown",
   "source": [
    "#### Algorismes de cerca no informada\n",
    "\n",
    "6. Tenint en compte que el cost de cada acció serà **1** dedueix quin algorime hauries d'implementar per solucionar `wordladder_distancia`. Implementa'l i comprova que troba la solució correcta."
   ],
   "metadata": {
    "collapsed": false
   },
   "id": "97664c98fb62f20a"
  },
  {
   "cell_type": "code",
   "execution_count": 8,
   "outputs": [],
   "source": [
    "def breadth_first_search(problema):\n",
    "    frontera = [(problema.inicial, 0, [])]\n",
    "    visitats = set()\n",
    "\n",
    "    i=0\n",
    "    while len(frontera) > 0:\n",
    "        i+=1\n",
    "        estat, cost, ruta = frontera.pop(0)\n",
    "        visitats.add(estat)\n",
    "\n",
    "        if problema.es_resultat(estat):\n",
    "            print(i)\n",
    "            return estat, cost, ruta + [estat]\n",
    "        for pos, letter, opcio in problema.accions(estat):\n",
    "            if opcio not in visitats:\n",
    "                frontera.append((opcio, cost + 1, ruta + [estat]))\n"
   ],
   "metadata": {
    "collapsed": false,
    "ExecuteTime": {
     "end_time": "2023-09-16T21:40:07.671131Z",
     "start_time": "2023-09-16T21:40:07.566764Z"
    }
   },
   "id": "4c26c787f43ca2c5"
  },
  {
   "cell_type": "code",
   "execution_count": 9,
   "outputs": [
    {
     "name": "stdout",
     "output_type": "stream",
     "text": [
      "3257\n",
      "7495\n"
     ]
    },
    {
     "data": {
      "text/plain": "('zap', 3, ['kit', 'zit', 'zip', 'zap'])"
     },
     "execution_count": 9,
     "metadata": {},
     "output_type": "execute_result"
    }
   ],
   "source": [
    "wordladder_distancia = WordLadderDistancia(inicial=\"dog\", final=\"cat\")\n",
    "breadth_first_search(wordladder_distancia)"
   ],
   "metadata": {
    "collapsed": false,
    "ExecuteTime": {
     "end_time": "2023-09-16T21:40:09.676186Z",
     "start_time": "2023-09-16T21:40:07.627686Z"
    }
   },
   "id": "fb46a7091a2288b2"
  },
  {
   "cell_type": "markdown",
   "source": [
    "6. P: Quin algorisme has implementat? Per què?\n",
    "    R: \n"
   ],
   "metadata": {
    "collapsed": false
   },
   "id": "3e113c94130e6c01"
  },
  {
   "cell_type": "markdown",
   "source": [
    "### Funcions de cost i heurístiques"
   ],
   "metadata": {
    "collapsed": false
   },
   "id": "df9c49a4cdb818f2"
  },
  {
   "cell_type": "markdown",
   "source": [
    "7. Defineix una classe `WordLadderScrabble` que hereti de `WordLadderDistancia` i que implementi la funció de cost Scrabble. Crea una instància anomenada `wordladder_scrabble`."
   ],
   "metadata": {
    "collapsed": false
   },
   "id": "c89f8059dc3190ad"
  },
  {
   "cell_type": "code",
   "execution_count": 10,
   "outputs": [
    {
     "name": "stdout",
     "output_type": "stream",
     "text": [
      "3257\n"
     ]
    },
    {
     "data": {
      "text/plain": "('cat', 3, ['dog', 'cog', 'cot', 'cat'])"
     },
     "execution_count": 10,
     "metadata": {},
     "output_type": "execute_result"
    }
   ],
   "source": [
    "class WordLadderScrabble(WordLadderDistancia):\n",
    "    def cost_accio(self, s, a, s1):\n",
    "        costos = {\n",
    "            'a': 1, 'e': 1, 'i': 1, 'o': 1, 'u': 1,\n",
    "            'l': 1, 'n': 1, 's': 1, 't': 1, 'r': 1,\n",
    "            'd': 2, 'g': 2,\n",
    "            'b': 3, 'c': 3, 'm': 3, 'p': 3,\n",
    "            'f': 4, 'h': 4, 'v': 4, 'w': 4, 'y': 4,\n",
    "            'k': 5,\n",
    "            'j': 8, 'x': 8,\n",
    "            'q': 10, 'z': 10,\n",
    "        }\n",
    "        return costos[a]\n",
    "\n",
    "wordladder_scrabble = WordLadderScrabble(inicial=\"dog\", final=\"cat\")\n",
    "breadth_first_search(wordladder_scrabble)"
   ],
   "metadata": {
    "collapsed": false,
    "ExecuteTime": {
     "end_time": "2023-09-16T21:40:10.294159Z",
     "start_time": "2023-09-16T21:40:09.788427Z"
    }
   },
   "id": "1cb74340b4e6d347"
  },
  {
   "cell_type": "markdown",
   "source": [
    "8. Implementa un algorisme que puga solucionar el problema `wordladder_scrabble` utilitzant la funció de cost Scrabble. Intenta buscar la solució per passar de \"dog\" a \"cat\"."
   ],
   "metadata": {
    "collapsed": false
   },
   "id": "91055a13e24a68c7"
  },
  {
   "cell_type": "code",
   "execution_count": 11,
   "outputs": [
    {
     "name": "stdout",
     "output_type": "stream",
     "text": [
      "1000 3 eot ['dog', 'dos', 'dot']\n",
      "2000 3 sae ['dog', 'dag', 'sag']\n",
      "3000 4 alr ['dog', 'aog', 'alg', 'ale']\n",
      "4000 4 dro ['dog', 'dag', 'dal', 'dao']\n",
      "5000 4 elu ['dog', 'eog', 'eag', 'eau']\n",
      "6000 4 etl ['dog', 'dol', 'del', 'eel']\n",
      "7000 4 iet ['dog', 'deg', 'ieg', 'ies']\n",
      "8000 4 leu ['dog', 'deg', 'deo', 'deu']\n",
      "9000 4 net ['dog', 'dos', 'des', 'det']\n",
      "10000 4 oat ['dog', 'dag', 'aag', 'oag']\n",
      "11000 4 ote ['dog', 'doa', 'dta', 'dte']\n",
      "12000 4 ret ['dog', 'log', 'lot', 'let']\n",
      "13000 4 sat ['dog', 'dag', 'oag', 'oat']\n",
      "14000 4 sit ['dog', 'dig', 'dir', 'sir']\n",
      "15000 4 tas ['dog', 'tog', 'ton', 'tan']\n",
      "16000 4 tin ['dog', 'dig', 'tig', 'tie']\n",
      "17000 4 tto ['dog', 'tog', 'too', 'tao']\n",
      "18000 4 uit ['dog', 'eog', 'eot', 'eit']\n",
      "19000 5 agt ['dog', 'dor', 'aor', 'agr']\n",
      "19785\n"
     ]
    },
    {
     "data": {
      "text/plain": "('cat', 5, ['dog', 'cog', 'cot', 'cat'])"
     },
     "execution_count": 11,
     "metadata": {},
     "output_type": "execute_result"
    }
   ],
   "source": [
    "def ucs(problema):\n",
    "    frontera = []\n",
    "    heapq.heappush(frontera, (0, problema.inicial, []))\n",
    "    visitats = set()\n",
    "    \n",
    "    i=0\n",
    "    while len(frontera) > 0:\n",
    "        i+=1\n",
    "        cost, estat, ruta = heapq.heappop(frontera)\n",
    "        \n",
    "        if i%1000 == 0:\n",
    "            print(i, cost, estat, ruta)\n",
    "            \n",
    "        visitats.add(estat)\n",
    "    \n",
    "        if problema.es_resultat(estat):\n",
    "            print(i)\n",
    "            return estat, cost, ruta + [estat]\n",
    "        \n",
    "        for pos, letter, opcio in problema.accions(estat):\n",
    "            if opcio not in visitats and len(ruta) <= len(problema.final):\n",
    "                heapq.heappush(frontera, (cost + problema.cost_accio(estat, letter, opcio), opcio, ruta + [estat]))\n",
    "\n",
    "wordladder_scrabble = WordLadderScrabble(inicial=\"dog\", final=\"cat\")\n",
    "ucs(wordladder_scrabble)\n",
    "                "
   ],
   "metadata": {
    "collapsed": false,
    "ExecuteTime": {
     "end_time": "2023-09-16T21:40:14.221789Z",
     "start_time": "2023-09-16T21:40:10.334367Z"
    }
   },
   "id": "d1730f72bcfef59b"
  },
  {
   "cell_type": "markdown",
   "source": [
    "9. Intenta buscar la solució per passar de \"cold\" a \"warm\". Pots trobar una solució? Per què?"
   ],
   "metadata": {
    "collapsed": false
   },
   "id": "2f648ed42d2a3fec"
  },
  {
   "cell_type": "code",
   "execution_count": 12,
   "outputs": [],
   "source": [
    "#coldwarm_scrabble = DogCatScrabble(inicial=\"cold\", final=\"warm\")\n",
    "#ucs(coldwarm_scrabble)"
   ],
   "metadata": {
    "collapsed": false,
    "ExecuteTime": {
     "end_time": "2023-09-16T21:40:14.250354Z",
     "start_time": "2023-09-16T21:40:14.220237Z"
    }
   },
   "id": "67286407ef13181f"
  },
  {
   "cell_type": "markdown",
   "source": [
    "10. Implementa una classe `WordLadderScrabbleHeuristic` que hereti de `WordLadderScrabble` i que implementi la funció heurística basada en la suma dels costos de les lletres de la paraula actual fins a la paraula final. Crea una instància anomenada `wordladder_scrabble_heuristic`. Implementa un algorisme que puga solucionar el problema `wordladder_scrabble_heuristic`.\n",
    "    Intenta buscar la solució per passar de \"cold\" a \"warm\"."
   ],
   "metadata": {
    "collapsed": false
   },
   "id": "75c9aa835f933648"
  },
  {
   "cell_type": "code",
   "execution_count": 13,
   "outputs": [],
   "source": [
    "class WordLadderScrabbleHeuristic(WordLadderScrabble):\n",
    "    def h(self, estat):\n",
    "        return sum(self.cost_accio(estat, letter, self.final[pos]) for pos, letter in enumerate(estat))\n",
    "\n",
    "wordladder_scrabble_heuristic = WordLadderScrabbleHeuristic(inicial=\"cold\", final=\"warm\")"
   ],
   "metadata": {
    "collapsed": false,
    "ExecuteTime": {
     "end_time": "2023-09-16T21:40:14.343702Z",
     "start_time": "2023-09-16T21:40:14.232636Z"
    }
   },
   "id": "da5ec658cd46cc83"
  },
  {
   "cell_type": "code",
   "execution_count": 14,
   "outputs": [],
   "source": [
    "def a_star(problema):\n",
    "    frontera = []\n",
    "    heapq.heappush(frontera, (0, problema.inicial, []))\n",
    "    visitats = set()\n",
    "    \n",
    "    i=0\n",
    "    while len(frontera) > 0:\n",
    "        i+=1\n",
    "        cost, estat, ruta = heapq.heappop(frontera)\n",
    "        \n",
    "        if i%1000 == 0:\n",
    "            print(i, cost, estat, ruta)\n",
    "            \n",
    "        visitats.add(estat)\n",
    "    \n",
    "        if problema.es_resultat(estat):\n",
    "            print(i)\n",
    "            return estat, cost, ruta + [estat]\n",
    "        \n",
    "        for pos, letter, opcio in problema.accions(estat):\n",
    "            if opcio not in visitats:\n",
    "                heapq.heappush(frontera, (cost + problema.cost_accio(estat, letter, opcio) + problema.h(opcio), opcio, ruta + [estat]))"
   ],
   "metadata": {
    "collapsed": false,
    "ExecuteTime": {
     "end_time": "2023-09-16T21:40:14.369012Z",
     "start_time": "2023-09-16T21:40:14.267247Z"
    }
   },
   "id": "ef6c1c5c690424e9"
  },
  {
   "cell_type": "code",
   "execution_count": 15,
   "outputs": [],
   "source": [
    "#a_star(dogcat_scrabble_heuristic)"
   ],
   "metadata": {
    "collapsed": false,
    "ExecuteTime": {
     "end_time": "2023-09-16T21:40:14.387087Z",
     "start_time": "2023-09-16T21:40:14.282472Z"
    }
   },
   "id": "38e250a5ebaa6854"
  },
  {
   "cell_type": "markdown",
   "source": [
    "## Aplicació a altres problemes\n",
    "\n",
    "Les técniques que hem vist per a resoldre el problema de Word Ladder es poden aplicar a altres problemes. En aquest exercici, les aplicarem al problema del puzzle de 8 peces.\n",
    "\n",
    "### Puzzle de 8 peces\n",
    "\n",
    "El puzzle de 8 peces és un joc que consisteix en un tauler de 3x3 en el que hi ha 8 peces i un espai buit. Com ja hem vist en les classes, podem representar el tauler com una llista de 9 enters, on el 0 representa l'espai buit. Per exemple, el tauler següent:\n",
    "\n",
    "```\n",
    "8 1 3\n",
    "4 0 2\n",
    "7 6 5\n",
    "```\n",
    "\n",
    "es pot representar com la llista `[8, 1, 3, 4, 0, 2, 7, 6, 5]`.\n",
    "\n",
    "El joc consisteix en moure les peces horitzontalment o verticalment per a aconseguir un tauler amb les peces ordenades de menor a major, com el següent:\n",
    "\n",
    "```\n",
    "1 2 3\n",
    "4 5 6\n",
    "7 8 0\n",
    "```\n",
    "\n",
    "#### Que hem de fer?\n",
    "\n",
    "1. Implementa la classe `Puzzle8Problema` que hereti de `Problema` i implementa els mètodes necessaris per a fer-ho funcionar. Crea una instància anomenada `puzzle8_distancia` amb el tauler inicial `[8, 1, 3, 4, 0, 2, 7, 6, 5]` i el tauler final `[1, 2, 3, 4, 5, 6, 7, 8, 0]`."
   ],
   "metadata": {
    "collapsed": false
   },
   "id": "6e64c518cb0a162"
  },
  {
   "cell_type": "code",
   "execution_count": 16,
   "outputs": [],
   "source": [
    "class Puzzle8Problema(Problema):\n",
    "    def accions(self, state):\n",
    "        for pos, orig_number in enumerate(state):\n",
    "            if orig_number == 0:\n",
    "                row, col = pos // 3, pos % 3\n",
    "                if row > 0:\n",
    "                    yield pos - 3, 'up', state[:pos - 3] + (0,) + state[pos - 2:pos] + (state[pos - 3],) + state[pos + 1:]\n",
    "                if row < 2:\n",
    "                    yield pos + 3, 'down', state[:pos] + (state[pos + 3],) + state[pos + 1:pos + 3] + (0,) + state[pos + 4:]\n",
    "                if col > 0:\n",
    "                    yield pos - 1, 'left', state[:pos - 1] + (0, state[pos - 1]) + state[pos + 1:]\n",
    "                if col < 2:\n",
    "                    yield pos + 1, 'right', state[:pos] + (state[pos + 1], 0) + state[pos + 2:]\n",
    "                break\n",
    "\n",
    "    def cost_accio(self, s, a, s1):\n",
    "        return 1\n"
   ],
   "metadata": {
    "collapsed": false,
    "ExecuteTime": {
     "end_time": "2023-09-16T21:40:14.387700Z",
     "start_time": "2023-09-16T21:40:14.301591Z"
    }
   },
   "id": "888d4ea1bb6d2862"
  },
  {
   "cell_type": "markdown",
   "source": [
    "2. Aplica l'algorisme de cerca en amplitud per a trobar una solució al problema `puzzle8_distancia`. Quina solució troba? Quin és el cost d'aquesta solució?"
   ],
   "metadata": {
    "collapsed": false
   },
   "id": "647d61a140ffd6d6"
  },
  {
   "cell_type": "code",
   "execution_count": 17,
   "outputs": [
    {
     "name": "stdout",
     "output_type": "stream",
     "text": [
      "6923\n"
     ]
    },
    {
     "data": {
      "text/plain": "((1, 2, 3, 4, 5, 6, 7, 8, 0),\n 14,\n [(8, 1, 3, 4, 0, 2, 7, 6, 5),\n  (8, 1, 3, 4, 2, 0, 7, 6, 5),\n  (8, 1, 3, 4, 2, 5, 7, 6, 0),\n  (8, 1, 3, 4, 2, 5, 7, 0, 6),\n  (8, 1, 3, 4, 2, 5, 0, 7, 6),\n  (8, 1, 3, 0, 2, 5, 4, 7, 6),\n  (0, 1, 3, 8, 2, 5, 4, 7, 6),\n  (1, 0, 3, 8, 2, 5, 4, 7, 6),\n  (1, 2, 3, 8, 0, 5, 4, 7, 6),\n  (1, 2, 3, 0, 8, 5, 4, 7, 6),\n  (1, 2, 3, 4, 8, 5, 0, 7, 6),\n  (1, 2, 3, 4, 8, 5, 7, 0, 6),\n  (1, 2, 3, 4, 0, 5, 7, 8, 6),\n  (1, 2, 3, 4, 5, 0, 7, 8, 6),\n  (1, 2, 3, 4, 5, 6, 7, 8, 0)])"
     },
     "execution_count": 17,
     "metadata": {},
     "output_type": "execute_result"
    }
   ],
   "source": [
    "puzzle8_distancia = Puzzle8Problema(inicial=(8, 1, 3, 4, 0, 2, 7, 6, 5), final=(1, 2, 3, 4, 5, 6, 7, 8, 0))\n",
    "breadth_first_search(puzzle8_distancia)"
   ],
   "metadata": {
    "collapsed": false,
    "ExecuteTime": {
     "end_time": "2023-09-16T21:40:14.468863Z",
     "start_time": "2023-09-16T21:40:14.420846Z"
    }
   },
   "id": "ae9f4d5fa44f08e1"
  },
  {
   "cell_type": "markdown",
   "source": [
    "3.  Si implementem l'algorisme de cerca en cost uniforme, trobarà una solució millor? Perquè?"
   ],
   "metadata": {
    "collapsed": false
   },
   "id": "2670bcee474cb4f7"
  },
  {
   "cell_type": "markdown",
   "source": [
    "4. Implementa una classe `Puzzle8ProblemaHeuristic` que hereti de `Puzzle8Problema` i que implementi una funció heurística que estime el cost de moure les peces del tauler actual al tauler final. Crea una instància anomenada `puzzle8_distancia_heuristic` amb el tauler inicial `[8, 1, 3, 4, 0, 2, 7, 6, 5]` i el tauler final `[1, 2, 3, 4, 5, 6, 7, 8, 0]`."
   ],
   "metadata": {
    "collapsed": false
   },
   "id": "a93e21fbbb92da9c"
  },
  {
   "cell_type": "code",
   "execution_count": 18,
   "outputs": [],
   "source": [
    "class Puzzle8ProblemaHeuristic(Puzzle8Problema):\n",
    "    def h(self, estat):\n",
    "        return sum(abs(self.final.index(number) - estat.index(number)) for number in range(1, 9))"
   ],
   "metadata": {
    "collapsed": false,
    "ExecuteTime": {
     "end_time": "2023-09-16T21:40:14.469712Z",
     "start_time": "2023-09-16T21:40:14.433879Z"
    }
   },
   "id": "2698a85e728d8f7a"
  },
  {
   "cell_type": "code",
   "execution_count": 19,
   "outputs": [
    {
     "name": "stdout",
     "output_type": "stream",
     "text": [
      "428\n"
     ]
    },
    {
     "data": {
      "text/plain": "((1, 2, 3, 4, 5, 6, 7, 8, 0),\n 171,\n [(8, 1, 3, 4, 0, 2, 7, 6, 5),\n  (8, 1, 3, 4, 2, 0, 7, 6, 5),\n  (8, 1, 3, 4, 2, 5, 7, 6, 0),\n  (8, 1, 3, 4, 2, 5, 7, 0, 6),\n  (8, 1, 3, 4, 2, 5, 0, 7, 6),\n  (8, 1, 3, 0, 2, 5, 4, 7, 6),\n  (0, 1, 3, 8, 2, 5, 4, 7, 6),\n  (1, 0, 3, 8, 2, 5, 4, 7, 6),\n  (1, 2, 3, 8, 0, 5, 4, 7, 6),\n  (1, 2, 3, 0, 8, 5, 4, 7, 6),\n  (1, 2, 3, 4, 8, 5, 0, 7, 6),\n  (1, 2, 3, 4, 8, 5, 7, 0, 6),\n  (1, 2, 3, 4, 0, 5, 7, 8, 6),\n  (1, 2, 3, 4, 5, 0, 7, 8, 6),\n  (1, 2, 3, 4, 5, 6, 7, 8, 0)])"
     },
     "execution_count": 19,
     "metadata": {},
     "output_type": "execute_result"
    }
   ],
   "source": [
    "puzzle8_distancia_heuristic = Puzzle8ProblemaHeuristic(inicial=(8, 1, 3, 4, 0, 2, 7, 6, 5), final=(1, 2, 3, 4, 5, 6, 7, 8, 0))\n",
    "a_star(puzzle8_distancia_heuristic)"
   ],
   "metadata": {
    "collapsed": false,
    "ExecuteTime": {
     "end_time": "2023-09-16T21:40:14.493118Z",
     "start_time": "2023-09-16T21:40:14.459141Z"
    }
   },
   "id": "15eae91685a0fe7"
  }
 ],
 "metadata": {
  "kernelspec": {
   "display_name": "Python 3",
   "language": "python",
   "name": "python3"
  },
  "language_info": {
   "codemirror_mode": {
    "name": "ipython",
    "version": 2
   },
   "file_extension": ".py",
   "mimetype": "text/x-python",
   "name": "python",
   "nbconvert_exporter": "python",
   "pygments_lexer": "ipython2",
   "version": "2.7.6"
  }
 },
 "nbformat": 4,
 "nbformat_minor": 5
}
