{
 "nbformat": 4,
 "nbformat_minor": 0,
 "metadata": {
  "colab": {
   "provenance": []
  },
  "kernelspec": {
   "name": "python3",
   "language": "python",
   "display_name": "Python 3 (ipykernel)"
  },
  "language_info": {
   "name": "python"
  }
 },
 "cells": [
  {
   "cell_type": "code",
   "source": [
    "from dataclasses import dataclass"
   ],
   "metadata": {
    "id": "fvu8xOodFJOT",
    "ExecuteTime": {
     "end_time": "2023-11-08T21:13:11.499018Z",
     "start_time": "2023-11-08T21:13:11.349375Z"
    }
   },
   "execution_count": 11,
   "outputs": []
  },
  {
   "cell_type": "code",
   "source": [
    "@dataclass\n",
    "class Estat:\n",
    "    bot_3: int = 0\n",
    "    bot_4: int = 0\n",
    "    pare: 'Estat' = None\n",
    "\n",
    "    def __repr__(self):\n",
    "        return f\"({self.bot_3}, {self.bot_4})\"\n",
    "    \n",
    "    def __hash__(self):\n",
    "        return hash((self.bot_3, self.bot_4))"
   ],
   "metadata": {
    "id": "tVXvVdIxFLOq",
    "ExecuteTime": {
     "end_time": "2023-11-08T21:22:49.641455Z",
     "start_time": "2023-11-08T21:22:49.610173Z"
    }
   },
   "execution_count": 29,
   "outputs": []
  },
  {
   "cell_type": "code",
   "source": [
    "def genera_estats(act):\n",
    "    estats = []\n",
    "\n",
    "    ### PLENAR UNA BOTELLA\n",
    "    if act.bot_3 != 3:\n",
    "        estats.append(Estat(3, act.bot_4, act))\n",
    "\n",
    "    if act.bot_4 != 4:\n",
    "        estats.append(Estat(act.bot_3, 4, act))\n",
    "\n",
    "    ### BUIDAR UNA BOTELLA\n",
    "    if act.bot_3 != 0:\n",
    "        estats.append(Estat(0, act.bot_4, act))\n",
    "\n",
    "    if act.bot_4 != 0:\n",
    "        estats.append(Estat(act.bot_3, 0, act))\n",
    "\n",
    "    ### TRASPASSAR\n",
    "    if act.bot_3 != 0:\n",
    "        cap = 4 - act.bot_4\n",
    "        a_passar = min(act.bot_3, cap)\n",
    "        estats.append(Estat(act.bot_3 - a_passar, act.bot_4 + a_passar, act))\n",
    "\n",
    "    if act.bot_4 != 0:\n",
    "        cap = 3 - act.bot_3\n",
    "        a_passar = min(act.bot_4, cap)\n",
    "        estats.append(Estat(act.bot_3 + a_passar, act.bot_4 - a_passar, act))\n",
    "\n",
    "    return (estats)\n"
   ],
   "metadata": {
    "id": "F5ZMYS38GeVe",
    "ExecuteTime": {
     "end_time": "2023-11-08T21:22:49.938200Z",
     "start_time": "2023-11-08T21:22:49.921035Z"
    }
   },
   "execution_count": 30,
   "outputs": []
  },
  {
   "cell_type": "code",
   "source": [
    "def dfs(inicial: Estat):  #function for BFS\n",
    "    cua = [inicial]\n",
    "    visitats = set()\n",
    "\n",
    "    while cua:\n",
    "        estat = cua.pop(0)\n",
    "        visitats.add(estat)\n",
    "\n",
    "        if estat.bot_3 == 2 or estat.bot_4 == 2:\n",
    "            return estat\n",
    "        else:\n",
    "            for estat in genera_estats(estat):\n",
    "                if estat not in visitats and estat not in cua:\n",
    "                    cua.append(estat)\n",
    "    return None"
   ],
   "metadata": {
    "id": "Gi8ECk8LErPN",
    "ExecuteTime": {
     "end_time": "2023-11-08T21:22:50.148471Z",
     "start_time": "2023-11-08T21:22:50.126860Z"
    }
   },
   "execution_count": 31,
   "outputs": []
  },
  {
   "cell_type": "code",
   "source": [
    "inicial = Estat(0, 0)\n",
    "optim = dfs(inicial)\n",
    "\n",
    "solu = []\n",
    "estat = optim\n",
    "while estat.pare:\n",
    "    solu.append(estat)\n",
    "    estat = estat.pare\n",
    "solu.append(inicial)\n",
    "\n",
    "solu.reverse()\n",
    "for estat in solu:\n",
    "    print(estat)"
   ],
   "metadata": {
    "colab": {
     "base_uri": "https://localhost:8080/"
    },
    "id": "LEbUMeruKvGX",
    "outputId": "b11a440e-df82-4865-8292-7632ff7564e4",
    "ExecuteTime": {
     "end_time": "2023-11-08T21:22:50.419273Z",
     "start_time": "2023-11-08T21:22:50.396596Z"
    }
   },
   "execution_count": 32,
   "outputs": [
    {
     "name": "stdout",
     "output_type": "stream",
     "text": [
      "(0, 0)\n",
      "(3, 0)\n",
      "(0, 3)\n",
      "(3, 3)\n",
      "(2, 4)\n"
     ]
    }
   ]
  },
  {
   "cell_type": "code",
   "execution_count": null,
   "outputs": [],
   "source": [],
   "metadata": {
    "collapsed": false,
    "ExecuteTime": {
     "end_time": "2023-11-08T21:13:20.675420Z",
     "start_time": "2023-11-08T21:13:20.657528Z"
    }
   }
  }
 ]
}
