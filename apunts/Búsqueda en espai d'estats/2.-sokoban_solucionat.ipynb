{
 "cells": [
  {
   "cell_type": "markdown",
   "source": [
    "# Sokoban\n",
    "\n",
    "En aquesta pràctica desenvoluparem un agent capaç de resoldre el joc Sokoban. El joc consisteix en un tauler de caselles quadrades en el qual hi ha un robot, un conjunt de caixes i un conjunt de posicions d'emmagatzematge. El robot pot moure's en les quatre direccions cardinals i pot arrossegar una caixa si aquesta es troba en una casella adjacent al robot. L'objectiu del joc és arrossegar totes les caixes a les posicions d'emmagatzematge.\n",
    "\n",
    "![Sokoban 75%](sokoban.png)\n",
    "\n",
    "Si no coneixes el joc Sokoban, pots jugar-hi en línia a [Sokoban Online](http://www.sokobanonline.com/play)."
   ],
   "metadata": {
    "collapsed": false
   },
   "id": "68e695087fb28f31"
  },
  {
   "cell_type": "markdown",
   "source": [
    "## Exercici 1\n",
    "\n",
    "Implementa la classe `SokobanState` que representa un estat del joc Sokoban. La classe ha de tenir els següents atributs:\n",
    "- `action`: L'acció que s'ha aplicat per arribar a l'estat. L'estat inicial té l'acció \"START\".\n",
    "- `cost`: El cost de l'acció que s'ha aplicat per arribar a l'estat. L'estat inicial té cost 0.\n",
    "- `parent`: L'estat pare de l'estat actual. L'estat inicial no té estat pare.\n",
    "- `width`: L'amplada del tauler. Per defecte, el tauler té 5 caselles d'ample.\n",
    "- `height`: L'altura del tauler. Per defecte, el tauler té 5 caselles d'alt.\n",
    "- `robots`: La posició dels robots. Per defecte, hi ha un únic robot a la posició (0, 0).\n",
    "- `boxes`: La posició de les caixes. Per defecte, hi ha una única caixa a la posició (0, 0).\n",
    "- `storage`: La posició de les posicions d'emmagatzematge. Per defecte, hi ha una única posició d'emmagatzematge a la posició (0, 0).\n",
    "- `obstacles`: La posició dels obstacles. Per defecte, no hi ha obstacles.\n",
    "- `__str__`: Representació gràfica de l'estat del problema. Mostra els robots com a 'R', les caixes com a 'B', les posicions d'emmagatzematge com a 'S' i els obstacles com a 'O'. Les parets i els límits del tauler es mostren com a '#'.\n",
    "- `__hash__`: Retorna un hash de l'estat. Necessari per a poder utilitzar l'estat com a clau d'un diccionari.\n",
    "- `__lt__`: Retorna si el cost de l'estat actual és menor que el cost d'un altre estat.\n",
    "- `__eq__`: Retorna si l'estat actual és igual a un altre estat."
   ],
   "metadata": {
    "collapsed": false
   },
   "id": "477cb5ad2337a607"
  },
  {
   "cell_type": "code",
   "execution_count": 1,
   "outputs": [],
   "source": [
    "from __future__ import annotations\n",
    "\n",
    "from dataclasses import dataclass\n",
    "from itertools import chain\n",
    "\n",
    "\n",
    "@dataclass\n",
    "class SokobanState:\n",
    "    action: str = \"START\"\n",
    "    cost: int = 0\n",
    "    parent: 'SokobanState' = None\n",
    "    width: int = 5\n",
    "    height: int = 5\n",
    "    robots: tuple = ((0, 0))\n",
    "    boxes: set | frozenset | tuple = ((0, 0))\n",
    "    storage: set | frozenset | tuple = ((0, 0))\n",
    "    obstacles: set | frozenset | tuple = ()\n",
    "\n",
    "    def __str__(self):\n",
    "        \"\"\"Representació gràfica de l'estat del problema.\n",
    "        Mostra els robots com a 'R', les caixes com a 'B', les posicions d'emmagatzematge com a 'S' i els obstacles com a 'O'.\n",
    "        Les parets i els límits del tauler es mostren com a '#'.    \n",
    "        \"\"\"\n",
    "\n",
    "        out = \"\"\n",
    "        for y in range(-1, self.height + 1):\n",
    "            for x in range(-1, self.width + 1):\n",
    "                if x == -1 or y == -1 or (x, y) in self.obstacles or x == self.width or y == self.height:\n",
    "                    out += \"🚧\"\n",
    "                elif (x, y) in self.robots:\n",
    "                    out += \"🤖\"\n",
    "                elif (x, y) in self.boxes:\n",
    "                    out += \"📦\"\n",
    "                elif (x, y) in self.storage:\n",
    "                    out += \"❌\"\n",
    "                else:\n",
    "                    out += \"⬜\"\n",
    "            out += \"\\n\"\n",
    "        return out\n",
    "\n",
    "    def __hash__(self):\n",
    "        return hash(self.__str__())\n",
    "\n",
    "    def __lt__(self, other):\n",
    "        return self.cost < other.cost\n",
    "\n",
    "    def __eq__(self, other):\n",
    "        return self.__hash__() == other.__hash__()\n"
   ],
   "metadata": {
    "collapsed": false,
    "ExecuteTime": {
     "end_time": "2023-10-30T12:03:46.557557Z",
     "start_time": "2023-10-30T12:03:46.381148Z"
    }
   },
   "id": "initial_id"
  },
  {
   "cell_type": "markdown",
   "source": [
    "## Exercici 2\n",
    "Utilitzant com a base la classe `Problema`, implementa la classe `ProblemaSokoban` que representa un problema de Sokoban. Hauràs de sobrescriure, com a mínim, els següents mètodes: \n",
    "- `accions`: Retorna les accions possibles per a un estat. Les accions es representen com una tupla (robot, direcció).\n",
    "- `accio`: Retorna l'estat que resulta d'aplicar una acció a un estat.\n",
    "- `es_resultat`: Retorna si un estat és un estat final. Un estat és final si totes les caixes estan en una posició d'emmagatzematge."
   ],
   "metadata": {
    "collapsed": false
   },
   "id": "1d74f2c090a16efe"
  },
  {
   "cell_type": "code",
   "execution_count": 3,
   "outputs": [],
   "source": [
    "class Problema(object):\n",
    "    \"\"\"Aquesta és la classe abstracta per a un problema formal. Una nova àrea crea una subclasse d'aquesta, sobrescrivint `accions` i `accio`, i potser altres mètodes.\n",
    "    L'heurística per defecte és 0 i el cost d'acció per defecte és 1 per a tots els estats.\n",
    "    Quan crees una instància d'una subclasse, especifica els estats `inicial` i `final`\n",
    "    (o proporciona un mètode `es_resultat`) i potser altres arguments de paraula clau per a la subclasse.\"\"\"\n",
    "\n",
    "    def __init__(self, inicial=None, final=None, **kwds):\n",
    "        self.__dict__.update(inicial=inicial, final=final, **kwds)\n",
    "\n",
    "    def accions(self, state):         raise NotImplementedError\n",
    "\n",
    "    def accio(self, state, action):   raise NotImplementedError\n",
    "\n",
    "    def es_resultat(self, state):     return state == self.final\n",
    "\n",
    "    def cost_accio(self, s, a, s1):   return 1\n",
    "\n",
    "    def h(self, estat):               return 0\n",
    "\n",
    "    def __str__(self):\n",
    "        return '{}({!r}, {!r})'.format(\n",
    "            type(self).__name__, self.inicial, self.final)"
   ],
   "metadata": {
    "collapsed": false,
    "ExecuteTime": {
     "end_time": "2023-10-30T12:03:53.274172Z",
     "start_time": "2023-10-30T12:03:53.023274Z"
    }
   },
   "id": "7b2d9a9ed9150385"
  },
  {
   "cell_type": "code",
   "execution_count": 4,
   "outputs": [],
   "source": [
    "class ProblemaSokoban(Problema):\n",
    "    \"\"\"Classe per a un problema de Sokoban. Un problema de Sokoban es defineix per:\n",
    "    - Els robots\n",
    "    - Les caixes\n",
    "    - Les posicions d'emmagatzematge\n",
    "    \n",
    "    El problema es resol quan totes les caixes estan en una posició d'emmagatzematge.\n",
    "    \"\"\"\n",
    "\n",
    "    def accions(self, state):\n",
    "        \"\"\"Les accions per a un estat són les accions que poden fer els robots.\n",
    "        Els robots poden moure's en les quatre direccions cardinals.\n",
    "        Les accions es representen com una tupla (robot, direcció).\n",
    "        \"\"\"\n",
    "        accions = []\n",
    "        for robot in state.robots:\n",
    "            for direccio in [(0, 1), (0, -1), (1, 0), (-1, 0)]:\n",
    "                if self.es_moviment_valid(state, robot, direccio):\n",
    "                    accions.append((robot, direccio))\n",
    "        return accions\n",
    "\n",
    "    def caixa_es_moviment_valid(self, state, param, direccio):\n",
    "        x, y = param\n",
    "        dx, dy = direccio\n",
    "\n",
    "        blocked = list(chain(state.obstacles, state.robots, state.boxes))\n",
    "\n",
    "        if (x + dx, y + dy) in blocked:\n",
    "            return False\n",
    "\n",
    "        if (x + dx, y + dy) in state.boxes:\n",
    "            return False\n",
    "\n",
    "        if (x + dx < 0 or x + dx >= state.width) or (y + dy < 0 or y + dy >= state.height):\n",
    "            return False\n",
    "        return True\n",
    "\n",
    "    def es_moviment_valid(self, state, robot, direccio):\n",
    "        \"\"\"Un moviment és vàlid si el robot es pot moure en la direcció indicada.\n",
    "        Un robot es pot moure en una direcció si no hi ha cap obstacle en la direcció\n",
    "        no hi ha cap altre robot en la casella de destí, no hi ha cap caixa en la casella de destí i no se'n sortim del tauler.\n",
    "        \"\"\"\n",
    "        x, y = robot\n",
    "        dx, dy = direccio\n",
    "\n",
    "        blocked = list(chain(state.obstacles, state.robots))\n",
    "\n",
    "        if (x + dx, y + dy) in blocked:\n",
    "            return False\n",
    "\n",
    "        if (x + dx, y + dy) in state.boxes:\n",
    "            if not self.caixa_es_moviment_valid(state, (x + dx, y + dy), direccio):\n",
    "                return False\n",
    "\n",
    "        if (x + dx < 0 or x + dx >= state.width) or (y + dy < 0 or y + dy >= state.height):\n",
    "            return False\n",
    "        return True\n",
    "\n",
    "    def accio(self, state, action):\n",
    "        \"\"\"Retorna l'estat resultant d'aplicar l'acció a l'estat donat.\n",
    "        L'acció és una tupla (robot, direcció).\n",
    "        \"\"\"\n",
    "        robot, direccio = action\n",
    "        x, y = robot\n",
    "        dx, dy = direccio\n",
    "\n",
    "        new_robots = list(state.robots)\n",
    "        new_robots.remove(robot)\n",
    "        new_robots.append((x + dx, y + dy))\n",
    "        new_robots = tuple(new_robots)\n",
    "\n",
    "        if (x + dx, y + dy) in state.boxes:\n",
    "            new_boxes = list(state.boxes)\n",
    "            new_boxes.remove((x + dx, y + dy))\n",
    "            new_boxes.append((x + 2 * dx, y + 2 * dy))\n",
    "            new_boxes = frozenset(new_boxes)\n",
    "        else:\n",
    "            new_boxes = state.boxes\n",
    "\n",
    "        return SokobanState(action, state.cost + 1, state, state.width, state.height, new_robots, new_boxes,\n",
    "                            state.storage, state.obstacles)\n",
    "\n",
    "    def es_resultat(self, state):\n",
    "        \"\"\"Un estat és resultat si totes les caixes estan en una posició d'emmagatzematge.\"\"\"\n",
    "        return state.boxes == state.storage\n",
    "\n",
    "    def h(self, state):\n",
    "        \"\"\"Heurística per a un estat. Utilitza la distància Manhattan entre les caixes i les posicions d'emmagatzematge.\"\"\"\n",
    "        return sum(min(abs(box[0] - storage[0]) + abs(box[1] - storage[1]) for storage in state.storage) for box in\n",
    "                   state.boxes)\n"
   ],
   "metadata": {
    "collapsed": false,
    "ExecuteTime": {
     "end_time": "2023-10-30T12:03:55.206199Z",
     "start_time": "2023-10-30T12:03:55.116018Z"
    }
   },
   "id": "3f613292f968d3dc"
  },
  {
   "cell_type": "markdown",
   "source": [
    "## Exercici 3\n",
    "\n",
    "Implementa l'algorisme `UCS` per a resoldre un problema de Sokoban. L'algorisme ha de retornar l'estat final, el cost de l'estat final i la ruta per arribar a l'estat final. La ruta és una llista d'estats que comença en l'estat inicial i acaba en l'estat final. Si no es pot arribar a l'estat final, l'algorisme ha de retornar `None` per a tots els valors.\n",
    "\n",
    "Utilitza l'algorisme `UCS` per a resoldre el següent problema de Sokoban:"
   ],
   "metadata": {
    "collapsed": false
   },
   "id": "8361fb60fcbcf1d6"
  },
  {
   "cell_type": "code",
   "execution_count": 5,
   "outputs": [],
   "source": [
    "inicial = SokobanState(\n",
    "    \"START\", 0, None, 5, 5,  # dimensions\n",
    "    ((2, 1), (2, 3)),  # robots\n",
    "    frozenset(((1, 1),)),  # boxes\n",
    "    frozenset(((0, 0),)),  # storage\n",
    "    frozenset(((1, 0), (2, 0), (3, 0), (1, 4), (2, 4), (3, 4)))  # obstacles\n",
    ")\n",
    "soko = ProblemaSokoban(inicial)"
   ],
   "metadata": {
    "collapsed": false,
    "ExecuteTime": {
     "end_time": "2023-10-30T12:03:57.195499Z",
     "start_time": "2023-10-30T12:03:56.989366Z"
    }
   },
   "id": "3376838c63d00397"
  },
  {
   "cell_type": "markdown",
   "source": [
    "## Exercici 4\n",
    "\n",
    "Pensa una heurística que sigui admissible per a un problema de Sokoban i implementa-la.\n",
    "\n",
    "Implementa l'algorisme `Greedy` per a resoldre un problema de Sokoban. L'algorisme ha de retornar l'estat final, el cost de l'estat final i la ruta per arribar a l'estat final. La ruta és una llista d'estats que comença en l'estat inicial i acaba en l'estat final. Si no es pot arribar a l'estat final, l'algorisme ha de retornar `None` per a tots els valors.\n",
    "\n",
    "Utilitza l'algorisme `Greedy` per a resoldre el mateix problema de Sokoban:"
   ],
   "metadata": {
    "collapsed": false
   },
   "id": "975ebaa90d99a2"
  },
  {
   "cell_type": "code",
   "execution_count": 6,
   "outputs": [],
   "source": [
    "inicial = SokobanState(\n",
    "    \"START\", 0, None, 5, 5,  # dimensions\n",
    "    ((2, 1), (2, 3)),  # robots\n",
    "    frozenset(((1, 1),)),  # boxes\n",
    "    frozenset(((0, 0),)),  # storage\n",
    "    frozenset(((1, 0), (2, 0), (3, 0), (1, 4), (2, 4), (3, 4)))  # obstacles\n",
    ")\n",
    "soko = ProblemaSokoban(inicial)"
   ],
   "metadata": {
    "collapsed": false,
    "ExecuteTime": {
     "end_time": "2023-10-30T12:03:58.811463Z",
     "start_time": "2023-10-30T12:03:58.627922Z"
    }
   },
   "id": "62893a2c69b08715"
  },
  {
   "cell_type": "code",
   "execution_count": 8,
   "outputs": [
    {
     "name": "stdout",
     "output_type": "stream",
     "text": [
      "Estats visitats Greedy: 14\n",
      "Cost: 4\n",
      "🚧🚧🚧🚧🚧🚧🚧\n",
      "🚧❌🚧🚧🚧⬜🚧\n",
      "🚧⬜📦🤖⬜⬜🚧\n",
      "🚧⬜⬜⬜⬜⬜🚧\n",
      "🚧⬜⬜🤖⬜⬜🚧\n",
      "🚧⬜🚧🚧🚧⬜🚧\n",
      "🚧🚧🚧🚧🚧🚧🚧\n",
      "\n",
      "\n",
      "🚧🚧🚧🚧🚧🚧🚧\n",
      "🚧❌🚧🚧🚧⬜🚧\n",
      "🚧📦🤖⬜⬜⬜🚧\n",
      "🚧⬜⬜⬜⬜⬜🚧\n",
      "🚧⬜⬜🤖⬜⬜🚧\n",
      "🚧⬜🚧🚧🚧⬜🚧\n",
      "🚧🚧🚧🚧🚧🚧🚧\n",
      "\n",
      "\n",
      "🚧🚧🚧🚧🚧🚧🚧\n",
      "🚧❌🚧🚧🚧⬜🚧\n",
      "🚧📦⬜⬜⬜⬜🚧\n",
      "🚧⬜🤖⬜⬜⬜🚧\n",
      "🚧⬜⬜🤖⬜⬜🚧\n",
      "🚧⬜🚧🚧🚧⬜🚧\n",
      "🚧🚧🚧🚧🚧🚧🚧\n",
      "\n",
      "\n",
      "🚧🚧🚧🚧🚧🚧🚧\n",
      "🚧❌🚧🚧🚧⬜🚧\n",
      "🚧📦⬜⬜⬜⬜🚧\n",
      "🚧🤖⬜⬜⬜⬜🚧\n",
      "🚧⬜⬜🤖⬜⬜🚧\n",
      "🚧⬜🚧🚧🚧⬜🚧\n",
      "🚧🚧🚧🚧🚧🚧🚧\n",
      "\n",
      "\n",
      "🚧🚧🚧🚧🚧🚧🚧\n",
      "🚧📦🚧🚧🚧⬜🚧\n",
      "🚧🤖⬜⬜⬜⬜🚧\n",
      "🚧⬜⬜⬜⬜⬜🚧\n",
      "🚧⬜⬜🤖⬜⬜🚧\n",
      "🚧⬜🚧🚧🚧⬜🚧\n",
      "🚧🚧🚧🚧🚧🚧🚧\n",
      "\n"
     ]
    }
   ],
   "source": [
    "import heapq\n",
    "\n",
    "\n",
    "def greedy(problema: ProblemaSokoban):\n",
    "    frontera = []\n",
    "    heapq.heappush(frontera, (0, problema.inicial, []))\n",
    "    visitats = set()\n",
    "\n",
    "    i = 0\n",
    "    while len(frontera) > 0:\n",
    "        i += 1\n",
    "        cost, estat, ruta = heapq.heappop(frontera)\n",
    "        visitats.add(estat)\n",
    "\n",
    "        if problema.es_resultat(estat):\n",
    "            print(\"Estats visitats Greedy:\", len(visitats))\n",
    "            return estat, cost, ruta + [estat]\n",
    "\n",
    "        for robot, direccio in problema.accions(estat):\n",
    "            nou_estat = problema.accio(estat, (robot, direccio))\n",
    "            if nou_estat not in visitats:\n",
    "                heapq.heappush(frontera, (\n",
    "                    problema.h(nou_estat),\n",
    "                    nou_estat,\n",
    "                    ruta + [estat]))\n",
    "\n",
    "\n",
    "estat, cost, ruta = greedy(soko)\n",
    "print(\"Cost:\", len(ruta) - 1)\n",
    "\n",
    "for estat in ruta:\n",
    "    print(estat)\n",
    "    print()"
   ],
   "metadata": {
    "collapsed": false,
    "ExecuteTime": {
     "end_time": "2023-10-30T12:04:11.913928Z",
     "start_time": "2023-10-30T12:04:11.759246Z"
    }
   },
   "id": "ae7cba115b937e8f"
  },
  {
   "cell_type": "markdown",
   "source": [
    "## Exercici 5\n",
    "\n",
    "Implementa l'algorisme `A*` per a assegurar que obtenin la ruta òptima. Compara el tamany de la ruta, els estats visitats i el temps d'execució amb l'algorisme `Greedy` amb els següents problemes de Sokoban:\n",
    "\n",
    "(Nota: Pots utilitzar la funció `time.time()` per a calcular el temps d'execució d'un algorisme.)"
   ],
   "metadata": {
    "collapsed": false
   },
   "id": "7596580d3dbe0723"
  },
  {
   "cell_type": "code",
   "execution_count": 46,
   "outputs": [],
   "source": [
    "estat_facil = SokobanState(\n",
    "    \"START\", 0, None, 5, 5,  # dimensions\n",
    "    ((2, 1), (2, 3)),  # robots\n",
    "    frozenset(((1, 1),)),  # boxes\n",
    "    frozenset(((0, 0),)),  # storage\n",
    "    frozenset(((1, 0), (2, 0), (3, 0), (1, 4), (2, 4), (3, 4)))  # obstacles\n",
    ")\n",
    "\n",
    "soko_facil = ProblemaSokoban(estat_facil)\n",
    "\n",
    "estat_mitja = SokobanState(\n",
    "    \"START\", 0, None, 6, 4,  # dimensions\n",
    "    ((2, 1), (2, 2)),  # robots\n",
    "    frozenset(((1, 1), (4, 2))),  # boxes\n",
    "    frozenset(((2, 1), (2, 2))),  # storage\n",
    "    frozenset()  # obstacles\n",
    ")\n",
    "\n",
    "soko_mitja = ProblemaSokoban(estat_mitja)\n",
    "\n",
    "estat_dificil = SokobanState(\n",
    "    \"START\", 0, None, 6, 6,  # dimensions\n",
    "    ((0, 0), (0, 2), (0, 4)),  # robots\n",
    "    frozenset(((1, 0), (1, 2), (1, 4))),  # boxes\n",
    "    frozenset(((5, 0), (5, 2), (0, 5))),  # storage\n",
    "    frozenset()  # obstacles\n",
    ")\n",
    "\n",
    "soko_dificil = ProblemaSokoban(estat_dificil)"
   ],
   "metadata": {
    "collapsed": false,
    "ExecuteTime": {
     "end_time": "2023-10-29T19:20:52.420118Z",
     "start_time": "2023-10-29T19:20:51.589170Z"
    }
   },
   "id": "8638a7bbee2dc276"
  },
  {
   "cell_type": "code",
   "execution_count": 47,
   "outputs": [],
   "source": [
    "import heapq\n",
    "\n",
    "\n",
    "def a_star(problema: ProblemaSokoban):\n",
    "    frontera = []\n",
    "    heapq.heappush(frontera, (0, 0, problema.inicial, []))\n",
    "    visitats = set()\n",
    "\n",
    "    i = 0\n",
    "    while len(frontera) > 0:\n",
    "        cost, h, estat, ruta = heapq.heappop(frontera)\n",
    "\n",
    "        if estat in visitats:\n",
    "            continue\n",
    "\n",
    "        visitats.add(estat)\n",
    "        i += 1\n",
    "\n",
    "        #if i % 10000 == 0:\n",
    "        #    print(\"Estats visitats:\", len(visitats), \"Estats frontera:\", len(frontera))\n",
    "        #    print(estat)\n",
    "\n",
    "        if problema.es_resultat(estat):\n",
    "            print(\"Estats visitats A*:\", len(visitats))\n",
    "            return estat, cost, ruta + [estat]\n",
    "\n",
    "        for robot, direccio in problema.accions(estat):\n",
    "            nou_estat = problema.accio(estat, (robot, direccio))\n",
    "            if nou_estat not in visitats:\n",
    "                h = problema.h(nou_estat)\n",
    "                tie_break = h * (1 + (i / 1000))\n",
    "                heapq.heappush(frontera, (\n",
    "                    h + cost + problema.cost_accio(estat, (robot, direccio), nou_estat),\n",
    "                    tie_break,\n",
    "                    nou_estat,\n",
    "                    ruta + [estat]))\n"
   ],
   "metadata": {
    "collapsed": false,
    "ExecuteTime": {
     "end_time": "2023-10-29T19:20:52.421235Z",
     "start_time": "2023-10-29T19:20:51.610421Z"
    }
   },
   "id": "f7a11eb7d8056412"
  },
  {
   "cell_type": "code",
   "execution_count": 48,
   "outputs": [
    {
     "name": "stdout",
     "output_type": "stream",
     "text": [
      "Estats visitats Greedy: 14\n",
      "Cost Greedy: 4\n",
      "Estats visitats A*: 40\n",
      "Cost A*: 4\n",
      "Estats visitats Greedy: 493\n",
      "Cost Greedy: 17\n",
      "Estats visitats A*: 1266\n",
      "Cost A*: 10\n",
      "Estats visitats Greedy: 73\n",
      "Cost Greedy: 14\n",
      "Estats visitats A*: 11831\n",
      "Cost A*: 14\n"
     ]
    }
   ],
   "source": [
    "# Si els temps d'execució són molt elevats amb A* pots parar l'execució i tornar més endavant, quan farem millores a l'algorisme.\n",
    "\n",
    "final, cost, ruta = greedy(soko_facil)\n",
    "print(\"Cost Greedy:\", len(ruta) - 1)\n",
    "\n",
    "final, cost, ruta = a_star(soko_facil)\n",
    "print(\"Cost A*:\", len(ruta) - 1)\n",
    "\n",
    "final, cost, ruta = greedy(soko_mitja)\n",
    "print(\"Cost Greedy:\", len(ruta) - 1)\n",
    "\n",
    "final, cost, ruta = a_star(soko_mitja)\n",
    "print(\"Cost A*:\", len(ruta) - 1)\n",
    "\n",
    "final, cost, ruta = greedy(soko_dificil)\n",
    "print(\"Cost Greedy:\", len(ruta) - 1)\n",
    "\n",
    "final, cost, ruta = a_star(soko_dificil)\n",
    "print(\"Cost A*:\", len(ruta) - 1)\n"
   ],
   "metadata": {
    "collapsed": false,
    "ExecuteTime": {
     "end_time": "2023-10-29T19:21:14.491641Z",
     "start_time": "2023-10-29T19:20:51.622156Z"
    }
   },
   "id": "2149abe485a2a3da"
  },
  {
   "cell_type": "markdown",
   "source": [
    "## Exercici 6\n",
    "\n",
    "Que has observat? Quin algorisme és més eficient en qüestió de temps i estats visitats? Troba la solució òptima sempre? Per què?"
   ],
   "metadata": {
    "collapsed": false
   },
   "id": "9ec8457f7d74ef0b"
  },
  {
   "cell_type": "markdown",
   "source": [],
   "metadata": {
    "collapsed": false
   },
   "id": "a54136bc5b9e51b4"
  },
  {
   "cell_type": "markdown",
   "source": [
    "## Exercici 7\n",
    "\n",
    "L'últim exemple pot resultar molt lent. Una de les causes és que, al tindre molt d'espai lliure, l'heurística no és molt informativa. Tenim molts estats que són igual de bons candidats per a ser l'estat final i l'algorisme `A*` ha d'explorar molts d'aquests estats.\n",
    "\n",
    "Per solucionar aquest problema, podem utilitzar el `tie breaking`. Aquesta tècnica consisteix en afegir un factor de desempat a la funció d'heurística. D'aquesta manera, si dos estats tenen la mateixa heurística, l'algorisme `A*` explorarà primer l'estat amb el factor de desempat més gran. \n",
    "\n",
    "Utilitza l'algorisme `A*` millorat per tindre una solució a `soko_dificil`."
   ],
   "metadata": {
    "collapsed": false
   },
   "id": "c580ac9207f1cc8a"
  },
  {
   "cell_type": "code",
   "execution_count": 52,
   "outputs": [],
   "source": [
    "def a_star_millorat(problema: ProblemaSokoban):\n",
    "    frontera = []\n",
    "    heapq.heappush(frontera, (0, 0, problema.inicial, []))\n",
    "    visitats = set()\n",
    "\n",
    "    i = 0\n",
    "    while len(frontera) > 0:\n",
    "        cost, h, estat, ruta = heapq.heappop(frontera)\n",
    "\n",
    "        if estat in visitats:\n",
    "            continue\n",
    "\n",
    "        visitats.add(estat)\n",
    "        i += 1\n",
    "\n",
    "        #if i % 10000 == 0:\n",
    "        #    print(\"Estats visitats:\", len(visitats), \"Estats frontera:\", len(frontera))\n",
    "        #    print(estat)\n",
    "\n",
    "        if problema.es_resultat(estat):\n",
    "            print(\"Estats visitats A*:\", len(visitats))\n",
    "            return estat, cost, ruta + [estat]\n",
    "\n",
    "        for robot, direccio in problema.accions(estat):\n",
    "            nou_estat = problema.accio(estat, (robot, direccio))\n",
    "            if nou_estat not in visitats:\n",
    "                h = problema.h(nou_estat)\n",
    "                tie_break = h * (1 + (i / 1000))\n",
    "                heapq.heappush(frontera, (\n",
    "                    h + cost + problema.cost_accio(estat, (robot, direccio), nou_estat),\n",
    "                    tie_break,\n",
    "                    nou_estat,\n",
    "                    ruta + [estat]))"
   ],
   "metadata": {
    "collapsed": false,
    "ExecuteTime": {
     "end_time": "2023-10-29T19:22:43.907164Z",
     "start_time": "2023-10-29T19:22:43.856885Z"
    }
   },
   "id": "b5ffb2f790857692"
  },
  {
   "cell_type": "code",
   "execution_count": 54,
   "outputs": [
    {
     "name": "stdout",
     "output_type": "stream",
     "text": [
      "Estats visitats A*: 11831\n",
      "Cost A* millorat: 14\n"
     ]
    }
   ],
   "source": [
    "estat, cost, ruta = a_star_millorat(soko_dificil)\n",
    "print(\"Cost A* millorat:\", len(ruta) - 1)"
   ],
   "metadata": {
    "collapsed": false,
    "ExecuteTime": {
     "end_time": "2023-10-29T19:23:59.236126Z",
     "start_time": "2023-10-29T19:23:42.801692Z"
    }
   },
   "id": "7fb221c98c39abb2"
  }
 ],
 "metadata": {
  "kernelspec": {
   "display_name": "Python 3",
   "language": "python",
   "name": "python3"
  },
  "language_info": {
   "codemirror_mode": {
    "name": "ipython",
    "version": 2
   },
   "file_extension": ".py",
   "mimetype": "text/x-python",
   "name": "python",
   "nbconvert_exporter": "python",
   "pygments_lexer": "ipython2",
   "version": "2.7.6"
  }
 },
 "nbformat": 4,
 "nbformat_minor": 5
}
