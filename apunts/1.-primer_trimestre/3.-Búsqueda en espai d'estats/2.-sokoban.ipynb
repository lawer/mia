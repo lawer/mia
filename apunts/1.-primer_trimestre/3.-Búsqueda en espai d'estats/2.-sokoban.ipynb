{
 "cells": [
  {
   "cell_type": "markdown",
   "id": "68e695087fb28f31",
   "metadata": {
    "collapsed": false
   },
   "source": [
    "# Sokoban\n",
    "\n",
    "En aquesta pràctica desenvoluparem un agent capaç de resoldre el joc Sokoban. El joc consisteix en un tauler de caselles quadrades en el qual hi ha un robot, un conjunt de caixes i un conjunt de posicions d'emmagatzematge. El robot pot moure's en les quatre direccions cardinals i pot arrossegar una caixa si aquesta es troba en una casella adjacent al robot. L'objectiu del joc és arrossegar totes les caixes a les posicions d'emmagatzematge.\n",
    "\n",
    "<img src=\"https://lawer.github.io/mia/apunts/3.-Búsqueda en espai d'estats/graf.png\" width=\"75%\">\n",
    "\n",
    "Si no coneixes el joc Sokoban, pots jugar-hi en línia a [Sokoban Online](http://www.sokobanonline.com/play)."
   ]
  },
  {
   "cell_type": "markdown",
   "id": "477cb5ad2337a607",
   "metadata": {
    "collapsed": false
   },
   "source": [
    "## Exercici 1\n",
    "\n",
    "Implementa la classe `SokobanState` que representa un estat del joc Sokoban. La classe ha de tenir els següents atributs:\n",
    "- `action`: L'acció que s'ha aplicat per arribar a l'estat. L'estat inicial té l'acció \"START\".\n",
    "- `cost`: El cost de l'acció que s'ha aplicat per arribar a l'estat. L'estat inicial té cost 0.\n",
    "- `parent`: L'estat pare de l'estat actual. L'estat inicial no té estat pare.\n",
    "- `width`: L'amplada del tauler. Per defecte, el tauler té 5 caselles d'ample.\n",
    "- `height`: L'altura del tauler. Per defecte, el tauler té 5 caselles d'alt.\n",
    "- `robots`: La posició dels robots. Per defecte, hi ha un únic robot a la posició (0, 0).\n",
    "- `boxes`: La posició de les caixes. Per defecte, hi ha una única caixa a la posició (0, 0).\n",
    "- `storage`: La posició de les posicions d'emmagatzematge. Per defecte, hi ha una única posició d'emmagatzematge a la posició (0, 0).\n",
    "- `obstacles`: La posició dels obstacles. Per defecte, no hi ha obstacles.\n",
    "- `__str__`: Representació gràfica de l'estat del problema. Mostra els robots com a 'R', les caixes com a 'B', les posicions d'emmagatzematge com a 'S' i els obstacles com a 'O'. Les parets i els límits del tauler es mostren com a '#'.\n",
    "- `__hash__`: Retorna un hash de l'estat. Necessari per a poder utilitzar l'estat com a clau d'un diccionari.\n",
    "- `__lt__`: Retorna si el cost de l'estat actual és menor que el cost d'un altre estat.\n",
    "- `__eq__`: Retorna si l'estat actual és igual a un altre estat."
   ]
  },
  {
   "cell_type": "code",
   "execution_count": 40,
   "id": "initial_id",
   "metadata": {
    "ExecuteTime": {
     "end_time": "2023-10-29T19:20:52.003143Z",
     "start_time": "2023-10-29T19:20:51.430978Z"
    },
    "collapsed": false
   },
   "outputs": [],
   "source": []
  },
  {
   "cell_type": "markdown",
   "id": "1d74f2c090a16efe",
   "metadata": {
    "collapsed": false
   },
   "source": [
    "## Exercici 2\n",
    "Utilitzant com a base la classe `Problema`, implementa la classe `ProblemaSokoban` que representa un problema de Sokoban. Hauràs de sobrescriure, com a mínim, els següents mètodes: \n",
    "- `accions`: Retorna les accions possibles per a un estat. Les accions es representen com una tupla (robot, direcció).\n",
    "- `accio`: Retorna l'estat que resulta d'aplicar una acció a un estat.\n",
    "- `es_resultat`: Retorna si un estat és un estat final. Un estat és final si totes les caixes estan en una posició d'emmagatzematge."
   ]
  },
  {
   "cell_type": "code",
   "execution_count": 41,
   "id": "7b2d9a9ed9150385",
   "metadata": {
    "ExecuteTime": {
     "end_time": "2023-10-29T19:20:52.125690Z",
     "start_time": "2023-10-29T19:20:51.455780Z"
    },
    "collapsed": false
   },
   "outputs": [],
   "source": [
    "class Problema(object):\n",
    "    \"\"\"Aquesta és la classe abstracta per a un problema formal. Una nova àrea crea una subclasse d'aquesta, sobrescrivint `accions` i `accio`, i potser altres mètodes.\n",
    "    L'heurística per defecte és 0 i el cost d'acció per defecte és 1 per a tots els estats.\n",
    "    Quan crees una instància d'una subclasse, especifica els estats `inicial` i `final`\n",
    "    (o proporciona un mètode `es_resultat`) i potser altres arguments de paraula clau per a la subclasse.\"\"\"\n",
    "\n",
    "    def __init__(self, inicial=None, final=None, **kwds):\n",
    "        self.__dict__.update(inicial=inicial, final=final, **kwds)\n",
    "\n",
    "    def accions(self, state):         raise NotImplementedError\n",
    "\n",
    "    def accio(self, state, action):   raise NotImplementedError\n",
    "\n",
    "    def es_resultat(self, state):     return state == self.final\n",
    "\n",
    "    def cost_accio(self, s, a, s1):   return 1\n",
    "\n",
    "    def h(self, estat):               return 0\n",
    "\n",
    "    def __str__(self):\n",
    "        return '{}({!r}, {!r})'.format(\n",
    "            type(self).__name__, self.inicial, self.final)"
   ]
  },
  {
   "cell_type": "code",
   "execution_count": 42,
   "id": "3f613292f968d3dc",
   "metadata": {
    "ExecuteTime": {
     "end_time": "2023-10-29T19:20:52.220941Z",
     "start_time": "2023-10-29T19:20:51.464074Z"
    },
    "collapsed": false
   },
   "outputs": [],
   "source": []
  },
  {
   "cell_type": "markdown",
   "id": "8361fb60fcbcf1d6",
   "metadata": {
    "collapsed": false
   },
   "source": [
    "## Exercici 3\n",
    "\n",
    "Implementa l'algorisme `UCS` per a resoldre un problema de Sokoban. L'algorisme ha de retornar l'estat final, el cost de l'estat final i la ruta per arribar a l'estat final. La ruta és una llista d'estats que comença en l'estat inicial i acaba en l'estat final. Si no es pot arribar a l'estat final, l'algorisme ha de retornar `None` per a tots els valors.\n",
    "\n",
    "Utilitza l'algorisme `UCS` per a resoldre el següent problema de Sokoban:"
   ]
  },
  {
   "cell_type": "code",
   "execution_count": 43,
   "id": "3376838c63d00397",
   "metadata": {
    "ExecuteTime": {
     "end_time": "2023-10-29T19:20:52.359028Z",
     "start_time": "2023-10-29T19:20:51.512888Z"
    },
    "collapsed": false
   },
   "outputs": [],
   "source": [
    "inicial = SokobanState(\n",
    "    \"START\", 0, None, 5, 5,  # dimensions\n",
    "    ((2, 1), (2, 3)),  # robots\n",
    "    frozenset(((1, 1),)),  # boxes\n",
    "    frozenset(((0, 0),)),  # storage\n",
    "    frozenset(((1, 0), (2, 0), (3, 0), (1, 4), (2, 4), (3, 4)))  # obstacles\n",
    ")\n",
    "soko = ProblemaSokoban(inicial)"
   ]
  },
  {
   "cell_type": "markdown",
   "id": "975ebaa90d99a2",
   "metadata": {
    "collapsed": false
   },
   "source": [
    "## Exercici 4\n",
    "\n",
    "Pensa una heurística que sigui admissible per a un problema de Sokoban i implementa-la.\n",
    "\n",
    "Implementa l'algorisme `Greedy` per a resoldre un problema de Sokoban. L'algorisme ha de retornar l'estat final, el cost de l'estat final i la ruta per arribar a l'estat final. La ruta és una llista d'estats que comença en l'estat inicial i acaba en l'estat final. Si no es pot arribar a l'estat final, l'algorisme ha de retornar `None` per a tots els valors.\n",
    "\n",
    "Utilitza l'algorisme `Greedy` per a resoldre el mateix problema de Sokoban:"
   ]
  },
  {
   "cell_type": "code",
   "execution_count": 44,
   "id": "62893a2c69b08715",
   "metadata": {
    "ExecuteTime": {
     "end_time": "2023-10-29T19:20:52.410878Z",
     "start_time": "2023-10-29T19:20:51.531307Z"
    },
    "collapsed": false
   },
   "outputs": [],
   "source": [
    "inicial = SokobanState(\n",
    "    \"START\", 0, None, 5, 5,  # dimensions\n",
    "    ((2, 1), (2, 3)),  # robots\n",
    "    frozenset(((1, 1),)),  # boxes\n",
    "    frozenset(((0, 0),)),  # storage\n",
    "    frozenset(((1, 0), (2, 0), (3, 0), (1, 4), (2, 4), (3, 4)))  # obstacles\n",
    ")\n",
    "soko = ProblemaSokoban(inicial)"
   ]
  },
  {
   "cell_type": "code",
   "execution_count": 45,
   "id": "ae7cba115b937e8f",
   "metadata": {
    "ExecuteTime": {
     "end_time": "2023-10-29T19:20:52.418257Z",
     "start_time": "2023-10-29T19:20:51.562362Z"
    },
    "collapsed": false
   },
   "outputs": [
    {
     "name": "stdout",
     "output_type": "stream",
     "text": [
      "Estats visitats Greedy: 14\n",
      "Cost: 4\n",
      "🚧🚧🚧🚧🚧🚧🚧\n",
      "🚧❌🚧🚧🚧⬜🚧\n",
      "🚧⬜📦🤖⬜⬜🚧\n",
      "🚧⬜⬜⬜⬜⬜🚧\n",
      "🚧⬜⬜🤖⬜⬜🚧\n",
      "🚧⬜🚧🚧🚧⬜🚧\n",
      "🚧🚧🚧🚧🚧🚧🚧\n",
      "\n",
      "\n",
      "🚧🚧🚧🚧🚧🚧🚧\n",
      "🚧❌🚧🚧🚧⬜🚧\n",
      "🚧📦🤖⬜⬜⬜🚧\n",
      "🚧⬜⬜⬜⬜⬜🚧\n",
      "🚧⬜⬜🤖⬜⬜🚧\n",
      "🚧⬜🚧🚧🚧⬜🚧\n",
      "🚧🚧🚧🚧🚧🚧🚧\n",
      "\n",
      "\n",
      "🚧🚧🚧🚧🚧🚧🚧\n",
      "🚧❌🚧🚧🚧⬜🚧\n",
      "🚧📦⬜⬜⬜⬜🚧\n",
      "🚧⬜🤖⬜⬜⬜🚧\n",
      "🚧⬜⬜🤖⬜⬜🚧\n",
      "🚧⬜🚧🚧🚧⬜🚧\n",
      "🚧🚧🚧🚧🚧🚧🚧\n",
      "\n",
      "\n",
      "🚧🚧🚧🚧🚧🚧🚧\n",
      "🚧❌🚧🚧🚧⬜🚧\n",
      "🚧📦⬜⬜⬜⬜🚧\n",
      "🚧🤖⬜⬜⬜⬜🚧\n",
      "🚧⬜⬜🤖⬜⬜🚧\n",
      "🚧⬜🚧🚧🚧⬜🚧\n",
      "🚧🚧🚧🚧🚧🚧🚧\n",
      "\n",
      "\n",
      "🚧🚧🚧🚧🚧🚧🚧\n",
      "🚧📦🚧🚧🚧⬜🚧\n",
      "🚧🤖⬜⬜⬜⬜🚧\n",
      "🚧⬜⬜⬜⬜⬜🚧\n",
      "🚧⬜⬜🤖⬜⬜🚧\n",
      "🚧⬜🚧🚧🚧⬜🚧\n",
      "🚧🚧🚧🚧🚧🚧🚧\n"
     ]
    }
   ],
   "source": []
  },
  {
   "cell_type": "markdown",
   "id": "7596580d3dbe0723",
   "metadata": {
    "collapsed": false
   },
   "source": [
    "## Exercici 5\n",
    "\n",
    "Implementa l'algorisme `A*` per a assegurar que obtenin la ruta òptima. Compara el tamany de la ruta, els estats visitats i el temps d'execució amb l'algorisme `Greedy` amb els següents problemes de Sokoban:\n",
    "\n",
    "(Nota: Pots utilitzar la funció `time.time()` per a calcular el temps d'execució d'un algorisme.)"
   ]
  },
  {
   "cell_type": "code",
   "execution_count": 46,
   "id": "8638a7bbee2dc276",
   "metadata": {
    "ExecuteTime": {
     "end_time": "2023-10-29T19:20:52.420118Z",
     "start_time": "2023-10-29T19:20:51.589170Z"
    },
    "collapsed": false
   },
   "outputs": [],
   "source": [
    "estat_facil = SokobanState(\n",
    "    \"START\", 0, None, 5, 5,  # dimensions\n",
    "    ((2, 1), (2, 3)),  # robots\n",
    "    frozenset(((1, 1),)),  # boxes\n",
    "    frozenset(((0, 0),)),  # storage\n",
    "    frozenset(((1, 0), (2, 0), (3, 0), (1, 4), (2, 4), (3, 4)))  # obstacles\n",
    ")\n",
    "\n",
    "soko_facil = ProblemaSokoban(estat_facil)\n",
    "\n",
    "estat_mitja = SokobanState(\n",
    "    \"START\", 0, None, 6, 4,  # dimensions\n",
    "    ((2, 1), (2, 2)),  # robots\n",
    "    frozenset(((1, 1), (4, 2))),  # boxes\n",
    "    frozenset(((2, 1), (2, 2))),  # storage\n",
    "    frozenset()  # obstacles\n",
    ")\n",
    "\n",
    "soko_mitja = ProblemaSokoban(estat_mitja)\n",
    "\n",
    "estat_dificil = SokobanState(\n",
    "    \"START\", 0, None, 6, 6,  # dimensions\n",
    "    ((0, 0), (0, 2), (0, 4)),  # robots\n",
    "    frozenset(((1, 0), (1, 2), (1, 4))),  # boxes\n",
    "    frozenset(((5, 0), (5, 2), (0, 5))),  # storage\n",
    "    frozenset()  # obstacles\n",
    ")\n",
    "\n",
    "soko_dificil = ProblemaSokoban(estat_dificil)"
   ]
  },
  {
   "cell_type": "code",
   "execution_count": 47,
   "id": "f7a11eb7d8056412",
   "metadata": {
    "ExecuteTime": {
     "end_time": "2023-10-29T19:20:52.421235Z",
     "start_time": "2023-10-29T19:20:51.610421Z"
    },
    "collapsed": false
   },
   "outputs": [],
   "source": []
  },
  {
   "cell_type": "code",
   "execution_count": null,
   "id": "2149abe485a2a3da",
   "metadata": {
    "collapsed": false
   },
   "outputs": [],
   "source": [
    "# Si els temps d'execució són molt elevats amb A* pots parar l'execució i tornar més endavant, quan farem millores a l'algorisme.\n",
    "\n",
    "final, cost, ruta = greedy(soko_facil)\n",
    "print(\"Cost Greedy:\", len(ruta) - 1)\n",
    "\n",
    "final, cost, ruta = a_star(soko_facil)\n",
    "print(\"Cost A*:\", len(ruta) - 1)\n",
    "\n",
    "final, cost, ruta = greedy(soko_mitja)\n",
    "print(\"Cost Greedy:\", len(ruta) - 1)\n",
    "\n",
    "final, cost, ruta = a_star(soko_mitja)\n",
    "print(\"Cost A*:\", len(ruta) - 1)\n",
    "\n",
    "final, cost, ruta = greedy(soko_dificil)\n",
    "print(\"Cost Greedy:\", len(ruta) - 1)\n",
    "\n",
    "final, cost, ruta = a_star(soko_dificil)\n",
    "print(\"Cost A*:\", len(ruta) - 1)\n"
   ]
  },
  {
   "cell_type": "markdown",
   "id": "9ec8457f7d74ef0b",
   "metadata": {
    "collapsed": false
   },
   "source": [
    "## Exercici 6\n",
    "\n",
    "Que has observat? Quin algorisme és més eficient en qüestió de temps i estats visitats? Troba la solució òptima sempre? Per què?"
   ]
  },
  {
   "cell_type": "markdown",
   "id": "a54136bc5b9e51b4",
   "metadata": {
    "collapsed": false
   },
   "source": []
  },
  {
   "cell_type": "markdown",
   "id": "c580ac9207f1cc8a",
   "metadata": {
    "collapsed": false
   },
   "source": [
    "## Exercici 7\n",
    "\n",
    "L'últim exemple pot resultar molt lent. Una de les causes és que, al tindre molt d'espai lliure, l'heurística no és molt informativa. Tenim molts estats que són igual de bons candidats per a ser l'estat final i l'algorisme `A*` ha d'explorar molts d'aquests estats.\n",
    "\n",
    "Per solucionar aquest problema, podem utilitzar el `tie breaking`. Aquesta tècnica consisteix en afegir un factor de desempat a la funció d'heurística. D'aquesta manera, si dos estats tenen la mateixa heurística, l'algorisme `A*` explorarà primer l'estat amb el factor de desempat més gran. \n",
    "\n",
    "Utilitza l'algorisme `A*` millorat per tindre una solució a `soko_dificil`."
   ]
  },
  {
   "cell_type": "code",
   "execution_count": 52,
   "id": "b5ffb2f790857692",
   "metadata": {
    "ExecuteTime": {
     "end_time": "2023-10-29T19:22:43.907164Z",
     "start_time": "2023-10-29T19:22:43.856885Z"
    },
    "collapsed": false
   },
   "outputs": [],
   "source": []
  },
  {
   "cell_type": "code",
   "execution_count": 54,
   "id": "7fb221c98c39abb2",
   "metadata": {
    "ExecuteTime": {
     "end_time": "2023-10-29T19:23:59.236126Z",
     "start_time": "2023-10-29T19:23:42.801692Z"
    },
    "collapsed": false
   },
   "outputs": [
    {
     "name": "stdout",
     "output_type": "stream",
     "text": [
      "Estats visitats A*: 11831\n",
      "Cost A* millorat: 14\n"
     ]
    }
   ],
   "source": [
    "estat, cost, ruta = a_star_millorat(soko_dificil)\n",
    "print(\"Cost A* millorat:\", len(ruta) - 1)"
   ]
  }
 ],
 "metadata": {
  "kernelspec": {
   "display_name": "Python 3",
   "language": "python",
   "name": "python3"
  },
  "language_info": {
   "codemirror_mode": {
    "name": "ipython",
    "version": 2
   },
   "file_extension": ".py",
   "mimetype": "text/x-python",
   "name": "python",
   "nbconvert_exporter": "python",
   "pygments_lexer": "ipython2",
   "version": "2.7.6"
  }
 },
 "nbformat": 4,
 "nbformat_minor": 5
}
