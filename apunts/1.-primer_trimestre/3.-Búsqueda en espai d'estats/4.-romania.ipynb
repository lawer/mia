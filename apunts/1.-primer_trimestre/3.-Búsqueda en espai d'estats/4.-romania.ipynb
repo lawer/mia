{
 "cells": [
  {
   "cell_type": "markdown",
   "source": [
    "# Anem a resoldre l'exemplre de viatjar per les ciutats de Romania\n",
    "\n",
    "Has de buscar el camí més curt per anar de Arad a Bucharest. Per això has de crear un graf amb les ciutats i les distàncies entre elles. Les distàncies les pots trobar al diccionari `distancies` que ja està creat.\n",
    "\n",
    "Has d'utilitzar la metodologia que ja hem vist a classe, creant l'estat `EstatRomania` i el problema ProblemaRomania. Després has de resoldre el problema amb ucs i A*.\n",
    "\n",
    "Et proporcionem la classe Problema, que ja hem utilitzat, el diccionari de distàncies i un altre diccionari amb les distàncies en línia recta entre les ciutats i Bucharest.\n"
   ],
   "metadata": {
    "collapsed": false
   },
   "id": "c8cf1c62883da0ea"
  },
  {
   "cell_type": "code",
   "execution_count": 197,
   "outputs": [],
   "source": [
    "distancies = {\n",
    "    'Arad': {'Zerind': 75, 'Sibiu': 140, 'Timisoara': 118},\n",
    "    'Zerind': {'Arad': 75, 'Oradea': 71},\n",
    "    'Oradea': {'Zerind': 71, 'Sibiu': 151},\n",
    "    'Sibiu': {'Arad': 140, 'Oradea': 151, 'Fagaras': 99, 'Rimnicu Vilcea': 80},\n",
    "    'Timisoara': {'Arad': 118, 'Lugoj': 111},\n",
    "    'Lugoj': {'Timisoara': 111, 'Mehadia': 70},\n",
    "    'Mehadia': {'Lugoj': 70, 'Drobeta': 75},\n",
    "    'Drobeta': {'Mehadia': 75, 'Craiova': 120},\n",
    "    'Craiova': {'Drobeta': 120, 'Rimnicu Vilcea': 146, 'Pitesti': 138},\n",
    "    'Rimnicu Vilcea': {'Sibiu': 80, 'Craiova': 146, 'Pitesti': 97},\n",
    "    'Fagaras': {'Sibiu': 99, 'Bucharest': 211},\n",
    "    'Pitesti': {'Rimnicu Vilcea': 97, 'Craiova': 138, 'Bucharest': 101},\n",
    "    'Bucharest': {'Fagaras': 211, 'Pitesti': 101, 'Giurgiu': 90},\n",
    "    'Giurgiu': {'Bucharest': 90}\n",
    "}\n",
    "\n",
    "distancies_recta = {\n",
    "    'Arad': 366,\n",
    "    'Zerind': 374,\n",
    "    'Oradea': 380,\n",
    "    'Sibiu': 253,\n",
    "    'Timisoara': 329,\n",
    "    'Lugoj': 244,\n",
    "    'Mehadia': 241,\n",
    "    'Drobeta': 242,\n",
    "    'Craiova': 160,\n",
    "    'Rimnicu Vilcea': 193,\n",
    "    'Fagaras': 176,\n",
    "    'Pitesti': 100,\n",
    "    'Bucharest': 0,\n",
    "    'Giurgiu': 77\n",
    "}\n"
   ],
   "metadata": {
    "collapsed": false,
    "ExecuteTime": {
     "end_time": "2023-11-23T16:21:56.845615Z",
     "start_time": "2023-11-23T16:21:56.646786Z"
    }
   },
   "id": "115c958965ed5c10"
  },
  {
   "cell_type": "code",
   "execution_count": 198,
   "outputs": [],
   "source": [
    "class Problema(object):\n",
    "    \"\"\"Aquesta és la classe abstracta per a un problema formal. Una nova àrea crea una subclasse d'aquesta, sobrescrivint `accions` i `accio`, i potser altres mètodes.\n",
    "    L'heurística per defecte és 0 i el cost d'acció per defecte és 1 per a tots els estats.\n",
    "    Quan crees una instància d'una subclasse, especifica els estats `inicial` i `final`\n",
    "    (o proporciona un mètode `es_resultat`) i potser altres arguments de paraula clau per a la subclasse.\"\"\"\n",
    "\n",
    "    def __init__(self, inicial=None, final=None, **kwds):\n",
    "        self.__dict__.update(inicial=inicial, final=final, **kwds)\n",
    "\n",
    "    def accions(self, state):         raise NotImplementedError\n",
    "\n",
    "    def accio(self, state, action):   raise NotImplementedError\n",
    "\n",
    "    def es_resultat(self, state):     return state == self.final\n",
    "\n",
    "    def cost_accio(self, s, a, s1):   return 1\n",
    "\n",
    "    def h(self, estat):               return 0\n",
    "\n",
    "    def __str__(self):\n",
    "        return '{}({!r}, {!r})'.format(\n",
    "            type(self).__name__, self.inicial, self.final)"
   ],
   "metadata": {
    "collapsed": false,
    "ExecuteTime": {
     "end_time": "2023-11-23T16:21:56.846193Z",
     "start_time": "2023-11-23T16:21:56.664209Z"
    }
   },
   "id": "b51e91e0f798c91e"
  },
  {
   "cell_type": "code",
   "execution_count": 199,
   "outputs": [],
   "source": [
    "from dataclasses import dataclass\n",
    "\n",
    "\n",
    "@dataclass\n",
    "class EstatRomania(object):\n",
    "    \"\"\"Aquesta classe representa un estat del problema de Romania. L'estat és una ciutat.\"\"\"\n",
    "\n",
    "    ciutat: str\n",
    "    pare: 'EstatRomania' = None\n",
    "\n",
    "    def __repr__(self):\n",
    "        return 'EstatRomania({!r})'.format(self.ciutat)\n",
    "\n",
    "    def __str__(self):\n",
    "        return '{}'.format(self.ciutat)\n",
    "\n",
    "    def __eq__(self, other):\n",
    "        return self.ciutat == other.ciutat\n",
    "\n",
    "    def __hash__(self):\n",
    "        return hash(self.ciutat)\n",
    "\n",
    "    def __lt__(self, other):\n",
    "        return self.ciutat < other.ciutat"
   ],
   "metadata": {
    "collapsed": false,
    "ExecuteTime": {
     "end_time": "2023-11-23T16:21:56.846867Z",
     "start_time": "2023-11-23T16:21:56.677388Z"
    }
   },
   "id": "df9f3b47c5c06013"
  },
  {
   "cell_type": "code",
   "execution_count": 200,
   "outputs": [],
   "source": [
    "class ProblemaRomania(Problema):\n",
    "    \"\"\"Aquesta classe representa el problema de Romania. L'estat és una ciutat.\"\"\"\n",
    "\n",
    "    def __init__(self, inicial, final):\n",
    "        super().__init__(inicial, final)\n",
    "\n",
    "    def accions(self, estat):\n",
    "        \"\"\"Retorna una llista d'accions possibles a l'estat actual.\"\"\"\n",
    "        return list(distancies[estat.ciutat].keys())\n",
    "\n",
    "    def accio(self, estat, accio):\n",
    "        \"\"\"Retorna l'estat que resulta d'aplicar l'accio a l'estat.\"\"\"\n",
    "        return EstatRomania(accio, estat)\n",
    "\n",
    "    def cost_accio(self, estat, accio, estat1):\n",
    "        \"\"\"Retorna el cost d'aplicar l'accio a l'estat.\"\"\"\n",
    "        return distancies[estat.ciutat][accio]\n",
    "\n",
    "    def h(self, estat):\n",
    "        \"\"\"Retorna una estimació heurística del cost per anar de l'estat a l'estat final.\"\"\"\n",
    "        return distancies_recta[estat.ciutat]"
   ],
   "metadata": {
    "collapsed": false,
    "ExecuteTime": {
     "end_time": "2023-11-23T16:21:56.847532Z",
     "start_time": "2023-11-23T16:21:56.705746Z"
    }
   },
   "id": "f0057708500696b1"
  },
  {
   "cell_type": "code",
   "execution_count": 201,
   "outputs": [],
   "source": [
    "import heapq\n",
    "\n",
    "def ucs(problema):\n",
    "    \"\"\"Algorisme de cerca uniforme. Retorna una llista amb el camí des de l'estat inicial fins a l'estat final.\"\"\"\n",
    "    frontera = [(0, problema.inicial)]\n",
    "    visitats = set()\n",
    "    while frontera:\n",
    "        cost, estat = heapq.heappop(frontera)\n",
    "        if problema.es_resultat(estat):\n",
    "            print('Visitats:', len(visitats))\n",
    "            return estat\n",
    "        if estat not in visitats:\n",
    "            visitats.add(estat)\n",
    "            for accio in problema.accions(estat):\n",
    "                estat1 = problema.accio(estat, accio)\n",
    "                cost1 = cost + problema.cost_accio(estat, accio, estat1)\n",
    "                heapq.heappush(frontera, (cost1, estat1))\n",
    "        "
   ],
   "metadata": {
    "collapsed": false,
    "ExecuteTime": {
     "end_time": "2023-11-23T16:21:56.848038Z",
     "start_time": "2023-11-23T16:21:56.725577Z"
    }
   },
   "id": "3d3815e238dcdd2e"
  },
  {
   "cell_type": "code",
   "execution_count": 202,
   "outputs": [],
   "source": [
    "def extreu_ruta(estat):\n",
    "    \"\"\"Retorna una llista amb els estats de la ruta des de l'estat inicial fins a l'estat final.\"\"\"\n",
    "    ruta = []\n",
    "    while estat.pare:\n",
    "        ruta.append(estat)\n",
    "        estat = estat.pare\n",
    "    ruta.append(estat)\n",
    "    ruta.reverse()\n",
    "    return ruta\n",
    "\n",
    "def mostra_ruta(estat):\n",
    "    \"\"\"Mostra la ruta des de l'estat inicial fins a l'estat final.\"\"\"\n",
    "    ruta = extreu_ruta(estat)\n",
    "    cost = 0\n",
    "    for estat in ruta:\n",
    "        if estat.pare:\n",
    "            print(f\"{estat.pare} -> {estat}  ({distancies[estat.pare.ciutat][estat.ciutat]})\")\n",
    "            cost += distancies[estat.pare.ciutat][estat.ciutat]\n",
    "        else:\n",
    "            print(estat)\n",
    "\n",
    "    print(f\"Cost: {cost}\")"
   ],
   "metadata": {
    "collapsed": false,
    "ExecuteTime": {
     "end_time": "2023-11-23T16:21:56.848515Z",
     "start_time": "2023-11-23T16:21:56.742104Z"
    }
   },
   "id": "4ccc4dc9dd4b5fe3"
  },
  {
   "cell_type": "code",
   "execution_count": 203,
   "outputs": [
    {
     "name": "stdout",
     "output_type": "stream",
     "text": [
      "Visitats: 12\n",
      "Arad\n",
      "Arad -> Sibiu  (140)\n",
      "Sibiu -> Rimnicu Vilcea  (80)\n",
      "Rimnicu Vilcea -> Pitesti  (97)\n",
      "Pitesti -> Bucharest  (101)\n",
      "Cost: 418\n"
     ]
    }
   ],
   "source": [
    "problema = ProblemaRomania(EstatRomania('Arad'), EstatRomania('Bucharest'))\n",
    "estat = ucs(problema)\n",
    "\n",
    "mostra_ruta(estat)"
   ],
   "metadata": {
    "collapsed": false,
    "ExecuteTime": {
     "end_time": "2023-11-23T16:21:56.864822Z",
     "start_time": "2023-11-23T16:21:56.752777Z"
    }
   },
   "id": "e5b3c0b163949091"
  },
  {
   "cell_type": "code",
   "execution_count": 204,
   "outputs": [],
   "source": [
    "def a_estrella(problema):\n",
    "    \"\"\"Algorisme de cerca A*. Retorna una llista amb el camí des de l'estat inicial fins a l'estat final.\"\"\"\n",
    "    frontera = [(problema.h(problema.inicial), problema.inicial)]\n",
    "    visitats = set()\n",
    "    while frontera:\n",
    "        cost, estat = heapq.heappop(frontera)\n",
    "        if problema.es_resultat(estat):\n",
    "            print('Visitats:', len(visitats))\n",
    "            return estat\n",
    "        if estat not in visitats:\n",
    "            visitats.add(estat)\n",
    "            for accio in problema.accions(estat):\n",
    "                estat1 = problema.accio(estat, accio)\n",
    "                cost1 = cost + problema.cost_accio(estat, accio, estat1)\n",
    "                heapq.heappush(frontera, (cost1 + problema.h(estat1), estat1))\n"
   ],
   "metadata": {
    "collapsed": false,
    "ExecuteTime": {
     "end_time": "2023-11-23T16:21:56.865229Z",
     "start_time": "2023-11-23T16:21:56.770013Z"
    }
   },
   "id": "9e05519a416c485d"
  },
  {
   "cell_type": "code",
   "execution_count": 205,
   "outputs": [
    {
     "name": "stdout",
     "output_type": "stream",
     "text": [
      "Visitats: 8\n",
      "Arad\n",
      "Arad -> Sibiu  (140)\n",
      "Sibiu -> Fagaras  (99)\n",
      "Fagaras -> Bucharest  (211)\n",
      "Cost: 450\n"
     ]
    }
   ],
   "source": [
    "problema = ProblemaRomania(EstatRomania('Arad'), EstatRomania('Bucharest'))\n",
    "estat = a_estrella(problema)\n",
    "\n",
    "mostra_ruta(estat)\n"
   ],
   "metadata": {
    "collapsed": false,
    "ExecuteTime": {
     "end_time": "2023-11-23T16:21:56.865752Z",
     "start_time": "2023-11-23T16:21:56.780623Z"
    }
   },
   "id": "ba74ba8fec683819"
  },
  {
   "cell_type": "markdown",
   "source": [
    "# Questió\n",
    "\n",
    "Com haurás observat el resultat de la cerca uniforme i de la cerca A* no és el mateix. Quina creus que pot ser la causa? Que hauriem de fer per arreglar-ho?"
   ],
   "metadata": {
    "collapsed": false
   },
   "id": "d2c438283c800304"
  }
 ],
 "metadata": {
  "kernelspec": {
   "display_name": "Python 3",
   "language": "python",
   "name": "python3"
  },
  "language_info": {
   "codemirror_mode": {
    "name": "ipython",
    "version": 2
   },
   "file_extension": ".py",
   "mimetype": "text/x-python",
   "name": "python",
   "nbconvert_exporter": "python",
   "pygments_lexer": "ipython2",
   "version": "2.7.6"
  }
 },
 "nbformat": 4,
 "nbformat_minor": 5
}
