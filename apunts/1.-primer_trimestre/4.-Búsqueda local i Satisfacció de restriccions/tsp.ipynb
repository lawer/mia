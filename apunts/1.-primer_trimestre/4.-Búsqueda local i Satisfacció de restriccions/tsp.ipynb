{
 "cells": [
  {
   "cell_type": "markdown",
   "source": [
    "# Problema del viatjant de comerç\n",
    "\n",
    "En aquesta pràctica es resol el problema del viatjant de comerç (TSP) utilitzant diferents algorismes de cerca local. El problema consisteix en trobar el camí més curt que passa per totes les ciutats sense repetir cap i torna al punt de partida. Aquest problema és un dels problemes més estudiats en la història de la intel·ligència artificial i és un dels problemes NP-complet més coneguts.\n",
    "\n",
    "Començarem definint el problema (TSP) com una classe que hereta de la classe ProblemaBusquedaLocal. Aquesta classe abstracta defineix els mètodes que ha d'implementar un problema de cerca local.\n",
    " En aquest cas, els mètodes que hem d'implementar són estats_successors, funcio_avaluacio i es_solucio. El mètode estats_successors retorna una llista amb tots els estats successors de l'estat rebut com a paràmetre. El mètode funcio_avaluacio retorna un valor numèric que indica la qualitat de l'estat rebut com a paràmetre. El mètode es_solucio retorna True si l'estat rebut com a paràmetre és una solució del problema. "
   ],
   "metadata": {
    "collapsed": false
   },
   "id": "99479f7f594b7315"
  },
  {
   "cell_type": "markdown",
   "source": [
    "## Definició del problema"
   ],
   "metadata": {
    "collapsed": false
   },
   "id": "20a980dbc036614d"
  },
  {
   "cell_type": "code",
   "execution_count": 8,
   "id": "initial_id",
   "metadata": {
    "collapsed": true,
    "ExecuteTime": {
     "end_time": "2023-11-27T19:43:20.565351Z",
     "start_time": "2023-11-27T19:43:19.894175Z"
    }
   },
   "outputs": [],
   "source": [
    "import math\n",
    "import random\n",
    "random.seed(42)"
   ]
  },
  {
   "cell_type": "code",
   "execution_count": 9,
   "outputs": [],
   "source": [
    "class ProblemaBusquedaLocal(object):\n",
    "    \"\"\"Aquesta és la classe abstracta per a un problema de cerca local.\n",
    "    Per a implementar un problema de cerca local, subclassejar aquesta classe i\n",
    "    implementar els mètodes estats_successors, funcio_avaluacio i es_solucio.\n",
    "    \"\"\"\n",
    "\n",
    "    def __init__(self, inicial=None, **kwds):\n",
    "        self.__dict__.update(inicial=inicial, **kwds)\n",
    "\n",
    "    def estats_successors(self, estat):    raise NotImplementedError\n",
    "\n",
    "    def es_solucio(self, estat):           raise NotImplementedError\n",
    "\n",
    "    def funcio_avaluacio(self, state):     return NotImplementedError\n",
    "\n",
    "    def __repr__(self):\n",
    "        return '{}({!r})'.format(\n",
    "            type(self).__name__, self.inicial)"
   ],
   "metadata": {
    "collapsed": false,
    "ExecuteTime": {
     "end_time": "2023-11-27T19:43:20.619019Z",
     "start_time": "2023-11-27T19:43:19.926146Z"
    }
   },
   "id": "ff91441dcf3e5477"
  },
  {
   "cell_type": "code",
   "execution_count": 10,
   "outputs": [],
   "source": [
    "class TSP(ProblemaBusquedaLocal):\n",
    "    def estats_successors(self, estat):\n",
    "        successors = []\n",
    "        for i in range(len(estat)):\n",
    "            for j in range(i + 1, len(estat)):\n",
    "                successor = estat.copy()\n",
    "                successor[i], successor[j] = successor[j], successor[i]\n",
    "                successors.append(successor)\n",
    "        return successors\n",
    "\n",
    "    def es_solucio(self, estat):\n",
    "        return True\n",
    "\n",
    "    def distancia(self, ciutat1, ciutat2):\n",
    "        # Formula de la distancia euclidiana\n",
    "        return math.sqrt((ciutat1[0] - ciutat2[0]) ** 2 + (ciutat1[1] - ciutat2[1]) ** 2)\n",
    "\n",
    "    def funcio_avaluacio(self, estat):\n",
    "        distancia = 0\n",
    "        for i in range(len(estat)):\n",
    "            ciutat1 = self.ciutats[estat[i]]\n",
    "            ciutat2 = self.ciutats[estat[(i + 1) % len(estat)]]\n",
    "            distancia += self.distancia(ciutat1, ciutat2)\n",
    "        return distancia\n",
    "\n",
    "    @classmethod\n",
    "    def genera_estat_inicial(cls, ciutats):\n",
    "        cami = list(range(len(ciutats)))\n",
    "        random.shuffle(cami)\n",
    "        return cami"
   ],
   "metadata": {
    "collapsed": false,
    "ExecuteTime": {
     "end_time": "2023-11-27T19:43:20.619783Z",
     "start_time": "2023-11-27T19:43:19.956534Z"
    }
   },
   "id": "229e93b5ff671237"
  },
  {
   "cell_type": "markdown",
   "source": [
    "Definim una funció per a dibuixar el camí que passa per totes les ciutats. Aquesta funció rep com a paràmetres el problema i la solució. La funció utilitza la llibreria matplotlib per a dibuixar el camí."
   ],
   "metadata": {
    "collapsed": false
   },
   "id": "275fa5625044364"
  },
  {
   "cell_type": "code",
   "execution_count": 11,
   "outputs": [],
   "source": [
    "import matplotlib.pyplot as plt\n",
    "\n",
    "\n",
    "def plot_tsp(problema, solucio):\n",
    "    x = [ciutat[0] for ciutat in problema.ciutats]\n",
    "    y = [ciutat[1] for ciutat in problema.ciutats]\n",
    "    plt.scatter(x, y)\n",
    "    for i in range(len(solucio)):\n",
    "        ciutat1 = problema.ciutats[solucio[i]]\n",
    "        ciutat2 = problema.ciutats[solucio[(i + 1) % len(solucio)]]\n",
    "        plt.plot([ciutat1[0], ciutat2[0]], [ciutat1[1], ciutat2[1]], 'k-')\n",
    "    plt.show()"
   ],
   "metadata": {
    "collapsed": false,
    "ExecuteTime": {
     "end_time": "2023-11-27T19:43:20.624355Z",
     "start_time": "2023-11-27T19:43:19.979805Z"
    }
   },
   "id": "b9a370b4d47b98c2"
  },
  {
   "cell_type": "markdown",
   "source": [
    "Creem una instància del problema TSP amb 8 ciutats. Aquesta instància es la que utilitzarem per a provar els diferents algorismes de cerca local."
   ],
   "metadata": {
    "collapsed": false
   },
   "id": "807b919c73dec4bc"
  },
  {
   "cell_type": "code",
   "execution_count": 12,
   "outputs": [
    {
     "name": "stdout",
     "output_type": "stream",
     "text": [
      "[3, 2, 4, 1, 5, 7, 0, 6]\n"
     ]
    }
   ],
   "source": [
    "ciutats = [\n",
    "    (random.randint(0, 1000), random.randint(0, 1000)) for _ in range(8)\n",
    "]\n",
    "print(TSP.genera_estat_inicial(ciutats))\n",
    "tsp = TSP(inicial=TSP.genera_estat_inicial(ciutats), ciutats=ciutats)"
   ],
   "metadata": {
    "collapsed": false,
    "ExecuteTime": {
     "end_time": "2023-11-27T19:43:20.684883Z",
     "start_time": "2023-11-27T19:43:19.994020Z"
    }
   },
   "id": "e6ca630ee7d6e301"
  },
  {
   "cell_type": "markdown",
   "source": [
    "## Solució exacta"
   ],
   "metadata": {
    "collapsed": false
   },
   "id": "8317a8e9b711a46b"
  },
  {
   "cell_type": "markdown",
   "source": [
    "En primer lloc, implementarem l'algorisme de cerca en amplada (BFS). Aquest algorisme explora tots els estats successors d'un estat abans de continuar amb l'estat següent. Aquest algorisme no és adequat per a resoldre el problema TSP ja que el nombre d'estats successors és molt gran; així i tot l'utilitzarem per a entendre com funciona.\n",
    "\n",
    "Per poder utilizar-lo en el nostre problema hem llevat la condició de sortida quan es trobe una solució, ja que el problema TSP no té una solució única; busquem la millor solució. De fet, tal com ho hem plantejat totes les solucions són vàlides, però no totes tenen la mateixa qualitat. \n",
    "\n",
    "Una vegada finalitze ens retornarà la millor solució, guarantida, però el cost computacional serà molt alt.\n",
    "\n",
    "Tal com está plantejat sería equivalent al backtracking, però sense recursivitat."
   ],
   "metadata": {
    "collapsed": false
   },
   "id": "dcecf1f6afe86826"
  },
  {
   "cell_type": "code",
   "execution_count": 13,
   "outputs": [],
   "source": [
    "def tsp_bfs(problema):\n",
    "    cua = [problema.inicial]\n",
    "    visitats = set()\n",
    "    millor_estat = None\n",
    "    millor_fitness = float('inf')\n",
    "    while cua:\n",
    "        estat = cua.pop(0)\n",
    "        if problema.es_solucio(estat):\n",
    "            if problema.funcio_avaluacio(estat) < millor_fitness:\n",
    "                millor_estat = estat\n",
    "                millor_fitness = problema.funcio_avaluacio(estat)\n",
    "                print(f\"Millor fitness: {millor_fitness}\")\n",
    "        if str(estat) not in visitats:\n",
    "            visitats.add(str(estat))\n",
    "            successors = problema.estats_successors(estat)\n",
    "            for successor in successors:\n",
    "                cua.append(successor)\n",
    "                \n",
    "    return millor_estat"
   ],
   "metadata": {
    "collapsed": false,
    "ExecuteTime": {
     "end_time": "2023-11-27T19:43:20.685433Z",
     "start_time": "2023-11-27T19:43:20.009754Z"
    }
   },
   "id": "7aa99a8dac81bca2"
  },
  {
   "cell_type": "code",
   "execution_count": 14,
   "outputs": [],
   "source": [
    "#solucio = tsp_bfs(tsp)\n",
    "#print(tsp.funcio_avaluacio(solucio))\n",
    "#plot_tsp(tsp, solucio)"
   ],
   "metadata": {
    "collapsed": false,
    "ExecuteTime": {
     "end_time": "2023-11-27T19:43:20.685878Z",
     "start_time": "2023-11-27T19:43:20.019059Z"
    }
   },
   "id": "f9a7c39c6536cfd"
  },
  {
   "cell_type": "markdown",
   "source": [
    "El nombre d'estats successors és molt gran, per la qual cosa no és possible explorar tot l'espai d'estats. Per aquest motiu, utilitzarem un algorisme de cerca local. Aquests algorismes exploren l'espai d'estats a partir d'un estat inicial i es mouen a un estat successor si aquest té una qualitat millor que l'estat actual. Aquests algorismes no garanteixen trobar la millor solució, però són molt més eficients que els algorismes de cerca en amplada."
   ],
   "metadata": {
    "collapsed": false
   },
   "id": "2b6948010885fd3d"
  },
  {
   "cell_type": "markdown",
   "source": [
    "## Cerca local\n",
    "\n",
    "El cost del backtracking és molt alt, superant els 3 minuts per a 8 ciutats. Per a 30 o més ciutats el cost és prohibitiu. Per aquest motiu, utilitzarem un algorisme de cerca local. Aquests algorismes exploren l'espai d'estats a partir d'un estat inicial i es mouen a un estat successor si aquest té una qualitat millor que l'estat actual. Aquests algorismes no garanteixen trobar la millor solució, però són molt més eficients que els algorismes exactes.\n",
    "\n",
    "En primer lloc, implementarem l'algorisme de cerca en ascens (Hill Climbing). Aquest algorisme explora l'espai d'estats a partir d'un estat inicial i es mou a l'estat successor amb millor qualitat. Aquest algorisme és molt eficient però no garanteix trobar la millor solució, ja que pot quedar atrapat en un òptim local."
   ],
   "metadata": {
    "collapsed": false
   },
   "id": "e0bfdb4b7de39d27"
  },
  {
   "cell_type": "code",
   "execution_count": 15,
   "outputs": [],
   "source": [
    "def hill_climbing(problema, iteracions=10000):\n",
    "    estat = problema.inicial\n",
    "    fitness = problema.funcio_avaluacio(estat)\n",
    "\n",
    "    for _ in range(iteracions):\n",
    "        successors = problema.estats_successors(estat)\n",
    "        if not successors:\n",
    "            break\n",
    "        successor = min(successors, key=problema.funcio_avaluacio)\n",
    "        fitness_succ = problema.funcio_avaluacio(successor)\n",
    "        if fitness_succ < fitness:\n",
    "            print(f\"{fitness} < {fitness_succ}\")\n",
    "            estat = successor\n",
    "            fitness = fitness_succ\n",
    "        else:\n",
    "            break\n",
    "    return estat"
   ],
   "metadata": {
    "collapsed": false,
    "ExecuteTime": {
     "end_time": "2023-11-27T19:43:20.718609Z",
     "start_time": "2023-11-27T19:43:20.069174Z"
    }
   },
   "id": "ce39b2f59b1543c8"
  },
  {
   "cell_type": "code",
   "execution_count": 16,
   "outputs": [],
   "source": [
    "#solucio = hill_climbing(tsp)\n",
    "#print(tsp.funcio_avaluacio(solucio))\n",
    "#plot_tsp(tsp, solucio)"
   ],
   "metadata": {
    "collapsed": false,
    "ExecuteTime": {
     "end_time": "2023-11-27T19:43:20.719147Z",
     "start_time": "2023-11-27T19:43:20.078362Z"
    }
   },
   "id": "bc4710eb766a6890"
  },
  {
   "cell_type": "markdown",
   "source": [
    "Una optimització que podem fer és no generar tots els successors d'un estat i triar el millor, sinó que podem anar modificant l'estat actual (`inline`) i veure si aquest té una qualitat millor que l'estat actual; si no es millor, revertim els canvis. "
   ],
   "metadata": {
    "collapsed": false
   },
   "id": "2617c2c204ee079e"
  },
  {
   "cell_type": "code",
   "execution_count": 17,
   "outputs": [],
   "source": [
    "def hill_climbing_inline(problema, iteracions=10000):\n",
    "    estat = problema.inicial\n",
    "    fitness = problema.funcio_avaluacio(estat)\n",
    "\n",
    "    for _ in range(iteracions):\n",
    "        millorat_iter = False\n",
    "        for i in range(len(estat)):\n",
    "            for j in range(len(estat)):\n",
    "                if i != j:\n",
    "                    estat[i], estat[j] = estat[j], estat[i]\n",
    "                    fitness_succ = problema.funcio_avaluacio(estat)\n",
    "                    if fitness_succ < fitness:\n",
    "                        print(f\"{fitness} < {fitness_succ}\")\n",
    "                        fitness = fitness_succ\n",
    "                        millorat_iter = True\n",
    "                    else:\n",
    "                        estat[i], estat[j] = estat[j], estat[i]\n",
    "        if not millorat_iter:\n",
    "            break\n",
    "    return estat"
   ],
   "metadata": {
    "collapsed": false,
    "ExecuteTime": {
     "end_time": "2023-11-27T19:43:20.981361Z",
     "start_time": "2023-11-27T19:43:20.115178Z"
    }
   },
   "id": "c54754ad6cdfe05c"
  },
  {
   "cell_type": "code",
   "execution_count": 18,
   "outputs": [
    {
     "name": "stdout",
     "output_type": "stream",
     "text": [
      "4741.0658758835825 < 4235.7284786736\n",
      "4235.7284786736 < 4121.588373362046\n",
      "4121.588373362046 < 4053.1192473585147\n",
      "4053.1192473585147 < 3550.8760865887216\n",
      "3550.8760865887216 < 3179.904050340157\n",
      "3179.904050340157 < 2664.230931604599\n",
      "2664.230931604599\n"
     ]
    },
    {
     "data": {
      "text/plain": "<Figure size 640x480 with 1 Axes>",
      "image/png": "[encoded data removed]"
     },
     "metadata": {},
     "output_type": "display_data"
    }
   ],
   "source": [
    "tsp = TSP(inicial=TSP.genera_estat_inicial(ciutats), ciutats=ciutats)\n",
    "solucio = hill_climbing_inline(tsp)\n",
    "print(tsp.funcio_avaluacio(solucio))\n",
    "plot_tsp(tsp, solucio)"
   ],
   "metadata": {
    "collapsed": false,
    "ExecuteTime": {
     "end_time": "2023-11-27T19:43:21.234928Z",
     "start_time": "2023-11-27T19:43:20.131427Z"
    }
   },
   "id": "6141ba20f131ea86"
  },
  {
   "cell_type": "markdown",
   "source": [
    "Quan el nombre de ciutats és gran, el cost de generar tots els successors d'un estat és molt alt. Per aquest motiu, utilitzarem un algorisme de cerca en primer millor (First Choice Hill Climbing). Aquest algorisme genera un estat successor aleatori i es mou a aquest si té una qualitat millor que l'estat actual. Aquest algorisme és molt més eficient que l'algorisme de cerca en ascens, ja que no genera tots els successors d'un estat. Les possibilitats de quedar atrapat en un òptim local, però, són més altes."
   ],
   "metadata": {
    "collapsed": false
   },
   "id": "772660478a46fbd5"
  },
  {
   "cell_type": "code",
   "execution_count": 19,
   "outputs": [],
   "source": [
    "def first_choice_hill_climbing_inline(problema, iteracions=10000):\n",
    "    estat = problema.inicial\n",
    "    fitness = problema.funcio_avaluacio(estat)\n",
    "\n",
    "    for _ in range(iteracions):\n",
    "        millorat_iter = False\n",
    "        for i in range(len(estat)):\n",
    "            if not millorat_iter:\n",
    "                for j in range(len(estat)):\n",
    "                    if i != j:\n",
    "                        estat[i], estat[j] = estat[j], estat[i]\n",
    "                        fitness_succ = problema.funcio_avaluacio(estat)\n",
    "                        if fitness_succ < fitness:\n",
    "                            print(f\"{fitness} < {fitness_succ}\")\n",
    "                            fitness = fitness_succ\n",
    "                            millorat_iter = True\n",
    "                            break\n",
    "                        else:\n",
    "                            estat[i], estat[j] = estat[j], estat[i]\n",
    "    return estat"
   ],
   "metadata": {
    "collapsed": false,
    "ExecuteTime": {
     "end_time": "2023-11-27T19:43:21.294911Z",
     "start_time": "2023-11-27T19:43:20.609468Z"
    }
   },
   "id": "1102dbf5d6e396f3"
  },
  {
   "cell_type": "code",
   "execution_count": 20,
   "outputs": [],
   "source": [
    "#solucio = first_choice_hill_climbing_inline(tsp)\n",
    "#print(tsp.funcio_avaluacio(solucio))\n",
    "#plot_tsp(tsp, solucio)"
   ],
   "metadata": {
    "collapsed": false,
    "ExecuteTime": {
     "end_time": "2023-11-27T19:43:21.321860Z",
     "start_time": "2023-11-27T19:43:20.622107Z"
    }
   },
   "id": "ea9db6da14e5d5f5"
  },
  {
   "cell_type": "markdown",
   "source": [
    "Una solució sencilla pero molt efectiva per a evitar quedar atrapat en un òptim local és generar un estat inicial aleatori i executar l'algorisme de cerca en primer millor un nombre determinat de vegades. Aquesta tècnica s'anomena random restart hill climbing."
   ],
   "metadata": {
    "collapsed": false
   },
   "id": "5919c22f5ba9343c"
  },
  {
   "cell_type": "code",
   "execution_count": 21,
   "outputs": [],
   "source": [
    "def random_restart_hill_climbing(problema, ciutats, iteracions=1000, restarts=10):\n",
    "    millor_estat = None\n",
    "    millor_fitness = float('inf')\n",
    "    for _ in range(restarts):\n",
    "        inicial = TSP.genera_estat_inicial(ciutats)\n",
    "        problema.inicial = inicial\n",
    "        estat = first_choice_hill_climbing_inline(problema, iteracions=iteracions)\n",
    "        fitness = problema.funcio_avaluacio(estat)\n",
    "        if fitness < millor_fitness:\n",
    "            millor_estat = estat\n",
    "            millor_fitness = fitness\n",
    "            print(f\"Millor fitness: {millor_fitness}\")\n",
    "    print(f\"Millor fitness Final: {millor_fitness}\")\n",
    "    return millor_estat"
   ],
   "metadata": {
    "collapsed": false,
    "ExecuteTime": {
     "end_time": "2023-11-27T19:43:21.322566Z",
     "start_time": "2023-11-27T19:43:20.643604Z"
    }
   },
   "id": "a257e1c4d13fa35c"
  },
  {
   "cell_type": "code",
   "execution_count": 22,
   "outputs": [
    {
     "name": "stdout",
     "output_type": "stream",
     "text": [
      "4292.928296572688 < 3256.4289032850124\n",
      "3256.4289032850124 < 3218.4531937431548\n",
      "3218.4531937431548 < 3204.4184298341343\n",
      "3204.4184298341343 < 3179.8604639626437\n",
      "3179.8604639626437 < 2786.6205022584872\n",
      "2786.6205022584872 < 2664.2309316046\n",
      "Millor fitness: 2664.2309316046\n",
      "5397.682898065163 < 4819.476103916258\n",
      "4819.476103916258 < 4217.4083323111645\n",
      "4217.4083323111645 < 4147.551780095189\n",
      "4147.551780095189 < 3218.4531937431548\n",
      "3218.4531937431548 < 3179.9040503401575\n",
      "3179.9040503401575 < 2664.2309316045994\n",
      "Millor fitness: 2664.2309316045994\n",
      "4489.66922948598 < 3463.140744355096\n",
      "3463.140744355096 < 3340.7075873236945\n",
      "3340.7075873236945 < 2845.056415461994\n",
      "2845.056415461994 < 2714.073357448292\n",
      "2714.073357448292 < 2664.2309316046\n",
      "4455.824155456057 < 4433.606390279534\n",
      "4433.606390279534 < 4213.98381164352\n",
      "4213.98381164352 < 3913.9710453467505\n",
      "3913.9710453467505 < 3482.711787723222\n",
      "3482.711787723222 < 3481.7238581374204\n",
      "3481.7238581374204 < 3359.3342874835325\n",
      "3359.3342874835325 < 3343.1591775035567\n",
      "3343.1591775035567 < 3331.8658950628615\n",
      "3331.8658950628615 < 3315.5345168363856\n",
      "5443.9602006427185 < 4887.096454894636\n",
      "4887.096454894636 < 4252.527844998234\n",
      "4252.527844998234 < 4041.964675322929\n",
      "4041.964675322929 < 4003.988965781072\n",
      "4003.988965781072 < 3881.55580874967\n",
      "3881.55580874967 < 2967.4895724933963\n",
      "2967.4895724933963 < 2845.0564154619947\n",
      "2845.0564154619947 < 2797.665579798164\n",
      "2797.665579798164 < 2664.2309316045994\n",
      "4599.103493068893 < 4110.1176782559605\n",
      "4110.1176782559605 < 3820.8169934916227\n",
      "3820.8169934916227 < 3403.9169343542353\n",
      "3403.9169343542353 < 3397.8834308865303\n",
      "3397.8834308865303 < 3384.0036428399176\n",
      "3384.0036428399176 < 3361.785877663395\n",
      "3361.785877663395 < 2797.6655797981634\n",
      "2797.6655797981634 < 2664.230931604599\n",
      "Millor fitness: 2664.230931604599\n",
      "5158.199480600757 < 5108.357054757063\n",
      "5108.357054757063 < 4849.8036810055955\n",
      "4849.8036810055955 < 4637.65263647189\n",
      "4637.65263647189 < 4623.7728484252775\n",
      "4623.7728484252775 < 4318.205924311514\n",
      "4318.205924311514 < 3758.6720640548056\n",
      "3758.6720640548056 < 3530.038672903871\n",
      "3530.038672903871 < 3343.1591775035567\n",
      "3343.1591775035567 < 3340.7075873236945\n",
      "3340.7075873236945 < 3315.5345168363865\n",
      "3165.4439271965475 < 3083.5891931250753\n",
      "3083.5891931250753 < 2664.2309316045994\n",
      "3448.555266819506 < 3242.437725753505\n",
      "3242.437725753505 < 3204.418429834134\n",
      "3204.418429834134 < 3179.8604639626437\n",
      "3179.8604639626437 < 2786.620502258487\n",
      "2786.620502258487 < 2664.2309316045994\n",
      "5318.04237769981 < 5062.317879429738\n",
      "5062.317879429738 < 4638.513989299959\n",
      "4638.513989299959 < 4341.411472145493\n",
      "4341.411472145493 < 3656.881332189342\n",
      "3656.881332189342 < 3484.1754483172826\n",
      "3484.1754483172826 < 3473.8397267917085\n",
      "3473.8397267917085 < 3267.7221857257077\n",
      "3267.7221857257077 < 2714.073357448292\n",
      "2714.073357448292 < 2664.2309316045994\n",
      "Millor fitness Final: 2664.230931604599\n",
      "2664.230931604599\n"
     ]
    },
    {
     "data": {
      "text/plain": "<Figure size 640x480 with 1 Axes>",
      "image/png": "[encoded data removed]"
     },
     "metadata": {},
     "output_type": "display_data"
    }
   ],
   "source": [
    "solucio = random_restart_hill_climbing(tsp, ciutats, 1000, 10)\n",
    "print(tsp.funcio_avaluacio(solucio))\n",
    "plot_tsp(tsp, solucio)"
   ],
   "metadata": {
    "collapsed": false,
    "ExecuteTime": {
     "end_time": "2023-11-27T19:43:26.737982Z",
     "start_time": "2023-11-27T19:43:20.662725Z"
    }
   },
   "id": "df99d78ff7e5915f"
  },
  {
   "cell_type": "code",
   "execution_count": 23,
   "outputs": [],
   "source": [
    "#%load_ext memory_profiler"
   ],
   "metadata": {
    "collapsed": false,
    "ExecuteTime": {
     "end_time": "2023-11-27T19:43:26.768805Z",
     "start_time": "2023-11-27T19:43:26.743759Z"
    }
   },
   "id": "83aab9473d7419fc"
  },
  {
   "cell_type": "markdown",
   "source": [
    "## Cerca local estocàstica\n",
    "\n",
    "Els algorismes de cerca local que hem vist fins ara sempre es mouen a un estat successor si aquest té una qualitat millor que l'estat actual. Aquesta estratègia pot fer que l'algorisme quede atrapat en un òptim local. Per aquest motiu, utilitzarem un algorisme de cerca local estocàstic. Aquests algorismes es mouen a un estat successor amb una qualitat pitjor que l'estat actual amb una certa probabilitat. Aquesta estratègia permet explorar l'espai d'estats i evitar quedar atrapat en un òptim local.\n",
    "\n",
    "El més utilitzat és l'algorisme de recuit simulat (simulated annealing). Aquest algorisme es basa en el procés de refredament d'un metall. En aquest procés, el metall es refreda a poc a poc fins a arribar a l'estat sòlid. Aquest procés permet que les molècules del metall es moguin i així es pugui arribar a l'estat sòlid. Aquest algorisme es basa en la mateixa idea. En lloc de refredar un metall, refredem l'algorisme. Aquest procés permet que l'algorisme es mogui a estats successors amb una qualitat pitjor que l'estat actual. A mesura que l'algorisme es refreda, la probabilitat de moure's a un estat successor amb una qualitat pitjor que l'estat actual disminueix. Això permet que l'algorisme explore l'espai d'estats al principi i vagi a la recerca d'un òptim local a mesura que es refreda."
   ],
   "metadata": {
    "collapsed": false
   },
   "id": "37c29c6d28aace12"
  },
  {
   "cell_type": "code",
   "execution_count": 24,
   "outputs": [],
   "source": [
    "def simulated_annealing(problema, temp=100000, refredament=0.99999, iteracions=10000):\n",
    "    estat = problema.inicial\n",
    "    cost = problema.funcio_avaluacio(estat)\n",
    "\n",
    "    while temp > 0.1:\n",
    "        estat_candidat = random.choice(problema.estats_successors(estat))\n",
    "        cost_nou = problema.funcio_avaluacio(estat_candidat)\n",
    "\n",
    "        delta = cost_nou - cost\n",
    "        if delta < 0:\n",
    "            estat = estat_candidat\n",
    "            cost = cost_nou\n",
    "            print(\"Cost: \", cost)\n",
    "        elif math.exp(-delta / temp) > random.uniform(0, 1):\n",
    "            estat = estat_candidat\n",
    "            cost = cost_nou\n",
    "\n",
    "        temp = temp * refredament\n",
    "\n",
    "    print(\"Cost final: \", cost)\n",
    "    print(\"Estat final: \", estat)\n",
    "\n",
    "    return estat"
   ],
   "metadata": {
    "collapsed": false,
    "ExecuteTime": {
     "end_time": "2023-11-27T19:43:26.810072Z",
     "start_time": "2023-11-27T19:43:26.758008Z"
    }
   },
   "id": "218c26149eb21a41"
  },
  {
   "cell_type": "code",
   "execution_count": 25,
   "outputs": [],
   "source": [
    "#solucio = simulated_annealing(tsp)\n",
    "#plot_tsp(tsp, solucio)"
   ],
   "metadata": {
    "collapsed": false,
    "ExecuteTime": {
     "end_time": "2023-11-27T19:43:26.810807Z",
     "start_time": "2023-11-27T19:43:26.780792Z"
    }
   },
   "id": "234e1042635598cc"
  },
  {
   "cell_type": "code",
   "execution_count": 26,
   "outputs": [],
   "source": [
    "def simulated_annealing_inline(problema, temp=100000, refredament=0.99999):\n",
    "    estat = problema.inicial\n",
    "    cost = problema.funcio_avaluacio(estat)\n",
    "\n",
    "    while temp > 0.1:\n",
    "        i = random.randint(1, len(estat) - 1)\n",
    "        j = random.randint(1, len(estat) - 1)\n",
    "\n",
    "        while i == j:\n",
    "            j = random.randint(1, len(estat) - 1)\n",
    "\n",
    "        estat[i], estat[j] = estat[j], estat[i]\n",
    "        cost_nou = problema.funcio_avaluacio(estat)\n",
    "\n",
    "        delta = cost_nou - cost\n",
    "        if delta < 0:\n",
    "            cost = cost_nou\n",
    "            #print(\"Cost: \", cost_nou)\n",
    "        elif math.exp(-delta / temp) > random.uniform(0, 1):\n",
    "            cost = cost_nou\n",
    "        else:\n",
    "            estat[i], estat[j] = estat[j], estat[i]\n",
    "\n",
    "        temp = temp * refredament\n",
    "\n",
    "    print(\"Cost final: \", cost)\n",
    "    print(\"Estat final: \", estat)\n",
    "\n",
    "    return estat"
   ],
   "metadata": {
    "collapsed": false,
    "ExecuteTime": {
     "end_time": "2023-11-27T19:43:26.812520Z",
     "start_time": "2023-11-27T19:43:26.799980Z"
    }
   },
   "id": "1d56086d6b61bfef"
  },
  {
   "cell_type": "code",
   "execution_count": 28,
   "outputs": [
    {
     "name": "stdout",
     "output_type": "stream",
     "text": [
      "Cost final:  2664.2309316045994\n",
      "Estat final:  [5, 1, 7, 2, 3, 0, 4, 6]\n"
     ]
    },
    {
     "data": {
      "text/plain": "<Figure size 640x480 with 1 Axes>",
      "image/png": "[encoded data removed]"
     },
     "metadata": {},
     "output_type": "display_data"
    }
   ],
   "source": [
    "tsp = TSP(inicial=TSP.genera_estat_inicial(ciutats), ciutats=ciutats)\n",
    "solucio = simulated_annealing_inline(tsp, temp=100, refredament=0.99)\n",
    "plot_tsp(tsp, solucio)"
   ],
   "metadata": {
    "collapsed": false,
    "ExecuteTime": {
     "end_time": "2023-11-27T19:46:12.857900Z",
     "start_time": "2023-11-27T19:46:12.452318Z"
    }
   },
   "id": "d16a00afab7c1f81"
  }
 ],
 "metadata": {
  "kernelspec": {
   "display_name": "Python 3",
   "language": "python",
   "name": "python3"
  },
  "language_info": {
   "codemirror_mode": {
    "name": "ipython",
    "version": 2
   },
   "file_extension": ".py",
   "mimetype": "text/x-python",
   "name": "python",
   "nbconvert_exporter": "python",
   "pygments_lexer": "ipython2",
   "version": "2.7.6"
  }
 },
 "nbformat": 4,
 "nbformat_minor": 5
}
