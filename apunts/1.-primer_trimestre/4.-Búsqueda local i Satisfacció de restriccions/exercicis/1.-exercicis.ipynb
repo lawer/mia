{
 "cells": [
  {
   "cell_type": "markdown",
   "source": [
    "# Exercicis búsqueda local"
   ],
   "metadata": {
    "collapsed": false
   },
   "id": "87f31fc3c37d8898"
  },
  {
   "cell_type": "markdown",
   "source": [
    "## Preguntes curtes"
   ],
   "metadata": {
    "collapsed": false
   },
   "id": "2896d89bd2f99eb5"
  },
  {
   "cell_type": "markdown",
   "source": [],
   "metadata": {
    "collapsed": false
   },
   "id": "54bb326826fd4211"
  },
  {
   "cell_type": "markdown",
   "source": [],
   "metadata": {
    "collapsed": false
   },
   "id": "2742c5bb5094d797"
  },
  {
   "cell_type": "markdown",
   "source": [
    "1. Què és una solució factible?"
   ],
   "metadata": {
    "collapsed": false
   },
   "id": "bfaef723fc3c6f70"
  },
  {
   "cell_type": "markdown",
   "source": [],
   "metadata": {
    "collapsed": false
   },
   "id": "b8293161b7a7a6d1"
  },
  {
   "cell_type": "markdown",
   "source": [
    "2. Què és una solució òptima?"
   ],
   "metadata": {
    "collapsed": false
   },
   "id": "b9db2c574a328c4f"
  },
  {
   "cell_type": "markdown",
   "source": [],
   "metadata": {
    "collapsed": false
   },
   "id": "5f6ee9f567ce7f6f"
  },
  {
   "cell_type": "markdown",
   "source": [
    "3. Què és una solució òptima local?"
   ],
   "metadata": {
    "collapsed": false
   },
   "id": "70495a303eaaf180"
  },
  {
   "cell_type": "markdown",
   "source": [],
   "metadata": {
    "collapsed": false
   },
   "id": "462a10bef5a5be18"
  },
  {
   "cell_type": "markdown",
   "source": [
    "4. Què és una solució òptima global?"
   ],
   "metadata": {
    "collapsed": false
   },
   "id": "affa9954d5c3bff8"
  },
  {
   "cell_type": "markdown",
   "source": [],
   "metadata": {
    "collapsed": false
   },
   "id": "28ea7de84203f897"
  },
  {
   "cell_type": "markdown",
   "source": [
    "5. Quin problema ens trobem amb els algoritmes de cerca local?"
   ],
   "metadata": {
    "collapsed": false
   },
   "id": "cee09807867fb93e"
  },
  {
   "cell_type": "markdown",
   "source": [],
   "metadata": {
    "collapsed": false
   },
   "id": "b90ba9667664b56f"
  },
  {
   "cell_type": "markdown",
   "source": [
    "6. Quina solució podem aplicar per tal de resoldre el problema anterior?"
   ],
   "metadata": {
    "collapsed": false
   },
   "id": "455f9ae6b109259e"
  },
  {
   "cell_type": "markdown",
   "source": [],
   "metadata": {
    "collapsed": false
   },
   "id": "c908a816de7b1777"
  },
  {
   "cell_type": "markdown",
   "source": [],
   "metadata": {
    "collapsed": false
   },
   "id": "7a9e0c4c20383d34"
  },
  {
   "cell_type": "markdown",
   "source": [
    "## Exercici 1\n",
    "\n",
    "Implementa l'algoritme de cerca local Hill Climbing per resoldre el problema de la motxilla. Utilitzarem la classe `ProblemaBusquedaLocal` que ja hem vist a teoria."
   ],
   "metadata": {
    "collapsed": false
   },
   "id": "132b045c8e0a43f1"
  },
  {
   "cell_type": "code",
   "execution_count": 1,
   "outputs": [],
   "source": [
    "import numpy as np\n",
    "\n",
    "\n",
    "class ProblemaBusquedaLocal(object):\n",
    "    \"\"\"Aquesta és la classe abstracta per a un problema de cerca local.\n",
    "    Per a implementar un problema de cerca local, subclassejar aquesta classe i\n",
    "    implementar els mètodes estats_successors, funcio_avaluacio i es_solucio.\n",
    "    \"\"\"\n",
    "\n",
    "    def __init__(self, inicial=None, **kwds):\n",
    "        self.__dict__.update(inicial=inicial, **kwds)\n",
    "\n",
    "    def estats_successors(self, estat):    raise NotImplementedError\n",
    "\n",
    "    def es_solucio(self, estat):           raise NotImplementedError\n",
    "\n",
    "    def funcio_avaluacio(self, state):     return NotImplementedError\n",
    "\n",
    "    def __repr__(self):\n",
    "        return '{}({!r})'.format(\n",
    "            type(self).__name__, self.inicial)"
   ],
   "metadata": {
    "collapsed": false,
    "ExecuteTime": {
     "end_time": "2023-11-27T22:05:57.680936Z",
     "start_time": "2023-11-27T22:05:57.284239Z"
    }
   },
   "id": "e1c9f2cfef445a70"
  },
  {
   "cell_type": "markdown",
   "source": [
    "Haurás de definir una classe `ProblemaMotxilla` que hereti de `ProblemaBusquedaLocal` i implementi els mètodes necessaris per a la cerca local."
   ],
   "metadata": {
    "collapsed": false
   },
   "id": "bbbc16e0a23f36ec"
  },
  {
   "cell_type": "markdown",
   "source": [],
   "metadata": {
    "collapsed": false
   },
   "id": "6c7ea2ae60e1f351"
  },
  {
   "cell_type": "markdown",
   "source": [
    "## Exercici 2\n",
    "\n",
    "Utilitza un algorisme genétic per resoldre el següent problema de cerca local:\n",
    "\n",
    "Donada una llista de nombres enters positius i un nombre enter positiu, trobar una subllista de nombres consecutius que sumin aquest nombre. Per exemple, donada la llista [4, 6, 3, 5, 2] i el nombre 10, la solució seria [3, 5, 2]. Busquem la solució amb el menor nombre d'elements.\n",
    "\n",
    "Per a implementar l'algorisme genètic pots utilitzar l'exemple vist a teoria o bé la llibreria [pyGAD](https://pygad.readthedocs.io/en/latest/README_pygad_ReadTheDocs.html)."
   ],
   "metadata": {
    "collapsed": false
   },
   "id": "ff5088519857b59c"
  },
  {
   "cell_type": "code",
   "execution_count": 1,
   "outputs": [],
   "source": [],
   "metadata": {
    "collapsed": false,
    "ExecuteTime": {
     "end_time": "2023-11-27T22:05:57.692648Z",
     "start_time": "2023-11-27T22:05:57.676983Z"
    }
   },
   "id": "916c5fdb5c732c6b"
  },
  {
   "cell_type": "markdown",
   "source": [],
   "metadata": {
    "collapsed": false
   },
   "id": "68db09a7006e5e48"
  }
 ],
 "metadata": {
  "kernelspec": {
   "display_name": "Python 3",
   "language": "python",
   "name": "python3"
  },
  "language_info": {
   "codemirror_mode": {
    "name": "ipython",
    "version": 2
   },
   "file_extension": ".py",
   "mimetype": "text/x-python",
   "name": "python",
   "nbconvert_exporter": "python",
   "pygments_lexer": "ipython2",
   "version": "2.7.6"
  }
 },
 "nbformat": 4,
 "nbformat_minor": 5
}
