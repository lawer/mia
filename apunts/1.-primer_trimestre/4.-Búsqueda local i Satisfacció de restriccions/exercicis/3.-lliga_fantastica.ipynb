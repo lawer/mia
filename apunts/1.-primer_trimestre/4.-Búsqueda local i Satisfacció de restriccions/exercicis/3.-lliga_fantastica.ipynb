{
 "cells": [
  {
   "cell_type": "markdown",
   "source": [
    "# Equip de futbol"
   ],
   "metadata": {
    "collapsed": false
   },
   "id": "c1218558f86a89cf"
  },
  {
   "cell_type": "markdown",
   "source": [
    "## Plantejament\n",
    "Hem de formar un equip de futbol amb 11 jugadors. Tenim una llista de jugadors disponibles i per cada jugador sabem les seves posicions (`club_position`), el seu valor (`overall`) i el seu preu (`value_eur`). El valor d'un equip és la suma dels valors dels jugadors que el formen. El nostre objectiu és formar un equip amb el valor més alt possible. Però tenim les següents restriccions:\n",
    "\n",
    "- Obligatoria:\n",
    "    - El preu de l'equip no pot superar els 250 milions d'euros.\n",
    "- Millores:\n",
    "    - Només podem tenir 4 defenses, 4 migcampistes i 2 davanters.\n",
    "    - El valor total de l'equip no pot superar els 250 milions d'euros.\n",
    "    - Només podem tenir 3 jugadors del mateix equip.\n",
    "    - Només podem tenir 2 jugadors de la mateixa lliga.\n",
    "    - Només podem tenir 3 jugadors de la mateixa nacionalitat.\n",
    "    - Només podem tenir 1 porter.\n",
    "    - Només podem tenir 1 jugador de la mateixa posició.\n",
    "\n",
    "Utilitza un algorisme genètic per trobar el millor equip possible."
   ],
   "metadata": {
    "collapsed": false
   },
   "id": "15cd77b57535ea97"
  },
  {
   "cell_type": "markdown",
   "source": [
    "1.- Carrega les dades i mostra'n les 5 primeres files."
   ],
   "metadata": {
    "collapsed": false
   },
   "id": "e03c06bc729c3933"
  },
  {
   "cell_type": "code",
   "execution_count": null,
   "outputs": [],
   "source": [],
   "metadata": {
    "collapsed": false
   },
   "id": "99dadaeda4ef2f33"
  },
  {
   "cell_type": "markdown",
   "source": [
    "2.- Mostra el nombre de files i columnes que té el dataset."
   ],
   "metadata": {
    "collapsed": false
   },
   "id": "f602e45e92384ab3"
  },
  {
   "cell_type": "code",
   "execution_count": 3,
   "outputs": [
    {
     "data": {
      "text/plain": "(19239, 110)"
     },
     "execution_count": 3,
     "metadata": {},
     "output_type": "execute_result"
    }
   ],
   "source": [],
   "metadata": {
    "collapsed": false,
    "ExecuteTime": {
     "end_time": "2023-11-27T22:29:16.856874Z",
     "start_time": "2023-11-27T22:29:16.760289Z"
    }
   },
   "id": "a4aa7b8f75b7d010"
  },
  {
   "cell_type": "markdown",
   "source": [
    "3.- Mostra les diferents posicions que poden tenir els jugadors, indicant el nombre de jugadors que hi ha per cada posició."
   ],
   "metadata": {
    "collapsed": false
   },
   "id": "a2de5fee3dddcfb9"
  },
  {
   "cell_type": "code",
   "execution_count": null,
   "outputs": [],
   "source": [],
   "metadata": {
    "collapsed": false
   },
   "id": "3533ccfdad506c6e"
  },
  {
   "cell_type": "markdown",
   "source": [
    "4.- Elimina aquells jugadors que no tinguin valor."
   ],
   "metadata": {
    "collapsed": false
   },
   "id": "fc97ad748806066"
  },
  {
   "cell_type": "code",
   "execution_count": null,
   "outputs": [],
   "source": [],
   "metadata": {
    "collapsed": false
   },
   "id": "4267419a96a82409"
  },
  {
   "cell_type": "markdown",
   "source": [
    "5.- Utilitzan un algorisme genètic, troba el millor equip possible; tenint en compte que el preu de l'equip no pot superar els 250 milions d'euros."
   ],
   "metadata": {
    "collapsed": false
   },
   "id": "bd610766a2ab9470"
  }
 ],
 "metadata": {
  "kernelspec": {
   "display_name": "Python 3",
   "language": "python",
   "name": "python3"
  },
  "language_info": {
   "codemirror_mode": {
    "name": "ipython",
    "version": 2
   },
   "file_extension": ".py",
   "mimetype": "text/x-python",
   "name": "python",
   "nbconvert_exporter": "python",
   "pygments_lexer": "ipython2",
   "version": "2.7.6"
  }
 },
 "nbformat": 4,
 "nbformat_minor": 5
}
