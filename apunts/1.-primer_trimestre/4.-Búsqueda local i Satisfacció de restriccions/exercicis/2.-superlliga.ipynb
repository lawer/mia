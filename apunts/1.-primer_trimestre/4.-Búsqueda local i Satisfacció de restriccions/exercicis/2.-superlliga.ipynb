{
 "cells": [
  {
   "cell_type": "markdown",
   "source": [
    "# Superlliga europea"
   ],
   "metadata": {
    "collapsed": false
   },
   "id": "7b429a0a6038700c"
  },
  {
   "cell_type": "markdown",
   "source": [
    "## Creació dels grups\n",
    "\n",
    "En aquest exercici anem a planificar una teòrica superlliga europea de 20 equips partits en 2 grups de 10 equips. Per triar els equips que hi participaran, farem servir les dades de la classificació de la UEFA. Aquesta classificació es basa en els resultats dels equips en les competicions europees de les últimes 5 temporades. \n",
    "\n",
    "Els clubs son els següents:\n",
    "\n",
    "| Ordre | Club            | País    | 2019/20 | 2020/21 | 2021/22 | 2022/23 | 2023/24 | Total   |\n",
    "|-------|-----------------|---------|---------|---------|---------|---------|---------|---------|\n",
    "| 1     | Manchester City | England | 25.000  | 35.000  | 27.000  | 33.000  | 8.000   | 128.000 | \n",
    "| 2     | Bayern München  | Germany | 36.000  | 27.000  | 26.000  | 27.000  | 8.000   | 124.000 |\n",
    "| 3     | Real Madrid     | Spain   | 17.000  | 26.000  | 30.000  | 29.000  | 8.000   | 110.000 |\n",
    "| 4     | Paris Saint-Germain | France | 31.000  | 24.000  | 19.000  | 19.000  | 6.000   | 99.000  |\n",
    "| 5     | Liverpool       | England | 18.000  | 24.000  | 33.000  | 19.000  | 4.000   | 98.000  | \t\n",
    "| 6     | Chelsea         | England | 17.000  | 33.000  | 25.000  | 21.000  | 0.000   | 96.000  |\n",
    "| 7     | Manchester United | England | 22.000  | 26.000  | 18.000  | 19.000  | 4.000   | 89.000  |\n",
    "| 8     | Internazionale Milano | Italy | 25.000  | 9.000   | 18.000  | 29.000  | 7.000   | 88.000  |\n",
    "| 9     | RB Leipzig      | Germany | 27.000  | 17.000  | 17.000  | 18.000  | 6.000   | 85.000  |\n",
    "| 10    | AS Roma         | Italy   | 11.000  | 24.000  | 23.000  | 22.000  | 4.000   | 84.000  |\n",
    "| 11    | Sevilla         | Spain   | 26.000  | 19.000  | 12.000  | 21.000  | 6.000   | 84.000  |\n",
    "| 12    | Juventus        | Italy   | 22.000  | 21.000  | 20.000  | 17.000  | 0.000   | 80.000  |\n",
    "| 13    | Barcelona       | Spain   | 24.000  | 20.000  | 15.000  | 9.000   | 8.000   | 76.000  |\n",
    "| 14    | Borussia Dortmund | Germany | 18.000  | 22.000  | 10.000  | 18.000  | 5.000   | 73.000  |\n",
    "| 15    | Atlético Madrid | Spain   | 22.000  | 16.000  | 19.000  | 8.000   | 7.000   | 72.000  |\n",
    "| 16    | SL Benfica      | Portugal | 10.000  | 10.000  | 20.000  | 25.000  | 4.000   | 69.000  |\n",
    "| 17    | Villarreal      | Spain   | 0.000   | 30.000  | 24.000  | 12.000  | 3.000   | 69.000  |\n",
    "| 18    | SSC Napoli      | Italy   | 19.000  | 10.000  | 9.000   | 25.000  | 6.000   | 69.000  |\n",
    "| 19    | AFC Ajax        | Netherlands | 13.000  | 19.000  | 22.000  | 8.000   | 3.000   | 65.000  |\n",
    "| 20    | Leverkusen      | Germany | 18.000  | 10.000  | 14.000  | 19.000  | 4.000   | 65.000  |\n",
    "\n",
    "Per fer els dos grups de 10 equips, farem servir la distància entre ciutats, per minimizar els viatges. Per això, necessitem la latitud i longitud de les ciutats. Aquesta informació la tenim a la base de dades worldcities.csv."
   ],
   "metadata": {
    "collapsed": false
   },
   "id": "72e10a64856e4fe0"
  },
  {
   "cell_type": "markdown",
   "source": [
    "1.- Carrega les dades de les ciutats en un dataframe de pandas."
   ],
   "metadata": {
    "collapsed": false
   },
   "id": "3827602a37106bb0"
  },
  {
   "cell_type": "code",
   "execution_count": 2,
   "outputs": [
    {
     "data": {
      "text/plain": "        city city_ascii      lat       lng    country iso2 iso3   admin_name  \\\n0      Tokyo      Tokyo  35.6897  139.6922      Japan   JP  JPN        Tōkyō   \n1    Jakarta    Jakarta  -6.1750  106.8275  Indonesia   ID  IDN      Jakarta   \n2      Delhi      Delhi  28.6100   77.2300      India   IN  IND        Delhi   \n3  Guangzhou  Guangzhou  23.1300  113.2600      China   CN  CHN    Guangdong   \n4     Mumbai     Mumbai  19.0761   72.8775      India   IN  IND  Mahārāshtra   \n\n   capital  population          id  \n0  primary  37732000.0  1392685764  \n1  primary  33756000.0  1360771077  \n2    admin  32226000.0  1356872604  \n3    admin  26940000.0  1156237133  \n4    admin  24973000.0  1356226629  ",
      "text/html": "<div>\n<style scoped>\n    .dataframe tbody tr th:only-of-type {\n        vertical-align: middle;\n    }\n\n    .dataframe tbody tr th {\n        vertical-align: top;\n    }\n\n    .dataframe thead th {\n        text-align: right;\n    }\n</style>\n<table border=\"1\" class=\"dataframe\">\n  <thead>\n    <tr style=\"text-align: right;\">\n      <th></th>\n      <th>city</th>\n      <th>city_ascii</th>\n      <th>lat</th>\n      <th>lng</th>\n      <th>country</th>\n      <th>iso2</th>\n      <th>iso3</th>\n      <th>admin_name</th>\n      <th>capital</th>\n      <th>population</th>\n      <th>id</th>\n    </tr>\n  </thead>\n  <tbody>\n    <tr>\n      <th>0</th>\n      <td>Tokyo</td>\n      <td>Tokyo</td>\n      <td>35.6897</td>\n      <td>139.6922</td>\n      <td>Japan</td>\n      <td>JP</td>\n      <td>JPN</td>\n      <td>Tōkyō</td>\n      <td>primary</td>\n      <td>37732000.0</td>\n      <td>1392685764</td>\n    </tr>\n    <tr>\n      <th>1</th>\n      <td>Jakarta</td>\n      <td>Jakarta</td>\n      <td>-6.1750</td>\n      <td>106.8275</td>\n      <td>Indonesia</td>\n      <td>ID</td>\n      <td>IDN</td>\n      <td>Jakarta</td>\n      <td>primary</td>\n      <td>33756000.0</td>\n      <td>1360771077</td>\n    </tr>\n    <tr>\n      <th>2</th>\n      <td>Delhi</td>\n      <td>Delhi</td>\n      <td>28.6100</td>\n      <td>77.2300</td>\n      <td>India</td>\n      <td>IN</td>\n      <td>IND</td>\n      <td>Delhi</td>\n      <td>admin</td>\n      <td>32226000.0</td>\n      <td>1356872604</td>\n    </tr>\n    <tr>\n      <th>3</th>\n      <td>Guangzhou</td>\n      <td>Guangzhou</td>\n      <td>23.1300</td>\n      <td>113.2600</td>\n      <td>China</td>\n      <td>CN</td>\n      <td>CHN</td>\n      <td>Guangdong</td>\n      <td>admin</td>\n      <td>26940000.0</td>\n      <td>1156237133</td>\n    </tr>\n    <tr>\n      <th>4</th>\n      <td>Mumbai</td>\n      <td>Mumbai</td>\n      <td>19.0761</td>\n      <td>72.8775</td>\n      <td>India</td>\n      <td>IN</td>\n      <td>IND</td>\n      <td>Mahārāshtra</td>\n      <td>admin</td>\n      <td>24973000.0</td>\n      <td>1356226629</td>\n    </tr>\n  </tbody>\n</table>\n</div>"
     },
     "execution_count": 2,
     "metadata": {},
     "output_type": "execute_result"
    }
   ],
   "source": [],
   "metadata": {
    "collapsed": false,
    "ExecuteTime": {
     "end_time": "2023-10-25T06:16:54.095037Z",
     "start_time": "2023-10-25T06:16:52.189819Z"
    }
   },
   "id": "d2525edfa6abbd62"
  },
  {
   "cell_type": "markdown",
   "source": [
    "2.- Crea una funció que calculi la distància entre dues ciutats donades les seves latituds i longituds. Pots fer servir la fórmula de [Haversine](https://medium.com/ninjavan-tech/the-magic-of-haversine-distance-1c4e1641d880)."
   ],
   "metadata": {
    "collapsed": false
   },
   "id": "d58a294a79d35429"
  },
  {
   "cell_type": "code",
   "execution_count": 3,
   "outputs": [],
   "source": [],
   "metadata": {
    "collapsed": false,
    "ExecuteTime": {
     "end_time": "2023-10-25T06:16:54.214750Z",
     "start_time": "2023-10-25T06:16:54.063869Z"
    }
   },
   "id": "cb2f8c480c0cf2b0"
  },
  {
   "cell_type": "markdown",
   "source": [
    "3.- Crea una funció que calculi la distància entre dues ciutats donat el seu nom. Pots fer servir la funció anterior."
   ],
   "metadata": {
    "collapsed": false
   },
   "id": "65db65890c7ba4cf"
  },
  {
   "cell_type": "code",
   "execution_count": 4,
   "outputs": [],
   "source": [],
   "metadata": {
    "collapsed": false,
    "ExecuteTime": {
     "end_time": "2023-10-25T06:16:54.216050Z",
     "start_time": "2023-10-25T06:16:54.101600Z"
    }
   },
   "id": "147ac2f95fca8570"
  },
  {
   "cell_type": "markdown",
   "source": [
    "4.- Crea una funció que calculi la distància entre una ciutat i una llista de ciutats. Pots fer servir la funció anterior."
   ],
   "metadata": {
    "collapsed": false
   },
   "id": "6790a3611a7bf579"
  },
  {
   "cell_type": "code",
   "execution_count": 5,
   "outputs": [],
   "source": [],
   "metadata": {
    "collapsed": false,
    "ExecuteTime": {
     "end_time": "2023-10-25T06:16:54.232627Z",
     "start_time": "2023-10-25T06:16:54.127526Z"
    }
   },
   "id": "ad2b859956e7b3ae"
  },
  {
   "cell_type": "markdown",
   "source": [
    "5.- Crea un diccionari on la clau és el nom del club i el valor és la ciutat on està ubicat."
   ],
   "metadata": {
    "collapsed": false
   },
   "id": "fa1ea6c3936c0012"
  },
  {
   "cell_type": "code",
   "execution_count": 6,
   "outputs": [],
   "source": [
    "team_cities_dict = {\n",
    "    \"Manchester City\": \"Manchester\", \"Bayern München\": \"Munich\", \"Real Madrid\": \"Madrid\", \"Paris Saint-Germain\": \"Paris\", \"Liverpool\": \"Liverpool\", \"Chelsea\": \"London\",\n",
    "    \"Manchester United\": \"Manchester\", \"Internazionale Milano\": \"Milan\", \"RB Leipzig\": \"Leipzig\", \"AS Roma\": \"Rome\", \"Sevilla\": \"Sevilla\", \"Juventus\": \"Turin\",\n",
    "    \"Barcelona\": \"Barcelona\", \"Borussia Dortmund\": \"Dortmund\", \"Atlético Madrid\": \"Madrid\", \"SL Benfica\": \"Lisbon\", \"Villarreal\": \"Vila Real\", \"SSC Napoli\": \"Naples\",\n",
    "    \"AFC Ajax\": \"Amsterdam\", \"Leverkusen\": \"Leverkusen\"\n",
    "}"
   ],
   "metadata": {
    "collapsed": false,
    "ExecuteTime": {
     "end_time": "2023-10-25T06:16:54.303389Z",
     "start_time": "2023-10-25T06:16:54.147603Z"
    }
   },
   "id": "3b3067c8ce082b93"
  },
  {
   "cell_type": "markdown",
   "source": [
    "6.- Crea una funció que calculi la distància. entre tots els equips de la superlliga Has de retornar un diccionari de diccionaris on la clau del primer diccionari és el nom del club i la clau del segon diccionari és el nom de l'altre club i el valor és la distància entre els dos clubs. Pots fer servir la funció anterior."
   ],
   "metadata": {
    "collapsed": false
   },
   "id": "51ba9612569cb9ab"
  },
  {
   "cell_type": "code",
   "execution_count": 7,
   "outputs": [],
   "source": [],
   "metadata": {
    "collapsed": false,
    "ExecuteTime": {
     "end_time": "2023-10-25T06:17:07.846367Z",
     "start_time": "2023-10-25T06:16:54.181868Z"
    }
   },
   "id": "11132a481becd801"
  },
  {
   "cell_type": "markdown",
   "source": [
    "7.- Divideix els equips en dos grups de 10 equips de manera que la distància entre les ciutats dels equips del mateix grup sigui mínima. Utilitza un algorisme de Hill Climbing."
   ],
   "metadata": {
    "collapsed": false
   },
   "id": "1d99e54d31f22b15"
  },
  {
   "cell_type": "code",
   "execution_count": null,
   "outputs": [],
   "source": [],
   "metadata": {
    "collapsed": false
   },
   "id": "54de95c1854eed0c"
  },
  {
   "cell_type": "markdown",
   "source": [
    "8.- Resol el problema anterior utilitzant simulated annealing. Compara el resultat amb l'anterior."
   ],
   "metadata": {
    "collapsed": false
   },
   "id": "9e7369b44e69bb17"
  },
  {
   "cell_type": "code",
   "execution_count": null,
   "outputs": [],
   "source": [],
   "metadata": {
    "collapsed": false
   },
   "id": "c1b592e3b934e1d6"
  },
  {
   "cell_type": "markdown",
   "source": [
    "## Planificació dels partits addicionals\n",
    "\n",
    "9.- La nostra superlliga utilitzarà una planificació semblant a la MLS. Cada equip jugarà 34 partits de lliga, 24 dins del seu grup i 10 fora del seu grup. Els 24 partits dins del nostre grup es repartiran de la següent forma: \n",
    "- 2 partits contra cada equip del seu grup (18 partits)\n",
    "- 6 partits addicionals contra equips del seu grup (6 partits)\n",
    "    - 3 seran a casa i 3 fora; amb equips diferents.\n",
    "    - Farem servir la classificació de la UEFA, la distància entre les ciutats i altres valors que vullgam aportar (nombre de vegades que s'han enfrontat els dos equips en competicions europees, rivalitats -Barça-Madrid, Manchester City-Manchester United, Leipzig - Bayern...-, etc.)\n",
    "  \n",
    "A continuació us proporcionem un diccionari amb la classificació de la UEFA i un altre amb les rivalitats.\n",
    "\n",
    "Utilitzant aquesta informació i la distància entre les ciutats, tria els 6 partits addicionals que jugarà cada equip. Utilitza un algorisme genètic."
   ],
   "metadata": {
    "collapsed": false
   },
   "id": "dbfe62d801989f4c"
  },
  {
   "cell_type": "code",
   "execution_count": 11,
   "outputs": [],
   "source": [
    "puntuacio_fifa = {\n",
    "    \"Manchester City\": 128.000, \"Bayern München\": 124.000, \"Real Madrid\": 110.000, \"Paris Saint-Germain\": 99.000, \"Liverpool\": 98.000, \"Chelsea\": 96.000,\n",
    "    \"Manchester United\": 89.000, \"Internazionale Milano\": 88.000, \"RB Leipzig\": 85.000, \"AS Roma\": 84.000, \"Sevilla\": 84.000, \"Juventus\": 80.000,\n",
    "    \"Barcelona\": 76.000, \"Borussia Dortmund\": 73.000, \"Atlético Madrid\": 72.000, \"SL Benfica\": 69.000, \"Villarreal\": 69.000, \"SSC Napoli\": 69.000,\n",
    "    \"AFC Ajax\": 65.000, \"Leverkusen\": 65.000\n",
    "}\n",
    "\n",
    "rivalitats = {\n",
    "    \"Manchester City\": [\"Manchester United\"], \"Bayern München\": [\"Borussia Dortmund\"], \"Real Madrid\": [\"Barcelona\", \"Atlético Madrid\"], \"Paris Saint-Germain\": [\"Olympique Marseille\"],\n",
    "    \"Liverpool\": [\"Manchester United\"], \"Chelsea\": [\"Arsenal\"], \"Manchester United\": [\"Manchester City\", \"Liverpool\"], \"Internazionale Milano\": [\"Juventus\"],\n",
    "    \"RB Leipzig\": [\"Bayern München\"], \"AS Roma\": [\"Lazio\"], \"Sevilla\": [\"Real Betis\"], \"Juventus\": [\"Internazionale Milano\", \"AC Milan\"],\n",
    "    \"Barcelona\": [\"Real Madrid\", \"Atlético Madrid\"], \"Borussia Dortmund\": [\"Bayern München\"], \"Atlético Madrid\": [\"Real Madrid\", \"Barcelona\"], \"SL Benfica\": [\"FC Porto\"],\n",
    "    \"Villarreal\": [\"Valencia\"], \"SSC Napoli\": [\"Juventus\"], \"AFC Ajax\": [\"Feyenoord\"], \"Leverkusen\": [\"Borussia Dortmund\"]\n",
    "}"
   ],
   "metadata": {
    "collapsed": false,
    "ExecuteTime": {
     "end_time": "2023-10-25T06:17:38.382606Z",
     "start_time": "2023-10-25T06:17:38.267434Z"
    }
   },
   "id": "10975bab7968d7bf"
  },
  {
   "cell_type": "code",
   "execution_count": null,
   "outputs": [],
   "source": [],
   "metadata": {
    "collapsed": false
   },
   "id": "c1494d6610d87f6e"
  },
  {
   "cell_type": "markdown",
   "source": [
    "## Planificació dels partits\n",
    "\n",
    "Una vegada hem repartit els equips en grups i triat els partits addicionals que es faran hem de crear un calendari regular per a la nostra superlliga. Ho plantejarem com un problema de satisfacció de restriccions (CSP).\n",
    "\n",
    "Les restriccions que ha de complir el calendari regular son:\n",
    "- Cada equip ha de jugar 18 partits regulars \n",
    "- Cada equip ha de jugar 9 partits a casa i 9 partits fora \n",
    "- Cada equip ha de jugar 2 partits contra cada equip del seu grup \n",
    "- Un dels partits contra cada equip del seu grup ha de ser a casa i l'altre fora \n",
    "- Els equips alternaran una setmana jugant a casa i l'altra fora.\n",
    "- El calendari regular estarà dividit dues voltes i:\n",
    "    - Cada equip jugarà 9 partits en la primera volta i 9 en la segona\n",
    "    - Els partits d'anada i tornada contra cada equip del seu grup han d'estar en voltes diferents\n",
    "\n",
    "Per a realitzar l'exercici hauràs de partir del repartiment en grups que has fet a l'exercici 7 i dels partits addicionals que has triat a l'exercici 9. Per implementar el CSP pots utilitzar backtracking o l'algorisme MinConflicts."
   ],
   "metadata": {
    "collapsed": false
   },
   "id": "341cbc36539991a0"
  },
  {
   "cell_type": "code",
   "execution_count": null,
   "outputs": [],
   "source": [],
   "metadata": {
    "collapsed": false,
    "ExecuteTime": {
     "start_time": "2023-10-25T06:17:55.347992Z"
    }
   },
   "id": "3b36436c0cb5df86"
  }
 ],
 "metadata": {
  "kernelspec": {
   "display_name": "Python 3",
   "language": "python",
   "name": "python3"
  },
  "language_info": {
   "codemirror_mode": {
    "name": "ipython",
    "version": 2
   },
   "file_extension": ".py",
   "mimetype": "text/x-python",
   "name": "python",
   "nbconvert_exporter": "python",
   "pygments_lexer": "ipython2",
   "version": "2.7.6"
  }
 },
 "nbformat": 4,
 "nbformat_minor": 5
}
