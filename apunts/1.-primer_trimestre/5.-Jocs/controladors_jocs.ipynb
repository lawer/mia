{
 "cells": [
  {
   "cell_type": "code",
   "execution_count": 29,
   "outputs": [],
   "source": [
    "\n",
    "import random\n",
    "from dataclasses import dataclass\n"
   ],
   "metadata": {
    "collapsed": false,
    "ExecuteTime": {
     "end_time": "2023-10-27T10:08:11.015384Z",
     "start_time": "2023-10-27T10:08:10.441186Z"
    }
   },
   "id": "86406da25483e642"
  },
  {
   "cell_type": "markdown",
   "source": [
    "# Jocs"
   ],
   "metadata": {
    "collapsed": false
   },
   "id": "4b2f24939f6472b0"
  },
  {
   "cell_type": "markdown",
   "source": [
    "En aquesta pràctica programarem agents que puguen jugar a jocs. Recordeu que les característiques dels jocs en els que ens centrarem són:\n",
    "\n",
    "* Jocs de suma zero.\n",
    "* Dos jugadors alternats.\n",
    "* Informació perfecta.\n",
    "* Successors deterministes.\n",
    "* Horitzó finit (per tant, no hi ha cicles)."
   ],
   "metadata": {
    "collapsed": false
   },
   "id": "de2df38bc52d3ad3"
  },
  {
   "cell_type": "markdown",
   "source": [
    "## Joc del tres en ratlla\n",
    "\n",
    "El tres en ratlla és un joc molt senzill, però que ens permetrà introduir els conceptes bàsics de la programació de jocs. El tabler és un tauler de 3x3 caselles. Cada jugador té una fitxa, que pot posar en una casella buida. El jugador que aconseguixi posar tres fitxes en línia (horitzontal, vertical o diagonal) guanya la partida. Si el taulell s'omple sense que cap jugador hagi aconseguit fer tres en ratlla, la partida acaba en empat."
   ],
   "metadata": {
    "collapsed": false
   },
   "id": "81a48d03685e77a3"
  },
  {
   "cell_type": "markdown",
   "source": [
    "### Representació dels estats\n",
    "\n",
    "1. Per representar els estats del joc implementa una `Data Class` anomenada `EstatJoc`. Aquesta classe tindrà quatre atributs:\n",
    "\n",
    "* `jugador`: el jugador que ha de fer el següent moviment.\n",
    "* `utilitat`: mesura de la utilitat de l'estat pel jugador.\n",
    "* `tauler`: una representació del tauler de joc.\n",
    "* `moviments`: els moviments possibles des de l'estat actual."
   ],
   "metadata": {
    "collapsed": false
   },
   "id": "a5cd3155fe3dedca"
  },
  {
   "cell_type": "code",
   "execution_count": 30,
   "outputs": [],
   "source": [
    "@dataclass(frozen=True)\n",
    "class EstatJoc:\n",
    "    torn: str\n",
    "    utilitat: int\n",
    "    tauler: dict\n",
    "    moviments: list"
   ],
   "metadata": {
    "collapsed": false,
    "ExecuteTime": {
     "end_time": "2023-10-27T10:08:11.642260Z",
     "start_time": "2023-10-27T10:08:10.535256Z"
    }
   },
   "id": "674f8d7f4c9acf07"
  },
  {
   "cell_type": "markdown",
   "source": [
    "### Classe `TresEnRatlla`\n",
    "\n",
    "El nostres jocs heretaran de la classe `Joc` que implementa els mètodes bàsics per a la programació de jocs. Aquesta classe té els següents mètodes:\n",
    "\n",
    "* `accions(self, estat)`: retorna els moviments possibles des de l'estat passat com a paràmetre.\n",
    "* `resultat(self, estat, accio)`: retorna l'estat que resulta d'aplicar l'accio a l'estat.\n",
    "* `es_terminal(self, estat)`: retorna `True` si l'estat és terminal.\n",
    "* `utilitat(self, estat, jugador)`: retorna la utilitat de l'estat per al jugador."
   ],
   "metadata": {
    "collapsed": false
   },
   "id": "df461a75e8f01ce1"
  },
  {
   "cell_type": "code",
   "execution_count": 31,
   "outputs": [],
   "source": [
    "class Joc:\n",
    "    \"\"\"Un joc és similar a un problema, però té una utilitat per a cada estat i un test terminal en lloc d'un cost de ruta i un test de l'objectiu. Per crear un joc, subclasseu aquesta classe i implementeu accions, resultats, utilitat, i test_terminal. Podeu sobreescriure la visualització i els successors o bé podeu heretar els seus mètodes per defecte. També necessitareu establir l'atribut .inicial a l'estat inicial; això es pot fer en el constructor.\"\"\"\n",
    "\n",
    "    def accions(self, estat):\n",
    "        \"\"\"Retorna una llista dels moviments permesos en aquest punt.\"\"\"\n",
    "        raise NotImplementedError\n",
    "\n",
    "    def resultat(self, estat, moviment):\n",
    "        \"\"\"Retorna l'estat que resulta de fer un moviment des d'un estat.\"\"\"\n",
    "        raise NotImplementedError\n",
    "\n",
    "    def utilitat(self, estat, jugador):\n",
    "        \"\"\"Retorna el valor d'aquest estat final per al jugador.\"\"\"\n",
    "        raise NotImplementedError\n",
    "\n",
    "    def test_terminal(self, estat):\n",
    "        \"\"\"Retorna True si aquest és un estat final per al joc.\"\"\"\n",
    "        return not self.accions(estat)\n",
    "\n",
    "    def torn(self, estat):\n",
    "        \"\"\"Retorna el jugador al qual li toca moure en aquest estat.\"\"\"\n",
    "        return estat.torn\n",
    "\n",
    "    def display(self, estat):\n",
    "        \"\"\"Imprimeix o mostra d'alguna manera l'estat.\"\"\"\n",
    "        print(estat)\n",
    "\n",
    "    def __repr__(self):\n",
    "        return '<{}>'.format(self.__class__.__name__)\n",
    "\n",
    "    def juga_joc(self, *jugadors):\n",
    "        \"\"\"Juga un joc de n-persones, alternant torns.\"\"\"\n",
    "        estat = self.inicial\n",
    "        while True:\n",
    "            for jugador in jugadors:\n",
    "                moviment = jugador(self, estat)\n",
    "                estat = self.resultat(estat, moviment)\n",
    "                self.display(estat)\n",
    "                if self.test_terminal(estat):\n",
    "                    self.display(estat)\n",
    "                    print()\n",
    "                    return self.utilitat(estat, self.torn(self.inicial))"
   ],
   "metadata": {
    "collapsed": false,
    "ExecuteTime": {
     "end_time": "2023-10-27T10:08:11.729605Z",
     "start_time": "2023-10-27T10:08:10.576749Z"
    }
   },
   "id": "b4d5bd82e1a520eb"
  },
  {
   "cell_type": "markdown",
   "source": [
    "2. Has de crear una classe anomenada `TresEnRatlla` que herete de la classe `Joc`. Has de tindre en compte les següents consideracions:\n",
    "\n",
    "* Els jugadors es representaran amb les cadenes de caràcters `'X'` i `'O'`.\n",
    "* Els moviments es representaran amb tuples de dos elements, que seran les coordenades de la casella on es posa la fitxa.\n",
    "* El tauler es representarà amb un diccionari que té com a clau la tupla de coordenades i com a valor el jugador que té la fitxa en eixa casella.\n",
    "* La utilitat serà 1 si guanya el jugador `'X'`, -1 si guanya el jugador `'O'` i 0 en cas d'empat.\n",
    "* L'estat inicial tindrà el jugador `'X'`, el tauler estarà buit i els moviments seran totes les caselles del tauler.\n",
    "* Per facilitar la implementació de jocs més grans, el constructor de la classe tindrà tres paràmetres opcionals: `h`, `v` i `k`. `h` i `v` són les dimensions del tauler i `k` és el nombre de fitxes en ratlla per a guanyar. Per defecte, `h=3`, `v=3` i `k=3`."
   ],
   "metadata": {
    "collapsed": false
   },
   "id": "9173a590125af229"
  },
  {
   "cell_type": "code",
   "execution_count": 32,
   "outputs": [],
   "source": [
    "class TresEnRatlla(Joc):\n",
    "    \"\"\"Joc del tres en ratlla (generalitzat a k) en un tauler h*v on guanya el primer que aconsegueix k en ratlla.\n",
    "    Un estat es representa com una tupla (torn, tauler, moviments) on:\n",
    "        - torn és el jugador a moure ('X' o 'O')\n",
    "        - utilitat és la utilitat d'eixe estat, precalculada per eficiència.\n",
    "        - moviments és la llista de caselles buides del tauler\n",
    "        - tauler és un diccionari que conté per cada casella (x, y) del tauler el jugador que té la fitxa en eixa casella\n",
    "        - moviments és la llista de caselles buides del tauler\n",
    "    \"\"\"\n",
    "\n",
    "    def __init__(self, h=3, v=3, k=3):\n",
    "        self.h = h\n",
    "        self.v = v\n",
    "        self.k = k\n",
    "        moviments = [(x, y) for x in range(1, h + 1)\n",
    "                     for y in range(1, v + 1)]\n",
    "        self.inicial = EstatJoc(\n",
    "            torn='X', utilitat=0, tauler={}, moviments=moviments\n",
    "        )\n",
    "\n",
    "    def accions(self, estat):\n",
    "        \"\"\"Les accions legals en un estat són les caselles buides.\"\"\"\n",
    "        return estat.moviments\n",
    "\n",
    "    def resultat(self, estat, moviment):\n",
    "        \"\"\"Retorna l'estat que resulta d'aplicar un moviment a un estat.\"\"\"\n",
    "        if moviment not in estat.moviments:\n",
    "            return estat  # El moviment il·legal no té cap efecte\n",
    "        tauler = estat.tauler.copy()\n",
    "        tauler[moviment] = estat.torn\n",
    "        moviments = list(estat.moviments)\n",
    "        moviments.remove(moviment)\n",
    "        return EstatJoc(\n",
    "            torn=('O' if estat.torn == 'X' else 'X'),\n",
    "            utilitat=self.calcula_utilitat(\n",
    "                tauler, moviment, estat.torn\n",
    "            ),\n",
    "            tauler=tauler, moviments=moviments\n",
    "        )\n",
    "\n",
    "    def utilitat(self, estat, jugador):\n",
    "        \"\"\"Retorna la utilitat d'un estat per a un jugador. El valor és 1 si el jugador guanya; -1 si el contrari guanya; 0 en cas d'empat.\"\"\"\n",
    "\n",
    "        return estat.utilitat if jugador == 'X' else -estat.utilitat\n",
    "\n",
    "    def test_terminal(self, estat):\n",
    "        \"\"\"Un estat és terminal si algun jugador ha guanyat o no queden moviments.\"\"\"\n",
    "        return estat.utilitat != 0 or len(estat.moviments) == 0\n",
    "\n",
    "    def display(self, estat):\n",
    "        \"\"\"Mostra l'estat actual del joc.\"\"\"\n",
    "        tauler = estat.tauler\n",
    "        for x in range(1, self.h + 1):\n",
    "            for y in range(1, self.v + 1):\n",
    "                print(tauler.get((x, y), '.'), end=' ')\n",
    "            print()\n",
    "\n",
    "    def calcula_utilitat(self, tauler, estat, jugador):\n",
    "        \"\"\"Si 'X' guanya amb aquest moviment, retorna 1; si 'O' guanya retorna -1; si no retorna 0.\"\"\"\n",
    "        if (self.k_en_ralla(tauler, estat, jugador, (0, 1)) or\n",
    "                self.k_en_ralla(tauler, estat, jugador, (1, 0)) or\n",
    "                self.k_en_ralla(tauler, estat, jugador, (1, -1)) or\n",
    "                self.k_en_ralla(tauler, estat, jugador, (1, 1))):\n",
    "            return +1 if jugador == 'X' else -1\n",
    "        else:\n",
    "            return 0\n",
    "\n",
    "    def k_en_ralla(self, tauler, moviment, jugador, delta_x_y, new_k=None):\n",
    "        \"\"\"Retorna veritat si hi ha una línia a través del moviment al tauler per al jugador.\n",
    "        \n",
    "        \"\"\"\n",
    "        (delta_x, delta_y) = delta_x_y\n",
    "        x, y = moviment\n",
    "        n = 0  # n és el nombre de moviments en línia\n",
    "        while tauler.get((x, y)) == jugador:\n",
    "            n += 1\n",
    "            x, y = x + delta_x, y + delta_y\n",
    "        x, y = moviment\n",
    "        while tauler.get((x, y)) == jugador:\n",
    "            n += 1\n",
    "            x, y = x - delta_x, y - delta_y\n",
    "        n -= 1  # Perquè hem comptat dos cops el mateix moviment\n",
    "        return n >= self.k"
   ],
   "metadata": {
    "collapsed": false,
    "ExecuteTime": {
     "end_time": "2023-10-27T10:08:11.853092Z",
     "start_time": "2023-10-27T10:08:10.621306Z"
    }
   },
   "id": "f7b2b107182da6fb"
  },
  {
   "cell_type": "markdown",
   "source": [
    "### Funció `jugador_aleatori`\n",
    "\n",
    "Per a poder jugar al tres en ratlla, necessitem un jugador aleatori. Aquest jugador tria un moviment aleatori entre els moviments possibles.\n",
    "\n",
    "3. Implementa la funció `jugador_aleatori` que rep com a paràmetres un joc i un estat i retorna un moviment aleatori entre els moviments possibles.\n"
   ],
   "metadata": {
    "collapsed": false
   },
   "id": "f3fd37684f694a6c"
  },
  {
   "cell_type": "code",
   "execution_count": 33,
   "outputs": [],
   "source": [
    "def jugador_aleatori(joc, estat):\n",
    "    return random.choice(joc.accions(estat))"
   ],
   "metadata": {
    "collapsed": false,
    "ExecuteTime": {
     "end_time": "2023-10-27T10:08:11.892747Z",
     "start_time": "2023-10-27T10:08:10.637845Z"
    }
   },
   "id": "6d252f8746b42e62"
  },
  {
   "cell_type": "markdown",
   "source": [
    "4. Comprova que el jugador aleatori funciona correctament jugant una partida contra ell mateix. Per a això, utilitza la funció `juga_joc` de la classe `Joc`."
   ],
   "metadata": {
    "collapsed": false
   },
   "id": "7da1d8543e0f7331"
  },
  {
   "cell_type": "code",
   "execution_count": 34,
   "outputs": [
    {
     "name": "stdout",
     "output_type": "stream",
     "text": [
      ". . . \n",
      ". . X \n",
      ". . . \n",
      ". O . \n",
      ". . X \n",
      ". . . \n",
      "X O . \n",
      ". . X \n",
      ". . . \n",
      "X O . \n",
      ". . X \n",
      "O . . \n",
      "X O . \n",
      ". X X \n",
      "O . . \n",
      "X O O \n",
      ". X X \n",
      "O . . \n",
      "X O O \n",
      "X X X \n",
      "O . . \n",
      "X O O \n",
      "X X X \n",
      "O . . \n"
     ]
    },
    {
     "data": {
      "text/plain": "1"
     },
     "execution_count": 34,
     "metadata": {},
     "output_type": "execute_result"
    }
   ],
   "source": [
    "joc = TresEnRatlla()\n",
    "joc.juga_joc(jugador_aleatori, jugador_aleatori)"
   ],
   "metadata": {
    "collapsed": false,
    "ExecuteTime": {
     "end_time": "2023-10-27T10:08:11.966225Z",
     "start_time": "2023-10-27T10:08:10.662325Z"
    }
   },
   "id": "36322fdf0b936865"
  },
  {
   "cell_type": "markdown",
   "source": [
    "### Funció `minimax`\n",
    "\n",
    "5. Implementa la funció `minimax` que rep com a paràmetres un joc i un estat i retorna un moviment que té en compte la utilitat dels estats resultants de fer els moviments possibles. "
   ],
   "metadata": {
    "collapsed": false
   },
   "id": "ca46ca8ca74a01f4"
  },
  {
   "cell_type": "code",
   "execution_count": 35,
   "outputs": [],
   "source": [
    "def minimax(joc, estat):\n",
    "    def maximitza(joc, estat):\n",
    "        if joc.test_terminal(estat):\n",
    "            return joc.utilitat(estat, joc.torn(joc.inicial)), None\n",
    "        v = -float('inf')\n",
    "        moviment = None\n",
    "        for accio in joc.accions(estat):\n",
    "            v2, _ = minimitza(joc, joc.resultat(estat, accio))\n",
    "            if v2 > v:\n",
    "                v = v2\n",
    "                moviment = accio\n",
    "        return v, moviment\n",
    "\n",
    "    def minimitza(joc, estat):\n",
    "        if joc.test_terminal(estat):\n",
    "            return joc.utilitat(estat, joc.torn(joc.inicial)), None\n",
    "        v = float('inf')\n",
    "        moviment = None\n",
    "        for accio in joc.accions(estat):\n",
    "            v2, _ = maximitza(joc, joc.resultat(estat, accio))\n",
    "            if v2 < v:\n",
    "                v = v2\n",
    "                moviment = accio\n",
    "        return v, moviment\n",
    "\n",
    "    return maximitza(joc, estat)[1]"
   ],
   "metadata": {
    "collapsed": false,
    "ExecuteTime": {
     "end_time": "2023-10-27T10:08:12.214233Z",
     "start_time": "2023-10-27T10:08:10.694843Z"
    }
   },
   "id": "88ecad630b0c799a"
  },
  {
   "cell_type": "markdown",
   "source": [
    "6. Comprova que el jugador `minimax` funciona correctament jugant una partida contra el jugador aleatori. `minimax` sempre hauria de guanyar o empatar. "
   ],
   "metadata": {
    "collapsed": false
   },
   "id": "2685b3791841ea07"
  },
  {
   "cell_type": "code",
   "execution_count": 36,
   "outputs": [
    {
     "name": "stdout",
     "output_type": "stream",
     "text": [
      "X . . \n",
      ". . . \n",
      ". . . \n",
      "X . . \n",
      ". . O \n",
      ". . . \n",
      "X . X \n",
      ". . O \n",
      ". . . \n",
      "X . X \n",
      ". . O \n",
      ". O . \n",
      "X X X \n",
      ". . O \n",
      ". O . \n",
      "X X X \n",
      ". . O \n",
      ". O . \n"
     ]
    },
    {
     "data": {
      "text/plain": "1"
     },
     "execution_count": 36,
     "metadata": {},
     "output_type": "execute_result"
    }
   ],
   "source": [
    "joc = TresEnRatlla()\n",
    "joc.juga_joc(minimax, jugador_aleatori)"
   ],
   "metadata": {
    "collapsed": false,
    "ExecuteTime": {
     "end_time": "2023-10-27T10:08:19.977899Z",
     "start_time": "2023-10-27T10:08:10.831951Z"
    }
   },
   "id": "8a7185087b0f635d"
  },
  {
   "cell_type": "markdown",
   "source": [
    "### Funció `minimax_alphabeta`\n",
    "\n",
    "7. El cost computacional de l'algorisme `minimax` és molt alt. Per això, implementa la funció `minimax_alphabeta` que utilitza l'algorisme `minimax` amb l'optimització alfa-beta.\n",
    "    Testeja la funció `minimax_alphabeta` jugant una partida contra el jugador aleatori. `minimax_alphabeta` sempre hauria de guanyar o empatar."
   ],
   "metadata": {
    "collapsed": false
   },
   "id": "e00f6344f5f22f92"
  },
  {
   "cell_type": "code",
   "execution_count": 37,
   "outputs": [
    {
     "name": "stdout",
     "output_type": "stream",
     "text": [
      "X . . \n",
      ". . . \n",
      ". . . \n",
      "X . O \n",
      ". . . \n",
      ". . . \n",
      "X . O \n",
      "X . . \n",
      ". . . \n",
      "X . O \n",
      "X . . \n",
      ". O . \n",
      "X . O \n",
      "X X . \n",
      ". O . \n",
      "X . O \n",
      "X X O \n",
      ". O . \n",
      "X . O \n",
      "X X O \n",
      "X O . \n",
      "X . O \n",
      "X X O \n",
      "X O . \n"
     ]
    },
    {
     "data": {
      "text/plain": "1"
     },
     "execution_count": 37,
     "metadata": {},
     "output_type": "execute_result"
    }
   ],
   "source": [
    "def minimax_alphabeta(joc, estat):\n",
    "    def maximitza(joc, estat, alfa, beta):\n",
    "        if joc.test_terminal(estat):\n",
    "            return joc.utilitat(estat, joc.torn(joc.inicial)), None\n",
    "        v = -float('inf')\n",
    "        moviment = None\n",
    "        for accio in joc.accions(estat):\n",
    "            v2, _ = minimitza(joc, joc.resultat(estat, accio), alfa, beta)\n",
    "            if v2 > v:\n",
    "                v = v2\n",
    "                moviment = accio\n",
    "            if v >= beta:\n",
    "                return v, moviment\n",
    "            alfa = max(alfa, v)\n",
    "        return v, moviment\n",
    "\n",
    "    def minimitza(joc, estat, alfa, beta):\n",
    "        if joc.test_terminal(estat):\n",
    "            return joc.utilitat(estat, joc.torn(joc.inicial)), None\n",
    "        v = float('inf')\n",
    "        moviment = None\n",
    "        for accio in joc.accions(estat):\n",
    "            v2, _ = maximitza(joc, joc.resultat(estat, accio), alfa, beta)\n",
    "            if v2 < v:\n",
    "                v = v2\n",
    "                moviment = accio\n",
    "            if v <= alfa:\n",
    "                return v, moviment\n",
    "            beta = min(beta, v)\n",
    "        return v, moviment\n",
    "\n",
    "    return maximitza(joc, estat, -float('inf'), float('inf'))[1]\n",
    "\n",
    "\n",
    "joc = TresEnRatlla()\n",
    "joc.juga_joc(minimax_alphabeta, jugador_aleatori)"
   ],
   "metadata": {
    "collapsed": false,
    "ExecuteTime": {
     "end_time": "2023-10-27T10:08:20.334754Z",
     "start_time": "2023-10-27T10:08:19.999975Z"
    }
   },
   "id": "4d347cabacf25e0e"
  },
  {
   "cell_type": "markdown",
   "source": [
    "## Quatre en ratlla\n",
    "\n",
    "El quatre en ratlla és un joc molt similar al tres en ratlla, però en un tauler de 7x6 caselles i amb 4 fitxes en ratlla per a guanyar. Les opcions de moviment són les columnes del tauler. Quan es tria una columna, la fitxa cau fins a la posició més baixa que estiga buida."
   ],
   "metadata": {
    "collapsed": false
   },
   "id": "3b50f7dea4e213b2"
  },
  {
   "cell_type": "markdown",
   "source": [
    "8. Modifica la classe `TresEnRatlla` per a implementar el joc del quatre en ratlla. Testeja el funcionament utilitza la funció `juga_joc` de la classe `Joc` i dos jugador aleatoris."
   ],
   "metadata": {
    "collapsed": false
   },
   "id": "f30643dd3db645fb"
  },
  {
   "cell_type": "code",
   "execution_count": 38,
   "outputs": [],
   "source": [
    "class QuatreEnRatlla(TresEnRatlla):\n",
    "    \"\"\"Un joc de tipus Tres en ratlla en el qual només pots fer un moviment a la fila inferior,\n",
    "    o en una casella directament per sobre d'una casella ocupada.  Tradicionalment\n",
    "    es juga en un tauler de 7x6 i es requereixen 4 en línia.\"\"\"\n",
    "\n",
    "    def __init__(self, h=7, v=6, k=4):\n",
    "        TresEnRatlla.__init__(self, h, v, k)\n",
    "\n",
    "    def accions(self, state):\n",
    "        return [(x, y) for (x, y) in state.moviments\n",
    "                if y == 1 or (x, y - 1) in state.tauler]\n",
    "\n",
    "    def display(self, estat):\n",
    "        \"\"\"Mostra l'estat actual del joc.\"\"\"\n",
    "        tauler = estat.tauler\n",
    "        for y in range(self.v, 0, -1):\n",
    "            for x in range(1, self.h + 1):\n",
    "                print(tauler.get((x, y), '.'), end=' ')\n",
    "            print()"
   ],
   "metadata": {
    "collapsed": false,
    "ExecuteTime": {
     "end_time": "2023-10-27T10:08:20.467349Z",
     "start_time": "2023-10-27T10:08:20.309504Z"
    }
   },
   "id": "e635bf95249a9e00"
  },
  {
   "cell_type": "code",
   "execution_count": 39,
   "outputs": [
    {
     "name": "stdout",
     "output_type": "stream",
     "text": [
      ". . . . . . . \n",
      ". . . . . . . \n",
      ". . . . . . . \n",
      ". . . . . . . \n",
      ". . . . . . . \n",
      "X . . . . . . \n",
      ". . . . . . . \n",
      ". . . . . . . \n",
      ". . . . . . . \n",
      ". . . . . . . \n",
      ". . . . . . . \n",
      "X . O . . . . \n",
      ". . . . . . . \n",
      ". . . . . . . \n",
      ". . . . . . . \n",
      ". . . . . . . \n",
      "X . . . . . . \n",
      "X . O . . . . \n",
      ". . . . . . . \n",
      ". . . . . . . \n",
      ". . . . . . . \n",
      ". . . . . . . \n",
      "X . . . . . . \n",
      "X . O O . . . \n",
      ". . . . . . . \n",
      ". . . . . . . \n",
      ". . . . . . . \n",
      ". . . . . . . \n",
      "X . . . . . . \n",
      "X . O O . X . \n",
      ". . . . . . . \n",
      ". . . . . . . \n",
      ". . . . . . . \n",
      ". . . . . . . \n",
      "X . . . . . . \n",
      "X . O O O X . \n",
      ". . . . . . . \n",
      ". . . . . . . \n",
      ". . . . . . . \n",
      ". . . . . . . \n",
      "X . . . . X . \n",
      "X . O O O X . \n",
      ". . . . . . . \n",
      ". . . . . . . \n",
      ". . . . . . . \n",
      ". . . . . O . \n",
      "X . . . . X . \n",
      "X . O O O X . \n",
      ". . . . . . . \n",
      ". . . . . . . \n",
      ". . . . . X . \n",
      ". . . . . O . \n",
      "X . . . . X . \n",
      "X . O O O X . \n",
      ". . . . . . . \n",
      ". . . . . . . \n",
      ". . . . . X . \n",
      ". . . . . O . \n",
      "X . . . . X . \n",
      "X . O O O X O \n",
      ". . . . . . . \n",
      ". . . . . . . \n",
      ". . . . . X . \n",
      ". . . . . O . \n",
      "X . . X . X . \n",
      "X . O O O X O \n",
      ". . . . . . . \n",
      ". . . . . . . \n",
      ". . . . . X . \n",
      ". . . . . O . \n",
      "X . O X . X . \n",
      "X . O O O X O \n",
      ". . . . . . . \n",
      ". . . . . . . \n",
      ". . . . . X . \n",
      ". . . . . O . \n",
      "X . O X . X X \n",
      "X . O O O X O \n",
      ". . . . . . . \n",
      ". . . . . O . \n",
      ". . . . . X . \n",
      ". . . . . O . \n",
      "X . O X . X X \n",
      "X . O O O X O \n",
      ". . . . . . . \n",
      ". . . . . O . \n",
      ". . . . . X . \n",
      ". . . . . O X \n",
      "X . O X . X X \n",
      "X . O O O X O \n",
      ". . . . . . . \n",
      ". . . . . O . \n",
      ". . . . . X . \n",
      ". . . . . O X \n",
      "X . O X . X X \n",
      "X O O O O X O \n",
      ". . . . . . . \n",
      ". . . . . O . \n",
      ". . . . . X . \n",
      ". . . . . O X \n",
      "X . O X . X X \n",
      "X O O O O X O \n"
     ]
    },
    {
     "data": {
      "text/plain": "-1"
     },
     "execution_count": 39,
     "metadata": {},
     "output_type": "execute_result"
    }
   ],
   "source": [
    "joc = QuatreEnRatlla()\n",
    "joc.juga_joc(jugador_aleatori, jugador_aleatori)"
   ],
   "metadata": {
    "collapsed": false,
    "ExecuteTime": {
     "end_time": "2023-10-27T10:08:20.560695Z",
     "start_time": "2023-10-27T10:08:20.339161Z"
    }
   },
   "id": "a4e390faa520aaa"
  },
  {
   "cell_type": "markdown",
   "source": [
    "### Funció minimax amb profunditat limitada i avaluació heurística\n",
    "\n",
    "9. Implementa la funció `minimax_profunditat_limitada` que rep com a paràmetres un joc, un estat i una profunditat i retorna un moviment que té en compte la utilitat dels estats resultants de fer els moviments possibles fins a la profunditat indicada. Aquesta funció ha de tindre en compte que si l'estat és terminal o s'ha arribat a la profunditat límit, s'ha d'avaluar l'estat utilitzant la funció `avaluacio`.\n",
    "    Implementa també la funció `avaluacio` que rep com a paràmetres un joc i un estat i retorna un valor numèric que indica la qualitat de l'estat per al jugador que té el torn. Pots utilitzar la funció `avaluacio` que es mostra a continuació o implementar una altra funció diferent.\n"
   ],
   "metadata": {
    "collapsed": false
   },
   "id": "cf7297d01f5d137"
  },
  {
   "cell_type": "code",
   "execution_count": 40,
   "outputs": [],
   "source": [
    "def avaluacio(joc, estat):\n",
    "    \"\"\"Retorna un valor numèric que indica la qualitat de l'estat per al jugador que té el torn.\"\"\"\n",
    "    def num_k_en_ralla(tauler, jugador, delta_x_y, k):\n",
    "        \"\"\"Retorna el nombre de línies de k fitxes en ratlla del jugador en el tauler.\n",
    "        \"\"\"\n",
    "        (delta_x, delta_y) = delta_x_y\n",
    "        n = 0  # n és el nombre de moviments en línia\n",
    "        for x in range(1, joc.h + 1):\n",
    "            for y in range(1, joc.v + 1):\n",
    "                if tauler.get((x, y)) == jugador:\n",
    "                    # Comptar les fitxes en línia des d'ací\n",
    "                    n += 1\n",
    "                    for m in range(1, k):\n",
    "                        if tauler.get((x + m * delta_x, y + m * delta_y)) != jugador:\n",
    "                            n -= 1\n",
    "                            break\n",
    "                    if n == k:\n",
    "                        return 1\n",
    "                n = 0\n",
    "        return 0\n",
    "    \n",
    "    num = 0\n",
    "    for i in range(1, joc.k + 1):\n",
    "        aux = 0\n",
    "        aux += num_k_en_ralla(estat.tauler, estat.torn, (0, 1), i)\n",
    "        aux += num_k_en_ralla(estat.tauler, estat.torn, (1, 0), i)\n",
    "        aux += num_k_en_ralla(estat.tauler, estat.torn, (1, -1), i)\n",
    "        aux += num_k_en_ralla(estat.tauler, estat.torn, (1, 1), i)\n",
    "        num += aux * 10 ** i\n",
    "    return num"
   ],
   "metadata": {
    "collapsed": false,
    "ExecuteTime": {
     "end_time": "2023-10-27T10:08:20.563869Z",
     "start_time": "2023-10-27T10:08:20.377606Z"
    }
   },
   "id": "8b6ed463db5fcd9a"
  },
  {
   "cell_type": "code",
   "execution_count": 41,
   "outputs": [],
   "source": [
    "def minimax_ab_profunditat_limitada(joc, estat, profunditat=6):\n",
    "    def maximitza(joc, estat, alfa, beta, profunditat):\n",
    "        if joc.test_terminal(estat) or profunditat == 0:\n",
    "            return avaluacio(joc, estat), None\n",
    "        v = -float('inf')\n",
    "        moviment = None\n",
    "        for accio in joc.accions(estat):\n",
    "            v2, _ = minimitza(joc, joc.resultat(estat, accio), alfa, beta, profunditat - 1)\n",
    "            if v2 > v:\n",
    "                v = v2\n",
    "                moviment = accio\n",
    "            if v >= beta:\n",
    "                return v, moviment\n",
    "            alfa = max(alfa, v)\n",
    "        return v, moviment\n",
    "\n",
    "    def minimitza(joc, estat, alfa, beta, profunditat):\n",
    "        if joc.test_terminal(estat) or profunditat == 0:\n",
    "            return avaluacio(joc, estat), None\n",
    "        v = float('inf')\n",
    "        moviment = None\n",
    "        for accio in joc.accions(estat):\n",
    "            v2, _ = maximitza(joc, joc.resultat(estat, accio), alfa, beta, profunditat - 1)\n",
    "            if v2 < v:\n",
    "                v = v2\n",
    "                moviment = accio\n",
    "            if v <= alfa:\n",
    "                return v, moviment\n",
    "            beta = min(beta, v)\n",
    "        return v, moviment\n",
    "\n",
    "    return maximitza(joc, estat, -float('inf'), float('inf'), profunditat)[1]"
   ],
   "metadata": {
    "collapsed": false,
    "ExecuteTime": {
     "end_time": "2023-10-27T10:08:20.565377Z",
     "start_time": "2023-10-27T10:08:20.410227Z"
    }
   },
   "id": "9ed26dea133be0b8"
  },
  {
   "cell_type": "code",
   "execution_count": 42,
   "outputs": [
    {
     "name": "stdout",
     "output_type": "stream",
     "text": [
      ". . . . . . . \n",
      ". . . . . . . \n",
      ". . . . . . . \n",
      ". . . . . . . \n",
      ". . . . . . . \n",
      "X . . . . . . \n",
      ". . . . . . . \n",
      ". . . . . . . \n",
      ". . . . . . . \n",
      ". . . . . . . \n",
      "O . . . . . . \n",
      "X . . . . . . \n",
      ". . . . . . . \n",
      ". . . . . . . \n",
      ". . . . . . . \n",
      "X . . . . . . \n",
      "O . . . . . . \n",
      "X . . . . . . \n",
      ". . . . . . . \n",
      ". . . . . . . \n",
      ". . . . . . . \n",
      "X . . . . . . \n",
      "O . . . . . . \n",
      "X . O . . . . \n",
      ". . . . . . . \n",
      ". . . . . . . \n",
      "X . . . . . . \n",
      "X . . . . . . \n",
      "O . . . . . . \n",
      "X . O . . . . \n",
      ". . . . . . . \n",
      ". . . . . . . \n",
      "X . . . . . . \n",
      "X . . . . . . \n",
      "O . . . . . . \n",
      "X . O . O . . \n",
      ". . . . . . . \n",
      "X . . . . . . \n",
      "X . . . . . . \n",
      "X . . . . . . \n",
      "O . . . . . . \n",
      "X . O . O . . \n",
      ". . . . . . . \n",
      "X . . . . . . \n",
      "X . . . . . . \n",
      "X . . . . . . \n",
      "O . . . . . . \n",
      "X . O O O . . \n",
      "X . . . . . . \n",
      "X . . . . . . \n",
      "X . . . . . . \n",
      "X . . . . . . \n",
      "O . . . . . . \n",
      "X . O O O . . \n",
      "X . . . . . . \n",
      "X . . . . . . \n",
      "X . . . . . . \n",
      "X . . . . . . \n",
      "O . . . . . . \n",
      "X . O O O . . \n"
     ]
    },
    {
     "data": {
      "text/plain": "1"
     },
     "execution_count": 42,
     "metadata": {},
     "output_type": "execute_result"
    }
   ],
   "source": [
    "joc = QuatreEnRatlla()\n",
    "joc.juga_joc(minimax_ab_profunditat_limitada, jugador_aleatori)"
   ],
   "metadata": {
    "collapsed": false,
    "ExecuteTime": {
     "end_time": "2023-10-27T10:08:21.166401Z",
     "start_time": "2023-10-27T10:08:20.421803Z"
    }
   },
   "id": "f9deaff5ba9b2503"
  },
  {
   "cell_type": "markdown",
   "source": [
    "### Jugador humà\n",
    "\n",
    "10. Implementa la funció `jugador_huma` que rep com a paràmetres un joc i un estat i retorna un moviment triat per l'usuari. Si el moviment triat no és vàlid, s'ha de demanar un altre moviment fins que es triï un moviment vàlid.\n",
    "    Intenta jugar una partida contra el jugador que hem anat creant."
   ],
   "metadata": {
    "collapsed": false
   },
   "id": "c216bf563ba38423"
  },
  {
   "cell_type": "code",
   "execution_count": 43,
   "outputs": [],
   "source": [
    "def jugador_huma(joc, estat):\n",
    "    moviment = None\n",
    "    while moviment not in joc.accions(estat):\n",
    "        columna = eval(input('Columna? '))\n",
    "        altura = max([y for (x, y) in estat.tauler if x == columna] + [0])\n",
    "        moviment = (columna, altura + 1)\n",
    "    return moviment"
   ],
   "metadata": {
    "collapsed": false,
    "ExecuteTime": {
     "end_time": "2023-10-27T10:08:21.169197Z",
     "start_time": "2023-10-27T10:08:21.145716Z"
    }
   },
   "id": "bc8b73d532ccb9fe"
  },
  {
   "cell_type": "code",
   "execution_count": 47,
   "outputs": [
    {
     "name": "stdout",
     "output_type": "stream",
     "text": [
      ". . . . . . . \n",
      ". . . . . . . \n",
      ". . . . . . . \n",
      ". . . . . . . \n",
      ". . . . . . . \n",
      "X . . . . . . \n",
      ". . . . . . . \n",
      ". . . . . . . \n",
      ". . . . . . . \n",
      ". . . . . . . \n",
      ". . . . . . . \n",
      "X . . . . O . \n",
      ". . . . . . . \n",
      ". . . . . . . \n",
      ". . . . . . . \n",
      ". . . . . . . \n",
      "X . . . . . . \n",
      "X . . . . O . \n",
      ". . . . . . . \n",
      ". . . . . . . \n",
      ". . . . . . . \n",
      ". . . . . . . \n",
      "X . . . . . . \n",
      "X . . . O O . \n",
      ". . . . . . . \n",
      ". . . . . . . \n",
      ". . . . . . . \n",
      "X . . . . . . \n",
      "X . . . . . . \n",
      "X . . . O O . \n",
      ". . . . . . . \n",
      ". . . . . . . \n",
      ". . . . . . . \n",
      "X . . . . . . \n",
      "X . . . O . . \n",
      "X . . . O O . \n",
      ". . . . . . . \n",
      ". . . . . . . \n",
      "X . . . . . . \n",
      "X . . . . . . \n",
      "X . . . O . . \n",
      "X . . . O O . \n",
      ". . . . . . . \n",
      ". . . . . . . \n",
      "X . . . . . . \n",
      "X . . . . . . \n",
      "X . . . O . . \n",
      "X . . . O O . \n"
     ]
    },
    {
     "data": {
      "text/plain": "1"
     },
     "execution_count": 47,
     "metadata": {},
     "output_type": "execute_result"
    }
   ],
   "source": [
    "joc = QuatreEnRatlla()\n",
    "joc.juga_joc(minimax_ab_profunditat_limitada, jugador_aleatori)"
   ],
   "metadata": {
    "collapsed": false,
    "ExecuteTime": {
     "end_time": "2023-10-27T10:09:25.491792Z",
     "start_time": "2023-10-27T10:09:24.875109Z"
    }
   },
   "id": "de92b10fdc22310a"
  }
 ],
 "metadata": {
  "kernelspec": {
   "display_name": "Python 3",
   "language": "python",
   "name": "python3"
  },
  "language_info": {
   "codemirror_mode": {
    "name": "ipython",
    "version": 2
   },
   "file_extension": ".py",
   "mimetype": "text/x-python",
   "name": "python",
   "nbconvert_exporter": "python",
   "pygments_lexer": "ipython2",
   "version": "2.7.6"
  }
 },
 "nbformat": 4,
 "nbformat_minor": 5
}
