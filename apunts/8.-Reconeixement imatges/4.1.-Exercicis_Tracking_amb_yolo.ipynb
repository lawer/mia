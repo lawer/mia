{
 "cells": [
  {
   "cell_type": "markdown",
   "metadata": {},
   "source": [
    "# Exercicis Tracking amb YOLO\n",
    "\n",
    "En aquesta pràctica haureu d'utilitzar les técniques vistes per fer tracking en YOLO.\n",
    "\n",
    "Deuràs identificar i seguir els objectes detectats en `vtest.mp4`, dibuixant les esteles del seu moviment."
   ]
  }
 ],
 "metadata": {
  "language_info": {
   "name": "python"
  }
 },
 "nbformat": 4,
 "nbformat_minor": 2
}
