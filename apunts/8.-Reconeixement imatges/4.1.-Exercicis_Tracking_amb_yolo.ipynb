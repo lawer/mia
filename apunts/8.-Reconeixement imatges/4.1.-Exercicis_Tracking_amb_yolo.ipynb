{
 "cells": [
  {
   "cell_type": "markdown",
   "metadata": {},
   "source": [
    "# Exercicis Tracking amb YOLO\n",
    "\n",
    "En aquesta pràctica haureu d'utilitzar les técniques vistes per fer tracking en YOLO.\n",
    "\n",
    "Deuràs identificar i seguir els objectes detectats en [`vtest.mp4`](https://lawer.github.io/mia/apunts/8.-Reconeixement%20imatges/vtest.mp4), dibuixant les esteles del seu moviment."
   ]
  }
 ],
 "metadata": {
  "language_info": {
   "name": "python"
  }
 },
 "nbformat": 4,
 "nbformat_minor": 2
}
