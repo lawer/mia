{
 "cells": [
  {
   "cell_type": "markdown",
   "metadata": {},
   "source": [
    "# Exercicis detecció d'objectes\n",
    "\n",
    "En aquesta pràctica haureu d'utilitzar les técniques vistes en l'exemple de YOLO per detectar objectes en imatges. \n",
    "\n",
    "Haureu de buscar un Dataset que us interessi i aplicar-hi la detecció d'objectes per resoldre un problema concret.\n",
    "\n",
    "Si no teniu cap idea unes propostes podrien ser:\n",
    "\n",
    "- [Detecció de senyals de trànsit per ajudar a la conducció autònoma](https://universe.roboflow.com/road-guard/road-sign-detector-jpryp)\n",
    "- [Detecció de cartes en imatges per identificar mans de cartes en una partida de pòquer.](https://universe.roboflow.com/roboflow-100/poker-cards-cxcvz)\n",
    "- [Detecció d'enemics en un joc per programar un bot que jugui automàticament](https://universe.roboflow.com/graham-doerksen/halo-infinite-angel-aim)\n",
    "\n",
    "Aquests exemples aporten un model funcional que podeu utilitzar per comparar els resultats obtinguts amb el vostre model."
   ]
  }
 ],
 "metadata": {
  "language_info": {
   "name": "python"
  }
 },
 "nbformat": 4,
 "nbformat_minor": 2
}
