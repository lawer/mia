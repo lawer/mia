{
 "cells": [
  {
   "cell_type": "markdown",
   "metadata": {},
   "source": [
    "# Exercicis OpenCV\n",
    "\n",
    "Hem vist com ver funcions bàsiques de OpenCV. Ara ho posarem en pràctica.\n",
    "\n",
    "La teva tasca es posar en pràctica el que has après en quant a processament d'imatges amb un exemple semblant al que hem vist a classe.\n",
    "\n",
    "## Exercici 1\n",
    "\n",
    "![Camp](https://lawer.github.io/mia/apunts/8.-Reconeixement%20imatges/camp.png)\n",
    "\n",
    "Utilitzant OpenCV, carrega la imatge `camp.png`, troba les línies i enmarca-les de color verd. Mostra el resultat.\n",
    "\n",
    "## Exercici 2\n",
    "\n",
    "Hem vist com detectar el moviment utilitzant les diferències entre dos _frames_ consecutius. Ara, carrega `vtest.avi` i utilitza aquest mètode per detectar el moviment en un vídeo i utilitzant la técnica vista en l'exemple del seguiment de línia resalta l'objecte que s'està movent.\n",
    "\n",
    "## Exercici 3\n",
    "\n",
    "Calcula el flux òptic de l'imatge `vtest.avi` i visualitza'l.\n",
    "\n"
   ]
  }
 ],
 "metadata": {
  "language_info": {
   "name": "python"
  }
 },
 "nbformat": 4,
 "nbformat_minor": 2
}
