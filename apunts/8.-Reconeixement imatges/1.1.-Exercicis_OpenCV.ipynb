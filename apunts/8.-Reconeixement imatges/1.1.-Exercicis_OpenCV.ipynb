{
 "cells": [
  {
   "cell_type": "markdown",
   "metadata": {},
   "source": [
    "# Exercicis OpenCV\n",
    "\n",
    "Hem vist com ver funcions bàsiques de OpenCV. Ara ho posarem en pràctica.\n",
    "\n",
    "La teva tasca es posar en pràctica el que has après en quant a processament d'imatges amb un exemple semblant al que hem vist a classe.\n",
    "\n",
    "## Exercici 1\n",
    "\n",
    "Utilitzant OpenCV, carrega la imatge `camp.png`, troba les línies i enmarca-les de color verd."
   ]
  }
 ],
 "metadata": {
  "language_info": {
   "name": "python"
  }
 },
 "nbformat": 4,
 "nbformat_minor": 2
}
