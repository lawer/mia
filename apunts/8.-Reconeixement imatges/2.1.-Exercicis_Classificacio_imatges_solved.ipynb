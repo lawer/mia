{
 "cells": [
  {
   "cell_type": "markdown",
   "metadata": {},
   "source": [
    "# Exercicis Classificació d'imatges\n",
    "\n",
    "Hem vist com entrenar una xarxa neuronal per classificar imatges.\n",
    "\n",
    "Ara ho farem amb un conjunt de dades diferent, per veure si el que hem après és aplicable a altres conjunts de dades.\n",
    "\n",
    "El conjunt de dades que farem servir és el [sportsMNIST](https://www.kaggle.com/clarencezhao/sports8) de Kaggle. Aquest conjunt de dades conté imatges de diferents esports i el nostre objectiu serà classificar-les i comprovar com es comporta la xarxa amb imatges que no ha vist durant l'entrenament.\n",
    "\n",
    "Has d'intentar aconsseguir una _validation accuracy_ superior al 80%.\n",
    "\n",
    "Si no puguessis aconseguir-ho, pots provar de fer servir la tècnica de _data augmentation[1]_ per veure si això millora els resultats.\n",
    "\n",
    "[1] https://www.tensorflow.org/tutorials/images/data_augmentation"
   ]
  },
  {
   "cell_type": "markdown",
   "metadata": {},
   "source": [
    "## Carreguem les llibreries\n",
    "\n",
    "En pprimer lloc instal·lem i carreguem les llibreries que farem servir."
   ]
  },
  {
   "cell_type": "code",
   "execution_count": 1,
   "metadata": {},
   "outputs": [
    {
     "name": "stdout",
     "output_type": "stream",
     "text": [
      "Requirement already satisfied: keras in /workspaces/mia/.venv/lib/python3.10/site-packages (3.0.5)\n",
      "Requirement already satisfied: requests in /workspaces/mia/.venv/lib/python3.10/site-packages (2.31.0)\n",
      "Requirement already satisfied: absl-py in /workspaces/mia/.venv/lib/python3.10/site-packages (from keras) (2.1.0)\n",
      "Requirement already satisfied: numpy in /workspaces/mia/.venv/lib/python3.10/site-packages (from keras) (1.26.4)\n",
      "Requirement already satisfied: rich in /workspaces/mia/.venv/lib/python3.10/site-packages (from keras) (13.7.1)\n",
      "Requirement already satisfied: namex in /workspaces/mia/.venv/lib/python3.10/site-packages (from keras) (0.0.7)\n",
      "Requirement already satisfied: h5py in /workspaces/mia/.venv/lib/python3.10/site-packages (from keras) (3.10.0)\n",
      "Requirement already satisfied: dm-tree in /workspaces/mia/.venv/lib/python3.10/site-packages (from keras) (0.1.8)\n",
      "Requirement already satisfied: ml-dtypes in /workspaces/mia/.venv/lib/python3.10/site-packages (from keras) (0.3.2)\n",
      "Requirement already satisfied: charset-normalizer<4,>=2 in /workspaces/mia/.venv/lib/python3.10/site-packages (from requests) (3.3.2)\n",
      "Requirement already satisfied: idna<4,>=2.5 in /workspaces/mia/.venv/lib/python3.10/site-packages (from requests) (3.6)\n",
      "Requirement already satisfied: urllib3<3,>=1.21.1 in /workspaces/mia/.venv/lib/python3.10/site-packages (from requests) (2.2.1)\n",
      "Requirement already satisfied: certifi>=2017.4.17 in /workspaces/mia/.venv/lib/python3.10/site-packages (from requests) (2024.2.2)\n",
      "Requirement already satisfied: markdown-it-py>=2.2.0 in /workspaces/mia/.venv/lib/python3.10/site-packages (from rich->keras) (3.0.0)\n",
      "Requirement already satisfied: pygments<3.0.0,>=2.13.0 in /workspaces/mia/.venv/lib/python3.10/site-packages (from rich->keras) (2.17.2)\n",
      "Requirement already satisfied: mdurl~=0.1 in /workspaces/mia/.venv/lib/python3.10/site-packages (from markdown-it-py>=2.2.0->rich->keras) (0.1.2)\n",
      "Note: you may need to restart the kernel to use updated packages.\n"
     ]
    }
   ],
   "source": [
    "%pip install keras requests"
   ]
  },
  {
   "cell_type": "code",
   "execution_count": null,
   "metadata": {},
   "outputs": [],
   "source": [
    "import os\n",
    "os.environ[\"KERAS_BACKEND\"] = \"tensorflow\"\n",
    "\n",
    "import zipfile\n",
    "\n",
    "import keras\n",
    "from keras.models import Sequential\n",
    "from keras.layers import Dense, Flatten, Conv2D, MaxPooling2D, Dropout\n",
    "from keras.utils import image_dataset_from_directory\n",
    "from keras.layers.experimental.preprocessing import Rescaling\n",
    "\n",
    "import matplotlib.pyplot as plt\n",
    "import numpy as np\n",
    "\n",
    "import requests"
   ]
  },
  {
   "cell_type": "markdown",
   "metadata": {},
   "source": [
    "## Preparem les dades\n",
    "\n",
    "Primer de tot, carregarem les dades i les visualitzarem per veure com són.\n",
    "\n",
    "### Carreguem les dades\n",
    "\n",
    "El conjunt de dades està comprimit en un fitxer zip. El descomprimirem i crearem un `Dataset` utilitzant `image_dataset_from_directory` de `keras.utils`."
   ]
  },
  {
   "cell_type": "code",
   "execution_count": null,
   "metadata": {},
   "outputs": [],
   "source": [
    "zip_url = \"https://lawer.github.io/mia/apunts/8.-Reconeixement%20imatges/sportimages.zip\"\n",
    "\n",
    "filename = \"sportimages.zip\"\n",
    "\n",
    "r = requests.get(zip_url, allow_redirects=True)\n",
    "open(filename, 'wb').write(r.content)\n",
    "\n",
    "with zipfile.ZipFile(filename, 'r') as zip_ref:\n",
    "    zip_ref.extractall()"
   ]
  },
  {
   "cell_type": "code",
   "execution_count": null,
   "metadata": {},
   "outputs": [],
   "source": [
    "dataset = image_dataset_from_directory(\n",
    "    'sportimages',\n",
    "    image_size=(28, 21),\n",
    "    validation_split=0.2,\n",
    "    seed=123,\n",
    "    subset='both',\n",
    "    label_mode=\"int\"\n",
    ")\n",
    "\n",
    "class_names = dataset[0].class_names\n",
    "print(class_names)\n",
    "\n",
    "num_classes = len(class_names)\n"
   ]
  },
  {
   "cell_type": "markdown",
   "metadata": {},
   "source": [
    "`image_dataset_from_directory` espera que les imatges estiguin organitzades en carpetes, on cada carpeta és una categoria diferent. Això és el que farem. Ens retornarà un `_PrefetchDataset` que podrem utilitzar per entrenar la xarxa.\n",
    "\n",
    "El _PrefetchDataset_ és un tipus de dades que permeten carregar les imatges de manera eficient, sense haver de carregar-les totes a la memòria. Solament hem de saber que per poder accedir a les imatges hem d'utilitzar el métode `take`.\n",
    "\n",
    "Per veure el funcionament  de `take` mostrarem les 9 primeres imatges del conjunt de dades."
   ]
  },
  {
   "cell_type": "code",
   "execution_count": null,
   "metadata": {},
   "outputs": [],
   "source": [
    "train_ds, val_ds = dataset\n",
    "\n",
    "plt.figure(figsize=(10, 10))\n",
    "for images, labels in train_ds.take(1):\n",
    "  for i in range(9):\n",
    "    ax = plt.subplot(3, 3, i + 1)\n",
    "    plt.imshow(images[i].numpy().astype(\"uint8\"))\n",
    "    plt.title(class_names[labels[i]])\n",
    "    plt.axis(\"off\")"
   ]
  },
  {
   "cell_type": "markdown",
   "metadata": {},
   "source": [
    "### Entrenem la xarxa\n",
    "\n",
    "Ara has d'entrenar la xarxa. Fes les proves en una xarxa _Feed Forward_ primer i després en una xarxa convolucional. En la convolucional ver agregant capes de convolució i _pooling_ poc a poc per veure com afecta a la precisió.\n",
    "\n",
    "Recorda també normalitzar les dades i fer servir la tècnica de _data augmentation_ si ho consideres necessari."
   ]
  },
  {
   "cell_type": "code",
   "execution_count": null,
   "metadata": {},
   "outputs": [],
   "source": [
    "model = Sequential([\n",
    "    Rescaling(1./255, input_shape=(28, 21, 3)),\n",
    "    Conv2D(16, 3, padding='same', activation='relu'),\n",
    "    MaxPooling2D(),\n",
    "    Conv2D(32, 3, padding='same', activation='relu'),\n",
    "    MaxPooling2D(),\n",
    "    Conv2D(64, 3, padding='same', activation='relu'),\n",
    "    MaxPooling2D(),\n",
    "    Flatten(),\n",
    "    Dense(128, activation='relu'),\n",
    "    Dense(num_classes)\n",
    "])\n",
    "\n",
    "model.compile(optimizer='adam',\n",
    "              loss=\"sparse_categorical_crossentropy\",\n",
    "              metrics=['accuracy'])\n",
    "\n",
    "history = model.fit(\n",
    "    train_ds,\n",
    "    validation_data=val_ds,\n",
    "    epochs=10\n",
    ")"
   ]
  }
 ],
 "metadata": {
  "kernelspec": {
   "display_name": ".venv",
   "language": "python",
   "name": "python3"
  },
  "language_info": {
   "codemirror_mode": {
    "name": "ipython",
    "version": 3
   },
   "file_extension": ".py",
   "mimetype": "text/x-python",
   "name": "python",
   "nbconvert_exporter": "python",
   "pygments_lexer": "ipython3",
   "version": "3.10.13"
  }
 },
 "nbformat": 4,
 "nbformat_minor": 2
}
