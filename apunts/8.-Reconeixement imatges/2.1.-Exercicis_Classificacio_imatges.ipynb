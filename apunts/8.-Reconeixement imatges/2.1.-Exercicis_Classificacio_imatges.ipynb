{
 "cells": [
  {
   "cell_type": "markdown",
   "metadata": {},
   "source": [
    "# Exercicis Classificació d'imatges\n",
    "\n",
    "Hem vist com entrenar una xarxa neuronal per classificar imatges. \n",
    "\n",
    "Ara ho farem amb un conjunt de dades més gran d'imatges d'esports i comprovarem com es comporta la xarxa amb imatges que no ha vist durant l'entrenament.\n",
    "\n",
    "El conjunt de dades que farem servir és el [Sports-8](https://www.kaggle.com/clarencezhao/sports8) de Kaggle. Aquest conjunt de dades conté imatges de 8 esports diferents: baseball, basketball, boxing, chess, hockey, soccer, swimming i tennis."
   ]
  }
 ],
 "metadata": {
  "language_info": {
   "name": "python"
  }
 },
 "nbformat": 4,
 "nbformat_minor": 2
}
