{
 "cells": [
  {
   "cell_type": "markdown",
   "metadata": {},
   "source": [
    "# Exercicis Classificació d'imatges\n",
    "\n",
    "Hem vist com entrenar una xarxa neuronal per classificar imatges. \n",
    "\n",
    "Ara ho farem amb un conjunt de dades diferent, per veure si el que hem après és aplicable a altres conjunts de dades.\n",
    "\n",
    "El conjunt de dades que farem servir és el [sportsMNIST](https://www.kaggle.com/clarencezhao/sports8) de Kaggle. Aquest conjunt de dades conté imatges de diferents esports i el nostre objectiu serà classificar-les i comprovar com es comporta la xarxa amb imatges que no ha vist durant l'entrenament.\n",
    "\n",
    "Has d'intentar aconsseguir una _validation accuracy_ superior al 80%.\n",
    "\n",
    "Si no puguessis aconseguir-ho, pots provar de fer servir la tècnica de _data augmentation[1]_ per veure si això millora els resultats. \n",
    "\n",
    "[1] https://www.tensorflow.org/tutorials/images/data_augmentation "
   ]
  }
 ],
 "metadata": {
  "language_info": {
   "name": "python"
  }
 },
 "nbformat": 4,
 "nbformat_minor": 2
}
