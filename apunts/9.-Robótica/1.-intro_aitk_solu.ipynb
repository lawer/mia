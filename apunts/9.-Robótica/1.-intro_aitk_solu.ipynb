{
 "cells": [
  {
   "cell_type": "markdown",
   "id": "4e8946f1d3fc7b33",
   "metadata": {
    "collapsed": false
   },
   "source": [
    "# Pràctica 1: Simulació de robots utilitzant aitk.robots"
   ]
  },
  {
   "cell_type": "markdown",
   "id": "c306bd821d1eedbf",
   "metadata": {
    "collapsed": false
   },
   "source": [
    "## Introducció\n",
    "\n",
    "En aquesta pràctica, farem servir la llibreria `aitk.robots` per a simular robots. Aquesta llibreria ens permetrà crear un món virtual on els robots poden moure's i interactuar amb l'entorn. \n",
    "\n",
    "En aquesta primera pràctica, ens centrarem en la creació de móns virtuals i en la programació de robots per a que es moguin per aquests móns. En pràctiques posteriors, veurem com afegir aprenentatge als robots per a que puguin adaptar-se a l'entorn i aprendre a moure's per si mateixos, sense que els diguem com fer-ho."
   ]
  },
  {
   "cell_type": "markdown",
   "id": "cdcfff7771c54d8f",
   "metadata": {
    "collapsed": false
   },
   "source": [
    "## aitk.robots\n",
    "\n",
    "![](Scribbler_robot.jpg)\n"
   ]
  },
  {
   "cell_type": "markdown",
   "id": "987ab454",
   "metadata": {},
   "source": [
    "Per començar haurem d'instal·lar les llibreries a utilitzar."
   ]
  },
  {
   "cell_type": "code",
   "execution_count": 1,
   "id": "03f6fcca",
   "metadata": {},
   "outputs": [
    {
     "name": "stdout",
     "output_type": "stream",
     "text": [
      "Requirement already satisfied: aitk.robots in /home/carlesgm/Documents/mia/.venv/lib/python3.8/site-packages (0.9.43)\n",
      "Requirement already satisfied: aitk.networks in /home/carlesgm/Documents/mia/.venv/lib/python3.8/site-packages (0.5.2)\n",
      "Requirement already satisfied: tensorflow in /home/carlesgm/Documents/mia/.venv/lib/python3.8/site-packages (2.13.1)\n",
      "Requirement already satisfied: numpy in /home/carlesgm/Documents/mia/.venv/lib/python3.8/site-packages (1.24.3)\n",
      "Requirement already satisfied: setuptools in /home/carlesgm/Documents/mia/.venv/lib/python3.8/site-packages (from aitk.robots) (69.2.0)\n",
      "Requirement already satisfied: Pillow in /home/carlesgm/Documents/mia/.venv/lib/python3.8/site-packages (from aitk.robots) (9.4.0)\n",
      "Requirement already satisfied: aitk.utils>=0.6.1 in /home/carlesgm/Documents/mia/.venv/lib/python3.8/site-packages (from aitk.robots) (0.7.3)\n",
      "Requirement already satisfied: ipywidgets in /home/carlesgm/Documents/mia/.venv/lib/python3.8/site-packages (from aitk.robots) (8.1.2)\n",
      "Requirement already satisfied: matplotlib in /home/carlesgm/Documents/mia/.venv/lib/python3.8/site-packages (from aitk.networks) (3.7.5)\n",
      "Requirement already satisfied: absl-py>=1.0.0 in /home/carlesgm/Documents/mia/.venv/lib/python3.8/site-packages (from tensorflow) (1.4.0)\n",
      "Requirement already satisfied: astunparse>=1.6.0 in /home/carlesgm/Documents/mia/.venv/lib/python3.8/site-packages (from tensorflow) (1.6.3)\n",
      "Requirement already satisfied: flatbuffers>=23.1.21 in /home/carlesgm/Documents/mia/.venv/lib/python3.8/site-packages (from tensorflow) (24.3.7)\n",
      "Requirement already satisfied: gast<=0.4.0,>=0.2.1 in /home/carlesgm/Documents/mia/.venv/lib/python3.8/site-packages (from tensorflow) (0.4.0)\n",
      "Requirement already satisfied: google-pasta>=0.1.1 in /home/carlesgm/Documents/mia/.venv/lib/python3.8/site-packages (from tensorflow) (0.2.0)\n",
      "Requirement already satisfied: grpcio<2.0,>=1.24.3 in /home/carlesgm/Documents/mia/.venv/lib/python3.8/site-packages (from tensorflow) (1.62.1)\n",
      "Requirement already satisfied: h5py>=2.9.0 in /home/carlesgm/Documents/mia/.venv/lib/python3.8/site-packages (from tensorflow) (3.10.0)\n",
      "Requirement already satisfied: keras<2.14,>=2.13.1 in /home/carlesgm/Documents/mia/.venv/lib/python3.8/site-packages (from tensorflow) (2.13.1)\n",
      "Requirement already satisfied: libclang>=13.0.0 in /home/carlesgm/Documents/mia/.venv/lib/python3.8/site-packages (from tensorflow) (18.1.1)\n",
      "Requirement already satisfied: opt-einsum>=2.3.2 in /home/carlesgm/Documents/mia/.venv/lib/python3.8/site-packages (from tensorflow) (3.3.0)\n",
      "Requirement already satisfied: packaging in /home/carlesgm/Documents/mia/.venv/lib/python3.8/site-packages (from tensorflow) (24.0)\n",
      "Requirement already satisfied: protobuf!=4.21.0,!=4.21.1,!=4.21.2,!=4.21.3,!=4.21.4,!=4.21.5,<5.0.0dev,>=3.20.3 in /home/carlesgm/Documents/mia/.venv/lib/python3.8/site-packages (from tensorflow) (3.20.3)\n",
      "Requirement already satisfied: six>=1.12.0 in /home/carlesgm/Documents/mia/.venv/lib/python3.8/site-packages (from tensorflow) (1.16.0)\n",
      "Requirement already satisfied: tensorboard<2.14,>=2.13 in /home/carlesgm/Documents/mia/.venv/lib/python3.8/site-packages (from tensorflow) (2.13.0)\n",
      "Requirement already satisfied: tensorflow-estimator<2.14,>=2.13.0 in /home/carlesgm/Documents/mia/.venv/lib/python3.8/site-packages (from tensorflow) (2.13.0)\n",
      "Requirement already satisfied: termcolor>=1.1.0 in /home/carlesgm/Documents/mia/.venv/lib/python3.8/site-packages (from tensorflow) (2.4.0)\n",
      "Requirement already satisfied: typing-extensions<4.6.0,>=3.6.6 in /home/carlesgm/Documents/mia/.venv/lib/python3.8/site-packages (from tensorflow) (4.5.0)\n",
      "Requirement already satisfied: wrapt>=1.11.0 in /home/carlesgm/Documents/mia/.venv/lib/python3.8/site-packages (from tensorflow) (1.16.0)\n",
      "Requirement already satisfied: tensorflow-io-gcs-filesystem>=0.23.1 in /home/carlesgm/Documents/mia/.venv/lib/python3.8/site-packages (from tensorflow) (0.34.0)\n",
      "Requirement already satisfied: tqdm in /home/carlesgm/Documents/mia/.venv/lib/python3.8/site-packages (from aitk.utils>=0.6.1->aitk.robots) (4.66.2)\n",
      "Requirement already satisfied: wheel<1.0,>=0.23.0 in /home/carlesgm/Documents/mia/.venv/lib/python3.8/site-packages (from astunparse>=1.6.0->tensorflow) (0.43.0)\n",
      "Requirement already satisfied: google-auth<3,>=1.6.3 in /home/carlesgm/Documents/mia/.venv/lib/python3.8/site-packages (from tensorboard<2.14,>=2.13->tensorflow) (2.28.2)\n",
      "Requirement already satisfied: google-auth-oauthlib<1.1,>=0.5 in /home/carlesgm/Documents/mia/.venv/lib/python3.8/site-packages (from tensorboard<2.14,>=2.13->tensorflow) (1.0.0)\n",
      "Requirement already satisfied: markdown>=2.6.8 in /home/carlesgm/Documents/mia/.venv/lib/python3.8/site-packages (from tensorboard<2.14,>=2.13->tensorflow) (3.6)\n",
      "Requirement already satisfied: requests<3,>=2.21.0 in /home/carlesgm/Documents/mia/.venv/lib/python3.8/site-packages (from tensorboard<2.14,>=2.13->tensorflow) (2.31.0)\n",
      "Requirement already satisfied: tensorboard-data-server<0.8.0,>=0.7.0 in /home/carlesgm/Documents/mia/.venv/lib/python3.8/site-packages (from tensorboard<2.14,>=2.13->tensorflow) (0.7.2)\n",
      "Requirement already satisfied: werkzeug>=1.0.1 in /home/carlesgm/Documents/mia/.venv/lib/python3.8/site-packages (from tensorboard<2.14,>=2.13->tensorflow) (3.0.1)\n",
      "Requirement already satisfied: comm>=0.1.3 in /home/carlesgm/Documents/mia/.venv/lib/python3.8/site-packages (from ipywidgets->aitk.robots) (0.2.2)\n",
      "Requirement already satisfied: ipython>=6.1.0 in /home/carlesgm/Documents/mia/.venv/lib/python3.8/site-packages (from ipywidgets->aitk.robots) (8.12.3)\n",
      "Requirement already satisfied: traitlets>=4.3.1 in /home/carlesgm/Documents/mia/.venv/lib/python3.8/site-packages (from ipywidgets->aitk.robots) (5.14.2)\n",
      "Requirement already satisfied: widgetsnbextension~=4.0.10 in /home/carlesgm/Documents/mia/.venv/lib/python3.8/site-packages (from ipywidgets->aitk.robots) (4.0.10)\n",
      "Requirement already satisfied: jupyterlab-widgets~=3.0.10 in /home/carlesgm/Documents/mia/.venv/lib/python3.8/site-packages (from ipywidgets->aitk.robots) (3.0.10)\n",
      "Requirement already satisfied: contourpy>=1.0.1 in /home/carlesgm/Documents/mia/.venv/lib/python3.8/site-packages (from matplotlib->aitk.networks) (1.1.1)\n",
      "Requirement already satisfied: cycler>=0.10 in /home/carlesgm/Documents/mia/.venv/lib/python3.8/site-packages (from matplotlib->aitk.networks) (0.10.0)\n",
      "Requirement already satisfied: fonttools>=4.22.0 in /home/carlesgm/Documents/mia/.venv/lib/python3.8/site-packages (from matplotlib->aitk.networks) (4.50.0)\n",
      "Requirement already satisfied: kiwisolver>=1.0.1 in /home/carlesgm/Documents/mia/.venv/lib/python3.8/site-packages (from matplotlib->aitk.networks) (1.4.5)\n",
      "Requirement already satisfied: pyparsing>=2.3.1 in /home/carlesgm/Documents/mia/.venv/lib/python3.8/site-packages (from matplotlib->aitk.networks) (3.1.2)\n",
      "Requirement already satisfied: python-dateutil>=2.7 in /home/carlesgm/Documents/mia/.venv/lib/python3.8/site-packages (from matplotlib->aitk.networks) (2.9.0.post0)\n",
      "Requirement already satisfied: importlib-resources>=3.2.0 in /home/carlesgm/Documents/mia/.venv/lib/python3.8/site-packages (from matplotlib->aitk.networks) (6.3.1)\n",
      "Requirement already satisfied: cachetools<6.0,>=2.0.0 in /home/carlesgm/Documents/mia/.venv/lib/python3.8/site-packages (from google-auth<3,>=1.6.3->tensorboard<2.14,>=2.13->tensorflow) (5.3.3)\n",
      "Requirement already satisfied: pyasn1-modules>=0.2.1 in /home/carlesgm/Documents/mia/.venv/lib/python3.8/site-packages (from google-auth<3,>=1.6.3->tensorboard<2.14,>=2.13->tensorflow) (0.3.0)\n",
      "Requirement already satisfied: rsa<5,>=3.1.4 in /home/carlesgm/Documents/mia/.venv/lib/python3.8/site-packages (from google-auth<3,>=1.6.3->tensorboard<2.14,>=2.13->tensorflow) (4.9)\n",
      "Requirement already satisfied: requests-oauthlib>=0.7.0 in /home/carlesgm/Documents/mia/.venv/lib/python3.8/site-packages (from google-auth-oauthlib<1.1,>=0.5->tensorboard<2.14,>=2.13->tensorflow) (1.4.0)\n",
      "Requirement already satisfied: zipp>=3.1.0 in /home/carlesgm/Documents/mia/.venv/lib/python3.8/site-packages (from importlib-resources>=3.2.0->matplotlib->aitk.networks) (3.18.1)\n",
      "Requirement already satisfied: backcall in /home/carlesgm/Documents/mia/.venv/lib/python3.8/site-packages (from ipython>=6.1.0->ipywidgets->aitk.robots) (0.2.0)\n",
      "Requirement already satisfied: decorator in /home/carlesgm/Documents/mia/.venv/lib/python3.8/site-packages (from ipython>=6.1.0->ipywidgets->aitk.robots) (5.1.1)\n",
      "Requirement already satisfied: jedi>=0.16 in /home/carlesgm/Documents/mia/.venv/lib/python3.8/site-packages (from ipython>=6.1.0->ipywidgets->aitk.robots) (0.19.1)\n",
      "Requirement already satisfied: matplotlib-inline in /home/carlesgm/Documents/mia/.venv/lib/python3.8/site-packages (from ipython>=6.1.0->ipywidgets->aitk.robots) (0.1.6)\n",
      "Requirement already satisfied: pickleshare in /home/carlesgm/Documents/mia/.venv/lib/python3.8/site-packages (from ipython>=6.1.0->ipywidgets->aitk.robots) (0.7.5)\n",
      "Requirement already satisfied: prompt-toolkit!=3.0.37,<3.1.0,>=3.0.30 in /home/carlesgm/Documents/mia/.venv/lib/python3.8/site-packages (from ipython>=6.1.0->ipywidgets->aitk.robots) (3.0.43)\n",
      "Requirement already satisfied: pygments>=2.4.0 in /home/carlesgm/Documents/mia/.venv/lib/python3.8/site-packages (from ipython>=6.1.0->ipywidgets->aitk.robots) (2.17.2)\n",
      "Requirement already satisfied: stack-data in /home/carlesgm/Documents/mia/.venv/lib/python3.8/site-packages (from ipython>=6.1.0->ipywidgets->aitk.robots) (0.6.3)\n",
      "Requirement already satisfied: pexpect>4.3 in /home/carlesgm/Documents/mia/.venv/lib/python3.8/site-packages (from ipython>=6.1.0->ipywidgets->aitk.robots) (4.9.0)\n",
      "Requirement already satisfied: importlib-metadata>=4.4 in /home/carlesgm/Documents/mia/.venv/lib/python3.8/site-packages (from markdown>=2.6.8->tensorboard<2.14,>=2.13->tensorflow) (7.0.2)\n",
      "Requirement already satisfied: charset-normalizer<4,>=2 in /home/carlesgm/Documents/mia/.venv/lib/python3.8/site-packages (from requests<3,>=2.21.0->tensorboard<2.14,>=2.13->tensorflow) (3.3.2)\n",
      "Requirement already satisfied: idna<4,>=2.5 in /home/carlesgm/Documents/mia/.venv/lib/python3.8/site-packages (from requests<3,>=2.21.0->tensorboard<2.14,>=2.13->tensorflow) (2.10)\n",
      "Requirement already satisfied: urllib3<3,>=1.21.1 in /home/carlesgm/Documents/mia/.venv/lib/python3.8/site-packages (from requests<3,>=2.21.0->tensorboard<2.14,>=2.13->tensorflow) (2.2.1)\n",
      "Requirement already satisfied: certifi>=2017.4.17 in /home/carlesgm/Documents/mia/.venv/lib/python3.8/site-packages (from requests<3,>=2.21.0->tensorboard<2.14,>=2.13->tensorflow) (2023.7.22)\n",
      "Requirement already satisfied: MarkupSafe>=2.1.1 in /home/carlesgm/Documents/mia/.venv/lib/python3.8/site-packages (from werkzeug>=1.0.1->tensorboard<2.14,>=2.13->tensorflow) (2.1.5)\n",
      "Requirement already satisfied: parso<0.9.0,>=0.8.3 in /home/carlesgm/Documents/mia/.venv/lib/python3.8/site-packages (from jedi>=0.16->ipython>=6.1.0->ipywidgets->aitk.robots) (0.8.3)\n",
      "Requirement already satisfied: ptyprocess>=0.5 in /home/carlesgm/Documents/mia/.venv/lib/python3.8/site-packages (from pexpect>4.3->ipython>=6.1.0->ipywidgets->aitk.robots) (0.7.0)\n",
      "Requirement already satisfied: wcwidth in /home/carlesgm/Documents/mia/.venv/lib/python3.8/site-packages (from prompt-toolkit!=3.0.37,<3.1.0,>=3.0.30->ipython>=6.1.0->ipywidgets->aitk.robots) (0.2.13)\n",
      "Requirement already satisfied: pyasn1<0.6.0,>=0.4.6 in /home/carlesgm/Documents/mia/.venv/lib/python3.8/site-packages (from pyasn1-modules>=0.2.1->google-auth<3,>=1.6.3->tensorboard<2.14,>=2.13->tensorflow) (0.5.1)\n",
      "Requirement already satisfied: oauthlib>=3.0.0 in /home/carlesgm/Documents/mia/.venv/lib/python3.8/site-packages (from requests-oauthlib>=0.7.0->google-auth-oauthlib<1.1,>=0.5->tensorboard<2.14,>=2.13->tensorflow) (3.2.2)\n",
      "Requirement already satisfied: executing>=1.2.0 in /home/carlesgm/Documents/mia/.venv/lib/python3.8/site-packages (from stack-data->ipython>=6.1.0->ipywidgets->aitk.robots) (2.0.1)\n",
      "Requirement already satisfied: asttokens>=2.1.0 in /home/carlesgm/Documents/mia/.venv/lib/python3.8/site-packages (from stack-data->ipython>=6.1.0->ipywidgets->aitk.robots) (2.4.1)\n",
      "Requirement already satisfied: pure-eval in /home/carlesgm/Documents/mia/.venv/lib/python3.8/site-packages (from stack-data->ipython>=6.1.0->ipywidgets->aitk.robots) (0.2.2)\n"
     ]
    }
   ],
   "source": [
    "!pip install aitk.robots aitk.networks tensorflow numpy"
   ]
  },
  {
   "cell_type": "markdown",
   "id": "d59f462b6fb39d38",
   "metadata": {
    "collapsed": false
   },
   "source": [
    "Per utilitzar el simulador, primer haurem d'importar les llibreries necessàries."
   ]
  },
  {
   "cell_type": "code",
   "execution_count": 2,
   "id": "36260c0292867eab",
   "metadata": {
    "ExecuteTime": {
     "end_time": "2023-10-25T11:19:42.750157Z",
     "start_time": "2023-10-25T11:19:42.197214Z"
    },
    "collapsed": false
   },
   "outputs": [],
   "source": [
    "import aitk.robots as bots"
   ]
  },
  {
   "cell_type": "markdown",
   "id": "2ec87d5a",
   "metadata": {},
   "source": [
    "Finalment, crearem un món virtual on el robot es podrà moure.\n",
    "\n",
    "Definirem un món molt senzill amb un sol robot. El món tindrà 240 píxels d'ample i 150 píxels d'alt. El robot es col·locarà a (30, 80) amb una orientació de 90 graus (cap al nord). El robot tindrà dos sensors de distància, cadascun dels quals pot detectar la distància a l'objecte més proper en un arc de 45 graus. Un dels sensors estarà col·locat a la part esquerra del robot i l'altre al frontal.\n",
    "\n",
    "També agregarem un sensor de llum que detectarà la intensitat de la llum en la posició del robot i ens permetrà saber quan hem arribat a la meta."
   ]
  },
  {
   "cell_type": "code",
   "execution_count": 3,
   "id": "7dc3980ce626faa5",
   "metadata": {
    "ExecuteTime": {
     "end_time": "2023-10-25T11:19:43.137578Z",
     "start_time": "2023-10-25T11:19:42.769275Z"
    },
    "collapsed": false
   },
   "outputs": [
    {
     "name": "stdout",
     "output_type": "stream",
     "text": [
      "Random seed set to: 2576646\n"
     ]
    },
    {
     "data": {
      "application/vnd.jupyter.widget-view+json": {
       "model_id": "86777977cccb4c2fa60396b7b18c5db9",
       "version_major": 2,
       "version_minor": 0
      },
      "text/plain": [
       "Image(value=b'\\xff\\xd8\\xff\\xe0\\x00\\x10JFIF\\x00\\x01\\x01\\x00\\x00\\x01\\x00\\x01\\x00\\x00\\xff\\xdb\\x00C\\x00\\x08\\x06\\x0…"
      ]
     },
     "metadata": {},
     "output_type": "display_data"
    }
   ],
   "source": [
    "world = bots.World(240, 150)\n",
    "\n",
    "world.add_wall(\"blue\", 0, 0, 50, 50)\n",
    "world.add_wall(\"blue\", 75, 200, 125, 150)\n",
    "world.add_wall(\"blue\", 150, 0, 200, 50)\n",
    "world.add_wall(\"blue\", 150, 150, 200, 100)\n",
    "world.add_wall(\"blue\", 0, 100, 50, 150)\n",
    "\n",
    "world.add_wall(\"blue\", 100, 25, 105, 150)\n",
    "world.add_wall(\"blue\", 100, 70, 120, 75)\n",
    "\n",
    "world.add_bulb(\"yellow\", 125, 130, 1, 30)\n",
    "\n",
    "robot = bots.Scribbler(x=30, y=80, a=90)\n",
    "robot.add_device(bots.RangeSensor(width=45,max=20,name=\"front\"))\n",
    "robot.add_device(bots.RangeSensor(width=45,max=20,position=(6,-6),\n",
    "                                         a=90,name=\"left\"))\n",
    "robot.add_device(bots.LightSensor(position=(6, 0), name=\"light\"))\n",
    "\n",
    "world.add_robot(robot)\n",
    "\n",
    "world.watch()"
   ]
  },
  {
   "cell_type": "markdown",
   "id": "5be663121f89c77e",
   "metadata": {
    "collapsed": false
   },
   "source": [
    "Utilitzant `world.watch()` podem veure el món i el robot. El robot és el rectangle vermell amb el sensor de llum groc a la part frontal. La bombeta és el cercle groc. També podem veure el con de la càmera i (utilitzant `robot[\"camera\"].watch()`) la vista del robot.\n",
    "\n",
    "Podem obtenir la posició actual del robot `(x, y, heading)` utilitzant el mètode `get_pose()`."
   ]
  },
  {
   "cell_type": "code",
   "execution_count": 4,
   "id": "d67cc2dc34b798e2",
   "metadata": {
    "ExecuteTime": {
     "end_time": "2023-10-25T11:19:43.160149Z",
     "start_time": "2023-10-25T11:19:43.100969Z"
    },
    "collapsed": false
   },
   "outputs": [
    {
     "data": {
      "text/plain": [
       "(30, 80, 90.0)"
      ]
     },
     "execution_count": 4,
     "metadata": {},
     "output_type": "execute_result"
    }
   ],
   "source": [
    "robot.get_pose()"
   ]
  },
  {
   "cell_type": "markdown",
   "id": "8c4314375834cde8",
   "metadata": {
    "collapsed": false
   },
   "source": [
    "## Sortir del laberint\n",
    "\n",
    "Un dels problemes clàssics de control de robots és el de sortir d'un laberint. En aquest problema, el robot es col·loca en un món amb parets i se li demana que trobi la sortida del laberint. En el nostre cas, farem servir l'anell de sensors de distància del robot per a detectar les parets. El robot té 2 sensors de distància, cadascun dels quals pot detectar la distància a l'objecte més proper en un arc de 45 graus, amb un màxim de 20 metres. El robot pot moure's endavant a una velocitat entre -1 i 1, i pot girar a una velocitat entre -1 i 1. El robot també pot parlar, el que és útil per a la depuració.\n",
    "\n",
    "El algoritme que farem servir per a que el robot surti del laberint és el següent:\n",
    "\n",
    "1. Si el robot no està a prop d'una paret, moure's endavant.\n",
    "2. Si el robot està a prop d'una paret, girar cap a la dreta fins que la paret estigui a la seva esquerra.\n",
    "3. Si estem massa a prop de la paret, girar cap a la dreta.\n",
    "4. Si estem massa lluny de la paret, girar cap a l'esquerra.\n",
    "5. Repetir fins que el robot trobi la sortida del laberint. En el nostre cas, la sortida del laberint serà quan el robot detecti molta llum.\n",
    "\n",
    "Escriu una funció `exit_maze` que prengui un robot com a argument i faci que el robot surti del laberint. La funció hauria de fer servir l'algoritme descrit anteriorment."
   ]
  },
  {
   "cell_type": "code",
   "execution_count": 5,
   "id": "ad31ca08490e32af",
   "metadata": {
    "ExecuteTime": {
     "end_time": "2023-10-25T11:19:43.168516Z",
     "start_time": "2023-10-25T11:19:43.121608Z"
    },
    "collapsed": false
   },
   "outputs": [],
   "source": [
    "def exit_maze(robot):\n",
    "    \"\"\"\n",
    "    El robot ha de sortir del laberint seguint la paret esquerra.\n",
    "    \"\"\"\n"
   ]
  },
  {
   "cell_type": "code",
   "execution_count": 6,
   "id": "5b9173eadb7f0425",
   "metadata": {
    "ExecuteTime": {
     "end_time": "2023-10-25T11:19:44.459579Z",
     "start_time": "2023-10-25T11:19:43.178242Z"
    },
    "collapsed": false
   },
   "outputs": [
    {
     "name": "stdout",
     "output_type": "stream",
     "text": [
      "Using random seed: 7323907\n"
     ]
    },
    {
     "data": {
      "application/vnd.jupyter.widget-view+json": {
       "model_id": "629f8601cf4149428dbb26954e08a572",
       "version_major": 2,
       "version_minor": 0
      },
      "text/plain": [
       "  0%|          | 0/1200 [00:00<?, ?it/s]"
      ]
     },
     "metadata": {},
     "output_type": "display_data"
    },
    {
     "name": "stdout",
     "output_type": "stream",
     "text": [
      "Simulation stopped at: 00:01:11.50; speed 0.99 x real time\n"
     ]
    },
    {
     "data": {
      "text/plain": [
       "True"
      ]
     },
     "execution_count": 6,
     "metadata": {},
     "output_type": "execute_result"
    }
   ],
   "source": [
    "world.reset()\n",
    "world.seconds(120, [exit_maze], real_time=True)"
   ]
  },
  {
   "cell_type": "markdown",
   "id": "7854e46a",
   "metadata": {},
   "source": [
    "## Preguntes\n",
    "\n",
    "1. Què passa si el laberint no té sortida? Com ho faries per detectar aquest cas?\n",
    "\n",
    "2. Què passa si el robot es queda atrapat en un bucle infinit? Com ho faries per detectar aquest cas?\n",
    "\n",
    "3. Què passa si el robot no pot girar a la dreta perquè hi ha una paret a la seva dreta? Que faries per a que el robot pugui sortir del laberint en aquest cas?\n",
    "\n",
    "4. No estem aprofitant la informació del sensor de llum per a trobar la sortida del laberint. Com faries servir aquesta informació per a millorar l'algoritme?\n",
    "\n",
    "5. Com faries per a que el robot pugui trobar la sortida del laberint si la sortida estigués a la seva dreta?"
   ]
  },
  {
   "cell_type": "markdown",
   "id": "81bb499e",
   "metadata": {},
   "source": [
    "## Millores\n",
    "\n",
    "Implementa les millores que has pensat a les preguntes anteriors."
   ]
  },
  {
   "cell_type": "code",
   "execution_count": null,
   "id": "f1eec9fa",
   "metadata": {},
   "outputs": [],
   "source": []
  }
 ],
 "metadata": {
  "kernelspec": {
   "display_name": "Python 3",
   "language": "python",
   "name": "python3"
  },
  "language_info": {
   "codemirror_mode": {
    "name": "ipython",
    "version": 3
   },
   "file_extension": ".py",
   "mimetype": "text/x-python",
   "name": "python",
   "nbconvert_exporter": "python",
   "pygments_lexer": "ipython3",
   "version": "3.8.10"
  }
 },
 "nbformat": 4,
 "nbformat_minor": 5
}
