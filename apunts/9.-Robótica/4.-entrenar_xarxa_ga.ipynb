{
 "cells": [
  {
   "cell_type": "markdown",
   "metadata": {},
   "source": [
    "# Entrenar un robot utilizant Q-Learning\n",
    "\n",
    "## Introducció\n",
    "\n",
    "En aquest notebook, entrenarem un robot perquè trobi la millor ruta per arribar a la seva destinació. Utilitzarem algorsimes genètics per aconseguir-ho. \n",
    "\n",
    "Com ja hem vist en altres notebooks, els algoritmes genètics són una tècnica d'optimització inspirada en la selecció natural. En aquest cas, l'objectiu és trobar la millor ruta per arribar a la destinació. Partirem d'una xarxa neuronal ja creada i anirem modificant els pesos per aconseguir la millor ruta.\n",
    "\n",
    "## Preparar les llibreries\n",
    "\n",
    "Utilitzarem les llibreries d'`aitk` per aconseguir el nostre objectiu. Començarem instal·lant les llibreries necessàries."
   ]
  },
  {
   "cell_type": "code",
   "execution_count": 14,
   "metadata": {},
   "outputs": [
    {
     "name": "stdout",
     "output_type": "stream",
     "text": [
      "Requirement already satisfied: aitk in /home/carlesgm/Documents/mia/.venv/lib/python3.8/site-packages (1.0.32)\n",
      "Requirement already satisfied: aitk.algorithms>=0.2.2 in /home/carlesgm/Documents/mia/.venv/lib/python3.8/site-packages (from aitk) (0.2.2)\n",
      "Requirement already satisfied: aitk.robots>=0.9.43 in /home/carlesgm/Documents/mia/.venv/lib/python3.8/site-packages (from aitk) (0.9.43)\n",
      "Requirement already satisfied: aitk.networks>=0.5.1 in /home/carlesgm/Documents/mia/.venv/lib/python3.8/site-packages (from aitk) (0.5.2)\n",
      "Requirement already satisfied: aitk.utils>=0.6.5 in /home/carlesgm/Documents/mia/.venv/lib/python3.8/site-packages (from aitk) (0.7.3)\n",
      "Requirement already satisfied: setuptools in /home/carlesgm/Documents/mia/.venv/lib/python3.8/site-packages (from aitk.algorithms>=0.2.2->aitk) (69.2.0)\n",
      "Requirement already satisfied: numpy in /home/carlesgm/Documents/mia/.venv/lib/python3.8/site-packages (from aitk.algorithms>=0.2.2->aitk) (1.24.3)\n",
      "Requirement already satisfied: matplotlib in /home/carlesgm/Documents/mia/.venv/lib/python3.8/site-packages (from aitk.algorithms>=0.2.2->aitk) (3.7.5)\n",
      "Requirement already satisfied: Pillow in /home/carlesgm/Documents/mia/.venv/lib/python3.8/site-packages (from aitk.networks>=0.5.1->aitk) (9.4.0)\n",
      "Requirement already satisfied: tensorflow in /home/carlesgm/Documents/mia/.venv/lib/python3.8/site-packages (from aitk.networks>=0.5.1->aitk) (2.13.1)\n",
      "Requirement already satisfied: ipywidgets in /home/carlesgm/Documents/mia/.venv/lib/python3.8/site-packages (from aitk.robots>=0.9.43->aitk) (8.1.2)\n",
      "Requirement already satisfied: tqdm in /home/carlesgm/Documents/mia/.venv/lib/python3.8/site-packages (from aitk.utils>=0.6.5->aitk) (4.66.2)\n",
      "Requirement already satisfied: comm>=0.1.3 in /home/carlesgm/Documents/mia/.venv/lib/python3.8/site-packages (from ipywidgets->aitk.robots>=0.9.43->aitk) (0.2.2)\n",
      "Requirement already satisfied: ipython>=6.1.0 in /home/carlesgm/Documents/mia/.venv/lib/python3.8/site-packages (from ipywidgets->aitk.robots>=0.9.43->aitk) (8.12.3)\n",
      "Requirement already satisfied: traitlets>=4.3.1 in /home/carlesgm/Documents/mia/.venv/lib/python3.8/site-packages (from ipywidgets->aitk.robots>=0.9.43->aitk) (5.14.2)\n",
      "Requirement already satisfied: widgetsnbextension~=4.0.10 in /home/carlesgm/Documents/mia/.venv/lib/python3.8/site-packages (from ipywidgets->aitk.robots>=0.9.43->aitk) (4.0.10)\n",
      "Requirement already satisfied: jupyterlab-widgets~=3.0.10 in /home/carlesgm/Documents/mia/.venv/lib/python3.8/site-packages (from ipywidgets->aitk.robots>=0.9.43->aitk) (3.0.10)\n",
      "Requirement already satisfied: contourpy>=1.0.1 in /home/carlesgm/Documents/mia/.venv/lib/python3.8/site-packages (from matplotlib->aitk.algorithms>=0.2.2->aitk) (1.1.1)\n",
      "Requirement already satisfied: cycler>=0.10 in /home/carlesgm/Documents/mia/.venv/lib/python3.8/site-packages (from matplotlib->aitk.algorithms>=0.2.2->aitk) (0.10.0)\n",
      "Requirement already satisfied: fonttools>=4.22.0 in /home/carlesgm/Documents/mia/.venv/lib/python3.8/site-packages (from matplotlib->aitk.algorithms>=0.2.2->aitk) (4.50.0)\n",
      "Requirement already satisfied: kiwisolver>=1.0.1 in /home/carlesgm/Documents/mia/.venv/lib/python3.8/site-packages (from matplotlib->aitk.algorithms>=0.2.2->aitk) (1.4.5)\n",
      "Requirement already satisfied: packaging>=20.0 in /home/carlesgm/Documents/mia/.venv/lib/python3.8/site-packages (from matplotlib->aitk.algorithms>=0.2.2->aitk) (24.0)\n",
      "Requirement already satisfied: pyparsing>=2.3.1 in /home/carlesgm/Documents/mia/.venv/lib/python3.8/site-packages (from matplotlib->aitk.algorithms>=0.2.2->aitk) (3.1.2)\n",
      "Requirement already satisfied: python-dateutil>=2.7 in /home/carlesgm/Documents/mia/.venv/lib/python3.8/site-packages (from matplotlib->aitk.algorithms>=0.2.2->aitk) (2.9.0.post0)\n",
      "Requirement already satisfied: importlib-resources>=3.2.0 in /home/carlesgm/Documents/mia/.venv/lib/python3.8/site-packages (from matplotlib->aitk.algorithms>=0.2.2->aitk) (6.3.1)\n",
      "Requirement already satisfied: absl-py>=1.0.0 in /home/carlesgm/Documents/mia/.venv/lib/python3.8/site-packages (from tensorflow->aitk.networks>=0.5.1->aitk) (1.4.0)\n",
      "Requirement already satisfied: astunparse>=1.6.0 in /home/carlesgm/Documents/mia/.venv/lib/python3.8/site-packages (from tensorflow->aitk.networks>=0.5.1->aitk) (1.6.3)\n",
      "Requirement already satisfied: flatbuffers>=23.1.21 in /home/carlesgm/Documents/mia/.venv/lib/python3.8/site-packages (from tensorflow->aitk.networks>=0.5.1->aitk) (24.3.7)\n",
      "Requirement already satisfied: gast<=0.4.0,>=0.2.1 in /home/carlesgm/Documents/mia/.venv/lib/python3.8/site-packages (from tensorflow->aitk.networks>=0.5.1->aitk) (0.4.0)\n",
      "Requirement already satisfied: google-pasta>=0.1.1 in /home/carlesgm/Documents/mia/.venv/lib/python3.8/site-packages (from tensorflow->aitk.networks>=0.5.1->aitk) (0.2.0)\n",
      "Requirement already satisfied: grpcio<2.0,>=1.24.3 in /home/carlesgm/Documents/mia/.venv/lib/python3.8/site-packages (from tensorflow->aitk.networks>=0.5.1->aitk) (1.62.1)\n",
      "Requirement already satisfied: h5py>=2.9.0 in /home/carlesgm/Documents/mia/.venv/lib/python3.8/site-packages (from tensorflow->aitk.networks>=0.5.1->aitk) (3.10.0)\n",
      "Requirement already satisfied: keras<2.14,>=2.13.1 in /home/carlesgm/Documents/mia/.venv/lib/python3.8/site-packages (from tensorflow->aitk.networks>=0.5.1->aitk) (2.13.1)\n",
      "Requirement already satisfied: libclang>=13.0.0 in /home/carlesgm/Documents/mia/.venv/lib/python3.8/site-packages (from tensorflow->aitk.networks>=0.5.1->aitk) (18.1.1)\n",
      "Requirement already satisfied: opt-einsum>=2.3.2 in /home/carlesgm/Documents/mia/.venv/lib/python3.8/site-packages (from tensorflow->aitk.networks>=0.5.1->aitk) (3.3.0)\n",
      "Requirement already satisfied: protobuf!=4.21.0,!=4.21.1,!=4.21.2,!=4.21.3,!=4.21.4,!=4.21.5,<5.0.0dev,>=3.20.3 in /home/carlesgm/Documents/mia/.venv/lib/python3.8/site-packages (from tensorflow->aitk.networks>=0.5.1->aitk) (3.20.3)\n",
      "Requirement already satisfied: six>=1.12.0 in /home/carlesgm/Documents/mia/.venv/lib/python3.8/site-packages (from tensorflow->aitk.networks>=0.5.1->aitk) (1.16.0)\n",
      "Requirement already satisfied: tensorboard<2.14,>=2.13 in /home/carlesgm/Documents/mia/.venv/lib/python3.8/site-packages (from tensorflow->aitk.networks>=0.5.1->aitk) (2.13.0)\n",
      "Requirement already satisfied: tensorflow-estimator<2.14,>=2.13.0 in /home/carlesgm/Documents/mia/.venv/lib/python3.8/site-packages (from tensorflow->aitk.networks>=0.5.1->aitk) (2.13.0)\n",
      "Requirement already satisfied: termcolor>=1.1.0 in /home/carlesgm/Documents/mia/.venv/lib/python3.8/site-packages (from tensorflow->aitk.networks>=0.5.1->aitk) (2.4.0)\n",
      "Requirement already satisfied: typing-extensions<4.6.0,>=3.6.6 in /home/carlesgm/Documents/mia/.venv/lib/python3.8/site-packages (from tensorflow->aitk.networks>=0.5.1->aitk) (4.5.0)\n",
      "Requirement already satisfied: wrapt>=1.11.0 in /home/carlesgm/Documents/mia/.venv/lib/python3.8/site-packages (from tensorflow->aitk.networks>=0.5.1->aitk) (1.16.0)\n",
      "Requirement already satisfied: tensorflow-io-gcs-filesystem>=0.23.1 in /home/carlesgm/Documents/mia/.venv/lib/python3.8/site-packages (from tensorflow->aitk.networks>=0.5.1->aitk) (0.34.0)\n",
      "Requirement already satisfied: wheel<1.0,>=0.23.0 in /home/carlesgm/Documents/mia/.venv/lib/python3.8/site-packages (from astunparse>=1.6.0->tensorflow->aitk.networks>=0.5.1->aitk) (0.43.0)\n",
      "Requirement already satisfied: zipp>=3.1.0 in /home/carlesgm/Documents/mia/.venv/lib/python3.8/site-packages (from importlib-resources>=3.2.0->matplotlib->aitk.algorithms>=0.2.2->aitk) (3.18.1)\n",
      "Requirement already satisfied: backcall in /home/carlesgm/Documents/mia/.venv/lib/python3.8/site-packages (from ipython>=6.1.0->ipywidgets->aitk.robots>=0.9.43->aitk) (0.2.0)\n",
      "Requirement already satisfied: decorator in /home/carlesgm/Documents/mia/.venv/lib/python3.8/site-packages (from ipython>=6.1.0->ipywidgets->aitk.robots>=0.9.43->aitk) (5.1.1)\n",
      "Requirement already satisfied: jedi>=0.16 in /home/carlesgm/Documents/mia/.venv/lib/python3.8/site-packages (from ipython>=6.1.0->ipywidgets->aitk.robots>=0.9.43->aitk) (0.19.1)\n",
      "Requirement already satisfied: matplotlib-inline in /home/carlesgm/Documents/mia/.venv/lib/python3.8/site-packages (from ipython>=6.1.0->ipywidgets->aitk.robots>=0.9.43->aitk) (0.1.6)\n",
      "Requirement already satisfied: pickleshare in /home/carlesgm/Documents/mia/.venv/lib/python3.8/site-packages (from ipython>=6.1.0->ipywidgets->aitk.robots>=0.9.43->aitk) (0.7.5)\n",
      "Requirement already satisfied: prompt-toolkit!=3.0.37,<3.1.0,>=3.0.30 in /home/carlesgm/Documents/mia/.venv/lib/python3.8/site-packages (from ipython>=6.1.0->ipywidgets->aitk.robots>=0.9.43->aitk) (3.0.43)\n",
      "Requirement already satisfied: pygments>=2.4.0 in /home/carlesgm/Documents/mia/.venv/lib/python3.8/site-packages (from ipython>=6.1.0->ipywidgets->aitk.robots>=0.9.43->aitk) (2.17.2)\n",
      "Requirement already satisfied: stack-data in /home/carlesgm/Documents/mia/.venv/lib/python3.8/site-packages (from ipython>=6.1.0->ipywidgets->aitk.robots>=0.9.43->aitk) (0.6.3)\n",
      "Requirement already satisfied: pexpect>4.3 in /home/carlesgm/Documents/mia/.venv/lib/python3.8/site-packages (from ipython>=6.1.0->ipywidgets->aitk.robots>=0.9.43->aitk) (4.9.0)\n",
      "Requirement already satisfied: google-auth<3,>=1.6.3 in /home/carlesgm/Documents/mia/.venv/lib/python3.8/site-packages (from tensorboard<2.14,>=2.13->tensorflow->aitk.networks>=0.5.1->aitk) (2.28.2)\n",
      "Requirement already satisfied: google-auth-oauthlib<1.1,>=0.5 in /home/carlesgm/Documents/mia/.venv/lib/python3.8/site-packages (from tensorboard<2.14,>=2.13->tensorflow->aitk.networks>=0.5.1->aitk) (1.0.0)\n",
      "Requirement already satisfied: markdown>=2.6.8 in /home/carlesgm/Documents/mia/.venv/lib/python3.8/site-packages (from tensorboard<2.14,>=2.13->tensorflow->aitk.networks>=0.5.1->aitk) (3.6)\n",
      "Requirement already satisfied: requests<3,>=2.21.0 in /home/carlesgm/Documents/mia/.venv/lib/python3.8/site-packages (from tensorboard<2.14,>=2.13->tensorflow->aitk.networks>=0.5.1->aitk) (2.31.0)\n",
      "Requirement already satisfied: tensorboard-data-server<0.8.0,>=0.7.0 in /home/carlesgm/Documents/mia/.venv/lib/python3.8/site-packages (from tensorboard<2.14,>=2.13->tensorflow->aitk.networks>=0.5.1->aitk) (0.7.2)\n",
      "Requirement already satisfied: werkzeug>=1.0.1 in /home/carlesgm/Documents/mia/.venv/lib/python3.8/site-packages (from tensorboard<2.14,>=2.13->tensorflow->aitk.networks>=0.5.1->aitk) (3.0.1)\n",
      "Requirement already satisfied: cachetools<6.0,>=2.0.0 in /home/carlesgm/Documents/mia/.venv/lib/python3.8/site-packages (from google-auth<3,>=1.6.3->tensorboard<2.14,>=2.13->tensorflow->aitk.networks>=0.5.1->aitk) (5.3.3)\n",
      "Requirement already satisfied: pyasn1-modules>=0.2.1 in /home/carlesgm/Documents/mia/.venv/lib/python3.8/site-packages (from google-auth<3,>=1.6.3->tensorboard<2.14,>=2.13->tensorflow->aitk.networks>=0.5.1->aitk) (0.3.0)\n",
      "Requirement already satisfied: rsa<5,>=3.1.4 in /home/carlesgm/Documents/mia/.venv/lib/python3.8/site-packages (from google-auth<3,>=1.6.3->tensorboard<2.14,>=2.13->tensorflow->aitk.networks>=0.5.1->aitk) (4.9)\n",
      "Requirement already satisfied: requests-oauthlib>=0.7.0 in /home/carlesgm/Documents/mia/.venv/lib/python3.8/site-packages (from google-auth-oauthlib<1.1,>=0.5->tensorboard<2.14,>=2.13->tensorflow->aitk.networks>=0.5.1->aitk) (1.4.0)\n",
      "Requirement already satisfied: parso<0.9.0,>=0.8.3 in /home/carlesgm/Documents/mia/.venv/lib/python3.8/site-packages (from jedi>=0.16->ipython>=6.1.0->ipywidgets->aitk.robots>=0.9.43->aitk) (0.8.3)\n",
      "Requirement already satisfied: importlib-metadata>=4.4 in /home/carlesgm/Documents/mia/.venv/lib/python3.8/site-packages (from markdown>=2.6.8->tensorboard<2.14,>=2.13->tensorflow->aitk.networks>=0.5.1->aitk) (7.0.2)\n",
      "Requirement already satisfied: ptyprocess>=0.5 in /home/carlesgm/Documents/mia/.venv/lib/python3.8/site-packages (from pexpect>4.3->ipython>=6.1.0->ipywidgets->aitk.robots>=0.9.43->aitk) (0.7.0)\n",
      "Requirement already satisfied: wcwidth in /home/carlesgm/Documents/mia/.venv/lib/python3.8/site-packages (from prompt-toolkit!=3.0.37,<3.1.0,>=3.0.30->ipython>=6.1.0->ipywidgets->aitk.robots>=0.9.43->aitk) (0.2.13)\n",
      "Requirement already satisfied: charset-normalizer<4,>=2 in /home/carlesgm/Documents/mia/.venv/lib/python3.8/site-packages (from requests<3,>=2.21.0->tensorboard<2.14,>=2.13->tensorflow->aitk.networks>=0.5.1->aitk) (3.3.2)\n",
      "Requirement already satisfied: idna<4,>=2.5 in /home/carlesgm/Documents/mia/.venv/lib/python3.8/site-packages (from requests<3,>=2.21.0->tensorboard<2.14,>=2.13->tensorflow->aitk.networks>=0.5.1->aitk) (2.10)\n",
      "Requirement already satisfied: urllib3<3,>=1.21.1 in /home/carlesgm/Documents/mia/.venv/lib/python3.8/site-packages (from requests<3,>=2.21.0->tensorboard<2.14,>=2.13->tensorflow->aitk.networks>=0.5.1->aitk) (2.2.1)\n",
      "Requirement already satisfied: certifi>=2017.4.17 in /home/carlesgm/Documents/mia/.venv/lib/python3.8/site-packages (from requests<3,>=2.21.0->tensorboard<2.14,>=2.13->tensorflow->aitk.networks>=0.5.1->aitk) (2023.7.22)\n",
      "Requirement already satisfied: MarkupSafe>=2.1.1 in /home/carlesgm/Documents/mia/.venv/lib/python3.8/site-packages (from werkzeug>=1.0.1->tensorboard<2.14,>=2.13->tensorflow->aitk.networks>=0.5.1->aitk) (2.1.5)\n",
      "Requirement already satisfied: executing>=1.2.0 in /home/carlesgm/Documents/mia/.venv/lib/python3.8/site-packages (from stack-data->ipython>=6.1.0->ipywidgets->aitk.robots>=0.9.43->aitk) (2.0.1)\n",
      "Requirement already satisfied: asttokens>=2.1.0 in /home/carlesgm/Documents/mia/.venv/lib/python3.8/site-packages (from stack-data->ipython>=6.1.0->ipywidgets->aitk.robots>=0.9.43->aitk) (2.4.1)\n",
      "Requirement already satisfied: pure-eval in /home/carlesgm/Documents/mia/.venv/lib/python3.8/site-packages (from stack-data->ipython>=6.1.0->ipywidgets->aitk.robots>=0.9.43->aitk) (0.2.2)\n",
      "Requirement already satisfied: pyasn1<0.6.0,>=0.4.6 in /home/carlesgm/Documents/mia/.venv/lib/python3.8/site-packages (from pyasn1-modules>=0.2.1->google-auth<3,>=1.6.3->tensorboard<2.14,>=2.13->tensorflow->aitk.networks>=0.5.1->aitk) (0.5.1)\n",
      "Requirement already satisfied: oauthlib>=3.0.0 in /home/carlesgm/Documents/mia/.venv/lib/python3.8/site-packages (from requests-oauthlib>=0.7.0->google-auth-oauthlib<1.1,>=0.5->tensorboard<2.14,>=2.13->tensorflow->aitk.networks>=0.5.1->aitk) (3.2.2)\n"
     ]
    }
   ],
   "source": [
    "!pip install aitk"
   ]
  },
  {
   "cell_type": "code",
   "execution_count": 15,
   "metadata": {},
   "outputs": [],
   "source": [
    "from aitk.algorithms.ga import GeneticAlgorithm\n",
    "from aitk.networks import SimpleNetwork\n",
    "import aitk.robots as bots\n",
    "from aitk.robots.utils import distance\n",
    "from aitk.utils import Grid\n",
    "\n",
    "import numpy as np\n",
    "\n",
    "import random"
   ]
  },
  {
   "cell_type": "markdown",
   "metadata": {},
   "source": [
    "## Algorisme genètic\n",
    "\n",
    "En aquest problema plantejarem les següents definicions:\n",
    "\n",
    "- **Gen**: Un gen serà un pes de la xarxa neuronal.\n",
    "- **Cromosoma**: Un cromosoma serà una xarxa neuronal amb els pesos corresponents. El seu tamany serà el nombre de pesos de la xarxa neuronal.\n",
    "- **Població**: Una població serà un conjunt de cromosomes.\n",
    "\n",
    "El mon i el robot seran els mateixos que en el notebook anterior.\n",
    "\n",
    "Per definir l'algorisme genètic utilitzarem la classe `GeneticAlgorithm` de la llibreria `aitk.algorithms.ga`. Aquesta classe necessita facilita la creació de l'algorisme."
   ]
  },
  {
   "cell_type": "code",
   "execution_count": 25,
   "metadata": {},
   "outputs": [
    {
     "name": "stdout",
     "output_type": "stream",
     "text": [
      "Random seed set to: 5010696\n",
      "Genetic algorithm\n",
      "  Chromosome length: 32\n",
      "  Population size: 10\n"
     ]
    }
   ],
   "source": [
    "class RobotAG(GeneticAlgorithm):\n",
    "    def __init__(self, tamany_poblacio):\n",
    "        self.world = bots.World(240, 150)\n",
    "\n",
    "        self.world.add_wall(\"blue\", 0, 0, 50, 50)\n",
    "        self.world.add_wall(\"blue\", 75, 200, 125, 150)\n",
    "        self.world.add_wall(\"blue\", 150, 0, 200, 50)\n",
    "        self.world.add_wall(\"blue\", 150, 150, 200, 100)\n",
    "        self.world.add_wall(\"blue\", 0, 100, 50, 150)\n",
    "\n",
    "        self.world.add_wall(\"blue\", 100, 25, 105, 125)\n",
    "        self.world.add_wall(\"blue\", 100, 70, 120, 75)\n",
    "\n",
    "        self.world.add_bulb(\"yellow\", 125, 130, 1, 30)\n",
    "\n",
    "        self.robot = bots.Scribbler(x=30, y=80, a=90)\n",
    "        self.robot.add_device(bots.RangeSensor(width=45,max=20,name=\"front\"))\n",
    "        self.robot.add_device(bots.RangeSensor(width=45,max=20,position=(6,-6),\n",
    "                                                a=90,name=\"left\"))\n",
    "        self.robot.add_device(bots.LightSensor(position=(6, 0), name=\"light\"))\n",
    "\n",
    "        self.world.add_robot(self.robot)\n",
    "\n",
    "        self.pos_inicial = (30, 80, 90)\n",
    "\n",
    "        self.net = SimpleNetwork(3, 5, 2, activation=\"tanh\", optimizer=\"adam\", loss=\"mse\")\n",
    "\n",
    "        tamany_cromosoma = len(self.net.get_weights(flat=True))\n",
    "\n",
    "        super().__init__(length=tamany_cromosoma, popSize=tamany_poblacio)\n",
    "\n",
    "    def make_random_gene(self):\n",
    "        # Retorna un valor aleatori per a un pes de la xarxa (entre -2 i 2)\n",
    "\n",
    "        return random.uniform(-2, 2)\n",
    "    \n",
    "    def mutate_gene(self, gen):\n",
    "        # Muta un gen canviant-lo lleugerament\n",
    "\n",
    "        return gen + random.uniform(-0.5, 0.5)\n",
    "    \n",
    "    def fitness(self, chromosome, index=None, poses=None, seconds=180, interrupt=True, real_time=False,\n",
    "                show=False, show_progress=False, quiet=True):\n",
    "        # Avalua el cromosoma i retorna el seu valor de fitness\n",
    "\n",
    "        # Tornem a posar el robot a la posició inicial\n",
    "        self.world.reset()\n",
    "        self.robot.set_pose(*self.pos_inicial)\n",
    "        self.grid = Grid((10, 10), self.world)\n",
    "\n",
    "        # Establim els pesos de la xarxa\n",
    "        self.net.set_weights(chromosome)\n",
    "\n",
    "        # Executem el robot durant 100 segons màxim\n",
    "        self.world.seconds(\n",
    "            seconds, self.controller,\n",
    "            real_time=real_time\n",
    "        )\n",
    "\n",
    "        # Calculem el valor de fitness\n",
    "        score = 0\n",
    "\n",
    "        if not self.robot.stalled:\n",
    "            visites = self.grid.analyze_visits()\n",
    "            sensor_lum = self.robot[\"light\"]\n",
    "            llum = sensor_lum.get_brightness()\n",
    "\n",
    "            # Volem que el robot s'aproximi a la llum en els mínims passos possibles\n",
    "            # Per aixó el valor de fitness serà 1/la distancia a la llum - el temps que ha trigat (escalat  )\n",
    "\n",
    "            pos_actual = self.robot.get_pose()\n",
    "            x_actual, y_actual = pos_actual[0], pos_actual[1]\n",
    "\n",
    "            score = visites * 10 + llum * 100 - self.world.time / 2000\n",
    "            \n",
    "        return score\n",
    "\n",
    "    def controller(self, world):\n",
    "        # Controlador del robot\n",
    "\n",
    "        sensor_esquerra = self.robot[\"left\"]\n",
    "        sensor_davant = self.robot[\"front\"]\n",
    "        sensor_lum = self.robot[\"light\"]\n",
    "\n",
    "        dist_esq = sensor_esquerra.get_distance()\n",
    "        dist_davant = sensor_davant.get_distance()\n",
    "        llum = sensor_lum.get_brightness()\n",
    "\n",
    "        inputs = np.array([dist_esq/20, dist_davant/20, llum])\n",
    "        output = self.net.predict(np.array([inputs]))\n",
    "        \n",
    "        out = output[0]\n",
    "\n",
    "        x, y, a = self.robot.get_pose()\n",
    "        self.grid.update(x, y)\n",
    "        self.grid.draw()\n",
    "\n",
    "        if inputs[-1] > 0.95:\n",
    "            return True\n",
    "        else:\n",
    "            self.robot.move(out[0], out[1])\n",
    "        \n",
    "        if self.robot.stalled:\n",
    "            return True\n",
    "\n",
    "ag = RobotAG(10)"
   ]
  },
  {
   "cell_type": "code",
   "execution_count": 17,
   "metadata": {},
   "outputs": [
    {
     "data": {
      "application/vnd.jupyter.widget-view+json": {
       "model_id": "01bb9aea20174991a5363c069433fe6c",
       "version_major": 2,
       "version_minor": 0
      },
      "text/plain": [
       "Image(value=b'\\xff\\xd8\\xff\\xe0\\x00\\x10JFIF\\x00\\x01\\x01\\x00\\x00\\x01\\x00\\x01\\x00\\x00\\xff\\xdb\\x00C\\x00\\x08\\x06\\x0…"
      ]
     },
     "metadata": {},
     "output_type": "display_data"
    }
   ],
   "source": [
    "ag.world.watch()"
   ]
  },
  {
   "cell_type": "code",
   "execution_count": 18,
   "metadata": {},
   "outputs": [
    {
     "name": "stdout",
     "output_type": "stream",
     "text": [
      "Using random seed: 3434698\n"
     ]
    },
    {
     "data": {
      "application/vnd.jupyter.widget-view+json": {
       "model_id": "481bd8ffae8643a1a395a454509aa347",
       "version_major": 2,
       "version_minor": 0
      },
      "text/plain": [
       "  0%|          | 0/1800 [00:00<?, ?it/s]"
      ]
     },
     "metadata": {},
     "output_type": "display_data"
    },
    {
     "name": "stdout",
     "output_type": "stream",
     "text": [
      "Simulation stopped at: 00:00:01.80; speed 30.95 x real time\n"
     ]
    },
    {
     "data": {
      "text/plain": [
       "0"
      ]
     },
     "execution_count": 18,
     "metadata": {},
     "output_type": "execute_result"
    }
   ],
   "source": [
    "ag.fitness(ag.make_random_chromosome())\n"
   ]
  },
  {
   "cell_type": "code",
   "execution_count": 27,
   "metadata": {},
   "outputs": [
    {
     "name": "stdout",
     "output_type": "stream",
     "text": [
      "Using random seed: 5010696\n",
      "Maximum number of generations: 20\n",
      "  Elite percentage 0.05 (0/10 chromosomes per generation)\n",
      "  Crossover rate: 0.2 (~2/10 crossovers per generation)\n",
      "  Mutation rate: 0.6 (~384/320 genes per generation)\n",
      "Evaluating initial population...\n",
      "Using random seed: 5010696\n"
     ]
    },
    {
     "name": "stderr",
     "output_type": "stream",
     "text": [
      "  0%|          | 0/1800 [00:00<?, ?it/s]"
     ]
    },
    {
     "name": "stderr",
     "output_type": "stream",
     "text": [
      "  3%|▎         | 51/1800 [00:00<00:04, 410.74it/s]\n"
     ]
    },
    {
     "name": "stdout",
     "output_type": "stream",
     "text": [
      "Simulation stopped at: 00:00:05.10; speed 40.23 x real time\n",
      "Using random seed: 5010696\n"
     ]
    },
    {
     "name": "stderr",
     "output_type": "stream",
     "text": [
      "  1%|▏         | 23/1800 [00:00<00:05, 353.08it/s]\n"
     ]
    },
    {
     "name": "stdout",
     "output_type": "stream",
     "text": [
      "Simulation stopped at: 00:00:02.30; speed 34.05 x real time\n",
      "Using random seed: 5010696\n"
     ]
    },
    {
     "name": "stderr",
     "output_type": "stream",
     "text": [
      "  2%|▏         | 30/1800 [00:00<00:04, 433.45it/s]\n"
     ]
    },
    {
     "name": "stdout",
     "output_type": "stream",
     "text": [
      "Simulation stopped at: 00:00:03.00; speed 42.09 x real time\n",
      "Using random seed: 5010696\n"
     ]
    },
    {
     "name": "stderr",
     "output_type": "stream",
     "text": [
      "100%|██████████| 1800/1800 [00:02<00:00, 689.70it/s]\n"
     ]
    },
    {
     "name": "stdout",
     "output_type": "stream",
     "text": [
      "Simulation stopped at: 00:03:00.00; speed 68.92 x real time\n",
      "Using random seed: 5010696\n"
     ]
    },
    {
     "name": "stderr",
     "output_type": "stream",
     "text": [
      "100%|██████████| 1800/1800 [00:03<00:00, 595.22it/s]\n"
     ]
    },
    {
     "name": "stdout",
     "output_type": "stream",
     "text": [
      "Simulation stopped at: 00:03:00.00; speed 59.48 x real time\n",
      "Using random seed: 5010696\n"
     ]
    },
    {
     "name": "stderr",
     "output_type": "stream",
     "text": [
      "100%|██████████| 1800/1800 [00:02<00:00, 609.38it/s]\n"
     ]
    },
    {
     "name": "stdout",
     "output_type": "stream",
     "text": [
      "Simulation stopped at: 00:03:00.00; speed 60.89 x real time\n",
      "Using random seed: 5010696\n"
     ]
    },
    {
     "name": "stderr",
     "output_type": "stream",
     "text": [
      "100%|██████████| 1800/1800 [00:02<00:00, 612.14it/s]\n"
     ]
    },
    {
     "name": "stdout",
     "output_type": "stream",
     "text": [
      "Simulation stopped at: 00:03:00.00; speed 61.16 x real time\n",
      "Using random seed: 5010696\n"
     ]
    },
    {
     "name": "stderr",
     "output_type": "stream",
     "text": [
      "  2%|▏         | 40/1800 [00:00<00:05, 315.39it/s]\n"
     ]
    },
    {
     "name": "stdout",
     "output_type": "stream",
     "text": [
      "Simulation stopped at: 00:00:04.00; speed 30.82 x real time\n",
      "Using random seed: 5010696\n"
     ]
    },
    {
     "name": "stderr",
     "output_type": "stream",
     "text": [
      "100%|██████████| 1800/1800 [00:02<00:00, 635.67it/s]\n"
     ]
    },
    {
     "name": "stdout",
     "output_type": "stream",
     "text": [
      "Simulation stopped at: 00:03:00.00; speed 63.52 x real time\n",
      "Using random seed: 5010696\n"
     ]
    },
    {
     "name": "stderr",
     "output_type": "stream",
     "text": [
      "  2%|▏         | 42/1800 [00:00<00:03, 569.79it/s]"
     ]
    },
    {
     "name": "stdout",
     "output_type": "stream",
     "text": [
      "Simulation stopped at: 00:00:04.20; speed 55.44 x real time\n",
      "Done!\n"
     ]
    },
    {
     "name": "stderr",
     "output_type": "stream",
     "text": [
      "\n"
     ]
    },
    {
     "data": {
      "application/vnd.jupyter.widget-view+json": {
       "model_id": "73631ca3e034428185f41b39cc1b5cf1",
       "version_major": 2,
       "version_minor": 0
      },
      "text/plain": [
       "  0%|          | 0/20 [00:00<?, ?it/s]"
      ]
     },
     "metadata": {},
     "output_type": "display_data"
    },
    {
     "name": "stdout",
     "output_type": "stream",
     "text": [
      "Using random seed: 5010696\n"
     ]
    },
    {
     "name": "stderr",
     "output_type": "stream",
     "text": [
      "100%|██████████| 1800/1800 [00:03<00:00, 558.71it/s]\n"
     ]
    },
    {
     "name": "stdout",
     "output_type": "stream",
     "text": [
      "Simulation stopped at: 00:03:00.00; speed 55.8 x real time\n",
      "Using random seed: 5010696\n"
     ]
    },
    {
     "name": "stderr",
     "output_type": "stream",
     "text": [
      " 22%|██▎       | 405/1800 [00:00<00:02, 515.59it/s]\n"
     ]
    },
    {
     "name": "stdout",
     "output_type": "stream",
     "text": [
      "Simulation stopped at: 00:00:40.50; speed 51.38 x real time\n",
      "Using random seed: 5010696\n"
     ]
    },
    {
     "name": "stderr",
     "output_type": "stream",
     "text": [
      "100%|██████████| 1800/1800 [00:03<00:00, 592.32it/s]\n"
     ]
    },
    {
     "name": "stdout",
     "output_type": "stream",
     "text": [
      "Simulation stopped at: 00:03:00.00; speed 59.19 x real time\n",
      "Using random seed: 5010696\n"
     ]
    },
    {
     "name": "stderr",
     "output_type": "stream",
     "text": [
      " 47%|████▋     | 842/1800 [00:01<00:01, 607.20it/s]\n"
     ]
    },
    {
     "name": "stdout",
     "output_type": "stream",
     "text": [
      "Simulation stopped at: 00:01:24.20; speed 60.63 x real time\n",
      "Using random seed: 5010696\n"
     ]
    },
    {
     "name": "stderr",
     "output_type": "stream",
     "text": [
      " 10%|█         | 185/1800 [00:00<00:03, 457.12it/s]\n"
     ]
    },
    {
     "name": "stdout",
     "output_type": "stream",
     "text": [
      "Simulation stopped at: 00:00:18.50; speed 45.36 x real time\n",
      "Using random seed: 5010696\n"
     ]
    },
    {
     "name": "stderr",
     "output_type": "stream",
     "text": [
      "100%|██████████| 1800/1800 [00:03<00:00, 580.01it/s]\n"
     ]
    },
    {
     "name": "stdout",
     "output_type": "stream",
     "text": [
      "Simulation stopped at: 00:03:00.00; speed 57.91 x real time\n",
      "Using random seed: 5010696\n"
     ]
    },
    {
     "name": "stderr",
     "output_type": "stream",
     "text": [
      " 48%|████▊     | 865/1800 [00:01<00:01, 558.80it/s]\n"
     ]
    },
    {
     "name": "stdout",
     "output_type": "stream",
     "text": [
      "Simulation stopped at: 00:01:26.50; speed 55.78 x real time\n",
      "Using random seed: 5010696\n"
     ]
    },
    {
     "name": "stderr",
     "output_type": "stream",
     "text": [
      "100%|██████████| 1800/1800 [00:03<00:00, 562.83it/s]\n"
     ]
    },
    {
     "name": "stdout",
     "output_type": "stream",
     "text": [
      "Simulation stopped at: 00:03:00.00; speed 56.22 x real time\n",
      "Using random seed: 5010696\n"
     ]
    },
    {
     "name": "stderr",
     "output_type": "stream",
     "text": [
      "100%|██████████| 1800/1800 [00:03<00:00, 540.55it/s]\n"
     ]
    },
    {
     "name": "stdout",
     "output_type": "stream",
     "text": [
      "Simulation stopped at: 00:03:00.00; speed 54.02 x real time\n",
      "Using random seed: 5010696\n"
     ]
    },
    {
     "name": "stderr",
     "output_type": "stream",
     "text": [
      "100%|██████████| 1800/1800 [00:03<00:00, 547.43it/s]\n"
     ]
    },
    {
     "name": "stdout",
     "output_type": "stream",
     "text": [
      "Simulation stopped at: 00:03:00.00; speed 54.69 x real time\n",
      "Generation    1 Best fitness 1.51\n",
      "Using random seed: 5010696\n"
     ]
    },
    {
     "name": "stderr",
     "output_type": "stream",
     "text": [
      " 11%|█         | 193/1800 [00:00<00:03, 432.58it/s]\n"
     ]
    },
    {
     "name": "stdout",
     "output_type": "stream",
     "text": [
      "Simulation stopped at: 00:00:19.30; speed 42.84 x real time\n",
      "Using random seed: 5010696\n"
     ]
    },
    {
     "name": "stderr",
     "output_type": "stream",
     "text": [
      "100%|██████████| 1800/1800 [00:03<00:00, 529.91it/s]\n"
     ]
    },
    {
     "name": "stdout",
     "output_type": "stream",
     "text": [
      "Simulation stopped at: 00:03:00.00; speed 52.96 x real time\n",
      "Using random seed: 5010696\n"
     ]
    },
    {
     "name": "stderr",
     "output_type": "stream",
     "text": [
      "100%|██████████| 1800/1800 [00:03<00:00, 530.45it/s]\n"
     ]
    },
    {
     "name": "stdout",
     "output_type": "stream",
     "text": [
      "Simulation stopped at: 00:03:00.00; speed 53.0 x real time\n",
      "Using random seed: 5010696\n"
     ]
    },
    {
     "name": "stderr",
     "output_type": "stream",
     "text": [
      "100%|██████████| 1800/1800 [00:03<00:00, 490.58it/s]\n"
     ]
    },
    {
     "name": "stdout",
     "output_type": "stream",
     "text": [
      "Simulation stopped at: 00:03:00.00; speed 48.99 x real time\n",
      "Using random seed: 5010696\n"
     ]
    },
    {
     "name": "stderr",
     "output_type": "stream",
     "text": [
      "100%|██████████| 1800/1800 [00:03<00:00, 521.33it/s]\n"
     ]
    },
    {
     "name": "stdout",
     "output_type": "stream",
     "text": [
      "Simulation stopped at: 00:03:00.00; speed 52.09 x real time\n",
      "Using random seed: 5010696\n"
     ]
    },
    {
     "name": "stderr",
     "output_type": "stream",
     "text": [
      "  7%|▋         | 131/1800 [00:00<00:04, 403.68it/s]\n"
     ]
    },
    {
     "name": "stdout",
     "output_type": "stream",
     "text": [
      "Simulation stopped at: 00:00:13.10; speed 39.85 x real time\n",
      "Using random seed: 5010696\n"
     ]
    },
    {
     "name": "stderr",
     "output_type": "stream",
     "text": [
      "100%|██████████| 1800/1800 [00:03<00:00, 511.92it/s]\n"
     ]
    },
    {
     "name": "stdout",
     "output_type": "stream",
     "text": [
      "Simulation stopped at: 00:03:00.00; speed 51.14 x real time\n",
      "Using random seed: 5010696\n"
     ]
    },
    {
     "name": "stderr",
     "output_type": "stream",
     "text": [
      "100%|██████████| 1800/1800 [00:03<00:00, 508.38it/s]\n"
     ]
    },
    {
     "name": "stdout",
     "output_type": "stream",
     "text": [
      "Simulation stopped at: 00:03:00.00; speed 50.79 x real time\n",
      "Using random seed: 5010696\n"
     ]
    },
    {
     "name": "stderr",
     "output_type": "stream",
     "text": [
      " 12%|█▏        | 207/1800 [00:00<00:02, 533.86it/s]\n"
     ]
    },
    {
     "name": "stdout",
     "output_type": "stream",
     "text": [
      "Simulation stopped at: 00:00:20.70; speed 52.83 x real time\n",
      "Using random seed: 5010696\n"
     ]
    },
    {
     "name": "stderr",
     "output_type": "stream",
     "text": [
      "  2%|▏         | 27/1800 [00:00<00:03, 493.07it/s]\n"
     ]
    },
    {
     "name": "stdout",
     "output_type": "stream",
     "text": [
      "Simulation stopped at: 00:00:02.70; speed 47.22 x real time\n",
      "Generation    2 Best fitness 1.91\n",
      "Using random seed: 5010696\n"
     ]
    },
    {
     "name": "stderr",
     "output_type": "stream",
     "text": [
      "100%|██████████| 1800/1800 [00:03<00:00, 478.57it/s]\n"
     ]
    },
    {
     "name": "stdout",
     "output_type": "stream",
     "text": [
      "Simulation stopped at: 00:03:00.00; speed 47.81 x real time\n",
      "Using random seed: 5010696\n"
     ]
    },
    {
     "name": "stderr",
     "output_type": "stream",
     "text": [
      " 44%|████▍     | 796/1800 [00:01<00:01, 525.23it/s]\n"
     ]
    },
    {
     "name": "stdout",
     "output_type": "stream",
     "text": [
      "Simulation stopped at: 00:01:19.60; speed 52.38 x real time\n",
      "Using random seed: 5010696\n"
     ]
    },
    {
     "name": "stderr",
     "output_type": "stream",
     "text": [
      "100%|██████████| 1800/1800 [00:04<00:00, 381.97it/s]\n"
     ]
    },
    {
     "name": "stdout",
     "output_type": "stream",
     "text": [
      "Simulation stopped at: 00:03:00.00; speed 38.17 x real time\n",
      "Using random seed: 5010696\n"
     ]
    },
    {
     "name": "stderr",
     "output_type": "stream",
     "text": [
      "100%|██████████| 1800/1800 [00:04<00:00, 424.04it/s]\n"
     ]
    },
    {
     "name": "stdout",
     "output_type": "stream",
     "text": [
      "Simulation stopped at: 00:03:00.00; speed 42.37 x real time\n",
      "Using random seed: 5010696\n"
     ]
    },
    {
     "name": "stderr",
     "output_type": "stream",
     "text": [
      "  9%|▊         | 154/1800 [00:00<00:04, 381.72it/s]\n"
     ]
    },
    {
     "name": "stdout",
     "output_type": "stream",
     "text": [
      "Simulation stopped at: 00:00:15.40; speed 37.85 x real time\n",
      "Using random seed: 5010696\n"
     ]
    },
    {
     "name": "stderr",
     "output_type": "stream",
     "text": [
      " 84%|████████▍ | 1511/1800 [00:03<00:00, 429.87it/s]\n"
     ]
    },
    {
     "name": "stdout",
     "output_type": "stream",
     "text": [
      "Simulation stopped at: 00:02:31.10; speed 42.94 x real time\n",
      "Using random seed: 5010696\n"
     ]
    },
    {
     "name": "stderr",
     "output_type": "stream",
     "text": [
      "  3%|▎         | 53/1800 [00:00<00:03, 447.83it/s]\n"
     ]
    },
    {
     "name": "stdout",
     "output_type": "stream",
     "text": [
      "Simulation stopped at: 00:00:05.30; speed 43.3 x real time\n",
      "Using random seed: 5010696\n"
     ]
    },
    {
     "name": "stderr",
     "output_type": "stream",
     "text": [
      "100%|██████████| 1800/1800 [00:04<00:00, 424.06it/s]\n"
     ]
    },
    {
     "name": "stdout",
     "output_type": "stream",
     "text": [
      "Simulation stopped at: 00:03:00.00; speed 42.37 x real time\n",
      "Using random seed: 5010696\n"
     ]
    },
    {
     "name": "stderr",
     "output_type": "stream",
     "text": [
      "  7%|▋         | 126/1800 [00:00<00:04, 381.09it/s]\n"
     ]
    },
    {
     "name": "stdout",
     "output_type": "stream",
     "text": [
      "Simulation stopped at: 00:00:12.60; speed 37.66 x real time\n",
      "Using random seed: 5010696\n"
     ]
    },
    {
     "name": "stderr",
     "output_type": "stream",
     "text": [
      "  9%|▊         | 154/1800 [00:00<00:03, 499.88it/s]\n"
     ]
    },
    {
     "name": "stdout",
     "output_type": "stream",
     "text": [
      "Simulation stopped at: 00:00:15.40; speed 49.4 x real time\n",
      "Generation    3 Best fitness 1.91\n",
      "Using random seed: 5010696\n"
     ]
    },
    {
     "name": "stderr",
     "output_type": "stream",
     "text": [
      " 76%|███████▌  | 1372/1800 [00:03<00:01, 383.79it/s]\n"
     ]
    },
    {
     "name": "stdout",
     "output_type": "stream",
     "text": [
      "Simulation stopped at: 00:02:17.20; speed 38.33 x real time\n",
      "Using random seed: 5010696\n"
     ]
    },
    {
     "name": "stderr",
     "output_type": "stream",
     "text": [
      "100%|██████████| 1800/1800 [00:04<00:00, 365.47it/s]\n"
     ]
    },
    {
     "name": "stdout",
     "output_type": "stream",
     "text": [
      "Simulation stopped at: 00:03:00.00; speed 36.51 x real time\n",
      "Using random seed: 5010696\n"
     ]
    },
    {
     "name": "stderr",
     "output_type": "stream",
     "text": [
      "100%|██████████| 1800/1800 [00:04<00:00, 423.01it/s]\n"
     ]
    },
    {
     "name": "stdout",
     "output_type": "stream",
     "text": [
      "Simulation stopped at: 00:03:00.00; speed 42.25 x real time\n",
      "Using random seed: 5010696\n"
     ]
    },
    {
     "name": "stderr",
     "output_type": "stream",
     "text": [
      "100%|██████████| 1800/1800 [00:04<00:00, 449.65it/s]\n"
     ]
    },
    {
     "name": "stdout",
     "output_type": "stream",
     "text": [
      "Simulation stopped at: 00:03:00.00; speed 44.93 x real time\n",
      "Using random seed: 5010696\n"
     ]
    },
    {
     "name": "stderr",
     "output_type": "stream",
     "text": [
      "100%|██████████| 1800/1800 [00:03<00:00, 474.73it/s]\n"
     ]
    },
    {
     "name": "stdout",
     "output_type": "stream",
     "text": [
      "Simulation stopped at: 00:03:00.00; speed 47.44 x real time\n",
      "Using random seed: 5010696\n"
     ]
    },
    {
     "name": "stderr",
     "output_type": "stream",
     "text": [
      "100%|██████████| 1800/1800 [00:03<00:00, 465.17it/s]\n"
     ]
    },
    {
     "name": "stdout",
     "output_type": "stream",
     "text": [
      "Simulation stopped at: 00:03:00.00; speed 46.47 x real time\n",
      "Using random seed: 5010696\n"
     ]
    },
    {
     "name": "stderr",
     "output_type": "stream",
     "text": [
      "100%|██████████| 1800/1800 [00:03<00:00, 456.77it/s]\n"
     ]
    },
    {
     "name": "stdout",
     "output_type": "stream",
     "text": [
      "Simulation stopped at: 00:03:00.00; speed 45.63 x real time\n",
      "Using random seed: 5010696\n"
     ]
    },
    {
     "name": "stderr",
     "output_type": "stream",
     "text": [
      "100%|██████████| 1800/1800 [00:03<00:00, 467.16it/s]\n"
     ]
    },
    {
     "name": "stdout",
     "output_type": "stream",
     "text": [
      "Simulation stopped at: 00:03:00.00; speed 46.66 x real time\n",
      "Using random seed: 5010696\n"
     ]
    },
    {
     "name": "stderr",
     "output_type": "stream",
     "text": [
      "100%|██████████| 1800/1800 [00:03<00:00, 482.18it/s]\n"
     ]
    },
    {
     "name": "stdout",
     "output_type": "stream",
     "text": [
      "Simulation stopped at: 00:03:00.00; speed 48.16 x real time\n",
      "Using random seed: 5010696\n"
     ]
    },
    {
     "name": "stderr",
     "output_type": "stream",
     "text": [
      " 96%|█████████▌| 1731/1800 [00:03<00:00, 468.00it/s]\n"
     ]
    },
    {
     "name": "stdout",
     "output_type": "stream",
     "text": [
      "Simulation stopped at: 00:02:53.10; speed 46.74 x real time\n",
      "Generation    4 Best fitness 37.65\n",
      "Using random seed: 5010696\n"
     ]
    },
    {
     "name": "stderr",
     "output_type": "stream",
     "text": [
      " 85%|████████▍ | 1529/1800 [00:03<00:00, 458.18it/s]\n"
     ]
    },
    {
     "name": "stdout",
     "output_type": "stream",
     "text": [
      "Simulation stopped at: 00:02:32.90; speed 45.78 x real time\n",
      "Using random seed: 5010696\n"
     ]
    },
    {
     "name": "stderr",
     "output_type": "stream",
     "text": [
      "100%|██████████| 1800/1800 [00:03<00:00, 454.40it/s]\n"
     ]
    },
    {
     "name": "stdout",
     "output_type": "stream",
     "text": [
      "Simulation stopped at: 00:03:00.00; speed 45.4 x real time\n",
      "Using random seed: 5010696\n"
     ]
    },
    {
     "name": "stderr",
     "output_type": "stream",
     "text": [
      "100%|██████████| 1800/1800 [00:03<00:00, 474.06it/s]\n"
     ]
    },
    {
     "name": "stdout",
     "output_type": "stream",
     "text": [
      "Simulation stopped at: 00:03:00.00; speed 47.38 x real time\n",
      "Using random seed: 5010696\n"
     ]
    },
    {
     "name": "stderr",
     "output_type": "stream",
     "text": [
      "100%|██████████| 1800/1800 [00:03<00:00, 463.09it/s]\n"
     ]
    },
    {
     "name": "stdout",
     "output_type": "stream",
     "text": [
      "Simulation stopped at: 00:03:00.00; speed 46.27 x real time\n",
      "Using random seed: 5010696\n"
     ]
    },
    {
     "name": "stderr",
     "output_type": "stream",
     "text": [
      "100%|██████████| 1800/1800 [00:03<00:00, 488.61it/s]\n"
     ]
    },
    {
     "name": "stdout",
     "output_type": "stream",
     "text": [
      "Simulation stopped at: 00:03:00.00; speed 48.81 x real time\n",
      "Using random seed: 5010696\n"
     ]
    },
    {
     "name": "stderr",
     "output_type": "stream",
     "text": [
      "100%|██████████| 1800/1800 [00:03<00:00, 473.13it/s]\n"
     ]
    },
    {
     "name": "stdout",
     "output_type": "stream",
     "text": [
      "Simulation stopped at: 00:03:00.00; speed 47.27 x real time\n",
      "Using random seed: 5010696\n"
     ]
    },
    {
     "name": "stderr",
     "output_type": "stream",
     "text": [
      "100%|██████████| 1800/1800 [00:03<00:00, 455.89it/s]\n"
     ]
    },
    {
     "name": "stdout",
     "output_type": "stream",
     "text": [
      "Simulation stopped at: 00:03:00.00; speed 45.55 x real time\n",
      "Using random seed: 5010696\n"
     ]
    },
    {
     "name": "stderr",
     "output_type": "stream",
     "text": [
      "100%|██████████| 1800/1800 [00:05<00:00, 358.61it/s]\n"
     ]
    },
    {
     "name": "stdout",
     "output_type": "stream",
     "text": [
      "Simulation stopped at: 00:03:00.00; speed 35.79 x real time\n",
      "Using random seed: 5010696\n"
     ]
    },
    {
     "name": "stderr",
     "output_type": "stream",
     "text": [
      "100%|██████████| 1800/1800 [00:04<00:00, 400.85it/s]\n"
     ]
    },
    {
     "name": "stdout",
     "output_type": "stream",
     "text": [
      "Simulation stopped at: 00:03:00.00; speed 40.06 x real time\n",
      "Using random seed: 5010696\n"
     ]
    },
    {
     "name": "stderr",
     "output_type": "stream",
     "text": [
      "100%|██████████| 1800/1800 [00:04<00:00, 389.09it/s]\n"
     ]
    },
    {
     "name": "stdout",
     "output_type": "stream",
     "text": [
      "Simulation stopped at: 00:03:00.00; speed 38.87 x real time\n",
      "Generation    5 Best fitness 40.14\n",
      "Using random seed: 5010696\n"
     ]
    },
    {
     "name": "stderr",
     "output_type": "stream",
     "text": [
      "100%|██████████| 1800/1800 [00:04<00:00, 394.95it/s]\n"
     ]
    },
    {
     "name": "stdout",
     "output_type": "stream",
     "text": [
      "Simulation stopped at: 00:03:00.00; speed 39.47 x real time\n",
      "Using random seed: 5010696\n"
     ]
    },
    {
     "name": "stderr",
     "output_type": "stream",
     "text": [
      "100%|██████████| 1800/1800 [00:04<00:00, 382.35it/s]\n"
     ]
    },
    {
     "name": "stdout",
     "output_type": "stream",
     "text": [
      "Simulation stopped at: 00:03:00.00; speed 38.2 x real time\n",
      "Using random seed: 5010696\n"
     ]
    },
    {
     "name": "stderr",
     "output_type": "stream",
     "text": [
      "100%|██████████| 1800/1800 [00:04<00:00, 424.09it/s]\n"
     ]
    },
    {
     "name": "stdout",
     "output_type": "stream",
     "text": [
      "Simulation stopped at: 00:03:00.00; speed 42.36 x real time\n",
      "Using random seed: 5010696\n"
     ]
    },
    {
     "name": "stderr",
     "output_type": "stream",
     "text": [
      "100%|██████████| 1800/1800 [00:04<00:00, 394.77it/s]\n"
     ]
    },
    {
     "name": "stdout",
     "output_type": "stream",
     "text": [
      "Simulation stopped at: 00:03:00.00; speed 39.45 x real time\n",
      "Using random seed: 5010696\n"
     ]
    },
    {
     "name": "stderr",
     "output_type": "stream",
     "text": [
      "100%|██████████| 1800/1800 [00:04<00:00, 387.21it/s]\n"
     ]
    },
    {
     "name": "stdout",
     "output_type": "stream",
     "text": [
      "Simulation stopped at: 00:03:00.00; speed 38.67 x real time\n",
      "Using random seed: 5010696\n"
     ]
    },
    {
     "name": "stderr",
     "output_type": "stream",
     "text": [
      "100%|██████████| 1800/1800 [00:04<00:00, 412.47it/s]\n"
     ]
    },
    {
     "name": "stdout",
     "output_type": "stream",
     "text": [
      "Simulation stopped at: 00:03:00.00; speed 41.22 x real time\n",
      "Using random seed: 5010696\n"
     ]
    },
    {
     "name": "stderr",
     "output_type": "stream",
     "text": [
      "100%|██████████| 1800/1800 [00:04<00:00, 398.36it/s]\n"
     ]
    },
    {
     "name": "stdout",
     "output_type": "stream",
     "text": [
      "Simulation stopped at: 00:03:00.00; speed 39.8 x real time\n",
      "Using random seed: 5010696\n"
     ]
    },
    {
     "name": "stderr",
     "output_type": "stream",
     "text": [
      "100%|██████████| 1800/1800 [00:04<00:00, 425.62it/s]\n"
     ]
    },
    {
     "name": "stdout",
     "output_type": "stream",
     "text": [
      "Simulation stopped at: 00:03:00.00; speed 42.52 x real time\n",
      "Using random seed: 5010696\n"
     ]
    },
    {
     "name": "stderr",
     "output_type": "stream",
     "text": [
      "100%|██████████| 1800/1800 [00:03<00:00, 451.79it/s]\n"
     ]
    },
    {
     "name": "stdout",
     "output_type": "stream",
     "text": [
      "Simulation stopped at: 00:03:00.00; speed 45.14 x real time\n",
      "Using random seed: 5010696\n"
     ]
    },
    {
     "name": "stderr",
     "output_type": "stream",
     "text": [
      "100%|██████████| 1800/1800 [00:04<00:00, 427.79it/s]\n"
     ]
    },
    {
     "name": "stdout",
     "output_type": "stream",
     "text": [
      "Simulation stopped at: 00:03:00.00; speed 42.74 x real time\n",
      "Generation    6 Best fitness 40.14\n",
      "Using random seed: 5010696\n"
     ]
    },
    {
     "name": "stderr",
     "output_type": "stream",
     "text": [
      "  7%|▋         | 131/1800 [00:00<00:03, 443.63it/s]\n"
     ]
    },
    {
     "name": "stdout",
     "output_type": "stream",
     "text": [
      "Simulation stopped at: 00:00:13.10; speed 43.81 x real time\n",
      "Using random seed: 5010696\n"
     ]
    },
    {
     "name": "stderr",
     "output_type": "stream",
     "text": [
      "100%|██████████| 1800/1800 [00:04<00:00, 449.50it/s]\n"
     ]
    },
    {
     "name": "stdout",
     "output_type": "stream",
     "text": [
      "Simulation stopped at: 00:03:00.00; speed 44.92 x real time\n",
      "Using random seed: 5010696\n"
     ]
    },
    {
     "name": "stderr",
     "output_type": "stream",
     "text": [
      "100%|██████████| 1800/1800 [00:04<00:00, 390.25it/s]\n"
     ]
    },
    {
     "name": "stdout",
     "output_type": "stream",
     "text": [
      "Simulation stopped at: 00:03:00.00; speed 39.0 x real time\n",
      "Using random seed: 5010696\n"
     ]
    },
    {
     "name": "stderr",
     "output_type": "stream",
     "text": [
      "100%|██████████| 1800/1800 [00:04<00:00, 408.66it/s]\n"
     ]
    },
    {
     "name": "stdout",
     "output_type": "stream",
     "text": [
      "Simulation stopped at: 00:03:00.00; speed 40.83 x real time\n",
      "Using random seed: 5010696\n"
     ]
    },
    {
     "name": "stderr",
     "output_type": "stream",
     "text": [
      " 61%|██████    | 1096/1800 [00:02<00:01, 388.67it/s]\n"
     ]
    },
    {
     "name": "stdout",
     "output_type": "stream",
     "text": [
      "Simulation stopped at: 00:01:49.60; speed 38.83 x real time\n",
      "Using random seed: 5010696\n"
     ]
    },
    {
     "name": "stderr",
     "output_type": "stream",
     "text": [
      "100%|██████████| 1800/1800 [00:04<00:00, 364.57it/s]\n"
     ]
    },
    {
     "name": "stdout",
     "output_type": "stream",
     "text": [
      "Simulation stopped at: 00:03:00.00; speed 36.43 x real time\n",
      "Using random seed: 5010696\n"
     ]
    },
    {
     "name": "stderr",
     "output_type": "stream",
     "text": [
      "100%|██████████| 1800/1800 [00:04<00:00, 395.68it/s]\n"
     ]
    },
    {
     "name": "stdout",
     "output_type": "stream",
     "text": [
      "Simulation stopped at: 00:03:00.00; speed 39.52 x real time\n",
      "Using random seed: 5010696\n"
     ]
    },
    {
     "name": "stderr",
     "output_type": "stream",
     "text": [
      "100%|██████████| 1800/1800 [00:04<00:00, 372.37it/s]\n"
     ]
    },
    {
     "name": "stdout",
     "output_type": "stream",
     "text": [
      "Simulation stopped at: 00:03:00.00; speed 37.2 x real time\n",
      "Using random seed: 5010696\n"
     ]
    },
    {
     "name": "stderr",
     "output_type": "stream",
     "text": [
      "100%|██████████| 1800/1800 [00:04<00:00, 405.30it/s]\n"
     ]
    },
    {
     "name": "stdout",
     "output_type": "stream",
     "text": [
      "Simulation stopped at: 00:03:00.00; speed 40.49 x real time\n",
      "Using random seed: 5010696\n"
     ]
    },
    {
     "name": "stderr",
     "output_type": "stream",
     "text": [
      "100%|██████████| 1800/1800 [00:04<00:00, 382.57it/s]\n"
     ]
    },
    {
     "name": "stdout",
     "output_type": "stream",
     "text": [
      "Simulation stopped at: 00:03:00.00; speed 38.23 x real time\n",
      "Generation    7 Best fitness 40.14\n",
      "Using random seed: 5010696\n"
     ]
    },
    {
     "name": "stderr",
     "output_type": "stream",
     "text": [
      " 95%|█████████▌| 1717/1800 [00:04<00:00, 394.60it/s]\n"
     ]
    },
    {
     "name": "stdout",
     "output_type": "stream",
     "text": [
      "Simulation stopped at: 00:02:51.70; speed 39.42 x real time\n",
      "Using random seed: 5010696\n"
     ]
    },
    {
     "name": "stderr",
     "output_type": "stream",
     "text": [
      "100%|██████████| 1800/1800 [00:04<00:00, 390.95it/s]\n"
     ]
    },
    {
     "name": "stdout",
     "output_type": "stream",
     "text": [
      "Simulation stopped at: 00:03:00.00; speed 39.06 x real time\n",
      "Using random seed: 5010696\n"
     ]
    },
    {
     "name": "stderr",
     "output_type": "stream",
     "text": [
      "100%|██████████| 1800/1800 [00:04<00:00, 411.25it/s]\n"
     ]
    },
    {
     "name": "stdout",
     "output_type": "stream",
     "text": [
      "Simulation stopped at: 00:03:00.00; speed 41.09 x real time\n",
      "Using random seed: 5010696\n"
     ]
    },
    {
     "name": "stderr",
     "output_type": "stream",
     "text": [
      "100%|██████████| 1800/1800 [00:04<00:00, 386.59it/s]\n"
     ]
    },
    {
     "name": "stdout",
     "output_type": "stream",
     "text": [
      "Simulation stopped at: 00:03:00.00; speed 38.62 x real time\n",
      "Using random seed: 5010696\n"
     ]
    },
    {
     "name": "stderr",
     "output_type": "stream",
     "text": [
      " 48%|████▊     | 872/1800 [00:02<00:02, 410.09it/s]\n"
     ]
    },
    {
     "name": "stdout",
     "output_type": "stream",
     "text": [
      "Simulation stopped at: 00:01:27.20; speed 40.92 x real time\n",
      "Using random seed: 5010696\n"
     ]
    },
    {
     "name": "stderr",
     "output_type": "stream",
     "text": [
      "100%|██████████| 1800/1800 [00:04<00:00, 398.39it/s]\n"
     ]
    },
    {
     "name": "stdout",
     "output_type": "stream",
     "text": [
      "Simulation stopped at: 00:03:00.00; speed 39.81 x real time\n",
      "Using random seed: 5010696\n"
     ]
    },
    {
     "name": "stderr",
     "output_type": "stream",
     "text": [
      "100%|██████████| 1800/1800 [00:04<00:00, 414.52it/s]\n"
     ]
    },
    {
     "name": "stdout",
     "output_type": "stream",
     "text": [
      "Simulation stopped at: 00:03:00.00; speed 41.41 x real time\n",
      "Using random seed: 5010696\n"
     ]
    },
    {
     "name": "stderr",
     "output_type": "stream",
     "text": [
      "100%|██████████| 1800/1800 [00:04<00:00, 391.85it/s]\n"
     ]
    },
    {
     "name": "stdout",
     "output_type": "stream",
     "text": [
      "Simulation stopped at: 00:03:00.00; speed 39.15 x real time\n",
      "Using random seed: 5010696\n"
     ]
    },
    {
     "name": "stderr",
     "output_type": "stream",
     "text": [
      "100%|██████████| 1800/1800 [00:04<00:00, 416.27it/s]\n"
     ]
    },
    {
     "name": "stdout",
     "output_type": "stream",
     "text": [
      "Simulation stopped at: 00:03:00.00; speed 41.59 x real time\n",
      "Using random seed: 5010696\n"
     ]
    },
    {
     "name": "stderr",
     "output_type": "stream",
     "text": [
      "100%|██████████| 1800/1800 [00:04<00:00, 404.55it/s]\n"
     ]
    },
    {
     "name": "stdout",
     "output_type": "stream",
     "text": [
      "Simulation stopped at: 00:03:00.00; speed 40.43 x real time\n",
      "Generation    8 Best fitness 40.14\n",
      "Using random seed: 5010696\n"
     ]
    },
    {
     "name": "stderr",
     "output_type": "stream",
     "text": [
      "100%|██████████| 1800/1800 [00:04<00:00, 393.42it/s]\n"
     ]
    },
    {
     "name": "stdout",
     "output_type": "stream",
     "text": [
      "Simulation stopped at: 00:03:00.00; speed 39.3 x real time\n",
      "Using random seed: 5010696\n"
     ]
    },
    {
     "name": "stderr",
     "output_type": "stream",
     "text": [
      "100%|██████████| 1800/1800 [00:04<00:00, 393.92it/s]\n"
     ]
    },
    {
     "name": "stdout",
     "output_type": "stream",
     "text": [
      "Simulation stopped at: 00:03:00.00; speed 39.35 x real time\n",
      "Using random seed: 5010696\n"
     ]
    },
    {
     "name": "stderr",
     "output_type": "stream",
     "text": [
      "100%|██████████| 1800/1800 [00:04<00:00, 397.73it/s]\n"
     ]
    },
    {
     "name": "stdout",
     "output_type": "stream",
     "text": [
      "Simulation stopped at: 00:03:00.00; speed 39.74 x real time\n",
      "Using random seed: 5010696\n"
     ]
    },
    {
     "name": "stderr",
     "output_type": "stream",
     "text": [
      "100%|██████████| 1800/1800 [00:04<00:00, 396.96it/s]\n"
     ]
    },
    {
     "name": "stdout",
     "output_type": "stream",
     "text": [
      "Simulation stopped at: 00:03:00.00; speed 39.67 x real time\n",
      "Using random seed: 5010696\n"
     ]
    },
    {
     "name": "stderr",
     "output_type": "stream",
     "text": [
      " 11%|█         | 198/1800 [00:00<00:04, 362.46it/s]\n"
     ]
    },
    {
     "name": "stdout",
     "output_type": "stream",
     "text": [
      "Simulation stopped at: 00:00:19.80; speed 35.96 x real time\n",
      "Using random seed: 5010696\n"
     ]
    },
    {
     "name": "stderr",
     "output_type": "stream",
     "text": [
      "100%|██████████| 1800/1800 [00:04<00:00, 388.51it/s]\n"
     ]
    },
    {
     "name": "stdout",
     "output_type": "stream",
     "text": [
      "Simulation stopped at: 00:03:00.00; speed 38.82 x real time\n",
      "Using random seed: 5010696\n"
     ]
    },
    {
     "name": "stderr",
     "output_type": "stream",
     "text": [
      "100%|██████████| 1800/1800 [00:04<00:00, 391.68it/s]\n"
     ]
    },
    {
     "name": "stdout",
     "output_type": "stream",
     "text": [
      "Simulation stopped at: 00:03:00.00; speed 39.11 x real time\n",
      "Using random seed: 5010696\n"
     ]
    },
    {
     "name": "stderr",
     "output_type": "stream",
     "text": [
      "100%|██████████| 1800/1800 [00:04<00:00, 396.54it/s]\n"
     ]
    },
    {
     "name": "stdout",
     "output_type": "stream",
     "text": [
      "Simulation stopped at: 00:03:00.00; speed 39.61 x real time\n",
      "Using random seed: 5010696\n"
     ]
    },
    {
     "name": "stderr",
     "output_type": "stream",
     "text": [
      "100%|██████████| 1800/1800 [00:04<00:00, 394.51it/s]\n"
     ]
    },
    {
     "name": "stdout",
     "output_type": "stream",
     "text": [
      "Simulation stopped at: 00:03:00.00; speed 39.41 x real time\n",
      "Using random seed: 5010696\n"
     ]
    },
    {
     "name": "stderr",
     "output_type": "stream",
     "text": [
      "100%|██████████| 1800/1800 [00:05<00:00, 316.42it/s]\n"
     ]
    },
    {
     "name": "stdout",
     "output_type": "stream",
     "text": [
      "Simulation stopped at: 00:03:00.00; speed 31.62 x real time\n",
      "Generation    9 Best fitness 40.14\n",
      "Using random seed: 5010696\n"
     ]
    },
    {
     "name": "stderr",
     "output_type": "stream",
     "text": [
      "100%|██████████| 1800/1800 [00:05<00:00, 327.40it/s]\n"
     ]
    },
    {
     "name": "stdout",
     "output_type": "stream",
     "text": [
      "Simulation stopped at: 00:03:00.00; speed 32.71 x real time\n",
      "Using random seed: 5010696\n"
     ]
    },
    {
     "name": "stderr",
     "output_type": "stream",
     "text": [
      "100%|██████████| 1800/1800 [00:05<00:00, 339.11it/s]\n"
     ]
    },
    {
     "name": "stdout",
     "output_type": "stream",
     "text": [
      "Simulation stopped at: 00:03:00.00; speed 33.87 x real time\n",
      "Using random seed: 5010696\n"
     ]
    },
    {
     "name": "stderr",
     "output_type": "stream",
     "text": [
      "100%|██████████| 1800/1800 [00:05<00:00, 324.83it/s]\n"
     ]
    },
    {
     "name": "stdout",
     "output_type": "stream",
     "text": [
      "Simulation stopped at: 00:03:00.00; speed 32.45 x real time\n",
      "Using random seed: 5010696\n"
     ]
    },
    {
     "name": "stderr",
     "output_type": "stream",
     "text": [
      "100%|██████████| 1800/1800 [00:05<00:00, 329.89it/s]\n"
     ]
    },
    {
     "name": "stdout",
     "output_type": "stream",
     "text": [
      "Simulation stopped at: 00:03:00.00; speed 32.95 x real time\n",
      "Using random seed: 5010696\n"
     ]
    },
    {
     "name": "stderr",
     "output_type": "stream",
     "text": [
      "100%|██████████| 1800/1800 [00:05<00:00, 343.59it/s]\n"
     ]
    },
    {
     "name": "stdout",
     "output_type": "stream",
     "text": [
      "Simulation stopped at: 00:03:00.00; speed 34.3 x real time\n",
      "Using random seed: 5010696\n"
     ]
    },
    {
     "name": "stderr",
     "output_type": "stream",
     "text": [
      "100%|██████████| 1800/1800 [00:05<00:00, 354.80it/s]\n"
     ]
    },
    {
     "name": "stdout",
     "output_type": "stream",
     "text": [
      "Simulation stopped at: 00:03:00.00; speed 35.46 x real time\n",
      "Using random seed: 5010696\n"
     ]
    },
    {
     "name": "stderr",
     "output_type": "stream",
     "text": [
      "100%|██████████| 1800/1800 [00:05<00:00, 343.64it/s]\n"
     ]
    },
    {
     "name": "stdout",
     "output_type": "stream",
     "text": [
      "Simulation stopped at: 00:03:00.00; speed 34.33 x real time\n",
      "Using random seed: 5010696\n"
     ]
    },
    {
     "name": "stderr",
     "output_type": "stream",
     "text": [
      "100%|██████████| 1800/1800 [00:05<00:00, 341.08it/s]\n"
     ]
    },
    {
     "name": "stdout",
     "output_type": "stream",
     "text": [
      "Simulation stopped at: 00:03:00.00; speed 34.08 x real time\n",
      "Using random seed: 5010696\n"
     ]
    },
    {
     "name": "stderr",
     "output_type": "stream",
     "text": [
      "100%|██████████| 1800/1800 [00:04<00:00, 361.32it/s]\n"
     ]
    },
    {
     "name": "stdout",
     "output_type": "stream",
     "text": [
      "Simulation stopped at: 00:03:00.00; speed 36.09 x real time\n",
      "Using random seed: 5010696\n"
     ]
    },
    {
     "name": "stderr",
     "output_type": "stream",
     "text": [
      "100%|██████████| 1800/1800 [00:04<00:00, 374.69it/s]\n"
     ]
    },
    {
     "name": "stdout",
     "output_type": "stream",
     "text": [
      "Simulation stopped at: 00:03:00.00; speed 37.45 x real time\n",
      "Generation   10 Best fitness 40.14\n",
      "Using random seed: 5010696\n"
     ]
    },
    {
     "name": "stderr",
     "output_type": "stream",
     "text": [
      "100%|██████████| 1800/1800 [00:04<00:00, 365.32it/s]\n"
     ]
    },
    {
     "name": "stdout",
     "output_type": "stream",
     "text": [
      "Simulation stopped at: 00:03:00.00; speed 36.5 x real time\n",
      "Using random seed: 5010696\n"
     ]
    },
    {
     "name": "stderr",
     "output_type": "stream",
     "text": [
      "100%|██████████| 1800/1800 [00:04<00:00, 394.83it/s]\n"
     ]
    },
    {
     "name": "stdout",
     "output_type": "stream",
     "text": [
      "Simulation stopped at: 00:03:00.00; speed 39.44 x real time\n",
      "Using random seed: 5010696\n"
     ]
    },
    {
     "name": "stderr",
     "output_type": "stream",
     "text": [
      "100%|██████████| 1800/1800 [00:04<00:00, 376.25it/s]\n"
     ]
    },
    {
     "name": "stdout",
     "output_type": "stream",
     "text": [
      "Simulation stopped at: 00:03:00.00; speed 37.6 x real time\n",
      "Using random seed: 5010696\n"
     ]
    },
    {
     "name": "stderr",
     "output_type": "stream",
     "text": [
      "100%|██████████| 1800/1800 [00:04<00:00, 365.00it/s]\n"
     ]
    },
    {
     "name": "stdout",
     "output_type": "stream",
     "text": [
      "Simulation stopped at: 00:03:00.00; speed 36.48 x real time\n",
      "Using random seed: 5010696\n"
     ]
    },
    {
     "name": "stderr",
     "output_type": "stream",
     "text": [
      "100%|██████████| 1800/1800 [00:05<00:00, 355.82it/s]\n"
     ]
    },
    {
     "name": "stdout",
     "output_type": "stream",
     "text": [
      "Simulation stopped at: 00:03:00.00; speed 35.43 x real time\n",
      "Using random seed: 5010696\n"
     ]
    },
    {
     "name": "stderr",
     "output_type": "stream",
     "text": [
      "100%|██████████| 1800/1800 [00:05<00:00, 354.83it/s]\n"
     ]
    },
    {
     "name": "stdout",
     "output_type": "stream",
     "text": [
      "Simulation stopped at: 00:03:00.00; speed 35.43 x real time\n",
      "Using random seed: 5010696\n"
     ]
    },
    {
     "name": "stderr",
     "output_type": "stream",
     "text": [
      "100%|██████████| 1800/1800 [00:05<00:00, 333.07it/s]\n"
     ]
    },
    {
     "name": "stdout",
     "output_type": "stream",
     "text": [
      "Simulation stopped at: 00:03:00.00; speed 33.27 x real time\n",
      "Using random seed: 5010696\n"
     ]
    },
    {
     "name": "stderr",
     "output_type": "stream",
     "text": [
      "100%|██████████| 1800/1800 [00:05<00:00, 333.46it/s]\n"
     ]
    },
    {
     "name": "stdout",
     "output_type": "stream",
     "text": [
      "Simulation stopped at: 00:03:00.00; speed 33.32 x real time\n",
      "Using random seed: 5010696\n"
     ]
    },
    {
     "name": "stderr",
     "output_type": "stream",
     "text": [
      "100%|██████████| 1800/1800 [00:04<00:00, 361.88it/s]\n"
     ]
    },
    {
     "name": "stdout",
     "output_type": "stream",
     "text": [
      "Simulation stopped at: 00:03:00.00; speed 36.15 x real time\n",
      "Using random seed: 5010696\n"
     ]
    },
    {
     "name": "stderr",
     "output_type": "stream",
     "text": [
      "100%|██████████| 1800/1800 [00:05<00:00, 320.21it/s]\n"
     ]
    },
    {
     "name": "stdout",
     "output_type": "stream",
     "text": [
      "Simulation stopped at: 00:03:00.00; speed 31.99 x real time\n",
      "Generation   11 Best fitness 40.14\n",
      "Using random seed: 5010696\n"
     ]
    },
    {
     "name": "stderr",
     "output_type": "stream",
     "text": [
      " 78%|███████▊  | 1398/1800 [00:04<00:01, 336.38it/s]\n"
     ]
    },
    {
     "name": "stdout",
     "output_type": "stream",
     "text": [
      "Simulation stopped at: 00:02:19.80; speed 33.61 x real time\n",
      "Using random seed: 5010696\n"
     ]
    },
    {
     "name": "stderr",
     "output_type": "stream",
     "text": [
      "100%|██████████| 1800/1800 [00:04<00:00, 371.43it/s]\n"
     ]
    },
    {
     "name": "stdout",
     "output_type": "stream",
     "text": [
      "Simulation stopped at: 00:03:00.00; speed 37.11 x real time\n",
      "Using random seed: 5010696\n"
     ]
    },
    {
     "name": "stderr",
     "output_type": "stream",
     "text": [
      "100%|██████████| 1800/1800 [00:04<00:00, 376.16it/s]\n"
     ]
    },
    {
     "name": "stdout",
     "output_type": "stream",
     "text": [
      "Simulation stopped at: 00:03:00.00; speed 37.58 x real time\n",
      "Using random seed: 5010696\n"
     ]
    },
    {
     "name": "stderr",
     "output_type": "stream",
     "text": [
      "100%|██████████| 1800/1800 [00:04<00:00, 366.57it/s]\n"
     ]
    },
    {
     "name": "stdout",
     "output_type": "stream",
     "text": [
      "Simulation stopped at: 00:03:00.00; speed 36.63 x real time\n",
      "Using random seed: 5010696\n"
     ]
    },
    {
     "name": "stderr",
     "output_type": "stream",
     "text": [
      "100%|██████████| 1800/1800 [00:04<00:00, 365.71it/s]\n"
     ]
    },
    {
     "name": "stdout",
     "output_type": "stream",
     "text": [
      "Simulation stopped at: 00:03:00.00; speed 36.53 x real time\n",
      "Using random seed: 5010696\n"
     ]
    },
    {
     "name": "stderr",
     "output_type": "stream",
     "text": [
      "100%|██████████| 1800/1800 [00:04<00:00, 365.02it/s]\n"
     ]
    },
    {
     "name": "stdout",
     "output_type": "stream",
     "text": [
      "Simulation stopped at: 00:03:00.00; speed 36.47 x real time\n",
      "Using random seed: 5010696\n"
     ]
    },
    {
     "name": "stderr",
     "output_type": "stream",
     "text": [
      "100%|██████████| 1800/1800 [00:04<00:00, 376.48it/s]\n"
     ]
    },
    {
     "name": "stdout",
     "output_type": "stream",
     "text": [
      "Simulation stopped at: 00:03:00.00; speed 37.62 x real time\n",
      "Using random seed: 5010696\n"
     ]
    },
    {
     "name": "stderr",
     "output_type": "stream",
     "text": [
      "100%|██████████| 1800/1800 [00:04<00:00, 383.87it/s]\n"
     ]
    },
    {
     "name": "stdout",
     "output_type": "stream",
     "text": [
      "Simulation stopped at: 00:03:00.00; speed 38.35 x real time\n",
      "Using random seed: 5010696\n"
     ]
    },
    {
     "name": "stderr",
     "output_type": "stream",
     "text": [
      "100%|██████████| 1800/1800 [00:04<00:00, 362.27it/s]\n"
     ]
    },
    {
     "name": "stdout",
     "output_type": "stream",
     "text": [
      "Simulation stopped at: 00:03:00.00; speed 36.19 x real time\n",
      "Using random seed: 5010696\n"
     ]
    },
    {
     "name": "stderr",
     "output_type": "stream",
     "text": [
      "100%|██████████| 1800/1800 [00:05<00:00, 359.22it/s]\n"
     ]
    },
    {
     "name": "stdout",
     "output_type": "stream",
     "text": [
      "Simulation stopped at: 00:03:00.00; speed 35.89 x real time\n",
      "Generation   12 Best fitness 40.14\n",
      "Using random seed: 5010696\n"
     ]
    },
    {
     "name": "stderr",
     "output_type": "stream",
     "text": [
      " 36%|███▌      | 646/1800 [00:02<00:03, 318.69it/s]\n"
     ]
    },
    {
     "name": "stdout",
     "output_type": "stream",
     "text": [
      "Simulation stopped at: 00:01:04.60; speed 31.79 x real time\n",
      "Using random seed: 5010696\n"
     ]
    },
    {
     "name": "stderr",
     "output_type": "stream",
     "text": [
      "100%|██████████| 1800/1800 [00:05<00:00, 345.47it/s]\n"
     ]
    },
    {
     "name": "stdout",
     "output_type": "stream",
     "text": [
      "Simulation stopped at: 00:03:00.00; speed 34.51 x real time\n",
      "Using random seed: 5010696\n"
     ]
    },
    {
     "name": "stderr",
     "output_type": "stream",
     "text": [
      "100%|██████████| 1800/1800 [00:06<00:00, 270.11it/s]\n"
     ]
    },
    {
     "name": "stdout",
     "output_type": "stream",
     "text": [
      "Simulation stopped at: 00:03:00.00; speed 27.0 x real time\n",
      "Using random seed: 5010696\n"
     ]
    },
    {
     "name": "stderr",
     "output_type": "stream",
     "text": [
      "  1%|▏         | 25/1800 [00:00<00:04, 410.42it/s]\n"
     ]
    },
    {
     "name": "stdout",
     "output_type": "stream",
     "text": [
      "Simulation stopped at: 00:00:02.50; speed 39.05 x real time\n",
      "Using random seed: 5010696\n"
     ]
    },
    {
     "name": "stderr",
     "output_type": "stream",
     "text": [
      "100%|██████████| 1800/1800 [00:04<00:00, 375.50it/s]\n"
     ]
    },
    {
     "name": "stdout",
     "output_type": "stream",
     "text": [
      "Simulation stopped at: 00:03:00.00; speed 37.51 x real time\n",
      "Using random seed: 5010696\n"
     ]
    },
    {
     "name": "stderr",
     "output_type": "stream",
     "text": [
      "100%|██████████| 1800/1800 [00:04<00:00, 381.80it/s]\n"
     ]
    },
    {
     "name": "stdout",
     "output_type": "stream",
     "text": [
      "Simulation stopped at: 00:03:00.00; speed 38.07 x real time\n",
      "Using random seed: 5010696\n"
     ]
    },
    {
     "name": "stderr",
     "output_type": "stream",
     "text": [
      "  4%|▎         | 67/1800 [00:00<00:03, 441.98it/s]\n"
     ]
    },
    {
     "name": "stdout",
     "output_type": "stream",
     "text": [
      "Simulation stopped at: 00:00:06.70; speed 43.31 x real time\n",
      "Using random seed: 5010696\n"
     ]
    },
    {
     "name": "stderr",
     "output_type": "stream",
     "text": [
      "  1%|          | 22/1800 [00:00<00:04, 401.59it/s]\n"
     ]
    },
    {
     "name": "stdout",
     "output_type": "stream",
     "text": [
      "Simulation stopped at: 00:00:02.20; speed 37.35 x real time\n",
      "Using random seed: 5010696\n"
     ]
    },
    {
     "name": "stderr",
     "output_type": "stream",
     "text": [
      "100%|██████████| 1800/1800 [00:04<00:00, 381.01it/s]\n"
     ]
    },
    {
     "name": "stdout",
     "output_type": "stream",
     "text": [
      "Simulation stopped at: 00:03:00.00; speed 38.06 x real time\n",
      "Using random seed: 5010696\n"
     ]
    },
    {
     "name": "stderr",
     "output_type": "stream",
     "text": [
      "100%|██████████| 1800/1800 [00:04<00:00, 373.62it/s]\n"
     ]
    },
    {
     "name": "stdout",
     "output_type": "stream",
     "text": [
      "Simulation stopped at: 00:03:00.00; speed 37.33 x real time\n",
      "Generation   13 Best fitness 40.14\n",
      "Using random seed: 5010696\n"
     ]
    },
    {
     "name": "stderr",
     "output_type": "stream",
     "text": [
      "  1%|          | 19/1800 [00:00<00:09, 196.84it/s]\n"
     ]
    },
    {
     "name": "stdout",
     "output_type": "stream",
     "text": [
      "Simulation stopped at: 00:00:01.90; speed 18.62 x real time\n",
      "Using random seed: 5010696\n"
     ]
    },
    {
     "name": "stderr",
     "output_type": "stream",
     "text": [
      "100%|██████████| 1800/1800 [00:04<00:00, 408.87it/s]\n"
     ]
    },
    {
     "name": "stdout",
     "output_type": "stream",
     "text": [
      "Simulation stopped at: 00:03:00.00; speed 40.86 x real time\n",
      "Using random seed: 5010696\n"
     ]
    },
    {
     "name": "stderr",
     "output_type": "stream",
     "text": [
      "100%|██████████| 1800/1800 [00:04<00:00, 395.68it/s]\n"
     ]
    },
    {
     "name": "stdout",
     "output_type": "stream",
     "text": [
      "Simulation stopped at: 00:03:00.00; speed 39.52 x real time\n",
      "Using random seed: 5010696\n"
     ]
    },
    {
     "name": "stderr",
     "output_type": "stream",
     "text": [
      " 15%|█▌        | 272/1800 [00:00<00:04, 364.02it/s]\n"
     ]
    },
    {
     "name": "stdout",
     "output_type": "stream",
     "text": [
      "Simulation stopped at: 00:00:27.20; speed 36.26 x real time\n",
      "Using random seed: 5010696\n"
     ]
    },
    {
     "name": "stderr",
     "output_type": "stream",
     "text": [
      "100%|██████████| 1800/1800 [00:04<00:00, 400.08it/s]\n"
     ]
    },
    {
     "name": "stdout",
     "output_type": "stream",
     "text": [
      "Simulation stopped at: 00:03:00.00; speed 39.97 x real time\n",
      "Using random seed: 5010696\n"
     ]
    },
    {
     "name": "stderr",
     "output_type": "stream",
     "text": [
      "100%|██████████| 1800/1800 [00:05<00:00, 353.18it/s]\n"
     ]
    },
    {
     "name": "stdout",
     "output_type": "stream",
     "text": [
      "Simulation stopped at: 00:03:00.00; speed 35.29 x real time\n",
      "Using random seed: 5010696\n"
     ]
    },
    {
     "name": "stderr",
     "output_type": "stream",
     "text": [
      "  2%|▏         | 32/1800 [00:00<00:04, 375.28it/s]\n"
     ]
    },
    {
     "name": "stdout",
     "output_type": "stream",
     "text": [
      "Simulation stopped at: 00:00:03.20; speed 35.97 x real time\n",
      "Using random seed: 5010696\n"
     ]
    },
    {
     "name": "stderr",
     "output_type": "stream",
     "text": [
      " 33%|███▎      | 597/1800 [00:01<00:03, 363.80it/s]\n"
     ]
    },
    {
     "name": "stdout",
     "output_type": "stream",
     "text": [
      "Simulation stopped at: 00:00:59.70; speed 36.29 x real time\n",
      "Using random seed: 5010696\n"
     ]
    },
    {
     "name": "stderr",
     "output_type": "stream",
     "text": [
      "100%|██████████| 1800/1800 [00:04<00:00, 384.66it/s]\n"
     ]
    },
    {
     "name": "stdout",
     "output_type": "stream",
     "text": [
      "Simulation stopped at: 00:03:00.00; speed 38.43 x real time\n",
      "Using random seed: 5010696\n"
     ]
    },
    {
     "name": "stderr",
     "output_type": "stream",
     "text": [
      "100%|██████████| 1800/1800 [00:04<00:00, 407.55it/s]\n"
     ]
    },
    {
     "name": "stdout",
     "output_type": "stream",
     "text": [
      "Simulation stopped at: 00:03:00.00; speed 40.72 x real time\n",
      "Generation   14 Best fitness 43.07\n",
      "Using random seed: 5010696\n"
     ]
    },
    {
     "name": "stderr",
     "output_type": "stream",
     "text": [
      "  1%|          | 18/1800 [00:00<00:04, 361.09it/s]\n"
     ]
    },
    {
     "name": "stdout",
     "output_type": "stream",
     "text": [
      "Simulation stopped at: 00:00:01.80; speed 33.01 x real time\n",
      "Using random seed: 5010696\n"
     ]
    },
    {
     "name": "stderr",
     "output_type": "stream",
     "text": [
      "100%|██████████| 1800/1800 [00:04<00:00, 385.65it/s]\n"
     ]
    },
    {
     "name": "stdout",
     "output_type": "stream",
     "text": [
      "Simulation stopped at: 00:03:00.00; speed 38.52 x real time\n",
      "Using random seed: 5010696\n"
     ]
    },
    {
     "name": "stderr",
     "output_type": "stream",
     "text": [
      "100%|██████████| 1800/1800 [00:04<00:00, 388.41it/s]\n"
     ]
    },
    {
     "name": "stdout",
     "output_type": "stream",
     "text": [
      "Simulation stopped at: 00:03:00.00; speed 38.8 x real time\n",
      "Using random seed: 5010696\n"
     ]
    },
    {
     "name": "stderr",
     "output_type": "stream",
     "text": [
      "100%|██████████| 1800/1800 [00:04<00:00, 372.38it/s]\n"
     ]
    },
    {
     "name": "stdout",
     "output_type": "stream",
     "text": [
      "Simulation stopped at: 00:03:00.00; speed 37.21 x real time\n",
      "Using random seed: 5010696\n"
     ]
    },
    {
     "name": "stderr",
     "output_type": "stream",
     "text": [
      " 78%|███████▊  | 1397/1800 [00:04<00:01, 282.00it/s]\n"
     ]
    },
    {
     "name": "stdout",
     "output_type": "stream",
     "text": [
      "Simulation stopped at: 00:02:19.70; speed 28.18 x real time\n",
      "Using random seed: 5010696\n"
     ]
    },
    {
     "name": "stderr",
     "output_type": "stream",
     "text": [
      "100%|██████████| 1800/1800 [00:06<00:00, 269.99it/s]\n"
     ]
    },
    {
     "name": "stdout",
     "output_type": "stream",
     "text": [
      "Simulation stopped at: 00:03:00.00; speed 26.96 x real time\n",
      "Using random seed: 5010696\n"
     ]
    },
    {
     "name": "stderr",
     "output_type": "stream",
     "text": [
      "  1%|          | 18/1800 [00:00<00:06, 284.54it/s]\n"
     ]
    },
    {
     "name": "stdout",
     "output_type": "stream",
     "text": [
      "Simulation stopped at: 00:00:01.80; speed 26.5 x real time\n",
      "Using random seed: 5010696\n"
     ]
    },
    {
     "name": "stderr",
     "output_type": "stream",
     "text": [
      " 18%|█▊        | 330/1800 [00:01<00:04, 329.48it/s]\n"
     ]
    },
    {
     "name": "stdout",
     "output_type": "stream",
     "text": [
      "Simulation stopped at: 00:00:33.00; speed 32.76 x real time\n",
      "Using random seed: 5010696\n"
     ]
    },
    {
     "name": "stderr",
     "output_type": "stream",
     "text": [
      "100%|██████████| 1800/1800 [00:06<00:00, 281.60it/s]\n"
     ]
    },
    {
     "name": "stdout",
     "output_type": "stream",
     "text": [
      "Simulation stopped at: 00:03:00.00; speed 28.13 x real time\n",
      "Using random seed: 5010696\n"
     ]
    },
    {
     "name": "stderr",
     "output_type": "stream",
     "text": [
      "100%|██████████| 1800/1800 [00:07<00:00, 230.54it/s]\n"
     ]
    },
    {
     "name": "stdout",
     "output_type": "stream",
     "text": [
      "Simulation stopped at: 00:03:00.00; speed 23.04 x real time\n",
      "Generation   15 Best fitness 51.54\n",
      "Using random seed: 5010696\n"
     ]
    },
    {
     "name": "stderr",
     "output_type": "stream",
     "text": [
      "  1%|▏         | 23/1800 [00:00<00:05, 314.79it/s]\n"
     ]
    },
    {
     "name": "stdout",
     "output_type": "stream",
     "text": [
      "Simulation stopped at: 00:00:02.30; speed 29.74 x real time\n",
      "Using random seed: 5010696\n"
     ]
    },
    {
     "name": "stderr",
     "output_type": "stream",
     "text": [
      "100%|██████████| 1800/1800 [00:07<00:00, 248.92it/s]\n"
     ]
    },
    {
     "name": "stdout",
     "output_type": "stream",
     "text": [
      "Simulation stopped at: 00:03:00.00; speed 24.88 x real time\n",
      "Using random seed: 5010696\n"
     ]
    },
    {
     "name": "stderr",
     "output_type": "stream",
     "text": [
      "100%|██████████| 1800/1800 [00:05<00:00, 310.76it/s]\n"
     ]
    },
    {
     "name": "stdout",
     "output_type": "stream",
     "text": [
      "Simulation stopped at: 00:03:00.00; speed 31.04 x real time\n",
      "Using random seed: 5010696\n"
     ]
    },
    {
     "name": "stderr",
     "output_type": "stream",
     "text": [
      "100%|██████████| 1800/1800 [00:04<00:00, 368.14it/s]\n"
     ]
    },
    {
     "name": "stdout",
     "output_type": "stream",
     "text": [
      "Simulation stopped at: 00:03:00.00; speed 36.78 x real time\n",
      "Using random seed: 5010696\n"
     ]
    },
    {
     "name": "stderr",
     "output_type": "stream",
     "text": [
      "  6%|▌         | 110/1800 [00:00<00:03, 445.79it/s]\n"
     ]
    },
    {
     "name": "stdout",
     "output_type": "stream",
     "text": [
      "Simulation stopped at: 00:00:11.00; speed 44.1 x real time\n",
      "Using random seed: 5010696\n"
     ]
    },
    {
     "name": "stderr",
     "output_type": "stream",
     "text": [
      "100%|██████████| 1800/1800 [00:04<00:00, 378.67it/s]\n"
     ]
    },
    {
     "name": "stdout",
     "output_type": "stream",
     "text": [
      "Simulation stopped at: 00:03:00.00; speed 37.84 x real time\n",
      "Using random seed: 5010696\n"
     ]
    },
    {
     "name": "stderr",
     "output_type": "stream",
     "text": [
      "  1%|          | 16/1800 [00:00<00:07, 252.89it/s]\n"
     ]
    },
    {
     "name": "stdout",
     "output_type": "stream",
     "text": [
      "Simulation stopped at: 00:00:01.60; speed 23.12 x real time\n",
      "Using random seed: 5010696\n"
     ]
    },
    {
     "name": "stderr",
     "output_type": "stream",
     "text": [
      " 17%|█▋        | 301/1800 [00:00<00:04, 340.61it/s]\n"
     ]
    },
    {
     "name": "stdout",
     "output_type": "stream",
     "text": [
      "Simulation stopped at: 00:00:30.10; speed 33.8 x real time\n",
      "Using random seed: 5010696\n"
     ]
    },
    {
     "name": "stderr",
     "output_type": "stream",
     "text": [
      "100%|██████████| 1800/1800 [00:04<00:00, 368.86it/s]\n"
     ]
    },
    {
     "name": "stdout",
     "output_type": "stream",
     "text": [
      "Simulation stopped at: 00:03:00.00; speed 36.86 x real time\n",
      "Using random seed: 5010696\n"
     ]
    },
    {
     "name": "stderr",
     "output_type": "stream",
     "text": [
      "100%|██████████| 1800/1800 [00:04<00:00, 363.06it/s]\n"
     ]
    },
    {
     "name": "stdout",
     "output_type": "stream",
     "text": [
      "Simulation stopped at: 00:03:00.00; speed 36.26 x real time\n",
      "Generation   16 Best fitness 51.54\n",
      "Using random seed: 5010696\n"
     ]
    },
    {
     "name": "stderr",
     "output_type": "stream",
     "text": [
      "  1%|          | 18/1800 [00:00<00:15, 115.81it/s]\n"
     ]
    },
    {
     "name": "stdout",
     "output_type": "stream",
     "text": [
      "Simulation stopped at: 00:00:01.80; speed 11.23 x real time\n",
      "Using random seed: 5010696\n"
     ]
    },
    {
     "name": "stderr",
     "output_type": "stream",
     "text": [
      "100%|██████████| 1800/1800 [00:04<00:00, 376.44it/s]\n"
     ]
    },
    {
     "name": "stdout",
     "output_type": "stream",
     "text": [
      "Simulation stopped at: 00:03:00.00; speed 37.61 x real time\n",
      "Using random seed: 5010696\n"
     ]
    },
    {
     "name": "stderr",
     "output_type": "stream",
     "text": [
      "100%|██████████| 1800/1800 [00:04<00:00, 378.88it/s]\n"
     ]
    },
    {
     "name": "stdout",
     "output_type": "stream",
     "text": [
      "Simulation stopped at: 00:03:00.00; speed 37.86 x real time\n",
      "Using random seed: 5010696\n"
     ]
    },
    {
     "name": "stderr",
     "output_type": "stream",
     "text": [
      "100%|██████████| 1800/1800 [00:04<00:00, 361.23it/s]\n"
     ]
    },
    {
     "name": "stdout",
     "output_type": "stream",
     "text": [
      "Simulation stopped at: 00:03:00.00; speed 36.1 x real time\n",
      "Using random seed: 5010696\n"
     ]
    },
    {
     "name": "stderr",
     "output_type": "stream",
     "text": [
      "100%|██████████| 1800/1800 [00:05<00:00, 325.10it/s]\n"
     ]
    },
    {
     "name": "stdout",
     "output_type": "stream",
     "text": [
      "Simulation stopped at: 00:03:00.00; speed 32.48 x real time\n",
      "Using random seed: 5010696\n"
     ]
    },
    {
     "name": "stderr",
     "output_type": "stream",
     "text": [
      "100%|██████████| 1800/1800 [00:06<00:00, 281.47it/s]\n"
     ]
    },
    {
     "name": "stdout",
     "output_type": "stream",
     "text": [
      "Simulation stopped at: 00:03:00.00; speed 28.12 x real time\n",
      "Using random seed: 5010696\n"
     ]
    },
    {
     "name": "stderr",
     "output_type": "stream",
     "text": [
      "  1%|          | 19/1800 [00:00<00:16, 109.93it/s]\n"
     ]
    },
    {
     "name": "stdout",
     "output_type": "stream",
     "text": [
      "Simulation stopped at: 00:00:01.90; speed 10.4 x real time\n",
      "Using random seed: 5010696\n"
     ]
    },
    {
     "name": "stderr",
     "output_type": "stream",
     "text": [
      " 16%|█▌        | 287/1800 [00:00<00:04, 322.03it/s]\n"
     ]
    },
    {
     "name": "stdout",
     "output_type": "stream",
     "text": [
      "Simulation stopped at: 00:00:28.70; speed 32.08 x real time\n",
      "Using random seed: 5010696\n"
     ]
    },
    {
     "name": "stderr",
     "output_type": "stream",
     "text": [
      "100%|██████████| 1800/1800 [00:04<00:00, 370.83it/s]\n"
     ]
    },
    {
     "name": "stdout",
     "output_type": "stream",
     "text": [
      "Simulation stopped at: 00:03:00.00; speed 37.05 x real time\n",
      "Using random seed: 5010696\n"
     ]
    },
    {
     "name": "stderr",
     "output_type": "stream",
     "text": [
      "100%|██████████| 1800/1800 [00:04<00:00, 381.18it/s]\n"
     ]
    },
    {
     "name": "stdout",
     "output_type": "stream",
     "text": [
      "Simulation stopped at: 00:03:00.00; speed 38.08 x real time\n",
      "Generation   17 Best fitness 51.54\n",
      "Using random seed: 5010696\n"
     ]
    },
    {
     "name": "stderr",
     "output_type": "stream",
     "text": [
      "  1%|          | 18/1800 [00:00<00:13, 127.87it/s]\n"
     ]
    },
    {
     "name": "stdout",
     "output_type": "stream",
     "text": [
      "Simulation stopped at: 00:00:01.80; speed 10.64 x real time\n",
      "Using random seed: 5010696\n"
     ]
    },
    {
     "name": "stderr",
     "output_type": "stream",
     "text": [
      "100%|██████████| 1800/1800 [00:05<00:00, 355.17it/s]\n"
     ]
    },
    {
     "name": "stdout",
     "output_type": "stream",
     "text": [
      "Simulation stopped at: 00:03:00.00; speed 35.47 x real time\n",
      "Using random seed: 5010696\n"
     ]
    },
    {
     "name": "stderr",
     "output_type": "stream",
     "text": [
      "100%|██████████| 1800/1800 [00:04<00:00, 363.18it/s]\n"
     ]
    },
    {
     "name": "stdout",
     "output_type": "stream",
     "text": [
      "Simulation stopped at: 00:03:00.00; speed 36.29 x real time\n",
      "Using random seed: 5010696\n"
     ]
    },
    {
     "name": "stderr",
     "output_type": "stream",
     "text": [
      "100%|██████████| 1800/1800 [00:05<00:00, 327.33it/s]\n"
     ]
    },
    {
     "name": "stdout",
     "output_type": "stream",
     "text": [
      "Simulation stopped at: 00:03:00.00; speed 32.7 x real time\n",
      "Using random seed: 5010696\n"
     ]
    },
    {
     "name": "stderr",
     "output_type": "stream",
     "text": [
      "100%|██████████| 1800/1800 [00:05<00:00, 348.65it/s]\n"
     ]
    },
    {
     "name": "stdout",
     "output_type": "stream",
     "text": [
      "Simulation stopped at: 00:03:00.00; speed 34.84 x real time\n",
      "Using random seed: 5010696\n"
     ]
    },
    {
     "name": "stderr",
     "output_type": "stream",
     "text": [
      "100%|██████████| 1800/1800 [00:06<00:00, 267.67it/s]\n"
     ]
    },
    {
     "name": "stdout",
     "output_type": "stream",
     "text": [
      "Simulation stopped at: 00:03:00.00; speed 26.74 x real time\n",
      "Using random seed: 5010696\n"
     ]
    },
    {
     "name": "stderr",
     "output_type": "stream",
     "text": [
      "  1%|▏         | 24/1800 [00:00<00:05, 347.14it/s]\n"
     ]
    },
    {
     "name": "stdout",
     "output_type": "stream",
     "text": [
      "Simulation stopped at: 00:00:02.40; speed 32.14 x real time\n",
      "Using random seed: 5010696\n"
     ]
    },
    {
     "name": "stderr",
     "output_type": "stream",
     "text": [
      "  8%|▊         | 152/1800 [00:00<00:04, 375.40it/s]\n"
     ]
    },
    {
     "name": "stdout",
     "output_type": "stream",
     "text": [
      "Simulation stopped at: 00:00:15.20; speed 36.98 x real time\n",
      "Using random seed: 5010696\n"
     ]
    },
    {
     "name": "stderr",
     "output_type": "stream",
     "text": [
      "100%|██████████| 1800/1800 [00:05<00:00, 336.33it/s]\n"
     ]
    },
    {
     "name": "stdout",
     "output_type": "stream",
     "text": [
      "Simulation stopped at: 00:03:00.00; speed 33.6 x real time\n",
      "Using random seed: 5010696\n"
     ]
    },
    {
     "name": "stderr",
     "output_type": "stream",
     "text": [
      "100%|██████████| 1800/1800 [00:05<00:00, 308.41it/s]\n"
     ]
    },
    {
     "name": "stdout",
     "output_type": "stream",
     "text": [
      "Simulation stopped at: 00:03:00.00; speed 30.76 x real time\n",
      "Generation   18 Best fitness 51.54\n",
      "Using random seed: 5010696\n"
     ]
    },
    {
     "name": "stderr",
     "output_type": "stream",
     "text": [
      "  1%|          | 18/1800 [00:00<00:04, 398.50it/s]\n"
     ]
    },
    {
     "name": "stdout",
     "output_type": "stream",
     "text": [
      "Simulation stopped at: 00:00:01.80; speed 37.02 x real time\n",
      "Using random seed: 5010696\n"
     ]
    },
    {
     "name": "stderr",
     "output_type": "stream",
     "text": [
      "100%|██████████| 1800/1800 [00:06<00:00, 266.12it/s]\n"
     ]
    },
    {
     "name": "stdout",
     "output_type": "stream",
     "text": [
      "Simulation stopped at: 00:03:00.00; speed 26.59 x real time\n",
      "Using random seed: 5010696\n"
     ]
    },
    {
     "name": "stderr",
     "output_type": "stream",
     "text": [
      "100%|██████████| 1800/1800 [00:05<00:00, 338.19it/s]\n"
     ]
    },
    {
     "name": "stdout",
     "output_type": "stream",
     "text": [
      "Simulation stopped at: 00:03:00.00; speed 33.79 x real time\n",
      "Using random seed: 5010696\n"
     ]
    },
    {
     "name": "stderr",
     "output_type": "stream",
     "text": [
      "100%|██████████| 1800/1800 [00:05<00:00, 327.54it/s]\n"
     ]
    },
    {
     "name": "stdout",
     "output_type": "stream",
     "text": [
      "Simulation stopped at: 00:03:00.00; speed 32.71 x real time\n",
      "Using random seed: 5010696\n"
     ]
    },
    {
     "name": "stderr",
     "output_type": "stream",
     "text": [
      "100%|██████████| 1800/1800 [00:04<00:00, 376.96it/s]\n"
     ]
    },
    {
     "name": "stdout",
     "output_type": "stream",
     "text": [
      "Simulation stopped at: 00:03:00.00; speed 37.65 x real time\n",
      "Using random seed: 5010696\n"
     ]
    },
    {
     "name": "stderr",
     "output_type": "stream",
     "text": [
      "100%|██████████| 1800/1800 [00:04<00:00, 360.77it/s]\n"
     ]
    },
    {
     "name": "stdout",
     "output_type": "stream",
     "text": [
      "Simulation stopped at: 00:03:00.00; speed 36.03 x real time\n",
      "Using random seed: 5010696\n"
     ]
    },
    {
     "name": "stderr",
     "output_type": "stream",
     "text": [
      "  1%|          | 18/1800 [00:00<00:04, 360.84it/s]\n"
     ]
    },
    {
     "name": "stdout",
     "output_type": "stream",
     "text": [
      "Simulation stopped at: 00:00:01.80; speed 33.75 x real time\n",
      "Using random seed: 5010696\n"
     ]
    },
    {
     "name": "stderr",
     "output_type": "stream",
     "text": [
      "  1%|▏         | 23/1800 [00:00<00:03, 488.52it/s]\n"
     ]
    },
    {
     "name": "stdout",
     "output_type": "stream",
     "text": [
      "Simulation stopped at: 00:00:02.30; speed 45.91 x real time\n",
      "Using random seed: 5010696\n"
     ]
    },
    {
     "name": "stderr",
     "output_type": "stream",
     "text": [
      "100%|██████████| 1800/1800 [00:05<00:00, 342.14it/s]\n"
     ]
    },
    {
     "name": "stdout",
     "output_type": "stream",
     "text": [
      "Simulation stopped at: 00:03:00.00; speed 34.19 x real time\n",
      "Using random seed: 5010696\n"
     ]
    },
    {
     "name": "stderr",
     "output_type": "stream",
     "text": [
      " 29%|██▊       | 514/1800 [00:01<00:03, 386.81it/s]\n"
     ]
    },
    {
     "name": "stdout",
     "output_type": "stream",
     "text": [
      "Simulation stopped at: 00:00:51.40; speed 38.56 x real time\n",
      "Generation   19 Best fitness 51.54\n",
      "Using random seed: 5010696\n"
     ]
    },
    {
     "name": "stderr",
     "output_type": "stream",
     "text": [
      "  1%|          | 22/1800 [00:00<00:04, 365.38it/s]\n"
     ]
    },
    {
     "name": "stdout",
     "output_type": "stream",
     "text": [
      "Simulation stopped at: 00:00:02.20; speed 33.32 x real time\n",
      "Using random seed: 5010696\n"
     ]
    },
    {
     "name": "stderr",
     "output_type": "stream",
     "text": [
      "100%|██████████| 1800/1800 [00:04<00:00, 370.72it/s]\n"
     ]
    },
    {
     "name": "stdout",
     "output_type": "stream",
     "text": [
      "Simulation stopped at: 00:03:00.00; speed 37.04 x real time\n",
      "Using random seed: 5010696\n"
     ]
    },
    {
     "name": "stderr",
     "output_type": "stream",
     "text": [
      "100%|██████████| 1800/1800 [00:04<00:00, 388.67it/s]\n"
     ]
    },
    {
     "name": "stdout",
     "output_type": "stream",
     "text": [
      "Simulation stopped at: 00:03:00.00; speed 38.84 x real time\n",
      "Using random seed: 5010696\n"
     ]
    },
    {
     "name": "stderr",
     "output_type": "stream",
     "text": [
      "100%|██████████| 1800/1800 [00:05<00:00, 348.40it/s]\n"
     ]
    },
    {
     "name": "stdout",
     "output_type": "stream",
     "text": [
      "Simulation stopped at: 00:03:00.00; speed 34.82 x real time\n",
      "Using random seed: 5010696\n"
     ]
    },
    {
     "name": "stderr",
     "output_type": "stream",
     "text": [
      "100%|██████████| 1800/1800 [00:07<00:00, 238.42it/s]\n"
     ]
    },
    {
     "name": "stdout",
     "output_type": "stream",
     "text": [
      "Simulation stopped at: 00:03:00.00; speed 23.83 x real time\n",
      "Using random seed: 5010696\n"
     ]
    },
    {
     "name": "stderr",
     "output_type": "stream",
     "text": [
      " 80%|████████  | 1445/1800 [00:04<00:01, 318.49it/s]\n"
     ]
    },
    {
     "name": "stdout",
     "output_type": "stream",
     "text": [
      "Simulation stopped at: 00:02:24.50; speed 31.82 x real time\n",
      "Using random seed: 5010696\n"
     ]
    },
    {
     "name": "stderr",
     "output_type": "stream",
     "text": [
      "  1%|▏         | 25/1800 [00:00<00:05, 304.82it/s]\n"
     ]
    },
    {
     "name": "stdout",
     "output_type": "stream",
     "text": [
      "Simulation stopped at: 00:00:02.50; speed 28.85 x real time\n",
      "Using random seed: 5010696\n"
     ]
    },
    {
     "name": "stderr",
     "output_type": "stream",
     "text": [
      "100%|██████████| 1800/1800 [00:05<00:00, 334.10it/s]\n"
     ]
    },
    {
     "name": "stdout",
     "output_type": "stream",
     "text": [
      "Simulation stopped at: 00:03:00.00; speed 33.38 x real time\n",
      "Using random seed: 5010696\n"
     ]
    },
    {
     "name": "stderr",
     "output_type": "stream",
     "text": [
      "100%|██████████| 1800/1800 [00:05<00:00, 338.79it/s]\n"
     ]
    },
    {
     "name": "stdout",
     "output_type": "stream",
     "text": [
      "Simulation stopped at: 00:03:00.00; speed 33.86 x real time\n",
      "Using random seed: 5010696\n"
     ]
    },
    {
     "name": "stderr",
     "output_type": "stream",
     "text": [
      "100%|██████████| 1800/1800 [00:05<00:00, 322.93it/s]"
     ]
    },
    {
     "name": "stdout",
     "output_type": "stream",
     "text": [
      "Simulation stopped at: 00:03:00.00; speed 32.25 x real time\n",
      "Generation   20 Best fitness 62.95\n",
      "Max generations reached\n",
      "CPU times: user 13min, sys: 4.24 s, total: 13min 5s\n",
      "Wall time: 13min 3s\n"
     ]
    },
    {
     "name": "stderr",
     "output_type": "stream",
     "text": [
      "\n"
     ]
    }
   ],
   "source": [
    "%%time\n",
    "ag.reset()\n",
    "ag.world.reset()\n",
    "ag.world.time = 0\n",
    "bestFound = ag.evolve(\n",
    "    generations=20, \n",
    "    crossover_rate=0.2, \n",
    "    mutation_rate=0.6, \n",
    "    elite_percent=0.05, \n",
    "    seconds=180,\n",
    "    show=True,\n",
    ") "
   ]
  },
  {
   "cell_type": "code",
   "execution_count": 28,
   "metadata": {},
   "outputs": [
    {
     "data": {
      "image/png": "[encoded data removed]",
      "text/plain": [
       "<Figure size 640x480 with 1 Axes>"
      ]
     },
     "metadata": {},
     "output_type": "display_data"
    }
   ],
   "source": [
    "ag.plot_stats(\"NNGA\")"
   ]
  },
  {
   "cell_type": "code",
   "execution_count": 29,
   "metadata": {},
   "outputs": [
    {
     "data": {
      "application/vnd.jupyter.widget-view+json": {
       "model_id": "7e6da16e47564fbfb26b3ca8e2e7223e",
       "version_major": 2,
       "version_minor": 0
      },
      "text/plain": [
       "Image(value=b'\\xff\\xd8\\xff\\xe0\\x00\\x10JFIF\\x00\\x01\\x01\\x00\\x00\\x01\\x00\\x01\\x00\\x00\\xff\\xdb\\x00C\\x00\\x08\\x06\\x0…"
      ]
     },
     "metadata": {},
     "output_type": "display_data"
    }
   ],
   "source": [
    "ag.world.watch()"
   ]
  },
  {
   "cell_type": "code",
   "execution_count": 32,
   "metadata": {},
   "outputs": [
    {
     "name": "stdout",
     "output_type": "stream",
     "text": [
      "Using random seed: 5010696\n"
     ]
    },
    {
     "data": {
      "application/vnd.jupyter.widget-view+json": {
       "model_id": "1142e6829a2e4d838c4ffa7cb6c50c3e",
       "version_major": 2,
       "version_minor": 0
      },
      "text/plain": [
       "  0%|          | 0/3600 [00:00<?, ?it/s]"
      ]
     },
     "metadata": {},
     "output_type": "display_data"
    },
    {
     "name": "stdout",
     "output_type": "stream",
     "text": [
      "Simulation stopped at: 00:03:00.10; speed 57.24 x real time\n"
     ]
    },
    {
     "data": {
      "text/plain": [
       "0"
      ]
     },
     "execution_count": 32,
     "metadata": {},
     "output_type": "execute_result"
    },
    {
     "ename": "",
     "evalue": "",
     "output_type": "error",
     "traceback": [
      "\u001b[1;31mThe Kernel crashed while executing code in the current cell or a previous cell. \n",
      "\u001b[1;31mPlease review the code in the cell(s) to identify a possible cause of the failure. \n",
      "\u001b[1;31mClick <a href='https://aka.ms/vscodeJupyterKernelCrash'>here</a> for more info. \n",
      "\u001b[1;31mView Jupyter <a href='command:jupyter.viewOutput'>log</a> for further details."
     ]
    }
   ],
   "source": [
    "ag.fitness(\n",
    "    ag.bestEver, \n",
    "    real_time=False, \n",
    "    show=True, \n",
    "    seconds=360,\n",
    ")"
   ]
  },
  {
   "cell_type": "code",
   "execution_count": null,
   "metadata": {},
   "outputs": [],
   "source": []
  },
  {
   "cell_type": "code",
   "execution_count": null,
   "metadata": {},
   "outputs": [],
   "source": []
  }
 ],
 "metadata": {
  "kernelspec": {
   "display_name": ".venv",
   "language": "python",
   "name": "python3"
  },
  "language_info": {
   "codemirror_mode": {
    "name": "ipython",
    "version": 3
   },
   "file_extension": ".py",
   "mimetype": "text/x-python",
   "name": "python",
   "nbconvert_exporter": "python",
   "pygments_lexer": "ipython3",
   "version": "3.8.10"
  }
 },
 "nbformat": 4,
 "nbformat_minor": 2
}
