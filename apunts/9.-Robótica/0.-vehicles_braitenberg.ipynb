{
 "cells": [
  {
   "cell_type": "markdown",
   "metadata": {},
   "source": [
    "## Braitenberg Vehicles\n",
    "\n",
    "En aquest notebook es mostren alguns dels vehicles descrits per Valentino Braitenberg en el seu llibre titulat *Vehicles: Experiments in Synthetic Psychology*."
   ]
  },
  {
   "cell_type": "markdown",
   "metadata": {},
   "source": [
    "<img src=\"https://m.media-amazon.com/images/I/71QcEOGCW+L._SL1500_.jpg\" width=250>"
   ]
  },
  {
   "cell_type": "markdown",
   "metadata": {},
   "source": [
    "En aquest notebook es mostren alguns dels vehicles descrits per Valentino Braitenberg, basats en sensors de llum i motors de rodes. Aquests vehicles són molt senzills, però mostren comportaments molt interessants.\n",
    "\n",
    "Utilitzarem `aitk.robots` per simular els vehicles i els sensors de llum."
   ]
  },
  {
   "cell_type": "code",
   "execution_count": 9,
   "metadata": {},
   "outputs": [
    {
     "name": "stdout",
     "output_type": "stream",
     "text": [
      "Requirement already satisfied: aitk in /home/carlesgm/Documents/mia/.venv/lib/python3.8/site-packages (1.0.32)\n",
      "Requirement already satisfied: aitk.robots in /home/carlesgm/Documents/mia/.venv/lib/python3.8/site-packages (0.9.43)\n",
      "Requirement already satisfied: aitk.algorithms>=0.2.2 in /home/carlesgm/Documents/mia/.venv/lib/python3.8/site-packages (from aitk) (0.2.2)\n",
      "Requirement already satisfied: aitk.networks>=0.5.1 in /home/carlesgm/Documents/mia/.venv/lib/python3.8/site-packages (from aitk) (0.5.2)\n",
      "Requirement already satisfied: aitk.utils>=0.6.5 in /home/carlesgm/Documents/mia/.venv/lib/python3.8/site-packages (from aitk) (0.7.3)\n",
      "Requirement already satisfied: setuptools in /home/carlesgm/Documents/mia/.venv/lib/python3.8/site-packages (from aitk.robots) (69.2.0)\n",
      "Requirement already satisfied: Pillow in /home/carlesgm/Documents/mia/.venv/lib/python3.8/site-packages (from aitk.robots) (9.4.0)\n",
      "Requirement already satisfied: ipywidgets in /home/carlesgm/Documents/mia/.venv/lib/python3.8/site-packages (from aitk.robots) (8.1.2)\n",
      "Requirement already satisfied: numpy in /home/carlesgm/Documents/mia/.venv/lib/python3.8/site-packages (from aitk.algorithms>=0.2.2->aitk) (1.24.3)\n",
      "Requirement already satisfied: matplotlib in /home/carlesgm/Documents/mia/.venv/lib/python3.8/site-packages (from aitk.algorithms>=0.2.2->aitk) (3.7.5)\n",
      "Requirement already satisfied: tensorflow in /home/carlesgm/Documents/mia/.venv/lib/python3.8/site-packages (from aitk.networks>=0.5.1->aitk) (2.13.1)\n",
      "Requirement already satisfied: tqdm in /home/carlesgm/Documents/mia/.venv/lib/python3.8/site-packages (from aitk.utils>=0.6.5->aitk) (4.66.2)\n",
      "Requirement already satisfied: comm>=0.1.3 in /home/carlesgm/Documents/mia/.venv/lib/python3.8/site-packages (from ipywidgets->aitk.robots) (0.2.2)\n",
      "Requirement already satisfied: ipython>=6.1.0 in /home/carlesgm/Documents/mia/.venv/lib/python3.8/site-packages (from ipywidgets->aitk.robots) (8.12.3)\n",
      "Requirement already satisfied: traitlets>=4.3.1 in /home/carlesgm/Documents/mia/.venv/lib/python3.8/site-packages (from ipywidgets->aitk.robots) (5.14.2)\n",
      "Requirement already satisfied: widgetsnbextension~=4.0.10 in /home/carlesgm/Documents/mia/.venv/lib/python3.8/site-packages (from ipywidgets->aitk.robots) (4.0.10)\n",
      "Requirement already satisfied: jupyterlab-widgets~=3.0.10 in /home/carlesgm/Documents/mia/.venv/lib/python3.8/site-packages (from ipywidgets->aitk.robots) (3.0.10)\n",
      "Requirement already satisfied: backcall in /home/carlesgm/Documents/mia/.venv/lib/python3.8/site-packages (from ipython>=6.1.0->ipywidgets->aitk.robots) (0.2.0)\n",
      "Requirement already satisfied: decorator in /home/carlesgm/Documents/mia/.venv/lib/python3.8/site-packages (from ipython>=6.1.0->ipywidgets->aitk.robots) (5.1.1)\n",
      "Requirement already satisfied: jedi>=0.16 in /home/carlesgm/Documents/mia/.venv/lib/python3.8/site-packages (from ipython>=6.1.0->ipywidgets->aitk.robots) (0.19.1)\n",
      "Requirement already satisfied: matplotlib-inline in /home/carlesgm/Documents/mia/.venv/lib/python3.8/site-packages (from ipython>=6.1.0->ipywidgets->aitk.robots) (0.1.6)\n",
      "Requirement already satisfied: pickleshare in /home/carlesgm/Documents/mia/.venv/lib/python3.8/site-packages (from ipython>=6.1.0->ipywidgets->aitk.robots) (0.7.5)\n",
      "Requirement already satisfied: prompt-toolkit!=3.0.37,<3.1.0,>=3.0.30 in /home/carlesgm/Documents/mia/.venv/lib/python3.8/site-packages (from ipython>=6.1.0->ipywidgets->aitk.robots) (3.0.43)\n",
      "Requirement already satisfied: pygments>=2.4.0 in /home/carlesgm/Documents/mia/.venv/lib/python3.8/site-packages (from ipython>=6.1.0->ipywidgets->aitk.robots) (2.17.2)\n",
      "Requirement already satisfied: stack-data in /home/carlesgm/Documents/mia/.venv/lib/python3.8/site-packages (from ipython>=6.1.0->ipywidgets->aitk.robots) (0.6.3)\n",
      "Requirement already satisfied: typing-extensions in /home/carlesgm/Documents/mia/.venv/lib/python3.8/site-packages (from ipython>=6.1.0->ipywidgets->aitk.robots) (4.5.0)\n",
      "Requirement already satisfied: pexpect>4.3 in /home/carlesgm/Documents/mia/.venv/lib/python3.8/site-packages (from ipython>=6.1.0->ipywidgets->aitk.robots) (4.9.0)\n",
      "Requirement already satisfied: contourpy>=1.0.1 in /home/carlesgm/Documents/mia/.venv/lib/python3.8/site-packages (from matplotlib->aitk.algorithms>=0.2.2->aitk) (1.1.1)\n",
      "Requirement already satisfied: cycler>=0.10 in /home/carlesgm/Documents/mia/.venv/lib/python3.8/site-packages (from matplotlib->aitk.algorithms>=0.2.2->aitk) (0.10.0)\n",
      "Requirement already satisfied: fonttools>=4.22.0 in /home/carlesgm/Documents/mia/.venv/lib/python3.8/site-packages (from matplotlib->aitk.algorithms>=0.2.2->aitk) (4.50.0)\n",
      "Requirement already satisfied: kiwisolver>=1.0.1 in /home/carlesgm/Documents/mia/.venv/lib/python3.8/site-packages (from matplotlib->aitk.algorithms>=0.2.2->aitk) (1.4.5)\n",
      "Requirement already satisfied: packaging>=20.0 in /home/carlesgm/Documents/mia/.venv/lib/python3.8/site-packages (from matplotlib->aitk.algorithms>=0.2.2->aitk) (24.0)\n",
      "Requirement already satisfied: pyparsing>=2.3.1 in /home/carlesgm/Documents/mia/.venv/lib/python3.8/site-packages (from matplotlib->aitk.algorithms>=0.2.2->aitk) (3.1.2)\n",
      "Requirement already satisfied: python-dateutil>=2.7 in /home/carlesgm/Documents/mia/.venv/lib/python3.8/site-packages (from matplotlib->aitk.algorithms>=0.2.2->aitk) (2.9.0.post0)\n",
      "Requirement already satisfied: importlib-resources>=3.2.0 in /home/carlesgm/Documents/mia/.venv/lib/python3.8/site-packages (from matplotlib->aitk.algorithms>=0.2.2->aitk) (6.3.1)\n",
      "Requirement already satisfied: absl-py>=1.0.0 in /home/carlesgm/Documents/mia/.venv/lib/python3.8/site-packages (from tensorflow->aitk.networks>=0.5.1->aitk) (1.4.0)\n",
      "Requirement already satisfied: astunparse>=1.6.0 in /home/carlesgm/Documents/mia/.venv/lib/python3.8/site-packages (from tensorflow->aitk.networks>=0.5.1->aitk) (1.6.3)\n",
      "Requirement already satisfied: flatbuffers>=23.1.21 in /home/carlesgm/Documents/mia/.venv/lib/python3.8/site-packages (from tensorflow->aitk.networks>=0.5.1->aitk) (24.3.7)\n",
      "Requirement already satisfied: gast<=0.4.0,>=0.2.1 in /home/carlesgm/Documents/mia/.venv/lib/python3.8/site-packages (from tensorflow->aitk.networks>=0.5.1->aitk) (0.4.0)\n",
      "Requirement already satisfied: google-pasta>=0.1.1 in /home/carlesgm/Documents/mia/.venv/lib/python3.8/site-packages (from tensorflow->aitk.networks>=0.5.1->aitk) (0.2.0)\n",
      "Requirement already satisfied: grpcio<2.0,>=1.24.3 in /home/carlesgm/Documents/mia/.venv/lib/python3.8/site-packages (from tensorflow->aitk.networks>=0.5.1->aitk) (1.62.1)\n",
      "Requirement already satisfied: h5py>=2.9.0 in /home/carlesgm/Documents/mia/.venv/lib/python3.8/site-packages (from tensorflow->aitk.networks>=0.5.1->aitk) (3.10.0)\n",
      "Requirement already satisfied: keras<2.14,>=2.13.1 in /home/carlesgm/Documents/mia/.venv/lib/python3.8/site-packages (from tensorflow->aitk.networks>=0.5.1->aitk) (2.13.1)\n",
      "Requirement already satisfied: libclang>=13.0.0 in /home/carlesgm/Documents/mia/.venv/lib/python3.8/site-packages (from tensorflow->aitk.networks>=0.5.1->aitk) (18.1.1)\n",
      "Requirement already satisfied: opt-einsum>=2.3.2 in /home/carlesgm/Documents/mia/.venv/lib/python3.8/site-packages (from tensorflow->aitk.networks>=0.5.1->aitk) (3.3.0)\n",
      "Requirement already satisfied: protobuf!=4.21.0,!=4.21.1,!=4.21.2,!=4.21.3,!=4.21.4,!=4.21.5,<5.0.0dev,>=3.20.3 in /home/carlesgm/Documents/mia/.venv/lib/python3.8/site-packages (from tensorflow->aitk.networks>=0.5.1->aitk) (3.20.3)\n",
      "Requirement already satisfied: six>=1.12.0 in /home/carlesgm/Documents/mia/.venv/lib/python3.8/site-packages (from tensorflow->aitk.networks>=0.5.1->aitk) (1.16.0)\n",
      "Requirement already satisfied: tensorboard<2.14,>=2.13 in /home/carlesgm/Documents/mia/.venv/lib/python3.8/site-packages (from tensorflow->aitk.networks>=0.5.1->aitk) (2.13.0)\n",
      "Requirement already satisfied: tensorflow-estimator<2.14,>=2.13.0 in /home/carlesgm/Documents/mia/.venv/lib/python3.8/site-packages (from tensorflow->aitk.networks>=0.5.1->aitk) (2.13.0)\n",
      "Requirement already satisfied: termcolor>=1.1.0 in /home/carlesgm/Documents/mia/.venv/lib/python3.8/site-packages (from tensorflow->aitk.networks>=0.5.1->aitk) (2.4.0)\n",
      "Requirement already satisfied: wrapt>=1.11.0 in /home/carlesgm/Documents/mia/.venv/lib/python3.8/site-packages (from tensorflow->aitk.networks>=0.5.1->aitk) (1.16.0)\n",
      "Requirement already satisfied: tensorflow-io-gcs-filesystem>=0.23.1 in /home/carlesgm/Documents/mia/.venv/lib/python3.8/site-packages (from tensorflow->aitk.networks>=0.5.1->aitk) (0.34.0)\n",
      "Requirement already satisfied: wheel<1.0,>=0.23.0 in /home/carlesgm/Documents/mia/.venv/lib/python3.8/site-packages (from astunparse>=1.6.0->tensorflow->aitk.networks>=0.5.1->aitk) (0.43.0)\n",
      "Requirement already satisfied: zipp>=3.1.0 in /home/carlesgm/Documents/mia/.venv/lib/python3.8/site-packages (from importlib-resources>=3.2.0->matplotlib->aitk.algorithms>=0.2.2->aitk) (3.18.1)\n",
      "Requirement already satisfied: parso<0.9.0,>=0.8.3 in /home/carlesgm/Documents/mia/.venv/lib/python3.8/site-packages (from jedi>=0.16->ipython>=6.1.0->ipywidgets->aitk.robots) (0.8.3)\n",
      "Requirement already satisfied: ptyprocess>=0.5 in /home/carlesgm/Documents/mia/.venv/lib/python3.8/site-packages (from pexpect>4.3->ipython>=6.1.0->ipywidgets->aitk.robots) (0.7.0)\n",
      "Requirement already satisfied: wcwidth in /home/carlesgm/Documents/mia/.venv/lib/python3.8/site-packages (from prompt-toolkit!=3.0.37,<3.1.0,>=3.0.30->ipython>=6.1.0->ipywidgets->aitk.robots) (0.2.13)\n",
      "Requirement already satisfied: google-auth<3,>=1.6.3 in /home/carlesgm/Documents/mia/.venv/lib/python3.8/site-packages (from tensorboard<2.14,>=2.13->tensorflow->aitk.networks>=0.5.1->aitk) (2.28.2)\n",
      "Requirement already satisfied: google-auth-oauthlib<1.1,>=0.5 in /home/carlesgm/Documents/mia/.venv/lib/python3.8/site-packages (from tensorboard<2.14,>=2.13->tensorflow->aitk.networks>=0.5.1->aitk) (1.0.0)\n",
      "Requirement already satisfied: markdown>=2.6.8 in /home/carlesgm/Documents/mia/.venv/lib/python3.8/site-packages (from tensorboard<2.14,>=2.13->tensorflow->aitk.networks>=0.5.1->aitk) (3.6)\n",
      "Requirement already satisfied: requests<3,>=2.21.0 in /home/carlesgm/Documents/mia/.venv/lib/python3.8/site-packages (from tensorboard<2.14,>=2.13->tensorflow->aitk.networks>=0.5.1->aitk) (2.31.0)\n",
      "Requirement already satisfied: tensorboard-data-server<0.8.0,>=0.7.0 in /home/carlesgm/Documents/mia/.venv/lib/python3.8/site-packages (from tensorboard<2.14,>=2.13->tensorflow->aitk.networks>=0.5.1->aitk) (0.7.2)\n",
      "Requirement already satisfied: werkzeug>=1.0.1 in /home/carlesgm/Documents/mia/.venv/lib/python3.8/site-packages (from tensorboard<2.14,>=2.13->tensorflow->aitk.networks>=0.5.1->aitk) (3.0.1)\n",
      "Requirement already satisfied: executing>=1.2.0 in /home/carlesgm/Documents/mia/.venv/lib/python3.8/site-packages (from stack-data->ipython>=6.1.0->ipywidgets->aitk.robots) (2.0.1)\n",
      "Requirement already satisfied: asttokens>=2.1.0 in /home/carlesgm/Documents/mia/.venv/lib/python3.8/site-packages (from stack-data->ipython>=6.1.0->ipywidgets->aitk.robots) (2.4.1)\n",
      "Requirement already satisfied: pure-eval in /home/carlesgm/Documents/mia/.venv/lib/python3.8/site-packages (from stack-data->ipython>=6.1.0->ipywidgets->aitk.robots) (0.2.2)\n",
      "Requirement already satisfied: cachetools<6.0,>=2.0.0 in /home/carlesgm/Documents/mia/.venv/lib/python3.8/site-packages (from google-auth<3,>=1.6.3->tensorboard<2.14,>=2.13->tensorflow->aitk.networks>=0.5.1->aitk) (5.3.3)\n",
      "Requirement already satisfied: pyasn1-modules>=0.2.1 in /home/carlesgm/Documents/mia/.venv/lib/python3.8/site-packages (from google-auth<3,>=1.6.3->tensorboard<2.14,>=2.13->tensorflow->aitk.networks>=0.5.1->aitk) (0.3.0)\n",
      "Requirement already satisfied: rsa<5,>=3.1.4 in /home/carlesgm/Documents/mia/.venv/lib/python3.8/site-packages (from google-auth<3,>=1.6.3->tensorboard<2.14,>=2.13->tensorflow->aitk.networks>=0.5.1->aitk) (4.9)\n",
      "Requirement already satisfied: requests-oauthlib>=0.7.0 in /home/carlesgm/Documents/mia/.venv/lib/python3.8/site-packages (from google-auth-oauthlib<1.1,>=0.5->tensorboard<2.14,>=2.13->tensorflow->aitk.networks>=0.5.1->aitk) (1.4.0)\n",
      "Requirement already satisfied: importlib-metadata>=4.4 in /home/carlesgm/Documents/mia/.venv/lib/python3.8/site-packages (from markdown>=2.6.8->tensorboard<2.14,>=2.13->tensorflow->aitk.networks>=0.5.1->aitk) (7.0.2)\n",
      "Requirement already satisfied: charset-normalizer<4,>=2 in /home/carlesgm/Documents/mia/.venv/lib/python3.8/site-packages (from requests<3,>=2.21.0->tensorboard<2.14,>=2.13->tensorflow->aitk.networks>=0.5.1->aitk) (3.3.2)\n",
      "Requirement already satisfied: idna<4,>=2.5 in /home/carlesgm/Documents/mia/.venv/lib/python3.8/site-packages (from requests<3,>=2.21.0->tensorboard<2.14,>=2.13->tensorflow->aitk.networks>=0.5.1->aitk) (2.10)\n",
      "Requirement already satisfied: urllib3<3,>=1.21.1 in /home/carlesgm/Documents/mia/.venv/lib/python3.8/site-packages (from requests<3,>=2.21.0->tensorboard<2.14,>=2.13->tensorflow->aitk.networks>=0.5.1->aitk) (2.2.1)\n",
      "Requirement already satisfied: certifi>=2017.4.17 in /home/carlesgm/Documents/mia/.venv/lib/python3.8/site-packages (from requests<3,>=2.21.0->tensorboard<2.14,>=2.13->tensorflow->aitk.networks>=0.5.1->aitk) (2023.7.22)\n",
      "Requirement already satisfied: MarkupSafe>=2.1.1 in /home/carlesgm/Documents/mia/.venv/lib/python3.8/site-packages (from werkzeug>=1.0.1->tensorboard<2.14,>=2.13->tensorflow->aitk.networks>=0.5.1->aitk) (2.1.5)\n",
      "Requirement already satisfied: pyasn1<0.6.0,>=0.4.6 in /home/carlesgm/Documents/mia/.venv/lib/python3.8/site-packages (from pyasn1-modules>=0.2.1->google-auth<3,>=1.6.3->tensorboard<2.14,>=2.13->tensorflow->aitk.networks>=0.5.1->aitk) (0.5.1)\n",
      "Requirement already satisfied: oauthlib>=3.0.0 in /home/carlesgm/Documents/mia/.venv/lib/python3.8/site-packages (from requests-oauthlib>=0.7.0->google-auth-oauthlib<1.1,>=0.5->tensorboard<2.14,>=2.13->tensorflow->aitk.networks>=0.5.1->aitk) (3.2.2)\n"
     ]
    }
   ],
   "source": [
    "!pip install aitk aitk.robots"
   ]
  },
  {
   "cell_type": "code",
   "execution_count": 22,
   "metadata": {},
   "outputs": [],
   "source": [
    "from aitk.robots import World, Vehicle, LightSensor, SmellSensor"
   ]
  },
  {
   "cell_type": "markdown",
   "metadata": {},
   "source": [
    "## 1. Crear un món i un robot\n",
    "\n",
    "El món té una font de llum al centre, i el robot està equipat amb dos sensors de llum a la seva part frontal esquerra i frontal dreta."
   ]
  },
  {
   "cell_type": "code",
   "execution_count": 11,
   "metadata": {},
   "outputs": [
    {
     "name": "stdout",
     "output_type": "stream",
     "text": [
      "Random seed set to: 6565217\n"
     ]
    }
   ],
   "source": [
    "world = World(width=150, height=150, scale=3.0, boundary_wall=False)\n",
    "world.add_bulb(\"yellow\", 75, 75, 0, 50)"
   ]
  },
  {
   "cell_type": "markdown",
   "metadata": {},
   "source": [
    "Fixeu-vos en la comanda anterior on hem creat el món, l'hem configurat de manera que la paret exterior no es tractarà com a límit. En canvi, quan el robot s'apropi a la paret, simplement es desplaçarà a la banda oposada del món."
   ]
  },
  {
   "cell_type": "code",
   "execution_count": 12,
   "metadata": {},
   "outputs": [],
   "source": [
    "robot = Vehicle(x=50,y=100,a=90)\n",
    "robot.add_device(LightSensor(position=(6,-6), name=\"left-light\"))\n",
    "robot.add_device(LightSensor(position=(6,6), name=\"right-light\"))\n",
    "world.add_robot(robot)"
   ]
  },
  {
   "cell_type": "code",
   "execution_count": 13,
   "metadata": {
    "tags": []
   },
   "outputs": [
    {
     "data": {
      "application/vnd.jupyter.widget-view+json": {
       "model_id": "fd3482f2089d4779a22531be1a5feeb2",
       "version_major": 2,
       "version_minor": 0
      },
      "text/plain": [
       "Image(value=b'\\xff\\xd8\\xff\\xe0\\x00\\x10JFIF\\x00\\x01\\x01\\x00\\x00\\x01\\x00\\x01\\x00\\x00\\xff\\xdb\\x00C\\x00\\x08\\x06\\x0…"
      ]
     },
     "metadata": {},
     "output_type": "display_data"
    }
   ],
   "source": [
    "world.watch()"
   ]
  },
  {
   "cell_type": "markdown",
   "metadata": {},
   "source": [
    "## 2. Connectar els sensors a les rodes \n",
    "\n",
    "Considerem dues maneres possibles de connectar els sensors a les rodes que es mostren a continuació. A l'esquerra, els sensors estan connectats a les rodes del mateix costat del robot. A la dreta, els sensors estan connectats a les rodes del costat oposat del robot.\n",
    "\n",
    "![Vehicle 2ab](http://science.slc.edu/~jmarshall/courses/2005/fall/cs151/lectures/robotics/images/vehicle2ab.gif)"
   ]
  },
  {
   "cell_type": "markdown",
   "metadata": {},
   "source": [
    "### 2.1 Connexions positives\n",
    "\n",
    "Primer, considerem si fem que aquestes connexions siguin positives. En altres paraules, a mesura que la lectura de llum en un sensor augmenta, la roda connectada a aquest sensor anirà més ràpida. I a mesura que la lectura de llum disminueixi, la roda connectada a aquest sensor anirà més a poc a poc. Quin tipus de comportament crearan aquests dos tipus de connexions positives possibles?"
   ]
  },
  {
   "cell_type": "markdown",
   "metadata": {},
   "source": [
    "#### 2.1.1 Vehicle 2a\n",
    "\n",
    "As the left sensor reads more light, the left wheel will go faster making the robot turn right.  Similarly as the right sensor reads more light, the right wheel will go faster making the robot turn left. Let's watch what happens.\n",
    "\n",
    "Quan el sensor de la esquerra llegeixi més llum, la roda de l'esquerra anirà més ràpida fent que el robot giri a la dreta. De manera similar, quan el sensor de la dreta llegeixi més llum, la roda de la dreta anirà més ràpida fent que el robot giri a l'esquerra. Veurem què passa."
   ]
  },
  {
   "cell_type": "code",
   "execution_count": 14,
   "metadata": {},
   "outputs": [],
   "source": [
    "def vehicle2a(robot):\n",
    "    left = robot[\"left-light\"].get_brightness()\n",
    "    right = robot[\"right-light\"].get_brightness()\n",
    "    robot.speak(f\"{int(left*10)}{int(right*10)}\")\n",
    "    robot.motors(left, right)"
   ]
  },
  {
   "cell_type": "markdown",
   "metadata": {},
   "source": [
    "Cada vehicle parlarà de les seves lectures de llum esquerra i dreta com a dos números en una bombolla mentre es mou. Com més alts siguin els números, més llum es detectarà. Un \"00\" indica poca llum detectada en ambdós costats. Un \"51\" indica que la lectura de llum és més forta a l'esquerra que a la dreta. Un \"99\" indica que els dos sensors estan llegint valors de llum molt alts."
   ]
  },
  {
   "cell_type": "code",
   "execution_count": 15,
   "metadata": {},
   "outputs": [
    {
     "name": "stdout",
     "output_type": "stream",
     "text": [
      "Using random seed: 6565217\n"
     ]
    },
    {
     "data": {
      "application/vnd.jupyter.widget-view+json": {
       "model_id": "2a46656436f64c7fbf3e5533e4f447b5",
       "version_major": 2,
       "version_minor": 0
      },
      "text/plain": [
       "0it [00:00, ?it/s]"
      ]
     },
     "metadata": {},
     "output_type": "display_data"
    },
    {
     "name": "stdout",
     "output_type": "stream",
     "text": [
      "Simulation stopped at: 00:00:03.70; speed 0.99 x real time\n"
     ]
    }
   ],
   "source": [
    "world.reset()\n",
    "world.run([vehicle2a])"
   ]
  },
  {
   "cell_type": "markdown",
   "metadata": {},
   "source": [
    "**NOTA**: Cada vehicle funcionarà contínuament fins que l'aturis manualment. Pots provar de reiniciar-lo tantes vegades com vulguis.\n",
    "Braitenberg va descriure el comportament resultant com a **por** perquè el robot s'allunya ràpidament de la font de llum i intenta amagar-se als racons."
   ]
  },
  {
   "cell_type": "markdown",
   "metadata": {},
   "source": [
    "#### 2.1.2 Vehicle 2b\n",
    "\n",
    "Ara veurem com utilitzar connexions positives creuades. Quan el sensor de llum de l'esquerra llegeixi més llum, la roda de la dreta anirà més ràpida fent que el robot giri a l'esquerra. Quan el sensor de llum de la dreta llegeixi més llum, la roda de l'esquerra anirà més ràpida fent que el robot giri a la dreta. Observem el resultat."
   ]
  },
  {
   "cell_type": "code",
   "execution_count": 16,
   "metadata": {},
   "outputs": [],
   "source": [
    "def vehicle2b(robot):\n",
    "    left= robot[\"left-light\"].get_brightness()\n",
    "    right = robot[\"right-light\"].get_brightness()\n",
    "    robot.speak(f\"{int(left*10)}{int(right*10)}\")\n",
    "    robot.motors(right, left)"
   ]
  },
  {
   "cell_type": "code",
   "execution_count": 17,
   "metadata": {},
   "outputs": [
    {
     "name": "stdout",
     "output_type": "stream",
     "text": [
      "Using random seed: 6565217\n"
     ]
    },
    {
     "data": {
      "application/vnd.jupyter.widget-view+json": {
       "model_id": "9285ce46f8224d5f82bf68395e249f77",
       "version_major": 2,
       "version_minor": 0
      },
      "text/plain": [
       "0it [00:00, ?it/s]"
      ]
     },
     "metadata": {},
     "output_type": "display_data"
    },
    {
     "name": "stdout",
     "output_type": "stream",
     "text": [
      "Simulation stopped at: 00:00:02.70; speed 0.99 x real time\n"
     ]
    }
   ],
   "source": [
    "world.reset()\n",
    "world.run([vehicle2b])"
   ]
  },
  {
   "cell_type": "markdown",
   "metadata": {},
   "source": [
    "Braitenberg va descriure el comportament resultant com a **agressió** perquè el robot es mou ràpidament cap a la font de llum. Si la font de llum fos un obstacle, el vehicle xocaria contínuament amb ella. No obstant això, en aquest món amb límits de contorn, el vehicle viatja a través de la llum, tornant a ella des de l'altre costat."
   ]
  },
  {
   "cell_type": "markdown",
   "metadata": {},
   "source": [
    "### 2.2 Negative connections\n",
    "\n",
    "Ara, considerem si fem que aquestes connexions siguin negatives o inhibidores. En altres paraules, a mesura que la lectura de llum en un sensor augmenti, la roda connectada a aquest sensor anirà més a poc a poc. I a mesura que la lectura de llum disminueixi, la roda connectada a aquest sensor anirà més ràpida. Quin tipus de comportament crearan aquests dos tipus de connexions negatives possibles?\n",
    "\n",
    "![Vehicle 3ab](http://science.slc.edu/~jmarshall/courses/2005/fall/cs151/lectures/robotics/images/vehicle3ab.gif)"
   ]
  },
  {
   "cell_type": "markdown",
   "metadata": {},
   "source": [
    "#### 2.2.1 Vehicle 3a\n",
    "\n",
    "La velocitat del motor esquerre està inhibida per la lectura del sensor de llum esquerre i la velocitat del motor dret està inhibida per la lectura del sensor de llum dret. Veurem què passa."
   ]
  },
  {
   "cell_type": "code",
   "execution_count": null,
   "metadata": {},
   "outputs": [],
   "source": [
    "def vehicle3a(robot):\n",
    "    left= robot[\"left-light\"].get_brightness()\n",
    "    right = robot[\"right-light\"].get_brightness()\n",
    "    robot.speak(f\"{int(left*10)}{int(right*10)}\")\n",
    "    robot.motors(1-left,1-right)"
   ]
  },
  {
   "cell_type": "code",
   "execution_count": null,
   "metadata": {},
   "outputs": [
    {
     "name": "stdout",
     "output_type": "stream",
     "text": [
      "Using random seed: 5834079\n",
      "Simulation stopped at: 00:00:02.7; speed 0.97 x real time\n"
     ]
    }
   ],
   "source": [
    "world.reset()\n",
    "world.run([vehicle3a])"
   ]
  },
  {
   "cell_type": "markdown",
   "metadata": {},
   "source": [
    "Braitenberg va descriure el comportament resultant com a **amor** perquè el robot es gira cap a la font de llum i s'atura, mirant sense parar la bombeta."
   ]
  },
  {
   "cell_type": "markdown",
   "metadata": {},
   "source": [
    "#### 2.2.2 Vehicle 3b\n",
    "\n",
    "A continuació, veurem connexions negatives creuades. La velocitat del motor esquerre està inhibida per la lectura del sensor de llum de la dreta i la velocitat del motor dret està inhibida per la lectura del sensor de llum de l'esquerra."
   ]
  },
  {
   "cell_type": "code",
   "execution_count": null,
   "metadata": {},
   "outputs": [],
   "source": [
    "def vehicle3b(robot):\n",
    "    left= robot[\"left-light\"].get_brightness()\n",
    "    right = robot[\"right-light\"].get_brightness()\n",
    "    robot.speak(\"%d%d\" % (left*10, right*10))\n",
    "    robot.motors(1-right,1-left)"
   ]
  },
  {
   "cell_type": "code",
   "execution_count": null,
   "metadata": {},
   "outputs": [
    {
     "name": "stdout",
     "output_type": "stream",
     "text": [
      "Using random seed: 5834079\n",
      "Simulation stopped at: 00:00:02.4; speed 0.96 x real time\n"
     ]
    }
   ],
   "source": [
    "world.reset()\n",
    "world.run([vehicle3b])"
   ]
  },
  {
   "cell_type": "markdown",
   "metadata": {},
   "source": [
    "Braitenberg va descriure aquest vehicle com a **explorador** perquè s'allunya de la llum i es mou ràpidament. El robot es mou més ràpidament com més lluny està de la llum, fent que finalment es desplaci pels marges d'aquest món amb límits de contorn."
   ]
  },
  {
   "cell_type": "markdown",
   "metadata": {},
   "source": [
    "### 2.3 Resum dels vehicles senzills\n",
    "\n",
    "A continuació es mostra un resum dels quatre tipus de vehicles senzills que hem explorat fins ara.\n",
    "\n",
    "\n",
    "| Vehicle | Connexions Sensor->Motor | Tipus de connexió | Descripció del comportament |\n",
    "|---------|---------------------------|:-----------------:|------------------------------|\n",
    "| 1a      | Directe                   | Excitatori        | Por                          |\n",
    "| 1b      | Creuat                    | Excitatori        | Agressió                     |\n",
    "| 2a      | Directe                   | Inhibitori        | Amor                         |\n",
    "| 2b      | Creuat                    | Inhibitori        | Explorador                    |"
   ]
  },
  {
   "cell_type": "markdown",
   "metadata": {},
   "source": [
    "## 3. Vehicles més complexos\n",
    "\n",
    "A continuació, provem de combinar aspectes de diversos d'aquests vehicles senzills en un vehicle més complex que respon a múltiples sensors. Creem un nou món amb dues llums de colors diferents, una vermella i una verda, i dos conjunts diferents de sensors de llum que són sensibles només a un d'aquests colors."
   ]
  },
  {
   "cell_type": "code",
   "execution_count": 18,
   "metadata": {},
   "outputs": [
    {
     "name": "stdout",
     "output_type": "stream",
     "text": [
      "Random seed set to: 765721\n"
     ]
    }
   ],
   "source": [
    "world2 = World(width=150, height=150, scale=3.0, ground_color=\"tan\", boundary_wall=False)\n",
    "world2.add_bulb(\"green\", 75, 120, 0, 50)\n",
    "world2.add_bulb(\"red\", 30, 20, 0, 30)"
   ]
  },
  {
   "cell_type": "code",
   "execution_count": 19,
   "metadata": {},
   "outputs": [],
   "source": [
    "robot2 = Vehicle(x=80,y=30,a=10)\n",
    "robot2.add_device(LightSensor(position=(4,-4), name=\"left-red\", color_sensitivity=\"red\"))\n",
    "robot2.add_device(LightSensor(position=(4,4), name=\"right-red\", color_sensitivity=\"red\"))\n",
    "robot2.add_device(LightSensor(position=(6,-6), name=\"left-green\", color_sensitivity=\"green\"))\n",
    "robot2.add_device(LightSensor(position=(6,6), name=\"right-green\", color_sensitivity=\"green\"))\n",
    "world2.add_robot(robot2)"
   ]
  },
  {
   "cell_type": "code",
   "execution_count": 20,
   "metadata": {},
   "outputs": [
    {
     "data": {
      "application/vnd.jupyter.widget-view+json": {
       "model_id": "ee562b14b2f24296aead55637495513b",
       "version_major": 2,
       "version_minor": 0
      },
      "text/plain": [
       "Image(value=b'\\xff\\xd8\\xff\\xe0\\x00\\x10JFIF\\x00\\x01\\x01\\x00\\x00\\x01\\x00\\x01\\x00\\x00\\xff\\xdb\\x00C\\x00\\x08\\x06\\x0…"
      ]
     },
     "metadata": {},
     "output_type": "display_data"
    }
   ],
   "source": [
    "world2.watch()"
   ]
  },
  {
   "cell_type": "markdown",
   "metadata": {},
   "source": [
    "### 3.1 Vehicle 3c\n",
    "\n",
    "Aquest vehicle té connexions excitatòries creuades des dels seus sensors de llum verds, fent que respongui agressivament cap a la bombeta verda (per exemple, el verd significa anar). També té connexions inhibidores directes des dels seus sensors de llum vermells, fent que respongui amorosament cap a la bombeta vermella (per exemple, el vermell significa lent/aturar-se). Els motors respondran a la combinació d'aquests dos factors, donant lloc a comportaments més complexos."
   ]
  },
  {
   "cell_type": "markdown",
   "metadata": {},
   "source": [
    "Aquest vehicle parlarà de les seves lectures de llum verda i vermella com a quatre números en una bombolla mentre es mou. Com més alts siguin els números, més llum es detectarà. Un \"00\" indica poca llum detectada en ambdós costats. Un \"51\" indica que la lectura de llum és més forta a l'esquerra que a la dreta. Un \"99\" indica que els dos sensors estan llegint valors de llum molt alts."
   ]
  },
  {
   "cell_type": "code",
   "execution_count": null,
   "metadata": {},
   "outputs": [],
   "source": [
    "def vehicle3c(robot):\n",
    "    L_gr = robot[\"left-green\"].get_brightness()\n",
    "    R_gr = robot[\"right-green\"].get_brightness()\n",
    "    L_rd = robot[\"left-red\"].get_brightness()\n",
    "    R_rd = robot[\"right-red\"].get_brightness()\n",
    "    L_speed = (R_gr + 1-L_rd)/2.0\n",
    "    R_speed = (L_gr + 1-R_rd)/2.0\n",
    "    s = f\"{int(L_gr*10)}{int(R_gr*10)}{int(L_rd*10)}{int(R_rd*10)}\"\n",
    "    robot.speak(s)\n",
    "    robot.motors(L_speed,R_speed)"
   ]
  },
  {
   "cell_type": "code",
   "execution_count": null,
   "metadata": {},
   "outputs": [
    {
     "name": "stdout",
     "output_type": "stream",
     "text": [
      "Using random seed: 737988\n",
      "Simulation stopped at: 00:00:04.9; speed 0.98 x real time\n"
     ]
    }
   ],
   "source": [
    "world2.reset()\n",
    "world2.run([vehicle3c])"
   ]
  },
  {
   "cell_type": "markdown",
   "metadata": {},
   "source": [
    "Aquest vehicle es mou més lentament quan detecta la llum vermella davant, però no s'atura completament perquè també està afectat per les seves lectures de llum verda. Aquest vehicle també es mou ràpidament cap a la llum verda. Quan pot detectar les dues llums simultàniament, es fa més difícil predir el comportament resultant."
   ]
  },
  {
   "cell_type": "markdown",
   "metadata": {},
   "source": [
    "## 4. Conclusions\n",
    "\n",
    "Reflexionant sobre el Vehicle 3c, Braitenberg assenyala que ara tenim accés a una àmplia gamma de comportaments diferents:\n",
    "\n",
    "\"Us convido a considerar l'enorme riquesa de diferents propietats que podem donar al Vehicle 3c triant diversos sensors i diverses combinacions de connexions creuades i no creuades, excitatòries i inhibidores\" (pàgina 14).\n",
    "\n",
    "Aquesta és la idea central del llibre de Braitenberg: que amb sensors senzills i connexions senzilles, podem crear comportaments sorprenents i complexos.\n",
    "\n",
    "## 5. Activitats\n",
    "\n",
    "1. Prova de reiniciar cada vehicle i observa el seu comportament.\n",
    "2. Intenta canviar els valors de les connexions sensor->motor per veure com afecten el comportament del vehicle.\n",
    "3. Intenta crear un vehicle amb un comportament específic en ment. Quines connexions sensor->motor necessites per aconseguir aquest comportament?\n"
   ]
  }
 ],
 "metadata": {
  "kernelspec": {
   "display_name": "Python 3",
   "language": "python",
   "name": "python3"
  },
  "language_info": {
   "codemirror_mode": {
    "name": "ipython",
    "version": 3
   },
   "file_extension": ".py",
   "mimetype": "text/x-python",
   "name": "python",
   "nbconvert_exporter": "python",
   "pygments_lexer": "ipython3",
   "version": "3.8.10"
  },
  "widgets": {
   "application/vnd.jupyter.widget-state+json": {
    "state": {
     "53dbdcd4f9154e70a4a807d79bef23c5": {
      "buffers": [
       {
        "data": "/9j/4AAQSkZJRgABAQAAAQABAAD/2wBDAAgGBgcGBQgHBwcJCQgKDBQNDAsLDBkSEw8UHRofHh0aHBwgJC4nICIsIxwcKDcpLDAxNDQ0Hyc5PTgyPC4zNDL/2wBDAQkJCQwLDBgNDRgyIRwhMjIyMjIyMjIyMjIyMjIyMjIyMjIyMjIyMjIyMjIyMjIyMjIyMjIyMjIyMjIyMjIyMjL/wAARCAHsAcIDASIAAhEBAxEB/8QAHwAAAQUBAQEBAQEAAAAAAAAAAAECAwQFBgcICQoL/8QAtRAAAgEDAwIEAwUFBAQAAAF9AQIDAAQRBRIhMUEGE1FhByJxFDKBkaEII0KxwRVS0fAkM2JyggkKFhcYGRolJicoKSo0NTY3ODk6Q0RFRkdISUpTVFVWV1hZWmNkZWZnaGlqc3R1dnd4eXqDhIWGh4iJipKTlJWWl5iZmqKjpKWmp6ipqrKztLW2t7i5usLDxMXGx8jJytLT1NXW19jZ2uHi4+Tl5ufo6erx8vP09fb3+Pn6/8QAHwEAAwEBAQEBAQEBAQAAAAAAAAECAwQFBgcICQoL/8QAtREAAgECBAQDBAcFBAQAAQJ3AAECAxEEBSExBhJBUQdhcRMiMoEIFEKRobHBCSMzUvAVYnLRChYkNOEl8RcYGRomJygpKjU2Nzg5OkNERUZHSElKU1RVVldYWVpjZGVmZ2hpanN0dXZ3eHl6goOEhYaHiImKkpOUlZaXmJmaoqOkpaanqKmqsrO0tba3uLm6wsPExcbHyMnK0tPU1dbX2Nna4uPk5ebn6Onq8vP09fb3+Pn6/9oADAMBAAIRAxEAPwDuKKKK8k9AKKKKACiiigAooooAKKKKACiiigAooooAKKKKACiiigAooooAKKKKACiiigAooooAKKKKACiiigCpptjrWuXeqfZNSsLSCzult1SWxeZm/cxyElhMo6yEYx2rQ/4RXxF/0H9L/wDBTJ/8kVP4I/1viP8A7Ci/+ktvXWV2RhHlWhzSnK71OM/4RXxF/wBB/S//AAUyf/JFH/CK+Iv+g/pf/gpk/wDkiuzoqvZw7C55dzjP+EV8Rf8AQf0v/wAFMn/yRR/wiviL/oP6X/4KZP8A5Irs6KPZw7Bzy7nGf8Ir4i/6D+l/+CmT/wCSKP8AhFfEX/Qf0v8A8FMn/wAkV2dFHs4dg55dzjP+EV8Rf9B/S/8AwUyf/JFH/CK+Iv8AoP6X/wCCmT/5Irs6KPZw7Bzy7nGf8Ir4i/6D+l/+CmT/AOSKP+EV8Rf9B/S//BTJ/wDJFdnRR7OHYOeXc4z/AIRXxF/0H9L/APBTJ/8AJFH/AAiviL/oP6X/AOCmT/5Irs6KPZw7Bzy7nGf8Ir4i/wCg/pf/AIKZP/kiszRL2TUtB06+mVFlubWKZwgIUMygnGe3NejV5h4U/wCRP0T/AK8IP/Ra1jWjFJWRpSk29TXooornNgooooAKKKKACiiigAooooAKKKKACiiigAooooAKKKKACiimSSiMep9KBpNuyHEhRknAFQtcD+EZ9zVWe4CDdI3XoKoS3kjkhDtX9ahyOyjhHPU1fPkz979KPOk/vfpXOyXUat88uW79zTPtkH/PT9DU852rLm1t+B0y3Djrg1OkqucDg+hrm4rlgP3UuR04ORV6G9VuJPlb17VSkc1XBNbGzRVaOcrw3I9as9ao4JRcdwooopkhRRRQAUUUUAFFFFABRRRQAUUUUAFFFFAFzwR/rfEf/YUX/wBJbeusrk/BH+t8R/8AYUX/ANJbeusrvh8KOSW7CivPfi/4zuvCPhaNNNfZqN/IYYXAyY1AyzD36AfXPauBn+C/iK00FtfTxJcnxDHF9oeIFslgMlRJuyW98YJ/OrsTc+gKK4b4UeL5/GHgxLi9YNf2sht7h8Y3kAEPj3BGfcGuT+J2u63r/jbT/h94fumtDOoe7mRip5BbBI52hBuI75AotqFz2WivnfxF4J174RQ23iXQ9fmuoY5VS6jdCgOem5dxDKTx6gkfUe86LqkOt6HY6pAMRXcCTKpPK7hnB+nShoC/RXz/ACQ6z8avGuq20eqyWHh3TG2KEBIbkhTtyAzNtJyeg/WXSv7a+EPxF03Q7rU5L/QNVIRC+QFLHbkKSdrKxGccEH8iwXPe6KyfE+tx+G/DOo6xKu8WkJcITjc3RR+JIH414f4d+HuvfFLTpPFOu+Iprdrh3+yIIy4ABIyBuAVcggAemaEgPoaivIPhN4h1my8R6t4F8Q3DXFzYAvbzOxY7VIBXJ5IIZWGegz+Hr9JqwBXmHhT/AJE/RP8Arwg/9FrXp9eYeFP+RP0T/rwg/wDRa1hX2RtS3Zr0UUVym4UUUUAFFFFABRRRQAUUUUAFFFFABRRRQAUUUUAFFFFADXcIpY1nXNx5alzgsegq1cPl9vYVh3UweRpCflUcfQVEmd+Eoc7uyvc3YT5pGLORwP8APSsy5vGcZdgiemf85qO5uNzNK/A7D+lZU85c7m4A6CsJSPrcJg1o7f15Ftr1MfKrE+/FNF6M8x8fWs1pifujFNEzg9c/hWfMeqsJG2xtRXSM/wArFW7Z4rThv8/LKMf7Qrl0lDHB4NaFvcbsI557H1qlI48Tg01sdfaXRVgrNmM9CT0rYgkwQh6dq5Oxm3p5TdVHH0rds5d8QGfmTj/Ct4yPlMdhuVv+vma9FNRt6BvWnVqeK1YKKKKACiiigAooooAKKKKACiiigAooooAueCP9b4j/AOwov/pLb11lcn4I/wBb4j/7Ci/+ktvXWV3w+FHJLdnifx841XwaW+59om3Z6feh/wDr17WxAUlsYxzmuD+LXgq48ZeFFSwAbUrKTzrdSceYMYZM9sjBHuBXnk3xL8f3ugt4bHhS7GsSRfZ3u/KkDEEYLbNuA2P4s474q90Rsav7OYb+xNcP8P2mPH12n/61JacftT327vbjbn/r2T/69dz8MPB0ngvwfHZXRU308huLnachWIACg98AAfXNcl8T/DOvad4u0/x54Xtmubq2UJcwIpZiACN20csCpKnHIAHuQ+odDo/jOR/wqfWs4/5YY/7/AMdXvhaGHwx0Hd1+zfpuOK8q1vXvGnxbFr4etfDkul2Xmq91NIHKZHdmKgADrt5JIFe8aRpsGjaPZaZbZ8m0gSFCepCgDJ9+KT0Q+p4/+zp/yCtfDff+0RbvX7rf/Xo+PHOu+Cgn+s+0TYx1+9DiqF1a+JvhF431PUdI0eTVNA1Jt5SNWIXkkKSoO0qSQCQQQfXpNomneJfih8QbDxJrmlvpmjaYVeGGRWG8qdwA3AFstjJxjAxT63F5HdfGXd/wqfW9vXEH5efHVr4VEH4YaDtxjyD0/wB9q3vEWjQ+IvDt/pE7bY7uFo92M7SejfgcH8K8N0HxX43+F9lL4ZvfC82oRRSN9klUPtGTn5WVSHUk5xwRk59Alqh9TZsOf2pdSKdBbjdj/r3j/rXtleTfCjwnra63qnjXxNE0Oo6iCsUDrtZFYgsSp+70UAdQAa9ZoYIK4K50s+GGhtACdIJWK0mP/LDssMh9OgRz14VvmwZO9qOeCG6t5Le4iSWGVCkkcihldSMEEHggjtUSipKzKjJxd0cXRTb6xm8P3CRSu8umyuEt7l2LNExOBFKTycnhXP3uFb58GR1cUouLszqjJSV0FFFcB8RfGENjZzeHbFFutUvYjFIgPECMuCW/2iDwO3U8YBUY8zsPXZasr6x8W7ay1Ke20vS31S3txiS6SbYm7nOMKcrx97jPOOME9toeuWHiLSotQ0+XfC/DKeGjburDsR/gRkEGvArC7XSdPSO7AhKs+VUZaQgn2+gz0xjmvR/hJo97ZWWpapc2wtrfUmje2jP3ti7znGOFO4Y9cZxjBPRVo+zWqts18/6vp0OeMq8arhVjbr6b7+el/wA9T0eiiiuY6AooooAKKKKACiiigAooooAKKKKAMu6ci3kbuR/Oufv32xKg/iP6D/Irfu/+PV/w/nXO6j/yz/H+lYzPostSbXr+hh3bky7MnC9ves6V9zewq9c/8fDfh/Ks1vu1zs+zw0VyoaTmkoNQSNcByERSvYn/APXV0aLqy5U0vV2N6tVUo3ab9FctA5q1E5Kg5+YVlB7vPESfn/8AXqWKS/GdsEZ9cn/69dSwE/54f+BI46mLg18Ev/AWdTaTY8uXnjr/AFrpLNiLkD+8CK85F9qyp5QtmVc/fjiLED25wa047/Wg6kT6qGz/AA6Yh/rXTDLalruUfvv+R83jpRqXSXfdWPTbYnDDtU9ecx6l4gDfLc63nHbRYz/7NTl8QXSM8d54qubGZDgw3OkKH6Ag4XPrWyy+fSSfpd/lc+enh25XTPRKK87XUdImZ5L3xpqkkzHrbI8CAYA+6FI/KnfbfDn/AEOGu/8Af6T/AOIp/UJef/gMiPq78/uZ6FRXEWyaHdxmSPxnqigHGJb/AMs/kwB/GpJNP0OWNo5PGV68bgqytqiEMD1BGKh4VJ2bf/gMhexS3b+5nZ0Vx39i+BP+eth/4Hn/AOLqxa+FvCF9v+yQwXGzG7yrt3256Zw3HQ1Lo00rty/8B/4InCK3v9x1NVbnU7CykEd1fW0EhG4LLKqkj1wT7Gsj/hB/Dn/QO/8AI8n/AMVVi18KaDZ7/K0yBt2M+aDL09N2cfhUcuHX2m/kv8ybU+7+7/gln+3tH/6C1h/4Ep/jR/b2j/8AQWsP/AlP8aP7B0f/AKBNh/4DJ/hR/YOj/wDQJsP/AAGT/Cj/AGf+9/5KH7vz/AbJ4i0WONpG1WyIUEkLOrHj0AOT9BVD/hOPDn/QR/8AIEn/AMTWj/YOj/8AQJsP/AZP8K0KL4ddJP5pfowvT7P8DH8K+PfDOmya0bvUvLFzfiaL9xIdyfZ4UzwvHzIw59K6H/haHg7/AKDH/ktN/wDEVn+GPEeh6Re+IbfU9Z06ymbUldY7m6SNiv2W3GQGIOMg8+xrof8AhN/CX/Q0aJ/4MIv/AIqu6Lpcq91/f/wDllKld6P7/wDgGWPiVpFzMyaTYavq6ooMklhZM6oTnAO7BB49MfrT/wDhPf8AqU/FX/gu/wDsq0f+E38Jf9DRon/gwi/+Ko/4Tfwl/wBDRon/AIMIv/iqrmp/yfi/8hc9L+X8X/kZ3/Ce/wDUp+Kv/Bd/9lTJfH0iwuYfCHid5QpKK9gVUt2BIJwPfB+hrU/4Tfwl/wBDRon/AIMIv/iqP+E38Jf9DRon/gwi/wDiqOen/J+LDnp/yfizO/4SHxj/ANCL/wCVeH/Cj/hIfGP/AEIv/lXh/wAK0f8AhN/CX/Q0aJ/4MIv/AIqj/hN/CX/Q0aJ/4MIv/iqXtI/yL8f8w9rH+Rfj/mZ3/CQ+Mf8AoRf/ACrw/wCFMF/8QL+Zjb6LpGlxIoG2/uWmZ25yQYug6cEfie2p/wAJv4S/6GjRP/BhF/8AFUf8Jv4S/wCho0T/AMGEX/xVP2i6QX4/5h7WPSC/H/Mzv+Ljf9Sr/wCTFH/Fxv8AqVf/ACYrR/4Tfwl/0NGif+DCL/4qj/hN/CX/AENGif8Agwi/+Kpe1/ur7v8Agh7b+6vu/wCCZ3/Fxv8AqVf/ACYpkXh/xs0KGbxuiSlQXVNLiZQ3cAnGR74H0Fan/Cb+Ev8AoaNE/wDBhF/8VR/wm/hL/oaNE/8ABhF/8VT9q+iX3f8ADh7Z9EvuX/BM7/hHvGP/AEPX/lIh/wAa4bwvbeKbPwjZNpXiiSOOa1SaG2uIRKseY12oHfcVUcDgYHUCvSv+E38Jf9DRon/gwi/+KrjvCn/In6J/14Qf+i1rGtiKkUrW+5f5GlOq5PVL7l/kY5vJ9W1FdD8XeLb2C4lgKrYx+VarcByEOHXKyKTuUKwDnrtXkGa/8OPp10zT63r5sZWCwPFdM7q+APLZQuSWP3So5JCYDbd+h4lgtV0S8vZ7SGdbdY7maJ0BFxHA4l8piR91sMvIIG8nB6HvJ/DU1pbyw6NcR/Y5EKSaTfgzWkiEYKLnLQgjCADdGq5xETV08ROrHt8l/kTOvUpy0enov8jzCLw9eXbGOxbxtcygZKOHtgB67rhY1PbgEn2wCRx3jDwdr+g3ket3VncR2V1J5DSXk0T3SuEyNzRuwZTt4PUbSCB8pb3DSvEs2japb6D4gt7u0+0P5VhdXJMqO/aEzjhycN5bNtkcL86BsNLj6d/xcH4iTalL8+heH5NliU4EtxlSX3DIcZXPDDjy+OWz0UL3cpO6W+33bG2HxVXn9o3ZR1/yXz/zPA9A0O58Za5bxWxW1tIBJILqa38xZGQpuUKflbBePKns2T1Ar2HRtG12z1I3Wq+JX1KIQtGkAtFgUMSp3HaeSNuORxk++ez8dweTe6FqgDfJPJZSsfuJHMm7J9CZIYUBJx8+MEkYzK83FTk5u/Uj2jrSdSe/9WCiiiuUoKKKKACiiigAooooAKKKKACiiigDLukJt5F7gfyrn79N0SuP4T+h/wAiuruEw+7saw7qEJI0ZHysOPoaymj28vrWf9fM5G7QiXfg4bv71nSptb2NdBc2+1mifkdj/WsqeAodrcg9DXPJH2WFrppIziMUlWWhI+6c00ROT0xUWPQVREYGKtRIQoGPmNIkQU5PJrQt7fbh3HPYelUkc1eski1aQ58uLnnr/Wuks1JuQf7oJrMsYdiea3Vhx9K3bOLZEDj5n5/wreCPk8xr3v8A16mhbA4Y9qnpqLsQL6U6tkfMzd5XCiiimSU59I026maa4060llb7zyQqzHtySKj/ALB0f/oE2H/gMn+FaFFWqs1opP73/mVzS7mf/YOj/wDQJsP/AAGT/Cqlz4R0C7kEkmmRKQMYiJjH5KQPxrboqlXqxd1J/e/8xqpNbNnPf8IP4c/6B3/keT/4qj/hB/Dn/QO/8jyf/FV0NFV9ar/zv72P21T+Z/ec4PBenwSM1hdahp4YAOlrclQ2M4Jzk9/Wnf8ACKf9R/Xf/Az/AOtXQ0UfWq3WX5f5B7Wff+vuOe/4RT/qP67/AOBn/wBamjw7qltIxsPE16kbAblukW4ORnoTjHXsK6Oij61V6u/yX+Qe1n/SX+Rz39keI/8Aoaf/ACnx/wCNH9keI/8Aoaf/ACnx/wCNdDRR9Zn2X/gK/wAg9rLy+5HOC08W2sjCHU9Pvo2A+a6hMZU85wE/Dqf/AK7v+Kx/6gX/AJGroaKPrDe8Y/d/wUHtPJfcc9/xWP8A1Av/ACNTRfeK7WRln0eyvgQCr2tx5QXrkHfye3b8+3R0Ue3XWEfut+TD2neK/r5nPf2v4j/6Fb/yoR/4Uf2v4j/6Fb/yoR/4V0OM9KcEY9qpVE9qa/8AJv8AMTqwW8V+P+ZzQ8SahbyNHf8AhrUIzgFDa4uAeuckYA6dP8l3/CV/9QDXf/AP/wCvXR7MdWAowndqr3OtNL/t5r/Mn21P+X8znP8AhK/+oBrv/gH/APXpp8aafBIq39rqGnhgSj3VsVDYxkDGT39K6XKjoufrRvx0AFCeH+1H7m/1Vh+0j/J+Jzn/AAnHhz/oI/8AkCT/AOJpR448Of8AQS/8gSf/ABNdFvb1pvWpcsMtov71/kNOHVP7/wDgGNa+LfD93IY49VhVgu4+aGjH5sAM+1W/7e0Qf8xexP8A28J/jU11YWd9s+12kFxszt82MPtz1xkcdBVf+wdH/wCgTYf+Ayf4VXPhv5Wvuf8AkJxpvq/wI7vVvD97ZT2lxqNg8E8bRSL9qUblYYIyDkcHtXb+DPEdtrnhzSfM1S1utWewhmu4o5U8xXKLvLIv3fmOCMDBOK8616z03R9CvNRg8PWF29tH5ph8uOPKj7x3FT0XJ6c4xXiV34t/tS4sbZtPt7KyiupXY2MK/aJI5ZN20seGKD5U4AA4rooOlK9r/h+hjUjRulr+DPqD4leILvStGttL0l3XWNXmFtalG2soyAzBiMA8qvUEb8g8VqafaaL8PfB2J54bWysohJdXLKV8x8AM5HJLMcADk9FHYV4j4O8JWGpR3V7dxzzWRkKWombYzKD95tuAew4OMhq2tZ8Aabc6RcxaTElpflf3Mzu7qrAg4IJPBxjODjOcHFb1a1Gn+5bem+nX7+n+ZtUowjD2XM9NXpu/v6HP+JfjVrviBJxaaHbL4eW6hmTzNwuGWKVJBlg20ZKc4UgAkZOM1oad448Sa/pTXmjeEopUbciSHU4yEcf3kIU+hxxkEeoNeWXmp3mj+dYXdm9vqsJ8uTdjA/2vc+mODnPTinW+mzaMq6jp99JDqVn+83r93gcgccjHHPB6EYNcVRKTba0Wzt+dm9L2189jPFvDYeMPYycrr3tNFrZdNOzWtnbV30+kKKxfCWtyeIvC9jqs0KQyzq29EJK7lYqSM9jtzjtnGT1rarjas7Mad1cKKKKQwooooAKKKKACiiigAooooAa6B1Kms65t/MUocBh0NadMkiEg9D60mrmtKq4M5W5tA/yyKVcDg/561mXNmyDDqHT1x/nFdfPbhxtkXp0NUJbORCSg3L+tZSge/hswt1/ryORayTHyswPvzTRZc8vx7CujktY2b54sN37GmfY4Ofk/U1nyHqrMdOpixWqK/wAqlm7Z5rThsMfNKc/7IrQitmI/dRYHXgYFXobJV5k+ZvTtVKBxYjMfP/MgtLUswZlxGOgI61sQR5Ic9O1JHAW5bgelWelbJWPnsRiHUYUUUVRyBRRRQAUUUUAFFFFABRRRQAUUUUAFFFFABjPSl2se1KXak3E9zWn7td2R77F2HuQKNqjq1Noo5oraIcsurHfIOxNG/wBFAptFL2jW2gci6jt7etIST1NJRSc5PdlKKWyCiiipGFFFFABRRRQAUUUUAMlijnheGaNJIpFKujqCrKeCCD1Fcr4xnk1C5sfDdq2Jb1w8zYB2xKc5569CeCD8mO9dLf3sOnWE95cNiKFCzcjJ9hnueg9zXPeDbKaSG512+X/TNRcsMg/JH2AzyAfqRgLXXhl7NOu+m3r/AMDf7jal7t6j6bev/A3Olt4I7W2it4V2xRIERck4UDAHNSUVXv72HTrCe8uGxFChZuRk+wz3PQe5rlScnbdsy1bOV+It7p66INPuYILm4mYNHHJnMWM/vBj8hyM5PUZFcrH8Ldbv7uFL++trfTHKtNHCxM2AM4+7tznjqQOvOOd/wxZXPiLXZfEmorIIY3P2SNwCvfAHsvqAMtznINd7XoV6n1eCw8N95evb5fma14xUPZfN+vb5FawsLXS7CGysoEgtoV2pGvQD+p7knkk5NWaKK84xCiiigAooooAKKKKACiiigAooooAKKKKAEIDDBGQaha3H8Jx7Gp6KRUZOOxU8iTP3f1pBA+ThPrVyiixftpFVbdz1wKnSJUORyfU0+iixMqkmFFFFMgKKKKACiiigAooooAKKKKACiiigAooooAKKKKACiiigAooooAKKKKACiiigAooooAKKKKACiiigAoorN1/Vk0XRri9baZFG2JT/ABOegxkZ9TjnANVCDnJRjuxxTk7IwNb/AOKn8R2ujQ/vLCzfzr515UNyAhPGD1HB/iPHymuxrA8I6S+maMslzuN7dnz7hn+9k9ASRngdQe5at+t8TNXVOHwx09X1fzf4JGlVq/Ktl/TCuA8SzT+KPEsPh2zkUW8B3zybdwVwDk5HoDtxx8xIPat7xf4g/sHSv3LYvZ8rBlMgYxuY9uAfzI4IzUPgvw6NG0wXE8a/bbkBmJUho0IBCc/menPHOBW2HXsKbxEt9o+vf5F0l7OPtXv0/wA/kdDaWkFjax2trEsUMYwqL2/z61NRRXA227s527hRRRQAUUUUAFFFFABRRRQAUUUUAFFFFABRRRQAUUUUAFFFFABRRRQAUUUUAFFFFABRRRQAUUUUAFFFFABRRRQAUUUUAFFFFABRRRQAUUUUAFFFFABRRRQAUUUUAFFFFABRRRQAVxyf8VR4yjuE+fStK/1cq/dkm4PB4PBwe4+Qf3q0vFerPYaelpa7jqF+fItgOOSQCd2RjG4YOepHbNXdA0lNF0a3sl2mRRulYfxOepzgZ9BnnAFddP8Ac0nV6y0Xp1f6L5m0fchzdXov1f6GlUN3dwWNrJdXUqxQxjLO3b/PpU1cF4nvbnxFrsXhvTmkEMbj7XIhBXtkn2X0JGW4xkCs8NQ9tOzdktW+yJpU+eVunUi8O203ivxHL4hvk220DgQRiQ/K64Kj6DqemSfqK9CqvYWUOnWEFnbriKFAq8DJ9zjuep9zVinia/tp3WkVol2Q6tTnlpstgooornMgooooAKKKKACiiigAooooAKKKKACiiigAooooAKKKKACiiigAooooAKKKKACiiigAooooAKKKKACiiigAooooAKKKKACiiigAooooAKKKKACiiigAooooAKKKKACiiigApskiRRtJI6pGgLMzHAUDqSadXLeLr2a58jw7p7f6df8A3iSVCxc5OffaeOeA3HIzrRpOrNR+/wAl1ZcIc8rEOgRv4h1+XxNMjJbxgwWUbjDADgtkcHq3rySM/KK6+q9hZQ6dYQWduuIoUCrwMn3OO56n3NOu7uCxtZLq6lWKGMZZ27f59KqtU9rU91abJeXT+u7HOXPLTboYni/xB/YOlfuWxez5WDKZAxjcx7cA/mRwRmofBfh0aNpguJ41+23IDMSpDRoQCE5/M9OeOcCsTw7bTeK/EcviG+TbbQOBBGJD8rrgqPoOp6ZJ+or0KujENYen9Xju9ZfovkaVH7OPs1v1/wAgooorgOcKKKKACiiigAooooAKKKKACiiigAooooAKKKKACiiigAooooAKKKKACiiigAooooAKKKKACiiigAooooAKKKKACiiigAooooAKKKKACiiigAooooAKKKKACiiigAooooAKKKKAK9/ew6dYT3lw2IoULNyMn2Ge56D3Nc94Usprq5u/El4u2e//ANTGQQY4geAegOQF5x0AOeTUOvyP4h1+LwzC7JbxgT3siHDADkLg8HqvryQcfKa62ONIo1jjRUjQBVVRgKB0AFdb/c0eX7U//Sen3vX0SNn7kLdX+X/BHVwXiu/k17XbTw3p9x+7L/6SyEEbhyQemdoBOM8njqK6DxXry6DpDSIc3U2Y4ACMhsfeweoH0PJA71T8F6DJp1nJqF8JDqF580nmgbkXJOM9cnqc+2RkVphkqMHiZekfXv8AL8yqSUI+1fy9f+AdDYWUOnWEFnbriKFAq8DJ9zjuep9zViiiuFtt3Zg3d3YUUUUhBRRRQAUUUUAFFFFABRRRQAUUUUAFFFFABRRRQAUUUUAFFFFABRRRQAUUUUAFFFFABRRRQAUUUUAFFFFABRRRQAUUUUAFFFFABRRRQAUUUUAFFFFABRRRQAUUUUAFFFFABWfrerw6JpUt9MN+3ASMMAXY9AM/n9AT2rQrjp/+Kr8WNZt/yDNJfdIByJpc/dZT24YdDwG5+YY3w9NTlefwrV/5fN6GlOKbu9luaHhLSJtPsJby9O6/v38+c7SpXPIUjsRkk8Dk47Vu3E8drbS3EzbYokLu2CcKBknipK4LxdqM2uarB4Z0t42LPmZ95A3DJKnthQMnryB3GK0pwli6zctFu32S/wCBoiop1p3fz8kQaRbv408UTaveRqdOtTsiiePG8clVPY4zubk9QMYPHolVdN0+DStPhsrYMIYhgbjknJySfqSTVqpxVdVZ+7pFaJeX/BFVqc702WwUUUVzGQUUUUAFFFFABRRRQAUUUUAFFFFABRRRQAUUUUAFFFFABRRRQAUUUUAFFFFABRRRQAUUUUAFFFFABRRRQAUUUUAFFFFABRRRQAUUUUAFFFFABRRRQAUUUUAFFFFABRRRQAUUUUAYXirWZNI0oC0+a/uXEVugUMdx6nb3x+PJXjmrPh7Ro9C0iK0TmQ/PM24kNIQMke3GBx0HrWFon/FT+I7rWZv3lhZv5NijcqG4JcDjB6HkfxDn5RXW3E8drbS3EzbYokLu2CcKBkniuusvZQVBb7v16L5fmzafupU1v1/y+X5mN4r15dB0hpEObqbMcABGQ2PvYPUD6Hkgd6p+C9Bk06zk1C+Eh1C8+aTzQNyLknGeuT1OfbIyKxNIt38aeKJtXvI1OnWp2RRPHjeOSqnscZ3NyeoGMHj0StK7WHpewXxPWX6L/Mqp+7j7Nbvf/IKKKK4DnCiiigAooooAKKKKACiiigAooooAKKKKACiiigAooooAKKKKACiiigAooooAKKKKACiiigAooooAKKKKACiiigAooooAKKKKACiiigAooooAKKKKACiiigAooooAKKKKACiiigArmPF+oT+Xb6JYFTe6iTG2Ru2RHhie4+uDwG7iujuJ47W2luJm2xRIXdsE4UDJPFct4Tgk1a5uPEl8u6WdylorEN5MQJGF/UdAeCf4jXVhoqN60to/i+n+b9DWkkrzfT8+n+Z0em6fBpWnw2VsGEMQwNxyTk5JP1JJrjvG2oS6pqFt4asCxmeRTPwwAyAVBx1AB3Hg4wD2NdF4l16PQNKefMbXL/LBExPzt3PHYdT+WRkVk+BtDe0tW1e8LNe3g3Kxk3fu2w2T7k8nr26HNbYf92niqmr6eb7/ACNKfup1pfLzZ0um6fBpWnw2VsGEMQwNxyTk5JP1JJq1RRXBKTk23uznbbd2FFFFIQUUUUAFFFFABRRRQAUUUUAFFFFABRRRQAUUUUAFFFFABRRRQAUUUUAFFFFABRRRQAUUUUAFFFFABRRRQAUUUUAFFFFABRRRQAUUUUAFFFFABRRRQAUUUUAFFFFABRRRQAUUVT1bUY9J0q5vpRlYUyF5+ZugHQ4ySBn3pxi5NRW7Gk27I5zxRI+tazZeGrd2EbET3rIfuoOgJGceuCMZKV1f7m0tv+WcMESeyqigfkABXPeD9OkSwOr3x83Ub/8AeNK2NwjONqjnAGADgY6gY4FZfjPU5tRv4fDGn8yzOv2jKHA6Moz6D7xIHQDnqK73S9rUjh4P3Y7v/wBKf6L0Ojk55Kmtlv8AqypYRzeOPFB1CdJV0m0I8qNwCpIx8p7c9W68YGehr0SqOj6VBo2mQ2UCrhAN7gY8x8csfr+nTtV6sMVWVWVoaRWi9P8AgmdWak7LZbBRRRXMZBRRRQAUUUUAFFFFABRRRQAUUUUAFFFFABRRRQAUUUUAFFFFABRRRQAUUUUAFFFFABRRRQAUUUUAFFFFABRRRQAUUUUAFFFFABRRRQAUUUUAFFFFABRRRQAUUUUAFFFFABRRRQAVx1//AMVL4yh04fPp2mfvbjurydlPUHsMHB/1lbHiXWP7I0pzCd19P+6tYl5ZnPGQMHOM56eg7im+G9LTw/4djinZY3wZrlmbAViOcnJHAAGenGa66P7qm6vV6R/V/LZebNoe5Hn67L/Md4l16PQNKefMbXL/ACwRMT87dzx2HU/lkZFZPgbQ3tLVtXvCzXt4NysZN37tsNk+5PJ69uhzWVYRzeOPFB1CdJV0m0I8qNwCpIx8p7c9W68YGehr0Sta3+zUvYL4nrL9F/mXP91D2a3e/wDkFFFFeecwUUUUAFFFFABRRRQAUUUUAFFFFABRRRQAUUUUAFFFFABRRRQAUUUUAFFFFABRRRQAUUUUAFFFFABRRRQAUUUUAFFFFABRRRQAUUUUAFFFFABRRRQAUUUUAFFFFABRRRQAUUUUAFFFc14w1GRLAaRYjzdRv/3axLjcIzncx4wBgEZOOpOeDWlKm6s1Bdf6uVCLlKyKdh/xUvjKbUT8+naZ+6t+6vJ3YdQe5yMH/V1D451Oa7ki8N6fG01zOVaUIQeOoU+nQMTxgAdia1ru4tvBnhONFO5ok8qL5SRJKQTkjPAJyTz04Has3wRoj7ZNf1AK93dkvGWTBQEnLenzZ7Dp0PJFejGUV/tDXux0iu77/qzqTS/ePZaL+vxOl0fSoNG0yGygVcIBvcDHmPjlj9f06dqvUUV5cpOUnKW7ORtt3YUUUUhBRRRQAUUUUAFFFFABRRRQAUUUUAFFFFABRRRQAUUUUAFFFFABRRRQAUUUUAFFFFABRRRQAUUUUAFFFFABRRRQAUUUUAFFFFABRRRQAUUUUAFFFFABRRRQAUUUUAFFFFABRRRQBHcTx2ttLcTNtiiQu7YJwoGSeK5Tw6h1PU73xVelUt2DJZ+Yw/dxKSCxznb07Hu/Y07xZPJq1zb+G7Ft0s7h7tlAbyYgQct+h6g8AfxCqfi7UJES18K6KkhmdFRljcHEeMCM9xwASSRx1yCa9HD0XyKK0c9/KK3fz/L1OmnB2st3+C/4JSjVvHfixpHH/EosflwJCN65ODg85YjngYAxnIGfRqz9E0iHRNKisYTv25LyFQC7HqTj8voAO1aFYYqsqklGHwx0X+fzM6s1J2jstgooorlMgooooAKKKKACiiigAooooAKKKKACiiigAooooAKKKKACiiigAooooAKKKKACiiigAooooAKKKKACiiigAooooAKKKKACiiigAooooAKKKKACiiigAooooAKKKKACiiigAooooAKq6lqEGlafNe3JYQxDJ2jJOTgAfUkCrVcZrUieJdfXSt6ppumnz76Zj8jEfw5H3cAsOo/i4+XnfD0lUn73wrV+n/B2XqaU4c0tdupXsbl9C0S98T6kFbUdSObdfvgAjKL6gdyN33VUdRirHgjRH2ya/qAV7u7JeMsmCgJOW9Pmz2HToeSKzI1bx34saRx/xKLH5cCQjeuTg4POWI54GAMZyBn0au3F1XTi4bSlv5LpH7tzetNxXL1e/kuiCiiivLOQKKKKACiiigAooooAKKKKACiiigAooooAKKKKACiiigAooooAKKKKACiiigAooooAKKKKACiiigAooooAKKKKACiiigAooooAKKKKACiiigAooooAKKKhe4AOFGT60hNpbkxIAyTgVGZ0HfP0qqzM5yxzTSwUZYgD1NK5m6nYnNy2eFA+tH2h/RaoveQr0Ysc44FN+3xf3X/If40rmTrLuX/tD+gpftDZ6Cs4X8fdX/SnLfQk4O5fcijmD2y7mmtwh65FSKyt0INZ6SJIMowP0pwJByDg07miqFfxJrQ0HRpLwKrzEiOFGzhnPrj0AJ7ZxjPNcRqBk0fSo9Atn8/WdUdWvXLjejNjEe4dc5PUnqx6MKs6jrMd/q51icb9O0htkCZA+0Tk8FWHbIUnk8KDjk1oeCdJuJ5pfEWps73dxkReYo+6cfOPTPQdMD2Ir26UI4ajzz9bd39lfLd+bR6cEqcOaX9Povluzo9A0lNF0a3sl2mRRulYfxOepzgZ9BnnAFaVFFeRObnJyluzjk3J3YUUUVIgooooAKKKKACiiigAooooAKKKKACiiigAooooAKKKKACiiigAooooAKKKKACiiigAooooAKKKKACiiigAooooAKKKKACiiigAooooAKKKKACkJCjJOAKWqs0u84H3R+tJkylZCSTF+Bwv86iZlRSzHAHU0yaZYU3Nyew9azJpmmfc3A7D0qGzlqVbepZmvs/LEMf7RqmWLHLEk+pqKWZIVy5xnoO5rOmvJZD8pKL6A/1qGzhq1+5pvIkYy7Bfqai+2W//AD0/Q1k0VPMc7rvojW+2W/8Az0/Q0+OeKXhHBPp0NY1FHMCry6o3aoa5rdzZWS2tud91dnyoiWIK54LA+vIxz1IPaqqXL243eZhFGTuPAFcre6hLq1+0iDM0reRAoYqUTPQ9iTnHX+9x0x6eW4b21Tmfwx/pf5vyXmetlkHXqOXSO/6f5vyRo6Vpseu6pBYW7btLsfneRotplJI3Zx3YjAyeFX1Bz6dBtt1VIlVY1AUIowAB0AFcto1gNIsY4Yz+8+/IwOcvjnHt2roLe6Wb5SNr+nrSxuK9tUtH4Vt5938zorYtValo7Lbz8/maqOJFyPxFOqkjlGyKuKwZQw6GuVMqMri0UUUygooooAKKKKACiiigAooooAKKKKACiiigAooooAKKKKACiiigAooooAKKKKACiiigAooooAKKKKACiiigAooooAKKKKACiiigAooooAKKKOlAEM77V2jqaqsyopZjgDqafI+9yfyqhfy9Igfdqhs5qs7alaeZppCSflH3R6CqV1c+QAFALn17VJNKIYi55x0HrWQ7mRy7dSc1m2eXWqteojMzsWY5J6moJLlIyRyxHpUVxOQxRDjHUiqtZNnmzq62RM9zI/AO0e1Qk5OT1qNplU4HNRmZz3A/Cpuc8p33LFSJPJH0bI9DVLzX9f0pWulRCzjgDPFOKcmkt2ODcpKMd2Gr6m32f7Mgw8g+cg9B/wDX5p2hWBRftcqkMwxGCO3r/n+tZUEb394Xkxjq3HGPSuggmMOFH3BxtHb6V7uMqLB4dYSHxPWT/T+unqfTYyssDh44KL956yf6f10Xmb9pdszCKTnPAb/Gr6syMGU4I6GsEHIyOlalncecm1vvqPXr7146ZwUal9Gb8EyzRgg/MPvD0NW4H2ttPQ1i2svlTDJ+VuDWp0NapnqUp3Vy/RTY33oD+dOqzrCiiigAooooAKKKKACiiigAooooAKKKKACiiigAooooAKKKKACiiigAooooAKKKKACiiigAooooAKKKKACiiigAooooAKKKKACiiigAqOZtsR9+KkqC5/h/GkyZOyK5IAJJwBWM7mRyzdSc1qXTFbZyPTH51kOwRGY9AM1nI4K72Rm3sxkmKA/KvGPeqFxJ5cRwfmPAqZmLMWPJJyaoXT7pdoPC/wA6ybPGrT3ZBVeSQsSAflqSVtqY7mq9Zs4JPoHSm7hTSc0UjK47d7VSvZSziJM+4Hc1YlkEcZbv2+tV7SIk+c3Xtz+derl0Y0YyxlTaOiXeX/APbyqMMPCWPrK6jpFd5f8AA/rYuWqG2jCg89T71eBDAEd6pg5FTQtglfXpXnVKkqk3Ob1Z5k606tR1Ju7epo2knWMn3FXopWhkDr26j1FZMb7JFb0NaYORkdKEzpoy09DcVgyhhyCMite2cyW6knJ6GsGzk32y56r8ta+nsSjr2BB/z+VaxZ7NCV36mpbN95fxqeqkJxKvPXirdao9GD0CiiimWFFFFABRRRQAUUUUAFFFFABRRRQAUUUUAFFFFABRRRQAUUUUAFFFFABRRRQAUUUUAFFFFABRRRQAUUUUAFFFFABRRRQAUUUUAFVrkneB2xVmq1x98fSkyJ7FC+Yi3wP4iAayZ/8Aj3k/3T/Kta+BNvkdmBNZM/8Ax7yf7p/lWcjzq+79DGrNl/1z/wC8a0qzZf8AXP8A7xrCR4lbZFWf74+lQt0qaf74+lQt0qDiluMpKWkoMyo5NzPsGfLXqRVsDAwOAKaqKmdqgZ64p9deKxKqqMKatCK0X5t+bO/G4uNZQp0laEFovPq35t/gOXrT1OHB96Yo5p6jcwHqa5DjRbrRhO6FCPTFZ1aMC7YEHtmridlHc1NObMbrjoc5+v8A+qtaxIFxg91IFZOnKQkjdiQP8/nWtYqDcZP8IJFaxPYw97RNNThgfQ1eqio3MB6nFXq2R6tMKKKKZoFFFFABRRRQAUUUUAFFFFABRRRQAUUUUAFFFFABRRRQAUUUUAFFFFABRRRQAUUUUAFFFFABRRRQAUUUUAFFFFABRRRQAUUUUAFQXP8AD+NT1HMu6I+3NJkyV0Z90pa2cD0z+VZDqHRlPQjFbhAIIIyDWM6GNyrdQcVnI4K62ZgspVip4IODVC6TbLuA4b+dbF7CY5i4Hytzn3qhcR+ZEcD5hyKyaPGrQ3RlyruTPcVXq5VeSMqSQPlrNnBJdSuRiipOtN2ikZWG0U7b70oAFAWADAqaFckt6dKjVS5wBVoAKAB2oRpFD403yKvqa0wMDA6VUtI+shHsKvRRNNIEXv1PoK0SO2jHT1NKzj2Wy56t81a2np8rvxycCqCqFUKOABgVr2yGO3UEYPU1rFHs0I2a8izCMyrx05q3UFsv3m/Cp61R6MFoFFFFMsKKKKACiiigAooooAKKKKACiiigAooooAKKKKACiiigAooooAKKKKACiiigAooooAKKKKACiiigAooooAKKKKACiiigAooooAKOtFFAFKRNjkflVC/i6SgezVrTpuXcOoqqyq6lWGQeoqGjmqwvoYM0QmiKHjPQ+lZDoY3KN1BxXQTwtDIQR8p+6fUVSurbzwCpAceves2jy61Jv1OfuICWLoM56gVVrWZWRirDBHUVBJbJISeVJ9KyaPNnS1ujMaFWORxUZhcdgfxq89tInIG4e1QkYOD1qbHPKFtysInPanrB/eP4CpqkSCSTouB6miwKF9iMAAYAxUsMDSnJyF9anS0UYLkk+g6VZAwMDpVJG8aXcAMDA6VqWdv5Kbm++w9OntUVpaMrCWTjHIX/ABq+qs7BVGSegrRI9GjTtqya1i82YZHyrya1OpqKCFYYwAPmP3j6mrcCbm3HoK1SPUpQsrE8abEA/OnUUVZ1hRRRQAUUUUAFFFFABRRRQAUUUUAFFFFABRRRQAUUUUAFFFFABRRRQAUUUUAFFFFABRRRQAUUUUAFFFFABRRRQAUUUUAFFFFABRRRQAUUUUAFVZothyPun9KtUhAYYIyDSZMo3RmzQrMm1uD2PpWZNC0L7W5HY+tbckJTkcr/ACqJlV1KsMg9RUNHLUpX9TBlhSZcOM46HuKzprOWM/KC6+oH9K6Kaxx80Rz/ALJqmVKnDAg+hqGjhq0O5g0VtvGkgw6hvqKi+x2//PP9TU8pzug+jMkDHSitUWUA/gz+JqSOCKLlEAPr1NHKCoSMuO3llI2ocHuelaMFqkHP3n/vGp6sw2byHL5Rf1NUkb06CT01ZXVWdgqjJPQVpW9qsPzE7n9fSpYoUhXCDHqfWpUQyNgfiatI7adK2+4IhdsCriqFUKOgpEQRrgfiadVpHZGNgoooplBRRRQAUUUUAFFFFABRRRQAUUUUAFFFFABRRRQAUUUUAFFFFABRRRQAUUUUAFFFFABRRRQAUUUUAFFFFABRRRQAUUUUAFFFFABRRRQAUUUUAFFFFABUL24JypwfSpqKQmk9yiyshwwxTSoYYYAj0NaBAIwRkVGYEPbH0pWM3T7GY9nC3RSpzng1G2nqT8shA9xmtI2zZ4YH600wSA9M/jSsZOiuxnDT+fmk79hUi2MIOTub2Jq75Mn939ad9nbPUUcolRXYrpGkYwigfSnAEnAGTVpbdB1yakVVXoAKdjVUyBLcnlzj2FTgBRgDAFLRTsaqKWwUUUUxhRRRQAUUUUAFFFFABRRRQAUUUUAFFFFABRRRQAUUUUAFFFFABRRRQAUUUUAFFFFABRRRQAUUUUAFFFFABRRRQAUUUUAFFFFABRRRQAUUUUAFFFFABRRRQAUUUUAFFFFABRRRQAUUUUAFFFFABRRRQAUUUUAFFFFABRRRQAUUUUAFFFFABRRRQAUUUUAFFFFABRRRQAUUUUAFFFFABRRRQB86/wDCz/GP/QY/8lof/iK9J0Lw58Y9d0uPUF1K0so5VDxpeRxo7qeh2iM4/HFeb/C7SYNc+JehWNygeEzmV0IyGEatJg+x211Xxi8d6+fiLeWFlql5Z2mnFI4Y7eZo8ttBZjg8nJP4AV6fs4djh55dzM8SeJ/iR4S1VtN1m9a3nxuU/Z4WV1/vKQuCKz7H4geO9TvoLGx1CS4up3CRxR2kRZie33K9C+IFw3jL4BeH/FN6qnUoJgjygYLfM0T/APfRRW/CqH7O9hbf2rr+uzxh3021VY/9nfuJI98RkfiaPZw7Bzy7mu/g340Lp/2karpzS7c/ZR5XmfTPl7c/8CrzO7+Injmwu5rS71J4biFykkclpEGVhwQRsp1p8UvFUPjFNfl1a6fM4eS281vJMeeY9mcbccfr15rq/wBorSYLPxrZajCgVr60zLgfedDt3f8AfO0fhR7OHYOeXc4z/hZ/jH/oMf8AktD/APEUf8LP8Y/9Bj/yWh/+IrmdPspdS1K1sYComuZkhQucDcxAGT2GTXafEP4X33w9hsJrnULe8ivCygxqVKMoBIweo56/yo9nDsHPLuUf+Fn+Mf8AoMf+S0P/AMRXZeDh8VvG8D3WmahDFZq237TdQxIhbuBhCT+AxXj9fQPxk1e+8EeFvDXhPQ7mWxh+znzngYozhAoAyOeSWJ9TR7OHYOeXc5rxjL8VPA6RzarfxvaSNsW6t4Ynj3eh+QEH6gZrkf8AhZ/jH/oMf+S0P/xFepfDTVrzx58LfFvh7W55L02cAaCadi7ruVynJ5O1o8jPrivLvhdpMGufEvQrG5QPCZzK6EZDCNWkwfY7aPZw7Bzy7npGheHPjHrulx6gupWllHKoeNLyONHdT0O0RnH44rjvEnif4keEtVbTdZvWt58blP2eFldf7ykLgitP4xeO9fPxFvLCy1S8s7TTikcMdvM0eW2gsxweTkn8AK3/AIgXDeMvgF4f8U3qqdSgmCPKBgt8zRP/AN9FFb8KPZw7Bzy7nmv/AAs/xj/0GP8AyWh/+Io/4Wf4x/6DH/ktD/8AEVyNeiXPwi1O2+GqeMm1G1MbQrcG1AO4RsQB83TdyDj9c0ezh2Dnl3Mn/hZ/jH/oMf8AktD/APEVt+F/EXxK8Y6p9g0W9M8qrukc28KpGvqzFOP5ntXm1e9eGLyXwT+zhd6/pmI9S1GdgJwOV/eeUD+AViPc0ezh2Dnl3IPEWg/GHw5pcmoy6laXlvCpeX7HHG7RqOpKtGCQPbNedf8ACz/GP/QY/wDJaH/4iu2+CHjfXJfH0WjX+pXV7aajHIGS5laTa6oX3DcTg4Ug+ufYV57490mHQ/Hut6dbKEghu38pR0VCdwH4AgUezh2Dnl3NCD4keNrm4jgg1RpJpWCIi2sRLMTgADZ1zXWeKT8V/B2kx6lrN/BFbSSiEFEgc7iCQMBfRTU3wS8LWsAvPHuu4i0zSlY27OOGkA+Z8d9o4Hqx45FdN8YdbPiT4J6LrPleSLzUI5VjznapSXAPvjFHs4dg55dzyP8A4Wf4x/6DH/ktD/8AEUf8LP8AGP8A0GP/ACWh/wDiK5Gij2cOwc8u513/AAs/xj/0GP8AyWh/+Iqey+IXjrUb2Gzs9RknuZnCRxR2kRZmPQAbK4qvVf2fI7V/iZm42+aljK1vn/nplQce+wv+tHs4dg55dzrY/Bfxnex+0NrGmpJtz9nbyvM+mRGVz/wKvN9U8deP9F1KfTtSvpLa7gbbJFJawgg/988juCODWrrviD4gr8XLuC1utTOpJfMLezR28sx7vlGz7pQrjnoRyfWup/aQ0iNZtB1oRqlxMj28+Oc7cMvPfG5/0o9nDsHPLuea/wDCz/GP/QY/8lof/iKP+Fn+Mf8AoMf+S0P/AMRXI0Uezh2Dnl3Ou/4Wf4x/6DH/AJLQ/wDxFH/Cz/GP/QY/8lof/iK5Gij2cOwc8u513/Cz/GP/AEGP/JaH/wCIo/4Wf4x/6DH/AJLQ/wDxFcjRR7OHYOeXc67/AIWf4x/6DH/ktD/8RR/ws/xj/wBBj/yWh/8AiK5Gij2cOwc8u513/Cz/ABj/ANBj/wAlof8A4ij/AIWf4x/6DH/ktD/8RXI0Uezh2Dnl3Ou/4Wf4x/6DH/ktD/8AEUf8LP8AGP8A0GP/ACWh/wDiK5Gij2cOwc8u513/AAs/xj/0GP8AyWh/+Io/4Wf4x/6DH/ktD/8AEVyNFHs4dg55dzrv+Fn+Mf8AoMf+S0P/AMRR/wALP8Y/9Bj/AMlof/iK5Gij2cOwc8u513/Cz/GP/QY/8lof/iKP+Fn+Mf8AoMf+S0P/AMRXI0Uezh2Dnl3Ou/4Wf4x/6DH/AJLQ/wDxFH/Cz/GP/QY/8lof/iK5Gij2cOwc8u513/Cz/GP/AEGP/JaH/wCIo/4Wf4x/6DH/AJLQ/wDxFcjRR7OHYOeXc67/AIWf4x/6DH/ktD/8RR/ws/xj/wBBj/yWh/8AiK5Gij2cOwc8u513/Cz/ABj/ANBj/wAlof8A4ij/AIWf4x/6DH/ktD/8RXI0Uezh2Dnl3Ou/4Wf4x/6DH/ktD/8AEUf8LP8AGP8A0GP/ACWh/wDiK5Gij2cOwc8u513/AAs/xj/0GP8AyWh/+IorkaKPZw7Bzy7ncfB68isfixoEszBVaV4gT/eeN0X9WFS/GbT7iw+KesGeNlS5ZJ4mI4dSg5H4gj6g1wsM0lvNHNC7RyxsHR1OCpByCD617bY/HrT7zT7ZfFPhO31K/th8lwAhBb+8AynYfXB/LpVkkviWKTQ/2YdD0+9Ux3FzOrLGwwcNJJKOP93H51H+ztIk/wDwlelBwJ7q1iZAfRfMUn85F/OvP/iD8Q9S+IGqxT3Ua21nbgi2tEbcEz1JPGWOBzgdOlY/hbxNqPhHX7fWNMdRPDkFHGVkU9VYeh/+v2oArW2i39zr8WirbyC/e4Ft5JHzB920gj2Net/tJXccninR7NWBkhs2dx6bnIH/AKDV5vj/AKKrNqcPgqFdcZNpuC6Z6Y5cJuI9q8Y8Qa9f+JtcutX1OXzLq4bcxAwFHQKB2AAAFAGcCQQQcEdCKvanq2raq0LatqF7eNGmIjdTNIVU/wB3cTgfSodOuhY6na3jQJOsEySmGT7sgUg7T7HGK774pfE20+IMemJbaQbP7HvLSSOGY7sfKMD7ox+PtQB5xXu37Q8T6ja+GNet1L2M8DqJF5ALBXXn3GcfQ14TXqvgn4yHQvDq+HfEOjR6zpcfEQcgsi5ztIYEMAenTH5YAOg+B8UmleAvG2uXKlLNoAqOw4YxxyFsev31FcF8HryKx+LGgSzMFVpXiBP9543Rf1YVrePfi/L4n0RfD+i6XHo+jDHmRIRukAOQuAAFXPOB1x17V5pDNJbzRzQu0csbB0dTgqQcgg+tAHdfGbT7iw+KesGeNlS5ZJ4mI4dSg5H4gj6g13HiWKTQ/wBmHQ9PvVMdxczqyxsMHDSSSjj/AHcfnUVj8etPvNPtl8U+E7fUr+2HyXACEFv7wDKdh9cH8ulcB8QfiHqXxA1WKe6jW2s7cEW1ojbgmepJ4yxwOcDp0oA46tBtX1dtHXTW1G9OlhsrbGZ/JDdfu52571n16hdfFezuPhHH4MGgqtwsKQ+fvHljawPmBcZ3nH5knPagDy+vdreJ9a/ZVMFkpll0+d2mReSAJy5/JXDfSvCa7j4dfEvUPh/dzqlut7p11jz7V328joynBwccdCCPwIANL4EadcXnxTsLmKNjFZRTSzNjhQY2Qfq4rE+I1xDqfxT1x0lUQtftEZOw2kIT+hrvNV+O9pbaPc2nhDwzBo9zcj95cgIu0/3gqqMt6Enj0NeKsxZizElicknqaAPqnXtP8Cax4KsfCdr450vTtLtdu5YL6Ambb03Et/e+Y+p5qv488NaAvwQtNP8A+EhhWx09RNZXZZWF1IqPtQYODuyfu+ntXzv4T16Lwz4ls9Xm02DUY7csTbT/AHXypHocEZyDg8ivTvEHx7t9c8NXejf8IbbRxzwtGhkuhIsRIIDBfLHIzkcigDxenKjPnapOBk4HQU2vTfhj8U7PwDpOpWVzon21rp/MWRHCk/LjY2Qfl7/ieKAPMquaVql7omqW+padcNb3du++KReoP9R2I7g1XnkE1xJKEWMOxbYgwFyeg9q6XwB4stPB3iI6je6PBqkDwtC0UuMpkg7lyCM8Y6dCaAPWPDfxl8Z+MrqDRNI0KxXUpQFkvwGaOBO8hU9MdeSeeMHpWb+0TrkEuoaN4dinM01jE0tyxOTucKFB98KSf94Uaj8f7ez02S08JeGLfTJJP+WzhQEPqEUAE+5P4GvF7y8udQvZry8nee5mcvJLIcszHqSaAIKKKKACiiigAooooAKKKKACiiigAooooAKKKKACiiigAooooAKKKKACiiigAooooAKKKKACiiigAooooAKKKKACiiigAooooAKKKKACiiigAooooAKKKKACiiigAooooAKKKKACiiigAooooAKKKKACiiigAooooAKKKKACiiigAooooAKKKKACiiigAooooAKKKKACiiigAooooAKKKKACiiigAooooAKKKKACiiigD//Z",
        "encoding": "base64",
        "path": [
         "value"
        ]
       }
      ],
      "model_module": "@jupyter-widgets/controls",
      "model_module_version": "1.5.0",
      "model_name": "ImageModel",
      "state": {
       "layout": "IPY_MODEL_bea57ea4327f4570a9d2e963eb9a6a60"
      }
     },
     "6cbb47ae024643e6b176b2ea27a10190": {
      "model_module": "@jupyter-widgets/base",
      "model_module_version": "1.2.0",
      "model_name": "LayoutModel",
      "state": {
       "border": "10px solid rgb(0 177 255)",
       "margin": "auto"
      }
     },
     "bea57ea4327f4570a9d2e963eb9a6a60": {
      "model_module": "@jupyter-widgets/base",
      "model_module_version": "1.2.0",
      "model_name": "LayoutModel",
      "state": {
       "border": "10px solid rgb(0 177 255)",
       "margin": "auto"
      }
     },
     "dfef70d1ca994b248e75a5533eeaf46f": {
      "buffers": [
       {
        "data": "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",
        "encoding": "base64",
        "path": [
         "value"
        ]
       }
      ],
      "model_module": "@jupyter-widgets/controls",
      "model_module_version": "1.5.0",
      "model_name": "ImageModel",
      "state": {
       "layout": "IPY_MODEL_6cbb47ae024643e6b176b2ea27a10190"
      }
     }
    },
    "version_major": 2,
    "version_minor": 0
   }
  }
 },
 "nbformat": 4,
 "nbformat_minor": 4
}
