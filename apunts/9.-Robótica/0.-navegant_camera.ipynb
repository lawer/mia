{
 "cells": [
  {
   "cell_type": "markdown",
   "metadata": {},
   "source": [
    "# Fem un seguidor de línia utilitzant la càmera del robot"
   ]
  },
  {
   "cell_type": "markdown",
   "metadata": {},
   "source": [
    "En aquesta ocasió, farem un seguidor de línia utilitzant la càmera del robot. Per a això, farem servir la càmera per capturar imatges del terra i processar-les per detectar la línia. A continuació, farem servir la informació obtinguda per controlar el robot i fer-lo seguir la línia.\n",
    "\n",
    "Per a fer-ho, farem servir la llibreria `opencv` per processar les imatges i aitk.robots per controlar el robot."
   ]
  },
  {
   "cell_type": "markdown",
   "metadata": {},
   "source": [
    "Comencem per instal·lar i importar les llibreries necessàries:"
   ]
  },
  {
   "cell_type": "code",
   "execution_count": 1,
   "metadata": {},
   "outputs": [
    {
     "name": "stdout",
     "output_type": "stream",
     "text": [
      "Requirement already satisfied: aitk.robots in /home/carlesgm/Documents/mia/.venv/lib/python3.8/site-packages (0.9.43)\n",
      "Requirement already satisfied: numpy in /home/carlesgm/Documents/mia/.venv/lib/python3.8/site-packages (1.24.3)\n",
      "Requirement already satisfied: opencv-python-headless in /home/carlesgm/Documents/mia/.venv/lib/python3.8/site-packages (4.8.0.74)\n",
      "Requirement already satisfied: setuptools in /home/carlesgm/Documents/mia/.venv/lib/python3.8/site-packages (from aitk.robots) (69.2.0)\n",
      "Requirement already satisfied: Pillow in /home/carlesgm/Documents/mia/.venv/lib/python3.8/site-packages (from aitk.robots) (9.4.0)\n",
      "Requirement already satisfied: aitk.utils>=0.6.1 in /home/carlesgm/Documents/mia/.venv/lib/python3.8/site-packages (from aitk.robots) (0.7.3)\n",
      "Requirement already satisfied: ipywidgets in /home/carlesgm/Documents/mia/.venv/lib/python3.8/site-packages (from aitk.robots) (8.1.2)\n",
      "Requirement already satisfied: tqdm in /home/carlesgm/Documents/mia/.venv/lib/python3.8/site-packages (from aitk.utils>=0.6.1->aitk.robots) (4.66.2)\n",
      "Requirement already satisfied: comm>=0.1.3 in /home/carlesgm/Documents/mia/.venv/lib/python3.8/site-packages (from ipywidgets->aitk.robots) (0.2.2)\n",
      "Requirement already satisfied: ipython>=6.1.0 in /home/carlesgm/Documents/mia/.venv/lib/python3.8/site-packages (from ipywidgets->aitk.robots) (8.12.3)\n",
      "Requirement already satisfied: traitlets>=4.3.1 in /home/carlesgm/Documents/mia/.venv/lib/python3.8/site-packages (from ipywidgets->aitk.robots) (5.14.2)\n",
      "Requirement already satisfied: widgetsnbextension~=4.0.10 in /home/carlesgm/Documents/mia/.venv/lib/python3.8/site-packages (from ipywidgets->aitk.robots) (4.0.10)\n",
      "Requirement already satisfied: jupyterlab-widgets~=3.0.10 in /home/carlesgm/Documents/mia/.venv/lib/python3.8/site-packages (from ipywidgets->aitk.robots) (3.0.10)\n",
      "Requirement already satisfied: backcall in /home/carlesgm/Documents/mia/.venv/lib/python3.8/site-packages (from ipython>=6.1.0->ipywidgets->aitk.robots) (0.2.0)\n",
      "Requirement already satisfied: decorator in /home/carlesgm/Documents/mia/.venv/lib/python3.8/site-packages (from ipython>=6.1.0->ipywidgets->aitk.robots) (5.1.1)\n",
      "Requirement already satisfied: jedi>=0.16 in /home/carlesgm/Documents/mia/.venv/lib/python3.8/site-packages (from ipython>=6.1.0->ipywidgets->aitk.robots) (0.19.1)\n",
      "Requirement already satisfied: matplotlib-inline in /home/carlesgm/Documents/mia/.venv/lib/python3.8/site-packages (from ipython>=6.1.0->ipywidgets->aitk.robots) (0.1.6)\n",
      "Requirement already satisfied: pickleshare in /home/carlesgm/Documents/mia/.venv/lib/python3.8/site-packages (from ipython>=6.1.0->ipywidgets->aitk.robots) (0.7.5)\n",
      "Requirement already satisfied: prompt-toolkit!=3.0.37,<3.1.0,>=3.0.30 in /home/carlesgm/Documents/mia/.venv/lib/python3.8/site-packages (from ipython>=6.1.0->ipywidgets->aitk.robots) (3.0.43)\n",
      "Requirement already satisfied: pygments>=2.4.0 in /home/carlesgm/Documents/mia/.venv/lib/python3.8/site-packages (from ipython>=6.1.0->ipywidgets->aitk.robots) (2.17.2)\n",
      "Requirement already satisfied: stack-data in /home/carlesgm/Documents/mia/.venv/lib/python3.8/site-packages (from ipython>=6.1.0->ipywidgets->aitk.robots) (0.6.3)\n",
      "Requirement already satisfied: typing-extensions in /home/carlesgm/Documents/mia/.venv/lib/python3.8/site-packages (from ipython>=6.1.0->ipywidgets->aitk.robots) (4.5.0)\n",
      "Requirement already satisfied: pexpect>4.3 in /home/carlesgm/Documents/mia/.venv/lib/python3.8/site-packages (from ipython>=6.1.0->ipywidgets->aitk.robots) (4.9.0)\n",
      "Requirement already satisfied: parso<0.9.0,>=0.8.3 in /home/carlesgm/Documents/mia/.venv/lib/python3.8/site-packages (from jedi>=0.16->ipython>=6.1.0->ipywidgets->aitk.robots) (0.8.3)\n",
      "Requirement already satisfied: ptyprocess>=0.5 in /home/carlesgm/Documents/mia/.venv/lib/python3.8/site-packages (from pexpect>4.3->ipython>=6.1.0->ipywidgets->aitk.robots) (0.7.0)\n",
      "Requirement already satisfied: wcwidth in /home/carlesgm/Documents/mia/.venv/lib/python3.8/site-packages (from prompt-toolkit!=3.0.37,<3.1.0,>=3.0.30->ipython>=6.1.0->ipywidgets->aitk.robots) (0.2.13)\n",
      "Requirement already satisfied: executing>=1.2.0 in /home/carlesgm/Documents/mia/.venv/lib/python3.8/site-packages (from stack-data->ipython>=6.1.0->ipywidgets->aitk.robots) (2.0.1)\n",
      "Requirement already satisfied: asttokens>=2.1.0 in /home/carlesgm/Documents/mia/.venv/lib/python3.8/site-packages (from stack-data->ipython>=6.1.0->ipywidgets->aitk.robots) (2.4.1)\n",
      "Requirement already satisfied: pure-eval in /home/carlesgm/Documents/mia/.venv/lib/python3.8/site-packages (from stack-data->ipython>=6.1.0->ipywidgets->aitk.robots) (0.2.2)\n",
      "Requirement already satisfied: six>=1.12.0 in /home/carlesgm/Documents/mia/.venv/lib/python3.8/site-packages (from asttokens>=2.1.0->stack-data->ipython>=6.1.0->ipywidgets->aitk.robots) (1.16.0)\n"
     ]
    }
   ],
   "source": [
    "!pip install aitk.robots numpy opencv-python-headless"
   ]
  },
  {
   "cell_type": "code",
   "execution_count": 2,
   "metadata": {},
   "outputs": [],
   "source": [
    "import aitk.robots as bots\n",
    "import numpy as np\n",
    "import matplotlib.pyplot as plt\n",
    "import cv2"
   ]
  },
  {
   "cell_type": "markdown",
   "metadata": {},
   "source": [
    "## Seguidor de línia simple"
   ]
  },
  {
   "cell_type": "markdown",
   "metadata": {},
   "source": [
    "Crearem el mon del robot i el robot. Necessitarem l'imatge [`pista_5.png`](https://lawer.github.io/mia/apunts/9.-Rob%C3%B3tica/pista_5.png) per aquest exemple, que conté una pista amb una línia negra.\n",
    "\n",
    "El robot comptarà amb una càmera que capturarà imatges del terra i les processarà per detectar la línia. Serà de tipus `GroundCamera` i l'afegirem al robot."
   ]
  },
  {
   "cell_type": "code",
   "execution_count": 40,
   "metadata": {},
   "outputs": [
    {
     "data": {
      "text/plain": [
       "<matplotlib.image.AxesImage at 0x7fd108607310>"
      ]
     },
     "execution_count": 40,
     "metadata": {},
     "output_type": "execute_result"
    },
    {
     "data": {
      "image/png": "[encoded data removed]",
      "text/plain": [
       "<Figure size 640x480 with 1 Axes>"
      ]
     },
     "metadata": {},
     "output_type": "display_data"
    }
   ],
   "source": [
    "# Baixem pista_5.png utilitzant requests. Podem utilitzar altres pistes (de 1 a 5) canviant el número de la imatge\n",
    "\n",
    "import requests\n",
    "\n",
    "nom_imatge = \"pista_5.png\"\n",
    "\n",
    "url = \"https://lawer.github.io/mia/apunts/9.-Rob%C3%B3tica/\" + nom_imatge\n",
    "\n",
    "response = requests.get(url)\n",
    "\n",
    "# Guardem la imatge\n",
    "\n",
    "with open(nom_imatge, \"wb\") as f:\n",
    "    f.write(response.content)\n",
    "\n",
    "# Carreguem la imatge en una variable\n",
    "\n",
    "img = cv2.imread(nom_imatge)\n",
    "\n",
    "# Mostrem la imatge\n",
    "plt.imshow(cv2.cvtColor(img, cv2.COLOR_BGR2RGB))"
   ]
  },
  {
   "cell_type": "code",
   "execution_count": 19,
   "metadata": {},
   "outputs": [
    {
     "name": "stdout",
     "output_type": "stream",
     "text": [
      "Random seed set to: 3357441\n"
     ]
    },
    {
     "data": {
      "application/vnd.jupyter.widget-view+json": {
       "model_id": "3dfa874ba13641dabcbf9b16ca4731a5",
       "version_major": 2,
       "version_minor": 0
      },
      "text/plain": [
       "HTML(value='<style>img.pixelated {image-rendering: pixelated;}</style>')"
      ]
     },
     "metadata": {},
     "output_type": "display_data"
    },
    {
     "data": {
      "application/vnd.jupyter.widget-view+json": {
       "model_id": "458e85e31df84cac8ba2193eef74b081",
       "version_major": 2,
       "version_minor": 0
      },
      "text/plain": [
       "HTML(value='<style>img.pixelated {image-rendering: pixelated;}</style>')"
      ]
     },
     "metadata": {},
     "output_type": "display_data"
    },
    {
     "data": {
      "application/vnd.jupyter.widget-view+json": {
       "model_id": "2511801cfc994a88b41be2a73b82f034",
       "version_major": 2,
       "version_minor": 0
      },
      "text/plain": [
       "HTML(value='<style>img.pixelated {image-rendering: pixelated;}</style>')"
      ]
     },
     "metadata": {},
     "output_type": "display_data"
    },
    {
     "data": {
      "application/vnd.jupyter.widget-view+json": {
       "model_id": "1f4a69891d804841af07244eb629bd11",
       "version_major": 2,
       "version_minor": 0
      },
      "text/plain": [
       "Image(value=b'\\x89PNG\\r\\n\\x1a\\n\\x00\\x00\\x00\\rIHDR\\x00\\x00\\x00d\\x00\\x00\\x002\\x08\\x06\\x00\\x00\\x00\\xaa5~\\xbe\\x00\\…"
      ]
     },
     "metadata": {},
     "output_type": "display_data"
    },
    {
     "data": {
      "application/vnd.jupyter.widget-view+json": {
       "model_id": "0a2dd63bf783427f802cbb1d60132237",
       "version_major": 2,
       "version_minor": 0
      },
      "text/plain": [
       "Image(value=b'\\xff\\xd8\\xff\\xe0\\x00\\x10JFIF\\x00\\x01\\x01\\x00\\x00\\x01\\x00\\x01\\x00\\x00\\xff\\xdb\\x00C\\x00\\x08\\x06\\x0…"
      ]
     },
     "metadata": {},
     "output_type": "display_data"
    }
   ],
   "source": [
    "world = bots.World(220, 180, boundary_wall_color=\"yellow\", ground_image_filename=nom_imatge)\n",
    "\n",
    "robot = bots.Scribbler(x=24, y=90, a=90)\n",
    "robot.add_device(bots.GroundCamera(width=100, height=50))\n",
    "\n",
    "world.add_robot(robot)\n",
    "\n",
    "robot['ground-camera'].watch()\n",
    "world.watch()"
   ]
  },
  {
   "cell_type": "markdown",
   "metadata": {},
   "source": [
    "Implementa la funció `controlador_cam` que serà la que haurà de controlar el robot. Pots basar-te en l'exemple fet en [`openCV`](https://colab.research.google.com/github/lawer/mia/blob/main/apunts/8.-Reconeixement%20imatges/1.-Introduccio_OpenCV.ipynb) per a detectar la línia (tin en compte que la càmara aquí estpa baix del robot, per lo que si utilitzem la part baixa de la imatge segurament el robot siga massa inestable - seria millor utilitzar la part superior de la imatge) i en l'exemple fet en [`aitk.robots`](https://colab.research.google.com/github/lawer/mia/blob/main/apunts/9.-Rob%C3%B3tica/0.-exemples_robots.ipynb) per a controlar el robot."
   ]
  },
  {
   "cell_type": "code",
   "execution_count": null,
   "metadata": {},
   "outputs": [],
   "source": [
    "def controlador_cam(robot):\n",
    "    cam = robot['ground-camera']\n",
    "    image = cam.get_image()\n",
    "\n",
    "    # convertim la imatge a un array de numpy per treballar en OpenCV\n",
    "    im = np.array(image)\n",
    " \n",
    "    # ens quedem amb la part alta de la imatge\n",
    "    im_baix = im[00:20, 0:100]\n",
    "\n",
    "    # convertim a escala de grisos\n",
    "    im_bn = cv2.cvtColor(im_baix, cv2.COLOR_RGB2GRAY)\n",
    "\n",
    "    # apliquem un filtre de desenfocament\n",
    "    im_blurred = cv2.GaussianBlur(im_bn, (5, 5), 0)\n",
    "\n",
    "    # binaritzem la imatge\n",
    "    ret, im_thresh = cv2.threshold(im_blurred, 100, 200, cv2.THRESH_BINARY_INV)\n",
    "\n",
    "    # busquem els contorns\n",
    "    contours, hierarchy = cv2.findContours(im_thresh, cv2.RETR_EXTERNAL, cv2.CHAIN_APPROX_SIMPLE)\n",
    "    \n",
    "    # dibuixem els contorns\n",
    "    cv2.drawContours(im_baix, contours, -1, (0, 255, 0), 1)\n",
    "\n",
    "    # calculem el centre de la vora més gran\n",
    "    if len(contours) > 0:\n",
    "        cnt = max(contours, key=cv2.contourArea)\n",
    "        M = cv2.moments(cnt)\n",
    "        # En M tenim els moments de la imatge\n",
    "        M00 = M['m00'] # area\n",
    "        M01 = M['m01'] # sum(y)\n",
    "        M10 = M['m10'] # sum(x)\n",
    "\n",
    "        # Si l'area és diferent de 0 calculem el centre de massa\n",
    "        if M00 != 0:\n",
    "            cx = int(M10/M00)\n",
    "            cy = int(M01/M00)\n",
    "\n",
    "            # Dibuixem el centre de massa\n",
    "            cv2.circle(im_baix, (cx, cy), 1, (255, 0, 0), -1)\n",
    "\n",
    "            # Mostrem la imatge\n",
    "            plt.imshow(im_baix)\n",
    "            plt.show()\n",
    "\n",
    "            # Movem el robot\n",
    "            # Si el centre de massa està a l'esquerra del centre de la imatge, girem a l'esquerra\n",
    "            # Si el centre de massa està a la dreta del centre de la imatge, girem a la dreta\n",
    "            # Si el centre de massa està al centre de la imatge, anem recte\n",
    "            # Tenim en compte una marge per no fer moviments petits\n",
    "            marge = 5\n",
    "            if cx < 100/2 - marge:\n",
    "                robot.move(1, 0.3)\n",
    "            elif cx > 100/2 + marge:\n",
    "                robot.move(1, -0.3)\n",
    "            else:\n",
    "                robot.move(1, 0)   \n",
    "\n",
    "world.reset()\n",
    "world.seconds(60, [controlador_cam], real_time=False)"
   ]
  },
  {
   "cell_type": "markdown",
   "metadata": {},
   "source": [
    "## Seguidor de línia doble (mantindre's en la carretera)\n",
    "\n",
    "Adapta el seguidor de línia per a que el robot siga capaç de seguir dues línies paral·leles i mantindre's en la carretera. Per a això, farem servir la imatge [`pista_6.png`](https://lawer.github.io/mia/apunts/9.-Rob%C3%B3tica/pista_6.png) que conté dues línies paral·leles."
   ]
  },
  {
   "cell_type": "code",
   "execution_count": 41,
   "metadata": {},
   "outputs": [
    {
     "ename": "error",
     "evalue": "OpenCV(4.8.0) /io/opencv/modules/imgproc/src/color.cpp:182: error: (-215:Assertion failed) !_src.empty() in function 'cvtColor'\n",
     "output_type": "error",
     "traceback": [
      "\u001b[0;31m---------------------------------------------------------------------------\u001b[0m",
      "\u001b[0;31merror\u001b[0m                                     Traceback (most recent call last)",
      "Cell \u001b[0;32mIn[41], line 17\u001b[0m\n\u001b[1;32m     14\u001b[0m img \u001b[38;5;241m=\u001b[39m cv2\u001b[38;5;241m.\u001b[39mimread(nom_imatge)\n\u001b[1;32m     16\u001b[0m \u001b[38;5;66;03m# Mostrem la imatge\u001b[39;00m\n\u001b[0;32m---> 17\u001b[0m plt\u001b[38;5;241m.\u001b[39mimshow(\u001b[43mcv2\u001b[49m\u001b[38;5;241;43m.\u001b[39;49m\u001b[43mcvtColor\u001b[49m\u001b[43m(\u001b[49m\u001b[43mimg\u001b[49m\u001b[43m,\u001b[49m\u001b[43m \u001b[49m\u001b[43mcv2\u001b[49m\u001b[38;5;241;43m.\u001b[39;49m\u001b[43mCOLOR_BGR2RGB\u001b[49m\u001b[43m)\u001b[49m)\n\u001b[1;32m     19\u001b[0m world \u001b[38;5;241m=\u001b[39m bots\u001b[38;5;241m.\u001b[39mWorld(\u001b[38;5;241m220\u001b[39m, \u001b[38;5;241m180\u001b[39m, boundary_wall_color\u001b[38;5;241m=\u001b[39m\u001b[38;5;124m\"\u001b[39m\u001b[38;5;124myellow\u001b[39m\u001b[38;5;124m\"\u001b[39m, ground_image_filename\u001b[38;5;241m=\u001b[39mnom_imatge)\n\u001b[1;32m     21\u001b[0m robot \u001b[38;5;241m=\u001b[39m bots\u001b[38;5;241m.\u001b[39mScribbler(x\u001b[38;5;241m=\u001b[39m\u001b[38;5;241m24\u001b[39m, y\u001b[38;5;241m=\u001b[39m\u001b[38;5;241m90\u001b[39m, a\u001b[38;5;241m=\u001b[39m\u001b[38;5;241m90\u001b[39m)\n",
      "\u001b[0;31merror\u001b[0m: OpenCV(4.8.0) /io/opencv/modules/imgproc/src/color.cpp:182: error: (-215:Assertion failed) !_src.empty() in function 'cvtColor'\n"
     ]
    }
   ],
   "source": [
    "nom_imatge = \"pista_6.png\"\n",
    "\n",
    "url = \"https://lawer.github.io/mia/apunts/9.-Rob%C3%B3tica/\" + nom_imatge\n",
    "\n",
    "response = requests.get(url)\n",
    "\n",
    "# Guardem la imatge\n",
    "\n",
    "with open(nom_imatge, \"wb\") as f:\n",
    "    f.write(response.content)\n",
    "\n",
    "# Carreguem la imatge en una variable\n",
    "\n",
    "img = cv2.imread(nom_imatge)\n",
    "\n",
    "# Mostrem la imatge\n",
    "plt.imshow(cv2.cvtColor(img, cv2.COLOR_BGR2RGB))"
   ]
  },
  {
   "cell_type": "code",
   "execution_count": 49,
   "metadata": {},
   "outputs": [
    {
     "name": "stdout",
     "output_type": "stream",
     "text": [
      "Random seed set to: 4182361\n"
     ]
    },
    {
     "data": {
      "application/vnd.jupyter.widget-view+json": {
       "model_id": "c3ecf606944942b8ae0083c7ea5d2480",
       "version_major": 2,
       "version_minor": 0
      },
      "text/plain": [
       "HTML(value='<style>img.pixelated {image-rendering: pixelated;}</style>')"
      ]
     },
     "metadata": {},
     "output_type": "display_data"
    },
    {
     "data": {
      "application/vnd.jupyter.widget-view+json": {
       "model_id": "12e3d479b49b48daaaa584285f5fb7cc",
       "version_major": 2,
       "version_minor": 0
      },
      "text/plain": [
       "HTML(value='<style>img.pixelated {image-rendering: pixelated;}</style>')"
      ]
     },
     "metadata": {},
     "output_type": "display_data"
    },
    {
     "data": {
      "application/vnd.jupyter.widget-view+json": {
       "model_id": "03faecb3339a42688a7211545150da43",
       "version_major": 2,
       "version_minor": 0
      },
      "text/plain": [
       "HTML(value='<style>img.pixelated {image-rendering: pixelated;}</style>')"
      ]
     },
     "metadata": {},
     "output_type": "display_data"
    },
    {
     "data": {
      "application/vnd.jupyter.widget-view+json": {
       "model_id": "3e6790921c514d1f936ccc8eb5288aae",
       "version_major": 2,
       "version_minor": 0
      },
      "text/plain": [
       "Image(value=b'\\x89PNG\\r\\n\\x1a\\n\\x00\\x00\\x00\\rIHDR\\x00\\x00\\x00d\\x00\\x00\\x002\\x08\\x06\\x00\\x00\\x00\\xaa5~\\xbe\\x00\\…"
      ]
     },
     "metadata": {},
     "output_type": "display_data"
    },
    {
     "data": {
      "application/vnd.jupyter.widget-view+json": {
       "model_id": "ddbfe1724aa440ab8a2a160a5d0be4ea",
       "version_major": 2,
       "version_minor": 0
      },
      "text/plain": [
       "Image(value=b'\\xff\\xd8\\xff\\xe0\\x00\\x10JFIF\\x00\\x01\\x01\\x00\\x00\\x01\\x00\\x01\\x00\\x00\\xff\\xdb\\x00C\\x00\\x08\\x06\\x0…"
      ]
     },
     "metadata": {},
     "output_type": "display_data"
    }
   ],
   "source": [
    "world = bots.World(220, 180, boundary_wall_color=\"yellow\", ground_image_filename=nom_imatge)\n",
    "\n",
    "robot = bots.Scribbler(x=36, y=90, a=90)\n",
    "robot.add_device(bots.GroundCamera(width=100, height=50))\n",
    "\n",
    "world.add_robot(robot)\n",
    "\n",
    "robot['ground-camera'].watch()\n",
    "world.watch()"
   ]
  },
  {
   "cell_type": "code",
   "execution_count": null,
   "metadata": {},
   "outputs": [],
   "source": [
    "def controlador_cam(robot):\n",
    "    cam = robot['ground-camera']\n",
    "    image = cam.get_image()\n",
    "\n",
    "    # convertim la imatge a un array de numpy per treballar en OpenCV\n",
    "    im = np.array(image)\n",
    " \n",
    "    # ens quedem amb la part alta de la imatge\n",
    "    im_baix = im[00:20, 0:100]\n",
    "\n",
    "    # convertim a escala de grisos\n",
    "    im_bn = cv2.cvtColor(im_baix, cv2.COLOR_RGB2GRAY)\n",
    "\n",
    "    # apliquem un filtre de desenfocament\n",
    "    im_blurred = cv2.GaussianBlur(im_bn, (5, 5), 0)\n",
    "\n",
    "    # binaritzem la imatge\n",
    "    ret, im_thresh = cv2.threshold(im_blurred, 100, 200, cv2.THRESH_BINARY)\n",
    "    plt.imshow(im_baix)\n",
    "    plt.show()\n",
    "\n",
    "    # busquem els contorns\n",
    "    contours, hierarchy = cv2.findContours(im_thresh, cv2.RETR_EXTERNAL, cv2.CHAIN_APPROX_SIMPLE)\n",
    "    \n",
    "    # dibuixem els contorns\n",
    "    cv2.drawContours(im_baix, contours, -1, (0, 255, 0), 1)\n",
    "\n",
    "    # calculem el centre de la vora més gran\n",
    "    if len(contours) > 0:\n",
    "        cnt = max(contours, key=cv2.contourArea)\n",
    "        M = cv2.moments(cnt)\n",
    "        # En M tenim els moments de la imatge\n",
    "        M00 = M['m00'] # area\n",
    "        M01 = M['m01'] # sum(y)\n",
    "        M10 = M['m10'] # sum(x)\n",
    "\n",
    "        # Si l'area és diferent de 0 calculem el centre de massa\n",
    "        if M00 != 0:\n",
    "            cx = int(M10/M00)\n",
    "            cy = int(M01/M00)\n",
    "\n",
    "            # Dibuixem el centre de massa\n",
    "            cv2.circle(im_baix, (cx, cy), 1, (255, 0, 0), -1)\n",
    "\n",
    "            # Mostrem la imatge\n",
    "            plt.imshow(im_baix)\n",
    "            plt.show()\n",
    "\n",
    "            # Movem el robot\n",
    "            # Si el centre de massa està a l'esquerra del centre de la imatge, girem a l'esquerra\n",
    "            # Si el centre de massa està a la dreta del centre de la imatge, girem a la dreta\n",
    "            # Si el centre de massa està al centre de la imatge, anem recte\n",
    "            # Tenim en compte una marge per no fer moviments petits\n",
    "            marge = 5\n",
    "            if cx < 100/2 - marge:\n",
    "                robot.move(1, 0.3)\n",
    "            elif cx > 100/2 + marge:\n",
    "                robot.move(1, -0.3)\n",
    "            else:\n",
    "                robot.move(1, 0)   \n",
    "\n",
    "world.reset()\n",
    "world.seconds(60, [controlador_cam], real_time=False)"
   ]
  }
 ],
 "metadata": {
  "kernelspec": {
   "display_name": ".venv",
   "language": "python",
   "name": "python3"
  },
  "language_info": {
   "codemirror_mode": {
    "name": "ipython",
    "version": 3
   },
   "file_extension": ".py",
   "mimetype": "text/x-python",
   "name": "python",
   "nbconvert_exporter": "python",
   "pygments_lexer": "ipython3",
   "version": "3.8.10"
  }
 },
 "nbformat": 4,
 "nbformat_minor": 2
}
