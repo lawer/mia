{
 "cells": [
  {
   "cell_type": "markdown",
   "id": "89b670a8c4d4e4ba",
   "metadata": {
    "collapsed": false
   },
   "source": [
    "# Pràctica 2: Generant dades d'entrenament"
   ]
  },
  {
   "cell_type": "markdown",
   "id": "fcfcc52fea5a9d80",
   "metadata": {
    "collapsed": false
   },
   "source": [
    "## Introducció\n",
    "\n",
    "En aquest notebook generarem dades per entrenar una xarxa neuronal per controlar el robot per seguir el circuit. Farem servir les dades que generem en aquest notebook per entrenar una xarxa neuronal en el següent notebook."
   ]
  },
  {
   "cell_type": "code",
   "execution_count": 1,
   "id": "8fd9319d",
   "metadata": {},
   "outputs": [
    {
     "name": "stdout",
     "output_type": "stream",
     "text": [
      "Requirement already satisfied: aitk.robots in /home/carlesgm/Documents/mia/.venv/lib/python3.8/site-packages (0.9.43)\n",
      "Requirement already satisfied: aitk.networks in /home/carlesgm/Documents/mia/.venv/lib/python3.8/site-packages (0.5.2)\n",
      "Requirement already satisfied: tensorflow in /home/carlesgm/Documents/mia/.venv/lib/python3.8/site-packages (2.13.1)\n",
      "Requirement already satisfied: numpy in /home/carlesgm/Documents/mia/.venv/lib/python3.8/site-packages (1.24.3)\n",
      "Requirement already satisfied: setuptools in /home/carlesgm/Documents/mia/.venv/lib/python3.8/site-packages (from aitk.robots) (69.2.0)\n",
      "Requirement already satisfied: Pillow in /home/carlesgm/Documents/mia/.venv/lib/python3.8/site-packages (from aitk.robots) (9.4.0)\n",
      "Requirement already satisfied: aitk.utils>=0.6.1 in /home/carlesgm/Documents/mia/.venv/lib/python3.8/site-packages (from aitk.robots) (0.7.3)\n",
      "Requirement already satisfied: ipywidgets in /home/carlesgm/Documents/mia/.venv/lib/python3.8/site-packages (from aitk.robots) (8.1.2)\n",
      "Requirement already satisfied: matplotlib in /home/carlesgm/Documents/mia/.venv/lib/python3.8/site-packages (from aitk.networks) (3.7.5)\n",
      "Requirement already satisfied: absl-py>=1.0.0 in /home/carlesgm/Documents/mia/.venv/lib/python3.8/site-packages (from tensorflow) (1.4.0)\n",
      "Requirement already satisfied: astunparse>=1.6.0 in /home/carlesgm/Documents/mia/.venv/lib/python3.8/site-packages (from tensorflow) (1.6.3)\n",
      "Requirement already satisfied: flatbuffers>=23.1.21 in /home/carlesgm/Documents/mia/.venv/lib/python3.8/site-packages (from tensorflow) (24.3.7)\n",
      "Requirement already satisfied: gast<=0.4.0,>=0.2.1 in /home/carlesgm/Documents/mia/.venv/lib/python3.8/site-packages (from tensorflow) (0.4.0)\n",
      "Requirement already satisfied: google-pasta>=0.1.1 in /home/carlesgm/Documents/mia/.venv/lib/python3.8/site-packages (from tensorflow) (0.2.0)\n",
      "Requirement already satisfied: grpcio<2.0,>=1.24.3 in /home/carlesgm/Documents/mia/.venv/lib/python3.8/site-packages (from tensorflow) (1.62.1)\n",
      "Requirement already satisfied: h5py>=2.9.0 in /home/carlesgm/Documents/mia/.venv/lib/python3.8/site-packages (from tensorflow) (3.10.0)\n",
      "Requirement already satisfied: keras<2.14,>=2.13.1 in /home/carlesgm/Documents/mia/.venv/lib/python3.8/site-packages (from tensorflow) (2.13.1)\n",
      "Requirement already satisfied: libclang>=13.0.0 in /home/carlesgm/Documents/mia/.venv/lib/python3.8/site-packages (from tensorflow) (18.1.1)\n",
      "Requirement already satisfied: opt-einsum>=2.3.2 in /home/carlesgm/Documents/mia/.venv/lib/python3.8/site-packages (from tensorflow) (3.3.0)\n",
      "Requirement already satisfied: packaging in /home/carlesgm/Documents/mia/.venv/lib/python3.8/site-packages (from tensorflow) (24.0)\n",
      "Requirement already satisfied: protobuf!=4.21.0,!=4.21.1,!=4.21.2,!=4.21.3,!=4.21.4,!=4.21.5,<5.0.0dev,>=3.20.3 in /home/carlesgm/Documents/mia/.venv/lib/python3.8/site-packages (from tensorflow) (3.20.3)\n",
      "Requirement already satisfied: six>=1.12.0 in /home/carlesgm/Documents/mia/.venv/lib/python3.8/site-packages (from tensorflow) (1.16.0)\n",
      "Requirement already satisfied: tensorboard<2.14,>=2.13 in /home/carlesgm/Documents/mia/.venv/lib/python3.8/site-packages (from tensorflow) (2.13.0)\n",
      "Requirement already satisfied: tensorflow-estimator<2.14,>=2.13.0 in /home/carlesgm/Documents/mia/.venv/lib/python3.8/site-packages (from tensorflow) (2.13.0)\n",
      "Requirement already satisfied: termcolor>=1.1.0 in /home/carlesgm/Documents/mia/.venv/lib/python3.8/site-packages (from tensorflow) (2.4.0)\n",
      "Requirement already satisfied: typing-extensions<4.6.0,>=3.6.6 in /home/carlesgm/Documents/mia/.venv/lib/python3.8/site-packages (from tensorflow) (4.5.0)\n",
      "Requirement already satisfied: wrapt>=1.11.0 in /home/carlesgm/Documents/mia/.venv/lib/python3.8/site-packages (from tensorflow) (1.16.0)\n",
      "Requirement already satisfied: tensorflow-io-gcs-filesystem>=0.23.1 in /home/carlesgm/Documents/mia/.venv/lib/python3.8/site-packages (from tensorflow) (0.34.0)\n",
      "Requirement already satisfied: tqdm in /home/carlesgm/Documents/mia/.venv/lib/python3.8/site-packages (from aitk.utils>=0.6.1->aitk.robots) (4.66.2)\n",
      "Requirement already satisfied: wheel<1.0,>=0.23.0 in /home/carlesgm/Documents/mia/.venv/lib/python3.8/site-packages (from astunparse>=1.6.0->tensorflow) (0.43.0)\n",
      "Requirement already satisfied: google-auth<3,>=1.6.3 in /home/carlesgm/Documents/mia/.venv/lib/python3.8/site-packages (from tensorboard<2.14,>=2.13->tensorflow) (2.28.2)\n",
      "Requirement already satisfied: google-auth-oauthlib<1.1,>=0.5 in /home/carlesgm/Documents/mia/.venv/lib/python3.8/site-packages (from tensorboard<2.14,>=2.13->tensorflow) (1.0.0)\n",
      "Requirement already satisfied: markdown>=2.6.8 in /home/carlesgm/Documents/mia/.venv/lib/python3.8/site-packages (from tensorboard<2.14,>=2.13->tensorflow) (3.6)\n",
      "Requirement already satisfied: requests<3,>=2.21.0 in /home/carlesgm/Documents/mia/.venv/lib/python3.8/site-packages (from tensorboard<2.14,>=2.13->tensorflow) (2.31.0)\n",
      "Requirement already satisfied: tensorboard-data-server<0.8.0,>=0.7.0 in /home/carlesgm/Documents/mia/.venv/lib/python3.8/site-packages (from tensorboard<2.14,>=2.13->tensorflow) (0.7.2)\n",
      "Requirement already satisfied: werkzeug>=1.0.1 in /home/carlesgm/Documents/mia/.venv/lib/python3.8/site-packages (from tensorboard<2.14,>=2.13->tensorflow) (3.0.1)\n",
      "Requirement already satisfied: comm>=0.1.3 in /home/carlesgm/Documents/mia/.venv/lib/python3.8/site-packages (from ipywidgets->aitk.robots) (0.2.2)\n",
      "Requirement already satisfied: ipython>=6.1.0 in /home/carlesgm/Documents/mia/.venv/lib/python3.8/site-packages (from ipywidgets->aitk.robots) (8.12.3)\n",
      "Requirement already satisfied: traitlets>=4.3.1 in /home/carlesgm/Documents/mia/.venv/lib/python3.8/site-packages (from ipywidgets->aitk.robots) (5.14.2)\n",
      "Requirement already satisfied: widgetsnbextension~=4.0.10 in /home/carlesgm/Documents/mia/.venv/lib/python3.8/site-packages (from ipywidgets->aitk.robots) (4.0.10)\n",
      "Requirement already satisfied: jupyterlab-widgets~=3.0.10 in /home/carlesgm/Documents/mia/.venv/lib/python3.8/site-packages (from ipywidgets->aitk.robots) (3.0.10)\n",
      "Requirement already satisfied: contourpy>=1.0.1 in /home/carlesgm/Documents/mia/.venv/lib/python3.8/site-packages (from matplotlib->aitk.networks) (1.1.1)\n",
      "Requirement already satisfied: cycler>=0.10 in /home/carlesgm/Documents/mia/.venv/lib/python3.8/site-packages (from matplotlib->aitk.networks) (0.10.0)\n",
      "Requirement already satisfied: fonttools>=4.22.0 in /home/carlesgm/Documents/mia/.venv/lib/python3.8/site-packages (from matplotlib->aitk.networks) (4.50.0)\n",
      "Requirement already satisfied: kiwisolver>=1.0.1 in /home/carlesgm/Documents/mia/.venv/lib/python3.8/site-packages (from matplotlib->aitk.networks) (1.4.5)\n",
      "Requirement already satisfied: pyparsing>=2.3.1 in /home/carlesgm/Documents/mia/.venv/lib/python3.8/site-packages (from matplotlib->aitk.networks) (3.1.2)\n",
      "Requirement already satisfied: python-dateutil>=2.7 in /home/carlesgm/Documents/mia/.venv/lib/python3.8/site-packages (from matplotlib->aitk.networks) (2.9.0.post0)\n",
      "Requirement already satisfied: importlib-resources>=3.2.0 in /home/carlesgm/Documents/mia/.venv/lib/python3.8/site-packages (from matplotlib->aitk.networks) (6.3.1)\n",
      "Requirement already satisfied: cachetools<6.0,>=2.0.0 in /home/carlesgm/Documents/mia/.venv/lib/python3.8/site-packages (from google-auth<3,>=1.6.3->tensorboard<2.14,>=2.13->tensorflow) (5.3.3)\n",
      "Requirement already satisfied: pyasn1-modules>=0.2.1 in /home/carlesgm/Documents/mia/.venv/lib/python3.8/site-packages (from google-auth<3,>=1.6.3->tensorboard<2.14,>=2.13->tensorflow) (0.3.0)\n",
      "Requirement already satisfied: rsa<5,>=3.1.4 in /home/carlesgm/Documents/mia/.venv/lib/python3.8/site-packages (from google-auth<3,>=1.6.3->tensorboard<2.14,>=2.13->tensorflow) (4.9)\n",
      "Requirement already satisfied: requests-oauthlib>=0.7.0 in /home/carlesgm/Documents/mia/.venv/lib/python3.8/site-packages (from google-auth-oauthlib<1.1,>=0.5->tensorboard<2.14,>=2.13->tensorflow) (1.4.0)\n",
      "Requirement already satisfied: zipp>=3.1.0 in /home/carlesgm/Documents/mia/.venv/lib/python3.8/site-packages (from importlib-resources>=3.2.0->matplotlib->aitk.networks) (3.18.1)\n",
      "Requirement already satisfied: backcall in /home/carlesgm/Documents/mia/.venv/lib/python3.8/site-packages (from ipython>=6.1.0->ipywidgets->aitk.robots) (0.2.0)\n",
      "Requirement already satisfied: decorator in /home/carlesgm/Documents/mia/.venv/lib/python3.8/site-packages (from ipython>=6.1.0->ipywidgets->aitk.robots) (5.1.1)\n",
      "Requirement already satisfied: jedi>=0.16 in /home/carlesgm/Documents/mia/.venv/lib/python3.8/site-packages (from ipython>=6.1.0->ipywidgets->aitk.robots) (0.19.1)\n",
      "Requirement already satisfied: matplotlib-inline in /home/carlesgm/Documents/mia/.venv/lib/python3.8/site-packages (from ipython>=6.1.0->ipywidgets->aitk.robots) (0.1.6)\n",
      "Requirement already satisfied: pickleshare in /home/carlesgm/Documents/mia/.venv/lib/python3.8/site-packages (from ipython>=6.1.0->ipywidgets->aitk.robots) (0.7.5)\n",
      "Requirement already satisfied: prompt-toolkit!=3.0.37,<3.1.0,>=3.0.30 in /home/carlesgm/Documents/mia/.venv/lib/python3.8/site-packages (from ipython>=6.1.0->ipywidgets->aitk.robots) (3.0.43)\n",
      "Requirement already satisfied: pygments>=2.4.0 in /home/carlesgm/Documents/mia/.venv/lib/python3.8/site-packages (from ipython>=6.1.0->ipywidgets->aitk.robots) (2.17.2)\n",
      "Requirement already satisfied: stack-data in /home/carlesgm/Documents/mia/.venv/lib/python3.8/site-packages (from ipython>=6.1.0->ipywidgets->aitk.robots) (0.6.3)\n",
      "Requirement already satisfied: pexpect>4.3 in /home/carlesgm/Documents/mia/.venv/lib/python3.8/site-packages (from ipython>=6.1.0->ipywidgets->aitk.robots) (4.9.0)\n",
      "Requirement already satisfied: importlib-metadata>=4.4 in /home/carlesgm/Documents/mia/.venv/lib/python3.8/site-packages (from markdown>=2.6.8->tensorboard<2.14,>=2.13->tensorflow) (7.0.2)\n",
      "Requirement already satisfied: charset-normalizer<4,>=2 in /home/carlesgm/Documents/mia/.venv/lib/python3.8/site-packages (from requests<3,>=2.21.0->tensorboard<2.14,>=2.13->tensorflow) (3.3.2)\n",
      "Requirement already satisfied: idna<4,>=2.5 in /home/carlesgm/Documents/mia/.venv/lib/python3.8/site-packages (from requests<3,>=2.21.0->tensorboard<2.14,>=2.13->tensorflow) (2.10)\n",
      "Requirement already satisfied: urllib3<3,>=1.21.1 in /home/carlesgm/Documents/mia/.venv/lib/python3.8/site-packages (from requests<3,>=2.21.0->tensorboard<2.14,>=2.13->tensorflow) (2.2.1)\n",
      "Requirement already satisfied: certifi>=2017.4.17 in /home/carlesgm/Documents/mia/.venv/lib/python3.8/site-packages (from requests<3,>=2.21.0->tensorboard<2.14,>=2.13->tensorflow) (2023.7.22)\n",
      "Requirement already satisfied: MarkupSafe>=2.1.1 in /home/carlesgm/Documents/mia/.venv/lib/python3.8/site-packages (from werkzeug>=1.0.1->tensorboard<2.14,>=2.13->tensorflow) (2.1.5)\n",
      "Requirement already satisfied: parso<0.9.0,>=0.8.3 in /home/carlesgm/Documents/mia/.venv/lib/python3.8/site-packages (from jedi>=0.16->ipython>=6.1.0->ipywidgets->aitk.robots) (0.8.3)\n",
      "Requirement already satisfied: ptyprocess>=0.5 in /home/carlesgm/Documents/mia/.venv/lib/python3.8/site-packages (from pexpect>4.3->ipython>=6.1.0->ipywidgets->aitk.robots) (0.7.0)\n",
      "Requirement already satisfied: wcwidth in /home/carlesgm/Documents/mia/.venv/lib/python3.8/site-packages (from prompt-toolkit!=3.0.37,<3.1.0,>=3.0.30->ipython>=6.1.0->ipywidgets->aitk.robots) (0.2.13)\n",
      "Requirement already satisfied: pyasn1<0.6.0,>=0.4.6 in /home/carlesgm/Documents/mia/.venv/lib/python3.8/site-packages (from pyasn1-modules>=0.2.1->google-auth<3,>=1.6.3->tensorboard<2.14,>=2.13->tensorflow) (0.5.1)\n",
      "Requirement already satisfied: oauthlib>=3.0.0 in /home/carlesgm/Documents/mia/.venv/lib/python3.8/site-packages (from requests-oauthlib>=0.7.0->google-auth-oauthlib<1.1,>=0.5->tensorboard<2.14,>=2.13->tensorflow) (3.2.2)\n",
      "Requirement already satisfied: executing>=1.2.0 in /home/carlesgm/Documents/mia/.venv/lib/python3.8/site-packages (from stack-data->ipython>=6.1.0->ipywidgets->aitk.robots) (2.0.1)\n",
      "Requirement already satisfied: asttokens>=2.1.0 in /home/carlesgm/Documents/mia/.venv/lib/python3.8/site-packages (from stack-data->ipython>=6.1.0->ipywidgets->aitk.robots) (2.4.1)\n",
      "Requirement already satisfied: pure-eval in /home/carlesgm/Documents/mia/.venv/lib/python3.8/site-packages (from stack-data->ipython>=6.1.0->ipywidgets->aitk.robots) (0.2.2)\n"
     ]
    }
   ],
   "source": [
    "!pip install aitk tensorflow numpy"
   ]
  },
  {
   "cell_type": "markdown",
   "id": "2f333473",
   "metadata": {},
   "source": [
    "## Preparem l'entorn"
   ]
  },
  {
   "cell_type": "code",
   "execution_count": 2,
   "id": "42219a2c757271c9",
   "metadata": {
    "ExecuteTime": {
     "end_time": "2023-10-07T09:33:28.463052Z",
     "start_time": "2023-10-07T09:33:27.505417Z"
    },
    "collapsed": false
   },
   "outputs": [],
   "source": [
    "import aitk.robots as bots\n",
    "import numpy as np\n",
    "import matplotlib.pyplot as plt\n",
    "import cv2\n",
    "import requests"
   ]
  },
  {
   "cell_type": "code",
   "execution_count": 3,
   "id": "917d007f",
   "metadata": {},
   "outputs": [
    {
     "data": {
      "text/plain": [
       "<matplotlib.image.AxesImage at 0x7f0301bab880>"
      ]
     },
     "execution_count": 3,
     "metadata": {},
     "output_type": "execute_result"
    },
    {
     "data": {
      "image/png": "[encoded data removed]",
      "text/plain": [
       "<Figure size 640x480 with 1 Axes>"
      ]
     },
     "metadata": {},
     "output_type": "display_data"
    }
   ],
   "source": [
    "nom_imatge = \"pista_6.png\"\n",
    "\n",
    "url = \"https://lawer.github.io/mia/apunts/9.-Rob%C3%B3tica/\" + nom_imatge\n",
    "\n",
    "response = requests.get(url)\n",
    "\n",
    "# Guardem la imatge\n",
    "\n",
    "with open(nom_imatge, \"wb\") as f:\n",
    "    f.write(response.content)\n",
    "\n",
    "# Carreguem la imatge en una variable\n",
    "\n",
    "img = cv2.imread(nom_imatge)\n",
    "\n",
    "# Mostrem la imatge\n",
    "plt.imshow(cv2.cvtColor(img, cv2.COLOR_BGR2RGB))"
   ]
  },
  {
   "cell_type": "code",
   "execution_count": 4,
   "id": "4cf4ada486d52ffd",
   "metadata": {
    "ExecuteTime": {
     "end_time": "2023-10-07T09:33:51.682495Z",
     "start_time": "2023-10-07T09:33:51.278436Z"
    },
    "collapsed": false
   },
   "outputs": [
    {
     "name": "stdout",
     "output_type": "stream",
     "text": [
      "Random seed set to: 7505679\n"
     ]
    },
    {
     "data": {
      "application/vnd.jupyter.widget-view+json": {
       "model_id": "e09c878bade146dd8db1148934a5953f",
       "version_major": 2,
       "version_minor": 0
      },
      "text/plain": [
       "HTML(value='<style>img.pixelated {image-rendering: pixelated;}</style>')"
      ]
     },
     "metadata": {},
     "output_type": "display_data"
    },
    {
     "data": {
      "application/vnd.jupyter.widget-view+json": {
       "model_id": "16b41a1274a4422890d36b5676a20a89",
       "version_major": 2,
       "version_minor": 0
      },
      "text/plain": [
       "HTML(value='<style>img.pixelated {image-rendering: pixelated;}</style>')"
      ]
     },
     "metadata": {},
     "output_type": "display_data"
    },
    {
     "data": {
      "application/vnd.jupyter.widget-view+json": {
       "model_id": "c82847e49df340f49ac3c11f771b03e9",
       "version_major": 2,
       "version_minor": 0
      },
      "text/plain": [
       "HTML(value='<style>img.pixelated {image-rendering: pixelated;}</style>')"
      ]
     },
     "metadata": {},
     "output_type": "display_data"
    },
    {
     "data": {
      "application/vnd.jupyter.widget-view+json": {
       "model_id": "e7934c6fb2e641d493ea60685d8ada93",
       "version_major": 2,
       "version_minor": 0
      },
      "text/plain": [
       "Image(value=b'\\x89PNG\\r\\n\\x1a\\n\\x00\\x00\\x00\\rIHDR\\x00\\x00\\x00d\\x00\\x00\\x002\\x08\\x06\\x00\\x00\\x00\\xaa5~\\xbe\\x00\\…"
      ]
     },
     "metadata": {},
     "output_type": "display_data"
    },
    {
     "data": {
      "application/vnd.jupyter.widget-view+json": {
       "model_id": "9540058cc3bf4a17b32737b8ee61218e",
       "version_major": 2,
       "version_minor": 0
      },
      "text/plain": [
       "Image(value=b'\\xff\\xd8\\xff\\xe0\\x00\\x10JFIF\\x00\\x01\\x01\\x00\\x00\\x01\\x00\\x01\\x00\\x00\\xff\\xdb\\x00C\\x00\\x08\\x06\\x0…"
      ]
     },
     "metadata": {},
     "output_type": "display_data"
    }
   ],
   "source": [
    "world = bots.World(220, 180, boundary_wall_color=\"yellow\", ground_image_filename=nom_imatge)\n",
    "\n",
    "robot = bots.Scribbler(x=36, y=90, a=90)\n",
    "robot.add_device(bots.GroundCamera(width=120, height=50))\n",
    "\n",
    "world.add_robot(robot)\n",
    "\n",
    "robot['ground-camera'].watch()\n",
    "world.watch()"
   ]
  },
  {
   "cell_type": "markdown",
   "id": "96d25fe7765d9fbf",
   "metadata": {
    "collapsed": false
   },
   "source": [
    "## Generant valors de moviment i rotació\n",
    "\n",
    "En la pràctica anterior, vau controlar directament el robot cridant `robot.move(translate, rotate)`. Ara volem moure el robot i guardar els moviments en un fitxer. Per fer-ho, crearem una funció anomenada `determine_move`  que prengui els valors actuals dels sensors i retorni una tupla que representi els quantitats de translació i rotació apropiades per a aquesta situació, junt amb un boolea que indica si hem de parar o no i el valor central de la carretera.\n",
    "Aquesta funció serà cridada per la funció `move` que controla el robot."
   ]
  },
  {
   "cell_type": "code",
   "execution_count": 5,
   "id": "5b4d619b4d432fbf",
   "metadata": {
    "ExecuteTime": {
     "end_time": "2023-10-07T09:44:38.873263Z",
     "start_time": "2023-10-07T09:44:38.834975Z"
    },
    "collapsed": false
   },
   "outputs": [],
   "source": [
    "def determine_move(robot):\n",
    "    \"\"\"\n",
    "    Determina el moviment del robot en funció de les seves lectures de sensors.\n",
    "    Retorna una tupla amb la velocitat de translació, la velocitat de rotació i un booleà que indica si s'ha de parar.\n",
    "\n",
    "    El robot ha de mantenir-se dins de la pista fins tornar a l'inici.\n",
    "    \"\"\"\n",
    "    cam = robot['ground-camera']\n",
    "    image = cam.get_image()\n",
    "\n",
    "    # ...\n",
    "                \n",
    "    return moviment, rotacio, False, centre\n"
   ]
  },
  {
   "cell_type": "markdown",
   "id": "a316ffa5ea970e60",
   "metadata": {
    "collapsed": false
   },
   "source": [
    "#### Testejant la funció `determine_move`\n",
    "\n",
    "Hem de provar la funció `determine_move` i verificar que encara controla adequadament el robot per seguir la paret. Per fer-ho, cridarem la funció `determine_move` en un bucle i cridarem `robot.move` amb els valors de moviment retornats per la funció `determine_move`. Això hauria de fer que el robot vaja pel circuit sense cap problema."
   ]
  },
  {
   "cell_type": "code",
   "execution_count": 6,
   "id": "1b4f3533adbf0d4c",
   "metadata": {
    "ExecuteTime": {
     "end_time": "2023-10-07T09:44:39.885699Z",
     "start_time": "2023-10-07T09:44:39.854984Z"
    },
    "collapsed": false
   },
   "outputs": [],
   "source": [
    "def controlador_cam(robot):    \n",
    "    translate, rotate, stop, centre = determine_move(robot)\n",
    "    robot.move(translate, rotate)\n",
    "\n",
    "    if stop:\n",
    "        print(\"STOP\")\n",
    "        return True\n"
   ]
  },
  {
   "cell_type": "code",
   "execution_count": 7,
   "id": "5eccbb836204298d",
   "metadata": {
    "ExecuteTime": {
     "end_time": "2023-10-07T09:44:58.212836Z",
     "start_time": "2023-10-07T09:44:41.216981Z"
    },
    "collapsed": false
   },
   "outputs": [
    {
     "name": "stdout",
     "output_type": "stream",
     "text": [
      "Using random seed: 7505679\n"
     ]
    },
    {
     "data": {
      "application/vnd.jupyter.widget-view+json": {
       "model_id": "467365f873124851b9f187fda1887160",
       "version_major": 2,
       "version_minor": 0
      },
      "text/plain": [
       "  0%|          | 0/300 [00:00<?, ?it/s]"
      ]
     },
     "metadata": {},
     "output_type": "display_data"
    },
    {
     "name": "stdout",
     "output_type": "stream",
     "text": [
      "Simulation stopped at: 00:00:30.00; speed 136.28 x real time\n"
     ]
    }
   ],
   "source": [
    "world.reset()\n",
    "\n",
    "world.seconds(30, [controlador_cam], real_time=False)"
   ]
  },
  {
   "cell_type": "markdown",
   "id": "7d586e088e3eee38",
   "metadata": {
    "collapsed": false
   },
   "source": [
    "### Generant dades d'entrenament "
   ]
  },
  {
   "cell_type": "markdown",
   "id": "492104e52842d052",
   "metadata": {
    "collapsed": false
   },
   "source": [
    "Ara tenim totes les peces en el lloc per generar les dades d'entrenament.\n",
    "\n",
    "Volem generar un conjunt de dades d'entrenament per a la nostra xarxa neuronal i el simulador en temps real serà massa lent. Per tant, utilitzarem la versió no en temps real del simulador. Per aixó utilitzarem `realtime = False` quan cridem a `world.seconds`.\n",
    "\n",
    "També hem de tindre en que, per entrenar una xarxa neuronal, tots els valors de les dades haurien d'estar normalitzats per ajustar-se a l'interval de la funció d'activació que utilitzarem. Farem servir una funció d'activació amb un interval de [-1,1], ja que les comandes del motor poden ser negatives o positives. Els valors del centre de la carretera estaràn en l'interval [0,120] per lo que la normalització serà senzilla: dividirem per 120.\n",
    "\n",
    "En cada línia del fitxer que crearem hi haurà valors dels sensors, separats per espais en blanc, seguits de comandes del motor separades per espais en blanc, acabant amb un salt de línia.\n",
    "\n",
    "Un problema que potencialment hem d'abordar és que el nostre programa de recòrrer el circuit pot quedar-se aturat en certes situacions o anar enrere. Hem de construir la nostra funció de generació de dades amb això en ment. Per exemple, si el robot es queda aturat, no volem que les dades d'entrenament reflecteixin aquesta situació.\n",
    "\n",
    "Crearem la funció `generate_data` que generi una llista de dades d'entrenament. Aquesta funció hauria de generar un nombre fix de dades d'entrenament. Per cada iteració d'entrenament, la funció hauria de cridar `inici_aleatori` per establir la posició del robot en una ubicació aleatòria, reiniciar el mon i executar una simulació."
   ]
  },
  {
   "cell_type": "code",
   "execution_count": 13,
   "id": "29ec444990348e0f",
   "metadata": {
    "ExecuteTime": {
     "end_time": "2023-10-07T09:46:39.844482Z",
     "start_time": "2023-10-07T09:46:39.829753Z"
    },
    "collapsed": false
   },
   "outputs": [],
   "source": [
    "def generate_data(robot, world, trials):\n",
    "    \"\"\"Aquí haurà de generar les dades per entrenar la xarxa neuronal.\"\"\"\n",
    "        "
   ]
  },
  {
   "cell_type": "code",
   "execution_count": 14,
   "id": "68fd8b03fed449cc",
   "metadata": {
    "ExecuteTime": {
     "end_time": "2023-10-07T09:47:18.897439Z",
     "start_time": "2023-10-07T09:46:40.425213Z"
    },
    "collapsed": false
   },
   "outputs": [
    {
     "name": "stdout",
     "output_type": "stream",
     "text": [
      "Using random seed: 7505679\n"
     ]
    },
    {
     "data": {
      "application/vnd.jupyter.widget-view+json": {
       "model_id": "440838955cb548be9f0c96e5c93959c7",
       "version_major": 2,
       "version_minor": 0
      },
      "text/plain": [
       "  0%|          | 0/300 [00:00<?, ?it/s]"
      ]
     },
     "metadata": {},
     "output_type": "display_data"
    },
    {
     "name": "stdout",
     "output_type": "stream",
     "text": [
      "Simulation stopped at: 00:00:30.00; speed 87.13 x real time\n",
      "Using random seed: 7505679\n"
     ]
    },
    {
     "data": {
      "application/vnd.jupyter.widget-view+json": {
       "model_id": "b14d384656954869b725dfd448c62ca2",
       "version_major": 2,
       "version_minor": 0
      },
      "text/plain": [
       "  0%|          | 0/300 [00:00<?, ?it/s]"
      ]
     },
     "metadata": {},
     "output_type": "display_data"
    },
    {
     "name": "stdout",
     "output_type": "stream",
     "text": [
      "Simulation stopped at: 00:00:30.00; speed 135.44 x real time\n",
      "Using random seed: 7505679\n"
     ]
    },
    {
     "data": {
      "application/vnd.jupyter.widget-view+json": {
       "model_id": "75cb6a1315144a90b3f4923162682080",
       "version_major": 2,
       "version_minor": 0
      },
      "text/plain": [
       "  0%|          | 0/300 [00:00<?, ?it/s]"
      ]
     },
     "metadata": {},
     "output_type": "display_data"
    },
    {
     "name": "stdout",
     "output_type": "stream",
     "text": [
      "Simulation stopped at: 00:00:30.00; speed 89.63 x real time\n",
      "Using random seed: 7505679\n"
     ]
    },
    {
     "data": {
      "application/vnd.jupyter.widget-view+json": {
       "model_id": "fe46cfc0b69e493cb39feb0af56506b0",
       "version_major": 2,
       "version_minor": 0
      },
      "text/plain": [
       "  0%|          | 0/300 [00:00<?, ?it/s]"
      ]
     },
     "metadata": {},
     "output_type": "display_data"
    },
    {
     "name": "stdout",
     "output_type": "stream",
     "text": [
      "Simulation stopped at: 00:00:30.00; speed 141.04 x real time\n",
      "Using random seed: 7505679\n"
     ]
    },
    {
     "data": {
      "application/vnd.jupyter.widget-view+json": {
       "model_id": "09ba509723194c90a9ef1b2ab656d0d1",
       "version_major": 2,
       "version_minor": 0
      },
      "text/plain": [
       "  0%|          | 0/300 [00:00<?, ?it/s]"
      ]
     },
     "metadata": {},
     "output_type": "display_data"
    },
    {
     "name": "stdout",
     "output_type": "stream",
     "text": [
      "Simulation stopped at: 00:00:30.00; speed 84.14 x real time\n",
      "Using random seed: 7505679\n"
     ]
    },
    {
     "data": {
      "application/vnd.jupyter.widget-view+json": {
       "model_id": "9c462da10f074da094be4acc1c8876a1",
       "version_major": 2,
       "version_minor": 0
      },
      "text/plain": [
       "  0%|          | 0/300 [00:00<?, ?it/s]"
      ]
     },
     "metadata": {},
     "output_type": "display_data"
    },
    {
     "name": "stdout",
     "output_type": "stream",
     "text": [
      "Simulation stopped at: 00:00:30.00; speed 137.32 x real time\n",
      "Using random seed: 7505679\n"
     ]
    },
    {
     "data": {
      "application/vnd.jupyter.widget-view+json": {
       "model_id": "e20f71868f7648ceb3a130a7c987542c",
       "version_major": 2,
       "version_minor": 0
      },
      "text/plain": [
       "  0%|          | 0/300 [00:00<?, ?it/s]"
      ]
     },
     "metadata": {},
     "output_type": "display_data"
    },
    {
     "name": "stdout",
     "output_type": "stream",
     "text": [
      "Simulation stopped at: 00:00:30.00; speed 85.01 x real time\n",
      "Using random seed: 7505679\n"
     ]
    },
    {
     "data": {
      "application/vnd.jupyter.widget-view+json": {
       "model_id": "da8afe88dd944b5cafcbbf43bd389724",
       "version_major": 2,
       "version_minor": 0
      },
      "text/plain": [
       "  0%|          | 0/300 [00:00<?, ?it/s]"
      ]
     },
     "metadata": {},
     "output_type": "display_data"
    },
    {
     "name": "stdout",
     "output_type": "stream",
     "text": [
      "Simulation stopped at: 00:00:30.00; speed 127.31 x real time\n",
      "Using random seed: 7505679\n"
     ]
    },
    {
     "data": {
      "application/vnd.jupyter.widget-view+json": {
       "model_id": "ab47d25ad917468fb1b11eaf98588649",
       "version_major": 2,
       "version_minor": 0
      },
      "text/plain": [
       "  0%|          | 0/300 [00:00<?, ?it/s]"
      ]
     },
     "metadata": {},
     "output_type": "display_data"
    },
    {
     "name": "stdout",
     "output_type": "stream",
     "text": [
      "Simulation stopped at: 00:00:30.00; speed 93.94 x real time\n",
      "Using random seed: 7505679\n"
     ]
    },
    {
     "data": {
      "application/vnd.jupyter.widget-view+json": {
       "model_id": "c2bca841f24a454c923ee06a5981d0da",
       "version_major": 2,
       "version_minor": 0
      },
      "text/plain": [
       "  0%|          | 0/300 [00:00<?, ?it/s]"
      ]
     },
     "metadata": {},
     "output_type": "display_data"
    },
    {
     "name": "stdout",
     "output_type": "stream",
     "text": [
      "Simulation stopped at: 00:00:30.00; speed 151.1 x real time\n",
      "Using random seed: 7505679\n"
     ]
    },
    {
     "data": {
      "application/vnd.jupyter.widget-view+json": {
       "model_id": "b9e6109ef6c145e5acc45714ff61da41",
       "version_major": 2,
       "version_minor": 0
      },
      "text/plain": [
       "  0%|          | 0/300 [00:00<?, ?it/s]"
      ]
     },
     "metadata": {},
     "output_type": "display_data"
    },
    {
     "name": "stdout",
     "output_type": "stream",
     "text": [
      "Simulation stopped at: 00:00:30.00; speed 90.64 x real time\n",
      "Using random seed: 7505679\n"
     ]
    },
    {
     "data": {
      "application/vnd.jupyter.widget-view+json": {
       "model_id": "d7641ce377ea4772b3d7a894703ee2df",
       "version_major": 2,
       "version_minor": 0
      },
      "text/plain": [
       "  0%|          | 0/300 [00:00<?, ?it/s]"
      ]
     },
     "metadata": {},
     "output_type": "display_data"
    },
    {
     "name": "stdout",
     "output_type": "stream",
     "text": [
      "Simulation stopped at: 00:00:30.00; speed 137.83 x real time\n",
      "Using random seed: 7505679\n"
     ]
    },
    {
     "data": {
      "application/vnd.jupyter.widget-view+json": {
       "model_id": "784fe69c56574385a123cd68eca24dfe",
       "version_major": 2,
       "version_minor": 0
      },
      "text/plain": [
       "  0%|          | 0/300 [00:00<?, ?it/s]"
      ]
     },
     "metadata": {},
     "output_type": "display_data"
    },
    {
     "name": "stdout",
     "output_type": "stream",
     "text": [
      "Simulation stopped at: 00:00:30.00; speed 86.36 x real time\n",
      "Using random seed: 7505679\n"
     ]
    },
    {
     "data": {
      "application/vnd.jupyter.widget-view+json": {
       "model_id": "1d61e6b6112c4ea184093e8b3bea9cfc",
       "version_major": 2,
       "version_minor": 0
      },
      "text/plain": [
       "  0%|          | 0/300 [00:00<?, ?it/s]"
      ]
     },
     "metadata": {},
     "output_type": "display_data"
    },
    {
     "name": "stdout",
     "output_type": "stream",
     "text": [
      "Simulation stopped at: 00:00:30.00; speed 150.58 x real time\n",
      "Using random seed: 7505679\n"
     ]
    },
    {
     "data": {
      "application/vnd.jupyter.widget-view+json": {
       "model_id": "26f64e8accf242f59fe1755a68b383f2",
       "version_major": 2,
       "version_minor": 0
      },
      "text/plain": [
       "  0%|          | 0/300 [00:00<?, ?it/s]"
      ]
     },
     "metadata": {},
     "output_type": "display_data"
    },
    {
     "name": "stdout",
     "output_type": "stream",
     "text": [
      "Simulation stopped at: 00:00:30.00; speed 146.2 x real time\n",
      "Using random seed: 7505679\n"
     ]
    },
    {
     "data": {
      "application/vnd.jupyter.widget-view+json": {
       "model_id": "1f2be1507b3941a795aa6df8bb874891",
       "version_major": 2,
       "version_minor": 0
      },
      "text/plain": [
       "  0%|          | 0/300 [00:00<?, ?it/s]"
      ]
     },
     "metadata": {},
     "output_type": "display_data"
    },
    {
     "name": "stdout",
     "output_type": "stream",
     "text": [
      "Simulation stopped at: 00:00:30.00; speed 130.21 x real time\n",
      "Using random seed: 7505679\n"
     ]
    },
    {
     "data": {
      "application/vnd.jupyter.widget-view+json": {
       "model_id": "eed7cbc7c1274aceb9a8d588be7fdb37",
       "version_major": 2,
       "version_minor": 0
      },
      "text/plain": [
       "  0%|          | 0/300 [00:00<?, ?it/s]"
      ]
     },
     "metadata": {},
     "output_type": "display_data"
    },
    {
     "name": "stdout",
     "output_type": "stream",
     "text": [
      "Simulation stopped at: 00:00:30.00; speed 120.18 x real time\n",
      "Using random seed: 7505679\n"
     ]
    },
    {
     "data": {
      "application/vnd.jupyter.widget-view+json": {
       "model_id": "8c2cb6be68d2407e9fe31a46528eaaa9",
       "version_major": 2,
       "version_minor": 0
      },
      "text/plain": [
       "  0%|          | 0/300 [00:00<?, ?it/s]"
      ]
     },
     "metadata": {},
     "output_type": "display_data"
    },
    {
     "name": "stdout",
     "output_type": "stream",
     "text": [
      "Simulation stopped at: 00:00:30.00; speed 110.52 x real time\n",
      "Using random seed: 7505679\n"
     ]
    },
    {
     "data": {
      "application/vnd.jupyter.widget-view+json": {
       "model_id": "d6fe2abbdfc84ad9a47462e8113c80b8",
       "version_major": 2,
       "version_minor": 0
      },
      "text/plain": [
       "  0%|          | 0/300 [00:00<?, ?it/s]"
      ]
     },
     "metadata": {},
     "output_type": "display_data"
    },
    {
     "name": "stdout",
     "output_type": "stream",
     "text": [
      "Simulation stopped at: 00:00:30.00; speed 148.1 x real time\n",
      "Using random seed: 7505679\n"
     ]
    },
    {
     "data": {
      "application/vnd.jupyter.widget-view+json": {
       "model_id": "42b70cb269564507a79040822732a8a0",
       "version_major": 2,
       "version_minor": 0
      },
      "text/plain": [
       "  0%|          | 0/300 [00:00<?, ?it/s]"
      ]
     },
     "metadata": {},
     "output_type": "display_data"
    },
    {
     "name": "stdout",
     "output_type": "stream",
     "text": [
      "Simulation stopped at: 00:00:30.00; speed 99.12 x real time\n"
     ]
    }
   ],
   "source": [
    "generate_data(robot, world, 20)"
   ]
  },
  {
   "cell_type": "code",
   "execution_count": 15,
   "id": "e9681442",
   "metadata": {},
   "outputs": [
    {
     "data": {
      "text/plain": [
       "[[50, 1, 0],\n",
       " [50, 1, 0],\n",
       " [50, 1, 0],\n",
       " [50, 1, 0],\n",
       " [50, 1, 0],\n",
       " [50, 1, 0],\n",
       " [50, 1, 0],\n",
       " [50, 1, 0],\n",
       " [50, 1, 0],\n",
       " [50, 1, 0],\n",
       " [50, 1, 0],\n",
       " [50, 1, 0],\n",
       " [50, 1, 0],\n",
       " [50, 1, 0],\n",
       " [51, 1, 0],\n",
       " [51, 1, 0],\n",
       " [52, 1, 0],\n",
       " [53, 1, 0],\n",
       " [53, 1, 0],\n",
       " [54, 1, 0],\n",
       " [56, 1, -0.3],\n",
       " [57, 1, -0.3],\n",
       " [56, 1, -0.3],\n",
       " [55, 1, 0],\n",
       " [55, 1, 0],\n",
       " [56, 1, -0.3],\n",
       " [56, 1, -0.3],\n",
       " [56, 1, -0.3],\n",
       " [55, 1, 0],\n",
       " [55, 1, 0],\n",
       " [57, 1, -0.3],\n",
       " [58, 1, -0.3],\n",
       " [57, 1, -0.3],\n",
       " [57, 1, -0.3],\n",
       " [58, 1, -0.3],\n",
       " [58, 1, -0.3],\n",
       " [57, 1, -0.3],\n",
       " [58, 1, -0.3],\n",
       " [57, 1, -0.3],\n",
       " [57, 1, -0.3],\n",
       " [56, 1, -0.3],\n",
       " [55, 1, 0],\n",
       " [54, 1, 0],\n",
       " [54, 1, 0],\n",
       " [54, 1, 0],\n",
       " [54, 1, 0],\n",
       " [55, 1, 0],\n",
       " [55, 1, 0],\n",
       " [56, 1, -0.3],\n",
       " [56, 1, -0.3],\n",
       " [56, 1, -0.3],\n",
       " [55, 1, 0],\n",
       " [55, 1, 0],\n",
       " [54, 1, 0],\n",
       " [53, 1, 0],\n",
       " [53, 1, 0],\n",
       " [52, 1, 0],\n",
       " [52, 1, 0],\n",
       " [51, 1, 0],\n",
       " [50, 1, 0],\n",
       " [50, 1, 0],\n",
       " [49, 1, 0],\n",
       " [48, 1, 0],\n",
       " [47, 1, 0],\n",
       " [47, 1, 0],\n",
       " [46, 1, 0],\n",
       " [45, 1, 0],\n",
       " [44, 1, 0.3],\n",
       " [44, 1, 0.3],\n",
       " [45, 1, 0],\n",
       " [45, 1, 0],\n",
       " [45, 1, 0],\n",
       " [45, 1, 0],\n",
       " [45, 1, 0],\n",
       " [45, 1, 0],\n",
       " [45, 1, 0],\n",
       " [46, 1, 0],\n",
       " [46, 1, 0],\n",
       " [47, 1, 0],\n",
       " [47, 1, 0],\n",
       " [47, 1, 0],\n",
       " [48, 1, 0],\n",
       " [49, 1, 0],\n",
       " [50, 1, 0],\n",
       " [51, 1, 0],\n",
       " [52, 1, 0],\n",
       " [53, 1, 0],\n",
       " [55, 1, 0],\n",
       " [57, 1, -0.3],\n",
       " [58, 1, -0.3],\n",
       " [59, 1, -0.3],\n",
       " [59, 1, -0.3],\n",
       " [59, 1, -0.3],\n",
       " [58, 1, -0.3],\n",
       " [57, 1, -0.3],\n",
       " [56, 1, -0.3],\n",
       " [55, 1, 0],\n",
       " [54, 1, 0],\n",
       " [54, 1, 0],\n",
       " [57, 1, -0.3],\n",
       " [58, 1, -0.3],\n",
       " [59, 1, -0.3],\n",
       " [59, 1, -0.3],\n",
       " [59, 1, -0.3],\n",
       " [59, 1, -0.3],\n",
       " [59, 1, -0.3],\n",
       " [59, 1, -0.3],\n",
       " [59, 1, -0.3],\n",
       " [58, 1, -0.3],\n",
       " [57, 1, -0.3],\n",
       " [55, 1, 0],\n",
       " [55, 1, 0],\n",
       " [55, 1, 0],\n",
       " [54, 1, 0],\n",
       " [54, 1, 0],\n",
       " [54, 1, 0],\n",
       " [54, 1, 0],\n",
       " [54, 1, 0],\n",
       " [55, 1, 0],\n",
       " [55, 1, 0],\n",
       " [56, 1, -0.3],\n",
       " [56, 1, -0.3],\n",
       " [54, 1, 0],\n",
       " [53, 1, 0],\n",
       " [53, 1, 0],\n",
       " [51, 1, 0],\n",
       " [51, 1, 0],\n",
       " [50, 1, 0],\n",
       " [49, 1, 0],\n",
       " [49, 1, 0],\n",
       " [48, 1, 0],\n",
       " [48, 1, 0],\n",
       " [47, 1, 0],\n",
       " [47, 1, 0],\n",
       " [46, 1, 0],\n",
       " [45, 1, 0],\n",
       " [46, 1, 0],\n",
       " [45, 1, 0],\n",
       " [46, 1, 0],\n",
       " [46, 1, 0],\n",
       " [47, 1, 0],\n",
       " [47, 1, 0],\n",
       " [48, 1, 0],\n",
       " [50, 1, 0],\n",
       " [52, 1, 0],\n",
       " [55, 1, 0],\n",
       " [57, 1, -0.3],\n",
       " [59, 1, -0.3],\n",
       " [60, 1, -0.3],\n",
       " [61, 1, -0.3],\n",
       " [62, 1, -0.3],\n",
       " [63, 1, -0.3],\n",
       " [64, 1, -0.3],\n",
       " [66, 1, -0.3],\n",
       " [67, 1, -0.3],\n",
       " [69, 1, -0.3],\n",
       " [70, 1, -0.3],\n",
       " [72, 1, -0.3],\n",
       " [72, 1, -0.3],\n",
       " [73, 1, -0.3],\n",
       " [73, 1, -0.3],\n",
       " [73, 1, -0.3],\n",
       " [73, 1, -0.3],\n",
       " [72, 1, -0.3],\n",
       " [71, 1, -0.3],\n",
       " [70, 1, -0.3],\n",
       " [68, 1, -0.3],\n",
       " [66, 1, -0.3],\n",
       " [63, 1, -0.3],\n",
       " [60, 1, -0.3],\n",
       " [57, 1, -0.3],\n",
       " [53, 1, 0],\n",
       " [48, 1, 0],\n",
       " [45, 1, 0],\n",
       " [41, 1, 0.3],\n",
       " [39, 1, 0.3],\n",
       " [37, 1, 0.3],\n",
       " [36, 1, 0.3],\n",
       " [36, 1, 0.3],\n",
       " [37, 1, 0.3],\n",
       " [37, 1, 0.3],\n",
       " [39, 1, 0.3],\n",
       " [40, 1, 0.3],\n",
       " [42, 1, 0.3],\n",
       " [45, 1, 0],\n",
       " [48, 1, 0],\n",
       " [49, 1, 0],\n",
       " [52, 1, 0],\n",
       " [54, 1, 0],\n",
       " [56, 1, -0.3],\n",
       " [56, 1, -0.3],\n",
       " [57, 1, -0.3],\n",
       " [56, 1, -0.3],\n",
       " [55, 1, 0],\n",
       " [55, 1, 0],\n",
       " [54, 1, 0],\n",
       " [54, 1, 0],\n",
       " [54, 1, 0],\n",
       " [54, 1, 0],\n",
       " [53, 1, 0],\n",
       " [53, 1, 0],\n",
       " [53, 1, 0],\n",
       " [53, 1, 0],\n",
       " [53, 1, 0],\n",
       " [53, 1, 0],\n",
       " [53, 1, 0],\n",
       " [53, 1, 0],\n",
       " [54, 1, 0],\n",
       " [55, 1, 0],\n",
       " [56, 1, -0.3],\n",
       " [55, 1, 0],\n",
       " [57, 1, -0.3],\n",
       " [57, 1, -0.3],\n",
       " [57, 1, -0.3],\n",
       " [57, 1, -0.3],\n",
       " [56, 1, -0.3],\n",
       " [54, 1, 0],\n",
       " [54, 1, 0],\n",
       " [53, 1, 0],\n",
       " [54, 1, 0],\n",
       " [56, 1, -0.3],\n",
       " [57, 1, -0.3],\n",
       " [57, 1, -0.3],\n",
       " [57, 1, -0.3],\n",
       " [57, 1, -0.3],\n",
       " [58, 1, -0.3],\n",
       " [58, 1, -0.3],\n",
       " [58, 1, -0.3],\n",
       " [58, 1, -0.3],\n",
       " [58, 1, -0.3],\n",
       " [58, 1, -0.3],\n",
       " [58, 1, -0.3],\n",
       " [57, 1, -0.3],\n",
       " [56, 1, -0.3],\n",
       " [55, 1, 0],\n",
       " [54, 1, 0],\n",
       " [53, 1, 0],\n",
       " [53, 1, 0],\n",
       " [53, 1, 0],\n",
       " [53, 1, 0],\n",
       " [53, 1, 0],\n",
       " [53, 1, 0],\n",
       " [53, 1, 0],\n",
       " [53, 1, 0],\n",
       " [54, 1, 0],\n",
       " [54, 1, 0],\n",
       " [54, 1, 0],\n",
       " [54, 1, 0],\n",
       " [54, 1, 0],\n",
       " [54, 1, 0],\n",
       " [55, 1, 0],\n",
       " [55, 1, 0],\n",
       " [55, 1, 0],\n",
       " [55, 1, 0],\n",
       " [55, 1, 0],\n",
       " [55, 1, 0],\n",
       " [55, 1, 0],\n",
       " [55, 1, 0],\n",
       " [55, 1, 0],\n",
       " [56, 1, -0.3],\n",
       " [56, 1, -0.3],\n",
       " [54, 1, 0],\n",
       " [55, 1, 0],\n",
       " [54, 1, 0],\n",
       " [54, 1, 0],\n",
       " [55, 1, 0],\n",
       " [55, 1, 0],\n",
       " [56, 1, -0.3],\n",
       " [56, 1, -0.3],\n",
       " [56, 1, -0.3],\n",
       " [56, 1, -0.3],\n",
       " [54, 1, 0],\n",
       " [54, 1, 0],\n",
       " [55, 1, 0],\n",
       " [57, 1, -0.3],\n",
       " [58, 1, -0.3],\n",
       " [58, 1, -0.3],\n",
       " [59, 1, -0.3],\n",
       " [60, 1, -0.3],\n",
       " [60, 1, -0.3],\n",
       " [60, 1, -0.3],\n",
       " [60, 1, -0.3],\n",
       " [60, 1, -0.3],\n",
       " [61, 1, -0.3],\n",
       " [60, 1, -0.3],\n",
       " [59, 1, -0.3],\n",
       " [59, 1, -0.3],\n",
       " [58, 1, -0.3],\n",
       " [57, 1, -0.3],\n",
       " [55, 1, 0],\n",
       " [54, 1, 0],\n",
       " [53, 1, 0],\n",
       " [52, 1, 0],\n",
       " [52, 1, 0],\n",
       " [52, 1, 0],\n",
       " [51, 1, 0],\n",
       " [51, 1, 0],\n",
       " [51, 1, 0],\n",
       " [51, 1, 0],\n",
       " [51, 1, 0],\n",
       " [50, 1, 0],\n",
       " [50, 1, 0],\n",
       " [50, 1, 0],\n",
       " [50, 1, 0],\n",
       " [50, 1, 0],\n",
       " [50, 1, 0],\n",
       " [50, 1, 0],\n",
       " [50, 1, 0],\n",
       " [50, 1, 0],\n",
       " [50, 1, 0],\n",
       " [50, 1, 0],\n",
       " [50, 1, 0],\n",
       " [50, 1, 0],\n",
       " [50, 1, 0],\n",
       " [51, 1, 0],\n",
       " [51, 1, 0],\n",
       " [52, 1, 0],\n",
       " [53, 1, 0],\n",
       " [53, 1, 0],\n",
       " [54, 1, 0],\n",
       " [56, 1, -0.3],\n",
       " [57, 1, -0.3],\n",
       " [56, 1, -0.3],\n",
       " [55, 1, 0],\n",
       " [55, 1, 0],\n",
       " [56, 1, -0.3],\n",
       " [56, 1, -0.3],\n",
       " [56, 1, -0.3],\n",
       " [55, 1, 0],\n",
       " [55, 1, 0],\n",
       " [57, 1, -0.3],\n",
       " [58, 1, -0.3],\n",
       " [57, 1, -0.3],\n",
       " [57, 1, -0.3],\n",
       " [58, 1, -0.3],\n",
       " [58, 1, -0.3],\n",
       " [57, 1, -0.3],\n",
       " [58, 1, -0.3],\n",
       " [57, 1, -0.3],\n",
       " [57, 1, -0.3],\n",
       " [56, 1, -0.3],\n",
       " [55, 1, 0],\n",
       " [54, 1, 0],\n",
       " [54, 1, 0],\n",
       " [54, 1, 0],\n",
       " [54, 1, 0],\n",
       " [55, 1, 0],\n",
       " [55, 1, 0],\n",
       " [56, 1, -0.3],\n",
       " [56, 1, -0.3],\n",
       " [56, 1, -0.3],\n",
       " [55, 1, 0],\n",
       " [55, 1, 0],\n",
       " [54, 1, 0],\n",
       " [53, 1, 0],\n",
       " [53, 1, 0],\n",
       " [52, 1, 0],\n",
       " [52, 1, 0],\n",
       " [51, 1, 0],\n",
       " [50, 1, 0],\n",
       " [50, 1, 0],\n",
       " [49, 1, 0],\n",
       " [48, 1, 0],\n",
       " [47, 1, 0],\n",
       " [47, 1, 0],\n",
       " [46, 1, 0],\n",
       " [45, 1, 0],\n",
       " [44, 1, 0.3],\n",
       " [44, 1, 0.3],\n",
       " [45, 1, 0],\n",
       " [45, 1, 0],\n",
       " [45, 1, 0],\n",
       " [45, 1, 0],\n",
       " [45, 1, 0],\n",
       " [45, 1, 0],\n",
       " [45, 1, 0],\n",
       " [46, 1, 0],\n",
       " [46, 1, 0],\n",
       " [47, 1, 0],\n",
       " [47, 1, 0],\n",
       " [47, 1, 0],\n",
       " [48, 1, 0],\n",
       " [49, 1, 0],\n",
       " [50, 1, 0],\n",
       " [51, 1, 0],\n",
       " [52, 1, 0],\n",
       " [53, 1, 0],\n",
       " [55, 1, 0],\n",
       " [57, 1, -0.3],\n",
       " [58, 1, -0.3],\n",
       " [59, 1, -0.3],\n",
       " [59, 1, -0.3],\n",
       " [59, 1, -0.3],\n",
       " [58, 1, -0.3],\n",
       " [57, 1, -0.3],\n",
       " [56, 1, -0.3],\n",
       " [55, 1, 0],\n",
       " [54, 1, 0],\n",
       " [54, 1, 0],\n",
       " [57, 1, -0.3],\n",
       " [58, 1, -0.3],\n",
       " [59, 1, -0.3],\n",
       " [59, 1, -0.3],\n",
       " [59, 1, -0.3],\n",
       " [59, 1, -0.3],\n",
       " [59, 1, -0.3],\n",
       " [59, 1, -0.3],\n",
       " [59, 1, -0.3],\n",
       " [58, 1, -0.3],\n",
       " [57, 1, -0.3],\n",
       " [55, 1, 0],\n",
       " [55, 1, 0],\n",
       " [55, 1, 0],\n",
       " [54, 1, 0],\n",
       " [54, 1, 0],\n",
       " [54, 1, 0],\n",
       " [54, 1, 0],\n",
       " [54, 1, 0],\n",
       " [55, 1, 0],\n",
       " [55, 1, 0],\n",
       " [56, 1, -0.3],\n",
       " [56, 1, -0.3],\n",
       " [54, 1, 0],\n",
       " [53, 1, 0],\n",
       " [53, 1, 0],\n",
       " [51, 1, 0],\n",
       " [51, 1, 0],\n",
       " [50, 1, 0],\n",
       " [49, 1, 0],\n",
       " [49, 1, 0],\n",
       " [48, 1, 0],\n",
       " [48, 1, 0],\n",
       " [47, 1, 0],\n",
       " [47, 1, 0],\n",
       " [46, 1, 0],\n",
       " [45, 1, 0],\n",
       " [46, 1, 0],\n",
       " [45, 1, 0],\n",
       " [46, 1, 0],\n",
       " [46, 1, 0],\n",
       " [47, 1, 0],\n",
       " [47, 1, 0],\n",
       " [48, 1, 0],\n",
       " [50, 1, 0],\n",
       " [52, 1, 0],\n",
       " [55, 1, 0],\n",
       " [57, 1, -0.3],\n",
       " [59, 1, -0.3],\n",
       " [60, 1, -0.3],\n",
       " [61, 1, -0.3],\n",
       " [62, 1, -0.3],\n",
       " [63, 1, -0.3],\n",
       " [64, 1, -0.3],\n",
       " [66, 1, -0.3],\n",
       " [67, 1, -0.3],\n",
       " [69, 1, -0.3],\n",
       " [70, 1, -0.3],\n",
       " [72, 1, -0.3],\n",
       " [72, 1, -0.3],\n",
       " [73, 1, -0.3],\n",
       " [73, 1, -0.3],\n",
       " [73, 1, -0.3],\n",
       " [73, 1, -0.3],\n",
       " [72, 1, -0.3],\n",
       " [71, 1, -0.3],\n",
       " [70, 1, -0.3],\n",
       " [68, 1, -0.3],\n",
       " [66, 1, -0.3],\n",
       " [63, 1, -0.3],\n",
       " [60, 1, -0.3],\n",
       " [57, 1, -0.3],\n",
       " [53, 1, 0],\n",
       " [48, 1, 0],\n",
       " [45, 1, 0],\n",
       " [41, 1, 0.3],\n",
       " [39, 1, 0.3],\n",
       " [37, 1, 0.3],\n",
       " [36, 1, 0.3],\n",
       " [36, 1, 0.3],\n",
       " [37, 1, 0.3],\n",
       " [37, 1, 0.3],\n",
       " [39, 1, 0.3],\n",
       " [40, 1, 0.3],\n",
       " [42, 1, 0.3],\n",
       " [45, 1, 0],\n",
       " [48, 1, 0],\n",
       " [49, 1, 0],\n",
       " [52, 1, 0],\n",
       " [54, 1, 0],\n",
       " [56, 1, -0.3],\n",
       " [56, 1, -0.3],\n",
       " [57, 1, -0.3],\n",
       " [56, 1, -0.3],\n",
       " [55, 1, 0],\n",
       " [55, 1, 0],\n",
       " [54, 1, 0],\n",
       " [54, 1, 0],\n",
       " [54, 1, 0],\n",
       " [54, 1, 0],\n",
       " [53, 1, 0],\n",
       " [53, 1, 0],\n",
       " [53, 1, 0],\n",
       " [53, 1, 0],\n",
       " [53, 1, 0],\n",
       " [53, 1, 0],\n",
       " [53, 1, 0],\n",
       " [53, 1, 0],\n",
       " [54, 1, 0],\n",
       " [55, 1, 0],\n",
       " [56, 1, -0.3],\n",
       " [55, 1, 0],\n",
       " [57, 1, -0.3],\n",
       " [57, 1, -0.3],\n",
       " [57, 1, -0.3],\n",
       " [57, 1, -0.3],\n",
       " [56, 1, -0.3],\n",
       " [54, 1, 0],\n",
       " [54, 1, 0],\n",
       " [53, 1, 0],\n",
       " [54, 1, 0],\n",
       " [56, 1, -0.3],\n",
       " [57, 1, -0.3],\n",
       " [57, 1, -0.3],\n",
       " [57, 1, -0.3],\n",
       " [57, 1, -0.3],\n",
       " [58, 1, -0.3],\n",
       " [58, 1, -0.3],\n",
       " [58, 1, -0.3],\n",
       " [58, 1, -0.3],\n",
       " [58, 1, -0.3],\n",
       " [58, 1, -0.3],\n",
       " [58, 1, -0.3],\n",
       " [57, 1, -0.3],\n",
       " [56, 1, -0.3],\n",
       " [55, 1, 0],\n",
       " [54, 1, 0],\n",
       " [53, 1, 0],\n",
       " [53, 1, 0],\n",
       " [53, 1, 0],\n",
       " [53, 1, 0],\n",
       " [53, 1, 0],\n",
       " [53, 1, 0],\n",
       " [53, 1, 0],\n",
       " [53, 1, 0],\n",
       " [54, 1, 0],\n",
       " [54, 1, 0],\n",
       " [54, 1, 0],\n",
       " [54, 1, 0],\n",
       " [54, 1, 0],\n",
       " [54, 1, 0],\n",
       " [55, 1, 0],\n",
       " [55, 1, 0],\n",
       " [55, 1, 0],\n",
       " [55, 1, 0],\n",
       " [55, 1, 0],\n",
       " [55, 1, 0],\n",
       " [55, 1, 0],\n",
       " [55, 1, 0],\n",
       " [55, 1, 0],\n",
       " [56, 1, -0.3],\n",
       " [56, 1, -0.3],\n",
       " [54, 1, 0],\n",
       " [55, 1, 0],\n",
       " [54, 1, 0],\n",
       " [54, 1, 0],\n",
       " [55, 1, 0],\n",
       " [55, 1, 0],\n",
       " [56, 1, -0.3],\n",
       " [56, 1, -0.3],\n",
       " [56, 1, -0.3],\n",
       " [56, 1, -0.3],\n",
       " [54, 1, 0],\n",
       " [54, 1, 0],\n",
       " [55, 1, 0],\n",
       " [57, 1, -0.3],\n",
       " [58, 1, -0.3],\n",
       " [58, 1, -0.3],\n",
       " [59, 1, -0.3],\n",
       " [60, 1, -0.3],\n",
       " [60, 1, -0.3],\n",
       " [60, 1, -0.3],\n",
       " [60, 1, -0.3],\n",
       " [60, 1, -0.3],\n",
       " [61, 1, -0.3],\n",
       " [60, 1, -0.3],\n",
       " [59, 1, -0.3],\n",
       " [59, 1, -0.3],\n",
       " [58, 1, -0.3],\n",
       " [57, 1, -0.3],\n",
       " [55, 1, 0],\n",
       " [54, 1, 0],\n",
       " [53, 1, 0],\n",
       " [52, 1, 0],\n",
       " [52, 1, 0],\n",
       " [52, 1, 0],\n",
       " [51, 1, 0],\n",
       " [51, 1, 0],\n",
       " [51, 1, 0],\n",
       " [51, 1, 0],\n",
       " [51, 1, 0],\n",
       " [50, 1, 0],\n",
       " [50, 1, 0],\n",
       " [50, 1, 0],\n",
       " [50, 1, 0],\n",
       " [50, 1, 0],\n",
       " [50, 1, 0],\n",
       " [50, 1, 0],\n",
       " [50, 1, 0],\n",
       " [50, 1, 0],\n",
       " [50, 1, 0],\n",
       " [50, 1, 0],\n",
       " [50, 1, 0],\n",
       " [50, 1, 0],\n",
       " [50, 1, 0],\n",
       " [51, 1, 0],\n",
       " [51, 1, 0],\n",
       " [52, 1, 0],\n",
       " [53, 1, 0],\n",
       " [53, 1, 0],\n",
       " [54, 1, 0],\n",
       " [56, 1, -0.3],\n",
       " [57, 1, -0.3],\n",
       " [56, 1, -0.3],\n",
       " [55, 1, 0],\n",
       " [55, 1, 0],\n",
       " [56, 1, -0.3],\n",
       " [56, 1, -0.3],\n",
       " [56, 1, -0.3],\n",
       " [55, 1, 0],\n",
       " [55, 1, 0],\n",
       " [57, 1, -0.3],\n",
       " [58, 1, -0.3],\n",
       " [57, 1, -0.3],\n",
       " [57, 1, -0.3],\n",
       " [58, 1, -0.3],\n",
       " [58, 1, -0.3],\n",
       " [57, 1, -0.3],\n",
       " [58, 1, -0.3],\n",
       " [57, 1, -0.3],\n",
       " [57, 1, -0.3],\n",
       " [56, 1, -0.3],\n",
       " [55, 1, 0],\n",
       " [54, 1, 0],\n",
       " [54, 1, 0],\n",
       " [54, 1, 0],\n",
       " [54, 1, 0],\n",
       " [55, 1, 0],\n",
       " [55, 1, 0],\n",
       " [56, 1, -0.3],\n",
       " [56, 1, -0.3],\n",
       " [56, 1, -0.3],\n",
       " [55, 1, 0],\n",
       " [55, 1, 0],\n",
       " [54, 1, 0],\n",
       " [53, 1, 0],\n",
       " [53, 1, 0],\n",
       " [52, 1, 0],\n",
       " [52, 1, 0],\n",
       " [51, 1, 0],\n",
       " [50, 1, 0],\n",
       " [50, 1, 0],\n",
       " [49, 1, 0],\n",
       " [48, 1, 0],\n",
       " [47, 1, 0],\n",
       " [47, 1, 0],\n",
       " [46, 1, 0],\n",
       " [45, 1, 0],\n",
       " [44, 1, 0.3],\n",
       " [44, 1, 0.3],\n",
       " [45, 1, 0],\n",
       " [45, 1, 0],\n",
       " [45, 1, 0],\n",
       " [45, 1, 0],\n",
       " [45, 1, 0],\n",
       " [45, 1, 0],\n",
       " [45, 1, 0],\n",
       " [46, 1, 0],\n",
       " [46, 1, 0],\n",
       " [47, 1, 0],\n",
       " [47, 1, 0],\n",
       " [47, 1, 0],\n",
       " [48, 1, 0],\n",
       " [49, 1, 0],\n",
       " [50, 1, 0],\n",
       " [51, 1, 0],\n",
       " [52, 1, 0],\n",
       " [53, 1, 0],\n",
       " [55, 1, 0],\n",
       " [57, 1, -0.3],\n",
       " [58, 1, -0.3],\n",
       " [59, 1, -0.3],\n",
       " [59, 1, -0.3],\n",
       " [59, 1, -0.3],\n",
       " [58, 1, -0.3],\n",
       " [57, 1, -0.3],\n",
       " [56, 1, -0.3],\n",
       " [55, 1, 0],\n",
       " [54, 1, 0],\n",
       " [54, 1, 0],\n",
       " [57, 1, -0.3],\n",
       " [58, 1, -0.3],\n",
       " [59, 1, -0.3],\n",
       " [59, 1, -0.3],\n",
       " [59, 1, -0.3],\n",
       " [59, 1, -0.3],\n",
       " [59, 1, -0.3],\n",
       " [59, 1, -0.3],\n",
       " [59, 1, -0.3],\n",
       " [58, 1, -0.3],\n",
       " [57, 1, -0.3],\n",
       " [55, 1, 0],\n",
       " [55, 1, 0],\n",
       " [55, 1, 0],\n",
       " [54, 1, 0],\n",
       " [54, 1, 0],\n",
       " [54, 1, 0],\n",
       " [54, 1, 0],\n",
       " [54, 1, 0],\n",
       " [55, 1, 0],\n",
       " [55, 1, 0],\n",
       " [56, 1, -0.3],\n",
       " [56, 1, -0.3],\n",
       " [54, 1, 0],\n",
       " [53, 1, 0],\n",
       " [53, 1, 0],\n",
       " [51, 1, 0],\n",
       " [51, 1, 0],\n",
       " [50, 1, 0],\n",
       " [49, 1, 0],\n",
       " [49, 1, 0],\n",
       " [48, 1, 0],\n",
       " [48, 1, 0],\n",
       " [47, 1, 0],\n",
       " [47, 1, 0],\n",
       " [46, 1, 0],\n",
       " [45, 1, 0],\n",
       " [46, 1, 0],\n",
       " [45, 1, 0],\n",
       " [46, 1, 0],\n",
       " [46, 1, 0],\n",
       " [47, 1, 0],\n",
       " [47, 1, 0],\n",
       " [48, 1, 0],\n",
       " [50, 1, 0],\n",
       " [52, 1, 0],\n",
       " [55, 1, 0],\n",
       " [57, 1, -0.3],\n",
       " [59, 1, -0.3],\n",
       " [60, 1, -0.3],\n",
       " [61, 1, -0.3],\n",
       " [62, 1, -0.3],\n",
       " [63, 1, -0.3],\n",
       " [64, 1, -0.3],\n",
       " [66, 1, -0.3],\n",
       " [67, 1, -0.3],\n",
       " [69, 1, -0.3],\n",
       " [70, 1, -0.3],\n",
       " [72, 1, -0.3],\n",
       " [72, 1, -0.3],\n",
       " [73, 1, -0.3],\n",
       " [73, 1, -0.3],\n",
       " [73, 1, -0.3],\n",
       " [73, 1, -0.3],\n",
       " [72, 1, -0.3],\n",
       " [71, 1, -0.3],\n",
       " [70, 1, -0.3],\n",
       " [68, 1, -0.3],\n",
       " [66, 1, -0.3],\n",
       " [63, 1, -0.3],\n",
       " [60, 1, -0.3],\n",
       " [57, 1, -0.3],\n",
       " [53, 1, 0],\n",
       " [48, 1, 0],\n",
       " [45, 1, 0],\n",
       " [41, 1, 0.3],\n",
       " [39, 1, 0.3],\n",
       " [37, 1, 0.3],\n",
       " [36, 1, 0.3],\n",
       " [36, 1, 0.3],\n",
       " [37, 1, 0.3],\n",
       " [37, 1, 0.3],\n",
       " [39, 1, 0.3],\n",
       " [40, 1, 0.3],\n",
       " [42, 1, 0.3],\n",
       " [45, 1, 0],\n",
       " [48, 1, 0],\n",
       " [49, 1, 0],\n",
       " [52, 1, 0],\n",
       " [54, 1, 0],\n",
       " [56, 1, -0.3],\n",
       " [56, 1, -0.3],\n",
       " [57, 1, -0.3],\n",
       " [56, 1, -0.3],\n",
       " [55, 1, 0],\n",
       " [55, 1, 0],\n",
       " [54, 1, 0],\n",
       " [54, 1, 0],\n",
       " [54, 1, 0],\n",
       " [54, 1, 0],\n",
       " [53, 1, 0],\n",
       " [53, 1, 0],\n",
       " [53, 1, 0],\n",
       " [53, 1, 0],\n",
       " [53, 1, 0],\n",
       " [53, 1, 0],\n",
       " [53, 1, 0],\n",
       " [53, 1, 0],\n",
       " [54, 1, 0],\n",
       " [55, 1, 0],\n",
       " [56, 1, -0.3],\n",
       " [55, 1, 0],\n",
       " [57, 1, -0.3],\n",
       " [57, 1, -0.3],\n",
       " [57, 1, -0.3],\n",
       " [57, 1, -0.3],\n",
       " [56, 1, -0.3],\n",
       " [54, 1, 0],\n",
       " [54, 1, 0],\n",
       " [53, 1, 0],\n",
       " [54, 1, 0],\n",
       " [56, 1, -0.3],\n",
       " [57, 1, -0.3],\n",
       " [57, 1, -0.3],\n",
       " [57, 1, -0.3],\n",
       " [57, 1, -0.3],\n",
       " [58, 1, -0.3],\n",
       " [58, 1, -0.3],\n",
       " [58, 1, -0.3],\n",
       " [58, 1, -0.3],\n",
       " [58, 1, -0.3],\n",
       " [58, 1, -0.3],\n",
       " [58, 1, -0.3],\n",
       " [57, 1, -0.3],\n",
       " [56, 1, -0.3],\n",
       " [55, 1, 0],\n",
       " [54, 1, 0],\n",
       " [53, 1, 0],\n",
       " [53, 1, 0],\n",
       " [53, 1, 0],\n",
       " [53, 1, 0],\n",
       " [53, 1, 0],\n",
       " [53, 1, 0],\n",
       " [53, 1, 0],\n",
       " [53, 1, 0],\n",
       " [54, 1, 0],\n",
       " [54, 1, 0],\n",
       " [54, 1, 0],\n",
       " [54, 1, 0],\n",
       " [54, 1, 0],\n",
       " [54, 1, 0],\n",
       " [55, 1, 0],\n",
       " [55, 1, 0],\n",
       " [55, 1, 0],\n",
       " [55, 1, 0],\n",
       " [55, 1, 0],\n",
       " [55, 1, 0],\n",
       " [55, 1, 0],\n",
       " [55, 1, 0],\n",
       " [55, 1, 0],\n",
       " [56, 1, -0.3],\n",
       " [56, 1, -0.3],\n",
       " [54, 1, 0],\n",
       " [55, 1, 0],\n",
       " [54, 1, 0],\n",
       " [54, 1, 0],\n",
       " [55, 1, 0],\n",
       " [55, 1, 0],\n",
       " [56, 1, -0.3],\n",
       " [56, 1, -0.3],\n",
       " [56, 1, -0.3],\n",
       " [56, 1, -0.3],\n",
       " [54, 1, 0],\n",
       " [54, 1, 0],\n",
       " [55, 1, 0],\n",
       " [57, 1, -0.3],\n",
       " [58, 1, -0.3],\n",
       " [58, 1, -0.3],\n",
       " [59, 1, -0.3],\n",
       " [60, 1, -0.3],\n",
       " [60, 1, -0.3],\n",
       " [60, 1, -0.3],\n",
       " [60, 1, -0.3],\n",
       " [60, 1, -0.3],\n",
       " [61, 1, -0.3],\n",
       " [60, 1, -0.3],\n",
       " [59, 1, -0.3],\n",
       " [59, 1, -0.3],\n",
       " [58, 1, -0.3],\n",
       " [57, 1, -0.3],\n",
       " [55, 1, 0],\n",
       " [54, 1, 0],\n",
       " [53, 1, 0],\n",
       " [52, 1, 0],\n",
       " [52, 1, 0],\n",
       " [52, 1, 0],\n",
       " [51, 1, 0],\n",
       " [51, 1, 0],\n",
       " [51, 1, 0],\n",
       " [51, 1, 0],\n",
       " [51, 1, 0],\n",
       " [50, 1, 0],\n",
       " [50, 1, 0],\n",
       " [50, 1, 0],\n",
       " [50, 1, 0],\n",
       " [50, 1, 0],\n",
       " [50, 1, 0],\n",
       " [50, 1, 0],\n",
       " [50, 1, 0],\n",
       " [50, 1, 0],\n",
       " [50, 1, 0],\n",
       " [50, 1, 0],\n",
       " [50, 1, 0],\n",
       " [50, 1, 0],\n",
       " [50, 1, 0],\n",
       " [51, 1, 0],\n",
       " [51, 1, 0],\n",
       " [52, 1, 0],\n",
       " [53, 1, 0],\n",
       " [53, 1, 0],\n",
       " [54, 1, 0],\n",
       " [56, 1, -0.3],\n",
       " [57, 1, -0.3],\n",
       " [56, 1, -0.3],\n",
       " [55, 1, 0],\n",
       " [55, 1, 0],\n",
       " [56, 1, -0.3],\n",
       " [56, 1, -0.3],\n",
       " [56, 1, -0.3],\n",
       " [55, 1, 0],\n",
       " [55, 1, 0],\n",
       " [57, 1, -0.3],\n",
       " [58, 1, -0.3],\n",
       " [57, 1, -0.3],\n",
       " [57, 1, -0.3],\n",
       " [58, 1, -0.3],\n",
       " [58, 1, -0.3],\n",
       " [57, 1, -0.3],\n",
       " [58, 1, -0.3],\n",
       " [57, 1, -0.3],\n",
       " [57, 1, -0.3],\n",
       " [56, 1, -0.3],\n",
       " [55, 1, 0],\n",
       " [54, 1, 0],\n",
       " [54, 1, 0],\n",
       " [54, 1, 0],\n",
       " [54, 1, 0],\n",
       " [55, 1, 0],\n",
       " [55, 1, 0],\n",
       " [56, 1, -0.3],\n",
       " [56, 1, -0.3],\n",
       " [56, 1, -0.3],\n",
       " [55, 1, 0],\n",
       " [55, 1, 0],\n",
       " [54, 1, 0],\n",
       " [53, 1, 0],\n",
       " [53, 1, 0],\n",
       " [52, 1, 0],\n",
       " [52, 1, 0],\n",
       " [51, 1, 0],\n",
       " [50, 1, 0],\n",
       " [50, 1, 0],\n",
       " [49, 1, 0],\n",
       " [48, 1, 0],\n",
       " [47, 1, 0],\n",
       " [47, 1, 0],\n",
       " [46, 1, 0],\n",
       " [45, 1, 0],\n",
       " [44, 1, 0.3],\n",
       " [44, 1, 0.3],\n",
       " [45, 1, 0],\n",
       " [45, 1, 0],\n",
       " [45, 1, 0],\n",
       " [45, 1, 0],\n",
       " [45, 1, 0],\n",
       " [45, 1, 0],\n",
       " [45, 1, 0],\n",
       " [46, 1, 0],\n",
       " [46, 1, 0],\n",
       " [47, 1, 0],\n",
       " [47, 1, 0],\n",
       " [47, 1, 0],\n",
       " [48, 1, 0],\n",
       " [49, 1, 0],\n",
       " [50, 1, 0],\n",
       " [51, 1, 0],\n",
       " [52, 1, 0],\n",
       " [53, 1, 0],\n",
       " [55, 1, 0],\n",
       " [57, 1, -0.3],\n",
       " [58, 1, -0.3],\n",
       " [59, 1, -0.3],\n",
       " [59, 1, -0.3],\n",
       " [59, 1, -0.3],\n",
       " [58, 1, -0.3],\n",
       " [57, 1, -0.3],\n",
       " [56, 1, -0.3],\n",
       " [55, 1, 0],\n",
       " [54, 1, 0],\n",
       " [54, 1, 0],\n",
       " [57, 1, -0.3],\n",
       " ...]"
      ]
     },
     "execution_count": 15,
     "metadata": {},
     "output_type": "execute_result"
    }
   ],
   "source": [
    "data"
   ]
  },
  {
   "cell_type": "markdown",
   "id": "1c378a64",
   "metadata": {},
   "source": [
    "Processarem les dades d'entrenament en la següent cel·la. Aplicarem les següents transformacions:\n",
    "\n",
    "- Normalitzarem les dades del sensor i les comandes del motor per ajustar-se a l'interval de la funció d'activació. En el nostre cas, utilitzarem la funció d'activació tanh, que té un interval de [-1,1] i solament cal normalitzar les dades dels sensors de proximitat.\n",
    "- Llevarem les dades on el robot estigui aturat o vagi enrere. "
   ]
  },
  {
   "cell_type": "code",
   "execution_count": 16,
   "id": "40fa2dcef3a5a9a9",
   "metadata": {
    "ExecuteTime": {
     "end_time": "2023-10-07T09:47:34.045505Z",
     "start_time": "2023-10-07T09:47:33.895740Z"
    },
    "collapsed": false
   },
   "outputs": [],
   "source": [
    "processed_lines = []\n",
    "\n",
    "for line in data:\n",
    "    # Processem les dades per tal de tenir un format més adequat per a la xarxa neuronal.\n",
    "\n",
    "with open(\"training_data.txt\", \"w\") as f:\n",
    "    f.writelines(processed_lines)\n"
   ]
  }
 ],
 "metadata": {
  "kernelspec": {
   "display_name": "Python 3",
   "language": "python",
   "name": "python3"
  },
  "language_info": {
   "codemirror_mode": {
    "name": "ipython",
    "version": 3
   },
   "file_extension": ".py",
   "mimetype": "text/x-python",
   "name": "python",
   "nbconvert_exporter": "python",
   "pygments_lexer": "ipython3",
   "version": "3.8.10"
  }
 },
 "nbformat": 4,
 "nbformat_minor": 5
}
