{
 "cells": [
  {
   "cell_type": "markdown",
   "id": "89b670a8c4d4e4ba",
   "metadata": {
    "collapsed": false
   },
   "source": [
    "# Pràctica 2: Generant dades d'entrenament"
   ]
  },
  {
   "cell_type": "markdown",
   "id": "fcfcc52fea5a9d80",
   "metadata": {
    "collapsed": false
   },
   "source": [
    "## Introducció\n",
    "\n",
    "En aquest notebook generarem dades per entrenar una xarxa neuronal per controlar el robot per recorrer el circuit i evitar els obstacles. Farem servir les dades que generem en aquest notebook per entrenar una xarxa neuronal en el següent notebook."
   ]
  },
  {
   "cell_type": "code",
   "execution_count": 3,
   "id": "8fd9319d",
   "metadata": {},
   "outputs": [
    {
     "name": "stdout",
     "output_type": "stream",
     "text": [
      "Requirement already satisfied: aitk.robots in /home/carlesgm/Documents/mia/.venv/lib/python3.8/site-packages (0.9.43)\n",
      "Requirement already satisfied: aitk.networks in /home/carlesgm/Documents/mia/.venv/lib/python3.8/site-packages (0.5.2)\n",
      "Requirement already satisfied: tensorflow in /home/carlesgm/Documents/mia/.venv/lib/python3.8/site-packages (2.13.1)\n",
      "Requirement already satisfied: numpy in /home/carlesgm/Documents/mia/.venv/lib/python3.8/site-packages (1.24.3)\n",
      "Requirement already satisfied: setuptools in /home/carlesgm/Documents/mia/.venv/lib/python3.8/site-packages (from aitk.robots) (69.2.0)\n",
      "Requirement already satisfied: Pillow in /home/carlesgm/Documents/mia/.venv/lib/python3.8/site-packages (from aitk.robots) (9.4.0)\n",
      "Requirement already satisfied: aitk.utils>=0.6.1 in /home/carlesgm/Documents/mia/.venv/lib/python3.8/site-packages (from aitk.robots) (0.7.3)\n",
      "Requirement already satisfied: ipywidgets in /home/carlesgm/Documents/mia/.venv/lib/python3.8/site-packages (from aitk.robots) (8.1.2)\n",
      "Requirement already satisfied: matplotlib in /home/carlesgm/Documents/mia/.venv/lib/python3.8/site-packages (from aitk.networks) (3.7.5)\n",
      "Requirement already satisfied: absl-py>=1.0.0 in /home/carlesgm/Documents/mia/.venv/lib/python3.8/site-packages (from tensorflow) (1.4.0)\n",
      "Requirement already satisfied: astunparse>=1.6.0 in /home/carlesgm/Documents/mia/.venv/lib/python3.8/site-packages (from tensorflow) (1.6.3)\n",
      "Requirement already satisfied: flatbuffers>=23.1.21 in /home/carlesgm/Documents/mia/.venv/lib/python3.8/site-packages (from tensorflow) (24.3.7)\n",
      "Requirement already satisfied: gast<=0.4.0,>=0.2.1 in /home/carlesgm/Documents/mia/.venv/lib/python3.8/site-packages (from tensorflow) (0.4.0)\n",
      "Requirement already satisfied: google-pasta>=0.1.1 in /home/carlesgm/Documents/mia/.venv/lib/python3.8/site-packages (from tensorflow) (0.2.0)\n",
      "Requirement already satisfied: grpcio<2.0,>=1.24.3 in /home/carlesgm/Documents/mia/.venv/lib/python3.8/site-packages (from tensorflow) (1.62.1)\n",
      "Requirement already satisfied: h5py>=2.9.0 in /home/carlesgm/Documents/mia/.venv/lib/python3.8/site-packages (from tensorflow) (3.10.0)\n",
      "Requirement already satisfied: keras<2.14,>=2.13.1 in /home/carlesgm/Documents/mia/.venv/lib/python3.8/site-packages (from tensorflow) (2.13.1)\n",
      "Requirement already satisfied: libclang>=13.0.0 in /home/carlesgm/Documents/mia/.venv/lib/python3.8/site-packages (from tensorflow) (18.1.1)\n",
      "Requirement already satisfied: opt-einsum>=2.3.2 in /home/carlesgm/Documents/mia/.venv/lib/python3.8/site-packages (from tensorflow) (3.3.0)\n",
      "Requirement already satisfied: packaging in /home/carlesgm/Documents/mia/.venv/lib/python3.8/site-packages (from tensorflow) (24.0)\n",
      "Requirement already satisfied: protobuf!=4.21.0,!=4.21.1,!=4.21.2,!=4.21.3,!=4.21.4,!=4.21.5,<5.0.0dev,>=3.20.3 in /home/carlesgm/Documents/mia/.venv/lib/python3.8/site-packages (from tensorflow) (3.20.3)\n",
      "Requirement already satisfied: six>=1.12.0 in /home/carlesgm/Documents/mia/.venv/lib/python3.8/site-packages (from tensorflow) (1.16.0)\n",
      "Requirement already satisfied: tensorboard<2.14,>=2.13 in /home/carlesgm/Documents/mia/.venv/lib/python3.8/site-packages (from tensorflow) (2.13.0)\n",
      "Requirement already satisfied: tensorflow-estimator<2.14,>=2.13.0 in /home/carlesgm/Documents/mia/.venv/lib/python3.8/site-packages (from tensorflow) (2.13.0)\n",
      "Requirement already satisfied: termcolor>=1.1.0 in /home/carlesgm/Documents/mia/.venv/lib/python3.8/site-packages (from tensorflow) (2.4.0)\n",
      "Requirement already satisfied: typing-extensions<4.6.0,>=3.6.6 in /home/carlesgm/Documents/mia/.venv/lib/python3.8/site-packages (from tensorflow) (4.5.0)\n",
      "Requirement already satisfied: wrapt>=1.11.0 in /home/carlesgm/Documents/mia/.venv/lib/python3.8/site-packages (from tensorflow) (1.16.0)\n",
      "Requirement already satisfied: tensorflow-io-gcs-filesystem>=0.23.1 in /home/carlesgm/Documents/mia/.venv/lib/python3.8/site-packages (from tensorflow) (0.34.0)\n",
      "Requirement already satisfied: tqdm in /home/carlesgm/Documents/mia/.venv/lib/python3.8/site-packages (from aitk.utils>=0.6.1->aitk.robots) (4.66.2)\n",
      "Requirement already satisfied: wheel<1.0,>=0.23.0 in /home/carlesgm/Documents/mia/.venv/lib/python3.8/site-packages (from astunparse>=1.6.0->tensorflow) (0.43.0)\n",
      "Requirement already satisfied: google-auth<3,>=1.6.3 in /home/carlesgm/Documents/mia/.venv/lib/python3.8/site-packages (from tensorboard<2.14,>=2.13->tensorflow) (2.28.2)\n",
      "Requirement already satisfied: google-auth-oauthlib<1.1,>=0.5 in /home/carlesgm/Documents/mia/.venv/lib/python3.8/site-packages (from tensorboard<2.14,>=2.13->tensorflow) (1.0.0)\n",
      "Requirement already satisfied: markdown>=2.6.8 in /home/carlesgm/Documents/mia/.venv/lib/python3.8/site-packages (from tensorboard<2.14,>=2.13->tensorflow) (3.6)\n",
      "Requirement already satisfied: requests<3,>=2.21.0 in /home/carlesgm/Documents/mia/.venv/lib/python3.8/site-packages (from tensorboard<2.14,>=2.13->tensorflow) (2.31.0)\n",
      "Requirement already satisfied: tensorboard-data-server<0.8.0,>=0.7.0 in /home/carlesgm/Documents/mia/.venv/lib/python3.8/site-packages (from tensorboard<2.14,>=2.13->tensorflow) (0.7.2)\n",
      "Requirement already satisfied: werkzeug>=1.0.1 in /home/carlesgm/Documents/mia/.venv/lib/python3.8/site-packages (from tensorboard<2.14,>=2.13->tensorflow) (3.0.1)\n",
      "Requirement already satisfied: comm>=0.1.3 in /home/carlesgm/Documents/mia/.venv/lib/python3.8/site-packages (from ipywidgets->aitk.robots) (0.2.2)\n",
      "Requirement already satisfied: ipython>=6.1.0 in /home/carlesgm/Documents/mia/.venv/lib/python3.8/site-packages (from ipywidgets->aitk.robots) (8.12.3)\n",
      "Requirement already satisfied: traitlets>=4.3.1 in /home/carlesgm/Documents/mia/.venv/lib/python3.8/site-packages (from ipywidgets->aitk.robots) (5.14.2)\n",
      "Requirement already satisfied: widgetsnbextension~=4.0.10 in /home/carlesgm/Documents/mia/.venv/lib/python3.8/site-packages (from ipywidgets->aitk.robots) (4.0.10)\n",
      "Requirement already satisfied: jupyterlab-widgets~=3.0.10 in /home/carlesgm/Documents/mia/.venv/lib/python3.8/site-packages (from ipywidgets->aitk.robots) (3.0.10)\n",
      "Requirement already satisfied: contourpy>=1.0.1 in /home/carlesgm/Documents/mia/.venv/lib/python3.8/site-packages (from matplotlib->aitk.networks) (1.1.1)\n",
      "Requirement already satisfied: cycler>=0.10 in /home/carlesgm/Documents/mia/.venv/lib/python3.8/site-packages (from matplotlib->aitk.networks) (0.10.0)\n",
      "Requirement already satisfied: fonttools>=4.22.0 in /home/carlesgm/Documents/mia/.venv/lib/python3.8/site-packages (from matplotlib->aitk.networks) (4.50.0)\n",
      "Requirement already satisfied: kiwisolver>=1.0.1 in /home/carlesgm/Documents/mia/.venv/lib/python3.8/site-packages (from matplotlib->aitk.networks) (1.4.5)\n",
      "Requirement already satisfied: pyparsing>=2.3.1 in /home/carlesgm/Documents/mia/.venv/lib/python3.8/site-packages (from matplotlib->aitk.networks) (3.1.2)\n",
      "Requirement already satisfied: python-dateutil>=2.7 in /home/carlesgm/Documents/mia/.venv/lib/python3.8/site-packages (from matplotlib->aitk.networks) (2.9.0.post0)\n",
      "Requirement already satisfied: importlib-resources>=3.2.0 in /home/carlesgm/Documents/mia/.venv/lib/python3.8/site-packages (from matplotlib->aitk.networks) (6.3.1)\n",
      "Requirement already satisfied: cachetools<6.0,>=2.0.0 in /home/carlesgm/Documents/mia/.venv/lib/python3.8/site-packages (from google-auth<3,>=1.6.3->tensorboard<2.14,>=2.13->tensorflow) (5.3.3)\n",
      "Requirement already satisfied: pyasn1-modules>=0.2.1 in /home/carlesgm/Documents/mia/.venv/lib/python3.8/site-packages (from google-auth<3,>=1.6.3->tensorboard<2.14,>=2.13->tensorflow) (0.3.0)\n",
      "Requirement already satisfied: rsa<5,>=3.1.4 in /home/carlesgm/Documents/mia/.venv/lib/python3.8/site-packages (from google-auth<3,>=1.6.3->tensorboard<2.14,>=2.13->tensorflow) (4.9)\n",
      "Requirement already satisfied: requests-oauthlib>=0.7.0 in /home/carlesgm/Documents/mia/.venv/lib/python3.8/site-packages (from google-auth-oauthlib<1.1,>=0.5->tensorboard<2.14,>=2.13->tensorflow) (1.4.0)\n",
      "Requirement already satisfied: zipp>=3.1.0 in /home/carlesgm/Documents/mia/.venv/lib/python3.8/site-packages (from importlib-resources>=3.2.0->matplotlib->aitk.networks) (3.18.1)\n",
      "Requirement already satisfied: backcall in /home/carlesgm/Documents/mia/.venv/lib/python3.8/site-packages (from ipython>=6.1.0->ipywidgets->aitk.robots) (0.2.0)\n",
      "Requirement already satisfied: decorator in /home/carlesgm/Documents/mia/.venv/lib/python3.8/site-packages (from ipython>=6.1.0->ipywidgets->aitk.robots) (5.1.1)\n",
      "Requirement already satisfied: jedi>=0.16 in /home/carlesgm/Documents/mia/.venv/lib/python3.8/site-packages (from ipython>=6.1.0->ipywidgets->aitk.robots) (0.19.1)\n",
      "Requirement already satisfied: matplotlib-inline in /home/carlesgm/Documents/mia/.venv/lib/python3.8/site-packages (from ipython>=6.1.0->ipywidgets->aitk.robots) (0.1.6)\n",
      "Requirement already satisfied: pickleshare in /home/carlesgm/Documents/mia/.venv/lib/python3.8/site-packages (from ipython>=6.1.0->ipywidgets->aitk.robots) (0.7.5)\n",
      "Requirement already satisfied: prompt-toolkit!=3.0.37,<3.1.0,>=3.0.30 in /home/carlesgm/Documents/mia/.venv/lib/python3.8/site-packages (from ipython>=6.1.0->ipywidgets->aitk.robots) (3.0.43)\n",
      "Requirement already satisfied: pygments>=2.4.0 in /home/carlesgm/Documents/mia/.venv/lib/python3.8/site-packages (from ipython>=6.1.0->ipywidgets->aitk.robots) (2.17.2)\n",
      "Requirement already satisfied: stack-data in /home/carlesgm/Documents/mia/.venv/lib/python3.8/site-packages (from ipython>=6.1.0->ipywidgets->aitk.robots) (0.6.3)\n",
      "Requirement already satisfied: pexpect>4.3 in /home/carlesgm/Documents/mia/.venv/lib/python3.8/site-packages (from ipython>=6.1.0->ipywidgets->aitk.robots) (4.9.0)\n",
      "Requirement already satisfied: importlib-metadata>=4.4 in /home/carlesgm/Documents/mia/.venv/lib/python3.8/site-packages (from markdown>=2.6.8->tensorboard<2.14,>=2.13->tensorflow) (7.0.2)\n",
      "Requirement already satisfied: charset-normalizer<4,>=2 in /home/carlesgm/Documents/mia/.venv/lib/python3.8/site-packages (from requests<3,>=2.21.0->tensorboard<2.14,>=2.13->tensorflow) (3.3.2)\n",
      "Requirement already satisfied: idna<4,>=2.5 in /home/carlesgm/Documents/mia/.venv/lib/python3.8/site-packages (from requests<3,>=2.21.0->tensorboard<2.14,>=2.13->tensorflow) (2.10)\n",
      "Requirement already satisfied: urllib3<3,>=1.21.1 in /home/carlesgm/Documents/mia/.venv/lib/python3.8/site-packages (from requests<3,>=2.21.0->tensorboard<2.14,>=2.13->tensorflow) (2.2.1)\n",
      "Requirement already satisfied: certifi>=2017.4.17 in /home/carlesgm/Documents/mia/.venv/lib/python3.8/site-packages (from requests<3,>=2.21.0->tensorboard<2.14,>=2.13->tensorflow) (2023.7.22)\n",
      "Requirement already satisfied: MarkupSafe>=2.1.1 in /home/carlesgm/Documents/mia/.venv/lib/python3.8/site-packages (from werkzeug>=1.0.1->tensorboard<2.14,>=2.13->tensorflow) (2.1.5)\n",
      "Requirement already satisfied: parso<0.9.0,>=0.8.3 in /home/carlesgm/Documents/mia/.venv/lib/python3.8/site-packages (from jedi>=0.16->ipython>=6.1.0->ipywidgets->aitk.robots) (0.8.3)\n",
      "Requirement already satisfied: ptyprocess>=0.5 in /home/carlesgm/Documents/mia/.venv/lib/python3.8/site-packages (from pexpect>4.3->ipython>=6.1.0->ipywidgets->aitk.robots) (0.7.0)\n",
      "Requirement already satisfied: wcwidth in /home/carlesgm/Documents/mia/.venv/lib/python3.8/site-packages (from prompt-toolkit!=3.0.37,<3.1.0,>=3.0.30->ipython>=6.1.0->ipywidgets->aitk.robots) (0.2.13)\n",
      "Requirement already satisfied: pyasn1<0.6.0,>=0.4.6 in /home/carlesgm/Documents/mia/.venv/lib/python3.8/site-packages (from pyasn1-modules>=0.2.1->google-auth<3,>=1.6.3->tensorboard<2.14,>=2.13->tensorflow) (0.5.1)\n",
      "Requirement already satisfied: oauthlib>=3.0.0 in /home/carlesgm/Documents/mia/.venv/lib/python3.8/site-packages (from requests-oauthlib>=0.7.0->google-auth-oauthlib<1.1,>=0.5->tensorboard<2.14,>=2.13->tensorflow) (3.2.2)\n",
      "Requirement already satisfied: executing>=1.2.0 in /home/carlesgm/Documents/mia/.venv/lib/python3.8/site-packages (from stack-data->ipython>=6.1.0->ipywidgets->aitk.robots) (2.0.1)\n",
      "Requirement already satisfied: asttokens>=2.1.0 in /home/carlesgm/Documents/mia/.venv/lib/python3.8/site-packages (from stack-data->ipython>=6.1.0->ipywidgets->aitk.robots) (2.4.1)\n",
      "Requirement already satisfied: pure-eval in /home/carlesgm/Documents/mia/.venv/lib/python3.8/site-packages (from stack-data->ipython>=6.1.0->ipywidgets->aitk.robots) (0.2.2)\n"
     ]
    }
   ],
   "source": [
    "!pip install aitk.robots aitk.networks tensorflow numpy"
   ]
  },
  {
   "cell_type": "code",
   "execution_count": 4,
   "id": "42219a2c757271c9",
   "metadata": {
    "ExecuteTime": {
     "end_time": "2023-10-07T09:33:28.463052Z",
     "start_time": "2023-10-07T09:33:27.505417Z"
    },
    "collapsed": false
   },
   "outputs": [],
   "source": [
    "import aitk.robots as bots"
   ]
  },
  {
   "cell_type": "code",
   "execution_count": 5,
   "id": "4cf4ada486d52ffd",
   "metadata": {
    "ExecuteTime": {
     "end_time": "2023-10-07T09:33:51.682495Z",
     "start_time": "2023-10-07T09:33:51.278436Z"
    },
    "collapsed": false
   },
   "outputs": [
    {
     "name": "stdout",
     "output_type": "stream",
     "text": [
      "Random seed set to: 8646705\n"
     ]
    },
    {
     "data": {
      "application/vnd.jupyter.widget-view+json": {
       "model_id": "dcadc34773f0415faca7dc96911a4014",
       "version_major": 2,
       "version_minor": 0
      },
      "text/plain": [
       "Image(value=b'\\xff\\xd8\\xff\\xe0\\x00\\x10JFIF\\x00\\x01\\x01\\x00\\x00\\x01\\x00\\x01\\x00\\x00\\xff\\xdb\\x00C\\x00\\x08\\x06\\x0…"
      ]
     },
     "metadata": {},
     "output_type": "display_data"
    }
   ],
   "source": [
    "world = bots.World(240, 150)\n",
    "# world.add_wall(\"blue\", 60, 40, 65, 110)\n",
    "# world.add_wall(\"blue\", 65, 70, 200, 75)\n",
    "# #world.add_wall(\"blue\", 100, 0, 140, 30, box=False)\n",
    "# world.add_wall(\"blue\", 100, 0, 105, 30)\n",
    "\n",
    "# world.add_wall(\"blue\", 140, 110, 145, 150)\n",
    "# world.add_wall(\"blue\", 195, 50, 200, 70)\n",
    "\n",
    "world.add_wall(\"blue\", 0, 0, 50, 50)\n",
    "world.add_wall(\"blue\", 75, 200, 125, 150)\n",
    "world.add_wall(\"blue\", 150, 0, 200, 50)\n",
    "world.add_wall(\"blue\", 150, 150, 200, 100)\n",
    "world.add_wall(\"blue\", 0, 100, 50, 150)\n",
    "\n",
    "world.add_wall(\"blue\", 100, 25, 105, 150)\n",
    "world.add_wall(\"blue\", 100, 70, 120, 75)\n",
    "\n",
    "world.add_bulb(\"yellow\", 125, 130, 1, 30)\n",
    "\n",
    "robot = bots.Scribbler(x=30, y=80, a=90)\n",
    "robot.add_device(bots.RangeSensor(width=45,max=20,name=\"front\"))\n",
    "robot.add_device(bots.RangeSensor(width=45,max=20,position=(6,-6),\n",
    "                                         a=90,name=\"left\"))\n",
    "robot.add_device(bots.LightSensor(position=(6, 0), name=\"light\"))\n",
    "\n",
    "world.add_robot(robot)\n",
    "\n",
    "world.watch()"
   ]
  },
  {
   "cell_type": "markdown",
   "id": "d6a5047d99f7523f",
   "metadata": {
    "collapsed": false
   },
   "source": [
    "## Creant ubicacions d'inici aleatòries úniques\n",
    "\n",
    "En aquesta pràctica, volem generar un conjunt de dades d'entrenament per a la nostra xarxa neuronal. Per generar un conjunt de dades d'entrenament robust, ens agradaria que el robot comencés des de moltes ubicacions diferents al món. Podeu utilitzar `robot.set_random_pose()` per establir la posició del robot en una ubicació aleatòria al món. No obstant això, aquesta funció a vegades establirà la posició del robot en la mateixa ubicació que abans. Per tant, necessitem crear una funció que establirà la posició del robot en una ubicació aleatòria, però no la posarà en la mateixa ubicació que abans."
   ]
  },
  {
   "cell_type": "code",
   "execution_count": 6,
   "id": "9508e5c653370a6d",
   "metadata": {
    "ExecuteTime": {
     "end_time": "2023-10-07T09:34:01.573728Z",
     "start_time": "2023-10-07T09:34:01.554021Z"
    },
    "collapsed": false
   },
   "outputs": [],
   "source": [
    "def inici_aleatori(world):\n",
    "    \"\"\"Estableix la posició del robot a una ubicació aleatòria al món.\"\"\"\n",
    "    world.robots[0].set_random_pose() # Pose aleatòria.\n",
    "    world.update() # Actualitza el món per mostrar la nova posició."
   ]
  },
  {
   "cell_type": "markdown",
   "id": "1829e9fced171c47",
   "metadata": {
    "collapsed": false
   },
   "source": [
    "### Testeja la funció `inici_aleatori`\n",
    "\n",
    "Per començar, implementeu la funció `inici_aleatori` que establirà la posició del robot en una ubicació aleatòria, però no la posarà en la mateixa ubicació que abans. Aquesta funció hauria de ser cridada per a cada episodi d'entrenament. Per exemple, si volem generar 100 episodis d'entrenament, cridarem aquesta funció 100 vegades per generar 100 ubicacions d'inici úniques."
   ]
  },
  {
   "cell_type": "code",
   "execution_count": 7,
   "id": "3c591a8e4c6a3b4",
   "metadata": {
    "ExecuteTime": {
     "end_time": "2023-10-07T09:34:14.951675Z",
     "start_time": "2023-10-07T09:34:04.089751Z"
    },
    "collapsed": false
   },
   "outputs": [],
   "source": [
    "from time import sleep\n",
    "\n",
    "for i in range(10):\n",
    "    inici_aleatori(world)\n",
    "    sleep(1)"
   ]
  },
  {
   "cell_type": "markdown",
   "id": "96d25fe7765d9fbf",
   "metadata": {
    "collapsed": false
   },
   "source": [
    "### Generant valors de moviment i rotació\n",
    "\n",
    "En la pràctica anterior, vau controlar directament el robot cridant `robot.move(translate, rotate)`. Ara volem moure el robot i guardar els moviments en un fitxer. Per fer-ho, crearem una funció anomenada `determine_move` (basada en l'algorisme `wall_follow`) que prengui els valors actuals dels sensors i retorni una tupla que representi els quantitats de translació i rotació apropiades per a aquesta situació.\n",
    "\n",
    "Has de parar quan la volta estigui completada. Per aturar-te, pots utilitzar la funció `robot.move(0, 0)`. Pots utilitzar la funció `robot.get_pose()` per obtenir la posició actual del robot (x, y, a). Pots utilitzar la funció `distance(x1, y1, x2=None, y2=None)` (del paquet `utils`) per obtenir la distància des de la ubicació actual del robot fins a una ubicació donada. Pots utilitzar la funció `robot.set_pose()` per establir la posició del robot (x, y, a) a un valor nou.\n"
   ]
  },
  {
   "cell_type": "code",
   "execution_count": 8,
   "id": "5b4d619b4d432fbf",
   "metadata": {
    "ExecuteTime": {
     "end_time": "2023-10-07T09:44:38.873263Z",
     "start_time": "2023-10-07T09:44:38.834975Z"
    },
    "collapsed": false
   },
   "outputs": [],
   "source": [
    "def determine_move(robot):\n",
    "    \"\"\"\n",
    "    Determina el moviment del robot en funció de les seves lectures de sensors.\n",
    "    Retorna una tupla amb la velocitat de translació, la velocitat de rotació i un booleà que indica si s'ha de parar.\n",
    "\n",
    "    El robot ha de seguir una paret fins que torni a la posició inicial.\n",
    "    \"\"\"\n"
   ]
  },
  {
   "cell_type": "markdown",
   "id": "a316ffa5ea970e60",
   "metadata": {
    "collapsed": false
   },
   "source": [
    "#### Testejant la funció `determine_move`\n",
    "\n",
    "Hem de provar la funció `determine_move` i verificar que encara controla adequadament el robot per seguir la paret. Per fer-ho, cridarem la funció `determine_move` en un bucle i cridarem `robot.move` amb els valors de moviment retornats per la funció `determine_move`. Això hauria de fer que el robot segueixi la paret fins que la volta estigui completada."
   ]
  },
  {
   "cell_type": "code",
   "execution_count": 9,
   "id": "1b4f3533adbf0d4c",
   "metadata": {
    "ExecuteTime": {
     "end_time": "2023-10-07T09:44:39.885699Z",
     "start_time": "2023-10-07T09:44:39.854984Z"
    },
    "collapsed": false
   },
   "outputs": [],
   "source": [
    "def exit_maze(robot):    \n",
    "    translate, rotate, stop, dist_esq, dist_davant, llum = determine_move(robot)\n",
    "    robot.move(translate, rotate)\n",
    "\n",
    "    if stop:\n",
    "        print(\"STOP\")\n",
    "        return True\n"
   ]
  },
  {
   "cell_type": "code",
   "execution_count": 10,
   "id": "5eccbb836204298d",
   "metadata": {
    "ExecuteTime": {
     "end_time": "2023-10-07T09:44:58.212836Z",
     "start_time": "2023-10-07T09:44:41.216981Z"
    },
    "collapsed": false
   },
   "outputs": [
    {
     "name": "stdout",
     "output_type": "stream",
     "text": [
      "Using random seed: 8646705\n"
     ]
    },
    {
     "data": {
      "application/vnd.jupyter.widget-view+json": {
       "model_id": "01739638b9844533919cc853038da6e1",
       "version_major": 2,
       "version_minor": 0
      },
      "text/plain": [
       "  0%|          | 0/1800 [00:00<?, ?it/s]"
      ]
     },
     "metadata": {},
     "output_type": "display_data"
    },
    {
     "name": "stdout",
     "output_type": "stream",
     "text": [
      "STOP\n",
      "Simulation stopped at: 00:01:25.10; speed 20.79 x real time\n"
     ]
    },
    {
     "data": {
      "text/plain": [
       "True"
      ]
     },
     "execution_count": 10,
     "metadata": {},
     "output_type": "execute_result"
    }
   ],
   "source": [
    "inici_aleatori(world)\n",
    "\n",
    "world.reset()\n",
    "\n",
    "world.seconds(180, [exit_maze], real_time=False)"
   ]
  },
  {
   "cell_type": "markdown",
   "id": "7d586e088e3eee38",
   "metadata": {
    "collapsed": false
   },
   "source": [
    "### Generant dades d'entrenament "
   ]
  },
  {
   "cell_type": "markdown",
   "id": "492104e52842d052",
   "metadata": {
    "collapsed": false
   },
   "source": [
    "Ara tenim totes les peces en el lloc per generar les dades d'entrenament.\n",
    "\n",
    "Volem generar un conjunt de dades d'entrenament per a la nostra xarxa neuronal i el simulador en temps real serà massa lent. Per tant, utilitzarem la versió no en temps real del simulador. Per aixó utilitzarem `realtime = False` quan cridem a `world.seconds`.\n",
    "\n",
    "També hem de tindre en que, per entrenar una xarxa neuronal, tots els valors de les dades haurien d'estar normalitzats per ajustar-se a l'interval de la funció d'activació que utilitzarem. Farem servir una funció d'activació amb un interval de [-1,1], ja que les comandes del motor poden ser negatives o positives. Els valors del sensor de sònar estan en l'interval [0,20]. Haureu de trobar els valors mínims i màxims per normalitzar les dades abans de desar-les al fitxer.\n",
    "\n",
    "En cada línia del fitxer que crearem hi haurà valors dels sensors, separats per espais en blanc, seguits de comandes del motor separades per espais en blanc, acabant amb un salt de línia.\n",
    "\n",
    "Un problema que potencialment hem d'abordar és que el nostre programa de recòrrer el laberint pot quedar-se aturat en certes situacions o anar enrere. Hem de construir la nostra funció de generació de dades amb això en ment. Per exemple, si el robot es queda aturat, no volem que les dades d'entrenament reflecteixin aquesta situació.\n",
    "\n",
    "Crearem la funció `generate_data` que generi una llista de dades d'entrenament. Aquesta funció hauria de generar un nombre fix de dades d'entrenament. Per cada iteració d'entrenament, la funció hauria de cridar `inici_aleatori` per establir la posició del robot en una ubicació aleatòria, reiniciar el mon i executar una simulació."
   ]
  },
  {
   "cell_type": "code",
   "execution_count": 11,
   "id": "29ec444990348e0f",
   "metadata": {
    "ExecuteTime": {
     "end_time": "2023-10-07T09:46:39.844482Z",
     "start_time": "2023-10-07T09:46:39.829753Z"
    },
    "collapsed": false
   },
   "outputs": [],
   "source": [
    "        \n",
    "\n",
    "def generate_data(robot, world, trials):\n",
    "    \"\"\"Aquí haurà de generar les dades per entrenar la xarxa neuronal.\"\"\"\n",
    "        "
   ]
  },
  {
   "cell_type": "code",
   "execution_count": 12,
   "id": "68fd8b03fed449cc",
   "metadata": {
    "ExecuteTime": {
     "end_time": "2023-10-07T09:47:18.897439Z",
     "start_time": "2023-10-07T09:46:40.425213Z"
    },
    "collapsed": false
   },
   "outputs": [
    {
     "name": "stdout",
     "output_type": "stream",
     "text": [
      "Using random seed: 8646705\n"
     ]
    },
    {
     "data": {
      "application/vnd.jupyter.widget-view+json": {
       "model_id": "b948fa538f624a4ba71a283347382a2d",
       "version_major": 2,
       "version_minor": 0
      },
      "text/plain": [
       "  0%|          | 0/2400 [00:00<?, ?it/s]"
      ]
     },
     "metadata": {},
     "output_type": "display_data"
    },
    {
     "name": "stdout",
     "output_type": "stream",
     "text": [
      "STOP\n",
      "Simulation stopped at: 00:00:46.90; speed 13.3 x real time\n",
      "Using random seed: 8646705\n"
     ]
    },
    {
     "data": {
      "application/vnd.jupyter.widget-view+json": {
       "model_id": "5cef2a0e23bc4fefafe1828b2cca8b42",
       "version_major": 2,
       "version_minor": 0
      },
      "text/plain": [
       "  0%|          | 0/2400 [00:00<?, ?it/s]"
      ]
     },
     "metadata": {},
     "output_type": "display_data"
    },
    {
     "name": "stdout",
     "output_type": "stream",
     "text": [
      "STOP\n",
      "Simulation stopped at: 00:00:46.90; speed 12.34 x real time\n",
      "Using random seed: 8646705\n"
     ]
    },
    {
     "data": {
      "application/vnd.jupyter.widget-view+json": {
       "model_id": "1832350a9de74b2a92453b9e2ffd7744",
       "version_major": 2,
       "version_minor": 0
      },
      "text/plain": [
       "  0%|          | 0/2400 [00:00<?, ?it/s]"
      ]
     },
     "metadata": {},
     "output_type": "display_data"
    },
    {
     "name": "stdout",
     "output_type": "stream",
     "text": [
      "STOP\n",
      "Simulation stopped at: 00:00:46.90; speed 29.27 x real time\n",
      "Using random seed: 8646705\n"
     ]
    },
    {
     "data": {
      "application/vnd.jupyter.widget-view+json": {
       "model_id": "e49b5755242d4d26b3f35dcd0e35b589",
       "version_major": 2,
       "version_minor": 0
      },
      "text/plain": [
       "  0%|          | 0/2400 [00:00<?, ?it/s]"
      ]
     },
     "metadata": {},
     "output_type": "display_data"
    },
    {
     "name": "stdout",
     "output_type": "stream",
     "text": [
      "STOP\n",
      "Simulation stopped at: 00:00:46.90; speed 33.73 x real time\n",
      "Using random seed: 8646705\n"
     ]
    },
    {
     "data": {
      "application/vnd.jupyter.widget-view+json": {
       "model_id": "7c775771c913476081ee08e1c51eb29d",
       "version_major": 2,
       "version_minor": 0
      },
      "text/plain": [
       "  0%|          | 0/2400 [00:00<?, ?it/s]"
      ]
     },
     "metadata": {},
     "output_type": "display_data"
    },
    {
     "name": "stdout",
     "output_type": "stream",
     "text": [
      "STOP\n",
      "Simulation stopped at: 00:00:46.90; speed 19.54 x real time\n",
      "Using random seed: 8646705\n"
     ]
    },
    {
     "data": {
      "application/vnd.jupyter.widget-view+json": {
       "model_id": "7b0ee64f6abe4c53b6b3937acde90bc9",
       "version_major": 2,
       "version_minor": 0
      },
      "text/plain": [
       "  0%|          | 0/2400 [00:00<?, ?it/s]"
      ]
     },
     "metadata": {},
     "output_type": "display_data"
    },
    {
     "name": "stdout",
     "output_type": "stream",
     "text": [
      "STOP\n",
      "Simulation stopped at: 00:00:46.90; speed 13.18 x real time\n",
      "Using random seed: 8646705\n"
     ]
    },
    {
     "data": {
      "application/vnd.jupyter.widget-view+json": {
       "model_id": "c1f8372bdc174c5f95f91d2dddc9c160",
       "version_major": 2,
       "version_minor": 0
      },
      "text/plain": [
       "  0%|          | 0/2400 [00:00<?, ?it/s]"
      ]
     },
     "metadata": {},
     "output_type": "display_data"
    },
    {
     "name": "stdout",
     "output_type": "stream",
     "text": [
      "STOP\n",
      "Simulation stopped at: 00:00:46.90; speed 15.98 x real time\n",
      "Using random seed: 8646705\n"
     ]
    },
    {
     "data": {
      "application/vnd.jupyter.widget-view+json": {
       "model_id": "3342ae70cf7142539bd0f691ce6f8cf6",
       "version_major": 2,
       "version_minor": 0
      },
      "text/plain": [
       "  0%|          | 0/2400 [00:00<?, ?it/s]"
      ]
     },
     "metadata": {},
     "output_type": "display_data"
    },
    {
     "name": "stdout",
     "output_type": "stream",
     "text": [
      "STOP\n",
      "Simulation stopped at: 00:00:46.90; speed 12.96 x real time\n",
      "Using random seed: 8646705\n"
     ]
    },
    {
     "data": {
      "application/vnd.jupyter.widget-view+json": {
       "model_id": "fb9ccba2b59a47149873f7379ddda4e1",
       "version_major": 2,
       "version_minor": 0
      },
      "text/plain": [
       "  0%|          | 0/2400 [00:00<?, ?it/s]"
      ]
     },
     "metadata": {},
     "output_type": "display_data"
    },
    {
     "name": "stdout",
     "output_type": "stream",
     "text": [
      "STOP\n",
      "Simulation stopped at: 00:00:46.90; speed 13.81 x real time\n",
      "Using random seed: 8646705\n"
     ]
    },
    {
     "data": {
      "application/vnd.jupyter.widget-view+json": {
       "model_id": "e3fce8ef6b3642fabdd171d189c6bbc6",
       "version_major": 2,
       "version_minor": 0
      },
      "text/plain": [
       "  0%|          | 0/2400 [00:00<?, ?it/s]"
      ]
     },
     "metadata": {},
     "output_type": "display_data"
    },
    {
     "name": "stdout",
     "output_type": "stream",
     "text": [
      "STOP\n",
      "Simulation stopped at: 00:00:46.90; speed 16.23 x real time\n",
      "Using random seed: 8646705\n"
     ]
    },
    {
     "data": {
      "application/vnd.jupyter.widget-view+json": {
       "model_id": "cf1b40cd143d43f1a6f352a85259b2a8",
       "version_major": 2,
       "version_minor": 0
      },
      "text/plain": [
       "  0%|          | 0/2400 [00:00<?, ?it/s]"
      ]
     },
     "metadata": {},
     "output_type": "display_data"
    },
    {
     "name": "stdout",
     "output_type": "stream",
     "text": [
      "STOP\n",
      "Simulation stopped at: 00:00:46.90; speed 13.58 x real time\n",
      "Using random seed: 8646705\n"
     ]
    },
    {
     "data": {
      "application/vnd.jupyter.widget-view+json": {
       "model_id": "c484f56080df4654aabad1054d2b033b",
       "version_major": 2,
       "version_minor": 0
      },
      "text/plain": [
       "  0%|          | 0/2400 [00:00<?, ?it/s]"
      ]
     },
     "metadata": {},
     "output_type": "display_data"
    },
    {
     "name": "stdout",
     "output_type": "stream",
     "text": [
      "STOP\n",
      "Simulation stopped at: 00:00:46.90; speed 12.16 x real time\n",
      "Using random seed: 8646705\n"
     ]
    },
    {
     "data": {
      "application/vnd.jupyter.widget-view+json": {
       "model_id": "d0765031ddcb4f7697e5e1e76c14211f",
       "version_major": 2,
       "version_minor": 0
      },
      "text/plain": [
       "  0%|          | 0/2400 [00:00<?, ?it/s]"
      ]
     },
     "metadata": {},
     "output_type": "display_data"
    },
    {
     "name": "stdout",
     "output_type": "stream",
     "text": [
      "STOP\n",
      "Simulation stopped at: 00:00:46.90; speed 10.85 x real time\n",
      "Using random seed: 8646705\n"
     ]
    },
    {
     "data": {
      "application/vnd.jupyter.widget-view+json": {
       "model_id": "41e853ca7f3b472ea3b0a084318c1491",
       "version_major": 2,
       "version_minor": 0
      },
      "text/plain": [
       "  0%|          | 0/2400 [00:00<?, ?it/s]"
      ]
     },
     "metadata": {},
     "output_type": "display_data"
    },
    {
     "name": "stdout",
     "output_type": "stream",
     "text": [
      "STOP\n",
      "Simulation stopped at: 00:00:46.90; speed 14.73 x real time\n",
      "Using random seed: 8646705\n"
     ]
    },
    {
     "data": {
      "application/vnd.jupyter.widget-view+json": {
       "model_id": "73f73a3635d84f1baaefc1366ed85137",
       "version_major": 2,
       "version_minor": 0
      },
      "text/plain": [
       "  0%|          | 0/2400 [00:00<?, ?it/s]"
      ]
     },
     "metadata": {},
     "output_type": "display_data"
    },
    {
     "name": "stdout",
     "output_type": "stream",
     "text": [
      "STOP\n",
      "Simulation stopped at: 00:00:46.90; speed 21.73 x real time\n",
      "Using random seed: 8646705\n"
     ]
    },
    {
     "data": {
      "application/vnd.jupyter.widget-view+json": {
       "model_id": "d464e4e329b84885af13516fc541d02c",
       "version_major": 2,
       "version_minor": 0
      },
      "text/plain": [
       "  0%|          | 0/2400 [00:00<?, ?it/s]"
      ]
     },
     "metadata": {},
     "output_type": "display_data"
    },
    {
     "name": "stdout",
     "output_type": "stream",
     "text": [
      "STOP\n",
      "Simulation stopped at: 00:00:46.90; speed 26.42 x real time\n",
      "Using random seed: 8646705\n"
     ]
    },
    {
     "data": {
      "application/vnd.jupyter.widget-view+json": {
       "model_id": "759c919d4b174d25914d72436d7d04e9",
       "version_major": 2,
       "version_minor": 0
      },
      "text/plain": [
       "  0%|          | 0/2400 [00:00<?, ?it/s]"
      ]
     },
     "metadata": {},
     "output_type": "display_data"
    },
    {
     "name": "stdout",
     "output_type": "stream",
     "text": [
      "STOP\n",
      "Simulation stopped at: 00:00:46.90; speed 15.31 x real time\n",
      "Using random seed: 8646705\n"
     ]
    },
    {
     "data": {
      "application/vnd.jupyter.widget-view+json": {
       "model_id": "02b40f22a7c34ddcbcaf117c4def6b34",
       "version_major": 2,
       "version_minor": 0
      },
      "text/plain": [
       "  0%|          | 0/2400 [00:00<?, ?it/s]"
      ]
     },
     "metadata": {},
     "output_type": "display_data"
    },
    {
     "name": "stdout",
     "output_type": "stream",
     "text": [
      "STOP\n",
      "Simulation stopped at: 00:00:46.90; speed 16.67 x real time\n",
      "Using random seed: 8646705\n"
     ]
    },
    {
     "data": {
      "application/vnd.jupyter.widget-view+json": {
       "model_id": "bda241b0c48b4ce181a56da541d90a9b",
       "version_major": 2,
       "version_minor": 0
      },
      "text/plain": [
       "  0%|          | 0/2400 [00:00<?, ?it/s]"
      ]
     },
     "metadata": {},
     "output_type": "display_data"
    },
    {
     "name": "stdout",
     "output_type": "stream",
     "text": [
      "STOP\n",
      "Simulation stopped at: 00:00:46.90; speed 11.94 x real time\n",
      "Using random seed: 8646705\n"
     ]
    },
    {
     "data": {
      "application/vnd.jupyter.widget-view+json": {
       "model_id": "a6efcf8630d34d33a48d10b7b75ed750",
       "version_major": 2,
       "version_minor": 0
      },
      "text/plain": [
       "  0%|          | 0/2400 [00:00<?, ?it/s]"
      ]
     },
     "metadata": {},
     "output_type": "display_data"
    },
    {
     "name": "stdout",
     "output_type": "stream",
     "text": [
      "STOP\n",
      "Simulation stopped at: 00:00:46.90; speed 33.51 x real time\n"
     ]
    }
   ],
   "source": [
    "generate_data(robot, world, 20)"
   ]
  },
  {
   "cell_type": "code",
   "execution_count": 13,
   "id": "e9681442",
   "metadata": {},
   "outputs": [
    {
     "data": {
      "text/plain": [
       "[[10.57638297494919, 20.0, 0.0690139683385698, 0.5, 0],\n",
       " [10.708140830913536, 20.0, 0.06936323750787081, 0.5, 0],\n",
       " [10.971656542842158, 20.0, 0.07005774593047209, 0.5, 0],\n",
       " [11.366930110735149, 20.0, 0.07108886853569633, 0.5, 0],\n",
       " [11.893961534592451, 20.0, 0.07244225547999261, 0.5, 0],\n",
       " [12.552750814414065, 20.0, 0.07409614628388383, 0.5, 0],\n",
       " [13.211540094235664, 20.0, 0.07570363429643548, 0.5, 0],\n",
       " [13.870329374057292, 20.0, 0.07726010388758413, 0.5, 0],\n",
       " [14.529118653878921, 20.0, 0.07876101367919192, 0.5, 0],\n",
       " [15.187907933700535, 20.0, 0.080201918444728, 0.2, 0.4],\n",
       " [15.324375999364822, 20.0, 0.08017341564264387, 0.2, 0.4],\n",
       " [14.980556967036632, 20.0, 0.07866049317335519, 0.5, 0],\n",
       " [15.098457970136215, 20.0, 0.07811839002214024, 0.2, 0.4],\n",
       " [14.798637482486704, 20.0, 0.07624697718509688, 0.5, 0],\n",
       " [14.897472462413392, 20.0, 0.07522888364212336, 0.5, 0],\n",
       " [15.365845811656943, 20.0, 0.07509756058291811, 0.2, 0.4],\n",
       " [15.456820458853796, 20.0, 0.07384761826982465, 0.2, 0.4],\n",
       " [15.209706252873168, 20.0, 0.07154110601218516, 0.2, 0.4],\n",
       " [14.722403500500342, 20.0, 0.06837551500657818, 0.5, 0],\n",
       " [14.540582859095267, 20.0, 0.06579547161002539, 0.5, 0],\n",
       " [14.578880107877408, 20.0, 0.06370448596843457, 0.5, 0],\n",
       " [14.81058750919671, 20.0, 0.062094013956024846, 0.5, 0],\n",
       " [15.042294910516013, 20.0, 0.06045704342192569, 0.2, 0.4],\n",
       " [15.076140425466447, 20.0, 0.05829813801989887, 0.2, 0.4],\n",
       " [14.65409996476737, 20.0, 0.05570423863120445, 0.5, 0],\n",
       " [14.502039447226567, 20.0, 0.053404994886353155, 0.5, 0],\n",
       " [14.620203084238355, 20.0, 0.051387976215921685, 0.5, 0],\n",
       " [14.738366721250138, 20.0, 0.04939222626583966, 0.5, 0],\n",
       " [14.856530358261933, 20.0, 0.04742126548874055, 0.5, 0],\n",
       " [14.974693995273723, 20.0, 0.04547839483112149, 0.5, 0],\n",
       " [15.092857632285504, 20.0, 0.04356669012509078, 0.2, 0.4],\n",
       " [14.93326571275944, 20.0, 0.04149395694608573, 0.5, 0],\n",
       " [15.022848104569103, 20.0, 0.03959111981570866, 0.2, 0.4],\n",
       " [14.857544618192243, 20.0, 0.03759524329637934, 0.5, 0],\n",
       " [14.918690223269772, 20.0, 0, 0.5, 0],\n",
       " [14.979835828347307, 20.0, 0, 0.5, 0],\n",
       " [15.040981433424832, 20.0, 0, 0.2, 0.4],\n",
       " [14.86975745856683, 20.0, 0, 0.5, 0],\n",
       " [14.902564459283253, 20.0, 0, 0.5, 0],\n",
       " [14.935371459999674, 20.0, 0, 0.5, 0],\n",
       " [14.9681784607161, 20.0, 0, 0.5, 0],\n",
       " [15.00098546143252, 20.0, 0, 0.2, 0.4],\n",
       " [14.823911594279405, 20.0, 0, 0.5, 0],\n",
       " [14.828432529458484, 20.0, 0, 0.5, 0],\n",
       " [14.832953464637564, 20.0, 0, 0.5, 0],\n",
       " [14.837474399816644, 20.0, 0, 0.5, 0],\n",
       " [14.841995334995724, 20.0, 0, 0.5, 0],\n",
       " [14.846516270174805, 20.0, 0, 0.5, 0],\n",
       " [14.851037205353885, 20.0, 0, 0.5, 0],\n",
       " [14.855558140532963, 20.0, 0, 0.5, 0],\n",
       " [14.860079075712044, 20.0, 0, 0.5, 0],\n",
       " [14.864600010891124, 20.0, 0, 0.5, 0],\n",
       " [14.869120946070204, 20.0, 0, 0.5, 0],\n",
       " [14.873641881249284, 20.0, 0, 0.5, 0],\n",
       " [14.878162816428365, 20.0, 0, 0.5, 0],\n",
       " [14.882683751607445, 20.0, 0, 0.5, 0],\n",
       " [14.887204686786523, 20.0, 0, 0.5, 0],\n",
       " [14.891725621965604, 20.0, 0, 0.5, 0],\n",
       " [14.896246557144684, 20.0, 0, 0.5, 0],\n",
       " [14.900767492323764, 20.0, 0, 0.5, 0],\n",
       " [16.103212535220027, 20.0, 0, 0.2, 0.4],\n",
       " [16.09366392442892, 20.0, 0, 0.2, 0.4],\n",
       " [16.118599244717554, 20.0, 0, 0.2, 0.4],\n",
       " [14.031283870741598, 20.0, 0, 0.5, 0],\n",
       " [13.77792427058805, 20.0, 0, 0.5, 0],\n",
       " [13.538293474286844, 20.0, 0, 0.5, 0],\n",
       " [13.283006835588242, 20.0, 0, 0.5, 0],\n",
       " [15.768515867185853, 20.0, 0, 0.2, 0.4],\n",
       " [15.682994499583945, 20.0, 0, 0.2, 0.4],\n",
       " [14.448133778168174, 20.0, 0, 0.5, 0],\n",
       " [14.860828097656873, 20.0, 0, 0.5, 0],\n",
       " [15.286383344015814, 20.0, 0, 0.2, 0.4],\n",
       " [15.145817323923403, 20.0, 0, 0.2, 0.4],\n",
       " [15.430903823202348, 20.0, 0, 0.2, 0.4],\n",
       " [12.760606552695196, 20.0, 0, 0.5, 0],\n",
       " [11.717219955129407, 20.0, 0, 0.5, 0],\n",
       " [11.965096776413962, 20.0, 0, 0.5, 0],\n",
       " [13.373223648034985, 20.0, 0, 0.5, 0],\n",
       " [14.624861198455786, 20.0, 0, 0.5, 0],\n",
       " [13.535840465740657, 20.0, 0, 0.5, 0],\n",
       " [12.446819733025505, 20.0, 0, 0.5, 0],\n",
       " [12.993183024680212, 20.0, 0, 0.5, 0],\n",
       " [13.955842658000563, 20.0, 0, 0.5, 0],\n",
       " [14.918502291320952, 20.0, 0, 0.5, 0],\n",
       " [15.881161924641303, 20.0, 0, 0.2, 0.4],\n",
       " [16.076708684310173, 20.0, 0, 0.2, 0.4],\n",
       " [15.561708777436316, 20.0, 0, 0.2, 0.4],\n",
       " [14.490155927854255, 20.0, 0, 0.5, 0],\n",
       " [14.09699057614187, 20.0, 0, 0.5, 0],\n",
       " [14.254196170402627, 20.0, 0, 0.5, 0],\n",
       " [14.928869741078957, 20.0, 0, 0.5, 0],\n",
       " [15.603543311755287, 20.0, 0, 0.2, 0.4],\n",
       " [15.740232434209297, 20.0, 0, 0.2, 0.4],\n",
       " [15.382521063717354, 20.0, 0, 0.2, 0.4],\n",
       " [14.642331393185325, 20.0, 0, 0.5, 0],\n",
       " [14.364697556965254, 20.0, 0, 0.5, 0],\n",
       " [14.454811402093956, 20.0, 0, 0.5, 0],\n",
       " [14.88525086837182, 20.0, 0, 0.5, 0],\n",
       " [15.315690334649634, 20.0, 0, 0.2, 0.4],\n",
       " [15.397876921498021, 20.0, 0, 0.2, 0.4],\n",
       " [15.170775132278246, 20.0, 0, 0.2, 0.4],\n",
       " [14.731302933585507, 20.0, 0, 0.5, 0],\n",
       " [14.568329440730146, 20.0, 0, 0.5, 0],\n",
       " [14.559116820829479, 20.0, 0, 0.5, 0],\n",
       " [14.751306904308551, 20.0, 0, 0.5, 0],\n",
       " [14.943496987787656, 20.0, 0, 0.5, 0],\n",
       " [15.135687071266737, 20.0, 0, 0.2, 0.4],\n",
       " [14.991015916610195, 20.0, 0, 0.5, 0],\n",
       " [15.154038023406768, 20.0, 0, 0.2, 0.4],\n",
       " [15.003368860952703, 20.0, 0, 0.2, 0.4],\n",
       " [14.586259317456461, 20.0, 0, 0.5, 0],\n",
       " [14.419106870935545, 20.0, 0, 0.5, 0],\n",
       " [14.467648143863814, 20.0, 0, 0.5, 0],\n",
       " [14.516189416792084, 20.0, 0, 0.5, 0],\n",
       " [14.564730689720356, 20.0, 0, 0.5, 0],\n",
       " [14.613271962648627, 20.0, 0, 0.5, 0],\n",
       " [14.661813235576897, 20.0, 0, 0.5, 0],\n",
       " [14.710354508505166, 20.0, 0, 0.5, 0],\n",
       " [14.758895781433438, 20.0, 0, 0.5, 0],\n",
       " [14.80743705436171, 20.0, 0, 0.5, 0],\n",
       " [14.855978327289979, 20.0, 0, 0.5, 0],\n",
       " [14.904519600218253, 20.0, 0, 0.5, 0],\n",
       " [14.953060873146521, 20.0, 0, 0.5, 0],\n",
       " [15.001602146074793, 20.0, 0, 0.2, 0.4],\n",
       " [14.82780631881382, 20.0, 0, 0.5, 0],\n",
       " [14.848037946177358, 20.0, 0, 0.5, 0],\n",
       " [14.868269573540898, 20.0, 0, 0.5, 0],\n",
       " [14.888501200904436, 20.0, 0, 0.5, 0],\n",
       " [14.908732828267976, 19.656609286756563, 0, 0.1, -0.3],\n",
       " [15.137641426413701, 18.883508020532297, 0, 0.1, -0.3],\n",
       " [15.633206318456697, 18.400743398787128, 0, 0.1, -0.3],\n",
       " [16.4455969856858, 18.311248343280205, 0, 0.1, -0.3],\n",
       " [16.92980432770293, 18.095604736868484, 0, 0.1, -0.3],\n",
       " [17.48139797569864, 17.972735585206138, 0, 0.1, -0.3],\n",
       " [18.178523296202265, 18.019889039773037, 0, 0.1, -0.3],\n",
       " [19.02987973476884, 18.237358395662234, 0, 0.1, -0.3],\n",
       " [20.0, 17.140864919529907, 0, 0.1, -0.3],\n",
       " [18.795380164073137, 15.577154925183473, 0, 0.1, -0.3],\n",
       " [17.818894107377453, 14.265602301535493, 0, 0.1, -0.3],\n",
       " [17.092312665086084, 13.160987995933183, 0, 0.1, -0.3],\n",
       " [16.58292819165647, 12.230060344736104, 0, 0.1, -0.3],\n",
       " [16.268110868928602, 11.448234664249773, 0, 0.1, -0.3],\n",
       " [16.13309271564228, 10.797427355282487, 0, 0.1, -0.3],\n",
       " [16.16960080438623, 10.264627162599135, 0, 0.1, -0.3],\n",
       " [16.375100648869893, 9.840969750691755, 0, 0.1, -0.3],\n",
       " [16.752524060119256, 9.521178933163474, 0, 0.1, -0.3],\n",
       " [17.23755381156444, 9.264131127563493, 0, 0.1, -0.3],\n",
       " [17.42235156996352, 8.862477981968983, 0, 0.1, -0.3],\n",
       " [17.7730851374276, 8.573846963322286, 0, 0.1, -0.3],\n",
       " [18.2916208952519, 8.392770663351515, 0, 0.1, -0.3],\n",
       " [18.73386682155964, 8.317284031745354, 0, 0.1, -0.3],\n",
       " [15.492596914813346, 8.289571152462347, 0, 0.1, -0.3],\n",
       " [13.08977187281007, 8.167013555158443, 0, 0.1, -0.3],\n",
       " [11.267889893980128, 8.15260853130444, 0, 0.1, -0.3],\n",
       " [9.867585136093469, 8.244656540718564, 0, 0.1, -0.3],\n",
       " [8.785400479433818, 8.444900767152843, 0, 0.1, -0.3],\n",
       " [7.951716746472531, 8.758643622644765, 0, 0.1, -0.3],\n",
       " [7.31846038261013, 9.195154647855961, 0, 0.1, -0.3],\n",
       " [6.8519053157714085, 9.768431321334486, 0, 0.1, -0.3],\n",
       " [6.528291558553836, 10.498435357559995, 0, 0.1, -0.3],\n",
       " [6.331084995656647, 11.41302146546824, 0, 0.1, -0.3],\n",
       " [6.249242147056243, 12.55093505886634, 0, 0.1, -0.3],\n",
       " [6.276123780273062, 13.96654248534867, 0, 0.1, -0.3],\n",
       " [6.408855342831884, 15.737502980361011, 0, 0.1, -0.3],\n",
       " [6.648022876039427, 17.977688628902868, 0, 0.1, -0.3],\n",
       " [6.997651862528577, 20.0, 0, 0.5, -0.1],\n",
       " [7.2001793173858335, 20.0, 0, 0.5, -0.1],\n",
       " [7.218360081133033, 20.0, 0, 0.5, -0.1],\n",
       " [7.241925946469045, 20.0, 0, 0.5, -0.1],\n",
       " [7.282809851136785, 20.0, 0, 0.5, -0.1],\n",
       " [7.365864613644407, 20.0, 0, 0.5, -0.1],\n",
       " [7.490936630778208, 20.0, 0, 0.5, -0.1],\n",
       " [7.658062474100949, 20.0, 0, 0.5, -0.1],\n",
       " [7.867467959372442, 20.0, 0, 0.5, -0.1],\n",
       " [8.119569301289742, 20.0, 0, 0.5, -0.1],\n",
       " [8.414976364174036, 20.0, 0, 0.5, -0.1],\n",
       " [8.754498062282591, 20.0, 0, 0.5, -0.1],\n",
       " [9.139150007991562, 20.0, 0, 0.5, -0.1],\n",
       " [9.570164553678278, 20.0, 0, 0.5, -0.1],\n",
       " [10.013743061689075, 20.0, 0, 0.5, 0],\n",
       " [10.231982722905002, 20.0, 0, 0.5, 0],\n",
       " [10.441017351541856, 20.0, 0, 0.5, 0],\n",
       " [10.650051980178727, 20.0, 0, 0.5, 0],\n",
       " [10.859086608815595, 20.0, 0, 0.5, 0],\n",
       " [11.068121237452466, 20.0, 0, 0.5, 0],\n",
       " [11.277155866089322, 20.0, 0, 0.5, 0],\n",
       " [11.48619049472621, 20.0, 0, 0.5, 0],\n",
       " [11.695225123363079, 20.0, 0, 0.5, 0],\n",
       " [11.904259751999932, 20.0, 0, 0.5, 0],\n",
       " [12.113294380636823, 20.0, 0, 0.5, 0],\n",
       " [12.322329009273695, 20.0, 0, 0.5, 0],\n",
       " [12.531363637910546, 20.0, 0, 0.5, 0],\n",
       " [12.740398266547416, 20.0, 0, 0.5, 0],\n",
       " [12.94943289518429, 20.0, 0, 0.5, 0],\n",
       " [13.158467523821159, 20.0, 0, 0.5, 0],\n",
       " [13.367502152458012, 20.0, 0, 0.5, 0],\n",
       " [13.5765367810949, 20.0, 0, 0.5, 0],\n",
       " [13.78557140973177, 20.0, 0, 0.5, 0],\n",
       " [13.994606038368627, 20.0, 0, 0.5, 0],\n",
       " [14.203640667005514, 20.0, 0, 0.5, 0],\n",
       " [14.41267529564237, 20.0, 0, 0.5, 0],\n",
       " [14.621709924279253, 20.0, 0, 0.5, 0],\n",
       " [14.83074455291611, 20.0, 0, 0.5, 0],\n",
       " [15.039779181552962, 20.0, 0, 0.2, 0.4],\n",
       " [14.962204694035409, 20.0, 0, 0.5, 0],\n",
       " [15.142765626906245, 20.0, 0, 0.2, 0.4],\n",
       " [14.995701775003651, 20.0, 0, 0.5, 0],\n",
       " [15.147207159512122, 20.0, 0, 0.2, 0.4],\n",
       " [14.994229778239411, 20.0, 0, 0.5, 0],\n",
       " [15.116927549683288, 20.0, 0, 0.2, 0.4],\n",
       " [14.958190838671605, 20.0, 0, 0.5, 0],\n",
       " [15.052280237555694, 20.0, 0, 0.2, 0.4],\n",
       " [14.887844044885918, 20.0, 0, 0.5, 0],\n",
       " [14.953476922275652, 20.0, 0, 0.5, 0],\n",
       " [15.019109799665397, 20.0, 0, 0.2, 0.4],\n",
       " [14.848846398609847, 20.0, 0, 0.5, 0],\n",
       " [14.886128201932083, 20.0, 0, 0.5, 0],\n",
       " [14.923410005254302, 20.0, 0, 0.5, 0],\n",
       " [14.96069180857653, 20.0, 0, 0.5, 0],\n",
       " [14.997973611898766, 20.0, 0, 0.5, 0],\n",
       " [15.035255415220988, 20.0, 0, 0.2, 0.4],\n",
       " [14.859091876884037, 20.0, 0, 0.5, 0],\n",
       " [14.868082329862643, 20.0, 0, 0.5, 0],\n",
       " [14.877072782841248, 20.0, 0, 0.5, 0],\n",
       " [14.886063235819854, 20.0, 0, 0.5, 0],\n",
       " [14.89505368879846, 20.0, 0, 0.5, 0],\n",
       " [14.904044141777065, 20.0, 0, 0.5, 0],\n",
       " [14.913034594755672, 20.0, 0, 0.5, 0],\n",
       " [14.922025047734278, 20.0, 0, 0.5, 0],\n",
       " [14.931015500712883, 20.0, 0, 0.5, 0],\n",
       " [14.94000595369149, 20.0, 0, 0.5, 0],\n",
       " [14.948996406670092, 20.0, 0, 0.5, 0],\n",
       " [14.9579868596487, 20.0, 0, 0.5, 0],\n",
       " [14.966977312627304, 20.0, 0, 0.5, 0],\n",
       " [14.975967765605908, 20.0, 0, 0.5, 0],\n",
       " [14.984958218584515, 20.0, 0, 0.5, 0],\n",
       " [14.993948671563121, 20.0, 0, 0.5, 0],\n",
       " [15.002939124541728, 20.0, 0, 0.2, 0.4],\n",
       " [14.820897203462502, 20.0, 0, 0.5, 0],\n",
       " [14.801610689544187, 20.0, 0, 0.5, 0],\n",
       " [14.782324175625877, 20.0, 0, 0.5, 0],\n",
       " [14.763037661707566, 20.0, 0, 0.5, 0],\n",
       " [14.743751147789258, 20.0, 0, 0.5, 0],\n",
       " [14.724464633870946, 20.0, 0, 0.5, 0],\n",
       " [14.705178119952631, 20.0, 0, 0.5, 0],\n",
       " [14.685891606034321, 20.0, 0, 0.5, 0],\n",
       " [14.666605092116013, 20.0, 0, 0.5, 0],\n",
       " [14.6473185781977, 20.0, 0, 0.5, 0],\n",
       " [14.628032064279388, 20.0, 0, 0.5, 0],\n",
       " [14.608745550361077, 20.0, 0, 0.5, 0],\n",
       " [14.589459036442765, 20.0, 0, 0.5, 0],\n",
       " [14.570172522524455, 20.0, 0, 0.5, 0],\n",
       " [14.550886008606147, 20.0, 0, 0.5, 0],\n",
       " [14.531599494687832, 20.0, 0, 0.5, 0],\n",
       " [14.512312980769522, 20.0, 0, 0.5, 0],\n",
       " [14.49302646685121, 20.0, 0, 0.5, 0],\n",
       " [14.473739952932899, 20.0, 0, 0.5, 0],\n",
       " [14.45445343901459, 20.0, 0, 0.5, 0],\n",
       " [14.435166925096278, 20.0, 0, 0.5, 0],\n",
       " [14.415880411177968, 20.0, 0, 0.5, 0],\n",
       " [14.396593897259656, 20.0, 0, 0.5, 0],\n",
       " [14.377307383341345, 20.0, 0, 0.5, 0],\n",
       " [14.358020869423033, 20.0, 0, 0.5, 0],\n",
       " [14.338734355504723, 20.0, 0, 0.5, 0],\n",
       " [14.319447841586411, 20.0, 0, 0.5, 0],\n",
       " [14.3001613276681, 19.557759767293188, 0, 0.1, -0.3],\n",
       " [14.474044426571826, 18.75374936509477, 0, 0.1, -0.3],\n",
       " [14.896386027383778, 18.210227176184613, 0, 0.1, -0.3],\n",
       " [15.615254393124777, 18.03341307384569, 0, 0.1, -0.3],\n",
       " [16.28200663354366, 18.01699517983659, 0, 0.1, -0.3],\n",
       " [16.767854118577148, 17.8106435271979, 0, 0.1, -0.3],\n",
       " [17.393902846242735, 17.774882559579392, 0, 0.1, -0.3],\n",
       " [18.16658124091943, 17.907323844230106, 0, 0.1, -0.3],\n",
       " [19.097043801453502, 18.211017288765138, 0, 0.1, -0.3],\n",
       " [19.147773036062617, 16.809964706747472, 0, 0.1, -0.3],\n",
       " [18.04219134309793, 15.358613920864608, 0, 0.1, -0.3],\n",
       " [17.20518434935654, 14.13941224453539, 0, 0.1, -0.3],\n",
       " [16.598215364015246, 13.113003565409455, 0, 0.1, -0.3],\n",
       " [16.194257206820936, 12.250353957815372, 0, 0.1, -0.3],\n",
       " [15.97504004381348, 11.53003983916386, 0, 0.1, -0.3],\n",
       " [15.92931922968949, 10.936460966949653, 0, 0.1, -0.3],\n",
       " [16.051848146168048, 10.458669160023003, 0, 0.1, -0.3],\n",
       " [16.342881897779698, 10.089630766097013, 0, 0.1, -0.3],\n",
       " [16.808129688453697, 9.82581920773833, 0, 0.1, -0.3],\n",
       " [17.10754172880266, 9.472405913766156, 0, 0.1, -0.3],\n",
       " [17.3781232313102, 9.125275359057877, 0, 0.1, -0.3],\n",
       " [17.81361779135853, 8.890681244044869, 0, 0.1, -0.3],\n",
       " [18.41861394880034, 8.764928688220603, 0, 0.1, -0.3],\n",
       " [17.751538219765262, 8.747835681893187, 0, 0.1, -0.3],\n",
       " [14.890042857877635, 8.639500345355074, 0, 0.1, -0.3],\n",
       " [12.740924389998836, 8.568771491002579, 0, 0.1, -0.3],\n",
       " [11.09760870847137, 8.607630254209454, 0, 0.1, -0.3],\n",
       " [9.828895895081116, 8.756102300468934, 0, 0.1, -0.3],\n",
       " [8.84792776586382, 9.01776828537901, 0, 0.1, -0.3],\n",
       " [8.09540654021486, 9.400028658866777, 0, 0.1, -0.3],\n",
       " [7.529993648161519, 9.914692518259606, 0, 0.1, -0.3],\n",
       " [7.122568012473385, 10.578982194591037, 0, 0.1, -0.3],\n",
       " [6.85267696016037, 11.417122175921493, 0, 0.1, -0.3],\n",
       " [6.706297123149932, 12.46280594517423, 0, 0.1, -0.3],\n",
       " [6.674418439221707, 13.763052744286435, 0, 0.1, -0.3],\n",
       " [6.752175882589759, 15.384370497209018, 0, 0.1, -0.3],\n",
       " [6.938373676622862, 17.42293110887878, 0, 0.1, -0.3],\n",
       " [7.235320553471588, 20.0, 0, 0.5, -0.1],\n",
       " [7.426010199034032, 20.0, 0, 0.5, -0.1],\n",
       " [7.484675361049925, 20.0, 0, 0.5, -0.1],\n",
       " [7.458402100383455, 20.0, 0, 0.5, -0.1],\n",
       " [7.44225684878895, 20.0, 0, 0.5, -0.1],\n",
       " [7.468971184203901, 20.0, 0, 0.5, -0.1],\n",
       " [7.538132657476472, 20.0, 0, 0.5, -0.1],\n",
       " [7.649524340198121, 20.0, 0, 0.5, -0.1],\n",
       " [7.803121063366079, 20.0, 0, 0.5, -0.1],\n",
       " [7.999087802729903, 20.0, 0, 0.5, -0.1],\n",
       " [8.237780164283526, 20.0, 0, 0.5, -0.1],\n",
       " [8.519746966782508, 20.0, 0, 0.5, -0.1],\n",
       " [8.84573496122079, 20.0, 0, 0.5, -0.1],\n",
       " [9.216695771319179, 20.0, 0, 0.5, -0.1],\n",
       " [9.633795185728967, 20.0, 0, 0.5, -0.1],\n",
       " [10.09842498341725, 20.0, 0, 0.5, 0],\n",
       " [10.310015605472014, 20.0, 0, 0.5, 0],\n",
       " [10.509934313808504, 20.0, 0, 0.5, 0],\n",
       " [10.709853022145069, 20.0, 0, 0.5, 0],\n",
       " [10.909771730481559, 20.0, 0, 0.5, 0],\n",
       " [11.109690438818086, 20.0, 0, 0.5, 0],\n",
       " [11.309609147154651, 20.0, 0, 0.5, 0],\n",
       " [16.7831188767456, 20.0, 0, 0.2, 0.4],\n",
       " [17.633544858868188, 20.0, 0, 0.2, 0.4],\n",
       " [15.254930698341559, 20.0, 0, 0.2, 0.4],\n",
       " [11.61554965454919, 20.0, 0, 0.5, 0],\n",
       " [10.98449099515086, 20.0, 0, 0.5, 0],\n",
       " [11.564691133499327, 20.0, 0, 0.5, 0],\n",
       " [13.861071667087163, 20.0, 0, 0.5, 0],\n",
       " [16.157452200674253, 20.0, 0, 0.2, 0.4],\n",
       " [16.607982249657287, 20.0, 0, 0.2, 0.4],\n",
       " [15.424899237805821, 20.0, 0, 0.2, 0.4],\n",
       " [13.18589455159476, 20.0, 0, 0.5, 0],\n",
       " [12.494907518378463, 20.0, 0, 0.5, 0],\n",
       " [12.922965285920045, 20.0, 0, 0.5, 0],\n",
       " [14.393126612120104, 20.0, 0, 0.5, 0],\n",
       " [15.863287938320163, 20.0, 0, 0.2, 0.4],\n",
       " [16.1647235031775, 20.0, 0, 0.2, 0.4],\n",
       " [15.393832964371848, 20.0, 0, 0.2, 0.4],\n",
       " [13.826737714740888, 20.0, 0, 0.5, 0],\n",
       " [13.28933343688436, 20.0, 0, 0.5, 0],\n",
       " [13.5601233435465, 20.0, 0, 0.5, 0],\n",
       " [14.591398897673818, 20.0, 0, 0.5, 0],\n",
       " [15.62267445180138, 20.0, 0, 0.2, 0.4],\n",
       " [15.837579341214065, 20.0, 0, 0.2, 0.4],\n",
       " [15.295627754810065, 20.0, 0, 0.2, 0.4],\n",
       " [14.162031962753579, 20.0, 0, 0.5, 0],\n",
       " [13.751298523960909, 20.0, 0, 0.5, 0],\n",
       " [13.926813954607955, 20.0, 0, 0.5, 0],\n",
       " [14.654738875806292, 20.0, 0, 0.5, 0],\n",
       " [15.382663797004628, 20.0, 0, 0.2, 0.4],\n",
       " [15.53341777090667, 20.0, 0, 0.2, 0.4],\n",
       " [15.151565339203918, 20.0, 0, 0.2, 0.4],\n",
       " [14.353477878915273, 20.0, 0, 0.5, 0],\n",
       " [14.055321011707473, 20.0, 0, 0.5, 0],\n",
       " [14.159127129722402, 20.0, 0, 0.5, 0],\n",
       " [14.637447961245474, 20.0, 0, 0.5, 0],\n",
       " [15.115768792768549, 20.0, 0, 0.2, 0.4],\n",
       " [15.20968881263404, 20.0, 0, 0.2, 0.4],\n",
       " [14.957996398626182, 20.0, 0, 0.5, 0],\n",
       " [15.032979218225513, 20.0, 0, 0.2, 0.4],\n",
       " [14.82135279603794, 20.0, 0, 0.5, 0],\n",
       " [14.876655442828225, 20.0, 0, 0.5, 0],\n",
       " [15.171519221118176, 20.0, 0, 0.2, 0.4],\n",
       " [15.22128396593686, 20.0, 0, 0.2, 0.4],\n",
       " [15.064893402734011, 20.0, 0, 0.2, 0.4],\n",
       " [14.404309995468115, 20.0, 0, 0.5, 0],\n",
       " [13.993519749338422, 20.0, 0, 0.5, 0],\n",
       " [13.826218880475478, 20.0, 0, 0.5, 0],\n",
       " [13.869705779402135, 20.0, 0, 0.5, 0],\n",
       " [13.913192678328791, 20.0, 0, 0.5, 0],\n",
       " [13.956679577255446, 20.0, 0, 0.5, 0],\n",
       " [14.000166476182114, 20.0, 0, 0.5, 0],\n",
       " [14.04365337510877, 20.0, 0, 0.5, 0],\n",
       " [14.087140274035425, 20.0, 0, 0.5, 0],\n",
       " [14.130627172962093, 20.0, 0, 0.5, 0],\n",
       " [14.174114071888747, 20.0, 0, 0.5, 0],\n",
       " [14.217600970815413, 20.0, 0, 0.5, 0],\n",
       " [14.261087869742067, 20.0, 0, 0.5, 0],\n",
       " [14.304574768668733, 20.0, 0, 0.5, 0],\n",
       " [14.348061667595386, 20.0, 0, 0.5, 0],\n",
       " [14.391548566522053, 20.0, 0, 0.5, 0],\n",
       " [14.435035465448706, 20.0, 0, 0.5, 0],\n",
       " [14.47852236437537, 20.0, 0, 0.5, 0],\n",
       " [14.52200926330202, 20.0, 0, 0.5, 0],\n",
       " [14.565496162228685, 20.0, 0, 0.5, 0],\n",
       " [14.60898306115535, 20.0, 0, 0.5, 0],\n",
       " [14.652469960082, 20.0, 0, 0.5, 0],\n",
       " [14.695956859008664, 20.0, 0, 0.5, 0],\n",
       " [14.739443757935327, 20.0, 0, 0.5, 0],\n",
       " [14.782930656861987, 20.0, 0, 0.5, 0],\n",
       " [14.826417555788638, 20.0, 0, 0.5, 0],\n",
       " [14.869904454715302, 20.0, 0.0896090759169904, 0.5, 0],\n",
       " [14.91339135364196, 20.0, 0.09359419352804436, 0.5, 0],\n",
       " [14.95687825256862, 20.0, 0.09764798024818763, 0.5, 0],\n",
       " [15.000365151495284, 20.0, 0.10176421190787106, 0.2, 0.4],\n",
       " [14.825517546979757, 20.0, 0.10627196649020806, 0.5, 0],\n",
       " [14.84070389753502, 20.0, 0.11071120777818945, 0.5, 0],\n",
       " [14.855890248090283, 20.0, 0.11520780727070573, 0.5, 0],\n",
       " [14.871076598645548, 20.0, 0.1197539048985401, 0.5, 0],\n",
       " [14.886262949200814, 20.0, 0.12434115781795142, 0.5, 0],\n",
       " [14.901449299756077, 20.0, 0.12896075914199692, 0.5, 0],\n",
       " [14.916635650311342, 20.0, 0.13360346002495851, 0.5, 0],\n",
       " [14.931822000866605, 20.0, 0.1382595950783886, 0.5, 0],\n",
       " [14.947008351421871, 20.0, 0.14291911107012936, 0.5, 0],\n",
       " [14.962194701977136, 20.0, 0.1475715988299107, 0.5, 0],\n",
       " [14.977381052532403, 20.0, 0.15220632825708813, 0.5, 0],\n",
       " [14.992567403087666, 20.0, 0.15681228629800142, 0.5, 0],\n",
       " [15.00775375364293, 20.0, 0.16137821773259642, 0.2, 0.4],\n",
       " [14.827004509421238, 20.0, 0.1667999832174046, 0.5, 0],\n",
       " [16.12187867245012, 20.0, 0.1715881685582193, 0.2, 0.4],\n",
       " [16.108424691218776, 20.0, 0.1772621580627405, 0.2, 0.4],\n",
       " [14.30966930742652, 20.0, 0.18395154665255956, 0.5, 0],\n",
       " [16.111570117346115, 20.0, 0.19038854024660326, 0.2, 0.4],\n",
       " [13.829043729645306, 20.0, 0.19768883566027212, 0.5, 0],\n",
       " [13.599697478921442, 20.0, 0.2049337764321791, 0.5, 0],\n",
       " [15.898976643686572, 20.0, 0.21193024277619146, 0.2, 0.4],\n",
       " [15.828709869718654, 20.0, 0.21954125995558266, 0.2, 0.4],\n",
       " [15.686857662576598, 20.0, 0.22785135636769208, 0.2, 0.4],\n",
       " [12.816778113763107, 20.0, 0.23657063573324943, 0.5, 0],\n",
       " [12.659731066831455, 20.0, 0.24571761597455324, 0.5, 0],\n",
       " [12.344581362060959, 20.0, 0.2555310583123286, 0.5, 0],\n",
       " [12.866446602296904, 20.0, 0.2659284225332574, 0.5, 0],\n",
       " [14.857325572527465, 20.0, 0.2764415196384033, 0.5, 0],\n",
       " [14.812469518869303, 20.0, 0.28705111395323607, 0.5, 0],\n",
       " [14.12596228981594, 20.0, 0.29773689299797634, 0.5, 0],\n",
       " [13.43945506076277, 20.0, 0.30847751809824886, 0.5, 0],\n",
       " [13.537452868337088, 20.0, 0.31925068271025125, 0.5, 0],\n",
       " [14.71845359002552, 20.0, 0.33003317835190693, 0.5, 0],\n",
       " [15.89945431171387, 20.0, 0.34080096796735304, 0.2, 0.4],\n",
       " [16.140274846997688, 20.0, 0.35187066345950574, 0.2, 0.4],\n",
       " [15.511984813400215, 20.0, 0.36329405699303374, 0.2, 0.4],\n",
       " [14.214368216396116, 20.0, 0.3746091605184708, 0.5, 0],\n",
       " [13.750876823002187, 20.0, 0.3867720145978504, 0.5, 0],\n",
       " [13.957658581007118, 20.0, 0.4001447122550106, 0.5, 0],\n",
       " [14.795949919443883, 20.0, 0.4146672375272058, 0.5, 0],\n",
       " [15.634241257880534, 20.0, 0.4292396334798795, 0.2, 0.4],\n",
       " [15.806785063453795, 20.0, 0.4431510401406433, 0.2, 0.4],\n",
       " [15.363086548976037, 20.0, 0.4563203141366925, 0.2, 0.4],\n",
       " [14.435194430194947, 20.0, 0.4681015909939148, 0.5, 0],\n",
       " [14.09130515827171, 20.0, 0.48155164448153465, 0.5, 0],\n",
       " [14.220961606614829, 20.0, 0.4971848862011933, 0.5, 0],\n",
       " [14.794467647683794, 20.0, 0.5150867210786875, 0.5, 0],\n",
       " [15.36797368875279, 20.0, 0.5330405400491796, 0.2, 0.4],\n",
       " [15.483333411688818, 20.0, 0.5490607713705982, 0.2, 0.4],\n",
       " [15.181206969728514, 20.0, 0.5629287460052125, 0.2, 0.4],\n",
       " [14.56424597523186, 20.0, 0.5738750077914848, 0.5, 0],\n",
       " [14.332218904573834, 20.0, 0.5873276537009609, 0.5, 0],\n",
       " [14.397248724419496, 20.0, 0.6038941487854361, 0.5, 0],\n",
       " [14.73296953445217, 20.0, 0.6237832579146867, 0.5, 0],\n",
       " [15.068690344484851, 20.0, 0.6436118883298921, 0.2, 0.4],\n",
       " [15.128111085436132, 20.0, 0.660077346370352, 0.2, 0.4],\n",
       " [14.949639952303789, 20.0, 0.672878125906435, 0.5, 0],\n",
       " [14.989218471939703, 20.0, 0.6890211482825108, 0.5, 0],\n",
       " [15.219121078472083, 20.0, 0.7087028323236433, 0.2, 0.4],\n",
       " [15.25342415230422, 20.0, 0.7244425505665679, 0.2, 0.4],\n",
       " [14.819754362321838, 20.0, 0.7359608851623759, 0.5, 0],\n",
       " [14.666661980548781, 20.0, 0.7509741542214846, 0.5, 0],\n",
       " [14.782897398658111, 20.0, 0.7696662443407897, 0.5, 0],\n",
       " [14.899132816767452, 20.0, 0.7879476052243211, 0.5, 0],\n",
       " [15.015368234876773, 20.0, 0.8057673962095734, 0.2, 0.4],\n",
       " [14.855604249877354, 20.0, 0.8192659542039189, 0.5, 0],\n",
       " [14.943269610002147, 20.0, 0.8360614412414666, 0.5, 0],\n",
       " [15.030934970126934, 20.0, 0.852253771817821, 0.2, 0.4],\n",
       " [14.865217505981727, 20.0, 0.8642024138868953, 0.5, 0],\n",
       " [14.924454127540413, 20.0, 0.8790990845848313, 0.5, 0],\n",
       " [14.98369074909911, 20.0, 0.8932594742006529, 0.5, 0],\n",
       " [10.57638297494919, 20.0, 0.0690139683385698, 0.5, 0],\n",
       " [10.708140830913536, 20.0, 0.06936323750787081, 0.5, 0],\n",
       " [10.971656542842158, 20.0, 0.07005774593047209, 0.5, 0],\n",
       " [11.366930110735149, 20.0, 0.07108886853569633, 0.5, 0],\n",
       " [11.893961534592451, 20.0, 0.07244225547999261, 0.5, 0],\n",
       " [12.552750814414065, 20.0, 0.07409614628388383, 0.5, 0],\n",
       " [13.211540094235664, 20.0, 0.07570363429643548, 0.5, 0],\n",
       " [13.870329374057292, 20.0, 0.07726010388758413, 0.5, 0],\n",
       " [14.529118653878921, 20.0, 0.07876101367919192, 0.5, 0],\n",
       " [15.187907933700535, 20.0, 0.080201918444728, 0.2, 0.4],\n",
       " [15.324375999364822, 20.0, 0.08017341564264387, 0.2, 0.4],\n",
       " [14.980556967036632, 20.0, 0.07866049317335519, 0.5, 0],\n",
       " [15.098457970136215, 20.0, 0.07811839002214024, 0.2, 0.4],\n",
       " [14.798637482486704, 20.0, 0.07624697718509688, 0.5, 0],\n",
       " [14.897472462413392, 20.0, 0.07522888364212336, 0.5, 0],\n",
       " [15.365845811656943, 20.0, 0.07509756058291811, 0.2, 0.4],\n",
       " [15.456820458853796, 20.0, 0.07384761826982465, 0.2, 0.4],\n",
       " [15.209706252873168, 20.0, 0.07154110601218516, 0.2, 0.4],\n",
       " [14.722403500500342, 20.0, 0.06837551500657818, 0.5, 0],\n",
       " [14.540582859095267, 20.0, 0.06579547161002539, 0.5, 0],\n",
       " [14.578880107877408, 20.0, 0.06370448596843457, 0.5, 0],\n",
       " [14.81058750919671, 20.0, 0.062094013956024846, 0.5, 0],\n",
       " [15.042294910516013, 20.0, 0.06045704342192569, 0.2, 0.4],\n",
       " [15.076140425466447, 20.0, 0.05829813801989887, 0.2, 0.4],\n",
       " [14.65409996476737, 20.0, 0.05570423863120445, 0.5, 0],\n",
       " [14.502039447226567, 20.0, 0.053404994886353155, 0.5, 0],\n",
       " [14.620203084238355, 20.0, 0.051387976215921685, 0.5, 0],\n",
       " [14.738366721250138, 20.0, 0.04939222626583966, 0.5, 0],\n",
       " [14.856530358261933, 20.0, 0.04742126548874055, 0.5, 0],\n",
       " [14.974693995273723, 20.0, 0.04547839483112149, 0.5, 0],\n",
       " [15.092857632285504, 20.0, 0.04356669012509078, 0.2, 0.4],\n",
       " [14.93326571275944, 20.0, 0.04149395694608573, 0.5, 0],\n",
       " [15.022848104569103, 20.0, 0.03959111981570866, 0.2, 0.4],\n",
       " [14.857544618192243, 20.0, 0.03759524329637934, 0.5, 0],\n",
       " [14.918690223269772, 20.0, 0, 0.5, 0],\n",
       " [14.979835828347307, 20.0, 0, 0.5, 0],\n",
       " [15.040981433424832, 20.0, 0, 0.2, 0.4],\n",
       " [14.86975745856683, 20.0, 0, 0.5, 0],\n",
       " [14.902564459283253, 20.0, 0, 0.5, 0],\n",
       " [14.935371459999674, 20.0, 0, 0.5, 0],\n",
       " [14.9681784607161, 20.0, 0, 0.5, 0],\n",
       " [15.00098546143252, 20.0, 0, 0.2, 0.4],\n",
       " [14.823911594279405, 20.0, 0, 0.5, 0],\n",
       " [14.828432529458484, 20.0, 0, 0.5, 0],\n",
       " [14.832953464637564, 20.0, 0, 0.5, 0],\n",
       " [14.837474399816644, 20.0, 0, 0.5, 0],\n",
       " [14.841995334995724, 20.0, 0, 0.5, 0],\n",
       " [14.846516270174805, 20.0, 0, 0.5, 0],\n",
       " [14.851037205353885, 20.0, 0, 0.5, 0],\n",
       " [14.855558140532963, 20.0, 0, 0.5, 0],\n",
       " [14.860079075712044, 20.0, 0, 0.5, 0],\n",
       " [14.864600010891124, 20.0, 0, 0.5, 0],\n",
       " [14.869120946070204, 20.0, 0, 0.5, 0],\n",
       " [14.873641881249284, 20.0, 0, 0.5, 0],\n",
       " [14.878162816428365, 20.0, 0, 0.5, 0],\n",
       " [14.882683751607445, 20.0, 0, 0.5, 0],\n",
       " [14.887204686786523, 20.0, 0, 0.5, 0],\n",
       " [14.891725621965604, 20.0, 0, 0.5, 0],\n",
       " [14.896246557144684, 20.0, 0, 0.5, 0],\n",
       " [14.900767492323764, 20.0, 0, 0.5, 0],\n",
       " [16.103212535220027, 20.0, 0, 0.2, 0.4],\n",
       " [16.09366392442892, 20.0, 0, 0.2, 0.4],\n",
       " [16.118599244717554, 20.0, 0, 0.2, 0.4],\n",
       " [14.031283870741598, 20.0, 0, 0.5, 0],\n",
       " [13.77792427058805, 20.0, 0, 0.5, 0],\n",
       " [13.538293474286844, 20.0, 0, 0.5, 0],\n",
       " [13.283006835588242, 20.0, 0, 0.5, 0],\n",
       " [15.768515867185853, 20.0, 0, 0.2, 0.4],\n",
       " [15.682994499583945, 20.0, 0, 0.2, 0.4],\n",
       " [14.448133778168174, 20.0, 0, 0.5, 0],\n",
       " [14.860828097656873, 20.0, 0, 0.5, 0],\n",
       " [15.286383344015814, 20.0, 0, 0.2, 0.4],\n",
       " [15.145817323923403, 20.0, 0, 0.2, 0.4],\n",
       " [15.430903823202348, 20.0, 0, 0.2, 0.4],\n",
       " [12.760606552695196, 20.0, 0, 0.5, 0],\n",
       " [11.717219955129407, 20.0, 0, 0.5, 0],\n",
       " [11.965096776413962, 20.0, 0, 0.5, 0],\n",
       " [13.373223648034985, 20.0, 0, 0.5, 0],\n",
       " [14.624861198455786, 20.0, 0, 0.5, 0],\n",
       " [13.535840465740657, 20.0, 0, 0.5, 0],\n",
       " [12.446819733025505, 20.0, 0, 0.5, 0],\n",
       " [12.993183024680212, 20.0, 0, 0.5, 0],\n",
       " [13.955842658000563, 20.0, 0, 0.5, 0],\n",
       " [14.918502291320952, 20.0, 0, 0.5, 0],\n",
       " [15.881161924641303, 20.0, 0, 0.2, 0.4],\n",
       " [16.076708684310173, 20.0, 0, 0.2, 0.4],\n",
       " [15.561708777436316, 20.0, 0, 0.2, 0.4],\n",
       " [14.490155927854255, 20.0, 0, 0.5, 0],\n",
       " [14.09699057614187, 20.0, 0, 0.5, 0],\n",
       " [14.254196170402627, 20.0, 0, 0.5, 0],\n",
       " [14.928869741078957, 20.0, 0, 0.5, 0],\n",
       " [15.603543311755287, 20.0, 0, 0.2, 0.4],\n",
       " [15.740232434209297, 20.0, 0, 0.2, 0.4],\n",
       " [15.382521063717354, 20.0, 0, 0.2, 0.4],\n",
       " [14.642331393185325, 20.0, 0, 0.5, 0],\n",
       " [14.364697556965254, 20.0, 0, 0.5, 0],\n",
       " [14.454811402093956, 20.0, 0, 0.5, 0],\n",
       " [14.88525086837182, 20.0, 0, 0.5, 0],\n",
       " [15.315690334649634, 20.0, 0, 0.2, 0.4],\n",
       " [15.397876921498021, 20.0, 0, 0.2, 0.4],\n",
       " [15.170775132278246, 20.0, 0, 0.2, 0.4],\n",
       " [14.731302933585507, 20.0, 0, 0.5, 0],\n",
       " [14.568329440730146, 20.0, 0, 0.5, 0],\n",
       " [14.559116820829479, 20.0, 0, 0.5, 0],\n",
       " [14.751306904308551, 20.0, 0, 0.5, 0],\n",
       " [14.943496987787656, 20.0, 0, 0.5, 0],\n",
       " [15.135687071266737, 20.0, 0, 0.2, 0.4],\n",
       " [14.991015916610195, 20.0, 0, 0.5, 0],\n",
       " [15.154038023406768, 20.0, 0, 0.2, 0.4],\n",
       " [15.003368860952703, 20.0, 0, 0.2, 0.4],\n",
       " [14.586259317456461, 20.0, 0, 0.5, 0],\n",
       " [14.419106870935545, 20.0, 0, 0.5, 0],\n",
       " [14.467648143863814, 20.0, 0, 0.5, 0],\n",
       " [14.516189416792084, 20.0, 0, 0.5, 0],\n",
       " [14.564730689720356, 20.0, 0, 0.5, 0],\n",
       " [14.613271962648627, 20.0, 0, 0.5, 0],\n",
       " [14.661813235576897, 20.0, 0, 0.5, 0],\n",
       " [14.710354508505166, 20.0, 0, 0.5, 0],\n",
       " [14.758895781433438, 20.0, 0, 0.5, 0],\n",
       " [14.80743705436171, 20.0, 0, 0.5, 0],\n",
       " [14.855978327289979, 20.0, 0, 0.5, 0],\n",
       " [14.904519600218253, 20.0, 0, 0.5, 0],\n",
       " [14.953060873146521, 20.0, 0, 0.5, 0],\n",
       " [15.001602146074793, 20.0, 0, 0.2, 0.4],\n",
       " [14.82780631881382, 20.0, 0, 0.5, 0],\n",
       " [14.848037946177358, 20.0, 0, 0.5, 0],\n",
       " [14.868269573540898, 20.0, 0, 0.5, 0],\n",
       " [14.888501200904436, 20.0, 0, 0.5, 0],\n",
       " [14.908732828267976, 19.656609286756563, 0, 0.1, -0.3],\n",
       " [15.137641426413701, 18.883508020532297, 0, 0.1, -0.3],\n",
       " [15.633206318456697, 18.400743398787128, 0, 0.1, -0.3],\n",
       " [16.4455969856858, 18.311248343280205, 0, 0.1, -0.3],\n",
       " [16.92980432770293, 18.095604736868484, 0, 0.1, -0.3],\n",
       " [17.48139797569864, 17.972735585206138, 0, 0.1, -0.3],\n",
       " [18.178523296202265, 18.019889039773037, 0, 0.1, -0.3],\n",
       " [19.02987973476884, 18.237358395662234, 0, 0.1, -0.3],\n",
       " [20.0, 17.140864919529907, 0, 0.1, -0.3],\n",
       " [18.795380164073137, 15.577154925183473, 0, 0.1, -0.3],\n",
       " [17.818894107377453, 14.265602301535493, 0, 0.1, -0.3],\n",
       " [17.092312665086084, 13.160987995933183, 0, 0.1, -0.3],\n",
       " [16.58292819165647, 12.230060344736104, 0, 0.1, -0.3],\n",
       " [16.268110868928602, 11.448234664249773, 0, 0.1, -0.3],\n",
       " [16.13309271564228, 10.797427355282487, 0, 0.1, -0.3],\n",
       " [16.16960080438623, 10.264627162599135, 0, 0.1, -0.3],\n",
       " [16.375100648869893, 9.840969750691755, 0, 0.1, -0.3],\n",
       " [16.752524060119256, 9.521178933163474, 0, 0.1, -0.3],\n",
       " [17.23755381156444, 9.264131127563493, 0, 0.1, -0.3],\n",
       " [17.42235156996352, 8.862477981968983, 0, 0.1, -0.3],\n",
       " [17.7730851374276, 8.573846963322286, 0, 0.1, -0.3],\n",
       " [18.2916208952519, 8.392770663351515, 0, 0.1, -0.3],\n",
       " [18.73386682155964, 8.317284031745354, 0, 0.1, -0.3],\n",
       " [15.492596914813346, 8.289571152462347, 0, 0.1, -0.3],\n",
       " [13.08977187281007, 8.167013555158443, 0, 0.1, -0.3],\n",
       " [11.267889893980128, 8.15260853130444, 0, 0.1, -0.3],\n",
       " [9.867585136093469, 8.244656540718564, 0, 0.1, -0.3],\n",
       " [8.785400479433818, 8.444900767152843, 0, 0.1, -0.3],\n",
       " [7.951716746472531, 8.758643622644765, 0, 0.1, -0.3],\n",
       " [7.31846038261013, 9.195154647855961, 0, 0.1, -0.3],\n",
       " [6.8519053157714085, 9.768431321334486, 0, 0.1, -0.3],\n",
       " [6.528291558553836, 10.498435357559995, 0, 0.1, -0.3],\n",
       " [6.331084995656647, 11.41302146546824, 0, 0.1, -0.3],\n",
       " [6.249242147056243, 12.55093505886634, 0, 0.1, -0.3],\n",
       " [6.276123780273062, 13.96654248534867, 0, 0.1, -0.3],\n",
       " [6.408855342831884, 15.737502980361011, 0, 0.1, -0.3],\n",
       " [6.648022876039427, 17.977688628902868, 0, 0.1, -0.3],\n",
       " [6.997651862528577, 20.0, 0, 0.5, -0.1],\n",
       " [7.2001793173858335, 20.0, 0, 0.5, -0.1],\n",
       " [7.218360081133033, 20.0, 0, 0.5, -0.1],\n",
       " [7.241925946469045, 20.0, 0, 0.5, -0.1],\n",
       " [7.282809851136785, 20.0, 0, 0.5, -0.1],\n",
       " [7.365864613644407, 20.0, 0, 0.5, -0.1],\n",
       " [7.490936630778208, 20.0, 0, 0.5, -0.1],\n",
       " [7.658062474100949, 20.0, 0, 0.5, -0.1],\n",
       " [7.867467959372442, 20.0, 0, 0.5, -0.1],\n",
       " [8.119569301289742, 20.0, 0, 0.5, -0.1],\n",
       " [8.414976364174036, 20.0, 0, 0.5, -0.1],\n",
       " [8.754498062282591, 20.0, 0, 0.5, -0.1],\n",
       " [9.139150007991562, 20.0, 0, 0.5, -0.1],\n",
       " [9.570164553678278, 20.0, 0, 0.5, -0.1],\n",
       " [10.013743061689075, 20.0, 0, 0.5, 0],\n",
       " [10.231982722905002, 20.0, 0, 0.5, 0],\n",
       " [10.441017351541856, 20.0, 0, 0.5, 0],\n",
       " [10.650051980178727, 20.0, 0, 0.5, 0],\n",
       " [10.859086608815595, 20.0, 0, 0.5, 0],\n",
       " [11.068121237452466, 20.0, 0, 0.5, 0],\n",
       " [11.277155866089322, 20.0, 0, 0.5, 0],\n",
       " [11.48619049472621, 20.0, 0, 0.5, 0],\n",
       " [11.695225123363079, 20.0, 0, 0.5, 0],\n",
       " [11.904259751999932, 20.0, 0, 0.5, 0],\n",
       " [12.113294380636823, 20.0, 0, 0.5, 0],\n",
       " [12.322329009273695, 20.0, 0, 0.5, 0],\n",
       " [12.531363637910546, 20.0, 0, 0.5, 0],\n",
       " [12.740398266547416, 20.0, 0, 0.5, 0],\n",
       " [12.94943289518429, 20.0, 0, 0.5, 0],\n",
       " [13.158467523821159, 20.0, 0, 0.5, 0],\n",
       " [13.367502152458012, 20.0, 0, 0.5, 0],\n",
       " [13.5765367810949, 20.0, 0, 0.5, 0],\n",
       " [13.78557140973177, 20.0, 0, 0.5, 0],\n",
       " [13.994606038368627, 20.0, 0, 0.5, 0],\n",
       " [14.203640667005514, 20.0, 0, 0.5, 0],\n",
       " [14.41267529564237, 20.0, 0, 0.5, 0],\n",
       " [14.621709924279253, 20.0, 0, 0.5, 0],\n",
       " [14.83074455291611, 20.0, 0, 0.5, 0],\n",
       " [15.039779181552962, 20.0, 0, 0.2, 0.4],\n",
       " [14.962204694035409, 20.0, 0, 0.5, 0],\n",
       " [15.142765626906245, 20.0, 0, 0.2, 0.4],\n",
       " [14.995701775003651, 20.0, 0, 0.5, 0],\n",
       " [15.147207159512122, 20.0, 0, 0.2, 0.4],\n",
       " [14.994229778239411, 20.0, 0, 0.5, 0],\n",
       " [15.116927549683288, 20.0, 0, 0.2, 0.4],\n",
       " [14.958190838671605, 20.0, 0, 0.5, 0],\n",
       " [15.052280237555694, 20.0, 0, 0.2, 0.4],\n",
       " [14.887844044885918, 20.0, 0, 0.5, 0],\n",
       " [14.953476922275652, 20.0, 0, 0.5, 0],\n",
       " [15.019109799665397, 20.0, 0, 0.2, 0.4],\n",
       " [14.848846398609847, 20.0, 0, 0.5, 0],\n",
       " [14.886128201932083, 20.0, 0, 0.5, 0],\n",
       " [14.923410005254302, 20.0, 0, 0.5, 0],\n",
       " [14.96069180857653, 20.0, 0, 0.5, 0],\n",
       " [14.997973611898766, 20.0, 0, 0.5, 0],\n",
       " [15.035255415220988, 20.0, 0, 0.2, 0.4],\n",
       " [14.859091876884037, 20.0, 0, 0.5, 0],\n",
       " [14.868082329862643, 20.0, 0, 0.5, 0],\n",
       " [14.877072782841248, 20.0, 0, 0.5, 0],\n",
       " [14.886063235819854, 20.0, 0, 0.5, 0],\n",
       " [14.89505368879846, 20.0, 0, 0.5, 0],\n",
       " [14.904044141777065, 20.0, 0, 0.5, 0],\n",
       " [14.913034594755672, 20.0, 0, 0.5, 0],\n",
       " [14.922025047734278, 20.0, 0, 0.5, 0],\n",
       " [14.931015500712883, 20.0, 0, 0.5, 0],\n",
       " [14.94000595369149, 20.0, 0, 0.5, 0],\n",
       " [14.948996406670092, 20.0, 0, 0.5, 0],\n",
       " [14.9579868596487, 20.0, 0, 0.5, 0],\n",
       " [14.966977312627304, 20.0, 0, 0.5, 0],\n",
       " [14.975967765605908, 20.0, 0, 0.5, 0],\n",
       " [14.984958218584515, 20.0, 0, 0.5, 0],\n",
       " [14.993948671563121, 20.0, 0, 0.5, 0],\n",
       " [15.002939124541728, 20.0, 0, 0.2, 0.4],\n",
       " [14.820897203462502, 20.0, 0, 0.5, 0],\n",
       " [14.801610689544187, 20.0, 0, 0.5, 0],\n",
       " [14.782324175625877, 20.0, 0, 0.5, 0],\n",
       " [14.763037661707566, 20.0, 0, 0.5, 0],\n",
       " [14.743751147789258, 20.0, 0, 0.5, 0],\n",
       " [14.724464633870946, 20.0, 0, 0.5, 0],\n",
       " [14.705178119952631, 20.0, 0, 0.5, 0],\n",
       " [14.685891606034321, 20.0, 0, 0.5, 0],\n",
       " [14.666605092116013, 20.0, 0, 0.5, 0],\n",
       " [14.6473185781977, 20.0, 0, 0.5, 0],\n",
       " [14.628032064279388, 20.0, 0, 0.5, 0],\n",
       " [14.608745550361077, 20.0, 0, 0.5, 0],\n",
       " [14.589459036442765, 20.0, 0, 0.5, 0],\n",
       " [14.570172522524455, 20.0, 0, 0.5, 0],\n",
       " [14.550886008606147, 20.0, 0, 0.5, 0],\n",
       " [14.531599494687832, 20.0, 0, 0.5, 0],\n",
       " [14.512312980769522, 20.0, 0, 0.5, 0],\n",
       " [14.49302646685121, 20.0, 0, 0.5, 0],\n",
       " [14.473739952932899, 20.0, 0, 0.5, 0],\n",
       " [14.45445343901459, 20.0, 0, 0.5, 0],\n",
       " [14.435166925096278, 20.0, 0, 0.5, 0],\n",
       " [14.415880411177968, 20.0, 0, 0.5, 0],\n",
       " [14.396593897259656, 20.0, 0, 0.5, 0],\n",
       " [14.377307383341345, 20.0, 0, 0.5, 0],\n",
       " [14.358020869423033, 20.0, 0, 0.5, 0],\n",
       " [14.338734355504723, 20.0, 0, 0.5, 0],\n",
       " [14.319447841586411, 20.0, 0, 0.5, 0],\n",
       " [14.3001613276681, 19.557759767293188, 0, 0.1, -0.3],\n",
       " [14.474044426571826, 18.75374936509477, 0, 0.1, -0.3],\n",
       " [14.896386027383778, 18.210227176184613, 0, 0.1, -0.3],\n",
       " [15.615254393124777, 18.03341307384569, 0, 0.1, -0.3],\n",
       " [16.28200663354366, 18.01699517983659, 0, 0.1, -0.3],\n",
       " [16.767854118577148, 17.8106435271979, 0, 0.1, -0.3],\n",
       " [17.393902846242735, 17.774882559579392, 0, 0.1, -0.3],\n",
       " [18.16658124091943, 17.907323844230106, 0, 0.1, -0.3],\n",
       " [19.097043801453502, 18.211017288765138, 0, 0.1, -0.3],\n",
       " [19.147773036062617, 16.809964706747472, 0, 0.1, -0.3],\n",
       " [18.04219134309793, 15.358613920864608, 0, 0.1, -0.3],\n",
       " [17.20518434935654, 14.13941224453539, 0, 0.1, -0.3],\n",
       " [16.598215364015246, 13.113003565409455, 0, 0.1, -0.3],\n",
       " [16.194257206820936, 12.250353957815372, 0, 0.1, -0.3],\n",
       " [15.97504004381348, 11.53003983916386, 0, 0.1, -0.3],\n",
       " [15.92931922968949, 10.936460966949653, 0, 0.1, -0.3],\n",
       " [16.051848146168048, 10.458669160023003, 0, 0.1, -0.3],\n",
       " [16.342881897779698, 10.089630766097013, 0, 0.1, -0.3],\n",
       " [16.808129688453697, 9.82581920773833, 0, 0.1, -0.3],\n",
       " [17.10754172880266, 9.472405913766156, 0, 0.1, -0.3],\n",
       " [17.3781232313102, 9.125275359057877, 0, 0.1, -0.3],\n",
       " [17.81361779135853, 8.890681244044869, 0, 0.1, -0.3],\n",
       " [18.41861394880034, 8.764928688220603, 0, 0.1, -0.3],\n",
       " [17.751538219765262, 8.747835681893187, 0, 0.1, -0.3],\n",
       " [14.890042857877635, 8.639500345355074, 0, 0.1, -0.3],\n",
       " [12.740924389998836, 8.568771491002579, 0, 0.1, -0.3],\n",
       " [11.09760870847137, 8.607630254209454, 0, 0.1, -0.3],\n",
       " [9.828895895081116, 8.756102300468934, 0, 0.1, -0.3],\n",
       " [8.84792776586382, 9.01776828537901, 0, 0.1, -0.3],\n",
       " [8.09540654021486, 9.400028658866777, 0, 0.1, -0.3],\n",
       " [7.529993648161519, 9.914692518259606, 0, 0.1, -0.3],\n",
       " [7.122568012473385, 10.578982194591037, 0, 0.1, -0.3],\n",
       " [6.85267696016037, 11.417122175921493, 0, 0.1, -0.3],\n",
       " [6.706297123149932, 12.46280594517423, 0, 0.1, -0.3],\n",
       " [6.674418439221707, 13.763052744286435, 0, 0.1, -0.3],\n",
       " [6.752175882589759, 15.384370497209018, 0, 0.1, -0.3],\n",
       " [6.938373676622862, 17.42293110887878, 0, 0.1, -0.3],\n",
       " [7.235320553471588, 20.0, 0, 0.5, -0.1],\n",
       " [7.426010199034032, 20.0, 0, 0.5, -0.1],\n",
       " [7.484675361049925, 20.0, 0, 0.5, -0.1],\n",
       " [7.458402100383455, 20.0, 0, 0.5, -0.1],\n",
       " [7.44225684878895, 20.0, 0, 0.5, -0.1],\n",
       " [7.468971184203901, 20.0, 0, 0.5, -0.1],\n",
       " [7.538132657476472, 20.0, 0, 0.5, -0.1],\n",
       " [7.649524340198121, 20.0, 0, 0.5, -0.1],\n",
       " [7.803121063366079, 20.0, 0, 0.5, -0.1],\n",
       " [7.999087802729903, 20.0, 0, 0.5, -0.1],\n",
       " [8.237780164283526, 20.0, 0, 0.5, -0.1],\n",
       " [8.519746966782508, 20.0, 0, 0.5, -0.1],\n",
       " [8.84573496122079, 20.0, 0, 0.5, -0.1],\n",
       " [9.216695771319179, 20.0, 0, 0.5, -0.1],\n",
       " [9.633795185728967, 20.0, 0, 0.5, -0.1],\n",
       " [10.09842498341725, 20.0, 0, 0.5, 0],\n",
       " [10.310015605472014, 20.0, 0, 0.5, 0],\n",
       " [10.509934313808504, 20.0, 0, 0.5, 0],\n",
       " [10.709853022145069, 20.0, 0, 0.5, 0],\n",
       " [10.909771730481559, 20.0, 0, 0.5, 0],\n",
       " [11.109690438818086, 20.0, 0, 0.5, 0],\n",
       " [11.309609147154651, 20.0, 0, 0.5, 0],\n",
       " [16.7831188767456, 20.0, 0, 0.2, 0.4],\n",
       " [17.633544858868188, 20.0, 0, 0.2, 0.4],\n",
       " [15.254930698341559, 20.0, 0, 0.2, 0.4],\n",
       " [11.61554965454919, 20.0, 0, 0.5, 0],\n",
       " [10.98449099515086, 20.0, 0, 0.5, 0],\n",
       " [11.564691133499327, 20.0, 0, 0.5, 0],\n",
       " [13.861071667087163, 20.0, 0, 0.5, 0],\n",
       " [16.157452200674253, 20.0, 0, 0.2, 0.4],\n",
       " [16.607982249657287, 20.0, 0, 0.2, 0.4],\n",
       " [15.424899237805821, 20.0, 0, 0.2, 0.4],\n",
       " [13.18589455159476, 20.0, 0, 0.5, 0],\n",
       " [12.494907518378463, 20.0, 0, 0.5, 0],\n",
       " [12.922965285920045, 20.0, 0, 0.5, 0],\n",
       " [14.393126612120104, 20.0, 0, 0.5, 0],\n",
       " [15.863287938320163, 20.0, 0, 0.2, 0.4],\n",
       " [16.1647235031775, 20.0, 0, 0.2, 0.4],\n",
       " [15.393832964371848, 20.0, 0, 0.2, 0.4],\n",
       " [13.826737714740888, 20.0, 0, 0.5, 0],\n",
       " [13.28933343688436, 20.0, 0, 0.5, 0],\n",
       " [13.5601233435465, 20.0, 0, 0.5, 0],\n",
       " [14.591398897673818, 20.0, 0, 0.5, 0],\n",
       " [15.62267445180138, 20.0, 0, 0.2, 0.4],\n",
       " [15.837579341214065, 20.0, 0, 0.2, 0.4],\n",
       " [15.295627754810065, 20.0, 0, 0.2, 0.4],\n",
       " [14.162031962753579, 20.0, 0, 0.5, 0],\n",
       " [13.751298523960909, 20.0, 0, 0.5, 0],\n",
       " [13.926813954607955, 20.0, 0, 0.5, 0],\n",
       " [14.654738875806292, 20.0, 0, 0.5, 0],\n",
       " [15.382663797004628, 20.0, 0, 0.2, 0.4],\n",
       " [15.53341777090667, 20.0, 0, 0.2, 0.4],\n",
       " [15.151565339203918, 20.0, 0, 0.2, 0.4],\n",
       " [14.353477878915273, 20.0, 0, 0.5, 0],\n",
       " [14.055321011707473, 20.0, 0, 0.5, 0],\n",
       " [14.159127129722402, 20.0, 0, 0.5, 0],\n",
       " [14.637447961245474, 20.0, 0, 0.5, 0],\n",
       " [15.115768792768549, 20.0, 0, 0.2, 0.4],\n",
       " [15.20968881263404, 20.0, 0, 0.2, 0.4],\n",
       " [14.957996398626182, 20.0, 0, 0.5, 0],\n",
       " [15.032979218225513, 20.0, 0, 0.2, 0.4],\n",
       " [14.82135279603794, 20.0, 0, 0.5, 0],\n",
       " [14.876655442828225, 20.0, 0, 0.5, 0],\n",
       " [15.171519221118176, 20.0, 0, 0.2, 0.4],\n",
       " [15.22128396593686, 20.0, 0, 0.2, 0.4],\n",
       " [15.064893402734011, 20.0, 0, 0.2, 0.4],\n",
       " [14.404309995468115, 20.0, 0, 0.5, 0],\n",
       " [13.993519749338422, 20.0, 0, 0.5, 0],\n",
       " [13.826218880475478, 20.0, 0, 0.5, 0],\n",
       " [13.869705779402135, 20.0, 0, 0.5, 0],\n",
       " [13.913192678328791, 20.0, 0, 0.5, 0],\n",
       " [13.956679577255446, 20.0, 0, 0.5, 0],\n",
       " [14.000166476182114, 20.0, 0, 0.5, 0],\n",
       " [14.04365337510877, 20.0, 0, 0.5, 0],\n",
       " [14.087140274035425, 20.0, 0, 0.5, 0],\n",
       " [14.130627172962093, 20.0, 0, 0.5, 0],\n",
       " [14.174114071888747, 20.0, 0, 0.5, 0],\n",
       " [14.217600970815413, 20.0, 0, 0.5, 0],\n",
       " [14.261087869742067, 20.0, 0, 0.5, 0],\n",
       " [14.304574768668733, 20.0, 0, 0.5, 0],\n",
       " [14.348061667595386, 20.0, 0, 0.5, 0],\n",
       " [14.391548566522053, 20.0, 0, 0.5, 0],\n",
       " [14.435035465448706, 20.0, 0, 0.5, 0],\n",
       " [14.47852236437537, 20.0, 0, 0.5, 0],\n",
       " [14.52200926330202, 20.0, 0, 0.5, 0],\n",
       " [14.565496162228685, 20.0, 0, 0.5, 0],\n",
       " [14.60898306115535, 20.0, 0, 0.5, 0],\n",
       " [14.652469960082, 20.0, 0, 0.5, 0],\n",
       " [14.695956859008664, 20.0, 0, 0.5, 0],\n",
       " [14.739443757935327, 20.0, 0, 0.5, 0],\n",
       " [14.782930656861987, 20.0, 0, 0.5, 0],\n",
       " [14.826417555788638, 20.0, 0, 0.5, 0],\n",
       " [14.869904454715302, 20.0, 0.0896090759169904, 0.5, 0],\n",
       " [14.91339135364196, 20.0, 0.09359419352804436, 0.5, 0],\n",
       " [14.95687825256862, 20.0, 0.09764798024818763, 0.5, 0],\n",
       " [15.000365151495284, 20.0, 0.10176421190787106, 0.2, 0.4],\n",
       " [14.825517546979757, 20.0, 0.10627196649020806, 0.5, 0],\n",
       " [14.84070389753502, 20.0, 0.11071120777818945, 0.5, 0],\n",
       " [14.855890248090283, 20.0, 0.11520780727070573, 0.5, 0],\n",
       " [14.871076598645548, 20.0, 0.1197539048985401, 0.5, 0],\n",
       " [14.886262949200814, 20.0, 0.12434115781795142, 0.5, 0],\n",
       " [14.901449299756077, 20.0, 0.12896075914199692, 0.5, 0],\n",
       " [14.916635650311342, 20.0, 0.13360346002495851, 0.5, 0],\n",
       " [14.931822000866605, 20.0, 0.1382595950783886, 0.5, 0],\n",
       " [14.947008351421871, 20.0, 0.14291911107012936, 0.5, 0],\n",
       " [14.962194701977136, 20.0, 0.1475715988299107, 0.5, 0],\n",
       " [14.977381052532403, 20.0, 0.15220632825708813, 0.5, 0],\n",
       " [14.992567403087666, 20.0, 0.15681228629800142, 0.5, 0],\n",
       " [15.00775375364293, 20.0, 0.16137821773259642, 0.2, 0.4],\n",
       " [14.827004509421238, 20.0, 0.1667999832174046, 0.5, 0],\n",
       " [16.12187867245012, 20.0, 0.1715881685582193, 0.2, 0.4],\n",
       " [16.108424691218776, 20.0, 0.1772621580627405, 0.2, 0.4],\n",
       " [14.30966930742652, 20.0, 0.18395154665255956, 0.5, 0],\n",
       " [16.111570117346115, 20.0, 0.19038854024660326, 0.2, 0.4],\n",
       " [13.829043729645306, 20.0, 0.19768883566027212, 0.5, 0],\n",
       " [13.599697478921442, 20.0, 0.2049337764321791, 0.5, 0],\n",
       " [15.898976643686572, 20.0, 0.21193024277619146, 0.2, 0.4],\n",
       " [15.828709869718654, 20.0, 0.21954125995558266, 0.2, 0.4],\n",
       " [15.686857662576598, 20.0, 0.22785135636769208, 0.2, 0.4],\n",
       " [12.816778113763107, 20.0, 0.23657063573324943, 0.5, 0],\n",
       " [12.659731066831455, 20.0, 0.24571761597455324, 0.5, 0],\n",
       " [12.344581362060959, 20.0, 0.2555310583123286, 0.5, 0],\n",
       " [12.866446602296904, 20.0, 0.2659284225332574, 0.5, 0],\n",
       " [14.857325572527465, 20.0, 0.2764415196384033, 0.5, 0],\n",
       " [14.812469518869303, 20.0, 0.28705111395323607, 0.5, 0],\n",
       " [14.12596228981594, 20.0, 0.29773689299797634, 0.5, 0],\n",
       " [13.43945506076277, 20.0, 0.30847751809824886, 0.5, 0],\n",
       " [13.537452868337088, 20.0, 0.31925068271025125, 0.5, 0],\n",
       " [14.71845359002552, 20.0, 0.33003317835190693, 0.5, 0],\n",
       " [15.89945431171387, 20.0, 0.34080096796735304, 0.2, 0.4],\n",
       " [16.140274846997688, 20.0, 0.35187066345950574, 0.2, 0.4],\n",
       " [15.511984813400215, 20.0, 0.36329405699303374, 0.2, 0.4],\n",
       " [14.214368216396116, 20.0, 0.3746091605184708, 0.5, 0],\n",
       " [13.750876823002187, 20.0, 0.3867720145978504, 0.5, 0],\n",
       " [13.957658581007118, 20.0, 0.4001447122550106, 0.5, 0],\n",
       " [14.795949919443883, 20.0, 0.4146672375272058, 0.5, 0],\n",
       " [15.634241257880534, 20.0, 0.4292396334798795, 0.2, 0.4],\n",
       " [15.806785063453795, 20.0, 0.4431510401406433, 0.2, 0.4],\n",
       " [15.363086548976037, 20.0, 0.4563203141366925, 0.2, 0.4],\n",
       " [14.435194430194947, 20.0, 0.4681015909939148, 0.5, 0],\n",
       " [14.09130515827171, 20.0, 0.48155164448153465, 0.5, 0],\n",
       " [14.220961606614829, 20.0, 0.4971848862011933, 0.5, 0],\n",
       " [14.794467647683794, 20.0, 0.5150867210786875, 0.5, 0],\n",
       " [15.36797368875279, 20.0, 0.5330405400491796, 0.2, 0.4],\n",
       " [15.483333411688818, 20.0, 0.5490607713705982, 0.2, 0.4],\n",
       " [15.181206969728514, 20.0, 0.5629287460052125, 0.2, 0.4],\n",
       " [14.56424597523186, 20.0, 0.5738750077914848, 0.5, 0],\n",
       " [14.332218904573834, 20.0, 0.5873276537009609, 0.5, 0],\n",
       " [14.397248724419496, 20.0, 0.6038941487854361, 0.5, 0],\n",
       " [14.73296953445217, 20.0, 0.6237832579146867, 0.5, 0],\n",
       " [15.068690344484851, 20.0, 0.6436118883298921, 0.2, 0.4],\n",
       " [15.128111085436132, 20.0, 0.660077346370352, 0.2, 0.4],\n",
       " [14.949639952303789, 20.0, 0.672878125906435, 0.5, 0],\n",
       " [14.989218471939703, 20.0, 0.6890211482825108, 0.5, 0],\n",
       " [15.219121078472083, 20.0, 0.7087028323236433, 0.2, 0.4],\n",
       " [15.25342415230422, 20.0, 0.7244425505665679, 0.2, 0.4],\n",
       " [14.819754362321838, 20.0, 0.7359608851623759, 0.5, 0],\n",
       " [14.666661980548781, 20.0, 0.7509741542214846, 0.5, 0],\n",
       " [14.782897398658111, 20.0, 0.7696662443407897, 0.5, 0],\n",
       " [14.899132816767452, 20.0, 0.7879476052243211, 0.5, 0],\n",
       " [15.015368234876773, 20.0, 0.8057673962095734, 0.2, 0.4],\n",
       " [14.855604249877354, 20.0, 0.8192659542039189, 0.5, 0],\n",
       " [14.943269610002147, 20.0, 0.8360614412414666, 0.5, 0],\n",
       " [15.030934970126934, 20.0, 0.852253771817821, 0.2, 0.4],\n",
       " [14.865217505981727, 20.0, 0.8642024138868953, 0.5, 0],\n",
       " [14.924454127540413, 20.0, 0.8790990845848313, 0.5, 0],\n",
       " [14.98369074909911, 20.0, 0.8932594742006529, 0.5, 0],\n",
       " [10.57638297494919, 20.0, 0.0690139683385698, 0.5, 0],\n",
       " [10.708140830913536, 20.0, 0.06936323750787081, 0.5, 0],\n",
       " [10.971656542842158, 20.0, 0.07005774593047209, 0.5, 0],\n",
       " [11.366930110735149, 20.0, 0.07108886853569633, 0.5, 0],\n",
       " [11.893961534592451, 20.0, 0.07244225547999261, 0.5, 0],\n",
       " [12.552750814414065, 20.0, 0.07409614628388383, 0.5, 0],\n",
       " [13.211540094235664, 20.0, 0.07570363429643548, 0.5, 0],\n",
       " [13.870329374057292, 20.0, 0.07726010388758413, 0.5, 0],\n",
       " [14.529118653878921, 20.0, 0.07876101367919192, 0.5, 0],\n",
       " [15.187907933700535, 20.0, 0.080201918444728, 0.2, 0.4],\n",
       " [15.324375999364822, 20.0, 0.08017341564264387, 0.2, 0.4],\n",
       " [14.980556967036632, 20.0, 0.07866049317335519, 0.5, 0],\n",
       " [15.098457970136215, 20.0, 0.07811839002214024, 0.2, 0.4],\n",
       " [14.798637482486704, 20.0, 0.07624697718509688, 0.5, 0],\n",
       " [14.897472462413392, 20.0, 0.07522888364212336, 0.5, 0],\n",
       " [15.365845811656943, 20.0, 0.07509756058291811, 0.2, 0.4],\n",
       " [15.456820458853796, 20.0, 0.07384761826982465, 0.2, 0.4],\n",
       " [15.209706252873168, 20.0, 0.07154110601218516, 0.2, 0.4],\n",
       " [14.722403500500342, 20.0, 0.06837551500657818, 0.5, 0],\n",
       " [14.540582859095267, 20.0, 0.06579547161002539, 0.5, 0],\n",
       " [14.578880107877408, 20.0, 0.06370448596843457, 0.5, 0],\n",
       " [14.81058750919671, 20.0, 0.062094013956024846, 0.5, 0],\n",
       " [15.042294910516013, 20.0, 0.06045704342192569, 0.2, 0.4],\n",
       " [15.076140425466447, 20.0, 0.05829813801989887, 0.2, 0.4],\n",
       " [14.65409996476737, 20.0, 0.05570423863120445, 0.5, 0],\n",
       " [14.502039447226567, 20.0, 0.053404994886353155, 0.5, 0],\n",
       " [14.620203084238355, 20.0, 0.051387976215921685, 0.5, 0],\n",
       " [14.738366721250138, 20.0, 0.04939222626583966, 0.5, 0],\n",
       " [14.856530358261933, 20.0, 0.04742126548874055, 0.5, 0],\n",
       " [14.974693995273723, 20.0, 0.04547839483112149, 0.5, 0],\n",
       " [15.092857632285504, 20.0, 0.04356669012509078, 0.2, 0.4],\n",
       " [14.93326571275944, 20.0, 0.04149395694608573, 0.5, 0],\n",
       " [15.022848104569103, 20.0, 0.03959111981570866, 0.2, 0.4],\n",
       " [14.857544618192243, 20.0, 0.03759524329637934, 0.5, 0],\n",
       " [14.918690223269772, 20.0, 0, 0.5, 0],\n",
       " [14.979835828347307, 20.0, 0, 0.5, 0],\n",
       " [15.040981433424832, 20.0, 0, 0.2, 0.4],\n",
       " [14.86975745856683, 20.0, 0, 0.5, 0],\n",
       " [14.902564459283253, 20.0, 0, 0.5, 0],\n",
       " [14.935371459999674, 20.0, 0, 0.5, 0],\n",
       " [14.9681784607161, 20.0, 0, 0.5, 0],\n",
       " [15.00098546143252, 20.0, 0, 0.2, 0.4],\n",
       " [14.823911594279405, 20.0, 0, 0.5, 0],\n",
       " [14.828432529458484, 20.0, 0, 0.5, 0],\n",
       " [14.832953464637564, 20.0, 0, 0.5, 0],\n",
       " [14.837474399816644, 20.0, 0, 0.5, 0],\n",
       " [14.841995334995724, 20.0, 0, 0.5, 0],\n",
       " [14.846516270174805, 20.0, 0, 0.5, 0],\n",
       " [14.851037205353885, 20.0, 0, 0.5, 0],\n",
       " [14.855558140532963, 20.0, 0, 0.5, 0],\n",
       " [14.860079075712044, 20.0, 0, 0.5, 0],\n",
       " [14.864600010891124, 20.0, 0, 0.5, 0],\n",
       " [14.869120946070204, 20.0, 0, 0.5, 0],\n",
       " [14.873641881249284, 20.0, 0, 0.5, 0],\n",
       " [14.878162816428365, 20.0, 0, 0.5, 0],\n",
       " [14.882683751607445, 20.0, 0, 0.5, 0],\n",
       " [14.887204686786523, 20.0, 0, 0.5, 0],\n",
       " [14.891725621965604, 20.0, 0, 0.5, 0],\n",
       " [14.896246557144684, 20.0, 0, 0.5, 0],\n",
       " [14.900767492323764, 20.0, 0, 0.5, 0],\n",
       " [16.103212535220027, 20.0, 0, 0.2, 0.4],\n",
       " [16.09366392442892, 20.0, 0, 0.2, 0.4],\n",
       " ...]"
      ]
     },
     "execution_count": 13,
     "metadata": {},
     "output_type": "execute_result"
    }
   ],
   "source": [
    "data"
   ]
  },
  {
   "cell_type": "markdown",
   "id": "1c378a64",
   "metadata": {},
   "source": [
    "Processarem les dades d'entrenament en la següent cel·la. Aplicarem les següents transformacions:\n",
    "\n",
    "- Normalitzarem les dades del sensor i les comandes del motor per ajustar-se a l'interval de la funció d'activació. En el nostre cas, utilitzarem la funció d'activació tanh, que té un interval de [-1,1] i solament cal normalitzar les dades dels sensors de proximitat.\n",
    "- Llevarem les dades on el robot estigui aturat o vagi enrere. "
   ]
  },
  {
   "cell_type": "code",
   "execution_count": 14,
   "id": "40fa2dcef3a5a9a9",
   "metadata": {
    "ExecuteTime": {
     "end_time": "2023-10-07T09:47:34.045505Z",
     "start_time": "2023-10-07T09:47:33.895740Z"
    },
    "collapsed": false
   },
   "outputs": [],
   "source": [
    "processed_lines = []\n",
    "\n",
    "for line in data:\n",
    "    # Processem les dades per tal de tenir un format més adequat per a la xarxa neuronal.\n",
    "    \n",
    "\n",
    "with open(\"training_data.txt\", \"w\") as f:\n",
    "    f.writelines(processed_lines)\n"
   ]
  }
 ],
 "metadata": {
  "kernelspec": {
   "display_name": "Python 3",
   "language": "python",
   "name": "python3"
  },
  "language_info": {
   "codemirror_mode": {
    "name": "ipython",
    "version": 3
   },
   "file_extension": ".py",
   "mimetype": "text/x-python",
   "name": "python",
   "nbconvert_exporter": "python",
   "pygments_lexer": "ipython3",
   "version": "3.8.10"
  }
 },
 "nbformat": 4,
 "nbformat_minor": 5
}
