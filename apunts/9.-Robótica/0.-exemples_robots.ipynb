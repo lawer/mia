{
 "cells": [
  {
   "cell_type": "markdown",
   "metadata": {},
   "source": [
    "## Exemples de robots\n",
    "\n",
    "En aques exemple veurem diferents tipus de sensors i robots que podem utilitzar en `aitk.robots` i com podem interactuar amb ells."
   ]
  },
  {
   "cell_type": "code",
   "execution_count": null,
   "metadata": {},
   "outputs": [
    {
     "ename": "",
     "evalue": "",
     "output_type": "error",
     "traceback": [
      "\u001b[1;31mRunning cells with 'Python 3.11.9' requires the ipykernel package.\n",
      "\u001b[1;31mRun the following command to install 'ipykernel' into the Python environment. \n",
      "\u001b[1;31mCommand: '/bin/python3 -m pip install ipykernel -U --user --force-reinstall'"
     ]
    }
   ],
   "source": [
    "!pip install aitk aitk.robots ipykernel"
   ]
  },
  {
   "cell_type": "code",
   "execution_count": 2,
   "metadata": {},
   "outputs": [],
   "source": [
    "from aitk.robots import (\n",
    "    World, Scribbler, \n",
    "    RangeSensor, LightSensor, SmellSensor, \n",
    "    Camera\n",
    ")\n",
    "from random import random"
   ]
  },
  {
   "cell_type": "markdown",
   "metadata": {},
   "source": [
    "### Un món amb parets, una bombeta i menjar\n",
    "\n",
    "\n",
    "Hi ha una font de menjar situada prop de l'origen del món darrere d'una petita paret blava inclinada. Hi ha una font de llum prop del centre del món amagada a la cantonada de les parets cian i taronja.\n",
    "\n",
    "Utilitzem menjar i llum per atraure els robots cap a ells. Els robots poden veure la llum i el menjar i poden moure's cap a ells. Els robots també poden veure les parets i evitar-les. Òbviament, els robots no menjen, aquest element, però, ens permetrà veure com els robots poden interactuar amb els objectes del món."
   ]
  },
  {
   "cell_type": "code",
   "execution_count": null,
   "metadata": {},
   "outputs": [],
   "source": [
    "# Definim el món\n",
    "# Creem un món de 200x150 amb una escala de 5.0\n",
    "\n",
    "world = World(width=200, height=150, scale=5.0)\n",
    "world.add_wall(\"cyan\", 80, 50, 90, 150)\n",
    "world.add_wall(\"orange\", 90, 50, 110, 60)\n",
    "world.add_wall(\"blue\", 0, 35, 25, 30, box=False)\n",
    "world.add_bulb(\"yellow\", 100, 70, 0, 75.0)\n",
    "world.add_food(15, 10, 50)\n",
    "\n",
    "# Mostrem el món i demanem que s'actualitzi automàticament\n",
    "world.watch(width=\"700px\")"
   ]
  },
  {
   "cell_type": "markdown",
   "metadata": {},
   "source": [
    "### El robot vermell utilitza sensors IR\n",
    "\n",
    "El robot vermell utilitza sensors IR per detectar i evitar obstacles. Pot determinar cap a quin costat girar basant-se en si l'obstacle està més a prop del seu front esquerra o front dret."
   ]
  },
  {
   "cell_type": "code",
   "execution_count": 4,
   "metadata": {},
   "outputs": [],
   "source": [
    "robot1 = Scribbler(x=150, y=100, a=35, color=\"red\", name=\"red\")\n",
    "robot1.add_device(RangeSensor(position=(6,-6),width=57.3,max=20,name=\"left-ir\"))\n",
    "robot1.add_device(RangeSensor(position=(6,6),width=57.3,max=20,name=\"right-ir\"))\n",
    "\n",
    "world.add_robot(robot1)"
   ]
  },
  {
   "cell_type": "markdown",
   "metadata": {},
   "source": [
    "### El robot rosa utilitza sensors d'olor i una càmera\n",
    "\n",
    "El robot rosa utilitza sensors d'olor per trobar menjar. També té una càmera que pot veure les característiques del món. Pot girar cap al menjar detectat a la seva esquerra o dreta."
   ]
  },
  {
   "cell_type": "code",
   "execution_count": null,
   "metadata": {},
   "outputs": [
    {
     "ename": "",
     "evalue": "",
     "output_type": "error",
     "traceback": [
      "\u001b[1;31mRunning cells with 'Python 3.11.9' requires the ipykernel package.\n",
      "\u001b[1;31mRun the following command to install 'ipykernel' into the Python environment. \n",
      "\u001b[1;31mCommand: '/bin/python3 -m pip install ipykernel -U --user --force-reinstall'"
     ]
    }
   ],
   "source": [
    "robot2 = Scribbler(x=40, y=130, a=75, color=\"pink\", name=\"pink\")\n",
    "robot2.state[\"timer\"] = 0 # utilitzem el diccionari state per guardar variables.\n",
    "                          # Aquesta variable ens servirà per controlar el temps\n",
    "robot2.add_device(Camera())\n",
    "robot2.add_device(SmellSensor(position=(6,-6),name=\"left-smell\"))\n",
    "robot2.add_device(SmellSensor(position=(6,6),name=\"right-smell\"))\n",
    "\n",
    "world.add_robot(robot2)"
   ]
  },
  {
   "cell_type": "markdown",
   "metadata": {},
   "source": [
    "### El robot groc utilitza sensors de llum\n",
    "\n",
    "El robot groc utilitza sensors de llum per trobar una font de llum. Pot girar cap a la llum detectada a la seva esquerra o dreta."
   ]
  },
  {
   "cell_type": "code",
   "execution_count": 6,
   "metadata": {},
   "outputs": [],
   "source": [
    "robot3 = Scribbler(x=60, y=30, a=0, color=\"yellow\", name=\"yellow\")\n",
    "robot3.add_device(LightSensor(position=(6,-6), name=\"left-light\"))\n",
    "robot3.add_device(LightSensor(position=(6,6), name=\"right-light\"))\n",
    "\n",
    "world.add_robot(robot3)"
   ]
  },
  {
   "cell_type": "code",
   "execution_count": null,
   "metadata": {},
   "outputs": [],
   "source": [
    "world.watch(width=\"700px\")"
   ]
  },
  {
   "cell_type": "code",
   "execution_count": null,
   "metadata": {},
   "outputs": [],
   "source": [
    "robot2['camera'].watch()"
   ]
  },
  {
   "cell_type": "markdown",
   "metadata": {},
   "source": [
    "### El controlador del robot vermell deambula\n",
    "\n",
    "El robot vermell deambula pel món evitant els obstacles que troba. Sempre es mou cap endavant, però tria quantitats de rotació aleatòries quan els seus sensors de gamma frontal estan nets."
   ]
  },
  {
   "cell_type": "code",
   "execution_count": 9,
   "metadata": {},
   "outputs": [],
   "source": [
    "def deambula_amb_infrarojos(robot):\n",
    "    max_val = robot[\"left-ir\"].get_max()\n",
    "    if robot[\"left-ir\"].get_distance() < max_val:\n",
    "        robot.move(0.1, -0.3)\n",
    "    elif robot[\"right-ir\"].get_distance() < max_val:\n",
    "        robot.move(0.1, 0.3)\n",
    "    else:\n",
    "        robot.move(1, random()-0.5)"
   ]
  },
  {
   "cell_type": "markdown",
   "metadata": {},
   "source": [
    "### El controlador del robot rosa deambula\n",
    "\n",
    "El robot rosa deambula pel món cercant menjar i evitant obstacles retrocedint quan es queda aturat. Utilitza una variable d'estat anomenada *timer* per assegurar-se que fins i tot en presència d'un olor sempre fa almenys cinc passos enrere quan troba un obstacle. Si s'apropa prou al menjar, intenta menjar-lo, i si ho aconsegueix acaba l'execució retornant True. De tant en tant tria un nou moviment erràtic aleatori. Si cap dels seus casos de prova s'activa, repeteix el moviment anterior."
   ]
  },
  {
   "cell_type": "code",
   "execution_count": 10,
   "metadata": {},
   "outputs": [],
   "source": [
    "def busca_menjar(robot):\n",
    "    left_smell = robot[\"left-smell\"].get_reading()\n",
    "    right_smell = robot[\"right-smell\"].get_reading()\n",
    "    diff = left_smell - right_smell\n",
    "    if left_smell+right_smell>1.95 and robot.eat():\n",
    "        robot.move(0,0)\n",
    "        robot.speak(\"he menjat!\")\n",
    "        return True\n",
    "    # Utilitzem un temporitzador per assegurar que torne enrere\n",
    "    # durant un temps mínim de 5 iteracions\n",
    "    if robot.state[\"timer\"] > 5:\n",
    "        robot.state[\"timer\"] = 0\n",
    "    if robot.stalled:\n",
    "        robot.state[\"timer\"] = 1\n",
    "        robot.reverse()\n",
    "    elif robot.state[\"timer\"] > 0:\n",
    "        robot.state[\"timer\"] += 1\n",
    "    elif diff > 0.03:\n",
    "        robot.move(1, 0.3)\n",
    "    elif diff < -0.03:\n",
    "        robot.move(1, -0.3)\n",
    "    elif world.time%2 == 0:\n",
    "        robot.move(1.0, random()*0.5-0.25)\n",
    "    else:\n",
    "        pass #continua en la mateixa direcció"
   ]
  },
  {
   "cell_type": "markdown",
   "metadata": {},
   "source": [
    "### El controlador del robot groc cerca la llum\n",
    "\n",
    "L'objectiu del robot groc és trobar i acostar-se a una font de llum. Quan no detecta llum, el robot deambula. Quan detecta més llum a un costat, gira cap a la llum. Si el robot es queda aturat, inverteix el seu moviment. De tant en tant genera un nou moviment erràtic aleatori. Quan cap dels tests s'activa, el robot continuarà fent el moviment anterior. Quan les seves lectures de llum superen un llindar, s'atura i informa que ha trobat la llum. Retornant `True` acaba l'execució."
   ]
  },
  {
   "cell_type": "code",
   "execution_count": 16,
   "metadata": {},
   "outputs": [],
   "source": [
    "def search_light(robot):\n",
    "    left_light = robot[\"left-light\"].get_brightness()\n",
    "    right_light = robot[\"right-light\"].get_brightness()\n",
    "    diff = left_light - right_light\n",
    "    if left_light + right_light > 1.9:\n",
    "        robot.move(0,0)\n",
    "        robot.speak(\"he trobat la llum!\")\n",
    "        return True\n",
    "    if robot.stalled:\n",
    "        robot.reverse()\n",
    "    elif diff > 0.01:\n",
    "        robot.move(1,0.5)\n",
    "    elif diff < -0.01:\n",
    "        robot.move(1,-0.5)   \n",
    "    elif world.time%2 == 0:\n",
    "        robot.move(1.0, random()*0.5-0.25)\n",
    "    else:\n",
    "        pass #continua en la mateixa direcció"
   ]
  },
  {
   "cell_type": "code",
   "execution_count": null,
   "metadata": {},
   "outputs": [],
   "source": [
    "world.reset()\n",
    "robot2.state[\"timer\"] = 0 #resseteja el temporitzador\n",
    "world.set_seed(random())\n",
    "world.seconds(40,[deambula_amb_infrarojos, busca_menjar, search_light], real_time=True)"
   ]
  },
  {
   "cell_type": "markdown",
   "metadata": {},
   "source": [
    "Podem utilitzar `real_time=False` per executar el programa més ràpidament, però sense esperar els temps de pausa que hem definit.\n",
    "\n",
    "Áquesta funció ens serà molt útil per entrenar models i fer simulacions més ràpides."
   ]
  },
  {
   "cell_type": "code",
   "execution_count": null,
   "metadata": {},
   "outputs": [],
   "source": [
    "world.reset()\n",
    "robot2.state[\"timer\"] = 0 #resseteja el temporitzador\n",
    "world.set_seed(random())\n",
    "world.seconds(40,[deambula_amb_infrarojos, busca_menjar, search_light], real_time=False)"
   ]
  }
 ],
 "metadata": {
  "jupytext": {
   "formats": "ipynb,md"
  },
  "kernelspec": {
   "display_name": "Python 3",
   "language": "python",
   "name": "python3"
  },
  "language_info": {
   "codemirror_mode": {
    "name": "ipython",
    "version": 3
   },
   "file_extension": ".py",
   "mimetype": "text/x-python",
   "name": "python",
   "nbconvert_exporter": "python",
   "pygments_lexer": "ipython3",
   "version": "3.11.9"
  },
  "widgets": {
   "application/vnd.jupyter.widget-state+json": {
    "state": {},
    "version_major": 2,
    "version_minor": 0
   }
  }
 },
 "nbformat": 4,
 "nbformat_minor": 4
}
