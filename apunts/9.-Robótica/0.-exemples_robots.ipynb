{
 "cells": [
  {
   "cell_type": "markdown",
   "metadata": {},
   "source": [
    "## Exemples de robots\n",
    "\n",
    "En aques exemple veurem diferents tipus de sensors i robots que podem utilitzar en `aitk.robots` i com podem interactuar amb ells."
   ]
  },
  {
   "cell_type": "code",
   "execution_count": 1,
   "metadata": {},
   "outputs": [
    {
     "name": "stdout",
     "output_type": "stream",
     "text": [
      "Requirement already satisfied: aitk in /home/carlesgm/Documents/mia/.venv/lib/python3.8/site-packages (1.0.32)\n",
      "Requirement already satisfied: aitk.robots in /home/carlesgm/Documents/mia/.venv/lib/python3.8/site-packages (0.9.43)\n",
      "Requirement already satisfied: aitk.algorithms>=0.2.2 in /home/carlesgm/Documents/mia/.venv/lib/python3.8/site-packages (from aitk) (0.2.2)\n",
      "Requirement already satisfied: aitk.networks>=0.5.1 in /home/carlesgm/Documents/mia/.venv/lib/python3.8/site-packages (from aitk) (0.5.2)\n",
      "Requirement already satisfied: aitk.utils>=0.6.5 in /home/carlesgm/Documents/mia/.venv/lib/python3.8/site-packages (from aitk) (0.7.3)\n",
      "Requirement already satisfied: setuptools in /home/carlesgm/Documents/mia/.venv/lib/python3.8/site-packages (from aitk.robots) (69.2.0)\n",
      "Requirement already satisfied: Pillow in /home/carlesgm/Documents/mia/.venv/lib/python3.8/site-packages (from aitk.robots) (9.4.0)\n",
      "Requirement already satisfied: ipywidgets in /home/carlesgm/Documents/mia/.venv/lib/python3.8/site-packages (from aitk.robots) (8.1.2)\n",
      "Requirement already satisfied: numpy in /home/carlesgm/Documents/mia/.venv/lib/python3.8/site-packages (from aitk.algorithms>=0.2.2->aitk) (1.24.3)\n",
      "Requirement already satisfied: matplotlib in /home/carlesgm/Documents/mia/.venv/lib/python3.8/site-packages (from aitk.algorithms>=0.2.2->aitk) (3.7.5)\n",
      "Requirement already satisfied: tensorflow in /home/carlesgm/Documents/mia/.venv/lib/python3.8/site-packages (from aitk.networks>=0.5.1->aitk) (2.13.1)\n",
      "Requirement already satisfied: tqdm in /home/carlesgm/Documents/mia/.venv/lib/python3.8/site-packages (from aitk.utils>=0.6.5->aitk) (4.66.2)\n",
      "Requirement already satisfied: comm>=0.1.3 in /home/carlesgm/Documents/mia/.venv/lib/python3.8/site-packages (from ipywidgets->aitk.robots) (0.2.2)\n",
      "Requirement already satisfied: ipython>=6.1.0 in /home/carlesgm/Documents/mia/.venv/lib/python3.8/site-packages (from ipywidgets->aitk.robots) (8.12.3)\n",
      "Requirement already satisfied: traitlets>=4.3.1 in /home/carlesgm/Documents/mia/.venv/lib/python3.8/site-packages (from ipywidgets->aitk.robots) (5.14.2)\n",
      "Requirement already satisfied: widgetsnbextension~=4.0.10 in /home/carlesgm/Documents/mia/.venv/lib/python3.8/site-packages (from ipywidgets->aitk.robots) (4.0.10)\n",
      "Requirement already satisfied: jupyterlab-widgets~=3.0.10 in /home/carlesgm/Documents/mia/.venv/lib/python3.8/site-packages (from ipywidgets->aitk.robots) (3.0.10)\n",
      "Requirement already satisfied: backcall in /home/carlesgm/Documents/mia/.venv/lib/python3.8/site-packages (from ipython>=6.1.0->ipywidgets->aitk.robots) (0.2.0)\n",
      "Requirement already satisfied: decorator in /home/carlesgm/Documents/mia/.venv/lib/python3.8/site-packages (from ipython>=6.1.0->ipywidgets->aitk.robots) (5.1.1)\n",
      "Requirement already satisfied: jedi>=0.16 in /home/carlesgm/Documents/mia/.venv/lib/python3.8/site-packages (from ipython>=6.1.0->ipywidgets->aitk.robots) (0.19.1)\n",
      "Requirement already satisfied: matplotlib-inline in /home/carlesgm/Documents/mia/.venv/lib/python3.8/site-packages (from ipython>=6.1.0->ipywidgets->aitk.robots) (0.1.6)\n",
      "Requirement already satisfied: pickleshare in /home/carlesgm/Documents/mia/.venv/lib/python3.8/site-packages (from ipython>=6.1.0->ipywidgets->aitk.robots) (0.7.5)\n",
      "Requirement already satisfied: prompt-toolkit!=3.0.37,<3.1.0,>=3.0.30 in /home/carlesgm/Documents/mia/.venv/lib/python3.8/site-packages (from ipython>=6.1.0->ipywidgets->aitk.robots) (3.0.43)\n",
      "Requirement already satisfied: pygments>=2.4.0 in /home/carlesgm/Documents/mia/.venv/lib/python3.8/site-packages (from ipython>=6.1.0->ipywidgets->aitk.robots) (2.17.2)\n",
      "Requirement already satisfied: stack-data in /home/carlesgm/Documents/mia/.venv/lib/python3.8/site-packages (from ipython>=6.1.0->ipywidgets->aitk.robots) (0.6.3)\n",
      "Requirement already satisfied: typing-extensions in /home/carlesgm/Documents/mia/.venv/lib/python3.8/site-packages (from ipython>=6.1.0->ipywidgets->aitk.robots) (4.5.0)\n",
      "Requirement already satisfied: pexpect>4.3 in /home/carlesgm/Documents/mia/.venv/lib/python3.8/site-packages (from ipython>=6.1.0->ipywidgets->aitk.robots) (4.9.0)\n",
      "Requirement already satisfied: contourpy>=1.0.1 in /home/carlesgm/Documents/mia/.venv/lib/python3.8/site-packages (from matplotlib->aitk.algorithms>=0.2.2->aitk) (1.1.1)\n",
      "Requirement already satisfied: cycler>=0.10 in /home/carlesgm/Documents/mia/.venv/lib/python3.8/site-packages (from matplotlib->aitk.algorithms>=0.2.2->aitk) (0.10.0)\n",
      "Requirement already satisfied: fonttools>=4.22.0 in /home/carlesgm/Documents/mia/.venv/lib/python3.8/site-packages (from matplotlib->aitk.algorithms>=0.2.2->aitk) (4.50.0)\n",
      "Requirement already satisfied: kiwisolver>=1.0.1 in /home/carlesgm/Documents/mia/.venv/lib/python3.8/site-packages (from matplotlib->aitk.algorithms>=0.2.2->aitk) (1.4.5)\n",
      "Requirement already satisfied: packaging>=20.0 in /home/carlesgm/Documents/mia/.venv/lib/python3.8/site-packages (from matplotlib->aitk.algorithms>=0.2.2->aitk) (24.0)\n",
      "Requirement already satisfied: pyparsing>=2.3.1 in /home/carlesgm/Documents/mia/.venv/lib/python3.8/site-packages (from matplotlib->aitk.algorithms>=0.2.2->aitk) (3.1.2)\n",
      "Requirement already satisfied: python-dateutil>=2.7 in /home/carlesgm/Documents/mia/.venv/lib/python3.8/site-packages (from matplotlib->aitk.algorithms>=0.2.2->aitk) (2.9.0.post0)\n",
      "Requirement already satisfied: importlib-resources>=3.2.0 in /home/carlesgm/Documents/mia/.venv/lib/python3.8/site-packages (from matplotlib->aitk.algorithms>=0.2.2->aitk) (6.3.1)\n",
      "Requirement already satisfied: absl-py>=1.0.0 in /home/carlesgm/Documents/mia/.venv/lib/python3.8/site-packages (from tensorflow->aitk.networks>=0.5.1->aitk) (1.4.0)\n",
      "Requirement already satisfied: astunparse>=1.6.0 in /home/carlesgm/Documents/mia/.venv/lib/python3.8/site-packages (from tensorflow->aitk.networks>=0.5.1->aitk) (1.6.3)\n",
      "Requirement already satisfied: flatbuffers>=23.1.21 in /home/carlesgm/Documents/mia/.venv/lib/python3.8/site-packages (from tensorflow->aitk.networks>=0.5.1->aitk) (24.3.7)\n",
      "Requirement already satisfied: gast<=0.4.0,>=0.2.1 in /home/carlesgm/Documents/mia/.venv/lib/python3.8/site-packages (from tensorflow->aitk.networks>=0.5.1->aitk) (0.4.0)\n",
      "Requirement already satisfied: google-pasta>=0.1.1 in /home/carlesgm/Documents/mia/.venv/lib/python3.8/site-packages (from tensorflow->aitk.networks>=0.5.1->aitk) (0.2.0)\n",
      "Requirement already satisfied: grpcio<2.0,>=1.24.3 in /home/carlesgm/Documents/mia/.venv/lib/python3.8/site-packages (from tensorflow->aitk.networks>=0.5.1->aitk) (1.62.1)\n",
      "Requirement already satisfied: h5py>=2.9.0 in /home/carlesgm/Documents/mia/.venv/lib/python3.8/site-packages (from tensorflow->aitk.networks>=0.5.1->aitk) (3.10.0)\n",
      "Requirement already satisfied: keras<2.14,>=2.13.1 in /home/carlesgm/Documents/mia/.venv/lib/python3.8/site-packages (from tensorflow->aitk.networks>=0.5.1->aitk) (2.13.1)\n",
      "Requirement already satisfied: libclang>=13.0.0 in /home/carlesgm/Documents/mia/.venv/lib/python3.8/site-packages (from tensorflow->aitk.networks>=0.5.1->aitk) (18.1.1)\n",
      "Requirement already satisfied: opt-einsum>=2.3.2 in /home/carlesgm/Documents/mia/.venv/lib/python3.8/site-packages (from tensorflow->aitk.networks>=0.5.1->aitk) (3.3.0)\n",
      "Requirement already satisfied: protobuf!=4.21.0,!=4.21.1,!=4.21.2,!=4.21.3,!=4.21.4,!=4.21.5,<5.0.0dev,>=3.20.3 in /home/carlesgm/Documents/mia/.venv/lib/python3.8/site-packages (from tensorflow->aitk.networks>=0.5.1->aitk) (3.20.3)\n",
      "Requirement already satisfied: six>=1.12.0 in /home/carlesgm/Documents/mia/.venv/lib/python3.8/site-packages (from tensorflow->aitk.networks>=0.5.1->aitk) (1.16.0)\n",
      "Requirement already satisfied: tensorboard<2.14,>=2.13 in /home/carlesgm/Documents/mia/.venv/lib/python3.8/site-packages (from tensorflow->aitk.networks>=0.5.1->aitk) (2.13.0)\n",
      "Requirement already satisfied: tensorflow-estimator<2.14,>=2.13.0 in /home/carlesgm/Documents/mia/.venv/lib/python3.8/site-packages (from tensorflow->aitk.networks>=0.5.1->aitk) (2.13.0)\n",
      "Requirement already satisfied: termcolor>=1.1.0 in /home/carlesgm/Documents/mia/.venv/lib/python3.8/site-packages (from tensorflow->aitk.networks>=0.5.1->aitk) (2.4.0)\n",
      "Requirement already satisfied: wrapt>=1.11.0 in /home/carlesgm/Documents/mia/.venv/lib/python3.8/site-packages (from tensorflow->aitk.networks>=0.5.1->aitk) (1.16.0)\n",
      "Requirement already satisfied: tensorflow-io-gcs-filesystem>=0.23.1 in /home/carlesgm/Documents/mia/.venv/lib/python3.8/site-packages (from tensorflow->aitk.networks>=0.5.1->aitk) (0.34.0)\n",
      "Requirement already satisfied: wheel<1.0,>=0.23.0 in /home/carlesgm/Documents/mia/.venv/lib/python3.8/site-packages (from astunparse>=1.6.0->tensorflow->aitk.networks>=0.5.1->aitk) (0.43.0)\n",
      "Requirement already satisfied: zipp>=3.1.0 in /home/carlesgm/Documents/mia/.venv/lib/python3.8/site-packages (from importlib-resources>=3.2.0->matplotlib->aitk.algorithms>=0.2.2->aitk) (3.18.1)\n",
      "Requirement already satisfied: parso<0.9.0,>=0.8.3 in /home/carlesgm/Documents/mia/.venv/lib/python3.8/site-packages (from jedi>=0.16->ipython>=6.1.0->ipywidgets->aitk.robots) (0.8.3)\n",
      "Requirement already satisfied: ptyprocess>=0.5 in /home/carlesgm/Documents/mia/.venv/lib/python3.8/site-packages (from pexpect>4.3->ipython>=6.1.0->ipywidgets->aitk.robots) (0.7.0)\n",
      "Requirement already satisfied: wcwidth in /home/carlesgm/Documents/mia/.venv/lib/python3.8/site-packages (from prompt-toolkit!=3.0.37,<3.1.0,>=3.0.30->ipython>=6.1.0->ipywidgets->aitk.robots) (0.2.13)\n",
      "Requirement already satisfied: google-auth<3,>=1.6.3 in /home/carlesgm/Documents/mia/.venv/lib/python3.8/site-packages (from tensorboard<2.14,>=2.13->tensorflow->aitk.networks>=0.5.1->aitk) (2.28.2)\n",
      "Requirement already satisfied: google-auth-oauthlib<1.1,>=0.5 in /home/carlesgm/Documents/mia/.venv/lib/python3.8/site-packages (from tensorboard<2.14,>=2.13->tensorflow->aitk.networks>=0.5.1->aitk) (1.0.0)\n",
      "Requirement already satisfied: markdown>=2.6.8 in /home/carlesgm/Documents/mia/.venv/lib/python3.8/site-packages (from tensorboard<2.14,>=2.13->tensorflow->aitk.networks>=0.5.1->aitk) (3.6)\n",
      "Requirement already satisfied: requests<3,>=2.21.0 in /home/carlesgm/Documents/mia/.venv/lib/python3.8/site-packages (from tensorboard<2.14,>=2.13->tensorflow->aitk.networks>=0.5.1->aitk) (2.31.0)\n",
      "Requirement already satisfied: tensorboard-data-server<0.8.0,>=0.7.0 in /home/carlesgm/Documents/mia/.venv/lib/python3.8/site-packages (from tensorboard<2.14,>=2.13->tensorflow->aitk.networks>=0.5.1->aitk) (0.7.2)\n",
      "Requirement already satisfied: werkzeug>=1.0.1 in /home/carlesgm/Documents/mia/.venv/lib/python3.8/site-packages (from tensorboard<2.14,>=2.13->tensorflow->aitk.networks>=0.5.1->aitk) (3.0.1)\n",
      "Requirement already satisfied: executing>=1.2.0 in /home/carlesgm/Documents/mia/.venv/lib/python3.8/site-packages (from stack-data->ipython>=6.1.0->ipywidgets->aitk.robots) (2.0.1)\n",
      "Requirement already satisfied: asttokens>=2.1.0 in /home/carlesgm/Documents/mia/.venv/lib/python3.8/site-packages (from stack-data->ipython>=6.1.0->ipywidgets->aitk.robots) (2.4.1)\n",
      "Requirement already satisfied: pure-eval in /home/carlesgm/Documents/mia/.venv/lib/python3.8/site-packages (from stack-data->ipython>=6.1.0->ipywidgets->aitk.robots) (0.2.2)\n",
      "Requirement already satisfied: cachetools<6.0,>=2.0.0 in /home/carlesgm/Documents/mia/.venv/lib/python3.8/site-packages (from google-auth<3,>=1.6.3->tensorboard<2.14,>=2.13->tensorflow->aitk.networks>=0.5.1->aitk) (5.3.3)\n",
      "Requirement already satisfied: pyasn1-modules>=0.2.1 in /home/carlesgm/Documents/mia/.venv/lib/python3.8/site-packages (from google-auth<3,>=1.6.3->tensorboard<2.14,>=2.13->tensorflow->aitk.networks>=0.5.1->aitk) (0.3.0)\n",
      "Requirement already satisfied: rsa<5,>=3.1.4 in /home/carlesgm/Documents/mia/.venv/lib/python3.8/site-packages (from google-auth<3,>=1.6.3->tensorboard<2.14,>=2.13->tensorflow->aitk.networks>=0.5.1->aitk) (4.9)\n",
      "Requirement already satisfied: requests-oauthlib>=0.7.0 in /home/carlesgm/Documents/mia/.venv/lib/python3.8/site-packages (from google-auth-oauthlib<1.1,>=0.5->tensorboard<2.14,>=2.13->tensorflow->aitk.networks>=0.5.1->aitk) (1.4.0)\n",
      "Requirement already satisfied: importlib-metadata>=4.4 in /home/carlesgm/Documents/mia/.venv/lib/python3.8/site-packages (from markdown>=2.6.8->tensorboard<2.14,>=2.13->tensorflow->aitk.networks>=0.5.1->aitk) (7.0.2)\n",
      "Requirement already satisfied: charset-normalizer<4,>=2 in /home/carlesgm/Documents/mia/.venv/lib/python3.8/site-packages (from requests<3,>=2.21.0->tensorboard<2.14,>=2.13->tensorflow->aitk.networks>=0.5.1->aitk) (3.3.2)\n",
      "Requirement already satisfied: idna<4,>=2.5 in /home/carlesgm/Documents/mia/.venv/lib/python3.8/site-packages (from requests<3,>=2.21.0->tensorboard<2.14,>=2.13->tensorflow->aitk.networks>=0.5.1->aitk) (2.10)\n",
      "Requirement already satisfied: urllib3<3,>=1.21.1 in /home/carlesgm/Documents/mia/.venv/lib/python3.8/site-packages (from requests<3,>=2.21.0->tensorboard<2.14,>=2.13->tensorflow->aitk.networks>=0.5.1->aitk) (2.2.1)\n",
      "Requirement already satisfied: certifi>=2017.4.17 in /home/carlesgm/Documents/mia/.venv/lib/python3.8/site-packages (from requests<3,>=2.21.0->tensorboard<2.14,>=2.13->tensorflow->aitk.networks>=0.5.1->aitk) (2023.7.22)\n",
      "Requirement already satisfied: MarkupSafe>=2.1.1 in /home/carlesgm/Documents/mia/.venv/lib/python3.8/site-packages (from werkzeug>=1.0.1->tensorboard<2.14,>=2.13->tensorflow->aitk.networks>=0.5.1->aitk) (2.1.5)\n",
      "Requirement already satisfied: pyasn1<0.6.0,>=0.4.6 in /home/carlesgm/Documents/mia/.venv/lib/python3.8/site-packages (from pyasn1-modules>=0.2.1->google-auth<3,>=1.6.3->tensorboard<2.14,>=2.13->tensorflow->aitk.networks>=0.5.1->aitk) (0.5.1)\n",
      "Requirement already satisfied: oauthlib>=3.0.0 in /home/carlesgm/Documents/mia/.venv/lib/python3.8/site-packages (from requests-oauthlib>=0.7.0->google-auth-oauthlib<1.1,>=0.5->tensorboard<2.14,>=2.13->tensorflow->aitk.networks>=0.5.1->aitk) (3.2.2)\n"
     ]
    }
   ],
   "source": [
    "!pip install aitk aitk.robots"
   ]
  },
  {
   "cell_type": "code",
   "execution_count": 9,
   "metadata": {},
   "outputs": [],
   "source": [
    "from aitk.robots import (\n",
    "    __version__, World, Scribbler, \n",
    "    RangeSensor, LightSensor, SmellSensor, \n",
    "    Camera\n",
    ")\n",
    "from random import random"
   ]
  },
  {
   "cell_type": "markdown",
   "metadata": {},
   "source": [
    "### Un món amb parets, una bombeta i menjar\n",
    "\n",
    "\n",
    "Hi ha una font de menjar situada prop de l'origen del món darrere d'una petita paret blava inclinada. Hi ha una font de llum prop del centre del món amagada a la cantonada de les parets cian i taronja.\n",
    "\n",
    "Utilitzem menjar i llum per atraure els robots cap a ells. Els robots poden veure la llum i el menjar i poden moure's cap a ells. Els robots també poden veure les parets i evitar-les. Òbviament, els robots no menjen, aquest element, però, ens permetrà veure com els robots poden interactuar amb els objectes del món."
   ]
  },
  {
   "cell_type": "code",
   "execution_count": 3,
   "metadata": {},
   "outputs": [
    {
     "name": "stdout",
     "output_type": "stream",
     "text": [
      "Random seed set to: 770404\n"
     ]
    },
    {
     "data": {
      "application/vnd.jupyter.widget-view+json": {
       "model_id": "5b02b344a7824d37ac4c63c23a53faab",
       "version_major": 2,
       "version_minor": 0
      },
      "text/plain": [
       "Image(value=b'\\xff\\xd8\\xff\\xe0\\x00\\x10JFIF\\x00\\x01\\x01\\x00\\x00\\x01\\x00\\x01\\x00\\x00\\xff\\xdb\\x00C\\x00\\x08\\x06\\x0…"
      ]
     },
     "metadata": {},
     "output_type": "display_data"
    }
   ],
   "source": [
    "# Definim el món\n",
    "# Creem un món de 200x150 amb una escala de 5.0\n",
    "\n",
    "world = World(width=200, height=150, scale=5.0)\n",
    "world.add_wall(\"cyan\", 80, 50, 90, 150)\n",
    "world.add_wall(\"orange\", 90, 50, 110, 60)\n",
    "world.add_wall(\"blue\", 0, 35, 25, 30, box=False)\n",
    "world.add_bulb(\"yellow\", 100, 70, 0, 75.0)\n",
    "world.add_food(15, 10, 50)\n",
    "\n",
    "# Mostrem el món i demanem que s'actualitzi automàticament\n",
    "world.watch(width=\"700px\")"
   ]
  },
  {
   "cell_type": "markdown",
   "metadata": {},
   "source": [
    "### El robot vermell utilitza sensors IR\n",
    "\n",
    "El robot vermell utilitza sensors IR per detectar i evitar obstacles. Pot determinar cap a quin costat girar basant-se en si l'obstacle està més a prop del seu front esquerra o front dret."
   ]
  },
  {
   "cell_type": "code",
   "execution_count": 4,
   "metadata": {},
   "outputs": [],
   "source": [
    "robot1 = Scribbler(x=150, y=100, a=35, color=\"red\", name=\"red\")\n",
    "robot1.add_device(RangeSensor(position=(6,-6),width=57.3,max=20,name=\"left-ir\"))\n",
    "robot1.add_device(RangeSensor(position=(6,6),width=57.3,max=20,name=\"right-ir\"))\n",
    "\n",
    "world.add_robot(robot1)"
   ]
  },
  {
   "cell_type": "markdown",
   "metadata": {},
   "source": [
    "### El robot rosa utilitza sensors d'olor i una càmera\n",
    "\n",
    "El robot rosa utilitza sensors d'olor per trobar menjar. També té una càmera que pot veure les característiques del món. Pot girar cap al menjar detectat a la seva esquerra o dreta."
   ]
  },
  {
   "cell_type": "code",
   "execution_count": 5,
   "metadata": {},
   "outputs": [],
   "source": [
    "robot2 = Scribbler(x=40, y=130, a=75, color=\"pink\", name=\"pink\")\n",
    "robot2.state[\"timer\"] = 0 # utilitzem el diccionari state per guardar variables.\n",
    "                          # Aquesta variable ens servirà per controlar el temps\n",
    "robot2.add_device(Camera())\n",
    "robot2.add_device(SmellSensor(position=(6,-6),name=\"left-smell\"))\n",
    "robot2.add_device(SmellSensor(position=(6,6),name=\"right-smell\"))\n",
    "\n",
    "world.add_robot(robot2)"
   ]
  },
  {
   "cell_type": "markdown",
   "metadata": {},
   "source": [
    "### El robot groc utilitza sensors de llum\n",
    "\n",
    "El robot groc utilitza sensors de llum per trobar una font de llum. Pot girar cap a la llum detectada a la seva esquerra o dreta."
   ]
  },
  {
   "cell_type": "code",
   "execution_count": 8,
   "metadata": {},
   "outputs": [],
   "source": [
    "robot3 = Scribbler(x=60, y=30, a=0, color=\"yellow\", name=\"yellow\")\n",
    "robot3.add_device(LightSensor(position=(6,-6), name=\"left-light\"))\n",
    "robot3.add_device(LightSensor(position=(6,6), name=\"right-light\"))\n",
    "\n",
    "world.add_robot(robot3)"
   ]
  },
  {
   "cell_type": "code",
   "execution_count": 15,
   "metadata": {},
   "outputs": [
    {
     "data": {
      "application/vnd.jupyter.widget-view+json": {
       "model_id": "d35523d112dc4451b2f1c2633961b481",
       "version_major": 2,
       "version_minor": 0
      },
      "text/plain": [
       "Image(value=b'\\xff\\xd8\\xff\\xe0\\x00\\x10JFIF\\x00\\x01\\x01\\x00\\x00\\x01\\x00\\x01\\x00\\x00\\xff\\xdb\\x00C\\x00\\x08\\x06\\x0…"
      ]
     },
     "metadata": {},
     "output_type": "display_data"
    }
   ],
   "source": [
    "world.watch(width=\"700px\")"
   ]
  },
  {
   "cell_type": "code",
   "execution_count": 16,
   "metadata": {},
   "outputs": [
    {
     "data": {
      "application/vnd.jupyter.widget-view+json": {
       "model_id": "5fc6f36f2c924237b644806b04de7512",
       "version_major": 2,
       "version_minor": 0
      },
      "text/plain": [
       "HTML(value='<style>img.pixelated {image-rendering: pixelated;}</style>')"
      ]
     },
     "metadata": {},
     "output_type": "display_data"
    },
    {
     "data": {
      "application/vnd.jupyter.widget-view+json": {
       "model_id": "62501b30c5854b299ce168041d54217d",
       "version_major": 2,
       "version_minor": 0
      },
      "text/plain": [
       "HTML(value='<style>img.pixelated {image-rendering: pixelated;}</style>')"
      ]
     },
     "metadata": {},
     "output_type": "display_data"
    },
    {
     "data": {
      "application/vnd.jupyter.widget-view+json": {
       "model_id": "b3b9ee50551d4cbe93d782db8816785e",
       "version_major": 2,
       "version_minor": 0
      },
      "text/plain": [
       "HTML(value='<style>img.pixelated {image-rendering: pixelated;}</style>')"
      ]
     },
     "metadata": {},
     "output_type": "display_data"
    },
    {
     "data": {
      "application/vnd.jupyter.widget-view+json": {
       "model_id": "b9872a0fc7724a0d9b6e3f832a822369",
       "version_major": 2,
       "version_minor": 0
      },
      "text/plain": [
       "Image(value=b'\\x89PNG\\r\\n\\x1a\\n\\x00\\x00\\x00\\rIHDR\\x00\\x00\\x00@\\x00\\x00\\x00 \\x08\\x06\\x00\\x00\\x00\\xa2\\x9d~\\x84\\x…"
      ]
     },
     "metadata": {},
     "output_type": "display_data"
    }
   ],
   "source": [
    "robot2['camera'].watch()"
   ]
  },
  {
   "cell_type": "markdown",
   "metadata": {},
   "source": [
    "### El controlador del robot vermell deambula\n",
    "\n",
    "El robot vermell deambula pel món evitant els obstacles que troba. Sempre es mou cap endavant, però tria quantitats de rotació aleatòries quan els seus sensors de gamma frontal estan nets."
   ]
  },
  {
   "cell_type": "code",
   "execution_count": 18,
   "metadata": {},
   "outputs": [],
   "source": [
    "def deambula_amb_infrarojos(robot):\n",
    "    max_val = robot[\"left-ir\"].get_max()\n",
    "    if robot[\"left-ir\"].get_distance() < max_val:\n",
    "        robot.move(0.1, -0.3)\n",
    "    elif robot[\"right-ir\"].get_distance() < max_val:\n",
    "        robot.move(0.1, 0.3)\n",
    "    else:\n",
    "        robot.move(1, random()-0.5)"
   ]
  },
  {
   "cell_type": "markdown",
   "metadata": {},
   "source": [
    "### El controlador del robot rosa deambula\n",
    "\n",
    "El robot rosa deambula pel món cercant menjar i evitant obstacles retrocedint quan es queda aturat. Utilitza una variable d'estat anomenada *timer* per assegurar-se que fins i tot en presència d'un olor sempre fa almenys cinc passos enrere quan troba un obstacle. Si s'apropa prou al menjar, intenta menjar-lo, i si ho aconsegueix acaba l'execució retornant True. De tant en tant tria un nou moviment erràtic aleatori. Si cap dels seus casos de prova s'activa, repeteix el moviment anterior."
   ]
  },
  {
   "cell_type": "code",
   "execution_count": 19,
   "metadata": {},
   "outputs": [],
   "source": [
    "def busca_menjar(robot):\n",
    "    left_smell = robot[\"left-smell\"].get_reading()\n",
    "    right_smell = robot[\"right-smell\"].get_reading()\n",
    "    diff = left_smell - right_smell\n",
    "    if left_smell+right_smell>1.95 and robot.eat():\n",
    "        robot.move(0,0)\n",
    "        robot.speak(\"he menjat!\")\n",
    "        return True\n",
    "    # Utilitzem un temporitzador per assegurar que torne enrere\n",
    "    # durant un temps mínim de 5 iteracions\n",
    "    if robot.state[\"timer\"] > 5:\n",
    "        robot.state[\"timer\"] = 0\n",
    "    if robot.stalled:\n",
    "        robot.state[\"timer\"] = 1\n",
    "        robot.reverse()\n",
    "    elif robot.state[\"timer\"] > 0:\n",
    "        robot.state[\"timer\"] += 1\n",
    "    elif diff > 0.03:\n",
    "        robot.move(1, 0.3)\n",
    "    elif diff < -0.03:\n",
    "        robot.move(1, -0.3)\n",
    "    elif world.time%2 == 0:\n",
    "        robot.move(1.0, random()*0.5-0.25)\n",
    "    else:\n",
    "        pass #continua en la mateixa direcció"
   ]
  },
  {
   "cell_type": "markdown",
   "metadata": {},
   "source": [
    "### El controlador del robot groc cerca la llum\n",
    "\n",
    "L'objectiu del robot groc és trobar i acostar-se a una font de llum. Quan no detecta llum, el robot deambula. Quan detecta més llum a un costat, gira cap a la llum. Si el robot es queda aturat, inverteix el seu moviment. De tant en tant genera un nou moviment erràtic aleatori. Quan cap dels tests s'activa, el robot continuarà fent el moviment anterior. Quan les seves lectures de llum superen un llindar, s'atura i informa que ha trobat la llum. Retornant `True` acaba l'execució."
   ]
  },
  {
   "cell_type": "code",
   "execution_count": 20,
   "metadata": {},
   "outputs": [],
   "source": [
    "def search_light(robot):\n",
    "    left_light = robot[\"left-light\"].get_brightness()\n",
    "    right_light = robot[\"right-light\"].get_brightness()\n",
    "    diff = left_light - right_light\n",
    "    if left_light + right_light > 1.9:\n",
    "        robot.move(0,0)\n",
    "        robot.speak(\"he trobat la llum!\")\n",
    "        return True\n",
    "    if robot.stalled:\n",
    "        robot.reverse()\n",
    "    elif diff > 0.01:\n",
    "        robot.move(1,0.5)\n",
    "    elif diff < -0.01:\n",
    "        robot.move(1,-0.5)   \n",
    "    elif world.time%2 == 0:\n",
    "        robot.move(1.0, random()*0.5-0.25)\n",
    "    else:\n",
    "        pass #continua en la mateixa direcció"
   ]
  },
  {
   "cell_type": "code",
   "execution_count": 21,
   "metadata": {},
   "outputs": [
    {
     "name": "stdout",
     "output_type": "stream",
     "text": [
      "Using random seed: 2088516\n",
      "Using random seed: 0.7590699631298838\n"
     ]
    },
    {
     "data": {
      "application/vnd.jupyter.widget-view+json": {
       "model_id": "4e65e6a28a574a3588705e09460b154a",
       "version_major": 2,
       "version_minor": 0
      },
      "text/plain": [
       "  0%|          | 0/400 [00:00<?, ?it/s]"
      ]
     },
     "metadata": {},
     "output_type": "display_data"
    },
    {
     "name": "stdout",
     "output_type": "stream",
     "text": [
      "Simulation stopped at: 00:00:04.80; speed 0.98 x real time\n"
     ]
    }
   ],
   "source": [
    "world.reset()\n",
    "robot2.state[\"timer\"] = 0 #resseteja el temporitzador\n",
    "world.set_seed(random())\n",
    "world.seconds(40,[deambula_amb_infrarojos,busca_menjar,search_light],real_time=True)"
   ]
  },
  {
   "cell_type": "code",
   "execution_count": null,
   "metadata": {},
   "outputs": [],
   "source": []
  }
 ],
 "metadata": {
  "jupytext": {
   "formats": "ipynb,md"
  },
  "kernelspec": {
   "display_name": "Python 3",
   "language": "python",
   "name": "python3"
  },
  "language_info": {
   "codemirror_mode": {
    "name": "ipython",
    "version": 3
   },
   "file_extension": ".py",
   "mimetype": "text/x-python",
   "name": "python",
   "nbconvert_exporter": "python",
   "pygments_lexer": "ipython3",
   "version": "3.8.10"
  },
  "widgets": {
   "application/vnd.jupyter.widget-state+json": {
    "state": {},
    "version_major": 2,
    "version_minor": 0
   }
  }
 },
 "nbformat": 4,
 "nbformat_minor": 4
}
