{
 "cells": [
  {
   "cell_type": "markdown",
   "source": [
    "# Classificador de notícies\n",
    "\n",
    "En aquesta pràctica, crearem un classificador de notícies utilitzant les tècniques de processament de llenguatge natural que hem vist a classe, centrades en la representació del text.\n",
    "\n",
    "Utilitzarem el `dataset` [AG News](https://www.kaggle.com/amananandrai/ag-news-classification-dataset) que conté 1.000.000 de notícies de 4 categories diferents.\n",
    "\n",
    "## Dataset\n",
    "\n",
    "Per carregar el dataset, utilitzarem la llibreria `tensorflow_datasets` que ens permetrà carregar-lo de forma senzilla. Aquesta llibreria també ens permetrà fer la separació del dataset en conjunt d'entrenament i de test.\n",
    "\n",
    "Per carregar el dataset, utilitzarem la funció `load('ag_news_subset')` de la llibreria `tensorflow_datasets`. Aquesta funció retorna un `tf.data.Dataset` que conté els exemples del dataset. Aquest objecte és similar a un `numpy.array` però conté més informació sobre el dataset. En concret, conté els exemples del dataset i la seva etiqueta. Per accedir als exemples i les etiquetes, utilitzarem els atributs `data` i `label` de l'objecte `tf.data.Dataset`."
   ],
   "metadata": {
    "collapsed": false
   },
   "id": "188b48ed5b49e64b"
  },
  {
   "cell_type": "markdown",
   "source": [
    "## Preparació del dataset\n",
    "\n",
    "Per instal·lar la llibreria `tensorflow_datasets`, executarem la següent cel·la. Aquesta llibreria conté molts datasets que poden ser útils per a la pràctica de l'assignatura."
   ],
   "metadata": {
    "collapsed": false
   },
   "id": "a731df9a4a91fd19"
  },
  {
   "cell_type": "code",
   "outputs": [
    {
     "name": "stdout",
     "output_type": "stream",
     "text": [
      "Requirement already satisfied: keras in /Users/carlesgm/lib/python3.11/site-packages (2.13.1)\r\n",
      "\r\n",
      "\u001B[1m[\u001B[0m\u001B[34;49mnotice\u001B[0m\u001B[1;39;49m]\u001B[0m\u001B[39;49m A new release of pip available: \u001B[0m\u001B[31;49m22.3.1\u001B[0m\u001B[39;49m -> \u001B[0m\u001B[32;49m23.3.2\u001B[0m\r\n",
      "\u001B[1m[\u001B[0m\u001B[34;49mnotice\u001B[0m\u001B[1;39;49m]\u001B[0m\u001B[39;49m To update, run: \u001B[0m\u001B[32;49mpip install --upgrade pip\u001B[0m\r\n",
      "Requirement already satisfied: tensorflow in /Users/carlesgm/lib/python3.11/site-packages (2.13.0)\r\n",
      "Requirement already satisfied: absl-py>=1.0.0 in /Users/carlesgm/lib/python3.11/site-packages (from tensorflow) (1.4.0)\r\n",
      "Requirement already satisfied: astunparse>=1.6.0 in /Users/carlesgm/lib/python3.11/site-packages (from tensorflow) (1.6.3)\r\n",
      "Requirement already satisfied: flatbuffers>=23.1.21 in /Users/carlesgm/lib/python3.11/site-packages (from tensorflow) (23.5.26)\r\n",
      "Requirement already satisfied: gast<=0.4.0,>=0.2.1 in /Users/carlesgm/lib/python3.11/site-packages (from tensorflow) (0.4.0)\r\n",
      "Requirement already satisfied: google-pasta>=0.1.1 in /Users/carlesgm/lib/python3.11/site-packages (from tensorflow) (0.2.0)\r\n",
      "Requirement already satisfied: h5py>=2.9.0 in /Users/carlesgm/lib/python3.11/site-packages (from tensorflow) (3.9.0)\r\n",
      "Requirement already satisfied: libclang>=13.0.0 in /Users/carlesgm/lib/python3.11/site-packages (from tensorflow) (16.0.6)\r\n",
      "Requirement already satisfied: numpy<=1.24.3,>=1.22 in /Users/carlesgm/lib/python3.11/site-packages (from tensorflow) (1.24.3)\r\n",
      "Requirement already satisfied: opt-einsum>=2.3.2 in /Users/carlesgm/lib/python3.11/site-packages (from tensorflow) (3.3.0)\r\n",
      "Requirement already satisfied: packaging in /Users/carlesgm/lib/python3.11/site-packages (from tensorflow) (23.1)\r\n",
      "Requirement already satisfied: protobuf!=4.21.0,!=4.21.1,!=4.21.2,!=4.21.3,!=4.21.4,!=4.21.5,<5.0.0dev,>=3.20.3 in /Users/carlesgm/lib/python3.11/site-packages (from tensorflow) (4.24.1)\r\n",
      "Requirement already satisfied: setuptools in /Users/carlesgm/lib/python3.11/site-packages (from tensorflow) (65.5.1)\r\n",
      "Requirement already satisfied: six>=1.12.0 in /Users/carlesgm/lib/python3.11/site-packages (from tensorflow) (1.16.0)\r\n",
      "Requirement already satisfied: termcolor>=1.1.0 in /Users/carlesgm/lib/python3.11/site-packages (from tensorflow) (2.3.0)\r\n",
      "Requirement already satisfied: typing-extensions<4.6.0,>=3.6.6 in /Users/carlesgm/lib/python3.11/site-packages (from tensorflow) (4.5.0)\r\n",
      "Requirement already satisfied: wrapt>=1.11.0 in /Users/carlesgm/lib/python3.11/site-packages (from tensorflow) (1.15.0)\r\n",
      "Requirement already satisfied: grpcio<2.0,>=1.24.3 in /Users/carlesgm/lib/python3.11/site-packages (from tensorflow) (1.57.0)\r\n",
      "Requirement already satisfied: tensorboard<2.14,>=2.13 in /Users/carlesgm/lib/python3.11/site-packages (from tensorflow) (2.13.0)\r\n",
      "Requirement already satisfied: tensorflow-estimator<2.14,>=2.13.0 in /Users/carlesgm/lib/python3.11/site-packages (from tensorflow) (2.13.0)\r\n",
      "Requirement already satisfied: keras<2.14,>=2.13.1 in /Users/carlesgm/lib/python3.11/site-packages (from tensorflow) (2.13.1)\r\n",
      "Requirement already satisfied: tensorflow-io-gcs-filesystem>=0.23.1 in /Users/carlesgm/lib/python3.11/site-packages (from tensorflow) (0.33.0)\r\n",
      "Requirement already satisfied: wheel<1.0,>=0.23.0 in /Users/carlesgm/lib/python3.11/site-packages (from astunparse>=1.6.0->tensorflow) (0.38.4)\r\n",
      "Requirement already satisfied: google-auth<3,>=1.6.3 in /Users/carlesgm/lib/python3.11/site-packages (from tensorboard<2.14,>=2.13->tensorflow) (2.22.0)\r\n",
      "Requirement already satisfied: google-auth-oauthlib<1.1,>=0.5 in /Users/carlesgm/lib/python3.11/site-packages (from tensorboard<2.14,>=2.13->tensorflow) (1.0.0)\r\n",
      "Requirement already satisfied: markdown>=2.6.8 in /Users/carlesgm/lib/python3.11/site-packages (from tensorboard<2.14,>=2.13->tensorflow) (3.4.4)\r\n",
      "Requirement already satisfied: requests<3,>=2.21.0 in /Users/carlesgm/lib/python3.11/site-packages (from tensorboard<2.14,>=2.13->tensorflow) (2.31.0)\r\n",
      "Requirement already satisfied: tensorboard-data-server<0.8.0,>=0.7.0 in /Users/carlesgm/lib/python3.11/site-packages (from tensorboard<2.14,>=2.13->tensorflow) (0.7.1)\r\n",
      "Requirement already satisfied: werkzeug>=1.0.1 in /Users/carlesgm/lib/python3.11/site-packages (from tensorboard<2.14,>=2.13->tensorflow) (2.3.7)\r\n",
      "Requirement already satisfied: cachetools<6.0,>=2.0.0 in /Users/carlesgm/lib/python3.11/site-packages (from google-auth<3,>=1.6.3->tensorboard<2.14,>=2.13->tensorflow) (5.3.1)\r\n",
      "Requirement already satisfied: pyasn1-modules>=0.2.1 in /Users/carlesgm/lib/python3.11/site-packages (from google-auth<3,>=1.6.3->tensorboard<2.14,>=2.13->tensorflow) (0.3.0)\r\n",
      "Requirement already satisfied: rsa<5,>=3.1.4 in /Users/carlesgm/lib/python3.11/site-packages (from google-auth<3,>=1.6.3->tensorboard<2.14,>=2.13->tensorflow) (4.9)\r\n",
      "Requirement already satisfied: urllib3<2.0 in /Users/carlesgm/lib/python3.11/site-packages (from google-auth<3,>=1.6.3->tensorboard<2.14,>=2.13->tensorflow) (1.26.16)\r\n",
      "Requirement already satisfied: requests-oauthlib>=0.7.0 in /Users/carlesgm/lib/python3.11/site-packages (from google-auth-oauthlib<1.1,>=0.5->tensorboard<2.14,>=2.13->tensorflow) (1.3.1)\r\n",
      "Requirement already satisfied: charset-normalizer<4,>=2 in /Users/carlesgm/lib/python3.11/site-packages (from requests<3,>=2.21.0->tensorboard<2.14,>=2.13->tensorflow) (3.2.0)\r\n",
      "Requirement already satisfied: idna<4,>=2.5 in /Users/carlesgm/lib/python3.11/site-packages (from requests<3,>=2.21.0->tensorboard<2.14,>=2.13->tensorflow) (3.4)\r\n",
      "Requirement already satisfied: certifi>=2017.4.17 in /Users/carlesgm/lib/python3.11/site-packages (from requests<3,>=2.21.0->tensorboard<2.14,>=2.13->tensorflow) (2023.7.22)\r\n",
      "Requirement already satisfied: MarkupSafe>=2.1.1 in /Users/carlesgm/lib/python3.11/site-packages (from werkzeug>=1.0.1->tensorboard<2.14,>=2.13->tensorflow) (2.1.3)\r\n",
      "Requirement already satisfied: pyasn1<0.6.0,>=0.4.6 in /Users/carlesgm/lib/python3.11/site-packages (from pyasn1-modules>=0.2.1->google-auth<3,>=1.6.3->tensorboard<2.14,>=2.13->tensorflow) (0.5.0)\r\n",
      "Requirement already satisfied: oauthlib>=3.0.0 in /Users/carlesgm/lib/python3.11/site-packages (from requests-oauthlib>=0.7.0->google-auth-oauthlib<1.1,>=0.5->tensorboard<2.14,>=2.13->tensorflow) (3.2.2)\r\n",
      "\r\n",
      "\u001B[1m[\u001B[0m\u001B[34;49mnotice\u001B[0m\u001B[1;39;49m]\u001B[0m\u001B[39;49m A new release of pip available: \u001B[0m\u001B[31;49m22.3.1\u001B[0m\u001B[39;49m -> \u001B[0m\u001B[32;49m23.3.2\u001B[0m\r\n",
      "\u001B[1m[\u001B[0m\u001B[34;49mnotice\u001B[0m\u001B[1;39;49m]\u001B[0m\u001B[39;49m To update, run: \u001B[0m\u001B[32;49mpip install --upgrade pip\u001B[0m\r\n",
      "Collecting tensorflow_datasets\r\n",
      "  Using cached tensorflow_datasets-4.9.4-py3-none-any.whl (5.1 MB)\r\n",
      "Requirement already satisfied: absl-py in /Users/carlesgm/lib/python3.11/site-packages (from tensorflow_datasets) (1.4.0)\r\n",
      "Requirement already satisfied: click in /Users/carlesgm/lib/python3.11/site-packages (from tensorflow_datasets) (8.1.6)\r\n",
      "Collecting dm-tree\r\n",
      "  Using cached dm_tree-0.1.8-cp311-cp311-macosx_10_9_x86_64.whl (115 kB)\r\n",
      "Collecting etils[enp,epath,etree]>=0.9.0\r\n",
      "  Using cached etils-1.6.0-py3-none-any.whl (144 kB)\r\n",
      "Requirement already satisfied: numpy in /Users/carlesgm/lib/python3.11/site-packages (from tensorflow_datasets) (1.24.3)\r\n",
      "Collecting promise\r\n",
      "  Using cached promise-2.3-py3-none-any.whl\r\n",
      "Requirement already satisfied: protobuf>=3.20 in /Users/carlesgm/lib/python3.11/site-packages (from tensorflow_datasets) (4.24.1)\r\n",
      "Requirement already satisfied: psutil in /Users/carlesgm/lib/python3.11/site-packages (from tensorflow_datasets) (5.9.5)\r\n",
      "Requirement already satisfied: requests>=2.19.0 in /Users/carlesgm/lib/python3.11/site-packages (from tensorflow_datasets) (2.31.0)\r\n",
      "Collecting tensorflow-metadata\r\n",
      "  Using cached tensorflow_metadata-1.14.0-py3-none-any.whl (28 kB)\r\n",
      "Requirement already satisfied: termcolor in /Users/carlesgm/lib/python3.11/site-packages (from tensorflow_datasets) (2.3.0)\r\n",
      "Requirement already satisfied: toml in /Users/carlesgm/lib/python3.11/site-packages (from tensorflow_datasets) (0.10.2)\r\n",
      "Requirement already satisfied: tqdm in /Users/carlesgm/lib/python3.11/site-packages (from tensorflow_datasets) (4.66.1)\r\n",
      "Requirement already satisfied: wrapt in /Users/carlesgm/lib/python3.11/site-packages (from tensorflow_datasets) (1.15.0)\r\n",
      "Collecting fsspec\r\n",
      "  Using cached fsspec-2023.12.2-py3-none-any.whl (168 kB)\r\n",
      "Collecting importlib_resources\r\n",
      "  Using cached importlib_resources-6.1.1-py3-none-any.whl (33 kB)\r\n",
      "Requirement already satisfied: typing_extensions in /Users/carlesgm/lib/python3.11/site-packages (from etils[enp,epath,etree]>=0.9.0->tensorflow_datasets) (4.5.0)\r\n",
      "Requirement already satisfied: zipp in /Users/carlesgm/lib/python3.11/site-packages (from etils[enp,epath,etree]>=0.9.0->tensorflow_datasets) (3.16.2)\r\n",
      "Requirement already satisfied: charset-normalizer<4,>=2 in /Users/carlesgm/lib/python3.11/site-packages (from requests>=2.19.0->tensorflow_datasets) (3.2.0)\r\n",
      "Requirement already satisfied: idna<4,>=2.5 in /Users/carlesgm/lib/python3.11/site-packages (from requests>=2.19.0->tensorflow_datasets) (3.4)\r\n",
      "Requirement already satisfied: urllib3<3,>=1.21.1 in /Users/carlesgm/lib/python3.11/site-packages (from requests>=2.19.0->tensorflow_datasets) (1.26.16)\r\n",
      "Requirement already satisfied: certifi>=2017.4.17 in /Users/carlesgm/lib/python3.11/site-packages (from requests>=2.19.0->tensorflow_datasets) (2023.7.22)\r\n",
      "Requirement already satisfied: six in /Users/carlesgm/lib/python3.11/site-packages (from promise->tensorflow_datasets) (1.16.0)\r\n",
      "Collecting googleapis-common-protos<2,>=1.52.0\r\n",
      "  Using cached googleapis_common_protos-1.62.0-py2.py3-none-any.whl (228 kB)\r\n",
      "Collecting protobuf>=3.20\r\n",
      "  Using cached protobuf-3.20.3-py2.py3-none-any.whl (162 kB)\r\n",
      "Installing collected packages: dm-tree, protobuf, promise, importlib_resources, fsspec, etils, googleapis-common-protos, tensorflow-metadata, tensorflow_datasets\r\n",
      "  Attempting uninstall: protobuf\r\n",
      "    Found existing installation: protobuf 4.24.1\r\n",
      "    Uninstalling protobuf-4.24.1:\r\n",
      "      Successfully uninstalled protobuf-4.24.1\r\n",
      "\u001B[31mERROR: pip's dependency resolver does not currently take into account all the packages that are installed. This behaviour is the source of the following dependency conflicts.\r\n",
      "ortools 9.7.2996 requires protobuf>=4.23.3, but you have protobuf 3.20.3 which is incompatible.\u001B[0m\u001B[31m\r\n",
      "\u001B[0mSuccessfully installed dm-tree-0.1.8 etils-1.6.0 fsspec-2023.12.2 googleapis-common-protos-1.62.0 importlib_resources-6.1.1 promise-2.3 protobuf-3.20.3 tensorflow-metadata-1.14.0 tensorflow_datasets-4.9.4\r\n",
      "\r\n",
      "\u001B[1m[\u001B[0m\u001B[34;49mnotice\u001B[0m\u001B[1;39;49m]\u001B[0m\u001B[39;49m A new release of pip available: \u001B[0m\u001B[31;49m22.3.1\u001B[0m\u001B[39;49m -> \u001B[0m\u001B[32;49m23.3.2\u001B[0m\r\n",
      "\u001B[1m[\u001B[0m\u001B[34;49mnotice\u001B[0m\u001B[1;39;49m]\u001B[0m\u001B[39;49m To update, run: \u001B[0m\u001B[32;49mpip install --upgrade pip\u001B[0m\r\n"
     ]
    }
   ],
   "source": [
    "# Instalem les llibreries necessàries\n",
    "\n",
    "!pip install keras\n",
    "!pip install tensorflow\n",
    "!pip install tensorflow_datasets"
   ],
   "metadata": {
    "collapsed": false,
    "ExecuteTime": {
     "end_time": "2024-01-24T11:56:50.943374Z",
     "start_time": "2024-01-24T11:56:23.465806Z"
    }
   },
   "id": "9987ceaeb8f560be",
   "execution_count": 1
  },
  {
   "cell_type": "code",
   "outputs": [],
   "source": [
    "import keras\n",
    "import tensorflow as tf\n",
    "import tensorflow_datasets as tfds\n",
    "\n",
    "# En aquest tutorial, entrenarem molts models. Per utilitzar la memòria de la GPU de forma eficient,\n",
    "# configurarem tensorflow perquè creixi la memòria de la GPU quan sigui necessari.\n",
    "physical_devices = tf.config.list_physical_devices('GPU')\n",
    "if len(physical_devices) > 0:\n",
    "    tf.config.experimental.set_memory_growth(physical_devices[0], True)\n",
    "\n",
    "# Carreguem el dataset. Es descarregarà automàticament i es guardarà a la carpeta\n",
    "# /home/USUARI/tensorflow_datasets/ag_news_subset/1.0.0\n",
    "dataset = tfds.load('ag_news_subset')"
   ],
   "metadata": {
    "collapsed": false,
    "ExecuteTime": {
     "end_time": "2024-01-24T11:57:04.218018Z",
     "start_time": "2024-01-24T11:56:50.954479Z"
    }
   },
   "id": "a6b60a6618dbd12a",
   "execution_count": 2
  },
  {
   "cell_type": "markdown",
   "source": [
    "Automáticament, la funció `load` ha dividit el dataset en dos conjunts: un de train i un de test. Per accedir a aquests conjunts, utilitzarem els atributs `train` i `test` de l'objecte `dataset`. Aquests atributs són objectes `tf.data.Dataset` que contenen els exemples i les etiquetes del conjunt d'entrenament i de test. Per accedir als exemples i les etiquetes, utilitzarem els atributs `data` i `label` de l'objecte `tf.data.Dataset`."
   ],
   "metadata": {
    "collapsed": false
   },
   "id": "ba463cc1c41c1298"
  },
  {
   "cell_type": "code",
   "outputs": [
    {
     "name": "stdout",
     "output_type": "stream",
     "text": [
      "Nombre d'exemples de train: 120000\n",
      "Nombre d'exemples de test: 7600\n"
     ]
    }
   ],
   "source": [
    "# Separem el dataset en conjunt d'entrenament i de test\n",
    "ds_train = dataset['train']\n",
    "ds_test = dataset['test']\n",
    "# Vejam quants exemples hi ha en cada conjunt\n",
    "print('Nombre d\\'exemples de train:', len(ds_train))\n",
    "print('Nombre d\\'exemples de test:', len(ds_test))"
   ],
   "metadata": {
    "collapsed": false,
    "ExecuteTime": {
     "end_time": "2024-01-24T11:57:04.237928Z",
     "start_time": "2024-01-24T11:57:04.224379Z"
    }
   },
   "id": "3ca34052cf84fbd8",
   "execution_count": 3
  },
  {
   "cell_type": "markdown",
   "source": [
    "Imprimim els primers 5 exemples del conjunt d'entrenament. Com podem veure, cada exemple és una notícia i la seva etiqueta."
   ],
   "metadata": {
    "collapsed": false
   },
   "id": "f3645de832fbdacf"
  },
  {
   "cell_type": "code",
   "outputs": [
    {
     "name": "stdout",
     "output_type": "stream",
     "text": [
      "3 (Sci/Tech) -> b'AMD Debuts Dual-Core Opteron Processor' b'AMD #39;s new dual-core Opteron chip is designed mainly for corporate computing applications, including databases, Web services, and financial transactions.'\n",
      "1 (Sports) -> b\"Wood's Suspension Upheld (Reuters)\" b'Reuters - Major League Baseball\\\\Monday announced a decision on the appeal filed by Chicago Cubs\\\\pitcher Kerry Wood regarding a suspension stemming from an\\\\incident earlier this season.'\n",
      "2 (Business) -> b'Bush reform may have blue states seeing red' b'President Bush #39;s  quot;revenue-neutral quot; tax reform needs losers to balance its winners, and people claiming the federal deduction for state and local taxes may be in administration planners #39; sights, news reports say.'\n",
      "3 (Sci/Tech) -> b\"'Halt science decline in schools'\" b'Britain will run out of leading scientists unless science education is improved, says Professor Colin Pillinger.'\n",
      "1 (Sports) -> b'Gerrard leaves practice' b'London, England (Sports Network) - England midfielder Steven Gerrard injured his groin late in Thursday #39;s training session, but is hopeful he will be ready for Saturday #39;s World Cup qualifier against Austria.'\n"
     ]
    },
    {
     "name": "stderr",
     "output_type": "stream",
     "text": [
      "2024-01-24 12:57:04.465042: W tensorflow/core/kernels/data/cache_dataset_ops.cc:854] The calling iterator did not fully read the dataset being cached. In order to avoid unexpected truncation of the dataset, the partially cached contents of the dataset  will be discarded. This can happen if you have an input pipeline similar to `dataset.cache().take(k).repeat()`. You should use `dataset.take(k).cache().repeat()` instead.\n"
     ]
    }
   ],
   "source": [
    "classes = ['World', 'Sports', 'Business', 'Sci/Tech']\n",
    "\n",
    "# Imprimim els primers 5 exemples del conjunt d'entrenament\n",
    "for w in ds_train.take(5):\n",
    "    print(f\"{w['label']} ({classes[w['label']]}) -> {w['title']} {w['description']}\")"
   ],
   "metadata": {
    "collapsed": false,
    "ExecuteTime": {
     "end_time": "2024-01-24T11:57:04.513469Z",
     "start_time": "2024-01-24T11:57:04.242231Z"
    }
   },
   "id": "60e7bededaa593f7",
   "execution_count": 4
  },
  {
   "cell_type": "markdown",
   "source": [
    "## Representació del text\n",
    "\n",
    "Per poder entrenar un model de xarxes neuronals, necessitem representar el text com a vectors de nombres. En aquesta pràctica, utilitzarem la representació Bag-of-Words (BoW) que consisteix en representar cada paraula com un nombre. Aquesta representació és molt senzilla i no té en compte l'ordre de les paraules ni la seva semàntica. Però és una representació que funciona prou bé en molts casos.\n",
    "\n",
    "### Limitem el vocabulari\n",
    "\n",
    "En el dataset, hi ha moltes paraules que apareixen poques vegades. Aquestes paraules no són útils per entrenar el model i només augmenten la dimensionalitat de la representació. Per això, limitarem el vocabulari a les 50.000 paraules més freqüents. \n",
    "\n",
    "Per fer aquest procés utilitzarem la capa `TextVectorization` de `keras`. Aquesta capa ens permetrà convertir el text en seqüències de nombres. A més, ens permetrà limitar el vocabulari i convertir les paraules a minúscules. Per fer-ho, utilitzarem els paràmetres `max_tokens` i `standardize` de la capa `TextVectorization`.\n",
    "\n",
    "> Per construïr el vocabulari, utilitzarem solament 500 notícies del conjunt d'entrenament. Això és perquè el procés de construcció del vocabulari és molt lent i volem reduïr el temps d'execució del tutorial. En un cas real, utilitzaríem totes les notícies del conjunt d'entrenament. Asumim el risc de que alguna paraula del conjunt de test no estigui en el vocabulari i baixe l'accuracy del model; no deuria ser un problema greu de tota manera.\n"
   ],
   "metadata": {
    "collapsed": false
   },
   "id": "8990e6d999d35898"
  },
  {
   "cell_type": "code",
   "outputs": [
    {
     "name": "stderr",
     "output_type": "stream",
     "text": [
      "2024-01-24 12:57:05.568339: W tensorflow/core/kernels/data/cache_dataset_ops.cc:854] The calling iterator did not fully read the dataset being cached. In order to avoid unexpected truncation of the dataset, the partially cached contents of the dataset  will be discarded. This can happen if you have an input pipeline similar to `dataset.cache().take(k).repeat()`. You should use `dataset.take(k).cache().repeat()` instead.\n"
     ]
    }
   ],
   "source": [
    "# Limitem el vocabulari a les 50.000 paraules més freqüents\n",
    "tamany_vocabulari = 50000\n",
    "\n",
    "# Creem la capa TextVectorization\n",
    "# max_tokens: nombre màxim de paraules que tindrà el vocabulari\n",
    "# standardize: funció que s'aplicarà a cada paraula per convertir-la a minúscules\n",
    "# output_mode: 'int' perquè la capa retorni seqüències de nombres (per defecte)\n",
    "vectorize_layer = keras.layers.experimental.preprocessing.TextVectorization(\n",
    "    max_tokens=tamany_vocabulari,\n",
    "    standardize='lower_and_strip_punctuation',\n",
    "    output_mode='int'\n",
    ")\n",
    "\n",
    "# Actualitzem el vocabulari de la capa TextVectorization amb les paraules del conjunt d'entrenament\n",
    "# Per fer-ho, primer creem un dataset amb les notícies del conjunt d'entrenament. Per reduïr el temps d'execució solament treballarem en 500 notícies\n",
    "ds_text = ds_train.take(500).map(lambda article: article['title'] + ' ' + article['description'])\n",
    "\n",
    "# Després, apliquem la capa TextVectorization a aquest dataset per construir el vocabulari\n",
    "vectorize_layer.adapt(ds_text)"
   ],
   "metadata": {
    "collapsed": false,
    "ExecuteTime": {
     "end_time": "2024-01-24T11:57:05.627139Z",
     "start_time": "2024-01-24T11:57:04.519034Z"
    }
   },
   "id": "c5ff0c95e3a816f",
   "execution_count": 5
  },
  {
   "cell_type": "markdown",
   "source": [
    "Ara ja podem accedir al vocabulari de la capa `TextVectorization` utilitzant l'atribut `get_vocabulary`. Aquest atribut retorna una llista amb les paraules del vocabulari. Com podem veure, la capa `TextVectorization` ha convertit les paraules a minúscules i ha eliminat els caràcters de puntuació."
   ],
   "metadata": {
    "collapsed": false
   },
   "id": "29cc57f6e7b54c64"
  },
  {
   "cell_type": "code",
   "outputs": [
    {
     "name": "stdout",
     "output_type": "stream",
     "text": [
      "['', '[UNK]', 'the', 'to', 'a', 'in', 'of', 'and', 'on', 'for']\n",
      "Tamany del vocabulari: 5335\n"
     ]
    }
   ],
   "source": [
    "# Imprimim les 10 primeres paraules del vocabulari\n",
    "print(vectorize_layer.get_vocabulary()[:10])\n",
    "\n",
    "# Imprimim el tamany del vocabulari\n",
    "tamany_vocabulari = len(vectorize_layer.get_vocabulary())\n",
    "print('Tamany del vocabulari:', tamany_vocabulari)"
   ],
   "metadata": {
    "collapsed": false,
    "ExecuteTime": {
     "end_time": "2024-01-24T11:57:05.688769Z",
     "start_time": "2024-01-24T11:57:05.619866Z"
    }
   },
   "id": "60192d946334d282",
   "execution_count": 6
  },
  {
   "cell_type": "markdown",
   "source": [
    "Utilitzant el vectoritzador, podem convertir un text en una seqüència de nombres. Vejam un exemple."
   ],
   "metadata": {
    "collapsed": false
   },
   "id": "e6a2e337bfb751b5"
  },
  {
   "cell_type": "code",
   "outputs": [
    {
     "data": {
      "text/plain": "<tf.Tensor: shape=(5,), dtype=int64, numpy=array([ 35,  17,   4, 675,   1])>"
     },
     "execution_count": 7,
     "metadata": {},
     "output_type": "execute_result"
    }
   ],
   "source": [
    "vectorize_layer('this is a test sentence')"
   ],
   "metadata": {
    "collapsed": false,
    "ExecuteTime": {
     "end_time": "2024-01-24T11:57:05.782036Z",
     "start_time": "2024-01-24T11:57:05.665156Z"
    }
   },
   "id": "8d76842f2477c0f2",
   "execution_count": 7
  },
  {
   "cell_type": "markdown",
   "source": [
    "## Representació Bag-of-Words\n",
    "\n",
    "Encara que el significat de les paraules no és fàcil de deduir sense poder accedir al context, en alguns casos, la representació Bag-of-Words pot ser útil. Per exemple, en el text d'una notícia, la paraula `covid` pot ser un bon indicador que la notícia parla sobre la pandèmia de la COVID-19 i la paraula `snow` pot ser un bon indicador que la notícia parla sobre el temps atmosfèric.\n",
    "\n",
    "De les tècniques clàssiques de vectorització de text, la més senzilla és la representació Bag-of-Words (BoW). En aquesta representació, cada paraula es representa com un nombre. Per convertir un text en una representació BoW, primer creem un vector amb tants zeros com paraules hi ha en el vocabulari. Després, per cada paraula del text, incrementem en 1 el valor de la posició corresponent al vector. Per exemple, si el text és `this sentence is a test sentence`, el vector resultant seria `[1, 2, 1, 1, 0, 0, 0, 0, 0, 0, ...]`.\n",
    "\n",
    "Si recordem la representació one-hot, veurem que la representació BoW és molt similar. La diferència és que la representació one-hot serà una sèrie de vectors amb un sol 1 i la resta de valors a 0. En canvi, la representació BoW serà un vector amb tants 1 com vegades apareixi cada paraula. Podem considerar que la representació BoW seria la suma de vectors one-hot.\n",
    "\n",
    "Per exemple, si el text és `this sentence is a test sentence`, el vector one-hot de la primera paraula seria `[1, 0, 0, 0, 0, 0, 0, 0, 0, 0, ...]` i el vector one-hot de la segona paraula seria `[0, 1, 0, 0, 0, 0, 0, 0, 0, 0, ...]`. La representació BoW seria la suma d'aquests dos vectors: `[1, 1, 0, 0, 0, 0, 0, 0, 0, 0, ...]`.\n",
    "\n",
    "Per generar una representació BoW, utilitzarem aquesta tècnica per convertir cada paraula en un vector one-hot i després sumarem tots els vectors. Per fer-ho, utilitzarem la funció `to_bow` que crearem a continuació. Aquesta funció rep un text i retorna un vector amb la representació BoW del text."
   ],
   "metadata": {
    "collapsed": false
   },
   "id": "89259e6a26a7e3ac"
  },
  {
   "cell_type": "code",
   "outputs": [
    {
     "data": {
      "text/plain": "array([0., 5., 0., ..., 0., 0., 0.], dtype=float32)"
     },
     "execution_count": 8,
     "metadata": {},
     "output_type": "execute_result"
    }
   ],
   "source": [
    "def to_bow(text):\n",
    "    return tf.reduce_sum(tf.one_hot(vectorize_layer(text), tamany_vocabulari), axis=0)\n",
    "\n",
    "\n",
    "to_bow('My dog likes hot dogs on a hot day.').numpy()"
   ],
   "metadata": {
    "collapsed": false,
    "ExecuteTime": {
     "end_time": "2024-01-24T11:57:05.850037Z",
     "start_time": "2024-01-24T11:57:05.757995Z"
    }
   },
   "id": "9d57f10bba32951f",
   "execution_count": 8
  },
  {
   "cell_type": "markdown",
   "source": [
    "### Entrenament del model de classificació BoW\n",
    "\n",
    "Per entrenar el model de classificació, utilitzarem la capa `TextVectorization` per convertir el text en una representació BoW. Després, utilitzarem una capa `Dense` per classificar el text. Aquesta capa és una xarxa neuronal totalment connectada amb una capa d'entrada i una capa de sortida. La capa d'entrada tindrà tants neurones com paraules hi hagi en el vocabulari i la capa de sortida tindrà tantes neurones com classes hi hagi en el problema. En aquest cas, la capa de sortida tindrà 4 neurones perquè el problema té 4 classes.\n",
    "\n",
    "### Representació BoW\n",
    "\n",
    "Convertim el text en la representació BoW utilitzant la funció `to_bow` que hem creat abans. Aquesta funció rep un text i retorna un vector amb la representació BoW del text.\n",
    "\n",
    "Utilitzarem la funció `map` de `tf.data.Dataset` per aplicar la funció `to_bow` a cada exemple del dataset. Aquesta funció retorna un nou dataset amb els exemples transformats. Després, utilitzarem la funció `batch` per agrupar els exemples en lots de 128 exemples i optimitzar el procés d'entrenament."
   ],
   "metadata": {
    "collapsed": false
   },
   "id": "f83bb2a026a54a15"
  },
  {
   "cell_type": "code",
   "outputs": [],
   "source": [
    "batch_size = 128\n",
    "\n",
    "ds_train_bow = ds_train.map(lambda x: (to_bow(x['title'] + ' ' + x['description']), x['label'])).batch(batch_size)\n",
    "ds_test_bow = ds_test.map(lambda x: (to_bow(x['title'] + ' ' + x['description']), x['label'])).batch(batch_size)"
   ],
   "metadata": {
    "collapsed": false,
    "ExecuteTime": {
     "end_time": "2024-01-24T11:57:06.192009Z",
     "start_time": "2024-01-24T11:57:05.800531Z"
    }
   },
   "id": "675f6b3ef8620ec0",
   "execution_count": 9
  },
  {
   "cell_type": "markdown",
   "source": [
    "### Model de classificació\n",
    "\n",
    "Per crear el model de classificació, utilitzarem la classe `Sequential` de `keras`. Aquesta classe ens permet crear models seqüencials de forma senzilla. Per crear el model, li passarem una llista amb les capes que volem afegir al model. \n",
    "\n",
    "En aquest cas, el model tindrà una capa `Dense` amb 4 neurones perquè el problema té 4 classes i tantes neurones d'entrada com paraules hi hagi en el vocabulari (`input_shape=(tamany_vocabulari,)`). Aquesta capa tindrà una funció d'activació `softmax` perquè volem que la sortida del model sigui una distribució de probabilitats sobre les classes. \n",
    "\n",
    "Per entrenar el model, utilitzarem l'optimitzador `Adam` (ja que és un dels optimitzadors més utilitzats) i la funció de cost `SparseCategoricalCrossentropy` (ja que tenim un problema de classificació amb més de dues classes). Per compilar el model, utilitzarem la funció `compile` i li passarem l'optimitzador i la funció de cost. A més, li passarem la llista de mètriques que volem calcular durant l'entrenament. En aquest cas, volem calcular l'accuracy.\n",
    "\n",
    "Per últim, entrenarem el model utilitzant la funció `fit` i li passarem el dataset d'entrenament i el dataset de validació. Aquesta funció entrenarà el model i calcularà l'accuracy del model en el dataset de validació a cada època. Així, podrem veure com evoluciona l'accuracy del model durant l'entrenament."
   ],
   "metadata": {
    "collapsed": false
   },
   "id": "8e85d6ad8ccb956f"
  },
  {
   "cell_type": "code",
   "outputs": [
    {
     "name": "stdout",
     "output_type": "stream",
     "text": [
      "938/938 [==============================] - 101s 107ms/step - loss: 0.5926 - accuracy: 0.8492 - val_loss: 0.4160 - val_accuracy: 0.8784\n"
     ]
    },
    {
     "data": {
      "text/plain": "<keras.src.callbacks.History at 0x1626cd650>"
     },
     "execution_count": 10,
     "metadata": {},
     "output_type": "execute_result"
    }
   ],
   "source": [
    "model = keras.Sequential([\n",
    "    keras.layers.Dense(4, input_shape=(tamany_vocabulari,), activation='softmax')\n",
    "])\n",
    "model.compile(optimizer='adam',\n",
    "              loss='sparse_categorical_crossentropy',\n",
    "              metrics=['accuracy'])\n",
    "model.fit(ds_train_bow, validation_data=ds_test_bow)"
   ],
   "metadata": {
    "collapsed": false,
    "ExecuteTime": {
     "end_time": "2024-01-24T11:58:47.961159Z",
     "start_time": "2024-01-24T11:57:06.211669Z"
    }
   },
   "id": "5b26ef926987a1a8",
   "execution_count": 10
  },
  {
   "cell_type": "markdown",
   "source": [
    "El model ha aconseguit una accuracy de més de 0.86 en el conjunt d'entrenament; un nombre prou acceptable tenint en compte que hem simplificat el problema per reduïr el temps d'execució del tutorial. En un cas real, utilitzaríem totes les notícies del conjunt d'entrenament i el model seria més precís."
   ],
   "metadata": {
    "collapsed": false
   },
   "id": "af3230bbc2532904"
  },
  {
   "cell_type": "markdown",
   "source": [
    "### Clasificador com a xarxa neuronal\n",
    "\n",
    "Podem aprofitar que hem definit el vectoritzador com una capa de `keras` per crear un model de classificació com una xarxa neuronal completa. Aixó ens premetrà entrenar el model de classificació i el vectoritzador alhora; així com guardar i carregar el model de classificació i el vectoritzador en un sol fitxer.\n",
    "\n",
    "Crearem un model amb les següents capes:\n",
    "\n",
    "* La capa d'entrada agafrà un string amb el text de la notícia\n",
    "* La capa `TextVectorization` convertirà el text en array d'enters\n",
    "* La capa `one_hot` convertirà l'array d'enters en un array de vectors `one-hot`\n",
    "* La capa `reduce_sum` sumarà els vectors one-hot per obtenir la representació BoW\n",
    "* La capa `Dense` classificarà el text en una de les 4 categories"
   ],
   "metadata": {
    "collapsed": false
   },
   "id": "70afd32c0e143f09"
  },
  {
   "cell_type": "code",
   "outputs": [
    {
     "name": "stdout",
     "output_type": "stream",
     "text": [
      "Model: \"model\"\n",
      "_________________________________________________________________\n",
      " Layer (type)                Output Shape              Param #   \n",
      "=================================================================\n",
      " input_1 (InputLayer)        [(None, 1)]               0         \n",
      "                                                                 \n",
      " text_vectorization (TextVe  (None, None)              0         \n",
      " ctorization)                                                    \n",
      "                                                                 \n",
      " tf.one_hot (TFOpLambda)     (None, None, 5335)        0         \n",
      "                                                                 \n",
      " tf.math.reduce_sum (TFOpLa  (None, 5335)              0         \n",
      " mbda)                                                           \n",
      "                                                                 \n",
      " dense_1 (Dense)             (None, 4)                 21344     \n",
      "                                                                 \n",
      "=================================================================\n",
      "Total params: 21344 (83.38 KB)\n",
      "Trainable params: 21344 (83.38 KB)\n",
      "Non-trainable params: 0 (0.00 Byte)\n",
      "_________________________________________________________________\n"
     ]
    }
   ],
   "source": [
    "def extrau_text(x):\n",
    "    # Concatenem el títol i la descripció de la notícia\n",
    "    return x['title'] + x['description']\n",
    "\n",
    "\n",
    "def dict_a_tupla(x):\n",
    "    # Convertim el diccionari en una tupla amb el text i l'etiqueta\n",
    "    return (extrau_text(x), x['label'])\n",
    "\n",
    "\n",
    "# Creem el model\n",
    "# La capa d'entrada serà un string amb el text de la notícia\n",
    "inp = keras.Input(shape=(1,), dtype=tf.string)\n",
    "\n",
    "# Vectorize_layer retorna un tensor amb un enter per cada paraula del text\n",
    "enters = vectorize_layer(inp)\n",
    "\n",
    "# Convertim el tensor d'enters en un tensor d'arrays one-hot\n",
    "one_hots = tf.one_hot(enters, tamany_vocabulari)\n",
    "\n",
    "# Sumem els vectors one-hot per obtenir la representació BoW\n",
    "bow = tf.reduce_sum(one_hots, axis=1)\n",
    "\n",
    "# Creem la capa de sortida amb 4 neurones i funció d'activació softmax\n",
    "out = keras.layers.Dense(4, activation='softmax')(bow)\n",
    "\n",
    "# Creem el model\n",
    "model = keras.models.Model(inp, out)\n",
    "model.summary()"
   ],
   "metadata": {
    "collapsed": false,
    "ExecuteTime": {
     "end_time": "2024-01-24T11:58:48.099701Z",
     "start_time": "2024-01-24T11:58:47.970833Z"
    }
   },
   "id": "5401e6060eda70d",
   "execution_count": 11
  },
  {
   "cell_type": "markdown",
   "source": [
    "### Entrenament del model\n",
    "\n",
    "Per entrenar el model, utilitzarem la funció `map` de `tf.data.Dataset` per aplicar la funció `dict_a_tupla` a cada exemple del dataset. Aquesta funció retorna un nou dataset amb els exemples transformats. Després, utilitzarem la funció `batch` per agrupar els exemples en lots de 128 exemples i optimitzar el procés d'entrenament."
   ],
   "metadata": {
    "collapsed": false
   },
   "id": "addc3f64b873cdb4"
  },
  {
   "cell_type": "code",
   "outputs": [
    {
     "name": "stdout",
     "output_type": "stream",
     "text": [
      "938/938 [==============================] - 154s 164ms/step - loss: 0.6205 - acc: 0.8381 - val_loss: 0.4456 - val_acc: 0.8658\n"
     ]
    },
    {
     "data": {
      "text/plain": "<keras.src.callbacks.History at 0x162aff450>"
     },
     "execution_count": 12,
     "metadata": {},
     "output_type": "execute_result"
    }
   ],
   "source": [
    "model.compile(loss='sparse_categorical_crossentropy', optimizer='adam', metrics=['acc'])\n",
    "model.fit(ds_train.map(dict_a_tupla).batch(batch_size), validation_data=ds_test.map(dict_a_tupla).batch(batch_size))"
   ],
   "metadata": {
    "collapsed": false,
    "ExecuteTime": {
     "end_time": "2024-01-24T12:01:22.694455Z",
     "start_time": "2024-01-24T11:58:48.096499Z"
    }
   },
   "id": "b79834c5b21cacf9",
   "execution_count": 12
  },
  {
   "cell_type": "markdown",
   "source": [
    "### Generar els Vectors BoW automàticament\n",
    "\n",
    "En el model anterior, hem creat manualment la representació BoW. Això ens ha permès entendre com funciona la representació BoW i com es pot implementar en `keras`. Però, en la pràctica, no cal que creem manualment la representació BoW perquè `keras` ja té una opcio per fer-ho: el paràmetre `output_mode=\"count\"` de la capa `TextVectorization`."
   ],
   "metadata": {
    "collapsed": false
   },
   "id": "f83f187870687fed"
  },
  {
   "cell_type": "code",
   "outputs": [
    {
     "name": "stdout",
     "output_type": "stream",
     "text": [
      "938/938 [==============================] - 12s 12ms/step - loss: 0.6142 - acc: 0.8421 - val_loss: 0.4369 - val_acc: 0.8700\n",
      "Model: \"sequential_1\"\n",
      "_________________________________________________________________\n",
      " Layer (type)                Output Shape              Param #   \n",
      "=================================================================\n",
      " text_vectorization_1 (Text  (None, 5335)              0         \n",
      " Vectorization)                                                  \n",
      "                                                                 \n",
      " dense_2 (Dense)             (None, 4)                 21344     \n",
      "                                                                 \n",
      "=================================================================\n",
      "Total params: 21344 (83.38 KB)\n",
      "Trainable params: 21344 (83.38 KB)\n",
      "Non-trainable params: 0 (0.00 Byte)\n",
      "_________________________________________________________________\n"
     ]
    }
   ],
   "source": [
    "# Creem la xarxa amb la capa TextVectorization\n",
    "model = keras.models.Sequential([\n",
    "    keras.layers.experimental.preprocessing.TextVectorization(max_tokens=tamany_vocabulari, output_mode='count'),\n",
    "    keras.layers.Dense(4, input_shape=(tamany_vocabulari,), activation='softmax')\n",
    "])\n",
    "\n",
    "# Actualitzem el vocabulari de la capa TextVectorization amb les paraules del conjunt d'entrenament\n",
    "model.layers[0].adapt(ds_train.take(500).map(extrau_text))\n",
    "model.compile(loss='sparse_categorical_crossentropy', optimizer='adam', metrics=['acc'])\n",
    "model.fit(ds_train.map(dict_a_tupla).batch(batch_size), validation_data=ds_test.map(dict_a_tupla).batch(batch_size))\n",
    "\n",
    "model.summary()"
   ],
   "metadata": {
    "collapsed": false,
    "ExecuteTime": {
     "end_time": "2024-01-24T12:01:36.942065Z",
     "start_time": "2024-01-24T12:01:22.706456Z"
    }
   },
   "id": "12faff952ab9ac92",
   "execution_count": 13
  },
  {
   "cell_type": "markdown",
   "source": [
    "### N-grames\n",
    "\n",
    "La representació BoW és molt senzilla i no té en compte l'ordre de les paraules ni la seva semàntica. Per això, en alguns casos, la representació BoW pot ser millorada utilitzant n-grames. Un n-grames és una seqüència de n paraules consecutives. Per exemple, en el text `this sentence is a test sentence`, els 2-grames serien `this sentence`, `sentence is`, `is a`, `a test` i `test sentence`.\n",
    "\n",
    "Per generar una representació BoW utilitzant n-grames, veurem una altra forma de generar la representació BoW: `CountVectorizer`. Aquesta funció rep una llista de textos i retorna una matriu on cada fila és un text i cada columna és una paraula del vocabulari. El valor de cada cèl·lula és el nombre de vegades que apareix la paraula en el text. Per exemple, si el text és `this sentence is a test sentence`, el vector BoW seria `[1, 2, 1, 1, 0, 0, 0, 0, 0, 0, ...]` i la matriu BoW seria `[[1, 2, 1, 1, 0, 0, 0, 0, 0, 0, ...]]`."
   ],
   "metadata": {
    "collapsed": false
   },
   "id": "8488dac34f70654a"
  },
  {
   "cell_type": "code",
   "outputs": [
    {
     "name": "stdout",
     "output_type": "stream",
     "text": [
      "Vocabulary:\n",
      " {'i': 7, 'like': 11, 'hot': 4, 'dogs': 2, 'i like': 8, 'like hot': 12, 'hot dogs': 5, 'the': 16, 'dog': 0, 'ran': 14, 'fast': 3, 'the dog': 17, 'dog ran': 1, 'ran fast': 15, 'its': 9, 'outside': 13, 'its hot': 10, 'hot outside': 6}\n"
     ]
    },
    {
     "data": {
      "text/plain": "array([[1, 0, 1, 0, 2, 1, 0, 0, 0, 0, 0, 0, 0, 0, 0, 0, 0, 0]])"
     },
     "execution_count": 14,
     "metadata": {},
     "output_type": "execute_result"
    }
   ],
   "source": [
    "from sklearn.feature_extraction.text import CountVectorizer\n",
    "\n",
    "bigram_vectorizer = CountVectorizer(ngram_range=(1, 2), token_pattern=r'\\b\\w+\\b', min_df=1)\n",
    "corpus = [\n",
    "    'I like hot dogs.',\n",
    "    'The dog ran fast.',\n",
    "    'Its hot outside.',\n",
    "]\n",
    "bigram_vectorizer.fit_transform(corpus)\n",
    "print(\"Vocabulary:\\n\", bigram_vectorizer.vocabulary_)\n",
    "bigram_vectorizer.transform(['My dog likes hot dogs on a hot day.']).toarray()"
   ],
   "metadata": {
    "collapsed": false,
    "ExecuteTime": {
     "end_time": "2024-01-24T12:01:37.792256Z",
     "start_time": "2024-01-24T12:01:36.948562Z"
    }
   },
   "id": "9924e6aece2a7232",
   "execution_count": 14
  },
  {
   "cell_type": "markdown",
   "source": [
    "El major problema dels `n-grames` és que el nombre de n-grames creix molt ràpidament amb n. Per exemple, si tenim un vocabulari de 50.000 paraules, el nombre de 2-grames serà de 2.500.000.000. Per això, en la pràctica, s'han de combinar o substituir per altres tècniques de reducció de dimensionalitat com ara `Word2Vec` o `GloVe`."
   ],
   "metadata": {
    "collapsed": false
   },
   "id": "ad89bd81db01fe1a"
  },
  {
   "cell_type": "markdown",
   "source": [
    "## Representació TF-IDF\n",
    "\n",
    "Una altra representació molt utilitzada en el processament de llenguatge natural és la representació TF-IDF. Aquesta representació té en compte la freqüència de les paraules en el text i en el conjunt de documents. Això permet donar més importància a les paraules que defineixen un text.\n",
    "\n",
    "Dit d'una altra manera, si una paraula apareix moltes vegades en un text però també apareix en altres textos, aquesta paraula no aporta molta informació sobre el text (`and`). En canvi, si una paraula apareix moltes vegades en un text i no apareix tant en altres textos (`covid`), aquesta paraula aporta molta informació sobre el text.\n",
    "\n",
    "Per utilitzar la representació TF-IDF, utilitzarem el paràmetre `output_mode=\"tf-idf\"` de la capa `TextVectorization`. Fer la prova per veure sl'accuracy del model millora un poc."
   ],
   "metadata": {
    "collapsed": false
   },
   "id": "829b25a07a249c81"
  },
  {
   "cell_type": "code",
   "outputs": [
    {
     "name": "stdout",
     "output_type": "stream",
     "text": [
      "938/938 [==============================] - 12s 11ms/step - loss: 0.4270 - acc: 0.8660 - val_loss: 0.3544 - val_acc: 0.8849\n",
      "Model: \"sequential_2\"\n",
      "_________________________________________________________________\n",
      " Layer (type)                Output Shape              Param #   \n",
      "=================================================================\n",
      " text_vectorization_2 (Text  (None, 5335)              1         \n",
      " Vectorization)                                                  \n",
      "                                                                 \n",
      " dense_3 (Dense)             (None, 4)                 21344     \n",
      "                                                                 \n",
      "=================================================================\n",
      "Total params: 21345 (83.38 KB)\n",
      "Trainable params: 21344 (83.38 KB)\n",
      "Non-trainable params: 1 (8.00 Byte)\n",
      "_________________________________________________________________\n"
     ]
    }
   ],
   "source": [
    "# Creem la xarxa amb la capa TextVectorization\n",
    "model = keras.models.Sequential([\n",
    "    keras.layers.experimental.preprocessing.TextVectorization(max_tokens=tamany_vocabulari, output_mode='tf-idf'),\n",
    "    keras.layers.Dense(4, input_shape=(tamany_vocabulari,), activation='softmax')\n",
    "])\n",
    "\n",
    "# Actualitzem el vocabulari de la capa TextVectorization amb les paraules del conjunt d'entrenament\n",
    "model.layers[0].adapt(ds_train.take(500).map(extrau_text))\n",
    "model.compile(loss='sparse_categorical_crossentropy', optimizer='adam', metrics=['acc'])\n",
    "model.fit(ds_train.map(dict_a_tupla).batch(batch_size), validation_data=ds_test.map(dict_a_tupla).batch(batch_size))\n",
    "\n",
    "model.summary()"
   ],
   "metadata": {
    "collapsed": false,
    "ExecuteTime": {
     "end_time": "2024-01-24T12:02:01.217902Z",
     "start_time": "2024-01-24T12:01:37.810188Z"
    }
   },
   "id": "959d9fbd51681493",
   "execution_count": 15
  },
  {
   "cell_type": "markdown",
   "source": [
    "## Representació Word2Vec\n",
    "\n",
    "La representació Word2Vec és una representació molt utilitzada en el processament de llenguatge natural. Aquesta representació té en compte el context de les paraules i permet fer operacions amb les paraules. Per exemple, si restem el vector de la paraula `king` i sumem el vector de la paraula `woman`, obtindrem un vector que serà molt similar al vector de la paraula `queen`.\n",
    "\n",
    "Per generar la representació Word2Vec, utilitzarem la llibreria `gensim`. Aquesta llibreria conté molts models de representació de paraules. En aquest cas, utilitzarem el model `word2vec-google-news-300` que conté la representació Word2Vec de 3 milions de paraules i frases. \n",
    "\n",
    "> La primera vegada que s'executi aquesta cel·la, la funció `load` descarregarà el model d'1.5GB. Això pot trigar uns minuts. Un cop descarregat, el model es guardarà a la carpeta `/home/USUARI/gensim-data/word2vec-google-news-300/word2vec-google-news-300.gz` i no caldrà descarregar-lo de nou.\n",
    "> Aquesta funció retorna un objecte `KeyedVectors` que conté la representació Word2Vec."
   ],
   "metadata": {
    "collapsed": false
   },
   "id": "e5fe580202e44097"
  },
  {
   "cell_type": "code",
   "outputs": [
    {
     "name": "stdout",
     "output_type": "stream",
     "text": [
      "[=-------------------------------------------------] 2.9% 47.5/1662.8MB downloaded"
     ]
    }
   ],
   "source": [
    "import gensim.downloader as api\n",
    "\n",
    "w2v = api.load('word2vec-google-news-300')"
   ],
   "metadata": {
    "collapsed": false,
    "is_executing": true,
    "ExecuteTime": {
     "start_time": "2024-01-24T12:02:01.224897Z"
    }
   },
   "id": "12929ab110408820",
   "execution_count": null
  },
  {
   "cell_type": "markdown",
   "source": [
    "Ara ja podem accedir a la representació Word2Vec de cada paraula. Per exemple, per accedir a la representació de la paraula `king`, utilitzarem la funció `get_vector` de l'objecte `KeyedVectors`."
   ],
   "metadata": {
    "collapsed": false
   },
   "id": "b4b9fa1231614bce"
  },
  {
   "cell_type": "code",
   "outputs": [],
   "source": [
    "w2v.get_vector('king')"
   ],
   "metadata": {
    "collapsed": false,
    "is_executing": true
   },
   "id": "fee703eb5efc219a",
   "execution_count": null
  },
  {
   "cell_type": "markdown",
   "source": [
    "També podem accedir a les paraules més similars a una paraula. Per exemple, per accedir a les paraules més similars a la paraula `king`, utilitzarem la funció `most_similar` de l'objecte `KeyedVectors`."
   ],
   "metadata": {
    "collapsed": false
   },
   "id": "ade1217873948a0"
  },
  {
   "cell_type": "code",
   "outputs": [],
   "source": [
    "for w, p in w2v.most_similar('king'):\n",
    "    print(f\"{w} -> {p}\")"
   ],
   "metadata": {
    "collapsed": false,
    "is_executing": true
   },
   "id": "bffdc3f5aef651db",
   "execution_count": null
  },
  {
   "cell_type": "markdown",
   "source": [
    "El més interessant de la representació Word2Vec és que els vectors tenen una estructura matemàtica que permet fer operacions amb les paraules. Per exemple, si restem el vector de la paraula `king` i sumem el vector de la paraula `woman`, obtindrem un vector que serà molt similar al vector de la paraula `queen`.\n",
    "\n",
    "$$ KING - MAN + WOMAN = QUEEN $$\n",
    "\n",
    "Per fer aquesta operació, utilitzarem la funció `most_similar` de l'objecte `KeyedVectors` i li passarem els vectors de les paraules `king`, `woman` i `man`. Aquesta funció retornarà una llista amb les paraules més similars al vector resultant. Com podem veure, la paraula més similar és `queen`."
   ],
   "metadata": {
    "collapsed": false
   },
   "id": "94fa38ee95af3d11"
  },
  {
   "cell_type": "code",
   "outputs": [],
   "source": [
    "w2v.most_similar(positive=['king', 'woman'], negative=['man'])[0]"
   ],
   "metadata": {
    "collapsed": false,
    "is_executing": true
   },
   "id": "4f79029055681603",
   "execution_count": null
  },
  {
   "cell_type": "code",
   "outputs": [],
   "source": [
    "from keras.src.layers import Embedding\n",
    "\n",
    "\n",
    "def gensim_to_keras_embedding(model, train_embeddings=False):\n",
    "    \"\"\"Get a Keras 'Embedding' layer with weights set from Word2Vec model's learned word embeddings.\n",
    "\n",
    "    Parameters\n",
    "    ----------\n",
    "    train_embeddings : bool\n",
    "        If False, the returned weights are frozen and stopped from being updated.\n",
    "        If True, the weights can / will be further updated in Keras.\n",
    "\n",
    "    Returns\n",
    "    -------\n",
    "    `keras.layers.Embedding`\n",
    "        Embedding layer, to be used as input to deeper network layers.\n",
    "\n",
    "    \"\"\"\n",
    "    keyed_vectors = model  # structure holding the result of training\n",
    "    weights = keyed_vectors.vectors  # vectors themselves, a 2D numpy array    \n",
    "    index_to_key = keyed_vectors.index_to_key  # which row in `weights` corresponds to which word?\n",
    "\n",
    "    layer = Embedding(\n",
    "        input_dim=weights.shape[0],\n",
    "        output_dim=weights.shape[1],\n",
    "        weights=[weights],\n",
    "        trainable=train_embeddings,\n",
    "    )\n",
    "    return layer"
   ],
   "metadata": {
    "collapsed": false,
    "is_executing": true
   },
   "id": "2a73014166e65daf",
   "execution_count": null
  },
  {
   "cell_type": "code",
   "outputs": [],
   "source": [
    "model = keras.models.Sequential([\n",
    "    vectorize_layer,\n",
    "    gensim_to_keras_embedding(w2v, train_embeddings=False),\n",
    "    keras.layers.Lambda(lambda x: tf.reduce_mean(x,axis=1)),\n",
    "    keras.layers.Dense(4, activation='softmax')\n",
    "])\n",
    "model.compile(loss='sparse_categorical_crossentropy',metrics=['acc'])\n",
    "model.fit(ds_train.map(dict_a_tupla).batch(128),validation_data=ds_test.map(dict_a_tupla).batch(128),epochs=5)"
   ],
   "metadata": {
    "collapsed": false,
    "is_executing": true
   },
   "id": "c073aa85513cc244",
   "execution_count": null
  },
  {
   "cell_type": "markdown",
   "source": [
    "El resultat no es molt bo. Això és perquè el model Word2Vec que hem utilitzat no té les paraules que apareixen en el dataset. Per exemple, si busquem la paraula `covid`, veurem que no apareix en el model.\n",
    "\n",
    "Per solucionar aquest problema hauriem d'utilitzar un model Word2Vec entrenat amb les paraules del dataset. Però això és molt lent i no ho farem en aquest tutorial."
   ],
   "metadata": {
    "collapsed": false
   },
   "id": "7754f4cd2c374fd4"
  }
 ],
 "metadata": {
  "kernelspec": {
   "display_name": "Python 3",
   "language": "python",
   "name": "python3"
  },
  "language_info": {
   "codemirror_mode": {
    "name": "ipython",
    "version": 2
   },
   "file_extension": ".py",
   "mimetype": "text/x-python",
   "name": "python",
   "nbconvert_exporter": "python",
   "pygments_lexer": "ipython2",
   "version": "2.7.6"
  }
 },
 "nbformat": 4,
 "nbformat_minor": 5
}
