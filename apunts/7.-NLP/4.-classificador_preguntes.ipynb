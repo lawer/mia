{
 "cells": [
  {
   "cell_type": "markdown",
   "source": [
    "# Classificar preguntes\n",
    "\n",
    "En la pràctica 2 hem vist el procés per convertir un text en una representació numèrica que pugui ser utilitzada per un algorisme d'aprenentatge automàtic. Hem pogut veure diferenets representacions com ara *bag of words*, *TF-IDF* i *word embeddings* i com entrenar una xarxa neuronal per classificar text.\n",
    "\n",
    "En aquesta pràctica hauràs de repetir el procés per classificar preguntes en temàtiques. Utilitzarem el dataset `trec` que conté preguntes en anglès i la seva temàtica. El dataset està disponible en tensorflow datasets com a [trec](https://www.tensorflow.org/datasets/catalog/trec).\n",
    "\n",
    "## Objectius de la pràctica\n",
    "\n",
    "* Reproduir el procés vist en la pràctica 1 per classificar preguntes en temàtiques.\n",
    "* Hauràs de preparar una xarxa neuronal amb keras per classificar les preguntes.\n",
    "* Com a mínim hauràs de provar 3 representacions diferents per convertir el text en una representació numèrica; sent una d'elles **word2vec**\n",
    "* Hauràs de comparar els resultats obtinguts amb les diferents representacions. "
   ],
   "metadata": {
    "collapsed": false
   },
   "id": "e5b020ca3265da72"
  }
 ],
 "metadata": {
  "kernelspec": {
   "display_name": "Python 3",
   "language": "python",
   "name": "python3"
  },
  "language_info": {
   "codemirror_mode": {
    "name": "ipython",
    "version": 2
   },
   "file_extension": ".py",
   "mimetype": "text/x-python",
   "name": "python",
   "nbconvert_exporter": "python",
   "pygments_lexer": "ipython2",
   "version": "2.7.6"
  }
 },
 "nbformat": 4,
 "nbformat_minor": 5
}
