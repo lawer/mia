{
 "cells": [
  {
   "cell_type": "markdown",
   "source": [
    "# Exercicis\n",
    "\n",
    "## Exercici 1\n",
    "\n",
    "Tokenitza el següent text en paraules i en frases. Després, elimina les *stopwords* i les comes del text. Finalment, crea un vector amb la representació *Bag of Words* del text.\n",
    "\n",
    "*Text*: \"El Barça és el millor equip del món. De vegades, però, juga malament.\""
   ],
   "metadata": {
    "collapsed": false
   },
   "id": "b6caca43a0b4a35d"
  },
  {
   "cell_type": "code",
   "outputs": [],
   "source": [],
   "metadata": {
    "collapsed": false
   },
   "id": "eb61c2fcf97abb12"
  },
  {
   "cell_type": "markdown",
   "source": [
    "## Exercici 2\n",
    "\n",
    "Crea un vector amb la representació *TF-IDF* del text de l'exercici anterior."
   ],
   "metadata": {
    "collapsed": false
   },
   "id": "dd119885912268ec"
  },
  {
   "cell_type": "code",
   "outputs": [],
   "source": [],
   "metadata": {
    "collapsed": false
   },
   "id": "5b1af3fea4872dad"
  },
  {
   "cell_type": "markdown",
   "source": [
    "## Exercici 3\n",
    "\n",
    "Crea un vector amb la representació *Word2Vec* del text de l'exercici anterior."
   ],
   "metadata": {
    "collapsed": false
   },
   "id": "c5f1f0688fa4e4fb"
  },
  {
   "cell_type": "code",
   "outputs": [],
   "source": [],
   "metadata": {
    "collapsed": false
   },
   "id": "1b1095f43d5ff126"
  },
  {
   "cell_type": "markdown",
   "source": [
    "## Exercici 4\n",
    "\n",
    "Classifica el següent text utilitzant el classificador *Naive Bayes* que hem entrenat a l'exercici anterior.\n",
    "\n",
    "*Text*: \"I think the app is not working properly.\""
   ],
   "metadata": {
    "collapsed": false
   },
   "id": "fb0208b28868114c"
  },
  {
   "cell_type": "code",
   "outputs": [],
   "source": [],
   "metadata": {
    "collapsed": false
   },
   "id": "357960e3fd0cbbd2"
  }
 ],
 "metadata": {
  "kernelspec": {
   "display_name": "Python 3",
   "language": "python",
   "name": "python3"
  },
  "language_info": {
   "codemirror_mode": {
    "name": "ipython",
    "version": 2
   },
   "file_extension": ".py",
   "mimetype": "text/x-python",
   "name": "python",
   "nbconvert_exporter": "python",
   "pygments_lexer": "ipython2",
   "version": "2.7.6"
  }
 },
 "nbformat": 4,
 "nbformat_minor": 5
}
