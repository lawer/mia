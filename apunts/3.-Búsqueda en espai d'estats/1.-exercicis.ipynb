{
 "cells": [
  {
   "cell_type": "markdown",
   "id": "f85ceec44948585e",
   "metadata": {
    "collapsed": false
   },
   "source": [
    "# Exercicis de búsqueda"
   ]
  },
  {
   "cell_type": "markdown",
   "id": "27e65191a2137ee9",
   "metadata": {
    "collapsed": false
   },
   "source": [
    "## Búsqueda en un graf senzill. \n",
    "\n",
    "En el següent graf hem de trobar el camí més curt entre els nodes 0 i 6. \n",
    "\n",
    "![](https://lawer.github.io/mia/apunts/3.-Búsqueda en espai d'estats/graf.png)"
   ]
  },
  {
   "cell_type": "markdown",
   "id": "885bc7e79663d1dd",
   "metadata": {
    "collapsed": false
   },
   "source": [
    "1. Solament veient el graf, creus que l'algorisme voraç (BFS) trobarà el camí més curt? Per què?"
   ]
  },
  {
   "cell_type": "code",
   "execution_count": null,
   "id": "bfba60f8",
   "metadata": {},
   "outputs": [],
   "source": []
  },
  {
   "cell_type": "markdown",
   "id": "fb2f1719cac21af5",
   "metadata": {
    "collapsed": false
   },
   "source": []
  },
  {
   "cell_type": "markdown",
   "id": "c9bb6e2ef7cc953b",
   "metadata": {
    "collapsed": false
   },
   "source": [
    "2. Utilitzaries DFS per trobar el camí més curt? Per què? I BFS? I Uniform Cost Search?"
   ]
  },
  {
   "cell_type": "markdown",
   "id": "4c86d4b5f336448c",
   "metadata": {
    "collapsed": false
   },
   "source": []
  },
  {
   "cell_type": "markdown",
   "id": "92174b06f6253ccf",
   "metadata": {
    "collapsed": false
   },
   "source": [
    "3. Per a cadascún dels algorismes citats, indica el camí que trobaria i el cost d'aquest camí. "
   ]
  },
  {
   "cell_type": "markdown",
   "id": "8d0a84967ea4736b",
   "metadata": {
    "collapsed": false
   },
   "source": [
    "a) BFS"
   ]
  },
  {
   "cell_type": "markdown",
   "id": "17498373c312eb49",
   "metadata": {
    "collapsed": false
   },
   "source": []
  },
  {
   "cell_type": "markdown",
   "id": "6d35803d2711c91f",
   "metadata": {
    "collapsed": false
   },
   "source": [
    "b) DFS"
   ]
  },
  {
   "cell_type": "markdown",
   "id": "d897baa3de525d39",
   "metadata": {
    "collapsed": false
   },
   "source": []
  },
  {
   "cell_type": "markdown",
   "id": "f4bc169e14cd151c",
   "metadata": {
    "collapsed": false
   },
   "source": [
    "c) Uniform Cost Search"
   ]
  },
  {
   "cell_type": "markdown",
   "id": "4ec328cfec1faac3",
   "metadata": {
    "collapsed": false
   },
   "source": [
    "## Laberint"
   ]
  },
  {
   "cell_type": "code",
   "execution_count": 152,
   "id": "75427f86f302690d",
   "metadata": {
    "ExecuteTime": {
     "end_time": "2023-10-19T17:56:32.840003Z",
     "start_time": "2023-10-19T17:56:28.949560Z"
    },
    "collapsed": false
   },
   "outputs": [
    {
     "name": "stdout",
     "output_type": "stream",
     "text": [
      "Requirement already satisfied: mazelib in /Users/carlesgm/DataspellProjects/Notebooks/venv/lib/python3.11/site-packages (0.9.14)\r\n",
      "Requirement already satisfied: cython<=0.29.32,>=0.27.0 in /Users/carlesgm/DataspellProjects/Notebooks/venv/lib/python3.11/site-packages (from mazelib) (0.29.32)\r\n",
      "Requirement already satisfied: numpy<=1.23.4,>=1.13.1 in /Users/carlesgm/DataspellProjects/Notebooks/venv/lib/python3.11/site-packages (from mazelib) (1.23.4)\r\n",
      "\r\n",
      "\u001b[1m[\u001b[0m\u001b[34;49mnotice\u001b[0m\u001b[1;39;49m]\u001b[0m\u001b[39;49m A new release of pip available: \u001b[0m\u001b[31;49m22.3.1\u001b[0m\u001b[39;49m -> \u001b[0m\u001b[32;49m23.3\u001b[0m\r\n",
      "\u001b[1m[\u001b[0m\u001b[34;49mnotice\u001b[0m\u001b[1;39;49m]\u001b[0m\u001b[39;49m To update, run: \u001b[0m\u001b[32;49mpip install --upgrade pip\u001b[0m\r\n",
      "Note: you may need to restart the kernel to use updated packages.\n"
     ]
    }
   ],
   "source": [
    "# instalem les llibreries necessaries\n",
    "%pip install mazelib"
   ]
  },
  {
   "cell_type": "markdown",
   "id": "11e5de65006a1960",
   "metadata": {
    "collapsed": false
   },
   "source": [
    "1.- Crea un laberint `m` de 4x20 utilitzant mazelib. Teniu exemples a la [documentació de la llibreria](https://github.com/john-science/mazelib/blob/main/docs/API.md).\n",
    "Agrega una celda d'entrada i una de sortida utilitzant el métode `m.generate_entrances()`. LA entrada quedarà en `m.start` i la sortida en `m.end`.\n",
    "Mostra el laberint."
   ]
  },
  {
   "cell_type": "code",
   "execution_count": null,
   "id": "db9253d80c3048e9",
   "metadata": {
    "ExecuteTime": {
     "end_time": "2023-10-26T19:12:05.229911Z",
     "start_time": "2023-10-26T19:12:05.153302Z"
    },
    "collapsed": false
   },
   "outputs": [],
   "source": []
  },
  {
   "cell_type": "markdown",
   "id": "6fdac2047ccb14a4",
   "metadata": {
    "collapsed": false
   },
   "source": [
    "2.- Quin algorisme de búsqueda en grafs utilitzaries per trobar el camí més curt entre la entrada i la sortida? Per què?"
   ]
  },
  {
   "cell_type": "markdown",
   "id": "4d46af37fe97013a",
   "metadata": {
    "collapsed": false
   },
   "source": [
    "    "
   ]
  },
  {
   "cell_type": "markdown",
   "id": "73048e66c3375753",
   "metadata": {
    "collapsed": false
   },
   "source": [
    "3.- Implementa l'algorisme de búsqueda en grafs per trobar el camí més curt entre la entrada i la sortida. Mostra el camí trobat.\n",
    "Pots veure la matriu que representa el laberint amb `m.grid`."
   ]
  },
  {
   "cell_type": "code",
   "execution_count": null,
   "id": "79ea9bee93d00597",
   "metadata": {
    "ExecuteTime": {
     "end_time": "2023-10-26T19:12:05.230954Z",
     "start_time": "2023-10-26T19:12:05.179207Z"
    },
    "collapsed": false
   },
   "outputs": [],
   "source": []
  },
  {
   "cell_type": "markdown",
   "id": "5fe25996b5f3923d",
   "metadata": {
    "collapsed": false
   },
   "source": [
    "4.- Per visualitzar el camí trobat en el laberint, crea la llista `m.solutions`, agrega la ruta a aquesta llista i mostra el laberint."
   ]
  },
  {
   "cell_type": "code",
   "execution_count": null,
   "id": "2d17512414e3910b",
   "metadata": {
    "collapsed": false
   },
   "outputs": [],
   "source": []
  },
  {
   "cell_type": "markdown",
   "id": "5ed54f8f1536646d",
   "metadata": {
    "collapsed": false
   },
   "source": [
    "## Probabilitat de marcar un gol\n",
    "\n",
    "Anem a simular un partit de futbol. \n",
    "\n",
    "Representarem el camp de futbol com un graf amb 12 nodes, un per a cada jugador i un per a la porteria. Els nodes estan connectats si els jugadors poden passar la pilota entre ells. \n",
    "\n",
    "El pes de les arestes és la probabilitat de que el jugador que té la pilota passi la pilota a un altre jugador i anirà baixant a mesura que el jugador que reba la pilota estiga mes prop de la porteria o que el passi siga mes difícil.\n",
    "\n",
    "Has de buscar el camí amb més probabilitat de marcar un gol. Per això, has de trobar el camí amb més probabilitat d'acabar en el node de la porteria.\n",
    "\n",
    "Partint del graf representatcom una matriu d'adjacència, troba el camí amb més probabilitat de marcar un gol."
   ]
  },
  {
   "cell_type": "code",
   "execution_count": 191,
   "id": "5815ea0711a57259",
   "metadata": {
    "ExecuteTime": {
     "end_time": "2023-10-19T19:31:39.244516Z",
     "start_time": "2023-10-19T19:31:39.193017Z"
    },
    "collapsed": false
   },
   "outputs": [],
   "source": [
    "probabilitats = [\n",
    "    [0.0, 0.81, 0.81, 0.88, 0.84, 0.49, 0.56, 0.5, 0.17, 0.29, 0.3, 0.0],\n",
    "    [0.92, 0.0, 0.85, 0.85, 0.83, 0.51, 0.57, 0.49, 0.17, 0.22, 0.22, 0.13],\n",
    "    [0.83, 0.88, 0.0, 0.88, 0.85, 0.5, 0.48, 0.42, 0.15, 0.3, 0.26, 0.17],\n",
    "    [0.92, 0.95, 0.93, 0.0, 0.87, 0.57, 0.53, 0.52, 0.22, 0.29, 0.15, 0.18],\n",
    "    [0.85, 0.94, 0.89, 0.86, 0.0, 0.57, 0.44, 0.52, 0.23, 0.26, 0.26, 0.22],\n",
    "    [0.54, 0.53, 0.51, 0.53, 0.42, 0.0, 0.89, 0.9, 0.44, 0.54, 0.44, 0.46],\n",
    "    [0.46, 0.55, 0.58, 0.44, 0.51, 0.85, 0.0, 0.9, 0.4, 0.57, 0.56, 0.4],\n",
    "    [0.48, 0.55, 0.53, 0.43, 0.51, 0.92, 0.8, 0.0, 0.43, 0.57, 0.57, 0.5],\n",
    "    [0.14, 0.25, 0.22, 0.28, 0.26, 0.42, 0.46, 0.58, 0.0, 0.92, 0.81, 0.0],\n",
    "    [0.24, 0.29, 0.25, 0.11, 0.29, 0.41, 0.42, 0.5, 0.81, 0.0, 0.91, 0.0],\n",
    "    [0.25, 0.17, 0.15, 0.11, 0.19, 0.49, 0.51, 0.5, 0.92, 0.94, 0.0, 0.0],\n",
    "    [0.19, 0.27, 0.21, 0.15, 0.27, 0.45, 0.44, 0.5, 0.82, 0.88, 0.85, 0.0]\n",
    "]"
   ]
  },
  {
   "cell_type": "code",
   "execution_count": null,
   "id": "fb702716bb946df",
   "metadata": {
    "ExecuteTime": {
     "end_time": "2023-10-26T19:14:18.174705Z",
     "start_time": "2023-10-26T19:14:18.082475Z"
    },
    "collapsed": false
   },
   "outputs": [],
   "source": []
  },
  {
   "cell_type": "markdown",
   "id": "d6da13ae500f7163",
   "metadata": {
    "collapsed": false
   },
   "source": [
    "## Búsqueda del tresor\n",
    "\n",
    "Estem al Carib i estem intentant trobar un tresor ocult. Tenim un mapa del tresor que ens diu quins camins podem prendre i a quina distància s'estima que està el tresor, però no és molt precís. Sabem que el mapa mai sobreestimarà la distància al tresor. Hi ha un tresor en dues illes diferents i són equivalents. Només volem / necessitem trobar un tresor. El mapa es mostra en la figura.\n",
    "\n",
    "![](mapa.png)\n",
    "\n",
    "El mapa mostra nou illes escampades per tot arreu. $A$ és l'illa on ens trobem actualment amb el nostre vaixell i els estats vermells són les ubicacions de l'illa del tresor. Les fletxes codifiquen possibles accions de navegació des de cada illa, i els números al costat de les fletxes representen el cost de l'acció en termes de temps. Tingueu en compte que les fletxes estan dirigides; per exemple, $A→C$ és una acció vàlida, però $C→A$ no ho és (per exemple, a causa de forts corrents adversos). \n",
    "\n",
    "Els números mostrats en diamants són valors heurístics que estimen el cost òptim (mínim) per viatjar des d'aquella illa fins a qualsevol tresor.\n",
    "\n",
    "Simula l'execució (o executa en real) dels següents algoritmes de búsqueda en grafs i escriu els nodes que s'afegeixen al conjunt explorat durant el curs de la cerca, així com el _camí final_ retornat i el seu **cost**. \n",
    "\n",
    "Afegeix nodes a la frontera de dreta a esquerra (per exemple, $E$, $D$, $C$ quan s'expandeix $A$). Quan es retira de la frontera, assumeix que els empats es trenquen alfabèticament (per exemple, $A$ aniria abans que $H$)."
   ]
  },
  {
   "cell_type": "markdown",
   "id": "d50ccccefc297532",
   "metadata": {
    "collapsed": false
   },
   "source": [
    "1. DFS. Conjunt explorat? Camí final? Cost?"
   ]
  },
  {
   "cell_type": "markdown",
   "id": "8aeff84fc198cf28",
   "metadata": {
    "collapsed": false
   },
   "source": []
  },
  {
   "cell_type": "markdown",
   "id": "75e7cd39d3a43ed2",
   "metadata": {
    "collapsed": false
   },
   "source": [
    "2. BFS. Conjunt explorat? Camí final? Cost?"
   ]
  },
  {
   "cell_type": "markdown",
   "id": "df7fc1b7897aaa60",
   "metadata": {
    "collapsed": false
   },
   "source": []
  },
  {
   "cell_type": "markdown",
   "id": "62ab2c4b0908d46e",
   "metadata": {
    "collapsed": false
   },
   "source": [
    "3. Uniform Cost Search. Conjunt explorat? Camí final? Cost?"
   ]
  },
  {
   "cell_type": "markdown",
   "id": "eb08ffa15456bddc",
   "metadata": {
    "collapsed": false
   },
   "source": []
  },
  {
   "cell_type": "markdown",
   "id": "e2442209d8a0409e",
   "metadata": {
    "collapsed": false
   },
   "source": [
    "4. Algorisme voraç. Conjunt explorat? Camí final? Cost?"
   ]
  },
  {
   "cell_type": "markdown",
   "id": "94113ad58845436f",
   "metadata": {
    "collapsed": false
   },
   "source": []
  },
  {
   "cell_type": "markdown",
   "id": "17080b6674efde6",
   "metadata": {
    "collapsed": false
   },
   "source": [
    "5. A* amb la funció heurística del diamant. Conjunt explorat? Camí final? Cost?"
   ]
  },
  {
   "cell_type": "markdown",
   "id": "fe2c178b6c3a7b4c",
   "metadata": {
    "collapsed": false
   },
   "source": []
  },
  {
   "cell_type": "markdown",
   "id": "d331632e67bc1a69",
   "metadata": {
    "collapsed": false
   },
   "source": [
    "## Torres de Hanoi\n",
    "\n",
    "![](hanoi.png)\n",
    "\n",
    "El joc de les Torres de Hanoi consisteix en tres bastons i una sèrie de discos de diferents mides que poden desplaçar-se entre els bastons. L'objectiu del joc és moure tots els discs del bastó esquerre al bastó dret seguint les regles següents:\n",
    "\n",
    "1. Només es pot moure un disc a la vegada.\n",
    "2. Només es pot moure el disc superior d'un bastó.\n",
    "3. No es pot col·locar un disc gran sobre un disc petit.\n",
    "\n",
    "Anem a resoldre el problema de les Torres de Hanoi amb un algorisme de cerca en grafs. \n"
   ]
  },
  {
   "cell_type": "markdown",
   "id": "bde97410db66c83d",
   "metadata": {
    "collapsed": false
   },
   "source": [
    "1. Com representaries l'estat del problema?"
   ]
  },
  {
   "cell_type": "markdown",
   "id": "3e81265bc7866455",
   "metadata": {
    "collapsed": false
   },
   "source": []
  },
  {
   "cell_type": "markdown",
   "id": "6a8030d0bdb539ef",
   "metadata": {
    "collapsed": false
   },
   "source": [
    "2. Quins són els estats inicial i final?"
   ]
  },
  {
   "cell_type": "markdown",
   "id": "b05a7490df64c84",
   "metadata": {
    "collapsed": false
   },
   "source": []
  },
  {
   "cell_type": "markdown",
   "id": "6c2385717fd39a8d",
   "metadata": {
    "collapsed": false
   },
   "source": [
    "3. Quines són les accions possibles per un estat donat?"
   ]
  },
  {
   "cell_type": "markdown",
   "id": "54b2bd1ba760d3f7",
   "metadata": {
    "collapsed": false
   },
   "source": []
  },
  {
   "cell_type": "markdown",
   "id": "e0bc3e781f91f1e6",
   "metadata": {
    "collapsed": false
   },
   "source": [
    "4. Quin seria el tamany màxim de l'espai d'estats?"
   ]
  },
  {
   "cell_type": "markdown",
   "id": "8f263f3af83c3646",
   "metadata": {
    "collapsed": false
   },
   "source": []
  },
  {
   "cell_type": "markdown",
   "id": "b0ec6a4658c584fc",
   "metadata": {
    "collapsed": false
   },
   "source": [
    "5. Com verificaries si un estat és l'estat final?"
   ]
  },
  {
   "cell_type": "markdown",
   "id": "d7dac1433d000aed",
   "metadata": {
    "collapsed": false
   },
   "source": []
  },
  {
   "cell_type": "markdown",
   "id": "935fac1e4b2bdd08",
   "metadata": {
    "collapsed": false
   },
   "source": [
    "6. Implementa l'algorisme de cerca en grafs per resoldre el problema de les Torres de Hanoi."
   ]
  },
  {
   "cell_type": "markdown",
   "id": "45cc8656a74d9f9a",
   "metadata": {
    "collapsed": false
   },
   "source": []
  }
 ],
 "metadata": {
  "kernelspec": {
   "display_name": "Python 3",
   "language": "python",
   "name": "python3"
  },
  "language_info": {
   "codemirror_mode": {
    "name": "ipython",
    "version": 2
   },
   "file_extension": ".py",
   "mimetype": "text/x-python",
   "name": "python",
   "nbconvert_exporter": "python",
   "pygments_lexer": "ipython2",
   "version": "2.7.6"
  }
 },
 "nbformat": 4,
 "nbformat_minor": 5
}
