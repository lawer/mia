{
 "cells": [
  {
   "cell_type": "markdown",
   "metadata": {},
   "source": [
    "# Exercici: Rescat en un Parc Nacional\n",
    "\n",
    "Un excursionista s'ha perdut en un parc nacional i un equip de rescat ha d'arribar fins a la seva ubicació de la manera més eficient possible. El parc està dividit en diversos punts de referència, i cada camí entre punts té un cost associat, determinat per factors com la distància, el tipus de terreny i el clima.\n",
    "\n",
    "## Objectiu\n",
    "Trobar el camí de menor cost entre el punt d'inici del rescat i la ubicació de l'excursionista.\n",
    "\n",
    "## Requisits\n",
    "1. **Definir el graf**: Cada punt de referència és un node, i cada camí entre dos punts és una aresta amb un cost associat.\n",
    "2. **Implementar una cerca de cost uniforme o informada** (per exemple, A*) per trobar el camí òptim.\n",
    "3. Comparar els resultats de diferents algoritmes de cerca, com ara la cerca en amplitud, la cerca de cost uniforme, i l'algoritme A*.\n",
    "\n",
    "## Descripció del Graf\n",
    "Per simplificar, definim els nodes del graf com a lletres (per exemple, \"A\", \"B\", \"C\", etc.) i assignem un cost a cada camí. A continuació, es mostra el graf inicial en Python:"
   ]
  },
  {
   "cell_type": "code",
   "execution_count": 2,
   "metadata": {},
   "outputs": [],
   "source": [
    "# Definició del graf amb costos d'acció\n",
    "# Cada clau representa un node i el seu valor és un diccionari amb els nodes veïns i el cost per arribar-hi\n",
    "\n",
    "graf = {\n",
    "    \"A\": {\"B\": 4, \"C\": 3},\n",
    "    \"B\": {\"A\": 4, \"D\": 5, \"E\": 12},\n",
    "    \"C\": {\"A\": 3, \"F\": 7},\n",
    "    \"D\": {\"B\": 5, \"E\": 4, \"G\": 10},\n",
    "    \"E\": {\"B\": 12, \"D\": 4, \"G\": 2, \"H\": 5},\n",
    "    \"F\": {\"C\": 7, \"H\": 6},\n",
    "    \"G\": {\"D\": 10, \"E\": 2, \"I\": 1},\n",
    "    \"H\": {\"E\": 5, \"F\": 6, \"I\": 3},\n",
    "    \"I\": {\"G\": 1, \"H\": 3}\n",
    "}"
   ]
  },
  {
   "cell_type": "code",
   "execution_count": 16,
   "metadata": {},
   "outputs": [
    {
     "name": "stdout",
     "output_type": "stream",
     "text": [
      "['A']\n",
      "['A', 'C']\n",
      "['A', 'B']\n",
      "['A', 'B', 'D']\n",
      "['A', 'C', 'F']\n",
      "['A', 'B', 'D', 'E']\n",
      "['A', 'B', 'D', 'E', 'G']\n",
      "['A', 'B', 'E']\n",
      "['A', 'C', 'F', 'H']\n",
      "['A', 'B', 'D', 'E', 'G', 'I']\n"
     ]
    },
    {
     "data": {
      "text/plain": [
       "['A', 'B', 'D', 'E', 'G', 'I']"
      ]
     },
     "execution_count": 16,
     "metadata": {},
     "output_type": "execute_result"
    }
   ],
   "source": [
    "import queue\n",
    "\n",
    "def ucs(graf, inici, final):\n",
    "    visitats = set()\n",
    "    frontera = queue.PriorityQueue()\n",
    "    frontera.put((0, inici, [inici]))\n",
    "\n",
    "    while not frontera.empty():\n",
    "        cost_actual, node, cami = frontera.get()\n",
    "        print(cami)\n",
    "        \n",
    "        visitats.add(node)\n",
    "\n",
    "        if node == final:\n",
    "            return cost_actual, final, cami\n",
    "        \n",
    "        for desti, cost in graf[node].items():\n",
    "            if desti not in visitats:\n",
    "                frontera.put((cost_actual + cost, desti, cami + [desti]))\n",
    "\n",
    "    return None\n",
    "\n",
    "cost, desti, cami = ucs(graf, \"A\", \"I\")\n",
    "cami"
   ]
  },
  {
   "cell_type": "code",
   "execution_count": null,
   "metadata": {},
   "outputs": [
    {
     "name": "stdout",
     "output_type": "stream",
     "text": [
      "I\n",
      "G\n",
      "E\n",
      "D\n",
      "B\n"
     ]
    }
   ],
   "source": [
    "from dataclasses import dataclass\n",
    "\n",
    "@dataclass\n",
    "class Estat:\n",
    "    node: str = \"\"\n",
    "    pare: 'Estat' = None\n",
    "\n",
    "    def __lt__(self, other):\n",
    "        return self.node < other.node\n",
    "        \n",
    "\n",
    "def ucs_estats(graf, inici, final):\n",
    "    estat_inicial = Estat(inici, None)\n",
    "    visitats = set()\n",
    "    frontera = queue.PriorityQueue()\n",
    "\n",
    "    frontera.put((0, estat_inicial))\n",
    "\n",
    "    while not frontera.empty():\n",
    "        cost_actual, estat = frontera.get()\n",
    "        \n",
    "        node = estat.node\n",
    "        visitats.add(estat.node)\n",
    "\n",
    "        if node == final:\n",
    "            return cost_actual, estat\n",
    "\n",
    "        for desti, cost in graf[node].items():\n",
    "            if desti not in visitats:\n",
    "                nou_estat = Estat(desti, estat)\n",
    "\n",
    "                frontera.put((cost_actual + cost, nou_estat))\n",
    "\n",
    "    return None\n",
    "\n",
    "cost_actual, estat = ucs_estats(graf, \"A\", \"I\")\n",
    "\n",
    "while estat.pare is not None:\n",
    "    print(estat.node)\n",
    "    estat = estat.pare\n"
   ]
  },
  {
   "cell_type": "markdown",
   "metadata": {},
   "source": [
    "## Tasques\n",
    "\n",
    "- **Implementar l'algoritme de cerca** que considerem adequat per trobar el camí de menor cost des de l’inici fins a la destinació.\n",
    "- **Calcular i mostra el camí i el cost total** del recorregut trobat.\n",
    "- **Analitzar els resultats**: Compara la ruta obtinguda amb diferents tipus de cerca, si en proves més d'una (per exemple, cerca de cost uniforme i A*).\n",
    "\n",
    "### Punt de Partida i Destinació\n",
    "\n",
    "- **Punt d'inici**: Node \"A\"\n",
    "- **Punt de destinació** (ubicació de l'excursionista): Node \"I\""
   ]
  },
  {
   "cell_type": "markdown",
   "metadata": {},
   "source": [
    "## Solució\n",
    "\n",
    "En primer lloc implementarem l'algorisme UCS (Uniform Cost Search) per trobar el camí de menor cost entre el punt d'inici i el punt de destinació. De moment no ens preocuparem de reconstruir el camí, simplement ens centrarem en trobar el cost total."
   ]
  },
  {
   "cell_type": "code",
   "execution_count": 9,
   "metadata": {},
   "outputs": [
    {
     "name": "stdout",
     "output_type": "stream",
     "text": [
      "Cost: 16\n",
      "Avaluats: 10\n"
     ]
    }
   ],
   "source": [
    "import queue\n",
    "\n",
    "def ucs(graf, node_inicial, node_final):\n",
    "    # Inicialitzem la llista de nodes visitats\n",
    "    visitats = set()\n",
    "    # Inicialitzem la llista de nodes per visitar\n",
    "    frontera = queue.PriorityQueue()\n",
    "    # Inicialitzem la frontera amb el node inicial\n",
    "    frontera.put((0, node_inicial))\n",
    "    # Per poder comparar els estats avaluats incialitzem avaluats a 0\n",
    "    avaluats = 0\n",
    "\n",
    "    # Mentre la frontera no estigui buida\n",
    "    while not frontera.empty():\n",
    "        # Treiem el node de la frontera\n",
    "        (cost, node) = frontera.get()\n",
    "        # Incrementem el nombre d'estats avaluats\n",
    "        avaluats += 1\n",
    "\n",
    "        # Si el node no ha estat visitat\n",
    "        if node[-1] not in visitats:\n",
    "            # Marquem el node com a visitat\n",
    "            visitats.add(node)\n",
    "\n",
    "            # Si el node és el node final, retornem el camí\n",
    "            if node == node_final:\n",
    "                return node, cost, avaluats\n",
    "\n",
    "            # Afegim els veïns del node a la frontera, cost = ucs(graf, node_inicial, node_final)\n",
    "            for vei, cost_vei in graf[node[-1]].items():\n",
    "                if vei not in visitats:\n",
    "                    frontera.put((cost + cost_vei, vei))\n",
    "\n",
    "    # Si no hi ha camí, retornem None\n",
    "    return None\n",
    "\n",
    "# Exemple d'ús\n",
    "node_inicial = \"A\"\n",
    "node_final = \"I\"\n",
    "\n",
    "final, cost, avaluats = ucs(graf, node_inicial, node_final)\n",
    "print(\"Cost:\", cost)\n",
    "print(\"Avaluats:\", avaluats)"
   ]
  },
  {
   "cell_type": "markdown",
   "metadata": {},
   "source": [
    "Per a poder reconstruir el camí, necessitarem modificar l'algorisme UCS perquè ens retorni el camí complet, no només el cost."
   ]
  },
  {
   "cell_type": "code",
   "execution_count": 10,
   "metadata": {},
   "outputs": [
    {
     "ename": "TypeError",
     "evalue": "unhashable type: 'list'",
     "output_type": "error",
     "traceback": [
      "\u001b[0;31m---------------------------------------------------------------------------\u001b[0m",
      "\u001b[0;31mTypeError\u001b[0m                                 Traceback (most recent call last)",
      "Cell \u001b[0;32mIn[10], line 39\u001b[0m\n\u001b[1;32m     36\u001b[0m node_inicial \u001b[38;5;241m=\u001b[39m \u001b[38;5;124m\"\u001b[39m\u001b[38;5;124mA\u001b[39m\u001b[38;5;124m\"\u001b[39m\n\u001b[1;32m     37\u001b[0m node_final \u001b[38;5;241m=\u001b[39m \u001b[38;5;124m\"\u001b[39m\u001b[38;5;124mI\u001b[39m\u001b[38;5;124m\"\u001b[39m\n\u001b[0;32m---> 39\u001b[0m final, cost, avaluats, cami \u001b[38;5;241m=\u001b[39m \u001b[43mucs_ruta\u001b[49m\u001b[43m(\u001b[49m\u001b[43mgraf\u001b[49m\u001b[43m,\u001b[49m\u001b[43m \u001b[49m\u001b[43mnode_inicial\u001b[49m\u001b[43m,\u001b[49m\u001b[43m \u001b[49m\u001b[43mnode_final\u001b[49m\u001b[43m)\u001b[49m\n",
      "Cell \u001b[0;32mIn[10], line 19\u001b[0m, in \u001b[0;36mucs_ruta\u001b[0;34m(graf, inici, desti)\u001b[0m\n\u001b[1;32m     16\u001b[0m avaluats \u001b[38;5;241m+\u001b[39m\u001b[38;5;241m=\u001b[39m \u001b[38;5;241m1\u001b[39m\n\u001b[1;32m     18\u001b[0m \u001b[38;5;66;03m# Si el node no ha estat visitat\u001b[39;00m\n\u001b[0;32m---> 19\u001b[0m \u001b[38;5;28;01mif\u001b[39;00m \u001b[43mnode\u001b[49m\u001b[43m \u001b[49m\u001b[38;5;129;43;01mnot\u001b[39;49;00m\u001b[43m \u001b[49m\u001b[38;5;129;43;01min\u001b[39;49;00m\u001b[43m \u001b[49m\u001b[43mvisitats\u001b[49m:\n\u001b[1;32m     20\u001b[0m     \u001b[38;5;66;03m# Marquem el node com a visitat\u001b[39;00m\n\u001b[1;32m     21\u001b[0m     visitats\u001b[38;5;241m.\u001b[39madd(node)\n\u001b[1;32m     23\u001b[0m     \u001b[38;5;66;03m# Si el node és el node final, retornem el camí\u001b[39;00m\n",
      "\u001b[0;31mTypeError\u001b[0m: unhashable type: 'list'"
     ]
    }
   ],
   "source": [
    "def ucs_ruta(graf, inici, desti):\n",
    "    # Inicialitzem la llista de nodes visitats\n",
    "    visitats = set()\n",
    "    # Inicialitzem la llista de nodes per visitar\n",
    "    frontera = queue.PriorityQueue()\n",
    "    # Inicialitzem la frontera amb el node inicial, cost = 0 i camí = [node_inicial]\n",
    "    frontera.put((0, [node_inicial], [node_inicial]))\n",
    "    # Per poder comparar els estats avaluats incialitzem avaluats a 0\n",
    "    avaluats = 0\n",
    "\n",
    "    # Mentre la frontera no estigui buida\n",
    "    while not frontera.empty():\n",
    "        # Treiem el node de la frontera\n",
    "        cost, node, cami = frontera.get()\n",
    "        # Incrementem el nombre d'estats avaluats\n",
    "        avaluats += 1\n",
    "\n",
    "        # Si el node no ha estat visitat\n",
    "        if node not in visitats:\n",
    "            # Marquem el node com a visitat\n",
    "            visitats.add(node)\n",
    "\n",
    "            # Si el node és el node final, retornem el camí\n",
    "            if node == desti:\n",
    "                return cami, cost, avaluats, cami\n",
    "\n",
    "            # Afegim els veïns del node a la frontera, cost = ucs(graf, node_inicial, node_final)\n",
    "            for vei, cost_vei in graf[node].items():\n",
    "                if vei not in visitats:\n",
    "                    frontera.put((cost + cost_vei, vei, cami + [vei]))\n",
    "\n",
    "    # Si no hi ha camí, retornem None\n",
    "    return None\n",
    "cost\n",
    "# Exemple d'ús\n",
    "node_inicial = \"A\"\n",
    "node_final = \"I\"\n",
    "\n",
    "final, cost, avaluats, cami = ucs_ruta(graf, node_inicial, node_final)\n"
   ]
  }
 ],
 "metadata": {
  "kernelspec": {
   "display_name": ".venv",
   "language": "python",
   "name": "python3"
  },
  "language_info": {
   "codemirror_mode": {
    "name": "ipython",
    "version": 3
   },
   "file_extension": ".py",
   "mimetype": "text/x-python",
   "name": "python",
   "nbconvert_exporter": "python",
   "pygments_lexer": "ipython3",
   "version": "3.11.10"
  }
 },
 "nbformat": 4,
 "nbformat_minor": 2
}
