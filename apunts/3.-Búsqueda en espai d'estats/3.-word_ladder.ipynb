{
 "cells": [
  {
   "cell_type": "code",
   "execution_count": 1,
   "id": "5fd71ba699151a0f",
   "metadata": {
    "ExecuteTime": {
     "end_time": "2023-10-04T20:21:48.412626Z",
     "start_time": "2023-10-04T20:21:48.390208Z"
    },
    "collapsed": false
   },
   "outputs": [],
   "source": [
    "import collections\n",
    "import gzip\n",
    "import heapq\n",
    "import string"
   ]
  },
  {
   "cell_type": "markdown",
   "id": "47facd32f1502b6d",
   "metadata": {
    "collapsed": false
   },
   "source": [
    "# Búsquedes\n",
    "\n",
    "En aquesta pràctica posarem en pràctica el vist referent a les búsquedes.\n",
    "\n",
    "## Word Ladder\n",
    "\n",
    "En el primer lloc implementarem un joc senzill anomenat Word Ladder, amb les següents regles:\n",
    "\n",
    "Se't donen dues paraules amb el mateix nombre de lletres (utilitzarem paraules de tres i quatre lletres), per exemple, DOG i CAT. El teu objectiu és transformar la primera paraula en la segona substituint una lletra de cada vegada per qualsevol altra lletra, sempre que el resultat sigui una paraula anglesa correcta. Per exemple, podríem canviar DOG per FOG, però no per GOG (no és una paraula anglesa correcta) o per GOD (es van canviar dues lletres). Per tant, una manera d'anar de DOG a CAT podria ser:\n",
    "\n",
    "**DOG => COG => COT => CAT**\n",
    "\n",
    " Hi ha moltes maneres de fer-ho, una altra seria:\n",
    " \n",
    "**DOG => HOG => HOT => HAT => CAT**\n",
    "\n",
    "El joc consisteix a trobar la seqüència més curta de canvis que transformen la primera paraula en la segona. En aquest exercici, utilitzarem un diccionari anglès per comprovar si una paraula és correcta o no. El diccionari el tenim en el fitxer words34.txt.gz, que conté totes les paraules angleses de tres i quatre lletres, una per línia.\n",
    "\n",
    "El joc es pot generalitzar a paraules de qualsevol longitud, però en aquest exercici ens limitarem a paraules de tres i quatre lletres.\n",
    "\n",
    "Definirem tres mesures cost per a l'algorisme de cerca:\n",
    "\n",
    "* **Distància**: el nombre de canvis de lletres que s'han fet fins ara: 0 per a la paraula inicial, 1 per a la segona paraula, etc.\n",
    "    * El cost de **DOG => COG => COT => CAT** és 3.\n",
    "* **Scrabble**: Associem a cada lletra un valor enter, que és el seu valor en el joc Scrabble\n",
    "    * El cost d'utilitzar A, E, I, O, U, L, N, S, T o R és 1\n",
    "    * El cost de D o G és 2\n",
    "    * El cost de B, C, M o P és 3\n",
    "    * El cost de F, H, V, W o Y és 4\n",
    "    * El cost de K és 5\n",
    "    * El cost de J o X és 8\n",
    "    * El cost de Q o Z és 10.    \n",
    "    * El cost de **DOG => COG => COT => CAT** és 3 + 1 + 1 = 5.\n",
    "* **Raresa**: El tercer cost està basat en com de comú és una paraula després de la primera. La idea es que passar a una paraula molt rara deuria ser més car que passar a una molt comuna. Proporcionarem una llista de les paraules en anglès més frequents i la seva **freqüència relativa.**\n",
    "    * El cost de la seqüència **DOG => JOG => JOT => COT => CAT** es calcula com 1+R per a cada pas on R és la mesura de com de rara és la paraula introduïda pel pas. Mirant el words34.txt.gz amb la comanda Unix zmore trobem entrades incloent les següents:\n",
    "        ```\n",
    "        jog  10.052741\n",
    "        jot  11.177437\n",
    "        cot  10.071238\n",
    "        cat   6.886906\n",
    "        ```\n",
    "        així que el cost és 4 més la suma dels punts, o 42.188322."
   ]
  },
  {
   "cell_type": "markdown",
   "id": "ff34282202f666ef",
   "metadata": {
    "collapsed": false
   },
   "source": [
    "### Que hem de fer?\n",
    "\n",
    "#### Funcions de suport\n",
    "\n",
    "1. Implementar una funció **read_words(filename)** que llegeixi el fitxer de paraules i retorni un conjunt Python amb les paraules que hi ha al fitxer i la seva freqüència relativa.\n",
    "\n",
    "\n",
    "    Crea un conjunt anomenat `words` amb les paraules de `words34.txt.gz` (el pots baixar de [https://raw.githubusercontent.com/UMBC-CMSC-471-2-S21/hw2-starter/refs/heads/master/words34.txt.gz](https://raw.githubusercontent.com/UMBC-CMSC-471-2-S21/hw2-starter/refs/heads/master/words34.txt.gz)).\n"
   ]
  },
  {
   "cell_type": "code",
   "execution_count": 2,
   "id": "a2d698798ea95ef0",
   "metadata": {
    "ExecuteTime": {
     "end_time": "2023-09-16T21:40:07.423870Z",
     "start_time": "2023-09-16T21:40:07.408667Z"
    },
    "collapsed": false
   },
   "outputs": [],
   "source": [
    "def read_words(filename):\n",
    "    \"\"\"Read all words from filename; return a set of the words.\"\"\"\n",
    "    pass"
   ]
  },
  {
   "cell_type": "code",
   "execution_count": 3,
   "id": "252ec1ff00a721f5",
   "metadata": {
    "ExecuteTime": {
     "end_time": "2023-09-16T21:40:07.477768Z",
     "start_time": "2023-09-16T21:40:07.423364Z"
    },
    "collapsed": false
   },
   "outputs": [],
   "source": [
    "words = read_words('words34.txt.gz')"
   ]
  },
  {
   "cell_type": "markdown",
   "id": "9a7ce33f68223ccf",
   "metadata": {
    "collapsed": false
   },
   "source": [
    "2. Implementar una funció **word2key(word)** que retorni una cadena de caràcters que serveixi com a clau per a la paraula word. La clau ha de ser una cadena de caràcters que tingui el mateix nombre de caràcters que word, però amb els caràcters ordenats alfabèticament. Per exemple, la clau de \"cat\" és \"act\" i la clau de \"dog\" és \"dgo\". Aquesta funció ens permetrà agrupar les paraules en el diccionari segons la seva clau, i així només caldrà comprovar si una paraula és correcta o no amb les paraules que tenen la mateixa clau."
   ]
  },
  {
   "cell_type": "code",
   "execution_count": null,
   "id": "4e602bf746b207b8",
   "metadata": {
    "collapsed": false
   },
   "outputs": [],
   "source": [
    "def word2key(word):\n",
    "    \"\"\"Return a string with the letters of word sorted.\"\"\"\n",
    "    pass\n",
    "\n",
    "word2key('cat')"
   ]
  },
  {
   "cell_type": "markdown",
   "id": "40c96e62175d78",
   "metadata": {
    "collapsed": false
   },
   "source": [
    "3. Implementar una funció **build_dict(words)** que construeixi un diccionari Python que contingui com a clau les claus de les paraules i com a valor un conjunt Python amb les paraules que tenen aquesta clau. Per exemple, si el diccionari té la clau \"act\", el seu valor serà el conjunt amb les paraules \"act\", \"cat\" i \"tac\" i les seves respectives freqüències.\n",
    "\n",
    "    Crea un diccionari de paraules i freqüències anomenat `words_dict`"
   ]
  },
  {
   "cell_type": "code",
   "execution_count": 5,
   "id": "5fb2729f24ab49be",
   "metadata": {
    "ExecuteTime": {
     "end_time": "2023-09-16T21:40:07.521424Z",
     "start_time": "2023-09-16T21:40:07.513390Z"
    },
    "collapsed": false
   },
   "outputs": [],
   "source": [
    "def build_dict(words):\n",
    "    \"\"\"Return a dictionary that groups words by their key.\"\"\"\n",
    "    pass\n",
    "\n",
    "\n",
    "words_dict = build_dict(words)"
   ]
  },
  {
   "cell_type": "markdown",
   "id": "731bad796f68eeec",
   "metadata": {
    "collapsed": false
   },
   "source": [
    "#### Definició del problema\n",
    "\n",
    "4. Utilitzem la classe `Problema` per implementar la classe de problema `WordLadderDistancia`, definint els métodes necessaris per a fer-ho funcionar.\n",
    "    Crea una instància del problema anomenada `wordladder_distancia`"
   ]
  },
  {
   "cell_type": "code",
   "execution_count": 6,
   "id": "245177338574e49b",
   "metadata": {
    "ExecuteTime": {
     "end_time": "2023-09-16T21:40:07.539421Z",
     "start_time": "2023-09-16T21:40:07.527841Z"
    },
    "collapsed": false
   },
   "outputs": [],
   "source": [
    "class Problema(object):\n",
    "    \"\"\"Aquesta és la classe abstracta per a un problema formal. Una nova àrea crea una subclasse d'aquesta, sobrescrivint `accions` i `accio`, i potser altres mètodes.\n",
    "    L'heurística per defecte és 0 i el cost d'acció per defecte és 1 per a tots els estats.\n",
    "    Quan crees una instància d'una subclasse, especifica els estats `inicial` i `final`\n",
    "    (o proporciona un mètode `es_resultat`) i potser altres arguments de paraula clau per a la subclasse.\"\"\"\n",
    "\n",
    "    def __init__(self, inicial=None, final=None, **kwds):\n",
    "        self.__dict__.update(inicial=inicial, final=final, **kwds)\n",
    "\n",
    "    def accions(self, state):         raise NotImplementedError\n",
    "\n",
    "    def accio(self, state, action):   raise NotImplementedError\n",
    "\n",
    "    def es_resultat(self, state):     return state == self.final\n",
    "\n",
    "    def cost_accio(self, s, a, s1):   return 1\n",
    "\n",
    "    def h(self, estat):               return 0\n",
    "\n",
    "    def __str__(self):\n",
    "        return '{}({!r}, {!r})'.format(\n",
    "            type(self).__name__, self.inicial, self.final)"
   ]
  },
  {
   "cell_type": "code",
   "execution_count": 7,
   "id": "c581fd75fcfb37c6",
   "metadata": {
    "ExecuteTime": {
     "end_time": "2023-09-16T21:40:07.651118Z",
     "start_time": "2023-09-16T21:40:07.545913Z"
    },
    "collapsed": false
   },
   "outputs": [],
   "source": [
    "class WordLadderDistancia(Problema):\n",
    "    pass"
   ]
  },
  {
   "cell_type": "markdown",
   "id": "97664c98fb62f20a",
   "metadata": {
    "collapsed": false
   },
   "source": [
    "#### Algorismes de cerca no informada\n",
    "\n",
    "6. Tenint en compte que el cost de cada acció serà **1** dedueix quin algorime hauries d'implementar per solucionar `wordladder_distancia`. Implementa'l i comprova que troba la solució correcta."
   ]
  },
  {
   "cell_type": "code",
   "execution_count": 8,
   "id": "4c26c787f43ca2c5",
   "metadata": {
    "ExecuteTime": {
     "end_time": "2023-09-16T21:40:07.671131Z",
     "start_time": "2023-09-16T21:40:07.566764Z"
    },
    "collapsed": false
   },
   "outputs": [],
   "source": [
    "def algo_busqueda(problema):\n",
    "    pass\n"
   ]
  },
  {
   "cell_type": "code",
   "execution_count": null,
   "id": "fb46a7091a2288b2",
   "metadata": {
    "collapsed": false
   },
   "outputs": [],
   "source": [
    "wordladder_distancia = WordLadderDistancia(inicial=\"dog\", final=\"cat\")\n",
    "algo_busqueda(wordladder_distancia)"
   ]
  },
  {
   "cell_type": "markdown",
   "id": "3e113c94130e6c01",
   "metadata": {
    "collapsed": false
   },
   "source": [
    "6. P: Quin algorisme has implementat? Per què?\n",
    "    R: \n"
   ]
  },
  {
   "cell_type": "markdown",
   "id": "df9c49a4cdb818f2",
   "metadata": {
    "collapsed": false
   },
   "source": [
    "### Funcions de cost i heurístiques"
   ]
  },
  {
   "cell_type": "markdown",
   "id": "c89f8059dc3190ad",
   "metadata": {
    "collapsed": false
   },
   "source": [
    "7. Defineix una classe `WordLadderScrabble` que hereti de `WordLadderDistancia` i que implementi la funció de cost Scrabble. Crea una instància anomenada `wordladder_scrabble`."
   ]
  },
  {
   "cell_type": "code",
   "execution_count": null,
   "id": "1cb74340b4e6d347",
   "metadata": {
    "collapsed": false
   },
   "outputs": [],
   "source": []
  },
  {
   "cell_type": "markdown",
   "id": "91055a13e24a68c7",
   "metadata": {
    "collapsed": false
   },
   "source": [
    "8. Implementa un algorisme que puga solucionar el problema `wordladder_scrabble` utilitzant la funció de cost Scrabble. Intenta buscar la solució per passar de \"dog\" a \"cat\"."
   ]
  },
  {
   "cell_type": "code",
   "execution_count": null,
   "id": "d1730f72bcfef59b",
   "metadata": {
    "collapsed": false
   },
   "outputs": [],
   "source": []
  },
  {
   "cell_type": "markdown",
   "id": "2f648ed42d2a3fec",
   "metadata": {
    "collapsed": false
   },
   "source": [
    "9. Intenta buscar la solució per passar de \"cold\" a \"warm\". Pots trobar una solució? Per què?"
   ]
  },
  {
   "cell_type": "code",
   "execution_count": 12,
   "id": "67286407ef13181f",
   "metadata": {
    "ExecuteTime": {
     "end_time": "2023-09-16T21:40:14.250354Z",
     "start_time": "2023-09-16T21:40:14.220237Z"
    },
    "collapsed": false
   },
   "outputs": [],
   "source": []
  },
  {
   "cell_type": "markdown",
   "id": "75c9aa835f933648",
   "metadata": {
    "collapsed": false
   },
   "source": [
    "10. Implementa una classe `WordLadderScrabbleHeuristic` que hereti de `WordLadderScrabble` i que implementi la funció heurística basada en la suma dels costos de les lletres de la paraula actual fins a la paraula final. Crea una instància anomenada `wordladder_scrabble_heuristic`. Implementa un algorisme que puga solucionar el problema `wordladder_scrabble_heuristic`.\n",
    "    Intenta buscar la solució per passar de \"cold\" a \"warm\"."
   ]
  },
  {
   "cell_type": "code",
   "execution_count": 13,
   "id": "da5ec658cd46cc83",
   "metadata": {
    "ExecuteTime": {
     "end_time": "2023-09-16T21:40:14.343702Z",
     "start_time": "2023-09-16T21:40:14.232636Z"
    },
    "collapsed": false
   },
   "outputs": [],
   "source": []
  },
  {
   "cell_type": "markdown",
   "id": "6e64c518cb0a162",
   "metadata": {
    "collapsed": false
   },
   "source": [
    "## Aplicació a altres problemes\n",
    "\n",
    "Les técniques que hem vist per a resoldre el problema de Word Ladder es poden aplicar a altres problemes. En aquest exercici, les aplicarem al problema del puzzle de 8 peces.\n",
    "\n",
    "### Puzzle de 8 peces\n",
    "\n",
    "El puzzle de 8 peces és un joc que consisteix en un tauler de 3x3 en el que hi ha 8 peces i un espai buit. Com ja hem vist en les classes, podem representar el tauler com una llista de 9 enters, on el 0 representa l'espai buit. Per exemple, el tauler següent:\n",
    "\n",
    "```\n",
    "8 1 3\n",
    "4 0 2\n",
    "7 6 5\n",
    "```\n",
    "\n",
    "es pot representar com la llista `[8, 1, 3, 4, 0, 2, 7, 6, 5]`.\n",
    "\n",
    "El joc consisteix en moure les peces horitzontalment o verticalment per a aconseguir un tauler amb les peces ordenades de menor a major, com el següent:\n",
    "\n",
    "```\n",
    "1 2 3\n",
    "4 5 6\n",
    "7 8 0\n",
    "```\n",
    "\n",
    "#### Que hem de fer?\n",
    "\n",
    "1. Implementa la classe `Puzzle8Problema` que hereti de `Problema` i implementa els mètodes necessaris per a fer-ho funcionar. Crea una instància anomenada `puzzle8_distancia` amb el tauler inicial `[8, 1, 3, 4, 0, 2, 7, 6, 5]` i el tauler final `[1, 2, 3, 4, 5, 6, 7, 8, 0]`."
   ]
  },
  {
   "cell_type": "code",
   "execution_count": 16,
   "id": "888d4ea1bb6d2862",
   "metadata": {
    "ExecuteTime": {
     "end_time": "2023-09-16T21:40:14.387700Z",
     "start_time": "2023-09-16T21:40:14.301591Z"
    },
    "collapsed": false
   },
   "outputs": [],
   "source": []
  },
  {
   "cell_type": "markdown",
   "id": "647d61a140ffd6d6",
   "metadata": {
    "collapsed": false
   },
   "source": [
    "2. Aplica l'algorisme de cerca en amplitud per a trobar una solució al problema `puzzle8_distancia`. Quina solució troba? Quin és el cost d'aquesta solució?"
   ]
  },
  {
   "cell_type": "code",
   "execution_count": null,
   "id": "ae9f4d5fa44f08e1",
   "metadata": {
    "collapsed": false
   },
   "outputs": [],
   "source": []
  },
  {
   "cell_type": "markdown",
   "id": "2670bcee474cb4f7",
   "metadata": {
    "collapsed": false
   },
   "source": [
    "3.  Si implementem l'algorisme de cerca en cost uniforme, trobarà una solució millor? Perquè?"
   ]
  },
  {
   "cell_type": "markdown",
   "id": "a93e21fbbb92da9c",
   "metadata": {
    "collapsed": false
   },
   "source": [
    "4. Implementa una classe `Puzzle8ProblemaHeuristic` que hereti de `Puzzle8Problema` i que implementi una funció heurística que estime el cost de moure les peces del tauler actual al tauler final. Crea una instància anomenada `puzzle8_distancia_heuristic` amb el tauler inicial `[8, 1, 3, 4, 0, 2, 7, 6, 5]` i el tauler final `[1, 2, 3, 4, 5, 6, 7, 8, 0]`."
   ]
  },
  {
   "cell_type": "code",
   "execution_count": 18,
   "id": "2698a85e728d8f7a",
   "metadata": {
    "ExecuteTime": {
     "end_time": "2023-09-16T21:40:14.469712Z",
     "start_time": "2023-09-16T21:40:14.433879Z"
    },
    "collapsed": false
   },
   "outputs": [],
   "source": []
  },
  {
   "cell_type": "code",
   "execution_count": null,
   "id": "15eae91685a0fe7",
   "metadata": {
    "collapsed": false
   },
   "outputs": [],
   "source": []
  }
 ],
 "metadata": {
  "kernelspec": {
   "display_name": "Python 3",
   "language": "python",
   "name": "python3"
  },
  "language_info": {
   "codemirror_mode": {
    "name": "ipython",
    "version": 2
   },
   "file_extension": ".py",
   "mimetype": "text/x-python",
   "name": "python",
   "nbconvert_exporter": "python",
   "pygments_lexer": "ipython2",
   "version": "2.7.6"
  }
 },
 "nbformat": 4,
 "nbformat_minor": 5
}
