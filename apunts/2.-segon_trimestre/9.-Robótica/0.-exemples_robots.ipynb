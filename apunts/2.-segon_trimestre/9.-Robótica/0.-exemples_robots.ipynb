{
 "cells": [
  {
   "cell_type": "markdown",
   "metadata": {},
   "source": [
    "## Exemples de robots\n",
    "\n",
    "En aques exemple veurem diferents tipus de sensors i robots que podem utilitzar en `aitk.robots` i com podem interactuar amb ells."
   ]
  },
  {
   "cell_type": "code",
   "execution_count": 1,
   "metadata": {},
   "outputs": [
    {
     "name": "stdout",
     "output_type": "stream",
     "text": [
      "Requirement already satisfied: aitk in /home/carles/Documentos/notebooks/.venv/lib64/python3.11/site-packages (2.1.0)\n",
      "Requirement already satisfied: ipykernel in /home/carles/Documentos/notebooks/.venv/lib64/python3.11/site-packages (6.29.5)\n",
      "Requirement already satisfied: Pillow in /home/carles/Documentos/notebooks/.venv/lib64/python3.11/site-packages (from aitk) (9.4.0)\n",
      "Requirement already satisfied: ipywidgets in /home/carles/Documentos/notebooks/.venv/lib64/python3.11/site-packages (from aitk) (8.1.5)\n",
      "Requirement already satisfied: tqdm in /home/carles/Documentos/notebooks/.venv/lib64/python3.11/site-packages (from aitk) (4.66.5)\n",
      "Requirement already satisfied: numpy<=1.26.4 in /home/carles/Documentos/notebooks/.venv/lib64/python3.11/site-packages (from aitk) (1.26.4)\n",
      "Requirement already satisfied: matplotlib in /home/carles/Documentos/notebooks/.venv/lib64/python3.11/site-packages (from aitk) (3.9.2)\n",
      "Requirement already satisfied: tensorflow<=2.15.1 in /home/carles/Documentos/notebooks/.venv/lib64/python3.11/site-packages (from aitk) (2.15.1)\n",
      "Requirement already satisfied: comm>=0.1.1 in /home/carles/Documentos/notebooks/.venv/lib64/python3.11/site-packages (from ipykernel) (0.2.2)\n",
      "Requirement already satisfied: debugpy>=1.6.5 in /home/carles/Documentos/notebooks/.venv/lib64/python3.11/site-packages (from ipykernel) (1.8.5)\n",
      "Requirement already satisfied: ipython>=7.23.1 in /home/carles/Documentos/notebooks/.venv/lib64/python3.11/site-packages (from ipykernel) (8.27.0)\n",
      "Requirement already satisfied: jupyter-client>=6.1.12 in /home/carles/Documentos/notebooks/.venv/lib64/python3.11/site-packages (from ipykernel) (8.6.2)\n",
      "Requirement already satisfied: jupyter-core!=5.0.*,>=4.12 in /home/carles/Documentos/notebooks/.venv/lib64/python3.11/site-packages (from ipykernel) (5.7.2)\n",
      "Requirement already satisfied: matplotlib-inline>=0.1 in /home/carles/Documentos/notebooks/.venv/lib64/python3.11/site-packages (from ipykernel) (0.1.7)\n",
      "Requirement already satisfied: nest-asyncio in /home/carles/Documentos/notebooks/.venv/lib64/python3.11/site-packages (from ipykernel) (1.6.0)\n",
      "Requirement already satisfied: packaging in /home/carles/Documentos/notebooks/.venv/lib64/python3.11/site-packages (from ipykernel) (24.1)\n",
      "Requirement already satisfied: psutil in /home/carles/Documentos/notebooks/.venv/lib64/python3.11/site-packages (from ipykernel) (6.0.0)\n",
      "Requirement already satisfied: pyzmq>=24 in /home/carles/Documentos/notebooks/.venv/lib64/python3.11/site-packages (from ipykernel) (26.2.0)\n",
      "Requirement already satisfied: tornado>=6.1 in /home/carles/Documentos/notebooks/.venv/lib64/python3.11/site-packages (from ipykernel) (6.4.1)\n",
      "Requirement already satisfied: traitlets>=5.4.0 in /home/carles/Documentos/notebooks/.venv/lib64/python3.11/site-packages (from ipykernel) (5.14.3)\n",
      "Requirement already satisfied: decorator in /home/carles/Documentos/notebooks/.venv/lib64/python3.11/site-packages (from ipython>=7.23.1->ipykernel) (5.1.1)\n",
      "Requirement already satisfied: jedi>=0.16 in /home/carles/Documentos/notebooks/.venv/lib64/python3.11/site-packages (from ipython>=7.23.1->ipykernel) (0.19.1)\n",
      "Requirement already satisfied: prompt-toolkit<3.1.0,>=3.0.41 in /home/carles/Documentos/notebooks/.venv/lib64/python3.11/site-packages (from ipython>=7.23.1->ipykernel) (3.0.47)\n",
      "Requirement already satisfied: pygments>=2.4.0 in /home/carles/Documentos/notebooks/.venv/lib64/python3.11/site-packages (from ipython>=7.23.1->ipykernel) (2.18.0)\n",
      "Requirement already satisfied: stack-data in /home/carles/Documentos/notebooks/.venv/lib64/python3.11/site-packages (from ipython>=7.23.1->ipykernel) (0.6.3)\n",
      "Requirement already satisfied: typing-extensions>=4.6 in /home/carles/Documentos/notebooks/.venv/lib64/python3.11/site-packages (from ipython>=7.23.1->ipykernel) (4.12.2)\n",
      "Requirement already satisfied: pexpect>4.3 in /home/carles/Documentos/notebooks/.venv/lib64/python3.11/site-packages (from ipython>=7.23.1->ipykernel) (4.9.0)\n",
      "Requirement already satisfied: python-dateutil>=2.8.2 in /home/carles/Documentos/notebooks/.venv/lib64/python3.11/site-packages (from jupyter-client>=6.1.12->ipykernel) (2.9.0.post0)\n",
      "Requirement already satisfied: platformdirs>=2.5 in /home/carles/Documentos/notebooks/.venv/lib64/python3.11/site-packages (from jupyter-core!=5.0.*,>=4.12->ipykernel) (4.3.2)\n",
      "Requirement already satisfied: absl-py>=1.0.0 in /home/carles/Documentos/notebooks/.venv/lib64/python3.11/site-packages (from tensorflow<=2.15.1->aitk) (2.1.0)\n",
      "Requirement already satisfied: astunparse>=1.6.0 in /home/carles/Documentos/notebooks/.venv/lib64/python3.11/site-packages (from tensorflow<=2.15.1->aitk) (1.6.3)\n",
      "Requirement already satisfied: flatbuffers>=23.5.26 in /home/carles/Documentos/notebooks/.venv/lib64/python3.11/site-packages (from tensorflow<=2.15.1->aitk) (24.3.25)\n",
      "Requirement already satisfied: gast!=0.5.0,!=0.5.1,!=0.5.2,>=0.2.1 in /home/carles/Documentos/notebooks/.venv/lib64/python3.11/site-packages (from tensorflow<=2.15.1->aitk) (0.6.0)\n",
      "Requirement already satisfied: google-pasta>=0.1.1 in /home/carles/Documentos/notebooks/.venv/lib64/python3.11/site-packages (from tensorflow<=2.15.1->aitk) (0.2.0)\n",
      "Requirement already satisfied: h5py>=2.9.0 in /home/carles/Documentos/notebooks/.venv/lib64/python3.11/site-packages (from tensorflow<=2.15.1->aitk) (3.11.0)\n",
      "Requirement already satisfied: libclang>=13.0.0 in /home/carles/Documentos/notebooks/.venv/lib64/python3.11/site-packages (from tensorflow<=2.15.1->aitk) (18.1.1)\n",
      "Requirement already satisfied: ml-dtypes~=0.3.1 in /home/carles/Documentos/notebooks/.venv/lib64/python3.11/site-packages (from tensorflow<=2.15.1->aitk) (0.3.2)\n",
      "Requirement already satisfied: opt-einsum>=2.3.2 in /home/carles/Documentos/notebooks/.venv/lib64/python3.11/site-packages (from tensorflow<=2.15.1->aitk) (3.3.0)\n",
      "Requirement already satisfied: protobuf!=4.21.0,!=4.21.1,!=4.21.2,!=4.21.3,!=4.21.4,!=4.21.5,<5.0.0dev,>=3.20.3 in /home/carles/Documentos/notebooks/.venv/lib64/python3.11/site-packages (from tensorflow<=2.15.1->aitk) (4.25.4)\n",
      "Requirement already satisfied: setuptools in /home/carles/Documentos/notebooks/.venv/lib64/python3.11/site-packages (from tensorflow<=2.15.1->aitk) (65.5.0)\n",
      "Requirement already satisfied: six>=1.12.0 in /home/carles/Documentos/notebooks/.venv/lib64/python3.11/site-packages (from tensorflow<=2.15.1->aitk) (1.16.0)\n",
      "Requirement already satisfied: termcolor>=1.1.0 in /home/carles/Documentos/notebooks/.venv/lib64/python3.11/site-packages (from tensorflow<=2.15.1->aitk) (2.4.0)\n",
      "Requirement already satisfied: wrapt<1.15,>=1.11.0 in /home/carles/Documentos/notebooks/.venv/lib64/python3.11/site-packages (from tensorflow<=2.15.1->aitk) (1.14.1)\n",
      "Requirement already satisfied: tensorflow-io-gcs-filesystem>=0.23.1 in /home/carles/Documentos/notebooks/.venv/lib64/python3.11/site-packages (from tensorflow<=2.15.1->aitk) (0.37.1)\n",
      "Requirement already satisfied: grpcio<2.0,>=1.24.3 in /home/carles/Documentos/notebooks/.venv/lib64/python3.11/site-packages (from tensorflow<=2.15.1->aitk) (1.66.1)\n",
      "Requirement already satisfied: tensorboard<2.16,>=2.15 in /home/carles/Documentos/notebooks/.venv/lib64/python3.11/site-packages (from tensorflow<=2.15.1->aitk) (2.15.2)\n",
      "Requirement already satisfied: tensorflow-estimator<2.16,>=2.15.0 in /home/carles/Documentos/notebooks/.venv/lib64/python3.11/site-packages (from tensorflow<=2.15.1->aitk) (2.15.0)\n",
      "Requirement already satisfied: keras<2.16,>=2.15.0 in /home/carles/Documentos/notebooks/.venv/lib64/python3.11/site-packages (from tensorflow<=2.15.1->aitk) (2.15.0)\n",
      "Requirement already satisfied: widgetsnbextension~=4.0.12 in /home/carles/Documentos/notebooks/.venv/lib64/python3.11/site-packages (from ipywidgets->aitk) (4.0.13)\n",
      "Requirement already satisfied: jupyterlab-widgets~=3.0.12 in /home/carles/Documentos/notebooks/.venv/lib64/python3.11/site-packages (from ipywidgets->aitk) (3.0.13)\n",
      "Requirement already satisfied: contourpy>=1.0.1 in /home/carles/Documentos/notebooks/.venv/lib64/python3.11/site-packages (from matplotlib->aitk) (1.3.0)\n",
      "Requirement already satisfied: cycler>=0.10 in /home/carles/Documentos/notebooks/.venv/lib64/python3.11/site-packages (from matplotlib->aitk) (0.12.1)\n",
      "Requirement already satisfied: fonttools>=4.22.0 in /home/carles/Documentos/notebooks/.venv/lib64/python3.11/site-packages (from matplotlib->aitk) (4.53.1)\n",
      "Requirement already satisfied: kiwisolver>=1.3.1 in /home/carles/Documentos/notebooks/.venv/lib64/python3.11/site-packages (from matplotlib->aitk) (1.4.7)\n",
      "Requirement already satisfied: pyparsing>=2.3.1 in /home/carles/Documentos/notebooks/.venv/lib64/python3.11/site-packages (from matplotlib->aitk) (3.1.4)\n",
      "Requirement already satisfied: wheel<1.0,>=0.23.0 in /home/carles/Documentos/notebooks/.venv/lib64/python3.11/site-packages (from astunparse>=1.6.0->tensorflow<=2.15.1->aitk) (0.44.0)\n",
      "Requirement already satisfied: parso<0.9.0,>=0.8.3 in /home/carles/Documentos/notebooks/.venv/lib64/python3.11/site-packages (from jedi>=0.16->ipython>=7.23.1->ipykernel) (0.8.4)\n",
      "Requirement already satisfied: ptyprocess>=0.5 in /home/carles/Documentos/notebooks/.venv/lib64/python3.11/site-packages (from pexpect>4.3->ipython>=7.23.1->ipykernel) (0.7.0)\n",
      "Requirement already satisfied: wcwidth in /home/carles/Documentos/notebooks/.venv/lib64/python3.11/site-packages (from prompt-toolkit<3.1.0,>=3.0.41->ipython>=7.23.1->ipykernel) (0.2.13)\n",
      "Requirement already satisfied: google-auth<3,>=1.6.3 in /home/carles/Documentos/notebooks/.venv/lib64/python3.11/site-packages (from tensorboard<2.16,>=2.15->tensorflow<=2.15.1->aitk) (2.34.0)\n",
      "Requirement already satisfied: google-auth-oauthlib<2,>=0.5 in /home/carles/Documentos/notebooks/.venv/lib64/python3.11/site-packages (from tensorboard<2.16,>=2.15->tensorflow<=2.15.1->aitk) (1.2.1)\n",
      "Requirement already satisfied: markdown>=2.6.8 in /home/carles/Documentos/notebooks/.venv/lib64/python3.11/site-packages (from tensorboard<2.16,>=2.15->tensorflow<=2.15.1->aitk) (3.7)\n",
      "Requirement already satisfied: requests<3,>=2.21.0 in /home/carles/Documentos/notebooks/.venv/lib64/python3.11/site-packages (from tensorboard<2.16,>=2.15->tensorflow<=2.15.1->aitk) (2.32.3)\n",
      "Requirement already satisfied: tensorboard-data-server<0.8.0,>=0.7.0 in /home/carles/Documentos/notebooks/.venv/lib64/python3.11/site-packages (from tensorboard<2.16,>=2.15->tensorflow<=2.15.1->aitk) (0.7.2)\n",
      "Requirement already satisfied: werkzeug>=1.0.1 in /home/carles/Documentos/notebooks/.venv/lib64/python3.11/site-packages (from tensorboard<2.16,>=2.15->tensorflow<=2.15.1->aitk) (3.0.4)\n",
      "Requirement already satisfied: executing>=1.2.0 in /home/carles/Documentos/notebooks/.venv/lib64/python3.11/site-packages (from stack-data->ipython>=7.23.1->ipykernel) (2.1.0)\n",
      "Requirement already satisfied: asttokens>=2.1.0 in /home/carles/Documentos/notebooks/.venv/lib64/python3.11/site-packages (from stack-data->ipython>=7.23.1->ipykernel) (2.4.1)\n",
      "Requirement already satisfied: pure-eval in /home/carles/Documentos/notebooks/.venv/lib64/python3.11/site-packages (from stack-data->ipython>=7.23.1->ipykernel) (0.2.3)\n",
      "Requirement already satisfied: cachetools<6.0,>=2.0.0 in /home/carles/Documentos/notebooks/.venv/lib64/python3.11/site-packages (from google-auth<3,>=1.6.3->tensorboard<2.16,>=2.15->tensorflow<=2.15.1->aitk) (5.5.0)\n",
      "Requirement already satisfied: pyasn1-modules>=0.2.1 in /home/carles/Documentos/notebooks/.venv/lib64/python3.11/site-packages (from google-auth<3,>=1.6.3->tensorboard<2.16,>=2.15->tensorflow<=2.15.1->aitk) (0.4.1)\n",
      "Requirement already satisfied: rsa<5,>=3.1.4 in /home/carles/Documentos/notebooks/.venv/lib64/python3.11/site-packages (from google-auth<3,>=1.6.3->tensorboard<2.16,>=2.15->tensorflow<=2.15.1->aitk) (4.9)\n",
      "Requirement already satisfied: requests-oauthlib>=0.7.0 in /home/carles/Documentos/notebooks/.venv/lib64/python3.11/site-packages (from google-auth-oauthlib<2,>=0.5->tensorboard<2.16,>=2.15->tensorflow<=2.15.1->aitk) (2.0.0)\n",
      "Requirement already satisfied: charset-normalizer<4,>=2 in /home/carles/Documentos/notebooks/.venv/lib64/python3.11/site-packages (from requests<3,>=2.21.0->tensorboard<2.16,>=2.15->tensorflow<=2.15.1->aitk) (3.3.2)\n",
      "Requirement already satisfied: idna<4,>=2.5 in /home/carles/Documentos/notebooks/.venv/lib64/python3.11/site-packages (from requests<3,>=2.21.0->tensorboard<2.16,>=2.15->tensorflow<=2.15.1->aitk) (3.8)\n",
      "Requirement already satisfied: urllib3<3,>=1.21.1 in /home/carles/Documentos/notebooks/.venv/lib64/python3.11/site-packages (from requests<3,>=2.21.0->tensorboard<2.16,>=2.15->tensorflow<=2.15.1->aitk) (2.2.2)\n",
      "Requirement already satisfied: certifi>=2017.4.17 in /home/carles/Documentos/notebooks/.venv/lib64/python3.11/site-packages (from requests<3,>=2.21.0->tensorboard<2.16,>=2.15->tensorflow<=2.15.1->aitk) (2024.8.30)\n",
      "Requirement already satisfied: MarkupSafe>=2.1.1 in /home/carles/Documentos/notebooks/.venv/lib64/python3.11/site-packages (from werkzeug>=1.0.1->tensorboard<2.16,>=2.15->tensorflow<=2.15.1->aitk) (2.1.5)\n",
      "Requirement already satisfied: pyasn1<0.7.0,>=0.4.6 in /home/carles/Documentos/notebooks/.venv/lib64/python3.11/site-packages (from pyasn1-modules>=0.2.1->google-auth<3,>=1.6.3->tensorboard<2.16,>=2.15->tensorflow<=2.15.1->aitk) (0.6.1)\n",
      "Requirement already satisfied: oauthlib>=3.0.0 in /home/carles/Documentos/notebooks/.venv/lib64/python3.11/site-packages (from requests-oauthlib>=0.7.0->google-auth-oauthlib<2,>=0.5->tensorboard<2.16,>=2.15->tensorflow<=2.15.1->aitk) (3.2.2)\n",
      "\n",
      "\u001b[1m[\u001b[0m\u001b[34;49mnotice\u001b[0m\u001b[1;39;49m]\u001b[0m\u001b[39;49m A new release of pip is available: \u001b[0m\u001b[31;49m24.2\u001b[0m\u001b[39;49m -> \u001b[0m\u001b[32;49m24.3.1\u001b[0m\n",
      "\u001b[1m[\u001b[0m\u001b[34;49mnotice\u001b[0m\u001b[1;39;49m]\u001b[0m\u001b[39;49m To update, run: \u001b[0m\u001b[32;49mpip install --upgrade pip\u001b[0m\n"
     ]
    }
   ],
   "source": [
    "!pip install aitk ipykernel"
   ]
  },
  {
   "cell_type": "code",
   "execution_count": 2,
   "metadata": {},
   "outputs": [],
   "source": [
    "from aitk.robots import (\n",
    "    World, Scribbler, \n",
    "    RangeSensor, LightSensor, SmellSensor, \n",
    "    Camera\n",
    ")\n",
    "from random import random"
   ]
  },
  {
   "cell_type": "markdown",
   "metadata": {},
   "source": [
    "### Un món amb parets, una bombeta i menjar\n",
    "\n",
    "\n",
    "Hi ha una font de menjar situada prop de l'origen del món darrere d'una petita paret blava inclinada. Hi ha una font de llum prop del centre del món amagada a la cantonada de les parets cian i taronja.\n",
    "\n",
    "Utilitzem menjar i llum per atraure els robots cap a ells. Els robots poden veure la llum i el menjar i poden moure's cap a ells. Els robots també poden veure les parets i evitar-les. Òbviament, els robots no menjen, aquest element, però, ens permetrà veure com els robots poden interactuar amb els objectes del món."
   ]
  },
  {
   "cell_type": "code",
   "execution_count": 3,
   "metadata": {},
   "outputs": [
    {
     "name": "stdout",
     "output_type": "stream",
     "text": [
      "Random seed set to: 9717997\n"
     ]
    },
    {
     "data": {
      "application/vnd.jupyter.widget-view+json": {
       "model_id": "c74ad2283b7843c2a250de18fb8d21e1",
       "version_major": 2,
       "version_minor": 0
      },
      "text/plain": [
       "Image(value=b'\\xff\\xd8\\xff\\xe0\\x00\\x10JFIF\\x00\\x01\\x01\\x00\\x00\\x01\\x00\\x01\\x00\\x00\\xff\\xdb\\x00C\\x00\\x08\\x06\\x0…"
      ]
     },
     "metadata": {},
     "output_type": "display_data"
    }
   ],
   "source": [
    "# Definim el món\n",
    "# Creem un món de 200x150 amb una escala de 5.0\n",
    "\n",
    "world = World(width=200, height=150, scale=5.0)\n",
    "world.add_wall(\"cyan\", 80, 50, 90, 150)\n",
    "world.add_wall(\"orange\", 90, 50, 110, 60)\n",
    "world.add_wall(\"blue\", 0, 35, 25, 30, box=False)\n",
    "world.add_bulb(\"yellow\", 100, 70, 0, 75.0)\n",
    "world.add_food(15, 10, 50)\n",
    "\n",
    "# Mostrem el món i demanem que s'actualitzi automàticament\n",
    "world.watch(width=\"700px\")"
   ]
  },
  {
   "cell_type": "markdown",
   "metadata": {},
   "source": [
    "### El robot vermell utilitza sensors IR\n",
    "\n",
    "El robot vermell utilitza sensors IR per detectar i evitar obstacles. Pot determinar cap a quin costat girar basant-se en si l'obstacle està més a prop del seu front esquerra o front dret."
   ]
  },
  {
   "cell_type": "code",
   "execution_count": 5,
   "metadata": {},
   "outputs": [],
   "source": [
    "robot1 = Scribbler(x=150, y=100, a=35, color=\"red\", name=\"red\")\n",
    "robot1.add_device(RangeSensor(position=(6,-6),width=57.3,max=20,name=\"left-ir\"))\n",
    "robot1.add_device(RangeSensor(position=(6,6),width=57.3,max=20,name=\"right-ir\"))\n",
    "\n",
    "world.add_robot(robot1)"
   ]
  },
  {
   "cell_type": "markdown",
   "metadata": {},
   "source": [
    "### El robot rosa utilitza sensors d'olor i una càmera\n",
    "\n",
    "El robot rosa utilitza sensors d'olor per trobar menjar. També té una càmera que pot veure les característiques del món. Pot girar cap al menjar detectat a la seva esquerra o dreta."
   ]
  },
  {
   "cell_type": "code",
   "execution_count": 6,
   "metadata": {},
   "outputs": [],
   "source": [
    "robot2 = Scribbler(x=40, y=130, a=75, color=\"pink\", name=\"pink\")\n",
    "robot2.state[\"timer\"] = 0 # utilitzem el diccionari state per guardar variables.\n",
    "                          # Aquesta variable ens servirà per controlar el temps\n",
    "robot2.add_device(Camera())\n",
    "robot2.add_device(SmellSensor(position=(6,-6),name=\"left-smell\"))\n",
    "robot2.add_device(SmellSensor(position=(6,6),name=\"right-smell\"))\n",
    "\n",
    "world.add_robot(robot2)"
   ]
  },
  {
   "cell_type": "markdown",
   "metadata": {},
   "source": [
    "### El robot groc utilitza sensors de llum\n",
    "\n",
    "El robot groc utilitza sensors de llum per trobar una font de llum. Pot girar cap a la llum detectada a la seva esquerra o dreta."
   ]
  },
  {
   "cell_type": "code",
   "execution_count": 7,
   "metadata": {},
   "outputs": [],
   "source": [
    "robot3 = Scribbler(x=60, y=30, a=0, color=\"yellow\", name=\"yellow\")\n",
    "robot3.add_device(LightSensor(position=(6,-6), name=\"left-light\"))\n",
    "robot3.add_device(LightSensor(position=(6,6), name=\"right-light\"))\n",
    "\n",
    "world.add_robot(robot3)"
   ]
  },
  {
   "cell_type": "code",
   "execution_count": 8,
   "metadata": {},
   "outputs": [
    {
     "data": {
      "application/vnd.jupyter.widget-view+json": {
       "model_id": "c74ad2283b7843c2a250de18fb8d21e1",
       "version_major": 2,
       "version_minor": 0
      },
      "text/plain": [
       "Image(value=b'\\xff\\xd8\\xff\\xe0\\x00\\x10JFIF\\x00\\x01\\x01\\x00\\x00\\x01\\x00\\x01\\x00\\x00\\xff\\xdb\\x00C\\x00\\x08\\x06\\x0…"
      ]
     },
     "metadata": {},
     "output_type": "display_data"
    }
   ],
   "source": [
    "world.watch(width=\"700px\")"
   ]
  },
  {
   "cell_type": "code",
   "execution_count": 9,
   "metadata": {},
   "outputs": [
    {
     "data": {
      "application/vnd.jupyter.widget-view+json": {
       "model_id": "d6b9433543174ca7b2735e94edc1d9ff",
       "version_major": 2,
       "version_minor": 0
      },
      "text/plain": [
       "HTML(value='<style>img.pixelated {image-rendering: pixelated;}</style>')"
      ]
     },
     "metadata": {},
     "output_type": "display_data"
    },
    {
     "data": {
      "application/vnd.jupyter.widget-view+json": {
       "model_id": "eb8862f2e6f447a3863a941597be927a",
       "version_major": 2,
       "version_minor": 0
      },
      "text/plain": [
       "HTML(value='<style>img.pixelated {image-rendering: pixelated;}</style>')"
      ]
     },
     "metadata": {},
     "output_type": "display_data"
    },
    {
     "data": {
      "application/vnd.jupyter.widget-view+json": {
       "model_id": "3662de1ac89848a094ac48dadab2d0cc",
       "version_major": 2,
       "version_minor": 0
      },
      "text/plain": [
       "HTML(value='<style>img.pixelated {image-rendering: pixelated;}</style>')"
      ]
     },
     "metadata": {},
     "output_type": "display_data"
    },
    {
     "data": {
      "application/vnd.jupyter.widget-view+json": {
       "model_id": "1512fb4e2fa748738fbdb02266e1c2ef",
       "version_major": 2,
       "version_minor": 0
      },
      "text/plain": [
       "Image(value=b'\\x89PNG\\r\\n\\x1a\\n\\x00\\x00\\x00\\rIHDR\\x00\\x00\\x00@\\x00\\x00\\x00 \\x08\\x06\\x00\\x00\\x00\\xa2\\x9d~\\x84\\x…"
      ]
     },
     "metadata": {},
     "output_type": "display_data"
    }
   ],
   "source": [
    "robot2['camera'].watch()"
   ]
  },
  {
   "cell_type": "markdown",
   "metadata": {},
   "source": [
    "### El controlador del robot vermell deambula\n",
    "\n",
    "El robot vermell deambula pel món evitant els obstacles que troba. Sempre es mou cap endavant, però tria quantitats de rotació aleatòries quan els seus sensors de gamma frontal estan nets."
   ]
  },
  {
   "cell_type": "code",
   "execution_count": 10,
   "metadata": {},
   "outputs": [],
   "source": [
    "def deambula_amb_infrarojos(robot):\n",
    "    max_val = robot[\"left-ir\"].get_max()\n",
    "    if robot[\"left-ir\"].get_distance() < max_val:\n",
    "        robot.move(0.1, -0.3)\n",
    "    elif robot[\"right-ir\"].get_distance() < max_val:\n",
    "        robot.move(0.1, 0.3)\n",
    "    else:\n",
    "        robot.move(1, random()-0.5)"
   ]
  },
  {
   "cell_type": "markdown",
   "metadata": {},
   "source": [
    "### El controlador del robot rosa deambula\n",
    "\n",
    "El robot rosa deambula pel món cercant menjar i evitant obstacles retrocedint quan es queda aturat. Utilitza una variable d'estat anomenada *timer* per assegurar-se que fins i tot en presència d'un olor sempre fa almenys cinc passos enrere quan troba un obstacle. Si s'apropa prou al menjar, intenta menjar-lo, i si ho aconsegueix acaba l'execució retornant True. De tant en tant tria un nou moviment erràtic aleatori. Si cap dels seus casos de prova s'activa, repeteix el moviment anterior."
   ]
  },
  {
   "cell_type": "code",
   "execution_count": 11,
   "metadata": {},
   "outputs": [],
   "source": [
    "def busca_menjar(robot):\n",
    "    left_smell = robot[\"left-smell\"].get_reading()\n",
    "    right_smell = robot[\"right-smell\"].get_reading()\n",
    "    diff = left_smell - right_smell\n",
    "    if left_smell+right_smell>1.95 and robot.eat():\n",
    "        robot.move(0,0)\n",
    "        robot.speak(\"he menjat!\")\n",
    "        return True\n",
    "    # Utilitzem un temporitzador per assegurar que torne enrere\n",
    "    # durant un temps mínim de 5 iteracions\n",
    "    if robot.state[\"timer\"] > 5:\n",
    "        robot.state[\"timer\"] = 0\n",
    "    if robot.stalled:\n",
    "        robot.state[\"timer\"] = 1\n",
    "        robot.reverse()\n",
    "    elif robot.state[\"timer\"] > 0:\n",
    "        robot.state[\"timer\"] += 1\n",
    "    elif diff > 0.03:\n",
    "        robot.move(1, 0.3)\n",
    "    elif diff < -0.03:\n",
    "        robot.move(1, -0.3)\n",
    "    elif world.time%2 == 0:\n",
    "        robot.move(1.0, random()*0.5-0.25)\n",
    "    else:\n",
    "        pass #continua en la mateixa direcció"
   ]
  },
  {
   "cell_type": "markdown",
   "metadata": {},
   "source": [
    "### El controlador del robot groc cerca la llum\n",
    "\n",
    "L'objectiu del robot groc és trobar i acostar-se a una font de llum. Quan no detecta llum, el robot deambula. Quan detecta més llum a un costat, gira cap a la llum. Si el robot es queda aturat, inverteix el seu moviment. De tant en tant genera un nou moviment erràtic aleatori. Quan cap dels tests s'activa, el robot continuarà fent el moviment anterior. Quan les seves lectures de llum superen un llindar, s'atura i informa que ha trobat la llum. Retornant `True` acaba l'execució."
   ]
  },
  {
   "cell_type": "code",
   "execution_count": 12,
   "metadata": {},
   "outputs": [],
   "source": [
    "def search_light(robot):\n",
    "    left_light = robot[\"left-light\"].get_brightness()\n",
    "    right_light = robot[\"right-light\"].get_brightness()\n",
    "    diff = left_light - right_light\n",
    "    if left_light + right_light > 1.9:\n",
    "        robot.move(0,0)\n",
    "        robot.speak(\"he trobat la llum!\")\n",
    "        return True\n",
    "    if robot.stalled:\n",
    "        robot.reverse()\n",
    "    elif diff > 0.01:\n",
    "        robot.move(1,0.5)\n",
    "    elif diff < -0.01:\n",
    "        robot.move(1,-0.5)   \n",
    "    elif world.time%2 == 0:\n",
    "        robot.move(1.0, random()*0.5-0.25)\n",
    "    else:\n",
    "        pass #continua en la mateixa direcció"
   ]
  },
  {
   "cell_type": "code",
   "execution_count": 13,
   "metadata": {},
   "outputs": [
    {
     "name": "stdout",
     "output_type": "stream",
     "text": [
      "Using random seed: 9717997\n",
      "Using random seed: 0.29872700986517486\n"
     ]
    },
    {
     "data": {
      "application/vnd.jupyter.widget-view+json": {
       "model_id": "0bfe1a375e554242bfd15c093f2de66a",
       "version_major": 2,
       "version_minor": 0
      },
      "text/plain": [
       "  0%|          | 0/400 [00:00<?, ?it/s]"
      ]
     },
     "metadata": {},
     "output_type": "display_data"
    },
    {
     "name": "stdout",
     "output_type": "stream",
     "text": [
      "WARNING: you have not provided a controller function for every robot\n"
     ]
    },
    {
     "ename": "AttributeError",
     "evalue": "'NoneType' object has no attribute 'get_reading'",
     "output_type": "error",
     "traceback": [
      "\u001b[0;31m---------------------------------------------------------------------------\u001b[0m",
      "\u001b[0;31mAttributeError\u001b[0m                            Traceback (most recent call last)",
      "Cell \u001b[0;32mIn[13], line 4\u001b[0m\n\u001b[1;32m      2\u001b[0m robot2\u001b[38;5;241m.\u001b[39mstate[\u001b[38;5;124m\"\u001b[39m\u001b[38;5;124mtimer\u001b[39m\u001b[38;5;124m\"\u001b[39m] \u001b[38;5;241m=\u001b[39m \u001b[38;5;241m0\u001b[39m \u001b[38;5;66;03m#resseteja el temporitzador\u001b[39;00m\n\u001b[1;32m      3\u001b[0m world\u001b[38;5;241m.\u001b[39mset_seed(random())\n\u001b[0;32m----> 4\u001b[0m \u001b[43mworld\u001b[49m\u001b[38;5;241;43m.\u001b[39;49m\u001b[43mseconds\u001b[49m\u001b[43m(\u001b[49m\u001b[38;5;241;43m40\u001b[39;49m\u001b[43m,\u001b[49m\u001b[43m[\u001b[49m\u001b[43mdeambula_amb_infrarojos\u001b[49m\u001b[43m,\u001b[49m\u001b[43m \u001b[49m\u001b[43mbusca_menjar\u001b[49m\u001b[43m,\u001b[49m\u001b[43m \u001b[49m\u001b[43msearch_light\u001b[49m\u001b[43m]\u001b[49m\u001b[43m,\u001b[49m\u001b[43m \u001b[49m\u001b[43mreal_time\u001b[49m\u001b[38;5;241;43m=\u001b[39;49m\u001b[38;5;28;43;01mTrue\u001b[39;49;00m\u001b[43m)\u001b[49m\n",
      "File \u001b[0;32m~/Documentos/notebooks/.venv/lib64/python3.11/site-packages/aitk/robots/world.py:1203\u001b[0m, in \u001b[0;36mWorld.seconds\u001b[0;34m(self, seconds, function, time_step, show, real_time, show_progress, quiet, interrupt, callback)\u001b[0m\n\u001b[1;32m   1201\u001b[0m time_step \u001b[38;5;241m=\u001b[39m time_step \u001b[38;5;28;01mif\u001b[39;00m time_step \u001b[38;5;129;01mis\u001b[39;00m \u001b[38;5;129;01mnot\u001b[39;00m \u001b[38;5;28;01mNone\u001b[39;00m \u001b[38;5;28;01melse\u001b[39;00m \u001b[38;5;28mself\u001b[39m\u001b[38;5;241m.\u001b[39mtime_step\n\u001b[1;32m   1202\u001b[0m steps \u001b[38;5;241m=\u001b[39m \u001b[38;5;28mround\u001b[39m(seconds \u001b[38;5;241m/\u001b[39m time_step)\n\u001b[0;32m-> 1203\u001b[0m \u001b[38;5;28;01mreturn\u001b[39;00m \u001b[38;5;28;43mself\u001b[39;49m\u001b[38;5;241;43m.\u001b[39;49m\u001b[43msteps\u001b[49m\u001b[43m(\u001b[49m\u001b[43msteps\u001b[49m\u001b[43m,\u001b[49m\u001b[43m \u001b[49m\u001b[43mfunction\u001b[49m\u001b[43m,\u001b[49m\u001b[43m \u001b[49m\u001b[43mtime_step\u001b[49m\u001b[43m,\u001b[49m\u001b[43m \u001b[49m\u001b[43mshow\u001b[49m\u001b[43m,\u001b[49m\u001b[43m \u001b[49m\u001b[43mreal_time\u001b[49m\u001b[43m,\u001b[49m\n\u001b[1;32m   1204\u001b[0m \u001b[43m                  \u001b[49m\u001b[43mshow_progress\u001b[49m\u001b[43m,\u001b[49m\u001b[43m \u001b[49m\u001b[43mquiet\u001b[49m\u001b[43m,\u001b[49m\u001b[43m \u001b[49m\u001b[43minterrupt\u001b[49m\u001b[43m,\u001b[49m\u001b[43m \u001b[49m\u001b[43mcallback\u001b[49m\u001b[43m)\u001b[49m\n",
      "File \u001b[0;32m~/Documentos/notebooks/.venv/lib64/python3.11/site-packages/aitk/robots/world.py:1267\u001b[0m, in \u001b[0;36mWorld.steps\u001b[0;34m(self, steps, function, time_step, show, real_time, show_progress, quiet, interrupt, callback)\u001b[0m\n\u001b[1;32m   1265\u001b[0m         print_once(\u001b[38;5;124m\"\u001b[39m\u001b[38;5;124mWARNING: you have not provided a controller function for every robot\u001b[39m\u001b[38;5;124m\"\u001b[39m)\n\u001b[1;32m   1266\u001b[0m     \u001b[38;5;66;03m# Deterministically run robots round-robin:\u001b[39;00m\n\u001b[0;32m-> 1267\u001b[0m     stop_values \u001b[38;5;241m=\u001b[39m \u001b[43m[\u001b[49m\n\u001b[1;32m   1268\u001b[0m \u001b[43m        \u001b[49m\u001b[43mfunction\u001b[49m\u001b[43m[\u001b[49m\u001b[43mi\u001b[49m\u001b[43m]\u001b[49m\u001b[43m(\u001b[49m\u001b[38;5;28;43mself\u001b[39;49m\u001b[38;5;241;43m.\u001b[39;49m\u001b[43m_robots\u001b[49m\u001b[43m[\u001b[49m\u001b[43mi\u001b[49m\u001b[43m]\u001b[49m\u001b[43m)\u001b[49m\n\u001b[1;32m   1269\u001b[0m \u001b[43m        \u001b[49m\u001b[38;5;28;43;01mfor\u001b[39;49;00m\u001b[43m \u001b[49m\u001b[43mi\u001b[49m\u001b[43m \u001b[49m\u001b[38;5;129;43;01min\u001b[39;49;00m\u001b[43m \u001b[49m\u001b[38;5;28;43mrange\u001b[39;49m\u001b[43m(\u001b[49m\u001b[38;5;28;43mlen\u001b[39;49m\u001b[43m(\u001b[49m\u001b[43mfunction\u001b[49m\u001b[43m)\u001b[49m\u001b[43m)\u001b[49m\n\u001b[1;32m   1270\u001b[0m \u001b[43m        \u001b[49m\u001b[38;5;28;43;01mif\u001b[39;49;00m\u001b[43m \u001b[49m\u001b[43mfunction\u001b[49m\u001b[43m[\u001b[49m\u001b[43mi\u001b[49m\u001b[43m]\u001b[49m\u001b[43m \u001b[49m\u001b[38;5;129;43;01mis\u001b[39;49;00m\u001b[43m \u001b[49m\u001b[38;5;129;43;01mnot\u001b[39;49;00m\u001b[43m \u001b[49m\u001b[38;5;28;43;01mNone\u001b[39;49;00m\n\u001b[1;32m   1271\u001b[0m \u001b[43m    \u001b[49m\u001b[43m]\u001b[49m\n\u001b[1;32m   1272\u001b[0m \u001b[38;5;28;01melse\u001b[39;00m:\n\u001b[1;32m   1273\u001b[0m     stop_values \u001b[38;5;241m=\u001b[39m [function(\u001b[38;5;28mself\u001b[39m)]\n",
      "File \u001b[0;32m~/Documentos/notebooks/.venv/lib64/python3.11/site-packages/aitk/robots/world.py:1268\u001b[0m, in \u001b[0;36m<listcomp>\u001b[0;34m(.0)\u001b[0m\n\u001b[1;32m   1265\u001b[0m         print_once(\u001b[38;5;124m\"\u001b[39m\u001b[38;5;124mWARNING: you have not provided a controller function for every robot\u001b[39m\u001b[38;5;124m\"\u001b[39m)\n\u001b[1;32m   1266\u001b[0m     \u001b[38;5;66;03m# Deterministically run robots round-robin:\u001b[39;00m\n\u001b[1;32m   1267\u001b[0m     stop_values \u001b[38;5;241m=\u001b[39m [\n\u001b[0;32m-> 1268\u001b[0m         \u001b[43mfunction\u001b[49m\u001b[43m[\u001b[49m\u001b[43mi\u001b[49m\u001b[43m]\u001b[49m\u001b[43m(\u001b[49m\u001b[38;5;28;43mself\u001b[39;49m\u001b[38;5;241;43m.\u001b[39;49m\u001b[43m_robots\u001b[49m\u001b[43m[\u001b[49m\u001b[43mi\u001b[49m\u001b[43m]\u001b[49m\u001b[43m)\u001b[49m\n\u001b[1;32m   1269\u001b[0m         \u001b[38;5;28;01mfor\u001b[39;00m i \u001b[38;5;129;01min\u001b[39;00m \u001b[38;5;28mrange\u001b[39m(\u001b[38;5;28mlen\u001b[39m(function))\n\u001b[1;32m   1270\u001b[0m         \u001b[38;5;28;01mif\u001b[39;00m function[i] \u001b[38;5;129;01mis\u001b[39;00m \u001b[38;5;129;01mnot\u001b[39;00m \u001b[38;5;28;01mNone\u001b[39;00m\n\u001b[1;32m   1271\u001b[0m     ]\n\u001b[1;32m   1272\u001b[0m \u001b[38;5;28;01melse\u001b[39;00m:\n\u001b[1;32m   1273\u001b[0m     stop_values \u001b[38;5;241m=\u001b[39m [function(\u001b[38;5;28mself\u001b[39m)]\n",
      "Cell \u001b[0;32mIn[11], line 2\u001b[0m, in \u001b[0;36mbusca_menjar\u001b[0;34m(robot)\u001b[0m\n\u001b[1;32m      1\u001b[0m \u001b[38;5;28;01mdef\u001b[39;00m \u001b[38;5;21mbusca_menjar\u001b[39m(robot):\n\u001b[0;32m----> 2\u001b[0m     left_smell \u001b[38;5;241m=\u001b[39m \u001b[43mrobot\u001b[49m\u001b[43m[\u001b[49m\u001b[38;5;124;43m\"\u001b[39;49m\u001b[38;5;124;43mleft-smell\u001b[39;49m\u001b[38;5;124;43m\"\u001b[39;49m\u001b[43m]\u001b[49m\u001b[38;5;241;43m.\u001b[39;49m\u001b[43mget_reading\u001b[49m()\n\u001b[1;32m      3\u001b[0m     right_smell \u001b[38;5;241m=\u001b[39m robot[\u001b[38;5;124m\"\u001b[39m\u001b[38;5;124mright-smell\u001b[39m\u001b[38;5;124m\"\u001b[39m]\u001b[38;5;241m.\u001b[39mget_reading()\n\u001b[1;32m      4\u001b[0m     diff \u001b[38;5;241m=\u001b[39m left_smell \u001b[38;5;241m-\u001b[39m right_smell\n",
      "\u001b[0;31mAttributeError\u001b[0m: 'NoneType' object has no attribute 'get_reading'"
     ]
    }
   ],
   "source": [
    "world.reset()\n",
    "robot2.state[\"timer\"] = 0 #resseteja el temporitzador\n",
    "world.set_seed(random())\n",
    "world.seconds(40,[deambula_amb_infrarojos, busca_menjar, search_light], real_time=True)"
   ]
  },
  {
   "cell_type": "markdown",
   "metadata": {},
   "source": [
    "Podem utilitzar `real_time=False` per executar el programa més ràpidament, però sense esperar els temps de pausa que hem definit.\n",
    "\n",
    "Áquesta funció ens serà molt útil per entrenar models i fer simulacions més ràpides."
   ]
  },
  {
   "cell_type": "code",
   "execution_count": null,
   "metadata": {},
   "outputs": [],
   "source": [
    "world.reset()\n",
    "robot2.state[\"timer\"] = 0 #resseteja el temporitzador\n",
    "world.set_seed(random())\n",
    "world.seconds(40,[deambula_amb_infrarojos, busca_menjar, search_light], real_time=False)"
   ]
  }
 ],
 "metadata": {
  "jupytext": {
   "formats": "ipynb,md"
  },
  "kernelspec": {
   "display_name": ".venv",
   "language": "python",
   "name": "python3"
  },
  "language_info": {
   "codemirror_mode": {
    "name": "ipython",
    "version": 3
   },
   "file_extension": ".py",
   "mimetype": "text/x-python",
   "name": "python",
   "nbconvert_exporter": "python",
   "pygments_lexer": "ipython3",
   "version": "3.11.11"
  },
  "widgets": {
   "application/vnd.jupyter.widget-state+json": {
    "state": {},
    "version_major": 2,
    "version_minor": 0
   }
  }
 },
 "nbformat": 4,
 "nbformat_minor": 4
}
