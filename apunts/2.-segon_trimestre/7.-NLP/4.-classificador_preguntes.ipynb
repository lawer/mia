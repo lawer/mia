{
 "cells": [
  {
   "cell_type": "markdown",
   "id": "e5b020ca3265da72",
   "metadata": {
    "collapsed": false
   },
   "source": [
    "# Classificar preguntes\n",
    "\n",
    "En la pràctica 2 hem vist el procés per convertir un text en una representació numèrica que pugui ser utilitzada per un algorisme d'aprenentatge automàtic. Hem pogut veure diferents representacions com *bag of words* i *word embeddings* i com entrenar una xarxa neuronal per classificar text.\n",
    "\n",
    "En aquesta pràctica hauràs de repetir el procés per classificar preguntes en temàtiques. Utilitzarem el dataset `trec` que conté preguntes en anglès i la seva temàtica. El dataset està disponible en datasets com a [trec](https://huggingface.co/datasets/CogComp/trec).\n",
    "\n",
    "## Objectius de la pràctica\n",
    "\n",
    "* Reproduir el procés vist en la pràctica 2 per classificar preguntes en temàtiques.\n",
    "* Hauràs de preparar una xarxa neuronal per classificar les preguntes.\n",
    "* Prova les diferents representacions vistes per convertir el text en una representació numèrica.\n",
    "* Hauràs de comparar els resultats obtinguts amb les diferents representacions. \n",
    "* Compara el resultats obtinguts quan utilitzes un model basat en Xarxes Neuronals Recurrents."
   ]
  }
 ],
 "metadata": {
  "kernelspec": {
   "display_name": "Python 3",
   "language": "python",
   "name": "python3"
  },
  "language_info": {
   "codemirror_mode": {
    "name": "ipython",
    "version": 2
   },
   "file_extension": ".py",
   "mimetype": "text/x-python",
   "name": "python",
   "nbconvert_exporter": "python",
   "pygments_lexer": "ipython2",
   "version": "2.7.6"
  }
 },
 "nbformat": 4,
 "nbformat_minor": 5
}
