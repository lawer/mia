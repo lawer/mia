{
 "cells": [
  {
   "cell_type": "markdown",
   "id": "9f22c112528f9104",
   "metadata": {
    "collapsed": false
   },
   "source": [
    "# Sistema de processament de text per una tasca específica\n",
    "\n",
    "En aquesta pràctica implementarem un sistema de processament de text per a una tasca específica. En aquest cas, el sistema serà el controlador per veu per un robot.\n",
    "\n",
    "Hauràs d'utilitzar les eines de processament de text que has après per a implementar un sistema que sigui capaç de rebre una ordre de moviment i retornar la comanda que el robot haurà de seguir.\n",
    "\n",
    "El vostre sistema haurà de complir les següents especificacions:\n",
    "\n",
    "- El robot ha de poder **moure's** en una velocitat de 1 fins a 10.\n",
    "- El robot ha de poder **girar** a l'esquerra o a la dreta.\n",
    "- El robot ha de poder **parar**; en aquest cas, el robot haurà de parar-se i no fer cap moviment.\n",
    "- Hem de poder especificar verbs **diferents** per a cada acció (per exemple, \"avança\" en lloc de \"mou\").\n",
    "- S'ha de poder especificar més d'una ordre en una sola frase (per exemple, \"avança 5 i gira a l'esquerra\").\n",
    "\n",
    "El procediment per a implementar el sistema serà el següent:\n",
    "\n",
    "1. **Rebre les dades d'entrada**: Rebràs una cadena de text que contindrà les ordres per al robot. Aquesta cadena de text pot contenir més d'una ordre.\n",
    "2. **Llevem les paraules innecessàries**: Utilitzarem les eines de processament de text per a eliminar les paraules que no són necessàries (stop words).\n",
    "3. **Tokenitzem i etiquetem les paraules**: Tokenitzarem les paraules i etiquetarem.\n",
    "4. **Identificar els verbs**: Identificarem els verbs que indiquin les ordres per al robot.\n",
    "5. **Identificar les direccions**: Identificarem les direccions en què el robot ha de moure's.\n",
    "6. **Identificar els nombres**: Identificarem els nombres que indiquin la quantitat de moviment.\n",
    "7. **Generar la comanda**: Generarem la comanda que el robot haurà de seguir."
   ]
  }
 ],
 "metadata": {
  "kernelspec": {
   "display_name": ".venv",
   "language": "python",
   "name": "python3"
  },
  "language_info": {
   "codemirror_mode": {
    "name": "ipython",
    "version": 3
   },
   "file_extension": ".py",
   "mimetype": "text/x-python",
   "name": "python",
   "nbconvert_exporter": "python",
   "pygments_lexer": "ipython3",
   "version": "3.11.11"
  }
 },
 "nbformat": 4,
 "nbformat_minor": 5
}
