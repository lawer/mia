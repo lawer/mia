{
 "cells": [
  {
   "cell_type": "markdown",
   "id": "188b48ed5b49e64b",
   "metadata": {
    "collapsed": false
   },
   "source": [
    "# Classificador de notícies\n",
    "\n",
    "En aquesta pràctica, crearem un classificador de notícies utilitzant les tècniques de processament de llenguatge natural que hem vist a classe, centrades en la representació del text.\n",
    "\n",
    "Utilitzarem el `dataset` [AG News](https://www.kaggle.com/amananandrai/ag-news-classification-dataset) que conté 1.000.000 de notícies de 4 categories diferents.\n",
    "\n",
    "## Dataset\n",
    "\n",
    "Per carregar el dataset, utilitzarem la llibreria `datasets`. Aquesta llibreria ens permetrà carregar molts datasets diferents de manera senzilla. En aquest cas, carregarem el dataset d'AG News."
   ]
  },
  {
   "cell_type": "markdown",
   "id": "a731df9a4a91fd19",
   "metadata": {
    "collapsed": false
   },
   "source": [
    "## Preparació del dataset\n",
    "\n",
    "Per instal·lar les llibreries necessàries, executarem la següent cel·la. \n",
    "\n",
    "Anem a utilitzar `pytorch` (una llibreria de deep learning), `scikit-learn` (una llibreria de machine learning) i `transformers` (una llibreria de models de llenguatge)."
   ]
  },
  {
   "cell_type": "code",
   "execution_count": 28,
   "id": "9987ceaeb8f560be",
   "metadata": {
    "ExecuteTime": {
     "end_time": "2024-01-17T21:06:47.825392Z",
     "start_time": "2024-01-17T21:06:09.205588Z"
    },
    "collapsed": false
   },
   "outputs": [
    {
     "name": "stdout",
     "output_type": "stream",
     "text": [
      "\u001b[33mWARNING: Ignoring invalid distribution ~ransformers (/home/carles/Documentos/notebooks/.venv/lib64/python3.11/site-packages)\u001b[0m\u001b[33m\n",
      "\u001b[0mRequirement already satisfied: torch in /home/carles/Documentos/notebooks/.venv/lib64/python3.11/site-packages (2.6.0)\n",
      "Requirement already satisfied: datasets in /home/carles/Documentos/notebooks/.venv/lib64/python3.11/site-packages (3.3.2)\n",
      "Requirement already satisfied: scikit-learn in /home/carles/Documentos/notebooks/.venv/lib64/python3.11/site-packages (1.6.1)\n",
      "Requirement already satisfied: transformers in /home/carles/Documentos/notebooks/.venv/lib64/python3.11/site-packages (4.49.0)\n",
      "Requirement already satisfied: filelock in /home/carles/Documentos/notebooks/.venv/lib64/python3.11/site-packages (from torch) (3.16.0)\n",
      "Requirement already satisfied: typing-extensions>=4.10.0 in /home/carles/Documentos/notebooks/.venv/lib64/python3.11/site-packages (from torch) (4.12.2)\n",
      "Requirement already satisfied: networkx in /home/carles/Documentos/notebooks/.venv/lib64/python3.11/site-packages (from torch) (3.3)\n",
      "Requirement already satisfied: jinja2 in /home/carles/Documentos/notebooks/.venv/lib64/python3.11/site-packages (from torch) (3.1.4)\n",
      "Requirement already satisfied: fsspec in /home/carles/Documentos/notebooks/.venv/lib64/python3.11/site-packages (from torch) (2024.6.1)\n",
      "Requirement already satisfied: nvidia-cuda-nvrtc-cu12==12.4.127 in /home/carles/Documentos/notebooks/.venv/lib64/python3.11/site-packages (from torch) (12.4.127)\n",
      "Requirement already satisfied: nvidia-cuda-runtime-cu12==12.4.127 in /home/carles/Documentos/notebooks/.venv/lib64/python3.11/site-packages (from torch) (12.4.127)\n",
      "Requirement already satisfied: nvidia-cuda-cupti-cu12==12.4.127 in /home/carles/Documentos/notebooks/.venv/lib64/python3.11/site-packages (from torch) (12.4.127)\n",
      "Requirement already satisfied: nvidia-cudnn-cu12==9.1.0.70 in /home/carles/Documentos/notebooks/.venv/lib64/python3.11/site-packages (from torch) (9.1.0.70)\n",
      "Requirement already satisfied: nvidia-cublas-cu12==12.4.5.8 in /home/carles/Documentos/notebooks/.venv/lib64/python3.11/site-packages (from torch) (12.4.5.8)\n",
      "Requirement already satisfied: nvidia-cufft-cu12==11.2.1.3 in /home/carles/Documentos/notebooks/.venv/lib64/python3.11/site-packages (from torch) (11.2.1.3)\n",
      "Requirement already satisfied: nvidia-curand-cu12==10.3.5.147 in /home/carles/Documentos/notebooks/.venv/lib64/python3.11/site-packages (from torch) (10.3.5.147)\n",
      "Requirement already satisfied: nvidia-cusolver-cu12==11.6.1.9 in /home/carles/Documentos/notebooks/.venv/lib64/python3.11/site-packages (from torch) (11.6.1.9)\n",
      "Requirement already satisfied: nvidia-cusparse-cu12==12.3.1.170 in /home/carles/Documentos/notebooks/.venv/lib64/python3.11/site-packages (from torch) (12.3.1.170)\n",
      "Requirement already satisfied: nvidia-cusparselt-cu12==0.6.2 in /home/carles/Documentos/notebooks/.venv/lib64/python3.11/site-packages (from torch) (0.6.2)\n",
      "Requirement already satisfied: nvidia-nccl-cu12==2.21.5 in /home/carles/Documentos/notebooks/.venv/lib64/python3.11/site-packages (from torch) (2.21.5)\n",
      "Requirement already satisfied: nvidia-nvtx-cu12==12.4.127 in /home/carles/Documentos/notebooks/.venv/lib64/python3.11/site-packages (from torch) (12.4.127)\n",
      "Requirement already satisfied: nvidia-nvjitlink-cu12==12.4.127 in /home/carles/Documentos/notebooks/.venv/lib64/python3.11/site-packages (from torch) (12.4.127)\n",
      "Requirement already satisfied: triton==3.2.0 in /home/carles/Documentos/notebooks/.venv/lib64/python3.11/site-packages (from torch) (3.2.0)\n",
      "Requirement already satisfied: sympy==1.13.1 in /home/carles/Documentos/notebooks/.venv/lib64/python3.11/site-packages (from torch) (1.13.1)\n",
      "Requirement already satisfied: mpmath<1.4,>=1.1.0 in /home/carles/Documentos/notebooks/.venv/lib64/python3.11/site-packages (from sympy==1.13.1->torch) (1.3.0)\n",
      "Requirement already satisfied: numpy>=1.17 in /home/carles/Documentos/notebooks/.venv/lib64/python3.11/site-packages (from datasets) (1.26.4)\n",
      "Requirement already satisfied: pyarrow>=15.0.0 in /home/carles/Documentos/notebooks/.venv/lib64/python3.11/site-packages (from datasets) (17.0.0)\n",
      "Requirement already satisfied: dill<0.3.9,>=0.3.0 in /home/carles/Documentos/notebooks/.venv/lib64/python3.11/site-packages (from datasets) (0.3.8)\n",
      "Requirement already satisfied: pandas in /home/carles/Documentos/notebooks/.venv/lib64/python3.11/site-packages (from datasets) (2.2.2)\n",
      "Requirement already satisfied: requests>=2.32.2 in /home/carles/Documentos/notebooks/.venv/lib64/python3.11/site-packages (from datasets) (2.32.3)\n",
      "Requirement already satisfied: tqdm>=4.66.3 in /home/carles/Documentos/notebooks/.venv/lib64/python3.11/site-packages (from datasets) (4.66.5)\n",
      "Requirement already satisfied: xxhash in /home/carles/Documentos/notebooks/.venv/lib64/python3.11/site-packages (from datasets) (3.5.0)\n",
      "Requirement already satisfied: multiprocess<0.70.17 in /home/carles/Documentos/notebooks/.venv/lib64/python3.11/site-packages (from datasets) (0.70.16)\n",
      "Requirement already satisfied: aiohttp in /home/carles/Documentos/notebooks/.venv/lib64/python3.11/site-packages (from datasets) (3.11.12)\n",
      "Requirement already satisfied: huggingface-hub>=0.24.0 in /home/carles/Documentos/notebooks/.venv/lib64/python3.11/site-packages (from datasets) (0.29.0)\n",
      "Requirement already satisfied: packaging in /home/carles/Documentos/notebooks/.venv/lib64/python3.11/site-packages (from datasets) (24.1)\n",
      "Requirement already satisfied: pyyaml>=5.1 in /home/carles/Documentos/notebooks/.venv/lib64/python3.11/site-packages (from datasets) (6.0.2)\n",
      "Requirement already satisfied: scipy>=1.6.0 in /home/carles/Documentos/notebooks/.venv/lib64/python3.11/site-packages (from scikit-learn) (1.13.1)\n",
      "Requirement already satisfied: joblib>=1.2.0 in /home/carles/Documentos/notebooks/.venv/lib64/python3.11/site-packages (from scikit-learn) (1.4.2)\n",
      "Requirement already satisfied: threadpoolctl>=3.1.0 in /home/carles/Documentos/notebooks/.venv/lib64/python3.11/site-packages (from scikit-learn) (3.5.0)\n",
      "Requirement already satisfied: regex!=2019.12.17 in /home/carles/Documentos/notebooks/.venv/lib64/python3.11/site-packages (from transformers) (2024.7.24)\n",
      "Requirement already satisfied: tokenizers<0.22,>=0.21 in /home/carles/Documentos/notebooks/.venv/lib64/python3.11/site-packages (from transformers) (0.21.0)\n",
      "Requirement already satisfied: safetensors>=0.4.1 in /home/carles/Documentos/notebooks/.venv/lib64/python3.11/site-packages (from transformers) (0.4.5)\n",
      "Requirement already satisfied: aiohappyeyeballs>=2.3.0 in /home/carles/Documentos/notebooks/.venv/lib64/python3.11/site-packages (from aiohttp->datasets) (2.4.0)\n",
      "Requirement already satisfied: aiosignal>=1.1.2 in /home/carles/Documentos/notebooks/.venv/lib64/python3.11/site-packages (from aiohttp->datasets) (1.3.1)\n",
      "Requirement already satisfied: attrs>=17.3.0 in /home/carles/Documentos/notebooks/.venv/lib64/python3.11/site-packages (from aiohttp->datasets) (24.2.0)\n",
      "Requirement already satisfied: frozenlist>=1.1.1 in /home/carles/Documentos/notebooks/.venv/lib64/python3.11/site-packages (from aiohttp->datasets) (1.4.1)\n",
      "Requirement already satisfied: multidict<7.0,>=4.5 in /home/carles/Documentos/notebooks/.venv/lib64/python3.11/site-packages (from aiohttp->datasets) (6.1.0)\n",
      "Requirement already satisfied: propcache>=0.2.0 in /home/carles/Documentos/notebooks/.venv/lib64/python3.11/site-packages (from aiohttp->datasets) (0.3.0)\n",
      "Requirement already satisfied: yarl<2.0,>=1.17.0 in /home/carles/Documentos/notebooks/.venv/lib64/python3.11/site-packages (from aiohttp->datasets) (1.18.3)\n",
      "Requirement already satisfied: charset-normalizer<4,>=2 in /home/carles/Documentos/notebooks/.venv/lib64/python3.11/site-packages (from requests>=2.32.2->datasets) (3.3.2)\n",
      "Requirement already satisfied: idna<4,>=2.5 in /home/carles/Documentos/notebooks/.venv/lib64/python3.11/site-packages (from requests>=2.32.2->datasets) (3.8)\n",
      "Requirement already satisfied: urllib3<3,>=1.21.1 in /home/carles/Documentos/notebooks/.venv/lib64/python3.11/site-packages (from requests>=2.32.2->datasets) (2.2.2)\n",
      "Requirement already satisfied: certifi>=2017.4.17 in /home/carles/Documentos/notebooks/.venv/lib64/python3.11/site-packages (from requests>=2.32.2->datasets) (2024.8.30)\n",
      "Requirement already satisfied: MarkupSafe>=2.0 in /home/carles/Documentos/notebooks/.venv/lib64/python3.11/site-packages (from jinja2->torch) (2.1.5)\n",
      "Requirement already satisfied: python-dateutil>=2.8.2 in /home/carles/Documentos/notebooks/.venv/lib64/python3.11/site-packages (from pandas->datasets) (2.9.0.post0)\n",
      "Requirement already satisfied: pytz>=2020.1 in /home/carles/Documentos/notebooks/.venv/lib64/python3.11/site-packages (from pandas->datasets) (2024.1)\n",
      "Requirement already satisfied: tzdata>=2022.7 in /home/carles/Documentos/notebooks/.venv/lib64/python3.11/site-packages (from pandas->datasets) (2024.1)\n",
      "Requirement already satisfied: six>=1.5 in /home/carles/Documentos/notebooks/.venv/lib64/python3.11/site-packages (from python-dateutil>=2.8.2->pandas->datasets) (1.16.0)\n",
      "\u001b[33mWARNING: Ignoring invalid distribution ~ransformers (/home/carles/Documentos/notebooks/.venv/lib64/python3.11/site-packages)\u001b[0m\u001b[33m\n",
      "\u001b[0m\u001b[33mWARNING: Ignoring invalid distribution ~ransformers (/home/carles/Documentos/notebooks/.venv/lib/python3.11/site-packages)\u001b[0m\u001b[33m\n",
      "\u001b[0m\n",
      "\u001b[1m[\u001b[0m\u001b[34;49mnotice\u001b[0m\u001b[1;39;49m]\u001b[0m\u001b[39;49m A new release of pip is available: \u001b[0m\u001b[31;49m24.2\u001b[0m\u001b[39;49m -> \u001b[0m\u001b[32;49m25.0.1\u001b[0m\n",
      "\u001b[1m[\u001b[0m\u001b[34;49mnotice\u001b[0m\u001b[1;39;49m]\u001b[0m\u001b[39;49m To update, run: \u001b[0m\u001b[32;49mpip install --upgrade pip\u001b[0m\n"
     ]
    }
   ],
   "source": [
    "# Instalem les llibreries necessàries en les versions correctes\n",
    "\n",
    "!pip install torch datasets scikit-learn transformers"
   ]
  },
  {
   "cell_type": "code",
   "execution_count": 1,
   "id": "a6b60a6618dbd12a",
   "metadata": {
    "ExecuteTime": {
     "end_time": "2024-01-17T21:07:05.113346Z",
     "start_time": "2024-01-17T21:06:47.834079Z"
    },
    "collapsed": false
   },
   "outputs": [
    {
     "data": {
      "text/plain": [
       "DatasetDict({\n",
       "    train: Dataset({\n",
       "        features: ['text', 'label'],\n",
       "        num_rows: 120000\n",
       "    })\n",
       "    test: Dataset({\n",
       "        features: ['text', 'label'],\n",
       "        num_rows: 7600\n",
       "    })\n",
       "})"
      ]
     },
     "execution_count": 1,
     "metadata": {},
     "output_type": "execute_result"
    }
   ],
   "source": [
    "from datasets import load_dataset\n",
    "\n",
    "# Carreguem el dataset. Es descarregarà automàticament i es guardarà en local. \n",
    "# Aquest dataset conté notícies de diferents categories. En aquest cas\n",
    "# utilitzarem les categories World, Sports, Business i Sci/Tech.\n",
    "\n",
    "dataset = load_dataset('ag_news')\n",
    "\n",
    "dataset"
   ]
  },
  {
   "cell_type": "code",
   "execution_count": 2,
   "id": "28e10ddd",
   "metadata": {},
   "outputs": [
    {
     "name": "stdout",
     "output_type": "stream",
     "text": [
      "{'text': \"Wall St. Bears Claw Back Into the Black (Reuters) Reuters - Short-sellers, Wall Street's dwindling\\\\band of ultra-cynics, are seeing green again.\", 'label': 2}\n",
      "{'text': Value(dtype='string', id=None), 'label': ClassLabel(names=['World', 'Sports', 'Business', 'Sci/Tech'], id=None)}\n"
     ]
    },
    {
     "data": {
      "text/plain": [
       "['World', 'Sports', 'Business', 'Sci/Tech']"
      ]
     },
     "execution_count": 2,
     "metadata": {},
     "output_type": "execute_result"
    }
   ],
   "source": [
    "print(dataset['train'][0])\n",
    "\n",
    "print(dataset['train'].features)\n",
    "\n",
    "classes = dataset['train'].features[\"label\"].names\n",
    "classes"
   ]
  },
  {
   "cell_type": "markdown",
   "id": "ba463cc1c41c1298",
   "metadata": {
    "collapsed": false
   },
   "source": [
    "Automáticament, la funció `load` ha dividit el dataset en dos conjunts: un de train i un de test. Per accedir a aquests conjunts, utilitzarem els atributs `train` i `test` de l'objecte `dataset`. Aquests atributs són objectes `tf.data.Dataset` que contenen els exemples i les etiquetes del conjunt d'entrenament i de test. Per accedir als exemples i les etiquetes, utilitzarem els atributs `data` i `label` de l'objecte `tf.data.Dataset`."
   ]
  },
  {
   "cell_type": "code",
   "execution_count": 3,
   "id": "3ca34052cf84fbd8",
   "metadata": {
    "ExecuteTime": {
     "end_time": "2024-01-17T21:07:05.194181Z",
     "start_time": "2024-01-17T21:07:05.122941Z"
    },
    "collapsed": false
   },
   "outputs": [
    {
     "name": "stdout",
     "output_type": "stream",
     "text": [
      "Nombre d'exemples de train: 120000\n",
      "Nombre d'exemples de test: 7600\n"
     ]
    }
   ],
   "source": [
    "# Separem el dataset en conjunt d'entrenament i de test\n",
    "ds_train = dataset['train']\n",
    "ds_test = dataset['test']\n",
    "\n",
    "# Vejam quants exemples hi ha en cada conjunt\n",
    "print('Nombre d\\'exemples de train:', len(ds_train))\n",
    "print('Nombre d\\'exemples de test:', len(ds_test))"
   ]
  },
  {
   "cell_type": "markdown",
   "id": "f3645de832fbdacf",
   "metadata": {
    "collapsed": false
   },
   "source": [
    "Imprimim els primers 5 exemples del conjunt d'entrenament. Com podem veure, cada exemple és una notícia i la seva etiqueta."
   ]
  },
  {
   "cell_type": "code",
   "execution_count": 4,
   "id": "60e7bededaa593f7",
   "metadata": {
    "ExecuteTime": {
     "end_time": "2024-01-17T21:07:05.480814Z",
     "start_time": "2024-01-17T21:07:05.152188Z"
    },
    "collapsed": false
   },
   "outputs": [
    {
     "name": "stdout",
     "output_type": "stream",
     "text": [
      "2 (Business) -> Wall St. Bears Claw Back Into the Black (Reuters) Reuters - Short-sellers, Wall Street's dwindling\\band of ultra-cynics, are seeing green again.\n",
      "2 (Business) -> Carlyle Looks Toward Commercial Aerospace (Reuters) Reuters - Private investment firm Carlyle Group,\\which has a reputation for making well-timed and occasionally\\controversial plays in the defense industry, has quietly placed\\its bets on another part of the market.\n",
      "2 (Business) -> Oil and Economy Cloud Stocks' Outlook (Reuters) Reuters - Soaring crude prices plus worries\\about the economy and the outlook for earnings are expected to\\hang over the stock market next week during the depth of the\\summer doldrums.\n",
      "2 (Business) -> Iraq Halts Oil Exports from Main Southern Pipeline (Reuters) Reuters - Authorities have halted oil export\\flows from the main pipeline in southern Iraq after\\intelligence showed a rebel militia could strike\\infrastructure, an oil official said on Saturday.\n",
      "2 (Business) -> Oil prices soar to all-time record, posing new menace to US economy (AFP) AFP - Tearaway world oil prices, toppling records and straining wallets, present a new economic menace barely three months before the US presidential elections.\n"
     ]
    }
   ],
   "source": [
    "# Imprimim els primers 5 exemples del conjunt d'entrenament\n",
    "for w in ds_train.take(5):\n",
    "    print(f\"{w['label']} ({classes[w['label']]}) -> {w['text']}\")"
   ]
  },
  {
   "cell_type": "markdown",
   "id": "c1e77e47",
   "metadata": {},
   "source": [
    "## Tokenització\n",
    "\n",
    "La representació del text en un model de llenguatge requereix que el text sigui convertit en números. Si volem una representació a nivell de paraula, necessitem fer dues coses:\n",
    "\n",
    "* Utilitzar un **tokenitzador** per dividir el text en **tokens**.\n",
    "* Construir un **vocabulari** amb aquests tokens."
   ]
  },
  {
   "cell_type": "code",
   "execution_count": 5,
   "id": "54f8c05f",
   "metadata": {},
   "outputs": [
    {
     "name": "stderr",
     "output_type": "stream",
     "text": [
      "/home/carles/Documentos/notebooks/.venv/lib64/python3.11/site-packages/torch/utils/_pytree.py:185: FutureWarning: optree is installed but the version is too old to support PyTorch Dynamo in C++ pytree. C++ pytree support is disabled. Please consider upgrading optree using `python3 -m pip install --upgrade 'optree>=0.13.0'`.\n",
      "  warnings.warn(\n"
     ]
    },
    {
     "name": "stdout",
     "output_type": "stream",
     "text": [
      "['-', '-', 'hello', ',', 'how', 'are', 'you', 'doing', 'today', '?']\n",
      "30522\n"
     ]
    }
   ],
   "source": [
    "# Utilitzem el tokenitzador de BERT (un dels primers models de llenguatge basats en transformers) per tokenitzar les frases\n",
    "\n",
    "from transformers import BertTokenizer\n",
    "\n",
    "tokenizer = BertTokenizer.from_pretrained(\"google-bert/bert-base-uncased\")\n",
    "\n",
    "print(tokenizer.tokenize(\"-- Hello, how are you doing today?\"))\n",
    "\n",
    "# Podem veure el vocabulari del tokenitzador\n",
    "vocab = tokenizer.get_vocab()\n",
    "print(len(vocab))"
   ]
  },
  {
   "cell_type": "markdown",
   "id": "8bc6424e",
   "metadata": {},
   "source": [
    "Utilitzant el tokenitzador, podem també convertir la nostra cadena tokenitzada en un conjunt de números:"
   ]
  },
  {
   "cell_type": "code",
   "execution_count": 6,
   "id": "169e003b",
   "metadata": {},
   "outputs": [
    {
     "name": "stdout",
     "output_type": "stream",
     "text": [
      "[1011, 1011, 7592, 1010, 2129, 2024, 2017, 2725, 2651, 1029]\n"
     ]
    }
   ],
   "source": [
    "tokenitzada = tokenizer.tokenize(\"-- Hello, how are you doing today?\")\n",
    "\n",
    "def encode(text):\n",
    "    tk = tokenizer.tokenize(text)\n",
    "    return tokenizer.convert_tokens_to_ids(tk)\n",
    "\n",
    "print(encode(\"-- Hello, how are you doing today?\"))"
   ]
  },
  {
   "cell_type": "markdown",
   "id": "8990e6d999d35898",
   "metadata": {
    "collapsed": false
   },
   "source": [
    "## Representació del text\n",
    "\n",
    "Per poder entrenar un model de xarxes neuronals, necessitem representar el text com a vectors de nombres. En aquesta pràctica, utilitzarem la representació Bag-of-Words (BoW) que consisteix en representar cada paraula com un nombre. Aquesta representació és molt senzilla i no té en compte l'ordre de les paraules ni la seva semàntica. Però és una representació que funciona prou bé en molts casos."
   ]
  },
  {
   "cell_type": "markdown",
   "id": "89259e6a26a7e3ac",
   "metadata": {
    "collapsed": false
   },
   "source": [
    "### Representació Bag-of-Words\n",
    "\n",
    "Encara que el significat de les paraules no és fàcil de deduir sense poder accedir al context, en alguns casos, la representació Bag-of-Words pot ser útil. Per exemple, en el text d'una notícia, la paraula `covid` pot ser un bon indicador que la notícia parla sobre la pandèmia de la COVID-19 i la paraula `snow` pot ser un bon indicador que la notícia parla sobre el temps atmosfèric.\n",
    "\n",
    "De les tècniques clàssiques de vectorització de text, la més senzilla és la representació Bag-of-Words (BoW). En aquesta representació, cada paraula es representa com un nombre. Per convertir un text en una representació BoW, primer creem un vector amb tants zeros com paraules hi ha en el vocabulari. Després, per cada paraula del text, incrementem en 1 el valor de la posició corresponent al vector. Per exemple, si el text és `this sentence is a test sentence`, el vector resultant seria `[1, 2, 1, 1, 0, 0, 0, 0, 0, 0, ...]`.\n",
    "\n",
    "Si recordem la representació one-hot, veurem que la representació BoW és molt similar. La diferència és que la representació one-hot serà una sèrie de vectors amb un sol 1 i la resta de valors a 0. En canvi, la representació BoW serà un vector amb tants 1 com vegades apareixi cada paraula. Podem considerar que la representació BoW seria la suma de vectors one-hot.\n",
    "\n",
    "Per exemple, si el text és `this sentence is a test sentence`, el vector one-hot de la primera paraula seria `[1, 0, 0, 0, 0, 0, 0, 0, 0, 0, ...]` i el vector one-hot de la segona paraula seria `[0, 1, 0, 0, 0, 0, 0, 0, 0, 0, ...]`. La representació BoW seria la suma d'aquests dos vectors: `[1, 1, 0, 0, 0, 0, 0, 0, 0, 0, ...]`.\n",
    "\n",
    "Per generar una representació BoW, utilitzarem aquesta tècnica per convertir cada paraula en un vector one-hot i després sumarem tots els vectors. Per fer-ho, utilitzarem la funció `to_bow` que crearem a continuació. Aquesta funció rep un text i retorna un vector amb la representació BoW del text."
   ]
  },
  {
   "cell_type": "code",
   "execution_count": 7,
   "id": "9d57f10bba32951f",
   "metadata": {
    "ExecuteTime": {
     "end_time": "2024-01-17T21:07:07.472087Z",
     "start_time": "2024-01-17T21:07:07.133342Z"
    },
    "collapsed": false
   },
   "outputs": [
    {
     "data": {
      "text/plain": [
       "array([[1, 1, 0, 2, 0, 0, 0, 0, 0]])"
      ]
     },
     "execution_count": 7,
     "metadata": {},
     "output_type": "execute_result"
    }
   ],
   "source": [
    "from sklearn.feature_extraction.text import CountVectorizer\n",
    "vectorizer = CountVectorizer()\n",
    "corpus = [\n",
    "        'I like hot dogs.',\n",
    "        'The dog ran fast.',\n",
    "        'Its hot outside.',\n",
    "    ]\n",
    "vectorizer.fit_transform(corpus)\n",
    "\n",
    "vectorizer.transform(['My dog likes hot dogs on a hot day.']).toarray()"
   ]
  },
  {
   "cell_type": "markdown",
   "id": "616ad0ef",
   "metadata": {},
   "source": [
    "Per a calcular el vector BoW de d'una noticia del nostre dataset AG_NEWS, podem utilitzar la següent funció:"
   ]
  },
  {
   "cell_type": "code",
   "execution_count": 8,
   "id": "7990a193",
   "metadata": {},
   "outputs": [
    {
     "name": "stdout",
     "output_type": "stream",
     "text": [
      "{'text': \"Wall St. Bears Claw Back Into the Black (Reuters) Reuters - Short-sellers, Wall Street's dwindling\\\\band of ultra-cynics, are seeing green again.\", 'label': 2}\n",
      "tensor([0., 0., 0.,  ..., 0., 0., 0.])\n"
     ]
    }
   ],
   "source": [
    "import torch\n",
    "\n",
    "len_vocab = len(vocab)\n",
    "\n",
    "def to_bow(text, tamany_vocabulari=len_vocab):\n",
    "    res = torch.zeros(tamany_vocabulari, dtype=torch.float32)\n",
    "\n",
    "    for i in encode(text):\n",
    "        if i<tamany_vocabulari:\n",
    "            res[i] += 1\n",
    "    return res\n",
    "\n",
    "print(ds_train[0])\n",
    "print(to_bow(ds_train[0][\"text\"]))"
   ]
  },
  {
   "cell_type": "markdown",
   "id": "f83bb2a026a54a15",
   "metadata": {
    "collapsed": false
   },
   "source": [
    "#### Entrenament del model de classificació BoW\n",
    "\n",
    "El nostre primer model serà un classificador de notícies utilitzant la representació BoW. Per fer-ho, crearem un model de xarxes neuronals amb una capa d'entrada amb tants neurones com paraules hi hagi al nostre vocabulari i una capa de sortida amb tants neurones com categories hi hagi al nostre dataset.\n",
    "\n",
    "#### Representació BoW\n",
    "\n",
    "En primer lloc necessitem convertir el text en la representació BoW utilitzant la funció `to_bow` que hem creat abans. Aquesta funció rep un text i retorna un vector amb la representació BoW del text.\n",
    "\n",
    "En pytorch s'utilitzen els `DataLoaders`, per carregar les dades en lots i convertir-les en tensors de PyTorch. Aprofitarem aquesta funcionalitat per convertir les dades en BoW en tensors de PyTorch, utilitzant el paràmetre `collate_fn` del `DataLoader` i proporcionant una funció que converteixi les dades textuals en tensors de BoW."
   ]
  },
  {
   "cell_type": "code",
   "execution_count": 9,
   "id": "0fd6b204",
   "metadata": {},
   "outputs": [],
   "source": [
    "from torch.utils.data import DataLoader\n",
    "\n",
    "\n",
    "# this collate function gets list of batch_size tuples, and needs to\n",
    "# return a pair of label-feature tensors for the whole minibatch\n",
    "def bowify(batch):\n",
    "    \"\"\"\n",
    "    Aquesta funció rep una llista de noticies i retorna un tensor amb les etiquetes\n",
    "    (vector de floats) i un altre amb les notícies codificades com a BoW (matriu de floats on cada fila\n",
    "    és un vector de BoW).\n",
    "    \"\"\"\n",
    "\n",
    "    # Els labels són 0, 1, 2 o 3.\n",
    "    # Utilitzem LongTensor perquè són enters.\n",
    "\n",
    "    etiquetes = torch.LongTensor([noticia[\"label\"] for noticia in batch])\n",
    "\n",
    "    # Les notícies són tensors de BoW\n",
    "    noticies = torch.stack([to_bow(noticia[\"text\"]) for noticia in batch])\n",
    "\n",
    "    return (etiquetes, noticies)\n",
    "\n",
    "train_loader = DataLoader(ds_train, batch_size=16, collate_fn=bowify)\n",
    "test_loader = DataLoader(ds_test, batch_size=16, collate_fn=bowify)\n"
   ]
  },
  {
   "cell_type": "markdown",
   "id": "8e85d6ad8ccb956f",
   "metadata": {
    "collapsed": false
   },
   "source": [
    "#### Model de classificació\n",
    "\n",
    "Now let's define a simple classifier neural network that contains one linear layer. The size of the input vector equals to `vocab_size`, and output size corresponds to the number of classes (4). Because we are solving classification task, the final activation function is `LogSoftmax()`.\n",
    "\n",
    "Ara crearem el model de classificació utilitzant PyTorch. Definirem un model senzill amb una capa lineal. La mida del vector d'entrada serà `vocab_size` i la mida de la sortida serà el nombre de classes (4). Com que estem resolent una tasca de classificació, la funció d'activació final serà `LogSoftmax()`."
   ]
  },
  {
   "cell_type": "code",
   "execution_count": 10,
   "id": "9f785d77",
   "metadata": {},
   "outputs": [],
   "source": [
    "net = torch.nn.Sequential(\n",
    "    torch.nn.Linear(len(vocab), 4),\n",
    "    torch.nn.LogSoftmax(dim=1)\n",
    ")\n",
    "\n",
    "# També podem definir la xarxa neuronal com a classe\n",
    "\n",
    "class BoWClassifier(torch.nn.Module):\n",
    "    def __init__(self, tamany_vocabulari, num_classes):\n",
    "        # En el constructor definim les capes de la xarxa\n",
    "        # crida al constructor de la classe pare\n",
    "        super().__init__()\n",
    "\n",
    "        # Capa lineal que passa de tamany_vocabulari a num_classes\n",
    "        self.fc = torch.nn.Linear(tamany_vocabulari, num_classes)\n",
    "\n",
    "        # Funció de softmax per obtenir probabilitats\n",
    "        self.logsoftmax = torch.nn.LogSoftmax(dim=1)\n",
    "\n",
    "        # Com a funció de pèrdua utilitzarem la NNLLLoss (Negative Log Likelihood Loss)\n",
    "        # S'utilitza per classificació multiclasse i determina la pèrdua entre les prediccions\n",
    "        # i les etiquetes\n",
    "\n",
    "        self.loss = torch.nn.NLLLoss()\n",
    "\n",
    "    def forward(self, ids):\n",
    "        # x és el vector de BoW de la notícia\n",
    "        # labels és l'etiqueta de la notícia\n",
    "\n",
    "        # Passem x per la capa lineal\n",
    "        ids = self.fc(ids)\n",
    "        \n",
    "        # Passem x per la funció de softmax\n",
    "        ids = self.logsoftmax(ids)\n",
    "\n",
    "        return ids\n",
    "    \n",
    "net = BoWClassifier(len(vocab), 4)"
   ]
  },
  {
   "cell_type": "markdown",
   "id": "803d5e68",
   "metadata": {},
   "source": [
    "#### Entrenament del model\n",
    "\n",
    "Ara definirem el bucle d'entrenament estàndard de PyTorch. Com que el nostre dataset és bastant gran, per a la nostra finalitat docent entrenarem només per una època, i a vegades fins i tot per menys d'una època (especificant el paràmetre `epoch_size` ens permet limitar l'entrenament). També informarem de l'exactitud d'entrenament acumulada durant l'entrenament; la freqüència de notificació es especifica utilitzant el paràmetre `report_freq`.\n",
    "\n",
    "Per entrenar el model, utilitzarem l'optimitzador `Adam` (ja que és un dels optimitzadors més utilitzats) i la funció de cost `CrossEntropyLoss` (ja que tenim un problema de classificació amb més de dues classes). "
   ]
  },
  {
   "cell_type": "code",
   "execution_count": 11,
   "id": "6849a137",
   "metadata": {},
   "outputs": [],
   "source": [
    "# Definim l'optimitzador, la funció de pèrdua i el dispositiu on es faran els càlculs\n",
    "optimizer = torch.optim.Adam(net.parameters(), lr=0.01)\n",
    "device = torch.device('cuda' if torch.cuda.is_available() else 'cpu')\n",
    "loss_fn = torch.nn.CrossEntropyLoss()"
   ]
  },
  {
   "cell_type": "code",
   "execution_count": 12,
   "id": "4e46fdbd",
   "metadata": {},
   "outputs": [],
   "source": [
    "def train_epoch(\n",
    "    net,\n",
    "    dataloader,\n",
    "    device=None,\n",
    "    optimizer=None,\n",
    "    loss_fn=None,\n",
    "    epoch_size=None,\n",
    "    report_freq=200,\n",
    "):\n",
    "    # Movem la xarxa a la GPU\n",
    "    net.to(device)\n",
    "\n",
    "    # Posem la xarxa en mode training. Això activa el comportament de les capes Dropout, per exemple.\n",
    "    net.train()\n",
    "\n",
    "    # Inicialitzem les variables que ens serviran per calcular la precisió\n",
    "    total_loss, acc, count, i = 0, 0, 0, 0\n",
    "\n",
    "    # Iterem sobre el dataloader\n",
    "    for labels, features in dataloader:\n",
    "        # Movem les dades a la GPU\n",
    "        labels, features = labels.to(device), features.to(device)\n",
    "\n",
    "        # Posem els gradients a zero\n",
    "        optimizer.zero_grad()\n",
    "\n",
    "        # Calculem la sortida de la xarxa\n",
    "        out = net(features)\n",
    "\n",
    "        # Calculem la pèrdua. Aquesta funció ja aplica la softmax a la sortida.\n",
    "        loss = loss_fn(out, labels)  # cross_entropy(out,labels)\n",
    "\n",
    "        # Propaguem la pèrdua enrere. Això farà que es calculin els gradients.\n",
    "        loss.backward()\n",
    "\n",
    "        # Actualitzem els pesos de la xarxa. Això fa un pas d'optimització.\n",
    "        optimizer.step()\n",
    "\n",
    "        # Actualitzem les variables per calcular la precisió.\n",
    "        total_loss += loss\n",
    "\n",
    "        # Calculem la precisió. Per fer-ho, hem de convertir la sortida de la xarxa en etiquetes.\n",
    "        # La classe amb la probabilitat més alta és la que predim com a etiqueta.\n",
    "        _, predicted = torch.max(out, 1)\n",
    "        acc += (predicted == labels).sum()\n",
    "\n",
    "        # Actualitzem el comptador de mostres\n",
    "        count += len(labels)\n",
    "\n",
    "        # Mostrem la precisió cada report_freq mostres\n",
    "        i += 1\n",
    "        if i % report_freq == 0:\n",
    "            print(f\"{count}: acc={acc.item()/count}\")\n",
    "\n",
    "        # Si s'ha especificat epoch_size i ja hem processat aquest nombre de mostres, sortim del bucle.\n",
    "        if epoch_size and count > epoch_size:\n",
    "            break\n",
    "    return total_loss.item() / count, acc.item() / count\n",
    "\n",
    "\n",
    "# si volem entrenar la xarxa durant més èpoques, podem fer-ho amb un bucle\n",
    "def train(\n",
    "    net,\n",
    "    train_loader,\n",
    "    test_loader,\n",
    "    device=None,\n",
    "    optimizer=None,\n",
    "    loss_fn=None,\n",
    "    epochs=10,\n",
    "    report_freq=200,\n",
    "):\n",
    "    if optimizer is None:\n",
    "        optimizer = torch.optim.Adam(net.parameters(), lr=0.01)\n",
    "\n",
    "    if any(x is None for x in [device, loss_fn]):\n",
    "        raise ValueError(\"device, optimizer and loss_fn must be specified\")\n",
    "\n",
    "    for epoch in range(epochs):\n",
    "        print(f\"Epoch {epoch}\")\n",
    "        train_loss, train_acc = train_epoch(\n",
    "            net, train_loader, optimizer=optimizer, loss_fn=loss_fn, report_freq=report_freq\n",
    "        )\n",
    "        print(f\"Train loss: {train_loss}, Train acc: {train_acc}\")"
   ]
  },
  {
   "cell_type": "code",
   "execution_count": 13,
   "id": "0b415054",
   "metadata": {},
   "outputs": [
    {
     "name": "stdout",
     "output_type": "stream",
     "text": [
      "Epoch 0\n",
      "3200: acc=0.7409375\n",
      "6400: acc=0.80375\n",
      "9600: acc=0.8259375\n",
      "12800: acc=0.84125\n",
      "16000: acc=0.8498125\n",
      "19200: acc=0.8547916666666666\n",
      "22400: acc=0.8603571428571428\n",
      "25600: acc=0.8645703125\n",
      "28800: acc=0.8661111111111112\n",
      "32000: acc=0.868\n",
      "35200: acc=0.8707102272727273\n",
      "38400: acc=0.8723177083333333\n",
      "41600: acc=0.8737019230769231\n",
      "44800: acc=0.8752008928571429\n",
      "48000: acc=0.8757916666666666\n",
      "51200: acc=0.87615234375\n",
      "54400: acc=0.8773345588235294\n",
      "57600: acc=0.8781076388888889\n",
      "60800: acc=0.8777302631578947\n",
      "64000: acc=0.877859375\n",
      "67200: acc=0.8788392857142857\n",
      "70400: acc=0.879346590909091\n",
      "73600: acc=0.8800815217391305\n",
      "76800: acc=0.8815625\n",
      "80000: acc=0.883325\n",
      "83200: acc=0.8846995192307693\n",
      "86400: acc=0.885011574074074\n",
      "89600: acc=0.8852120535714286\n",
      "92800: acc=0.8859482758620689\n",
      "96000: acc=0.88646875\n",
      "99200: acc=0.8866935483870968\n",
      "102400: acc=0.887021484375\n",
      "105600: acc=0.8877840909090909\n",
      "108800: acc=0.8881801470588235\n",
      "112000: acc=0.8884017857142857\n",
      "115200: acc=0.8890104166666667\n",
      "118400: acc=0.8895185810810811\n",
      "Train loss: 0.0260796875, Train acc: 0.889925\n"
     ]
    }
   ],
   "source": [
    "train(net, train_loader, test_loader, device=device, loss_fn=loss_fn, epochs=1)"
   ]
  },
  {
   "cell_type": "code",
   "execution_count": 14,
   "id": "49919b11",
   "metadata": {},
   "outputs": [],
   "source": [
    "def validate(net, test_loader):\n",
    "    net.eval()\n",
    "    total_loss, acc, count = 0, 0, 0\n",
    "    for labels, features in test_loader:\n",
    "        out = net(features)\n",
    "        _, predicted = torch.max(out, 1)\n",
    "        acc += (predicted == labels).sum()\n",
    "        count += len(labels)\n",
    "    return acc.item() / count"
   ]
  },
  {
   "cell_type": "code",
   "execution_count": 15,
   "id": "905faeae",
   "metadata": {},
   "outputs": [
    {
     "data": {
      "text/plain": [
       "0.8925"
      ]
     },
     "execution_count": 15,
     "metadata": {},
     "output_type": "execute_result"
    }
   ],
   "source": [
    "validate(net, test_loader)"
   ]
  },
  {
   "cell_type": "markdown",
   "id": "af3230bbc2532904",
   "metadata": {
    "collapsed": false
   },
   "source": [
    "El model ha aconseguit una accuracy de quasi `0.9` en el conjunt d'entrenament; un nombre prou acceptable tenint en compte que hem simplificat el problema per reduïr el temps d'execució del tutorial. En un cas real, utilitzaríem totes les notícies del conjunt d'entrenament i el model seria més precís."
   ]
  },
  {
   "cell_type": "markdown",
   "id": "e5fe580202e44097",
   "metadata": {
    "collapsed": false
   },
   "source": [
    "### Representació Word2Vec\n",
    "\n",
    "La representació Word2Vec és una representació molt utilitzada en el processament de llenguatge natural. Aquesta representació té en compte el context de les paraules i permet fer operacions amb les paraules. Per exemple, si restem el vector de la paraula `king` i sumem el vector de la paraula `woman`, obtindrem un vector que serà molt similar al vector de la paraula `queen`.\n",
    "\n",
    "Per generar la representació Word2Vec, utilitzarem la llibreria `gensim`. Aquesta llibreria conté molts models de representació de paraules. En aquest cas, utilitzarem el model `word2vec-google-news-300` que conté la representació Word2Vec de 3 milions de paraules i frases. \n",
    "\n",
    "> La primera vegada que s'executi aquesta cel·la, la funció `load` descarregarà el model d'1.5GB. Això pot trigar uns minuts. Un cop descarregat, el model es guardarà a la carpeta `/home/USUARI/gensim-data/word2vec-google-news-300/word2vec-google-news-300.gz` i no caldrà descarregar-lo de nou.\n",
    "> Aquesta funció retorna un objecte `KeyedVectors` que conté la representació Word2Vec."
   ]
  },
  {
   "cell_type": "code",
   "execution_count": 16,
   "id": "12929ab110408820",
   "metadata": {
    "ExecuteTime": {
     "end_time": "2024-01-17T21:14:40.504566Z",
     "start_time": "2024-01-17T21:12:31.589189Z"
    },
    "collapsed": false
   },
   "outputs": [],
   "source": [
    "import gensim.downloader as api\n",
    "\n",
    "w2v = api.load('word2vec-google-news-300')"
   ]
  },
  {
   "cell_type": "markdown",
   "id": "b4b9fa1231614bce",
   "metadata": {
    "collapsed": false
   },
   "source": [
    "Ara ja podem accedir a la representació Word2Vec de cada paraula. Per exemple, per accedir a la representació de la paraula `king`, utilitzarem la funció `get_vector` de l'objecte `KeyedVectors`."
   ]
  },
  {
   "cell_type": "code",
   "execution_count": 17,
   "id": "fee703eb5efc219a",
   "metadata": {
    "ExecuteTime": {
     "end_time": "2024-01-17T21:14:41.336216Z",
     "start_time": "2024-01-17T21:14:40.524698Z"
    },
    "collapsed": false
   },
   "outputs": [
    {
     "data": {
      "text/plain": [
       "array([ 1.25976562e-01,  2.97851562e-02,  8.60595703e-03,  1.39648438e-01,\n",
       "       -2.56347656e-02, -3.61328125e-02,  1.11816406e-01, -1.98242188e-01,\n",
       "        5.12695312e-02,  3.63281250e-01, -2.42187500e-01, -3.02734375e-01,\n",
       "       -1.77734375e-01, -2.49023438e-02, -1.67968750e-01, -1.69921875e-01,\n",
       "        3.46679688e-02,  5.21850586e-03,  4.63867188e-02,  1.28906250e-01,\n",
       "        1.36718750e-01,  1.12792969e-01,  5.95703125e-02,  1.36718750e-01,\n",
       "        1.01074219e-01, -1.76757812e-01, -2.51953125e-01,  5.98144531e-02,\n",
       "        3.41796875e-01, -3.11279297e-02,  1.04492188e-01,  6.17675781e-02,\n",
       "        1.24511719e-01,  4.00390625e-01, -3.22265625e-01,  8.39843750e-02,\n",
       "        3.90625000e-02,  5.85937500e-03,  7.03125000e-02,  1.72851562e-01,\n",
       "        1.38671875e-01, -2.31445312e-01,  2.83203125e-01,  1.42578125e-01,\n",
       "        3.41796875e-01, -2.39257812e-02, -1.09863281e-01,  3.32031250e-02,\n",
       "       -5.46875000e-02,  1.53198242e-02, -1.62109375e-01,  1.58203125e-01,\n",
       "       -2.59765625e-01,  2.01416016e-02, -1.63085938e-01,  1.35803223e-03,\n",
       "       -1.44531250e-01, -5.68847656e-02,  4.29687500e-02, -2.46582031e-02,\n",
       "        1.85546875e-01,  4.47265625e-01,  9.58251953e-03,  1.31835938e-01,\n",
       "        9.86328125e-02, -1.85546875e-01, -1.00097656e-01, -1.33789062e-01,\n",
       "       -1.25000000e-01,  2.83203125e-01,  1.23046875e-01,  5.32226562e-02,\n",
       "       -1.77734375e-01,  8.59375000e-02, -2.18505859e-02,  2.05078125e-02,\n",
       "       -1.39648438e-01,  2.51464844e-02,  1.38671875e-01, -1.05468750e-01,\n",
       "        1.38671875e-01,  8.88671875e-02, -7.51953125e-02, -2.13623047e-02,\n",
       "        1.72851562e-01,  4.63867188e-02, -2.65625000e-01,  8.91113281e-03,\n",
       "        1.49414062e-01,  3.78417969e-02,  2.38281250e-01, -1.24511719e-01,\n",
       "       -2.17773438e-01, -1.81640625e-01,  2.97851562e-02,  5.71289062e-02,\n",
       "       -2.89306641e-02,  1.24511719e-02,  9.66796875e-02, -2.31445312e-01,\n",
       "        5.81054688e-02,  6.68945312e-02,  7.08007812e-02, -3.08593750e-01,\n",
       "       -2.14843750e-01,  1.45507812e-01, -4.27734375e-01, -9.39941406e-03,\n",
       "        1.54296875e-01, -7.66601562e-02,  2.89062500e-01,  2.77343750e-01,\n",
       "       -4.86373901e-04, -1.36718750e-01,  3.24218750e-01, -2.46093750e-01,\n",
       "       -3.03649902e-03, -2.11914062e-01,  1.25000000e-01,  2.69531250e-01,\n",
       "        2.04101562e-01,  8.25195312e-02, -2.01171875e-01, -1.60156250e-01,\n",
       "       -3.78417969e-02, -1.20117188e-01,  1.15234375e-01, -4.10156250e-02,\n",
       "       -3.95507812e-02, -8.98437500e-02,  6.34765625e-03,  2.03125000e-01,\n",
       "        1.86523438e-01,  2.73437500e-01,  6.29882812e-02,  1.41601562e-01,\n",
       "       -9.81445312e-02,  1.38671875e-01,  1.82617188e-01,  1.73828125e-01,\n",
       "        1.73828125e-01, -2.37304688e-01,  1.78710938e-01,  6.34765625e-02,\n",
       "        2.36328125e-01, -2.08984375e-01,  8.74023438e-02, -1.66015625e-01,\n",
       "       -7.91015625e-02,  2.43164062e-01, -8.88671875e-02,  1.26953125e-01,\n",
       "       -2.16796875e-01, -1.73828125e-01, -3.59375000e-01, -8.25195312e-02,\n",
       "       -6.49414062e-02,  5.07812500e-02,  1.35742188e-01, -7.47070312e-02,\n",
       "       -1.64062500e-01,  1.15356445e-02,  4.45312500e-01, -2.15820312e-01,\n",
       "       -1.11328125e-01, -1.92382812e-01,  1.70898438e-01, -1.25000000e-01,\n",
       "        2.65502930e-03,  1.92382812e-01, -1.74804688e-01,  1.39648438e-01,\n",
       "        2.92968750e-01,  1.13281250e-01,  5.95703125e-02, -6.39648438e-02,\n",
       "        9.96093750e-02, -2.72216797e-02,  1.96533203e-02,  4.27246094e-02,\n",
       "       -2.46093750e-01,  6.39648438e-02, -2.25585938e-01, -1.68945312e-01,\n",
       "        2.89916992e-03,  8.20312500e-02,  3.41796875e-01,  4.32128906e-02,\n",
       "        1.32812500e-01,  1.42578125e-01,  7.61718750e-02,  5.98144531e-02,\n",
       "       -1.19140625e-01,  2.74658203e-03, -6.29882812e-02, -2.72216797e-02,\n",
       "       -4.82177734e-03, -8.20312500e-02, -2.49023438e-02, -4.00390625e-01,\n",
       "       -1.06933594e-01,  4.24804688e-02,  7.76367188e-02, -1.16699219e-01,\n",
       "        7.37304688e-02, -9.22851562e-02,  1.07910156e-01,  1.58203125e-01,\n",
       "        4.24804688e-02,  1.26953125e-01,  3.61328125e-02,  2.67578125e-01,\n",
       "       -1.01074219e-01, -3.02734375e-01, -5.76171875e-02,  5.05371094e-02,\n",
       "        5.26428223e-04, -2.07031250e-01, -1.38671875e-01, -8.97216797e-03,\n",
       "       -2.78320312e-02, -1.41601562e-01,  2.07031250e-01, -1.58203125e-01,\n",
       "        1.27929688e-01,  1.49414062e-01, -2.24609375e-02, -8.44726562e-02,\n",
       "        1.22558594e-01,  2.15820312e-01, -2.13867188e-01, -3.12500000e-01,\n",
       "       -3.73046875e-01,  4.08935547e-03,  1.07421875e-01,  1.06933594e-01,\n",
       "        7.32421875e-02,  8.97216797e-03, -3.88183594e-02, -1.29882812e-01,\n",
       "        1.49414062e-01, -2.14843750e-01, -1.83868408e-03,  9.91210938e-02,\n",
       "        1.57226562e-01, -1.14257812e-01, -2.05078125e-01,  9.91210938e-02,\n",
       "        3.69140625e-01, -1.97265625e-01,  3.54003906e-02,  1.09375000e-01,\n",
       "        1.31835938e-01,  1.66992188e-01,  2.35351562e-01,  1.04980469e-01,\n",
       "       -4.96093750e-01, -1.64062500e-01, -1.56250000e-01, -5.22460938e-02,\n",
       "        1.03027344e-01,  2.43164062e-01, -1.88476562e-01,  5.07812500e-02,\n",
       "       -9.37500000e-02, -6.68945312e-02,  2.27050781e-02,  7.61718750e-02,\n",
       "        2.89062500e-01,  3.10546875e-01, -5.37109375e-02,  2.28515625e-01,\n",
       "        2.51464844e-02,  6.78710938e-02, -1.21093750e-01, -2.15820312e-01,\n",
       "       -2.73437500e-01, -3.07617188e-02, -3.37890625e-01,  1.53320312e-01,\n",
       "        2.33398438e-01, -2.08007812e-01,  3.73046875e-01,  8.20312500e-02,\n",
       "        2.51953125e-01, -7.61718750e-02, -4.66308594e-02, -2.23388672e-02,\n",
       "        2.99072266e-02, -5.93261719e-02, -4.66918945e-03, -2.44140625e-01,\n",
       "       -2.09960938e-01, -2.87109375e-01, -4.54101562e-02, -1.77734375e-01,\n",
       "       -2.79296875e-01, -8.59375000e-02,  9.13085938e-02,  2.51953125e-01],\n",
       "      dtype=float32)"
      ]
     },
     "execution_count": 17,
     "metadata": {},
     "output_type": "execute_result"
    }
   ],
   "source": [
    "w2v.get_vector('king')"
   ]
  },
  {
   "cell_type": "markdown",
   "id": "ade1217873948a0",
   "metadata": {
    "collapsed": false
   },
   "source": [
    "També podem accedir a les paraules més similars a una paraula. Per exemple, per accedir a les paraules més similars a la paraula `king`, utilitzarem la funció `most_similar` de l'objecte `KeyedVectors`."
   ]
  },
  {
   "cell_type": "code",
   "execution_count": 18,
   "id": "bffdc3f5aef651db",
   "metadata": {
    "ExecuteTime": {
     "end_time": "2024-01-17T21:14:57.407515Z",
     "start_time": "2024-01-17T21:14:40.936113Z"
    },
    "collapsed": false
   },
   "outputs": [
    {
     "name": "stdout",
     "output_type": "stream",
     "text": [
      "kings -> 0.7138045430183411\n",
      "queen -> 0.6510956883430481\n",
      "monarch -> 0.6413194537162781\n",
      "crown_prince -> 0.6204220056533813\n",
      "prince -> 0.6159993410110474\n",
      "sultan -> 0.5864824056625366\n",
      "ruler -> 0.5797567367553711\n",
      "princes -> 0.5646552443504333\n",
      "Prince_Paras -> 0.5432944297790527\n",
      "throne -> 0.5422105193138123\n"
     ]
    }
   ],
   "source": [
    "for w, p in w2v.most_similar('king'):\n",
    "    print(f\"{w} -> {p}\")"
   ]
  },
  {
   "cell_type": "markdown",
   "id": "94fa38ee95af3d11",
   "metadata": {
    "collapsed": false
   },
   "source": [
    "El més interessant de la representació Word2Vec és que els vectors tenen una estructura matemàtica que permet fer operacions amb les paraules. Per exemple, si restem el vector de la paraula `king` i sumem el vector de la paraula `woman`, obtindrem un vector que serà molt similar al vector de la paraula `queen`.\n",
    "\n",
    "$$ KING - MAN + WOMAN = QUEEN $$\n",
    "\n",
    "Per fer aquesta operació, utilitzarem la funció `most_similar` de l'objecte `KeyedVectors` i li passarem els vectors de les paraules `king`, `woman` i `man`. Aquesta funció retornarà una llista amb les paraules més similars al vector resultant. Com podem veure, la paraula més similar és `queen`."
   ]
  },
  {
   "cell_type": "code",
   "execution_count": 19,
   "id": "4f79029055681603",
   "metadata": {
    "ExecuteTime": {
     "end_time": "2024-01-17T21:14:57.817533Z",
     "start_time": "2024-01-17T21:14:57.418430Z"
    },
    "collapsed": false
   },
   "outputs": [
    {
     "data": {
      "text/plain": [
       "('queen', 0.7118193507194519)"
      ]
     },
     "execution_count": 19,
     "metadata": {},
     "output_type": "execute_result"
    }
   ],
   "source": [
    "w2v.most_similar(positive=['king', 'woman'], negative=['man'])[0]"
   ]
  },
  {
   "cell_type": "markdown",
   "id": "28a76b6e",
   "metadata": {},
   "source": [
    "### Classificador Word2Vec\n",
    "\n",
    "Ara crearem un classificador de notícies utilitzant la representació Word2Vec. En primer lloc haurem d'obtenir la representació Word2Vec de cada paraula per convertir el text en vectors. Després, sumarem tots els vectors per obtenir un vector per cada notícia. Aquest vector serà la representació de la notícia.\n",
    "\n",
    "Per convertir un text en un vector, utilitzarem la funció `to_w2v` que crearem a continuació. Aquesta funció rep un text i retorna un vector amb la representació Word2Vec del text."
   ]
  },
  {
   "cell_type": "code",
   "execution_count": 20,
   "id": "ce374416",
   "metadata": {},
   "outputs": [
    {
     "name": "stdout",
     "output_type": "stream",
     "text": [
      "tensor([-17.0809,  11.0404,  -0.9337,  12.4042,  -6.2286,   3.0224, -10.0442,\n",
      "         -8.5156,  -5.9407,   1.1501,  -3.8471,  -8.0006, -18.2444,   4.3982,\n",
      "        -14.2061,  11.0110,  11.2352,  14.8521,  -2.5686,   2.8961, -22.3914,\n",
      "         -3.2182,   9.7872,   0.3238,  -8.6214,   4.2367, -21.9348,   5.7704,\n",
      "         -0.6942,  -1.7075,  -2.4800,   2.1805,  -7.0602, -12.3824, -11.6949,\n",
      "          8.2563, -18.9995,  11.3932,  -7.3198,   7.3370,  -6.1129,  -3.6244,\n",
      "          5.8519,   8.3060,   3.9137,  -1.8091,  -3.2730, -15.8203,  -9.6418,\n",
      "          8.9092, -16.8270,  24.5614,  -2.5387,  21.7112,   6.0571,  14.3324,\n",
      "        -17.4978, -12.2693,   1.1129, -15.9192, -12.1886,  -9.5650, -19.0873,\n",
      "         -7.7948,  -4.9111, -18.4653, -10.2332,  11.3437,  -6.0452,   5.4705,\n",
      "          3.7500,  -9.5068,   4.4747,  -0.2912,  -3.9221,   0.3543,  13.0927,\n",
      "          2.3088,   3.5300, -11.2126, -14.8031,  -2.9008,  -3.4219,  -0.3365,\n",
      "         13.8353,   7.0914,  -5.2219,  22.0132,   4.2657,   5.8488,  -0.5776,\n",
      "         -1.5022,  -5.0004, -13.3813,   4.8757,  10.3992,  -9.8992,  10.6411,\n",
      "         25.6584,  -3.4937,  -6.5989,  -1.0960,  -6.7775,   0.1842,  -6.0798,\n",
      "         13.2260,  -6.2332,   4.9711,   0.8566,   4.1002, -11.5986, -16.8590,\n",
      "         -6.4362,  -3.6979,   4.9203,  15.2933,   7.6364,  -5.8566,  -1.6903,\n",
      "         -2.3312,  12.3486,   7.5709,  -0.6597,   2.7831,  12.6196, -15.9392,\n",
      "         -9.4420,  -1.7229,   7.7839,  10.5602,  -5.9280,  -2.6489,  -6.4361,\n",
      "         -3.8383, -16.0124,   8.0287,  -3.4375,   2.8186,  22.9197,  13.0072,\n",
      "         20.2472,  -6.0054,   4.0575,  -4.7046,  -6.8406, -12.1006,  -4.0645,\n",
      "         18.0959,  -4.8794,   1.5283,   8.0677, -28.4229,  -6.3982,  -4.6095,\n",
      "         -8.2329,  -7.8615,   8.5930,  14.3553,  -2.6136,  -0.7672,   0.5814,\n",
      "          6.9687,   0.7667,   0.1969,  -1.1499,  -4.6281,  15.1071,   5.1883,\n",
      "        -10.1836,   6.9755,  -9.1791,  -8.8102,  -6.4574,  -8.9768,  -1.3514,\n",
      "         20.5255,  22.8086, -22.4160,  -2.1751,  -5.2745,   0.4971,   1.9747,\n",
      "          5.5252,  -4.8856,  -2.1867,   5.9344,  -5.4659,   5.1147,  -3.3837,\n",
      "          5.4895,  12.1746,  -4.1896, -27.1298,  -4.4509,  10.7126,   4.8896,\n",
      "         -6.0110,  -0.7719,   7.8879, -10.4668,  -9.2913,   2.1059, -19.3102,\n",
      "        -10.8101,   5.4989,  -7.4446,  -4.7968,   9.8521,  -3.9826,  14.8542,\n",
      "         16.3674,   7.4929, -11.3996,   1.8357,  -8.1945,   6.2330,  15.2261,\n",
      "         -3.4122, -16.1802,  -2.0000, -12.0552,  11.2962,   5.6537,  -0.8348,\n",
      "         -0.8463,  -6.4080,   5.8111,   2.4668,   1.0925, -14.5064,   1.1021,\n",
      "         -4.3229,  -8.5156,   1.3596,   0.2417,   1.4028,   7.4663,   8.9206,\n",
      "          7.3249,   8.0591,   7.7924,   6.9987,  27.3159,  -4.7353,   0.7053,\n",
      "          6.7754, -12.8845,  13.8699,   5.8623,  -6.8129,   5.8627,   2.7595,\n",
      "          6.3065,   9.9255,  -2.8854, -10.1693,  -7.0736,   7.9216,   2.5093,\n",
      "         -9.5866,   7.4031,  -0.9011,   9.9832,  -2.0049,  -6.3317,   0.4062,\n",
      "          0.0936,   1.1288,  -2.5539,  -2.7307,  -5.4014,  -2.8721,   1.3374,\n",
      "          0.2924,   3.5125,  -8.9189, -15.5585, -13.4326,  -9.4054,   3.7766,\n",
      "        -12.4168,  12.1424,  -1.4987,   0.1738,  -0.9734,   6.0570,  -0.8122,\n",
      "         -3.2520,  -5.7413,  -4.4579,   4.8879,  -0.8176,  -9.8232,   8.6069,\n",
      "         -3.3508, -15.2089, -10.0510,  -1.9859, -10.7878,  18.1031])\n"
     ]
    }
   ],
   "source": [
    "def to_w2v(text):\n",
    "    res = torch.zeros(300, dtype=torch.float32)\n",
    "    for word in text:\n",
    "        if word in w2v:\n",
    "            res += torch.tensor(w2v.get_vector(word))\n",
    "    return res\n",
    "\n",
    "print(to_w2v(ds_train[0][\"text\"]))"
   ]
  },
  {
   "cell_type": "markdown",
   "id": "5c1b76ac",
   "metadata": {},
   "source": [
    "Igual que hem fet amb la representació BoW, utilitzarem els `DataLoaders` de PyTorch per convertir les dades en vectors Word2Vec en tensors de PyTorch. Aprofitarem el paràmetre `collate_fn` del `DataLoader` per proporcionar una funció que converteixi les dades textuals en tensors Word2Vec."
   ]
  },
  {
   "cell_type": "code",
   "execution_count": 21,
   "id": "5a6c88fb",
   "metadata": {},
   "outputs": [],
   "source": [
    "def w2vify(batch):\n",
    "    etiquetes = torch.LongTensor([noticia[\"label\"] for noticia in batch])\n",
    "    noticies = torch.stack([to_w2v(tokenizer.tokenize(noticia[\"text\"])) for noticia in batch])\n",
    "    return etiquetes, noticies\n",
    "\n",
    "train_loader = DataLoader(ds_train, batch_size=16, collate_fn=w2vify)\n",
    "test_loader = DataLoader(ds_test, batch_size=16, collate_fn=w2vify)"
   ]
  },
  {
   "cell_type": "markdown",
   "id": "3dffc153",
   "metadata": {},
   "source": [
    "### Model de classificació\n",
    "\n",
    "Ara crearem el model de classificació utilitzant PyTorch. Definirem un model senzill amb una capa lineal. La mida del vector d'entrada serà `300` (la mida de la representació Word2Vec) i la mida de la sortida serà el nombre de classes (4). Com que estem resolent una tasca de classificació, la funció d'activació final serà `LogSoftmax()`."
   ]
  },
  {
   "cell_type": "code",
   "execution_count": 22,
   "id": "fd0fd6b4",
   "metadata": {},
   "outputs": [],
   "source": [
    "net = torch.nn.Sequential(\n",
    "    torch.nn.Linear(300, 4),\n",
    "    torch.nn.LogSoftmax(dim=1)\n",
    ")"
   ]
  },
  {
   "cell_type": "markdown",
   "id": "649418d1",
   "metadata": {},
   "source": [
    "Finalment, entrenarem el model utilitzant el mateix procediment que hem fet amb la representació BoW."
   ]
  },
  {
   "cell_type": "code",
   "execution_count": 23,
   "id": "55612930",
   "metadata": {},
   "outputs": [
    {
     "name": "stdout",
     "output_type": "stream",
     "text": [
      "Epoch 0\n",
      "3200: acc=0.7375\n",
      "6400: acc=0.77109375\n",
      "9600: acc=0.7835416666666667\n",
      "12800: acc=0.79390625\n",
      "16000: acc=0.8014375\n",
      "19200: acc=0.80484375\n",
      "22400: acc=0.8094642857142857\n",
      "25600: acc=0.81375\n",
      "28800: acc=0.8157986111111111\n",
      "32000: acc=0.819625\n",
      "35200: acc=0.821875\n",
      "38400: acc=0.8231770833333333\n",
      "41600: acc=0.8246153846153846\n",
      "44800: acc=0.8258705357142857\n",
      "48000: acc=0.8262708333333333\n",
      "51200: acc=0.8261328125\n",
      "54400: acc=0.8265257352941177\n",
      "57600: acc=0.8272743055555556\n",
      "60800: acc=0.8262828947368421\n",
      "64000: acc=0.826078125\n",
      "67200: acc=0.8270833333333333\n",
      "70400: acc=0.827684659090909\n",
      "73600: acc=0.8289130434782609\n",
      "76800: acc=0.8301692708333334\n",
      "80000: acc=0.832925\n",
      "83200: acc=0.8349879807692308\n",
      "86400: acc=0.835625\n",
      "89600: acc=0.8365513392857142\n",
      "92800: acc=0.8374030172413793\n",
      "96000: acc=0.8376979166666667\n",
      "99200: acc=0.8374798387096775\n",
      "102400: acc=0.837607421875\n",
      "105600: acc=0.8384469696969697\n",
      "108800: acc=0.8388602941176471\n",
      "112000: acc=0.8390892857142858\n",
      "115200: acc=0.8398524305555556\n",
      "118400: acc=0.8404138513513514\n",
      "Train loss: 0.054362723795572915, Train acc: 0.84045\n",
      "Epoch 1\n",
      "3200: acc=0.78\n",
      "6400: acc=0.80109375\n",
      "9600: acc=0.8073958333333333\n",
      "12800: acc=0.812265625\n",
      "16000: acc=0.8165\n",
      "19200: acc=0.82046875\n",
      "22400: acc=0.8239285714285715\n",
      "25600: acc=0.8275\n",
      "28800: acc=0.8285763888888888\n",
      "32000: acc=0.831\n",
      "35200: acc=0.8320170454545455\n",
      "38400: acc=0.832578125\n",
      "41600: acc=0.8339182692307693\n",
      "44800: acc=0.83453125\n",
      "48000: acc=0.8346041666666667\n",
      "51200: acc=0.834375\n",
      "54400: acc=0.8338970588235294\n",
      "57600: acc=0.8345659722222222\n",
      "60800: acc=0.8334703947368421\n",
      "64000: acc=0.8328125\n",
      "67200: acc=0.8340327380952381\n",
      "70400: acc=0.8344744318181818\n",
      "73600: acc=0.8351630434782609\n",
      "76800: acc=0.8361588541666667\n",
      "80000: acc=0.838775\n",
      "83200: acc=0.8406009615384615\n",
      "86400: acc=0.8410300925925925\n",
      "89600: acc=0.8415625\n",
      "92800: acc=0.8422306034482758\n",
      "96000: acc=0.84221875\n",
      "99200: acc=0.8421875\n",
      "102400: acc=0.842099609375\n",
      "105600: acc=0.8426704545454545\n",
      "108800: acc=0.8431158088235294\n",
      "112000: acc=0.8432678571428571\n",
      "115200: acc=0.8438194444444445\n",
      "118400: acc=0.8441554054054055\n",
      "Train loss: 0.062616357421875, Train acc: 0.844075\n",
      "Epoch 2\n",
      "3200: acc=0.7821875\n",
      "6400: acc=0.80390625\n",
      "9600: acc=0.8094791666666666\n",
      "12800: acc=0.813984375\n",
      "16000: acc=0.8180625\n",
      "19200: acc=0.8222395833333334\n",
      "22400: acc=0.8254910714285715\n",
      "25600: acc=0.8296484375\n",
      "28800: acc=0.8302430555555556\n",
      "32000: acc=0.8326875\n",
      "35200: acc=0.8334090909090909\n",
      "38400: acc=0.8337760416666666\n",
      "41600: acc=0.8348317307692308\n",
      "44800: acc=0.8354910714285714\n",
      "48000: acc=0.8354583333333333\n",
      "51200: acc=0.835234375\n",
      "54400: acc=0.8347610294117647\n",
      "57600: acc=0.8354166666666667\n",
      "60800: acc=0.8342269736842105\n",
      "64000: acc=0.83365625\n",
      "67200: acc=0.8347470238095238\n",
      "70400: acc=0.8352982954545455\n",
      "73600: acc=0.8360733695652174\n",
      "76800: acc=0.8369921875\n",
      "80000: acc=0.839575\n",
      "83200: acc=0.841454326923077\n",
      "86400: acc=0.8419791666666666\n",
      "89600: acc=0.8424330357142857\n",
      "92800: acc=0.8430064655172413\n",
      "96000: acc=0.84296875\n",
      "99200: acc=0.8428427419354839\n",
      "102400: acc=0.842783203125\n",
      "105600: acc=0.8433996212121212\n",
      "108800: acc=0.8437132352941177\n",
      "112000: acc=0.8438839285714286\n",
      "115200: acc=0.8445399305555555\n",
      "118400: acc=0.8448310810810811\n",
      "Train loss: 0.06292976481119791, Train acc: 0.8447916666666667\n",
      "Epoch 3\n",
      "3200: acc=0.7809375\n",
      "6400: acc=0.80265625\n",
      "9600: acc=0.80875\n",
      "12800: acc=0.813671875\n",
      "16000: acc=0.81775\n",
      "19200: acc=0.8215104166666667\n",
      "22400: acc=0.8245089285714285\n",
      "25600: acc=0.8286328125\n",
      "28800: acc=0.8296527777777778\n",
      "32000: acc=0.83184375\n",
      "35200: acc=0.8327840909090909\n",
      "38400: acc=0.8333333333333334\n",
      "41600: acc=0.8343990384615385\n",
      "44800: acc=0.8351785714285714\n",
      "48000: acc=0.8352291666666667\n",
      "51200: acc=0.834921875\n",
      "54400: acc=0.8345404411764706\n",
      "57600: acc=0.83515625\n",
      "60800: acc=0.8337993421052632\n",
      "64000: acc=0.8333125\n",
      "67200: acc=0.8344047619047619\n",
      "70400: acc=0.835\n",
      "73600: acc=0.8357065217391304\n",
      "76800: acc=0.8366927083333333\n",
      "80000: acc=0.8393375\n",
      "83200: acc=0.8411899038461539\n",
      "86400: acc=0.8418634259259259\n",
      "89600: acc=0.8423102678571428\n",
      "92800: acc=0.8429633620689655\n",
      "96000: acc=0.8429270833333333\n",
      "99200: acc=0.8427721774193548\n",
      "102400: acc=0.842705078125\n",
      "105600: acc=0.8433428030303031\n",
      "108800: acc=0.8437224264705883\n",
      "112000: acc=0.8438392857142857\n",
      "115200: acc=0.8445052083333333\n",
      "118400: acc=0.8448902027027027\n",
      "Train loss: 0.06321288248697916, Train acc: 0.8448416666666667\n",
      "Epoch 4\n",
      "3200: acc=0.7815625\n",
      "6400: acc=0.801875\n",
      "9600: acc=0.8075\n",
      "12800: acc=0.811796875\n",
      "16000: acc=0.8161875\n",
      "19200: acc=0.8199479166666667\n",
      "22400: acc=0.8234375\n",
      "25600: acc=0.8278125\n",
      "28800: acc=0.8285416666666666\n",
      "32000: acc=0.83084375\n",
      "35200: acc=0.8320170454545455\n",
      "38400: acc=0.832578125\n",
      "41600: acc=0.8335817307692308\n",
      "44800: acc=0.8343526785714286\n",
      "48000: acc=0.8343958333333333\n",
      "51200: acc=0.834296875\n",
      "54400: acc=0.8339338235294118\n",
      "57600: acc=0.8344270833333334\n",
      "60800: acc=0.8331414473684211\n",
      "64000: acc=0.83275\n",
      "67200: acc=0.8338392857142857\n",
      "70400: acc=0.8343607954545454\n",
      "73600: acc=0.8351358695652173\n",
      "76800: acc=0.8361328125\n",
      "80000: acc=0.8387875\n",
      "83200: acc=0.8406850961538461\n",
      "86400: acc=0.8413888888888889\n",
      "89600: acc=0.8418861607142857\n",
      "92800: acc=0.8425862068965517\n",
      "96000: acc=0.8426041666666667\n",
      "99200: acc=0.8424798387096775\n",
      "102400: acc=0.84234375\n",
      "105600: acc=0.8429924242424243\n",
      "108800: acc=0.8433639705882353\n",
      "112000: acc=0.8435535714285715\n",
      "115200: acc=0.8441579861111111\n",
      "118400: acc=0.8445777027027027\n",
      "Train loss: 0.06319051106770833, Train acc: 0.8445\n"
     ]
    }
   ],
   "source": [
    "train(net, train_loader, test_loader, device=device, loss_fn=loss_fn, epochs=5)"
   ]
  },
  {
   "cell_type": "code",
   "execution_count": 24,
   "id": "a06e2bff",
   "metadata": {},
   "outputs": [
    {
     "data": {
      "text/plain": [
       "0.8497368421052631"
      ]
     },
     "execution_count": 24,
     "metadata": {},
     "output_type": "execute_result"
    }
   ],
   "source": [
    "validate(net, test_loader)"
   ]
  },
  {
   "cell_type": "markdown",
   "id": "7754f4cd2c374fd4",
   "metadata": {
    "collapsed": false
   },
   "source": [
    "El resultat no es molt bo. Això és perquè el model Word2Vec que hem utilitzat no té les paraules que apareixen en el dataset. Per exemple, si busquem la paraula `covid`, veurem que no apareix en el model.\n",
    "\n",
    "Per solucionar aquest problema hauriem d'utilitzar un model entrenat amb les paraules del dataset o bé utilitzar un model de representació de paraules més gran. Ho farem en el següent exemple."
   ]
  },
  {
   "cell_type": "markdown",
   "id": "d6690873",
   "metadata": {},
   "source": [
    "## Xarxes neuronals recurrents\n",
    "\n",
    "Finalment veurem com utilitzar xarxes neuronals recurrents (RNN) per classificar les notícies. Les RNN són un tipus de xarxes neuronals que permeten processar seqüències de dades. En aquest cas, utilitzarem una RNN per processar les paraules de les notícies.\n",
    "\n",
    "### Dataloaders\n",
    "\n",
    "Haurem de crear un `DataLoader` que carregui les dades en seqüències de paraules. Per fer-ho, utilitzarem la funció `collate_fn` del `DataLoader` i proporcionarem una funció que converteixi les dades textuals en seqüències de paraules. En aquest lloc no transformarem les paraules en vectors Word2Vec, sinó que crearem sequëncies d'índexs de paraules."
   ]
  },
  {
   "cell_type": "code",
   "execution_count": 30,
   "id": "b384bc64",
   "metadata": {},
   "outputs": [],
   "source": [
    "from torch.nn.utils.rnn import pad_sequence\n",
    "\n",
    "def collate_fn(batch):\n",
    "    labels = torch.tensor([item[\"label\"] for item in batch], dtype=torch.long)\n",
    "    texts = [torch.tensor(encode(item[\"text\"])) for item in batch]\n",
    "    texts_padded = pad_sequence(texts, batch_first=True, padding_value=0)\n",
    "    return labels, texts_padded\n",
    "\n",
    "\n",
    "# Creem els DataLoader\n",
    "train_loader = DataLoader(ds_train, batch_size=16, shuffle=True, collate_fn=collate_fn)\n",
    "test_loader = DataLoader(ds_test, batch_size=16, shuffle=False, collate_fn=collate_fn)"
   ]
  },
  {
   "cell_type": "markdown",
   "id": "23bc1008",
   "metadata": {},
   "source": [
    "### Model de classificació\n",
    "\n",
    "Ara crearem el model de classificació utilitzant PyTorch. Definirem un model senzill amb una capa d'entrada amb una capa RNN i una capa de sortida amb tants neurones com categories hi hagi al nostre dataset. Com que estem resolent una tasca de classificació, la funció d'activació final serà `LogSoftmax()`.\n",
    "\n",
    "En aquest cas no podem utilitzar `Sequential` per definir el model, ja que cal gestionar l'estat intern de la RNN. Per això, crearem una nova classe `RNNClassifier` que hereti de `nn.Module` i implementarem el mètode `forward`.\n",
    "\n",
    "Utilitzarem també `nn.Embedding` per convertir els índexs de paraules en embeddings. Aquests embeddings seran els vectors que la RNN processarà."
   ]
  },
  {
   "cell_type": "code",
   "execution_count": 31,
   "id": "1df5f641",
   "metadata": {},
   "outputs": [],
   "source": [
    "import torch.nn as nn\n",
    "\n",
    "class RNNClassifier(torch.nn.Module):\n",
    "    def __init__(self, vocab_size, embed_dim, hidden_dim, num_class):\n",
    "        super().__init__()\n",
    "        # Inicialitzem els atributs del model\n",
    "        # Hidden dim és la dimensió de l'estat ocult de la RNN\n",
    "        self.hidden_dim = hidden_dim\n",
    "        self.embedding = torch.nn.Embedding(vocab_size, embed_dim)\n",
    "        self.rnn = torch.nn.LSTM(embed_dim,hidden_dim,batch_first=True)\n",
    "        self.fc = torch.nn.Linear(hidden_dim, num_class)\n",
    "\n",
    "    def forward(self, x):\n",
    "        x = self.embedding(x)\n",
    "        x,h = self.rnn(x)\n",
    "        return self.fc(x.mean(dim=1))\n",
    "    \n",
    "# Paràmetres del model\n",
    "vocab_size = len(tokenizer.get_vocab())  # Mida del vocabulari\n",
    "embedding_dim = 64  # Dimensió dels embeddings\n",
    "hidden_dim = 32  # Dimensió de l'estat ocult de la LSTM\n",
    "num_class = len(classes)  # Nombre de classes (World, Sports, Business, Sci/Tech)\n",
    "\n",
    "# Creem el model\n",
    "model = RNNClassifier(vocab_size, embedding_dim, hidden_dim, num_class)"
   ]
  },
  {
   "cell_type": "code",
   "execution_count": 32,
   "id": "b3083d9b",
   "metadata": {},
   "outputs": [
    {
     "name": "stdout",
     "output_type": "stream",
     "text": [
      "Epoch 0\n",
      "3200: acc=0.508125\n",
      "6400: acc=0.65078125\n",
      "9600: acc=0.7163541666666666\n",
      "12800: acc=0.750078125\n",
      "16000: acc=0.7735625\n",
      "19200: acc=0.7906770833333333\n",
      "22400: acc=0.8041071428571429\n",
      "25600: acc=0.814453125\n",
      "28800: acc=0.8213541666666667\n",
      "32000: acc=0.82815625\n",
      "35200: acc=0.8335511363636363\n",
      "38400: acc=0.83859375\n",
      "41600: acc=0.8425961538461538\n",
      "44800: acc=0.8465625\n",
      "48000: acc=0.8498541666666667\n",
      "51200: acc=0.85291015625\n",
      "54400: acc=0.8555330882352942\n",
      "57600: acc=0.8583159722222222\n",
      "60800: acc=0.8605756578947369\n",
      "64000: acc=0.86240625\n",
      "67200: acc=0.8638988095238095\n",
      "70400: acc=0.8652130681818182\n",
      "73600: acc=0.8667119565217392\n",
      "76800: acc=0.8684375\n",
      "80000: acc=0.86955\n",
      "83200: acc=0.8711177884615384\n",
      "86400: acc=0.8720138888888889\n",
      "89600: acc=0.8731473214285714\n",
      "92800: acc=0.8742025862068965\n",
      "96000: acc=0.8751875\n",
      "99200: acc=0.87625\n",
      "102400: acc=0.877109375\n",
      "105600: acc=0.8778787878787879\n",
      "108800: acc=0.8786305147058824\n",
      "112000: acc=0.8794375\n",
      "115200: acc=0.8802690972222222\n",
      "118400: acc=0.8808108108108108\n",
      "Train loss: 0.021707326253255207, Train acc: 0.8810916666666667\n",
      "Epoch 1\n",
      "3200: acc=0.9253125\n",
      "6400: acc=0.9275\n",
      "9600: acc=0.9280208333333333\n",
      "12800: acc=0.925390625\n",
      "16000: acc=0.9265\n",
      "19200: acc=0.9269791666666667\n",
      "22400: acc=0.9265178571428572\n",
      "25600: acc=0.925703125\n",
      "28800: acc=0.9249652777777778\n",
      "32000: acc=0.9241875\n",
      "35200: acc=0.9232954545454546\n",
      "38400: acc=0.9231770833333334\n",
      "41600: acc=0.9228365384615385\n",
      "44800: acc=0.921875\n",
      "48000: acc=0.9212708333333334\n",
      "51200: acc=0.92150390625\n",
      "54400: acc=0.9219117647058823\n",
      "57600: acc=0.9219791666666667\n",
      "60800: acc=0.9215953947368422\n",
      "64000: acc=0.92128125\n",
      "67200: acc=0.9211607142857143\n",
      "70400: acc=0.92109375\n",
      "73600: acc=0.9211548913043478\n",
      "76800: acc=0.9210286458333333\n",
      "80000: acc=0.921275\n",
      "83200: acc=0.9210096153846153\n",
      "86400: acc=0.9211921296296296\n",
      "89600: acc=0.9211495535714286\n",
      "92800: acc=0.9210237068965518\n",
      "96000: acc=0.9208541666666666\n",
      "99200: acc=0.9207762096774194\n",
      "102400: acc=0.920703125\n",
      "105600: acc=0.9206534090909091\n",
      "108800: acc=0.9206893382352941\n",
      "112000: acc=0.9206785714285715\n",
      "115200: acc=0.9204947916666667\n",
      "118400: acc=0.9203293918918919\n",
      "Train loss: 0.015122273763020833, Train acc: 0.9203666666666667\n",
      "Epoch 2\n",
      "3200: acc=0.9421875\n",
      "6400: acc=0.94\n",
      "9600: acc=0.9403125\n",
      "12800: acc=0.940078125\n",
      "16000: acc=0.9398125\n",
      "19200: acc=0.9399479166666667\n",
      "22400: acc=0.9378125\n",
      "25600: acc=0.9378125\n",
      "28800: acc=0.9370138888888889\n",
      "32000: acc=0.93621875\n",
      "35200: acc=0.9361363636363637\n",
      "38400: acc=0.9358072916666667\n",
      "41600: acc=0.9357451923076923\n",
      "44800: acc=0.9350669642857142\n",
      "48000: acc=0.9343125\n",
      "51200: acc=0.93345703125\n",
      "54400: acc=0.9328125\n",
      "57600: acc=0.9321527777777778\n",
      "60800: acc=0.9320394736842105\n",
      "64000: acc=0.931796875\n",
      "67200: acc=0.9316071428571429\n",
      "70400: acc=0.9315340909090909\n",
      "73600: acc=0.9314538043478261\n",
      "76800: acc=0.9312760416666667\n",
      "80000: acc=0.9309625\n",
      "83200: acc=0.9309855769230769\n",
      "86400: acc=0.9307523148148148\n",
      "89600: acc=0.9305803571428571\n",
      "92800: acc=0.9302047413793103\n",
      "96000: acc=0.9298958333333334\n",
      "99200: acc=0.9297278225806451\n",
      "102400: acc=0.92953125\n",
      "105600: acc=0.9292329545454545\n",
      "108800: acc=0.928860294117647\n",
      "112000: acc=0.9288660714285715\n",
      "115200: acc=0.9287239583333333\n",
      "118400: acc=0.9286655405405405\n",
      "Train loss: 0.013671846516927084, Train acc: 0.9286083333333334\n",
      "Epoch 3\n",
      "3200: acc=0.943125\n",
      "6400: acc=0.94109375\n",
      "9600: acc=0.9410416666666667\n",
      "12800: acc=0.93984375\n",
      "16000: acc=0.940875\n",
      "19200: acc=0.94\n",
      "22400: acc=0.9392857142857143\n",
      "25600: acc=0.9384765625\n",
      "28800: acc=0.9387152777777777\n",
      "32000: acc=0.9379375\n",
      "35200: acc=0.9376420454545454\n",
      "38400: acc=0.9365104166666667\n",
      "41600: acc=0.9368509615384616\n",
      "44800: acc=0.9367857142857143\n",
      "48000: acc=0.9360833333333334\n",
      "51200: acc=0.9362890625\n",
      "54400: acc=0.9358272058823529\n",
      "57600: acc=0.9353819444444444\n",
      "60800: acc=0.9354769736842106\n",
      "64000: acc=0.935\n",
      "67200: acc=0.9352380952380952\n",
      "70400: acc=0.9349573863636363\n",
      "73600: acc=0.9346739130434782\n",
      "76800: acc=0.9346484375\n",
      "80000: acc=0.9341625\n",
      "83200: acc=0.9339903846153846\n",
      "86400: acc=0.9336689814814815\n",
      "89600: acc=0.9337276785714286\n",
      "92800: acc=0.9336206896551724\n",
      "96000: acc=0.9334583333333333\n",
      "99200: acc=0.9334375\n",
      "102400: acc=0.93333984375\n",
      "105600: acc=0.9332765151515151\n",
      "108800: acc=0.93296875\n",
      "112000: acc=0.9329642857142857\n",
      "115200: acc=0.9329166666666666\n",
      "118400: acc=0.9330067567567567\n",
      "Train loss: 0.012722816975911459, Train acc: 0.9329666666666667\n",
      "Epoch 4\n",
      "3200: acc=0.94375\n",
      "6400: acc=0.9425\n",
      "9600: acc=0.9408333333333333\n",
      "12800: acc=0.940078125\n",
      "16000: acc=0.941125\n",
      "19200: acc=0.9411979166666666\n",
      "22400: acc=0.9423214285714285\n",
      "25600: acc=0.9437890625\n",
      "28800: acc=0.9439583333333333\n",
      "32000: acc=0.9438125\n",
      "35200: acc=0.9427840909090909\n",
      "38400: acc=0.942265625\n",
      "41600: acc=0.9416105769230769\n",
      "44800: acc=0.9409821428571429\n",
      "48000: acc=0.9407916666666667\n",
      "51200: acc=0.94029296875\n",
      "54400: acc=0.9398529411764706\n",
      "57600: acc=0.9392361111111112\n",
      "60800: acc=0.9386842105263158\n",
      "64000: acc=0.9384375\n",
      "67200: acc=0.9383928571428571\n",
      "70400: acc=0.9386363636363636\n",
      "73600: acc=0.9387092391304348\n",
      "76800: acc=0.938515625\n",
      "80000: acc=0.9383875\n",
      "83200: acc=0.9380048076923077\n",
      "86400: acc=0.9378587962962963\n",
      "89600: acc=0.9377901785714285\n",
      "92800: acc=0.9377370689655172\n",
      "96000: acc=0.93740625\n",
      "99200: acc=0.9373387096774194\n",
      "102400: acc=0.93712890625\n",
      "105600: acc=0.9368939393939394\n",
      "108800: acc=0.936672794117647\n",
      "112000: acc=0.9364375\n",
      "115200: acc=0.9362760416666667\n",
      "118400: acc=0.9359121621621621\n",
      "Train loss: 0.012396629842122395, Train acc: 0.9358666666666666\n"
     ]
    }
   ],
   "source": [
    "train(model, train_loader, test_loader, device=device, loss_fn=loss_fn, epochs=5)"
   ]
  },
  {
   "cell_type": "markdown",
   "id": "f881199a",
   "metadata": {},
   "source": [
    "Com podem veure el millor resultat l'obtenim amb la representació en una xarxa neuronal recurrent (LSTM) amb una accuracy de quasi `0.94`, sense tindre que precalcular les representacions de les paraules.\n",
    "\n",
    "Podem destacar que solament hem posat una capa recurrent i una capa lineal, però podríem afegir més capes recurrents, dropout, etc. per millorar el model.\n",
    "\n",
    "Es per aixó que fins l'irrupció dels transformers, les RNN eren les més utilitzades en el processament de llenguatge natural i segueixen sent molt utilitzades en molts casos. De tota manera en la següent pràctica veurem com utilitzar els transformers per aconseguir resultats encara millors."
   ]
  }
 ],
 "metadata": {
  "kernelspec": {
   "display_name": ".venv",
   "language": "python",
   "name": "python3"
  },
  "language_info": {
   "codemirror_mode": {
    "name": "ipython",
    "version": 3
   },
   "file_extension": ".py",
   "mimetype": "text/x-python",
   "name": "python",
   "nbconvert_exporter": "python",
   "pygments_lexer": "ipython3",
   "version": "3.11.10"
  }
 },
 "nbformat": 4,
 "nbformat_minor": 5
}
