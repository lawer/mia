{
 "cells": [
  {
   "cell_type": "markdown",
   "metadata": {},
   "source": [
    "# Classificació d'imatges\n",
    "\n",
    "Hem vist com entrenar una xarxa neuronal per classificar imatges.\n",
    "\n",
    "Ara ho farem amb un conjunt de dades diferent, per veure si el que hem après és aplicable a altres conjunts de dades.\n",
    "\n",
    "El conjunt de dades que farem servir és el [HES-XPLAIN/SportsImageClassification](https://huggingface.co/datasets/HES-XPLAIN/SportsImageClassification) de HuggingFace. Aquest conjunt de dades conté imatges de diferents esports i el nostre objectiu serà classificar-les i comprovar com es comporta la xarxa amb imatges que no ha vist durant l'entrenament.\n",
    "\n",
    "Pots utilitzar qualsevol de les técniques vistes fins ara (xarxes feed forward, xarxes convolucionals, transfer learning, models pre-entrenats, etc.) per aconseguir el millor resultat possible. Has d'intentar aconsseguir una _validation accuracy_ superior al 80%.\n",
    "\n",
    "Si no puguessis aconseguir-ho, pots provar de fer servir la tècnica de _data augmentation_ per veure si això millora els resultats."
   ]
  }
 ],
 "metadata": {
  "kernelspec": {
   "display_name": ".venv",
   "language": "python",
   "name": "python3"
  },
  "language_info": {
   "codemirror_mode": {
    "name": "ipython",
    "version": 3
   },
   "file_extension": ".py",
   "mimetype": "text/x-python",
   "name": "python",
   "nbconvert_exporter": "python",
   "pygments_lexer": "ipython3",
   "version": "3.8.10"
  }
 },
 "nbformat": 4,
 "nbformat_minor": 2
}
